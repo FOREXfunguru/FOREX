{
 "cells": [
  {
   "cell_type": "code",
   "execution_count": 54,
   "metadata": {},
   "outputs": [],
   "source": [
    "import pandas as pd\n",
    "import seaborn as sns\n",
    "import scipy.stats as stats\n",
    "import re\n",
    "\n",
    "%matplotlib inline\n",
    "sns.set(style=\"whitegrid\")"
   ]
  },
  {
   "cell_type": "markdown",
   "metadata": {},
   "source": [
    "This notebook describes an attempt of getting the exit signal for any trade.\n",
    "\n",
    "First things first, read in the .csv into a Pandas dataframe"
   ]
  },
  {
   "cell_type": "code",
   "execution_count": 55,
   "metadata": {},
   "outputs": [
    {
     "name": "stdout",
     "output_type": "stream",
     "text": [
      "Index(['Unnamed: 0', 'start', 'end', 'pair', 'type', 'timeframe', 'outcome',\n",
      "       'high', 'low', 'open', 'close', 'colour', 'merge', 'No_of_0s_high',\n",
      "       'No_of_0s_low', 'No_of_0s_open', 'No_of_0s_close', 'No_of_0s_colour',\n",
      "       'No_of_0s_merge', 'stretch_high', 'stretch_low', 'stretch_open',\n",
      "       'stretch_close', 'stretch_colour', 'ent_high', 'ent_low', 'ent_open',\n",
      "       'ent_close', 'ent_colour', 'No_of_double0_higlow',\n",
      "       'No_of_double0_openclose'],\n",
      "      dtype='object')\n"
     ]
    }
   ],
   "source": [
    "df = pd.read_csv(\"/Users/ernesto/lib/FOREX/tests/data/Trend_momentum_07082017.csv\",sep=',',index_col=False, parse_dates=['start','end'])\n",
    "print(df.columns)"
   ]
  },
  {
   "cell_type": "markdown",
   "metadata": {},
   "source": [
    "# Exploratory analysis of each of the independent variables <a class=\"anchor\" id=\"first-bullet\"></a>\n",
    "\n",
    "The analysis will consider only the trades having >= 2 candles. I will create a new dataframe composed of these trades and having an additional column that will have the length (number of candles of the trade)"
   ]
  },
  {
   "cell_type": "code",
   "execution_count": 56,
   "metadata": {},
   "outputs": [],
   "source": [
    "def get_seq_length(x):\n",
    "    x=re.sub('\\'','',x)\n",
    "    return(len(x))\n",
    "df['length'] = df.high.apply(get_seq_length)\n",
    "filtered_data = df[df.length > 2 ]"
   ]
  },
  {
   "cell_type": "markdown",
   "metadata": {},
   "source": [
    "## Length of the trade"
   ]
  },
  {
   "cell_type": "code",
   "execution_count": 57,
   "metadata": {},
   "outputs": [
    {
     "data": {
      "image/png": "[encoded data removed]",
      "text/plain": [
       "<matplotlib.figure.Figure at 0x11d06b6d8>"
      ]
     },
     "metadata": {},
     "output_type": "display_data"
    }
   ],
   "source": [
    "ax = sns.boxplot(x=\"outcome\", y=\"length\", data=filtered_data)\n",
    "ax = sns.swarmplot(x=\"outcome\", y=\"length\", data=filtered_data, color=\".25\")"
   ]
  },
  {
   "cell_type": "code",
   "execution_count": 58,
   "metadata": {},
   "outputs": [
    {
     "name": "stdout",
     "output_type": "stream",
     "text": [
      "Avg length  for success set: 5.764706\n",
      "Avg length for failure set: 5.176471\n"
     ]
    },
    {
     "data": {
      "text/plain": [
       "Ttest_indResult(statistic=0.60689712903440418, pvalue=0.54831966214722527)"
      ]
     },
     "execution_count": 58,
     "metadata": {},
     "output_type": "execute_result"
    }
   ],
   "source": [
    "#getting the 2 series, one with differences for outcome=True and the other with outcome=False\n",
    "success_length=filtered_data.loc[filtered_data['outcome'] == \"success\",'length']\n",
    "failure_length=filtered_data.loc[filtered_data['outcome'] == \"failure\",'length']\n",
    "\n",
    "print(\"Avg length  for success set: %f\" % success_length.mean())\n",
    "print(\"Avg length for failure set: %f\" % failure_length.mean())\n",
    "\n",
    "#performing paired t-test\n",
    "stats.ttest_ind(a= success_length,b= failure_length,equal_var=False)"
   ]
  },
  {
   "cell_type": "markdown",
   "metadata": {},
   "source": [
    "### Conclusion\n",
    "These 2 variables (length,outcome) are not associated"
   ]
  },
  {
   "cell_type": "markdown",
   "metadata": {},
   "source": [
    "## Number of 0s\n",
    "### High"
   ]
  },
  {
   "cell_type": "code",
   "execution_count": 59,
   "metadata": {},
   "outputs": [
    {
     "data": {
      "image/png": "[encoded data removed]",
      "text/plain": [
       "<matplotlib.figure.Figure at 0x11cb09630>"
      ]
     },
     "metadata": {},
     "output_type": "display_data"
    }
   ],
   "source": [
    "ax = sns.boxplot(x=\"outcome\", y=\"No_of_0s_high\", data=filtered_data)\n",
    "ax = sns.swarmplot(x=\"outcome\", y=\"No_of_0s_high\", data=filtered_data, color=\".25\")"
   ]
  },
  {
   "cell_type": "code",
   "execution_count": 60,
   "metadata": {},
   "outputs": [
    {
     "name": "stdout",
     "output_type": "stream",
     "text": [
      "Avg number of 0s for success set: 0.199725\n",
      "Avg number of 0s for failure set: 0.641783\n"
     ]
    },
    {
     "data": {
      "text/plain": [
       "Ttest_indResult(statistic=-7.0744333419875476, pvalue=5.7841451342861e-08)"
      ]
     },
     "execution_count": 60,
     "metadata": {},
     "output_type": "execute_result"
    }
   ],
   "source": [
    "#getting the 2 series, one with differences for outcome=True and the other with outcome=False\n",
    "success_high=filtered_data.loc[filtered_data['outcome'] == \"success\",'No_of_0s_high']\n",
    "failure_high=filtered_data.loc[filtered_data['outcome'] == \"failure\",'No_of_0s_high']\n",
    "\n",
    "print(\"Avg number of 0s for success set: %f\" % success_high.mean())\n",
    "print(\"Avg number of 0s for failure set: %f\" % failure_high.mean())\n",
    "\n",
    "#performing paired t-test\n",
    "stats.ttest_ind(a= success_high,b= failure_high,equal_var=False)"
   ]
  },
  {
   "cell_type": "markdown",
   "metadata": {},
   "source": [
    "### Low"
   ]
  },
  {
   "cell_type": "code",
   "execution_count": 61,
   "metadata": {},
   "outputs": [
    {
     "data": {
      "image/png": "[encoded data removed]",
      "text/plain": [
       "<matplotlib.figure.Figure at 0x11d35a550>"
      ]
     },
     "metadata": {},
     "output_type": "display_data"
    }
   ],
   "source": [
    "ax = sns.boxplot(x=\"outcome\", y=\"No_of_0s_low\", data=filtered_data)\n",
    "ax = sns.swarmplot(x=\"outcome\", y=\"No_of_0s_low\", data=filtered_data, color=\".25\")"
   ]
  },
  {
   "cell_type": "code",
   "execution_count": 62,
   "metadata": {},
   "outputs": [
    {
     "name": "stdout",
     "output_type": "stream",
     "text": [
      "Avg number of 0s for success set: 0.204627\n",
      "Avg number of 0s for failure set: 0.595145\n"
     ]
    },
    {
     "data": {
      "text/plain": [
       "Ttest_indResult(statistic=-5.5571638221366246, pvalue=6.3632657403852792e-06)"
      ]
     },
     "execution_count": 62,
     "metadata": {},
     "output_type": "execute_result"
    }
   ],
   "source": [
    "#getting the 2 series, one with differences for outcome=True and the other with outcome=False\n",
    "success_low=filtered_data.loc[filtered_data['outcome'] == \"success\",'No_of_0s_low']\n",
    "failure_low=filtered_data.loc[filtered_data['outcome'] == \"failure\",'No_of_0s_low']\n",
    "\n",
    "print(\"Avg number of 0s for success set: %f\" % success_low.mean())\n",
    "print(\"Avg number of 0s for failure set: %f\" % failure_low.mean())\n",
    "\n",
    "#performing paired t-test\n",
    "stats.ttest_ind(a= success_low,b= failure_low,equal_var=False)"
   ]
  },
  {
   "cell_type": "markdown",
   "metadata": {},
   "source": [
    "### Open"
   ]
  },
  {
   "cell_type": "code",
   "execution_count": 63,
   "metadata": {},
   "outputs": [
    {
     "data": {
      "image/png": "[encoded data removed]",
      "text/plain": [
       "<matplotlib.figure.Figure at 0x11d453668>"
      ]
     },
     "metadata": {},
     "output_type": "display_data"
    }
   ],
   "source": [
    "ax = sns.boxplot(x=\"outcome\", y=\"No_of_0s_open\", data=filtered_data)\n",
    "ax = sns.swarmplot(x=\"outcome\", y=\"No_of_0s_open\", data=filtered_data, color=\".25\")"
   ]
  },
  {
   "cell_type": "code",
   "execution_count": 64,
   "metadata": {},
   "outputs": [
    {
     "name": "stdout",
     "output_type": "stream",
     "text": [
      "Avg number of 0s for success set: 0.248519\n",
      "Avg number of 0s for failure set: 0.559430\n"
     ]
    },
    {
     "data": {
      "text/plain": [
       "Ttest_indResult(statistic=-5.9999530606876723, pvalue=1.0880021601982171e-06)"
      ]
     },
     "execution_count": 64,
     "metadata": {},
     "output_type": "execute_result"
    }
   ],
   "source": [
    "#getting the 2 series, one with differences for outcome=True and the other with outcome=False\n",
    "success_open=filtered_data.loc[filtered_data['outcome'] == \"success\",'No_of_0s_open']\n",
    "failure_open=filtered_data.loc[filtered_data['outcome'] == \"failure\",'No_of_0s_open']\n",
    "\n",
    "print(\"Avg number of 0s for success set: %f\" % success_open.mean())\n",
    "print(\"Avg number of 0s for failure set: %f\" % failure_open.mean())\n",
    "\n",
    "#performing paired t-test\n",
    "stats.ttest_ind(a= success_open,b= failure_open,equal_var=False)"
   ]
  },
  {
   "cell_type": "markdown",
   "metadata": {},
   "source": [
    "### Close"
   ]
  },
  {
   "cell_type": "code",
   "execution_count": 65,
   "metadata": {},
   "outputs": [
    {
     "data": {
      "image/png": "[encoded data removed]",
      "text/plain": [
       "<matplotlib.figure.Figure at 0x11d45fcf8>"
      ]
     },
     "metadata": {},
     "output_type": "display_data"
    }
   ],
   "source": [
    "ax = sns.boxplot(x=\"outcome\", y=\"No_of_0s_close\", data=filtered_data)\n",
    "ax = sns.swarmplot(x=\"outcome\", y=\"No_of_0s_close\", data=filtered_data, color=\".25\")"
   ]
  },
  {
   "cell_type": "code",
   "execution_count": 66,
   "metadata": {},
   "outputs": [
    {
     "name": "stdout",
     "output_type": "stream",
     "text": [
      "Avg number of 0s for success set: 0.200549\n",
      "Avg number of 0s for failure set: 0.651261\n"
     ]
    },
    {
     "data": {
      "text/plain": [
       "Ttest_indResult(statistic=-7.8856763443561784, pvalue=9.4356780617313848e-09)"
      ]
     },
     "execution_count": 66,
     "metadata": {},
     "output_type": "execute_result"
    }
   ],
   "source": [
    "#getting the 2 series, one with differences for outcome=True and the other with outcome=False\n",
    "success_close=filtered_data.loc[filtered_data['outcome'] == \"success\",'No_of_0s_close']\n",
    "failure_close=filtered_data.loc[filtered_data['outcome'] == \"failure\",'No_of_0s_close']\n",
    "\n",
    "print(\"Avg number of 0s for success set: %f\" % success_close.mean())\n",
    "print(\"Avg number of 0s for failure set: %f\" % failure_close.mean())\n",
    "\n",
    "#performing paired t-test\n",
    "stats.ttest_ind(a= success_close,b= failure_close,equal_var=False)"
   ]
  },
  {
   "cell_type": "markdown",
   "metadata": {},
   "source": [
    "### Colour"
   ]
  },
  {
   "cell_type": "code",
   "execution_count": 67,
   "metadata": {},
   "outputs": [
    {
     "data": {
      "image/png": "[encoded data removed]",
      "text/plain": [
       "<matplotlib.figure.Figure at 0x11aad46a0>"
      ]
     },
     "metadata": {},
     "output_type": "display_data"
    }
   ],
   "source": [
    "ax = sns.boxplot(x=\"outcome\", y=\"No_of_0s_colour\", data=filtered_data)\n",
    "ax = sns.swarmplot(x=\"outcome\", y=\"No_of_0s_colour\", data=filtered_data, color=\".25\")"
   ]
  },
  {
   "cell_type": "code",
   "execution_count": 68,
   "metadata": {},
   "outputs": [
    {
     "name": "stdout",
     "output_type": "stream",
     "text": [
      "Avg number of 0s for success set: 0.233615\n",
      "Avg number of 0s for failure set: 0.587066\n"
     ]
    },
    {
     "data": {
      "text/plain": [
       "Ttest_indResult(statistic=-7.2087283258401946, pvalue=5.0099207991078001e-08)"
      ]
     },
     "execution_count": 68,
     "metadata": {},
     "output_type": "execute_result"
    }
   ],
   "source": [
    "succes_coulour=0\n",
    "failure_colour=0\n",
    "\n",
    "#getting the 2 series, one with differences for outcome=True and the other with outcome=False\n",
    "success_colour=filtered_data.loc[filtered_data['outcome'] == \"success\",'No_of_0s_colour']\n",
    "failure_colour=filtered_data.loc[filtered_data['outcome'] == \"failure\",'No_of_0s_colour']\n",
    "\n",
    "print(\"Avg number of 0s for success set: %f\" % success_colour.mean())\n",
    "print(\"Avg number of 0s for failure set: %f\" % failure_colour.mean())\n",
    "\n",
    "#performing paired t-test\n",
    "stats.ttest_ind(a= success_colour,b= failure_colour,equal_var=False)"
   ]
  },
  {
   "cell_type": "markdown",
   "metadata": {},
   "source": [
    "### Merge"
   ]
  },
  {
   "cell_type": "code",
   "execution_count": 69,
   "metadata": {},
   "outputs": [
    {
     "data": {
      "image/png": "[encoded data removed]",
      "text/plain": [
       "<matplotlib.figure.Figure at 0x11cd00978>"
      ]
     },
     "metadata": {},
     "output_type": "display_data"
    }
   ],
   "source": [
    "ax = sns.boxplot(x=\"outcome\", y=\"No_of_0s_merge\", data=filtered_data)\n",
    "ax = sns.swarmplot(x=\"outcome\", y=\"No_of_0s_merge\", data=filtered_data, color=\".25\")"
   ]
  },
  {
   "cell_type": "code",
   "execution_count": 70,
   "metadata": {},
   "outputs": [
    {
     "name": "stdout",
     "output_type": "stream",
     "text": [
      "Avg number of 0s for success set: 0.218495\n",
      "Avg number of 0s for failure set: 0.606138\n"
     ]
    },
    {
     "data": {
      "text/plain": [
       "Ttest_indResult(statistic=-8.8711136890648028, pvalue=3.9521055929287109e-10)"
      ]
     },
     "execution_count": 70,
     "metadata": {},
     "output_type": "execute_result"
    }
   ],
   "source": [
    "succes_merge=0\n",
    "failure_merge=0\n",
    "\n",
    "#getting the 2 series, one with differences for outcome=True and the other with outcome=False\n",
    "success_merge=filtered_data.loc[filtered_data['outcome'] == \"success\",'No_of_0s_merge']\n",
    "failure_merge=filtered_data.loc[filtered_data['outcome'] == \"failure\",'No_of_0s_merge']\n",
    "\n",
    "print(\"Avg number of 0s for success set: %f\" % success_merge.mean())\n",
    "print(\"Avg number of 0s for failure set: %f\" % failure_merge.mean())\n",
    "\n",
    "#performing paired t-test\n",
    "stats.ttest_ind(a= success_merge,b= failure_merge,equal_var=False)"
   ]
  },
  {
   "cell_type": "markdown",
   "metadata": {},
   "source": [
    "## double0s\n",
    "### high_low"
   ]
  },
  {
   "cell_type": "code",
   "execution_count": 71,
   "metadata": {},
   "outputs": [
    {
     "data": {
      "image/png": "[encoded data removed]",
      "text/plain": [
       "<matplotlib.figure.Figure at 0x11cc81f60>"
      ]
     },
     "metadata": {},
     "output_type": "display_data"
    }
   ],
   "source": [
    "ax = sns.boxplot(x=\"outcome\", y=\"No_of_double0_higlow\", data=filtered_data)\n",
    "ax = sns.swarmplot(x=\"outcome\", y=\"No_of_double0_higlow\", data=filtered_data, color=\".25\")"
   ]
  },
  {
   "cell_type": "code",
   "execution_count": 72,
   "metadata": {},
   "outputs": [
    {
     "name": "stdout",
     "output_type": "stream",
     "text": [
      "Avg number of double 0s for success set: 0.084723\n",
      "Avg number of double 0s for failure set: 0.488375\n"
     ]
    },
    {
     "data": {
      "text/plain": [
       "Ttest_indResult(statistic=-7.4641975115946364, pvalue=1.9467672322874497e-07)"
      ]
     },
     "execution_count": 72,
     "metadata": {},
     "output_type": "execute_result"
    }
   ],
   "source": [
    "#getting the 2 series, one with differences for outcome=True and the other with outcome=False\n",
    "success_highlow=filtered_data.loc[filtered_data['outcome'] == \"success\",'No_of_double0_higlow']\n",
    "failure_highlow=filtered_data.loc[filtered_data['outcome'] == \"failure\",'No_of_double0_higlow']\n",
    "\n",
    "print(\"Avg number of double 0s for success set: %f\" % success_highlow.mean())\n",
    "print(\"Avg number of double 0s for failure set: %f\" % failure_highlow.mean())\n",
    "\n",
    "#performing paired t-test\n",
    "stats.ttest_ind(a= success_highlow,b= failure_highlow,equal_var=False)"
   ]
  },
  {
   "cell_type": "markdown",
   "metadata": {},
   "source": [
    "### openclose"
   ]
  },
  {
   "cell_type": "code",
   "execution_count": 73,
   "metadata": {},
   "outputs": [
    {
     "data": {
      "image/png": "[encoded data removed]",
      "text/plain": [
       "<matplotlib.figure.Figure at 0x11cb04278>"
      ]
     },
     "metadata": {},
     "output_type": "display_data"
    }
   ],
   "source": [
    "ax = sns.boxplot(x=\"outcome\", y=\"No_of_double0_openclose\", data=filtered_data)\n",
    "ax = sns.swarmplot(x=\"outcome\", y=\"No_of_double0_openclose\", data=filtered_data, color=\".25\")"
   ]
  },
  {
   "cell_type": "code",
   "execution_count": 74,
   "metadata": {},
   "outputs": [
    {
     "name": "stdout",
     "output_type": "stream",
     "text": [
      "Avg number of double 0s for success set: 0.046639\n",
      "Avg number of double 0s for failure set: 0.291317\n"
     ]
    },
    {
     "data": {
      "text/plain": [
       "Ttest_indResult(statistic=-5.3194636044324142, pvalue=2.3321849478351925e-05)"
      ]
     },
     "execution_count": 74,
     "metadata": {},
     "output_type": "execute_result"
    }
   ],
   "source": [
    "#getting the 2 series, one with differences for outcome=True and the other with outcome=False\n",
    "success_openclose=filtered_data.loc[filtered_data['outcome'] == \"success\",'No_of_double0_openclose']\n",
    "failure_openclose=filtered_data.loc[filtered_data['outcome'] == \"failure\",'No_of_double0_openclose']\n",
    "\n",
    "print(\"Avg number of double 0s for success set: %f\" % success_openclose.mean())\n",
    "print(\"Avg number of double 0s for failure set: %f\" % failure_openclose.mean())\n",
    "\n",
    "#performing paired t-test\n",
    "stats.ttest_ind(a= success_openclose,b= failure_openclose,equal_var=False)"
   ]
  },
  {
   "cell_type": "markdown",
   "metadata": {},
   "source": [
    "## Stretch\n",
    "### high"
   ]
  },
  {
   "cell_type": "code",
   "execution_count": 75,
   "metadata": {},
   "outputs": [
    {
     "name": "stdout",
     "output_type": "stream",
     "text": [
      "Avg stretch of 0s for success set: 0.294118\n",
      "Avg stretch of 0s for failure set: 1.941176\n"
     ]
    },
    {
     "data": {
      "text/plain": [
       "Ttest_indResult(statistic=-3.8236169551939456, pvalue=0.00079034021521286538)"
      ]
     },
     "execution_count": 75,
     "metadata": {},
     "output_type": "execute_result"
    }
   ],
   "source": [
    "#getting the 2 series, one with differences for outcome=True and the other with outcome=False\n",
    "success_stretch_high=filtered_data.loc[filtered_data['outcome'] == \"success\",'stretch_high']\n",
    "failure_stretch_high=filtered_data.loc[filtered_data['outcome'] == \"failure\",'stretch_high']\n",
    "\n",
    "print(\"Avg stretch of 0s for success set: %f\" % success_stretch_high.mean())\n",
    "print(\"Avg stretch of 0s for failure set: %f\" % failure_stretch_high.mean())\n",
    "\n",
    "#performing paired t-test\n",
    "stats.ttest_ind(a=success_stretch_high,b=failure_stretch_high,equal_var=False)"
   ]
  },
  {
   "cell_type": "markdown",
   "metadata": {},
   "source": [
    "### low"
   ]
  },
  {
   "cell_type": "code",
   "execution_count": 76,
   "metadata": {},
   "outputs": [
    {
     "name": "stdout",
     "output_type": "stream",
     "text": [
      "Avg stretch of 0s for success set: 0.529412\n",
      "Avg stretch of 0s for failure set: 2.117647\n"
     ]
    },
    {
     "data": {
      "text/plain": [
       "Ttest_indResult(statistic=-3.2742309379904957, pvalue=0.0030196056820904972)"
      ]
     },
     "execution_count": 76,
     "metadata": {},
     "output_type": "execute_result"
    }
   ],
   "source": [
    "#getting the 2 series, one with differences for outcome=True and the other with outcome=False\n",
    "success_stretch_low=filtered_data.loc[filtered_data['outcome'] == \"success\",'stretch_low']\n",
    "failure_stretch_low=filtered_data.loc[filtered_data['outcome'] == \"failure\",'stretch_low']\n",
    "\n",
    "print(\"Avg stretch of 0s for success set: %f\" % success_stretch_low.mean())\n",
    "print(\"Avg stretch of 0s for failure set: %f\" % failure_stretch_low.mean())\n",
    "\n",
    "#performing paired t-test\n",
    "stats.ttest_ind(a=success_stretch_low,b=failure_stretch_low,equal_var=False)"
   ]
  },
  {
   "cell_type": "markdown",
   "metadata": {},
   "source": [
    "### open"
   ]
  },
  {
   "cell_type": "code",
   "execution_count": 77,
   "metadata": {},
   "outputs": [
    {
     "name": "stdout",
     "output_type": "stream",
     "text": [
      "Avg stretch of 0s for success set: 0.470588\n",
      "Avg stretch of 0s for failure set: 1.529412\n"
     ]
    },
    {
     "data": {
      "text/plain": [
       "Ttest_indResult(statistic=-3.1634983811789756, pvalue=0.0034938194545846121)"
      ]
     },
     "execution_count": 77,
     "metadata": {},
     "output_type": "execute_result"
    }
   ],
   "source": [
    "#getting the 2 series, one with differences for outcome=True and the other with outcome=False\n",
    "success_stretch_open=filtered_data.loc[filtered_data['outcome'] == \"success\",'stretch_open']\n",
    "failure_stretch_open=filtered_data.loc[filtered_data['outcome'] == \"failure\",'stretch_open']\n",
    "\n",
    "print(\"Avg stretch of 0s for success set: %f\" % success_stretch_open.mean())\n",
    "print(\"Avg stretch of 0s for failure set: %f\" % failure_stretch_open.mean())\n",
    "\n",
    "#performing paired t-test\n",
    "stats.ttest_ind(a=success_stretch_open,b=failure_stretch_open,equal_var=False)"
   ]
  },
  {
   "cell_type": "markdown",
   "metadata": {},
   "source": [
    "### close"
   ]
  },
  {
   "cell_type": "code",
   "execution_count": 78,
   "metadata": {},
   "outputs": [
    {
     "name": "stdout",
     "output_type": "stream",
     "text": [
      "Avg stretch of 0s for success set: 0.588235\n",
      "Avg stretch of 0s for failure set: 2.117647\n"
     ]
    },
    {
     "data": {
      "text/plain": [
       "Ttest_indResult(statistic=-4.7768782066161037, pvalue=3.7980416365972779e-05)"
      ]
     },
     "execution_count": 78,
     "metadata": {},
     "output_type": "execute_result"
    }
   ],
   "source": [
    "#getting the 2 series, one with differences for outcome=True and the other with outcome=False\n",
    "success_stretch_close=filtered_data.loc[filtered_data['outcome'] == \"success\",'stretch_close']\n",
    "failure_stretch_close=filtered_data.loc[filtered_data['outcome'] == \"failure\",'stretch_close']\n",
    "\n",
    "print(\"Avg stretch of 0s for success set: %f\" % success_stretch_close.mean())\n",
    "print(\"Avg stretch of 0s for failure set: %f\" % failure_stretch_close.mean())\n",
    "\n",
    "#performing paired t-test\n",
    "stats.ttest_ind(a=success_stretch_close,b=failure_stretch_close,equal_var=False)"
   ]
  },
  {
   "cell_type": "markdown",
   "metadata": {},
   "source": [
    "### colour"
   ]
  },
  {
   "cell_type": "code",
   "execution_count": 79,
   "metadata": {},
   "outputs": [
    {
     "name": "stdout",
     "output_type": "stream",
     "text": [
      "Avg stretch of 0s for success set: 0.470588\n",
      "Avg stretch of 0s for failure set: 2.117647\n"
     ]
    },
    {
     "data": {
      "text/plain": [
       "Ttest_indResult(statistic=-5.327296734530333, pvalue=7.7427050733183892e-06)"
      ]
     },
     "execution_count": 79,
     "metadata": {},
     "output_type": "execute_result"
    }
   ],
   "source": [
    "#getting the 2 series, one with differences for outcome=True and the other with outcome=False\n",
    "success_stretch_colour=filtered_data.loc[filtered_data['outcome'] == \"success\",'stretch_colour']\n",
    "failure_stretch_colour=filtered_data.loc[filtered_data['outcome'] == \"failure\",'stretch_colour']\n",
    "\n",
    "print(\"Avg stretch of 0s for success set: %f\" % success_stretch_colour.mean())\n",
    "print(\"Avg stretch of 0s for failure set: %f\" % failure_stretch_colour.mean())\n",
    "\n",
    "#performing paired t-test\n",
    "stats.ttest_ind(a=success_stretch_colour,b=failure_stretch_colour,equal_var=False)"
   ]
  }
 ],
 "metadata": {
  "kernelspec": {
   "display_name": "Python 3",
   "language": "python",
   "name": "python3"
  },
  "language_info": {
   "codemirror_mode": {
    "name": "ipython",
    "version": 3
   },
   "file_extension": ".py",
   "mimetype": "text/x-python",
   "name": "python",
   "nbconvert_exporter": "python",
   "pygments_lexer": "ipython3",
   "version": "3.5.3"
  },
  "toc": {
   "nav_menu": {},
   "number_sections": true,
   "sideBar": true,
   "skip_h1_title": false,
   "title_cell": "Table of Contents",
   "title_sidebar": "Contents",
   "toc_cell": false,
   "toc_position": {},
   "toc_section_display": true,
   "toc_window_display": false
  }
 },
 "nbformat": 4,
 "nbformat_minor": 1
}
