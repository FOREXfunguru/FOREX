{
 "cells": [
  {
   "cell_type": "code",
   "execution_count": 52,
   "metadata": {},
   "outputs": [],
   "source": [
    "import pandas as pd\n",
    "import numpy as np\n",
    "import matplotlib.pyplot as plt\n",
    "import seaborn as sns\n",
    "sns.set(style=\"whitegrid\", color_codes=True)\n",
    "\n",
    "%matplotlib inline"
   ]
  },
  {
   "cell_type": "markdown",
   "metadata": {},
   "source": [
    "First, let's read the .csv file into a dataframe"
   ]
  },
  {
   "cell_type": "code",
   "execution_count": 53,
   "metadata": {},
   "outputs": [],
   "source": [
    "df = pd.read_csv(\"/Users/ernesto/lib/FOREX/tests/data/Trading_journal_07082017.csv\",sep=',',index_col=False,header=1)"
   ]
  },
  {
   "cell_type": "markdown",
   "metadata": {},
   "source": [
    "Now, we create a new binary variable that will be =1 if IC was in oversold/overbought are considering overbought >=65 and\n",
    "oversold <=35"
   ]
  },
  {
   "cell_type": "code",
   "execution_count": 54,
   "metadata": {},
   "outputs": [],
   "source": [
    "over=[]\n",
    "for index, row in df.iterrows():\n",
    "    if (row['RSI (timeframe)']>=70) or (row['RSI (timeframe)'] <=30):\n",
    "        over.append(1)\n",
    "    else:\n",
    "        over.append(0)\n",
    "\n",
    "df['over']=over"
   ]
  },
  {
   "cell_type": "markdown",
   "metadata": {},
   "source": [
    "# Reversal trades\n",
    "Now, we extract the trades that were against the dominant trade"
   ]
  },
  {
   "cell_type": "code",
   "execution_count": 55,
   "metadata": {},
   "outputs": [],
   "source": [
    "counter_market=df.loc[((df['Type'] == \"bullish\") & (df['market type'] == \"down\"))| ((df['Type'] == 'bearish') & (df['market type'] == \"up\"))]"
   ]
  },
  {
   "cell_type": "markdown",
   "metadata": {},
   "source": [
    "Let's examine the distribution of the outcome variable versus the RSI"
   ]
  },
  {
   "cell_type": "code",
   "execution_count": 56,
   "metadata": {},
   "outputs": [
    {
     "data": {
      "image/png": "[encoded data removed]",
      "text/plain": [
       "<matplotlib.figure.Figure at 0x11d819a20>"
      ]
     },
     "metadata": {},
     "output_type": "display_data"
    }
   ],
   "source": [
    "sns.stripplot(x=\"outcome\", y=\"RSI (timeframe)\", data=counter_market,jitter=True);"
   ]
  },
  {
   "cell_type": "markdown",
   "metadata": {},
   "source": [
    "And now we select the successful and failure trades:"
   ]
  },
  {
   "cell_type": "code",
   "execution_count": 57,
   "metadata": {},
   "outputs": [],
   "source": [
    "success_ctmarket=counter_market.loc[counter_market['outcome']==\"success\"]\n",
    "failure_ctmarket=counter_market.loc[counter_market['outcome']==\"failure\"]"
   ]
  },
  {
   "cell_type": "markdown",
   "metadata": {},
   "source": [
    "And now we calculate the avg number of trades in oversold/overbought that were succesful or failure"
   ]
  },
  {
   "cell_type": "code",
   "execution_count": 58,
   "metadata": {},
   "outputs": [
    {
     "name": "stdout",
     "output_type": "stream",
     "text": [
      "Succesful: 0.4444444444444444. Len: 18\n",
      "Failure: 0.3448275862068966. Len: 29\n"
     ]
    }
   ],
   "source": [
    "print(\"Succesful: {0}. Len: {1}\".format(success_ctmarket['over'].mean(),len(success_ctmarket['over'])))\n",
    "print(\"Failure: {0}. Len: {1}\".format(failure_ctmarket['over'].mean(),len(failure_ctmarket['over'])))"
   ]
  },
  {
   "cell_type": "markdown",
   "metadata": {},
   "source": [
    "# Continuation trades\n",
    "Now, we extract the trades that were with the dominant trade"
   ]
  },
  {
   "cell_type": "code",
   "execution_count": 59,
   "metadata": {},
   "outputs": [],
   "source": [
    "cont_market=df.loc[((df['Type'] == \"bullish\") & (df['market type'] == \"up\"))| ((df['Type'] == 'bearish') & (df['market type'] == \"down\"))]\n",
    "#print(cont_market[['Type','market type','over','outcome']])\n",
    "success_contmarket=cont_market.loc[cont_market['outcome']==\"success\"]\n",
    "#print(success_contmarket[['Type','market type','over','outcome']])\n",
    "failure_contmarket=cont_market.loc[cont_market['outcome']==\"failure\"]\n"
   ]
  },
  {
   "cell_type": "markdown",
   "metadata": {},
   "source": [
    "And now we calculate the avg number of trades in oversold/overbought that were succesful or failure"
   ]
  },
  {
   "cell_type": "markdown",
   "metadata": {},
   "source": [
    "Let's examine the distribution of the outcome variable versus the RSI"
   ]
  },
  {
   "cell_type": "code",
   "execution_count": 60,
   "metadata": {},
   "outputs": [
    {
     "data": {
      "image/png": "[encoded data removed]",
      "text/plain": [
       "<matplotlib.figure.Figure at 0x11d79c630>"
      ]
     },
     "metadata": {},
     "output_type": "display_data"
    }
   ],
   "source": [
    "sns.stripplot(x=\"outcome\", y=\"RSI (timeframe)\", data=cont_market,jitter=True);"
   ]
  },
  {
   "cell_type": "code",
   "execution_count": 61,
   "metadata": {},
   "outputs": [
    {
     "name": "stdout",
     "output_type": "stream",
     "text": [
      "Succesful: 0.2. Len: 15\n",
      "Failure: 0.15789473684210525. Len: 19\n"
     ]
    }
   ],
   "source": [
    "print(\"Succesful: {0}. Len: {1}\".format(success_contmarket['over'].mean(),len(success_contmarket['over'])))\n",
    "print(\"Failure: {0}. Len: {1}\".format(failure_contmarket['over'].mean(),len(failure_contmarket['over'])))"
   ]
  }
 ],
 "metadata": {
  "kernelspec": {
   "display_name": "Python 3",
   "language": "python",
   "name": "python3"
  },
  "language_info": {
   "codemirror_mode": {
    "name": "ipython",
    "version": 3
   },
   "file_extension": ".py",
   "mimetype": "text/x-python",
   "name": "python",
   "nbconvert_exporter": "python",
   "pygments_lexer": "ipython3",
   "version": "3.5.3"
  },
  "toc": {
   "nav_menu": {},
   "number_sections": true,
   "sideBar": true,
   "skip_h1_title": false,
   "title_cell": "Table of Contents",
   "title_sidebar": "Contents",
   "toc_cell": false,
   "toc_position": {},
   "toc_section_display": true,
   "toc_window_display": false
  }
 },
 "nbformat": 4,
 "nbformat_minor": 2
}
