{
 "cells": [
  {
   "cell_type": "code",
   "execution_count": 1,
   "metadata": {},
   "outputs": [
    {
     "name": "stderr",
     "output_type": "stream",
     "text": [
      "/Users/ernesto/PycharmProjects/FOREX/src/segmentlist.py:164: FutureWarning: Using a non-tuple sequence for multidimensional indexing is deprecated; use `arr[tuple(seq)]` instead of `arr[seq]`. In the future this will be interpreted as an array index, `arr[np.array(seq)]`, which will result either in an error or a different result.\n",
      "  plt.scatter(xarr[[ix_start]], yarr[[ix_start]], color='g')\n",
      "/Users/ernesto/PycharmProjects/FOREX/src/segmentlist.py:165: FutureWarning: Using a non-tuple sequence for multidimensional indexing is deprecated; use `arr[tuple(seq)]` instead of `arr[seq]`. In the future this will be interpreted as an array index, `arr[np.array(seq)]`, which will result either in an error or a different result.\n",
      "  plt.scatter(xarr[[ix_end]], yarr[[ix_end]], color='r')\n",
      "/Users/ernesto/PycharmProjects/FOREX/src/segmentlist.py:170: FutureWarning: Using a non-tuple sequence for multidimensional indexing is deprecated; use `arr[tuple(seq)]` instead of `arr[seq]`. In the future this will be interpreted as an array index, `arr[np.array(seq)]`, which will result either in an error or a different result.\n",
      "  plt.plot(xarr[[fixs]], yarr[[fixs]], 'k-')\n"
     ]
    }
   ],
   "source": [
    "from oanda_api import OandaAPI\n",
    "from candlelist import CandleList\n",
    "\n",
    "oanda = OandaAPI(url='https://api-fxtrade.oanda.com/v1/candles?',\n",
    "                     instrument='EUR_NZD',\n",
    "                     granularity='D',\n",
    "                     alignmentTimezone='Europe/London',\n",
    "                     dailyAlignment=22)\n",
    "\n",
    "oanda.run(start='2014-11-26T22:00:00',\n",
    "              end='2015-09-21T22:00:00',\n",
    "              roll=True)\n",
    "\n",
    "candle_list2 = oanda.fetch_candleset()\n",
    "\n",
    "cl2 = CandleList(candle_list2, instrument='EUR_NZD', type='long')\n",
    "\n",
    "pl2 = cl2.get_pivotlist(outfile='cl2_0_02_a.png', th_up=0.02, th_down=-0.02)\n",
    "\n",
    "slist2 = pl2.slist\n",
    "\n",
    "mslist2=slist2.merge_segments(min_n_candles=20, diff_in_pips=1000000, outfile=\"caca1.png\")"
   ]
  },
  {
   "cell_type": "code",
   "execution_count": null,
   "metadata": {},
   "outputs": [],
   "source": []
  }
 ],
 "metadata": {
  "kernelspec": {
   "display_name": "Python 3",
   "language": "python",
   "name": "python3"
  },
  "language_info": {
   "codemirror_mode": {
    "name": "ipython",
    "version": 3
   },
   "file_extension": ".py",
   "mimetype": "text/x-python",
   "name": "python",
   "nbconvert_exporter": "python",
   "pygments_lexer": "ipython3",
   "version": "3.7.3"
  },
  "toc": {
   "nav_menu": {},
   "number_sections": true,
   "sideBar": true,
   "skip_h1_title": false,
   "title_cell": "Table of Contents",
   "title_sidebar": "Contents",
   "toc_cell": false,
   "toc_position": {},
   "toc_section_display": true,
   "toc_window_display": false
  }
 },
 "nbformat": 4,
 "nbformat_minor": 2
}
