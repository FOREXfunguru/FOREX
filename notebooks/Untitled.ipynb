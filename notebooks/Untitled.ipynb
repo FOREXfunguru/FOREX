{
 "cells": [
  {
   "cell_type": "code",
   "execution_count": 8,
   "metadata": {},
   "outputs": [
    {
     "name": "stdout",
     "output_type": "stream",
     "text": [
      "    office_id   sales state\n",
      "0           1  405711    CA\n",
      "1           2  535829    WA\n",
      "2           3  217952    CO\n",
      "3           4  252315    AZ\n",
      "4           5  982371    CA\n",
      "5           6  459783    WA\n",
      "6           1  404137    CO\n",
      "7           2  222579    AZ\n",
      "8           3  710581    CA\n",
      "9           4  548242    WA\n",
      "10          5  474564    CO\n",
      "11          6  835831    AZ\n",
      "                  sales\n",
      "state office_id        \n",
      "AZ    2          222579\n",
      "      4          252315\n",
      "      6          835831\n",
      "CA    1          405711\n",
      "      3          710581\n",
      "      5          982371\n",
      "CO    1          404137\n",
      "      3          217952\n",
      "      5          474564\n",
      "WA    2          535829\n",
      "      4          548242\n",
      "      6          459783\n",
      "                     sales\n",
      "state office_id           \n",
      "AZ    2          16.981365\n",
      "      4          19.250033\n",
      "      6          63.768601\n",
      "CA    1          19.331879\n",
      "      3          33.858747\n",
      "      5          46.809373\n",
      "CO    1          36.851857\n",
      "      3          19.874290\n",
      "      5          43.273852\n",
      "WA    2          34.707233\n",
      "      4          35.511259\n",
      "      6          29.781508\n"
     ]
    }
   ],
   "source": [
    "# From Paul H\n",
    "import numpy as np\n",
    "import pandas as pd\n",
    "np.random.seed(0)\n",
    "df = pd.DataFrame({'state': ['CA', 'WA', 'CO', 'AZ'] * 3,\n",
    "                   'office_id': list(range(1, 7)) * 2,\n",
    "                   'sales': [np.random.randint(100000, 999999)\n",
    "                             for _ in range(12)]})\n",
    "print(df)\n",
    "state_office = df.groupby(['state', 'office_id']).agg({'sales': 'sum'})\n",
    "print(state_office)\n",
    "# Change: groupby state_office and divide by sum\n",
    "state_pcts = state_office.groupby(level=0).apply(lambda x:\n",
    "                                                 100 * x / float(x.sum()))\n",
    "\n",
    "print(state_pcts)"
   ]
  },
  {
   "cell_type": "code",
   "execution_count": 12,
   "metadata": {},
   "outputs": [
    {
     "name": "stdout",
     "output_type": "stream",
     "text": [
      "   a  b  c  d\n",
      "0  6  7  5  6\n",
      "1  7  5  6  5\n",
      "2  5  7  5  5\n",
      "3  5  5  7  7\n",
      "4  5  7  5  6\n",
      "5  7  7  5  6\n",
      "6  7  6  5  6\n",
      "7  7  6  7  5\n",
      "8  6  7  6  5\n",
      "9  5  5  7  7\n",
      "   b_sum       b_%  b_mean  d_sum  c_sum\n",
      "a                                       \n",
      "5     24  0.387097       6     25     24\n",
      "6     14  0.225806       7     11     11\n",
      "7     24  0.387097       6     22     23\n"
     ]
    }
   ],
   "source": [
    "np.random.seed(78)\n",
    "df= pd.DataFrame(np.random.randint(5,8,(10,4)), columns=['a','b','c','d'])\n",
    "print(df)\n",
    "g =(df.groupby('a')\n",
    "      .agg({'b':['sum',lambda x: x.sum()/ df['b'].sum(),'mean'],\n",
    "            'c':['sum'], \n",
    "            'd':['sum']}))\n",
    "g.columns = g.columns.map('_'.join).str.replace('<lambda>','%')\n",
    "\n",
    "print (g)\n"
   ]
  }
 ],
 "metadata": {
  "kernelspec": {
   "display_name": "Python 3",
   "language": "python",
   "name": "python3"
  },
  "language_info": {
   "codemirror_mode": {
    "name": "ipython",
    "version": 3
   },
   "file_extension": ".py",
   "mimetype": "text/x-python",
   "name": "python",
   "nbconvert_exporter": "python",
   "pygments_lexer": "ipython3",
   "version": "3.5.3"
  },
  "toc": {
   "nav_menu": {},
   "number_sections": true,
   "sideBar": true,
   "skip_h1_title": false,
   "title_cell": "Table of Contents",
   "title_sidebar": "Contents",
   "toc_cell": false,
   "toc_position": {},
   "toc_section_display": true,
   "toc_window_display": false
  }
 },
 "nbformat": 4,
 "nbformat_minor": 2
}
