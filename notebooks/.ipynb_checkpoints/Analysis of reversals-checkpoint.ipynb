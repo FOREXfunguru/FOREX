{
 "cells": [
  {
   "cell_type": "markdown",
   "metadata": {},
   "source": [
    "Reversal Analysis\n",
    "\n",
    "This notebook describes the procedure followed to analyze different aspects on the Reversal of the trades\n",
    "\n",
    "Data collected"
   ]
  },
  {
   "cell_type": "code",
   "execution_count": null,
   "metadata": {
    "collapsed": true
   },
   "outputs": [],
   "source": [
    "End of trend\n",
    "RSI= Relative Strength Index (30 oversold /70 overbought )\n",
    "Divergence (TRUE/FALSE)\n",
    "Number of bounces=Number of bounces in oversold/overbought \n",
    "previous the reversal considering the entire trend in order to calculate bounces\n",
    "Trend Length (bars)\n",
    "Currency Pair\n",
    "Direction=UP/DOWN\n",
    "Entry Time-frame\n",
    "Reversed=TRUE/FALSE\n",
    "Trend length after reversal (bars)"
   ]
  }
 ],
 "metadata": {
  "anaconda-cloud": {},
  "kernelspec": {
   "display_name": "Python [conda env:python3]",
   "language": "python",
   "name": "conda-env-python3-py"
  },
  "language_info": {
   "codemirror_mode": {
    "name": "ipython",
    "version": 3
   },
   "file_extension": ".py",
   "mimetype": "text/x-python",
   "name": "python",
   "nbconvert_exporter": "python",
   "pygments_lexer": "ipython3",
   "version": "3.5.3"
  },
  "toc": {
   "nav_menu": {},
   "number_sections": true,
   "sideBar": true,
   "skip_h1_title": false,
   "title_cell": "Table of Contents",
   "title_sidebar": "Contents",
   "toc_cell": false,
   "toc_position": {},
   "toc_section_display": true,
   "toc_window_display": false
  }
 },
 "nbformat": 4,
 "nbformat_minor": 1
}
