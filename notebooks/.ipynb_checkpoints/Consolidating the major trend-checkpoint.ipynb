{
 "cells": [
  {
   "cell_type": "markdown",
   "metadata": {},
   "source": [
    "Document showing how to consolidate the possible subsegments into a major trend. "
   ]
  },
  {
   "cell_type": "markdown",
   "metadata": {},
   "source": [
    "# Dependencies"
   ]
  },
  {
   "cell_type": "code",
   "execution_count": 1,
   "metadata": {},
   "outputs": [
    {
     "name": "stdout",
     "output_type": "stream",
     "text": [
      "['/Users/ernesto/PycharmProjects/FOREX/src']\n"
     ]
    }
   ],
   "source": [
    "from oanda_api import OandaAPI\n",
    "from candlelist import CandleList\n",
    "\n",
    "import os\n",
    "try:\n",
    "    user_paths = os.environ['PYTHONPATH'].split(os.pathsep)\n",
    "    print(user_paths)\n",
    "except KeyError:\n",
    "    user_paths = []\n",
    "    "
   ]
  },
  {
   "cell_type": "markdown",
   "metadata": {},
   "source": [
    "# Test case"
   ]
  },
  {
   "cell_type": "markdown",
   "metadata": {},
   "source": [
    "Here I am going to use the uptrend shown below:\n",
    "that goes from EUR_NZD (D) 26MAR2019 to 25JUL2019\n",
    "![alt text](img/Consolidate_trend.png)"
   ]
  },
  {
   "cell_type": "markdown",
   "metadata": {},
   "source": [
    "Let's get a CandleList object for this uptrend"
   ]
  },
  {
   "cell_type": "code",
   "execution_count": 4,
   "metadata": {},
   "outputs": [],
   "source": [
    "oanda = OandaAPI(url='https://api-fxtrade.oanda.com/v1/candles?',\n",
    "                     instrument='EUR_NZD',\n",
    "                     granularity='D',\n",
    "                     alignmentTimezone='Europe/London',\n",
    "                     dailyAlignment=22)\n",
    "\n",
    "oanda.run(start='2019-03-26T22:00:00',\n",
    "              end='2019-07-25T22:00:00',\n",
    "              roll=True)\n",
    "\n",
    "candle_list = oanda.fetch_candleset()\n",
    "\n",
    "cl = CandleList(candle_list, instrument='EUR_NZD', type='long')"
   ]
  },
  {
   "cell_type": "markdown",
   "metadata": {},
   "source": [
    "Now, let's get a PivotList object from this CandleList"
   ]
  },
  {
   "cell_type": "code",
   "execution_count": 5,
   "metadata": {},
   "outputs": [],
   "source": [
    "pl = cl.get_pivotlist(outfile='img/cl_0_02_a.png', th_up=0.02, th_down=-0.02)"
   ]
  },
  {
   "cell_type": "markdown",
   "metadata": {},
   "source": [
    "![alt text](img/cl_0_02_a.png?1)"
   ]
  },
  {
   "cell_type": "markdown",
   "metadata": {},
   "source": [
    "`th_up` and `th_down` will control the sensitivity of the pivot points. So if we make it lower we will increase the number of pivots"
   ]
  },
  {
   "cell_type": "code",
   "execution_count": 10,
   "metadata": {},
   "outputs": [],
   "source": [
    "pl_001 = cl.get_pivotlist(outfile='img/cl_0_01_a.png', th_up=0.01, th_down=-0.01)"
   ]
  },
  {
   "cell_type": "markdown",
   "metadata": {},
   "source": [
    "![alt text](img/cl_0_01_a.png)"
   ]
  },
  {
   "cell_type": "markdown",
   "metadata": {},
   "source": [
    "We can get a SegmentList object from `pl`"
   ]
  },
  {
   "cell_type": "code",
   "execution_count": 8,
   "metadata": {},
   "outputs": [],
   "source": [
    "slist = pl_001.slist"
   ]
  },
  {
   "cell_type": "code",
   "execution_count": 9,
   "metadata": {},
   "outputs": [
    {
     "name": "stderr",
     "output_type": "stream",
     "text": [
      "/Users/ernesto/PycharmProjects/FOREX/src/segmentlist.py:154: FutureWarning: Using a non-tuple sequence for multidimensional indexing is deprecated; use `arr[tuple(seq)]` instead of `arr[seq]`. In the future this will be interpreted as an array index, `arr[np.array(seq)]`, which will result either in an error or a different result.\n",
      "  plt.scatter(xarr[[ix_start]], yarr[[ix_start]], color='g')\n",
      "/Users/ernesto/PycharmProjects/FOREX/src/segmentlist.py:155: FutureWarning: Using a non-tuple sequence for multidimensional indexing is deprecated; use `arr[tuple(seq)]` instead of `arr[seq]`. In the future this will be interpreted as an array index, `arr[np.array(seq)]`, which will result either in an error or a different result.\n",
      "  plt.scatter(xarr[[ix_end]], yarr[[ix_end]], color='r')\n",
      "/Users/ernesto/PycharmProjects/FOREX/src/segmentlist.py:160: FutureWarning: Using a non-tuple sequence for multidimensional indexing is deprecated; use `arr[tuple(seq)]` instead of `arr[seq]`. In the future this will be interpreted as an array index, `arr[np.array(seq)]`, which will result either in an error or a different result.\n",
      "  plt.plot(xarr[[fixs]], yarr[[fixs]], 'k-')\n"
     ]
    }
   ],
   "source": [
    "mslist=slist.merge_segments(min_n_candles=10, diff_in_pips=200, outfile=\"img/mcl_0_01_a.png\")"
   ]
  },
  {
   "cell_type": "markdown",
   "metadata": {},
   "source": [
    "![alt text](img/mcl_0_01_a.png)"
   ]
  },
  {
   "cell_type": "code",
   "execution_count": null,
   "metadata": {},
   "outputs": [],
   "source": []
  },
  {
   "cell_type": "code",
   "execution_count": null,
   "metadata": {},
   "outputs": [],
   "source": []
  }
 ],
 "metadata": {
  "kernelspec": {
   "display_name": "Python 3",
   "language": "python",
   "name": "python3"
  },
  "language_info": {
   "codemirror_mode": {
    "name": "ipython",
    "version": 3
   },
   "file_extension": ".py",
   "mimetype": "text/x-python",
   "name": "python",
   "nbconvert_exporter": "python",
   "pygments_lexer": "ipython3",
   "version": "3.7.3"
  },
  "toc": {
   "nav_menu": {},
   "number_sections": true,
   "sideBar": true,
   "skip_h1_title": false,
   "title_cell": "Table of Contents",
   "title_sidebar": "Contents",
   "toc_cell": false,
   "toc_position": {},
   "toc_section_display": true,
   "toc_window_display": false
  }
 },
 "nbformat": 4,
 "nbformat_minor": 2
}
