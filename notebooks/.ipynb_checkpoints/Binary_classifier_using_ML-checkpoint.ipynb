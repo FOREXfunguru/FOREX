{
 "cells": [
  {
   "cell_type": "markdown",
   "metadata": {},
   "source": [
    "# Motivation\n",
    "This notebook analyses the spreadsheet containing information on the reversals. This spreadsheet collects different features on the trades in an attempt of creating a binary classifier, this classifier will learn from the data collected and will predict the value of the `outcome` variable, which can be success of failre"
   ]
  },
  {
   "cell_type": "markdown",
   "metadata": {},
   "source": [
    "# Data\n",
    "The data has been collected in an spreadsheet containing trades both simulated and real. And the different trades have been classified into three types: continuation, counter and ranging. The independent variables gathered for each trade type are:\n",
    "## Continuation trades\n",
    "* id = string, id used in the screenshot folder to identify this record\n",
    "* start = datetime (in the format: 26/05/2009 22:00:00), start of this trade\n",
    "* timeframe = string, possible values are 2D,D,H12,H8\n",
    "* entry = float, entry price\n",
    "* outcome = string, possible values are S=success;F=failure;B=breakeven.Outcome of the trace\n",
    "* ext_outcome = string, inclusive variable that considers as successes all trades that even having failed there was a retracement and finally hit the target. Only trades retracing at less than 1000 pips from the S/L were considered as successes\n",
    "* RSI bounces = integer. Number of RSI bounces ocurring in the trend before entry\n",
    "* No of candles = integer. How many candles before occurred the bounce, from the entry of trade to the first bounce (without counting the entry candle)\n",
    "* entry on RSI = boolean. True= Entry on oversold/overbought region, False= Entry NOT on oversold/overbought region\n",
    "* length of trend = integer. Length of the preceding trend in number of candles. The valley before the continuation is not included in the count\n",
    "* length in pips = integer. Length of the precedint trend in number of pips\n",
    "* strong trend = boolean. True if the trend is strong, otherwise is False\n",
    "* trend angle = integer. Angle of the trend\n",
    "* inn_bounce = integer. Number of candles of the inner bounce\n",
    "* indecission = integer. Number of candles the price stays in S/R, without considering the bounce and only considering the candles pre/post bounce\n",
    "* bounce length = integer. Length in number of candles for each of the bounces (in the order from the most recent to the oldest)\n",
    "* retraced = integer. Only relevant when outcome is 'F', how many pips from the S/L the trade reversed?. If n.a., then it means that the trade did not reversed\n",
    "* last time = datetime (in the format 26/05/2009), last time that the price was below/above this level"
   ]
  },
  {
   "cell_type": "markdown",
   "metadata": {},
   "source": [
    "## Dependencies"
   ]
  },
  {
   "cell_type": "code",
   "execution_count": 364,
   "metadata": {},
   "outputs": [],
   "source": [
    "import pandas as pd\n",
    "import numpy as np\n",
    "import pdb\n",
    "import re\n",
    "import seaborn as sns\n",
    "from pandas.plotting import scatter_matrix\n",
    "from sklearn.metrics import confusion_matrix,precision_score\n",
    "from sklearn.model_selection import train_test_split\n",
    "\n",
    "%matplotlib inline"
   ]
  },
  {
   "cell_type": "markdown",
   "metadata": {},
   "source": [
    "# Continuation trades\n",
    "\n",
    "First, let's create a function to read-in a .csv file containing the data andstore it in a dataframe:"
   ]
  },
  {
   "cell_type": "code",
   "execution_count": 365,
   "metadata": {},
   "outputs": [
    {
     "data": {
      "text/plain": [
       "(100, 20)"
      ]
     },
     "execution_count": 365,
     "metadata": {},
     "output_type": "execute_result"
    }
   ],
   "source": [
    "def read_tradedata(tradefile,sep,na_values):\n",
    "    '''\n",
    "    Parameters\n",
    "    ----------\n",
    "    tradefile : str, required\n",
    "                Path to file containing the trade data\n",
    "    sep : str, optionsl\n",
    "          Field separator used in the file. i.e. ',' (comma separated values), '\\t' (tab-separated values)\n",
    "    na_values : list, optional\n",
    "                Additional list of strings to recognize as NA/NaN. i.e. ['n.a.']\n",
    "    \n",
    "    Returns\n",
    "    -------\n",
    "    A Pandas dataframe\n",
    "    '''\n",
    "    DF=pd.read_csv(tradefile,sep=sep,na_values=na_values)\n",
    "    \n",
    "    return DF\n",
    "\n",
    "contDF=read_tradedata('/Users/ernesto/Downloads/Screenshot analysis - continuations.csv',sep=\",\",na_values=[\"n.a.\",\"n.a\"])\n",
    "\n",
    "contDF.shape"
   ]
  },
  {
   "cell_type": "markdown",
   "metadata": {},
   "source": [
    "And some information about contDF:"
   ]
  },
  {
   "cell_type": "code",
   "execution_count": 366,
   "metadata": {},
   "outputs": [
    {
     "name": "stdout",
     "output_type": "stream",
     "text": [
      "<class 'pandas.core.frame.DataFrame'>\n",
      "RangeIndex: 100 entries, 0 to 99\n",
      "Data columns (total 20 columns):\n",
      "id                         100 non-null object\n",
      "start                      100 non-null object\n",
      "timeframe                  100 non-null object\n",
      "entry                      100 non-null float64\n",
      "outcome                    100 non-null object\n",
      "ext_outcome                100 non-null object\n",
      "Candle +1 against trade    100 non-null bool\n",
      "RSI bounces                100 non-null int64\n",
      "No of candles              84 non-null float64\n",
      "bounce length              84 non-null object\n",
      "inn_bounce                 100 non-null int64\n",
      "indecission                100 non-null int64\n",
      "entry on RSI               100 non-null bool\n",
      "length of trend            100 non-null int64\n",
      "length in pips             100 non-null int64\n",
      "strong trend               100 non-null bool\n",
      "trend angle                100 non-null int64\n",
      "retraced                   34 non-null float64\n",
      "last time                  99 non-null object\n",
      "target                     0 non-null float64\n",
      "dtypes: bool(3), float64(4), int64(6), object(7)\n",
      "memory usage: 13.7+ KB\n"
     ]
    }
   ],
   "source": [
    "contDF.info()"
   ]
  },
  {
   "cell_type": "markdown",
   "metadata": {},
   "source": [
    "* Conversion to right types<br>\n",
    "Let's convert now the `start` and `last time` variables to DateTime"
   ]
  },
  {
   "cell_type": "code",
   "execution_count": 367,
   "metadata": {},
   "outputs": [],
   "source": [
    "contDF['start']= pd.to_datetime(contDF['start'])\n",
    "contDF['last time']= pd.to_datetime(contDF['last time'])"
   ]
  },
  {
   "cell_type": "markdown",
   "metadata": {},
   "source": [
    "## Creation of new variables\n",
    "In this section I create new variables derived from the initial set of features. \n",
    "The first one is a variable named 'length in pips (norm)':"
   ]
  },
  {
   "cell_type": "code",
   "execution_count": 369,
   "metadata": {},
   "outputs": [
    {
     "name": "stdout",
     "output_type": "stream",
     "text": [
      "                      id               start timeframe    entry outcome  \\\n",
      "0   AUD_USD 26MAY2009H12 2009-05-26 22:00:00       H12  0.78702       S   \n",
      "1   AUD_USD 30JUL2009H12 2009-07-30 10:00:00       H12  0.82313       S   \n",
      "2    AUD_USD 22JUL20102D 2010-07-22 23:00:00        2D  0.88643       S   \n",
      "3   AUD_USD 16SEP2010H12 2010-09-16 22:00:00       H12  0.94225       S   \n",
      "4   AUD_USD 19OCT2011H12 2011-10-19 10:00:00       H12  1.03285       S   \n",
      "5   AUD_USD 29MAY2012H12 2012-05-29 22:00:00       H12  0.98075       S   \n",
      "6   AUD_USD 25JUL2012H12 2012-07-25 10:00:00       H12  1.02937       S   \n",
      "7     AUD_USD 17SEP2013D 2013-09-17 23:00:00         D  0.93555       S   \n",
      "8   AUD_USD 03FEB2016H12 2016-03-02 10:00:00       H12  0.70703       S   \n",
      "9   AUD_USD 16JAN2017H12 2017-01-16 22:00:00       H12  0.74925       S   \n",
      "10  AUD_USD 03NOV2017H12 2017-03-11 09:00:00       H12  0.76780       S   \n",
      "11    AUD_USD 11JAN2018D 2018-11-01 23:00:00         D  0.78744       S   \n",
      "12   EUR_GBP 9OCT2009H12 2009-09-10 10:00:00       H12  0.92289       S   \n",
      "13  EUR_GBP 14APR2010H12 2010-04-14 10:00:00       H12  0.88288       S   \n",
      "14  EUR_GBP 15MAR2011H12 2011-03-15 09:00:00       H12  0.86770       S   \n",
      "15  EUR_GBP 07JUN2016H12 2016-07-06 22:00:00       H12  0.78173       S   \n",
      "16  EUR_GBP 30MAY2017H12 2017-05-30 22:00:00       H12  0.87113       S   \n",
      "17  EUR_USD 22AUG2008H12 2008-08-22 10:00:00       H12  1.48065       S   \n",
      "18   EUR_USD 26AUG20082D 2008-08-26 23:00:00        2D  1.46822       S   \n",
      "19  EUR_USD 24MAY2010H12 2010-05-24 10:00:00       H12  1.24224       S   \n",
      "20  EUR_USD 06JUL2010H12 2010-06-07 10:00:00       H12  1.26109       S   \n",
      "21  EUR_USD 23JAN2012H12 2012-01-23 10:00:00       H12  1.29515       S   \n",
      "22  EUR_USD 28JUL2017H12 2017-07-28 10:00:00       H12  1.17241       S   \n",
      "23    EUR_USD 15MAY2018D 2018-05-15 23:00:00         D  1.19129       S   \n",
      "24  GBP_AUD 17SEP2008H12 2008-09-17 10:00:00       H12  2.25265       S   \n",
      "25  GBP_USD 22MAY2009H12 2009-05-22 10:00:00       H12  1.58897       S   \n",
      "26  GBP_USD 23FEB2010H12 2010-02-23 10:00:00       H12  1.54092       S   \n",
      "27  GBP_USD 14FEB2011H12 2011-02-14 22:00:00       H12  1.60930       S   \n",
      "28  GBP_USD 11SEP2012H12 2012-11-09 10:00:00       H12  1.60327       S   \n",
      "29  GBP_USD 10JUN2013H12 2013-10-06 22:00:00       H12  1.55903       S   \n",
      "..                   ...                 ...       ...      ...     ...   \n",
      "70  EUR_GBP 15FEB2009H12 2009-02-15 22:00:00       H12  0.89884       F   \n",
      "71  EUR_GBP 24OCT2010H12 2010-10-24 22:00:00       H12  0.89084       F   \n",
      "72  EUR_GBP 06DEC2010H12 2010-06-12 22:00:00       H12  0.84558       F   \n",
      "73  EUR_GBP 16MAR2011H12 2011-03-16 21:00:00       H12  0.87116       F   \n",
      "74  EUR_GBP 20JUN2011H12 2011-06-20 10:00:00       H12  0.87950       F   \n",
      "75  EUR_USD 19OCT2009H12 2009-10-19 10:00:00       H12  1.49532       F   \n",
      "76  EUR_USD 22FEB2010H12 2010-02-22 10:00:00       H12  1.35824       F   \n",
      "77   EUR_USD 26JUL20102D 2010-07-26 23:00:00        2D  1.29623       F   \n",
      "78   EUR_USD 14OCT20102D 2010-10-14 23:00:00        2D  1.40206       F   \n",
      "79  EUR_USD 12APR2011H12 2011-12-04 10:00:00       H12  1.44708       F   \n",
      "80  EUR_USD 11OCT2011H12 2011-11-10 10:00:00       H12  1.35811       F   \n",
      "81  EUR_USD 05JUN2012H12 2012-05-06 10:00:00       H12  1.24187       F   \n",
      "82  EUR_USD 23AUG2013H12 2013-08-23 10:00:00       H12  1.33721       F   \n",
      "83  EUR_USD 10NOV2014H12 2014-10-11 22:00:00       H12  1.24071       F   \n",
      "84  EUR_USD 01JUN2018H12 2018-01-06 10:00:00       H12  1.16473       F   \n",
      "85  USD_CAD 19OCT2009H12 2009-10-19 10:00:00       H12  1.02911       F   \n",
      "86  USD_CAD 16MAR2010H12 2010-03-16 09:00:00       H12  1.01627       F   \n",
      "87  USD_CAD 28MAY2010H12 2010-05-28 10:00:00       H12  1.05337       F   \n",
      "88  USD_CAD 07JUL2011H12 2011-07-07 10:00:00       H12  0.96395       F   \n",
      "89  USD_CAD 28JAN2014H12 2014-01-28 10:00:00       H12  1.11245       F   \n",
      "90  USD_CAD 05FEB2018H10 2018-05-02 08:00:00       H10  1.24022       F   \n",
      "91  USD_CAD 07MAR2018H12 2018-07-03 10:00:00       H12  1.29627       F   \n",
      "92  GBP_USD 28JUL2011H12 2011-07-28 10:00:00       H12  1.63811       F   \n",
      "93  GBP_USD 13JAN2012H12 2012-01-13 10:00:00       H12  1.53067       F   \n",
      "94  GBP_USD 26DEC2012H12 2012-12-26 22:00:00       H12  1.61725       F   \n",
      "95  GBP_USD 25JUN2013H12 2013-06-25 10:00:00       H12  1.54614       F   \n",
      "96  GBP_USD 23SEP2013H12 2013-09-23 10:00:00       H12  1.60488       F   \n",
      "97  GBP_USD 12SEP2014H12 2014-12-09 10:00:00       H12  1.62080       F   \n",
      "98  GBP_USD 04JUN2015H12 2015-04-06 22:00:00       H12  1.53306       F   \n",
      "99  GBP_USD 09SEP2015H12 2015-09-09 22:00:00       H12  1.53477       F   \n",
      "\n",
      "   ext_outcome  Candle +1 against trade  RSI bounces  No of candles  \\\n",
      "0            S                     True            4           24.0   \n",
      "1            S                    False            6           79.0   \n",
      "2            S                    False            1           19.0   \n",
      "3            S                    False            2            5.0   \n",
      "4            S                     True            1            4.0   \n",
      "5            S                    False            5            8.0   \n",
      "6            S                    False            3            8.0   \n",
      "7            S                    False            0            NaN   \n",
      "8            S                    False            0            NaN   \n",
      "9            S                    False            1            3.0   \n",
      "10           S                    False            1           11.0   \n",
      "11           S                    False            1            4.0   \n",
      "12           S                    False            5           16.0   \n",
      "13           S                    False            1            7.0   \n",
      "14           S                    False            0            NaN   \n",
      "15           S                    False            1           19.0   \n",
      "16           S                    False            3            5.0   \n",
      "17           S                    False            3            6.0   \n",
      "18           S                    False            1            5.0   \n",
      "19           S                    False            3            7.0   \n",
      "20           S                    False            0            NaN   \n",
      "21           S                    False            0            NaN   \n",
      "22           S                    False            8            3.0   \n",
      "23           S                    False            2            4.0   \n",
      "24           S                    False            4            3.0   \n",
      "25           S                    False            1            4.0   \n",
      "26           S                     True            2            5.0   \n",
      "27           S                     True            1           39.0   \n",
      "28           S                    False            2            4.0   \n",
      "29           S                     True            1            4.0   \n",
      "..         ...                      ...          ...            ...   \n",
      "70           S                     True            0            NaN   \n",
      "71           F                    False            4           14.0   \n",
      "72           S                    False            2            9.0   \n",
      "73           S                     True            1            3.0   \n",
      "74           F                     True            0            NaN   \n",
      "75           F                    False           11            3.0   \n",
      "76           F                    False            7           13.0   \n",
      "77           S                    False            0            NaN   \n",
      "78           F                     True            0            NaN   \n",
      "79           F                     True            4            4.0   \n",
      "80           F                     True            3           11.0   \n",
      "81           F                     True            6            5.0   \n",
      "82           F                     True            0            NaN   \n",
      "83           S                    False           12           52.0   \n",
      "84           F                     True           10            5.0   \n",
      "85           F                    False            1            5.0   \n",
      "86           S                    False            1            2.0   \n",
      "87           F                    False            3            7.0   \n",
      "88           S                    False            0            NaN   \n",
      "89           F                    False           10            7.0   \n",
      "90           F                     True            5           22.0   \n",
      "91           S                     True            5            2.0   \n",
      "92           F                    False            1            4.0   \n",
      "93           F                     True            2           70.0   \n",
      "94           S                    False            2            6.0   \n",
      "95           F                     True            3           15.0   \n",
      "96           S                     True            4            5.0   \n",
      "97           F                    False           11            5.0   \n",
      "98           F                    False            0            NaN   \n",
      "99           F                     True            7            1.0   \n",
      "\n",
      "               bounce length          ...            indecission  \\\n",
      "0                    1,1,3,1          ...                     11   \n",
      "1                2,3,3,1,4,3          ...                      7   \n",
      "2                          3          ...                      4   \n",
      "3                        2,2          ...                      6   \n",
      "4                          1          ...                      3   \n",
      "5                  4,4,4,3,3          ...                      6   \n",
      "6                      1,1,3          ...                     13   \n",
      "7                        NaN          ...                      1   \n",
      "8                        NaN          ...                      4   \n",
      "9                          5          ...                      4   \n",
      "10                         5          ...                      8   \n",
      "11                         5          ...                      1   \n",
      "12                 7,8,1,3,1          ...                      4   \n",
      "13                         3          ...                     13   \n",
      "14                       NaN          ...                      1   \n",
      "15                         3          ...                      1   \n",
      "16                     2,1,1          ...                      1   \n",
      "17                    21,1,1          ...                      6   \n",
      "18                         3          ...                      1   \n",
      "19                     2,3,6          ...                      1   \n",
      "20                       NaN          ...                      5   \n",
      "21                       NaN          ...                      4   \n",
      "22           2,1,1,4,1,1,1,4          ...                      7   \n",
      "23                       4,2          ...                      3   \n",
      "24                   1,4,5,1          ...                      4   \n",
      "25                         2          ...                      1   \n",
      "26                       1,5          ...                      3   \n",
      "27                         1          ...                     10   \n",
      "28                       1,1          ...                      1   \n",
      "29                         2          ...                      1   \n",
      "..                       ...          ...                    ...   \n",
      "70                       NaN          ...                      1   \n",
      "71                   1,3,1,3          ...                      1   \n",
      "72                       1,2          ...                     14   \n",
      "73                         1          ...                      3   \n",
      "74                       NaN          ...                      3   \n",
      "75     3,2,4,1,3,1,1,4,1,1,7          ...                      1   \n",
      "76             1,5,5,4,1,2,2          ...                      6   \n",
      "77                       NaN          ...                      1   \n",
      "78                       NaN          ...                      4   \n",
      "79                   3,1,1,1          ...                      3   \n",
      "80                     2,1,7          ...                     16   \n",
      "81              3,2,1,5,10,1          ...                      1   \n",
      "82                       NaN          ...                     12   \n",
      "83  3,8,2,4,7,6,6,3,3,11,4,1          ...                      8   \n",
      "84      3,1,1,2,1,1,10,6,3,1          ...                      6   \n",
      "85                         4          ...                      2   \n",
      "86                         2          ...                      1   \n",
      "87                     1,2,2          ...                      4   \n",
      "88                       NaN          ...                      2   \n",
      "89       3,2,1,3,7,3,2,1,1,1          ...                      1   \n",
      "90                 1,5,2,4,5          ...                      1   \n",
      "91                 5,2,1,1,1          ...                      1   \n",
      "92                         1          ...                      5   \n",
      "93                       3,1          ...                      3   \n",
      "94                       1,3          ...                      8   \n",
      "95                     2,4,3          ...                      1   \n",
      "96                   9,3,4,1          ...                      3   \n",
      "97    11,1,2,2,4,2,5,7,1,9,1          ...                      2   \n",
      "98                       NaN          ...                      1   \n",
      "99                         6          ...                      7   \n",
      "\n",
      "    entry on RSI  length of trend  length in pips  strong trend  trend angle  \\\n",
      "0          False              112           15700         False           26   \n",
      "1          False              215           19242         False           22   \n",
      "2          False               18            8000         False           50   \n",
      "3           True              147           12990         False           28   \n",
      "4          False               22            9527          True           64   \n",
      "5          False              126           10169         False           29   \n",
      "6          False               76            6889         False           36   \n",
      "7           True               13            4600          True           63   \n",
      "8          False               21            2300          True           61   \n",
      "9           True               25            3200          True           60   \n",
      "10         False               80            4500         False           37   \n",
      "11          True               23            3700          True           58   \n",
      "12         False               91            7690          True           50   \n",
      "13         False               44            5700         False           36   \n",
      "14         False               34            3130          True           41   \n",
      "15         False               19            2495          True           52   \n",
      "16         False               30            3160          True           56   \n",
      "17         False               57           12252          True           32   \n",
      "18         False               15           13600          True           54   \n",
      "19         False               55           12883          True           40   \n",
      "20         False               39            7015          True           35   \n",
      "21         False               11            3188          True           58   \n",
      "22         False              296           13936         False           29   \n",
      "23          True               20            4871          True           61   \n",
      "24         False               85           21170         False           34   \n",
      "25          True              104           21541         False           37   \n",
      "26         False               52           10153         False           45   \n",
      "27         False               69            7333         False           44   \n",
      "28          True               86            6300          True           30   \n",
      "29         False               19            5943          True           69   \n",
      "..           ...              ...             ...           ...          ...   \n",
      "70         False               10            3374          True           57   \n",
      "71         False               79            7398         False           44   \n",
      "72         False               62            4689         False           43   \n",
      "73         False               37            3397         False           51   \n",
      "74         False               17            1542          True           52   \n",
      "75          True              328           24784         False           31   \n",
      "76         False              115           15156         False           38   \n",
      "77         False               18           10729          True           44   \n",
      "78          True               47           20718         False           42   \n",
      "79         False              134           15862         False           34   \n",
      "80         False               62            9496          True           40   \n",
      "81         False               51            8594          True           54   \n",
      "82         False               66            6091         False           46   \n",
      "83         False              268           15757         False           38   \n",
      "84         False               64            7359          True           52   \n",
      "85         False               23            6064         False           58   \n",
      "86          True               51            6069          True           47   \n",
      "87         False               55            5979         False           56   \n",
      "88         False               16            2631          True           39   \n",
      "89          True              184            9328         False           33   \n",
      "90         False               97            5112         False           33   \n",
      "91         False               49            7116         False           50   \n",
      "92         False               25            5944         False           59   \n",
      "93         False              110            8537         False           38   \n",
      "94         False               58            3577          True           25   \n",
      "95         False               39            4571          True           38   \n",
      "96         False              108           12308         False           33   \n",
      "97         False               88            9678          True           55   \n",
      "98         False               30            4575          True           48   \n",
      "99         False               23            4664          True           60   \n",
      "\n",
      "    retraced  last time target  length in pips (norm)  \n",
      "0        NaN 2008-01-10    NaN              11.681548  \n",
      "1        NaN 2008-01-09    NaN               7.458140  \n",
      "2        NaN 2010-01-05    NaN               9.259259  \n",
      "3        NaN 2008-01-07    NaN               7.363946  \n",
      "4        NaN 2011-01-09    NaN              36.087121  \n",
      "5        NaN 2011-01-11    NaN               6.725529  \n",
      "6        NaN 2012-01-04    NaN               7.553728  \n",
      "7        NaN 2013-01-06    NaN              14.743590  \n",
      "8        NaN 2016-01-01    NaN               9.126984  \n",
      "9        NaN 2016-11-15    NaN              10.666667  \n",
      "10       NaN 2017-01-07    NaN               4.687500  \n",
      "11       NaN 2017-01-09    NaN               6.702899  \n",
      "12       NaN 2009-01-03    NaN               7.042125  \n",
      "13       NaN 2009-01-08    NaN              10.795455  \n",
      "14       NaN 2010-01-11    NaN               7.671569  \n",
      "15       NaN 2016-01-04    NaN              10.942982  \n",
      "16       NaN 2016-01-11    NaN               8.777778  \n",
      "17       NaN 2008-01-02    NaN              17.912281  \n",
      "18       NaN 2008-01-02    NaN              18.888889  \n",
      "19       NaN 2006-01-04    NaN              19.519697  \n",
      "20       NaN 2010-01-05    NaN              14.989316  \n",
      "21       NaN 2012-01-12    NaN              24.151515  \n",
      "22       NaN 2015-01-01    NaN               3.923423  \n",
      "23       NaN 2017-01-12    NaN              10.147917  \n",
      "24       NaN 2008-01-01    NaN              20.754902  \n",
      "25       NaN 2008-01-11    NaN              17.260417  \n",
      "26       NaN 2009-01-05    NaN              16.270833  \n",
      "27       NaN 2010-01-01    NaN               8.856280  \n",
      "28       NaN 2012-01-05    NaN               6.104651  \n",
      "29       NaN 2013-01-02    NaN              26.065789  \n",
      "..       ...        ...    ...                    ...  \n",
      "70     800.0 2009-01-01    NaN              28.116667  \n",
      "71       NaN 2010-01-03    NaN               7.803797  \n",
      "72    1165.0 2010-01-09    NaN               6.302419  \n",
      "73      20.0 2010-01-11    NaN               7.650901  \n",
      "74       NaN 2011-01-05    NaN               7.558824  \n",
      "75       NaN 2008-01-08    NaN               6.296748  \n",
      "76    1500.0 2009-01-05    NaN              10.982609  \n",
      "77    1200.0 2010-01-04    NaN              12.417824  \n",
      "78       NaN 2010-01-01    NaN               9.183511  \n",
      "79    2000.0 2009-01-12    NaN               9.864428  \n",
      "80       NaN 2011-01-01    NaN              12.763441  \n",
      "81    2000.0 2010-01-06    NaN              14.042484  \n",
      "82    2000.0 2013-01-02    NaN               7.690657  \n",
      "83     970.0 2012-01-08    NaN               4.899565  \n",
      "84       NaN 2017-01-07    NaN               9.582031  \n",
      "85       NaN 2008-01-07    NaN              21.971014  \n",
      "86     750.0 2008-01-07    NaN               9.916667  \n",
      "87       NaN 2010-01-02    NaN               9.059091  \n",
      "88     700.0 2011-01-05    NaN              13.703125  \n",
      "89       NaN 2009-01-07    NaN               4.224638  \n",
      "90       NaN 2017-01-09    NaN               5.270103  \n",
      "91     370.0 2017-01-06    NaN              12.102041  \n",
      "92    1700.0 2011-01-05    NaN              19.813333  \n",
      "93       NaN 2010-01-07    NaN               6.467424  \n",
      "94     300.0 2012-01-09    NaN               5.139368  \n",
      "95       NaN 2013-01-02    NaN               9.767094  \n",
      "96     280.0 2013-01-01    NaN               9.496914  \n",
      "97    2300.0 2013-01-11    NaN               9.164773  \n",
      "98       NaN 2015-01-04    NaN              12.708333  \n",
      "99    2400.0 2015-01-04    NaN              16.898551  \n",
      "\n",
      "[100 rows x 21 columns]\n"
     ]
    }
   ],
   "source": [
    "times_dict={ '2D': 48, 'D' :24, 'H12' : 12, 'H10': 10, 'H8':8}\n",
    "\n",
    "def norm_lengths(x, times_dict):\n",
    "    '''\n",
    "    Function to normalize the length in pips by number of candles and timeframe\n",
    "    \n",
    "    Parameters\n",
    "    ----------\n",
    "    x = Dataframe row\n",
    "    times_dict = dict\n",
    "        \n",
    "    Returns\n",
    "    -------\n",
    "    A float with normalized length (pips)\n",
    "    '''\n",
    "    hours=times_dict[x['timeframe']]\n",
    "    candle_length=x['length of trend']\n",
    "    length_pips=x['length in pips']\n",
    "    norm_length=length_pips/(candle_length*hours)\n",
    "    \n",
    "    return norm_length\n",
    "\n",
    "contDF['length in pips (norm)']=contDF.apply(norm_lengths,axis=1,times_dict=times_dict)"
   ]
  },
  {
   "cell_type": "markdown",
   "metadata": {},
   "source": [
    "## Initial exploration of the data\n",
    "\n",
    "First things first, let's examine if we have a significant number of records per category of the dependent variable (outcome in this case), since it is really very important to have enough records to establish solid conclusions"
   ]
  },
  {
   "cell_type": "code",
   "execution_count": 264,
   "metadata": {},
   "outputs": [
    {
     "data": {
      "text/plain": [
       "S    71\n",
       "F    31\n",
       "Name: ext_outcome, dtype: int64"
      ]
     },
     "execution_count": 264,
     "metadata": {},
     "output_type": "execute_result"
    }
   ],
   "source": [
    "outcome_ix=5 # 4=outcome and 5= ext_outcome\n",
    "outcome_lab=\"ext_outcome\"\n",
    "contDF.iloc[:,outcome_ix].value_counts()"
   ]
  },
  {
   "cell_type": "markdown",
   "metadata": {},
   "source": [
    "For now I am not going to consider the trades having an outcome of 'B'. So, let's remove them from the dataframe:"
   ]
  },
  {
   "cell_type": "code",
   "execution_count": 265,
   "metadata": {},
   "outputs": [],
   "source": [
    "contDF=contDF[contDF.outcome != 'B']"
   ]
  },
  {
   "cell_type": "markdown",
   "metadata": {},
   "source": [
    "### Candle +1 against trade\n",
    "This variable is True when the IC+1 is against the trade. I will here analyze the influence of this variable on the outcome"
   ]
  },
  {
   "cell_type": "markdown",
   "metadata": {},
   "source": [
    "Let's create a contigency table analysing the relationship between these 2 variables:"
   ]
  },
  {
   "cell_type": "code",
   "execution_count": 266,
   "metadata": {},
   "outputs": [
    {
     "name": "stdout",
     "output_type": "stream",
     "text": [
      "Candle +1 against trade  False  True  All\n",
      "ext_outcome                              \n",
      "F                           15    14   29\n",
      "S                           54    16   70\n",
      "All                         69    30   99\n"
     ]
    }
   ],
   "source": [
    "div_class=pd.crosstab(contDF.iloc[:,outcome_ix], contDF['Candle +1 against trade'],margins=True)\n",
    "print(div_class)"
   ]
  },
  {
   "cell_type": "markdown",
   "metadata": {},
   "source": [
    "It's is easier to visualize the relationship if we calculate the percentages:"
   ]
  },
  {
   "cell_type": "code",
   "execution_count": 267,
   "metadata": {},
   "outputs": [
    {
     "name": "stdout",
     "output_type": "stream",
     "text": [
      "Candle +1 against trade      False        True         All\n",
      "ext_outcome                                               \n",
      "F                         21.73913   46.666667   29.292929\n",
      "S                         78.26087   53.333333   70.707071\n",
      "All                      100.00000  100.000000  100.000000\n"
     ]
    }
   ],
   "source": [
    "propCp1=(div_class/div_class.loc[\"All\"])*100\n",
    "print(propCp1)"
   ]
  },
  {
   "cell_type": "markdown",
   "metadata": {
    "variables": {
     "'%.1f' % propCp1.iloc[0, 0]": "21.7",
     "'%.1f' % propCp1.iloc[0, 1]": "46.7",
     "'%.1f' % propCp1.iloc[1, 0]": "78.3",
     "'%.1f' % propCp1.iloc[1, 1]": "53.3"
    }
   },
   "source": [
    "* Conclusion <br>\n",
    "Within the trades with IC+1 against the trade there are {{'%.1f' % propCp1.iloc[0, 1]}}% of failures and {{'%.1f' % propCp1.iloc[1, 1]}}% of successes<br>\n",
    "Within the trades with IC+1 in favour of the trade there are {{'%.1f' % propCp1.iloc[0, 0]}}% of failures and {{'%.1f' % propCp1.iloc[1, 0]}}% of successes"
   ]
  },
  {
   "cell_type": "markdown",
   "metadata": {},
   "source": [
    "###  RSI bounces\n",
    "Let's examine if there is a correlation between the number of bounces and the outcome of the trade"
   ]
  },
  {
   "cell_type": "markdown",
   "metadata": {},
   "source": [
    "As an initial exploration I will create a boxplot displaying the data"
   ]
  },
  {
   "cell_type": "code",
   "execution_count": 268,
   "metadata": {},
   "outputs": [
    {
     "data": {
      "image/png": "[encoded data removed]",
      "text/plain": [
       "<matplotlib.figure.Figure at 0x119b1fac8>"
      ]
     },
     "metadata": {},
     "output_type": "display_data"
    }
   ],
   "source": [
    "ax = sns.boxplot(x=outcome_lab, y=\"RSI bounces\", data=contDF)"
   ]
  },
  {
   "cell_type": "markdown",
   "metadata": {},
   "source": [
    "* Mean for each category"
   ]
  },
  {
   "cell_type": "code",
   "execution_count": 269,
   "metadata": {},
   "outputs": [
    {
     "data": {
      "text/html": [
       "<div>\n",
       "<style scoped>\n",
       "    .dataframe tbody tr th:only-of-type {\n",
       "        vertical-align: middle;\n",
       "    }\n",
       "\n",
       "    .dataframe tbody tr th {\n",
       "        vertical-align: top;\n",
       "    }\n",
       "\n",
       "    .dataframe thead th {\n",
       "        text-align: right;\n",
       "    }\n",
       "</style>\n",
       "<table border=\"1\" class=\"dataframe\">\n",
       "  <thead>\n",
       "    <tr style=\"text-align: right;\">\n",
       "      <th></th>\n",
       "      <th>RSI bounces</th>\n",
       "    </tr>\n",
       "    <tr>\n",
       "      <th>ext_outcome</th>\n",
       "      <th></th>\n",
       "    </tr>\n",
       "  </thead>\n",
       "  <tbody>\n",
       "    <tr>\n",
       "      <th>F</th>\n",
       "      <td>3.896552</td>\n",
       "    </tr>\n",
       "    <tr>\n",
       "      <th>S</th>\n",
       "      <td>2.271429</td>\n",
       "    </tr>\n",
       "  </tbody>\n",
       "</table>\n",
       "</div>"
      ],
      "text/plain": [
       "             RSI bounces\n",
       "ext_outcome             \n",
       "F               3.896552\n",
       "S               2.271429"
      ]
     },
     "execution_count": 269,
     "metadata": {},
     "output_type": "execute_result"
    }
   ],
   "source": [
    "contDF.groupby(outcome_lab).agg({'RSI bounces': 'mean'})"
   ]
  },
  {
   "cell_type": "markdown",
   "metadata": {},
   "source": [
    "* Median for each category"
   ]
  },
  {
   "cell_type": "code",
   "execution_count": 270,
   "metadata": {},
   "outputs": [
    {
     "name": "stdout",
     "output_type": "stream",
     "text": [
      "             RSI bounces\n",
      "ext_outcome             \n",
      "F                      3\n",
      "S                      1\n"
     ]
    }
   ],
   "source": [
    "medianBounce=contDF.groupby(outcome_lab).agg({'RSI bounces': 'median'})\n",
    "print(medianBounce)"
   ]
  },
  {
   "cell_type": "markdown",
   "metadata": {
    "variables": {
     "'%.0f' % medianBounce.iloc[0,0]": "3",
     "'%.0f' % medianBounce.iloc[1,0]": "1"
    }
   },
   "source": [
    "* Conclusion <br>\n",
    "The median number of bounces for successful trades is {{'%.0f' % medianBounce.iloc[1,0]}}<br>\n",
    "The median number of bounces for failed trades is {{'%.0f' % medianBounce.iloc[0,0]}}<br>"
   ]
  },
  {
   "cell_type": "markdown",
   "metadata": {},
   "source": [
    "* Distribution of the number of bounces<br>\n",
    "For this particular task I will create a count plot in order to plot the RSI bounces for both the successful and the failed trades"
   ]
  },
  {
   "cell_type": "code",
   "execution_count": 271,
   "metadata": {},
   "outputs": [
    {
     "data": {
      "image/png": "[encoded data removed]",
      "text/plain": [
       "<matplotlib.figure.Figure at 0x11a446358>"
      ]
     },
     "metadata": {},
     "output_type": "display_data"
    }
   ],
   "source": [
    "ax = sns.countplot(x=\"RSI bounces\",hue=outcome_lab, data=contDF)"
   ]
  },
  {
   "cell_type": "markdown",
   "metadata": {},
   "source": [
    "Now, let's calculate the normalized number of bounces, as the 2 categories of the outcome variables are imbalanced"
   ]
  },
  {
   "cell_type": "code",
   "execution_count": 272,
   "metadata": {},
   "outputs": [
    {
     "data": {
      "image/png": "[encoded data removed]",
      "text/plain": [
       "<matplotlib.figure.Figure at 0x118f2c1d0>"
      ]
     },
     "metadata": {},
     "output_type": "display_data"
    }
   ],
   "source": [
    "contDF_counts = (contDF.groupby([outcome_lab])['RSI bounces']\n",
    "                  .value_counts(normalize=True)\n",
    "                  .rename('percentage')\n",
    "                  .mul(100)\n",
    "                  .reset_index()\n",
    "                  .sort_values('RSI bounces'))\n",
    "\n",
    "p = sns.barplot(x=\"RSI bounces\", y=\"percentage\", hue=outcome_lab, data=contDF_counts)"
   ]
  },
  {
   "cell_type": "markdown",
   "metadata": {},
   "source": [
    "* Conclusion<br>\n",
    "The ideal situation for having a S trade is to have either 1 or 2 bounces"
   ]
  },
  {
   "cell_type": "markdown",
   "metadata": {},
   "source": [
    "### retraced\n",
    "This integer variable represents the number of pips from the S/L from where the failing trade retraced and hitted the target. Let's start analyzing the number of trades that retraced:"
   ]
  },
  {
   "cell_type": "code",
   "execution_count": 273,
   "metadata": {},
   "outputs": [
    {
     "data": {
      "text/plain": [
       "34"
      ]
     },
     "execution_count": 273,
     "metadata": {},
     "output_type": "execute_result"
    }
   ],
   "source": [
    "len(contDF[contDF.retraced.notnull()])"
   ]
  },
  {
   "cell_type": "markdown",
   "metadata": {},
   "source": [
    "Now, let's examine the distribution of the data:"
   ]
  },
  {
   "cell_type": "code",
   "execution_count": 274,
   "metadata": {},
   "outputs": [
    {
     "data": {
      "text/plain": [
       "<matplotlib.axes._subplots.AxesSubplot at 0x11aec8b00>"
      ]
     },
     "execution_count": 274,
     "metadata": {},
     "output_type": "execute_result"
    },
    {
     "data": {
      "image/png": "[encoded data removed]",
      "text/plain": [
       "<matplotlib.figure.Figure at 0x11ae76ac8>"
      ]
     },
     "metadata": {},
     "output_type": "display_data"
    }
   ],
   "source": [
    "ret=contDF[contDF.retraced.notnull()].retraced.astype(int)\n",
    "ret.plot(kind=\"box\")"
   ]
  },
  {
   "cell_type": "code",
   "execution_count": 275,
   "metadata": {},
   "outputs": [
    {
     "name": "stdout",
     "output_type": "stream",
     "text": [
      "count      34.000000\n",
      "mean     1022.205882\n",
      "std       793.995641\n",
      "min        20.000000\n",
      "25%       317.500000\n",
      "50%       885.000000\n",
      "75%      1650.000000\n",
      "max      3100.000000\n",
      "Name: retraced, dtype: float64\n"
     ]
    }
   ],
   "source": [
    "print(ret.describe())"
   ]
  },
  {
   "cell_type": "markdown",
   "metadata": {},
   "source": [
    "### No of candles\n",
    "This variable represents the number of candles since the beginning of the trade until the first RSI bounce. I am going compare the distribution of this variable depending on the `outcome` variable.<br>\n",
    "First, I will remove the NaN cases (cases where there were not RSI bounces in the trade)"
   ]
  },
  {
   "cell_type": "code",
   "execution_count": 276,
   "metadata": {},
   "outputs": [],
   "source": [
    "contDF_dropna=contDF.dropna(subset=['No of candles'])"
   ]
  },
  {
   "cell_type": "markdown",
   "metadata": {},
   "source": [
    "As an initial exploration I will create a boxplot displaying the data:"
   ]
  },
  {
   "cell_type": "code",
   "execution_count": 277,
   "metadata": {},
   "outputs": [
    {
     "data": {
      "image/png": "[encoded data removed]",
      "text/plain": [
       "<matplotlib.figure.Figure at 0x11a18c208>"
      ]
     },
     "metadata": {},
     "output_type": "display_data"
    }
   ],
   "source": [
    "ax = sns.boxplot(x=outcome_lab, y=\"No of candles\", data=contDF_dropna)"
   ]
  },
  {
   "cell_type": "markdown",
   "metadata": {},
   "source": [
    "* Mean for each category"
   ]
  },
  {
   "cell_type": "code",
   "execution_count": 278,
   "metadata": {},
   "outputs": [
    {
     "data": {
      "text/html": [
       "<div>\n",
       "<style scoped>\n",
       "    .dataframe tbody tr th:only-of-type {\n",
       "        vertical-align: middle;\n",
       "    }\n",
       "\n",
       "    .dataframe tbody tr th {\n",
       "        vertical-align: top;\n",
       "    }\n",
       "\n",
       "    .dataframe thead th {\n",
       "        text-align: right;\n",
       "    }\n",
       "</style>\n",
       "<table border=\"1\" class=\"dataframe\">\n",
       "  <thead>\n",
       "    <tr style=\"text-align: right;\">\n",
       "      <th></th>\n",
       "      <th>No of candles</th>\n",
       "    </tr>\n",
       "    <tr>\n",
       "      <th>ext_outcome</th>\n",
       "      <th></th>\n",
       "    </tr>\n",
       "  </thead>\n",
       "  <tbody>\n",
       "    <tr>\n",
       "      <th>F</th>\n",
       "      <td>11.875000</td>\n",
       "    </tr>\n",
       "    <tr>\n",
       "      <th>S</th>\n",
       "      <td>14.762712</td>\n",
       "    </tr>\n",
       "  </tbody>\n",
       "</table>\n",
       "</div>"
      ],
      "text/plain": [
       "             No of candles\n",
       "ext_outcome               \n",
       "F                11.875000\n",
       "S                14.762712"
      ]
     },
     "execution_count": 278,
     "metadata": {},
     "output_type": "execute_result"
    }
   ],
   "source": [
    "contDF.groupby(outcome_lab).agg({'No of candles': 'mean'})"
   ]
  },
  {
   "cell_type": "markdown",
   "metadata": {},
   "source": [
    "* Median for each category"
   ]
  },
  {
   "cell_type": "code",
   "execution_count": 279,
   "metadata": {},
   "outputs": [
    {
     "data": {
      "text/html": [
       "<div>\n",
       "<style scoped>\n",
       "    .dataframe tbody tr th:only-of-type {\n",
       "        vertical-align: middle;\n",
       "    }\n",
       "\n",
       "    .dataframe tbody tr th {\n",
       "        vertical-align: top;\n",
       "    }\n",
       "\n",
       "    .dataframe thead th {\n",
       "        text-align: right;\n",
       "    }\n",
       "</style>\n",
       "<table border=\"1\" class=\"dataframe\">\n",
       "  <thead>\n",
       "    <tr style=\"text-align: right;\">\n",
       "      <th></th>\n",
       "      <th>No of candles</th>\n",
       "    </tr>\n",
       "    <tr>\n",
       "      <th>ext_outcome</th>\n",
       "      <th></th>\n",
       "    </tr>\n",
       "  </thead>\n",
       "  <tbody>\n",
       "    <tr>\n",
       "      <th>F</th>\n",
       "      <td>7.0</td>\n",
       "    </tr>\n",
       "    <tr>\n",
       "      <th>S</th>\n",
       "      <td>5.0</td>\n",
       "    </tr>\n",
       "  </tbody>\n",
       "</table>\n",
       "</div>"
      ],
      "text/plain": [
       "             No of candles\n",
       "ext_outcome               \n",
       "F                      7.0\n",
       "S                      5.0"
      ]
     },
     "execution_count": 279,
     "metadata": {},
     "output_type": "execute_result"
    }
   ],
   "source": [
    "contDF.groupby(outcome_lab).agg({'No of candles': 'median'})"
   ]
  },
  {
   "cell_type": "markdown",
   "metadata": {},
   "source": [
    "Let's analyze the distribution with a histogram"
   ]
  },
  {
   "cell_type": "code",
   "execution_count": 280,
   "metadata": {},
   "outputs": [
    {
     "data": {
      "text/plain": [
       "array([<matplotlib.axes._subplots.AxesSubplot object at 0x11b1932b0>,\n",
       "       <matplotlib.axes._subplots.AxesSubplot object at 0x11b1de8d0>], dtype=object)"
      ]
     },
     "execution_count": 280,
     "metadata": {},
     "output_type": "execute_result"
    },
    {
     "data": {
      "image/png": "[encoded data removed]",
      "text/plain": [
       "<matplotlib.figure.Figure at 0x11b18d8d0>"
      ]
     },
     "metadata": {},
     "output_type": "display_data"
    }
   ],
   "source": [
    "contDF['No of candles'].hist(by=contDF[outcome_lab],figsize=(20,5),bins=40,normed=True)"
   ]
  },
  {
   "cell_type": "markdown",
   "metadata": {},
   "source": [
    "### entry on RSI\n",
    "This boolean variable will be True if the entry of the trade is in oversold/overbought RSI\n",
    "Firs, let's see the counts for each category of the variable"
   ]
  },
  {
   "cell_type": "code",
   "execution_count": 281,
   "metadata": {},
   "outputs": [
    {
     "data": {
      "text/plain": [
       "False    77\n",
       "True     22\n",
       "Name: entry on RSI, dtype: int64"
      ]
     },
     "execution_count": 281,
     "metadata": {},
     "output_type": "execute_result"
    }
   ],
   "source": [
    "contDF['entry on RSI'].value_counts()"
   ]
  },
  {
   "cell_type": "markdown",
   "metadata": {},
   "source": [
    "Let's compare the proportions for this variable between the 2 categories of the `outcome` variable"
   ]
  },
  {
   "cell_type": "code",
   "execution_count": 282,
   "metadata": {},
   "outputs": [
    {
     "name": "stdout",
     "output_type": "stream",
     "text": [
      "entry on RSI  False  True  All\n",
      "ext_outcome                   \n",
      "F                24     5   29\n",
      "S                53    17   70\n",
      "All              77    22   99\n"
     ]
    }
   ],
   "source": [
    "div_class=pd.crosstab(contDF.iloc[:,outcome_ix], contDF['entry on RSI'],margins=True)\n",
    "print(div_class)"
   ]
  },
  {
   "cell_type": "markdown",
   "metadata": {},
   "source": [
    "It's is easier to visualize the relationship if we calculate the percentages:"
   ]
  },
  {
   "cell_type": "code",
   "execution_count": 283,
   "metadata": {},
   "outputs": [
    {
     "name": "stdout",
     "output_type": "stream",
     "text": [
      "entry on RSI       False        True         All\n",
      "ext_outcome                                     \n",
      "F              31.168831   22.727273   29.292929\n",
      "S              68.831169   77.272727   70.707071\n",
      "All           100.000000  100.000000  100.000000\n"
     ]
    }
   ],
   "source": [
    "prop=(div_class/div_class.loc[\"All\"])*100\n",
    "print(prop)"
   ]
  },
  {
   "cell_type": "markdown",
   "metadata": {
    "variables": {
     "'%.1f' % prop.iloc[0, 0]": "31.2",
     "'%.1f' % prop.iloc[0, 1]": "22.7",
     "'%.1f' % prop.iloc[1, 0]": "68.8",
     "'%.1f' % prop.iloc[1, 1]": "77.3"
    }
   },
   "source": [
    "* Conclusion <br>\n",
    "Within the trades having entry on RSI there are {{'%.1f' % prop.iloc[0, 1]}}% of failures and {{'%.1f' % prop.iloc[1, 1]}}% of successes<br>\n",
    "Within the trades not having an entry on RSI there are {{'%.1f' % prop.iloc[0, 0]}}% of failures and {{'%.1f' % prop.iloc[1, 0]}}% of successes"
   ]
  },
  {
   "cell_type": "markdown",
   "metadata": {},
   "source": [
    "### length of trend\n",
    "This quantitative discrete variable measures the length of the trade measured in term of the number of candles. Let's start comparing the distribution of this variable for the different categories of the `outcome` variable"
   ]
  },
  {
   "cell_type": "code",
   "execution_count": 284,
   "metadata": {},
   "outputs": [
    {
     "data": {
      "image/png": "[encoded data removed]",
      "text/plain": [
       "<matplotlib.figure.Figure at 0x11b173400>"
      ]
     },
     "metadata": {},
     "output_type": "display_data"
    }
   ],
   "source": [
    "ax = sns.boxplot(x=outcome_lab, y=\"length of trend\", data=contDF)"
   ]
  },
  {
   "cell_type": "code",
   "execution_count": 285,
   "metadata": {},
   "outputs": [
    {
     "name": "stdout",
     "output_type": "stream",
     "text": [
      "<class 'matplotlib.axes._subplots.AxesSubplot'>\n"
     ]
    },
    {
     "data": {
      "text/plain": [
       "(0, 150)"
      ]
     },
     "execution_count": 285,
     "metadata": {},
     "output_type": "execute_result"
    },
    {
     "data": {
      "image/png": "[encoded data removed]",
      "text/plain": [
       "<matplotlib.figure.Figure at 0x11b4cab38>"
      ]
     },
     "metadata": {},
     "output_type": "display_data"
    }
   ],
   "source": [
    "axList=contDF['length of trend'].hist(by=contDF[outcome_lab],figsize=(20,5),bins=40,normed=True)\n",
    "print(type(axList[0]))\n",
    "axList[0].set_xlim((0,150))\n",
    "axList[1].set_xlim((0,150))"
   ]
  },
  {
   "cell_type": "markdown",
   "metadata": {},
   "source": [
    "* Mean for each category"
   ]
  },
  {
   "cell_type": "code",
   "execution_count": 286,
   "metadata": {},
   "outputs": [
    {
     "data": {
      "text/html": [
       "<div>\n",
       "<style scoped>\n",
       "    .dataframe tbody tr th:only-of-type {\n",
       "        vertical-align: middle;\n",
       "    }\n",
       "\n",
       "    .dataframe tbody tr th {\n",
       "        vertical-align: top;\n",
       "    }\n",
       "\n",
       "    .dataframe thead th {\n",
       "        text-align: right;\n",
       "    }\n",
       "</style>\n",
       "<table border=\"1\" class=\"dataframe\">\n",
       "  <thead>\n",
       "    <tr style=\"text-align: right;\">\n",
       "      <th></th>\n",
       "      <th>length of trend</th>\n",
       "    </tr>\n",
       "    <tr>\n",
       "      <th>ext_outcome</th>\n",
       "      <th></th>\n",
       "    </tr>\n",
       "  </thead>\n",
       "  <tbody>\n",
       "    <tr>\n",
       "      <th>F</th>\n",
       "      <td>82.241379</td>\n",
       "    </tr>\n",
       "    <tr>\n",
       "      <th>S</th>\n",
       "      <td>64.085714</td>\n",
       "    </tr>\n",
       "  </tbody>\n",
       "</table>\n",
       "</div>"
      ],
      "text/plain": [
       "             length of trend\n",
       "ext_outcome                 \n",
       "F                  82.241379\n",
       "S                  64.085714"
      ]
     },
     "execution_count": 286,
     "metadata": {},
     "output_type": "execute_result"
    }
   ],
   "source": [
    "contDF.groupby(outcome_lab).agg({'length of trend': 'mean'})"
   ]
  },
  {
   "cell_type": "markdown",
   "metadata": {},
   "source": [
    "* Median for each category"
   ]
  },
  {
   "cell_type": "code",
   "execution_count": 287,
   "metadata": {},
   "outputs": [
    {
     "data": {
      "text/html": [
       "<div>\n",
       "<style scoped>\n",
       "    .dataframe tbody tr th:only-of-type {\n",
       "        vertical-align: middle;\n",
       "    }\n",
       "\n",
       "    .dataframe tbody tr th {\n",
       "        vertical-align: top;\n",
       "    }\n",
       "\n",
       "    .dataframe thead th {\n",
       "        text-align: right;\n",
       "    }\n",
       "</style>\n",
       "<table border=\"1\" class=\"dataframe\">\n",
       "  <thead>\n",
       "    <tr style=\"text-align: right;\">\n",
       "      <th></th>\n",
       "      <th>length of trend</th>\n",
       "    </tr>\n",
       "    <tr>\n",
       "      <th>ext_outcome</th>\n",
       "      <th></th>\n",
       "    </tr>\n",
       "  </thead>\n",
       "  <tbody>\n",
       "    <tr>\n",
       "      <th>F</th>\n",
       "      <td>66</td>\n",
       "    </tr>\n",
       "    <tr>\n",
       "      <th>S</th>\n",
       "      <td>50</td>\n",
       "    </tr>\n",
       "  </tbody>\n",
       "</table>\n",
       "</div>"
      ],
      "text/plain": [
       "             length of trend\n",
       "ext_outcome                 \n",
       "F                         66\n",
       "S                         50"
      ]
     },
     "execution_count": 287,
     "metadata": {},
     "output_type": "execute_result"
    }
   ],
   "source": [
    "contDF.groupby(outcome_lab).agg({'length of trend': 'median'})"
   ]
  },
  {
   "cell_type": "markdown",
   "metadata": {},
   "source": [
    "###  trend angle\n",
    "This quantitative discrete variable measures the angle of a particular trend. Let's start comparing the distribution of this variable for the different categories of the `outcome` variable"
   ]
  },
  {
   "cell_type": "code",
   "execution_count": 288,
   "metadata": {},
   "outputs": [
    {
     "data": {
      "image/png": "[encoded data removed]",
      "text/plain": [
       "<matplotlib.figure.Figure at 0x11b7715f8>"
      ]
     },
     "metadata": {},
     "output_type": "display_data"
    }
   ],
   "source": [
    "ax = sns.boxplot(x=outcome_lab, y=\"trend angle\", data=contDF)"
   ]
  },
  {
   "cell_type": "markdown",
   "metadata": {},
   "source": [
    "* Mean for each category"
   ]
  },
  {
   "cell_type": "code",
   "execution_count": 289,
   "metadata": {},
   "outputs": [
    {
     "data": {
      "text/html": [
       "<div>\n",
       "<style scoped>\n",
       "    .dataframe tbody tr th:only-of-type {\n",
       "        vertical-align: middle;\n",
       "    }\n",
       "\n",
       "    .dataframe tbody tr th {\n",
       "        vertical-align: top;\n",
       "    }\n",
       "\n",
       "    .dataframe thead th {\n",
       "        text-align: right;\n",
       "    }\n",
       "</style>\n",
       "<table border=\"1\" class=\"dataframe\">\n",
       "  <thead>\n",
       "    <tr style=\"text-align: right;\">\n",
       "      <th></th>\n",
       "      <th>trend angle</th>\n",
       "    </tr>\n",
       "    <tr>\n",
       "      <th>ext_outcome</th>\n",
       "      <th></th>\n",
       "    </tr>\n",
       "  </thead>\n",
       "  <tbody>\n",
       "    <tr>\n",
       "      <th>F</th>\n",
       "      <td>43.517241</td>\n",
       "    </tr>\n",
       "    <tr>\n",
       "      <th>S</th>\n",
       "      <td>43.571429</td>\n",
       "    </tr>\n",
       "  </tbody>\n",
       "</table>\n",
       "</div>"
      ],
      "text/plain": [
       "             trend angle\n",
       "ext_outcome             \n",
       "F              43.517241\n",
       "S              43.571429"
      ]
     },
     "execution_count": 289,
     "metadata": {},
     "output_type": "execute_result"
    }
   ],
   "source": [
    "contDF.groupby(outcome_lab).agg({'trend angle': 'mean'})"
   ]
  },
  {
   "cell_type": "markdown",
   "metadata": {},
   "source": [
    "* Median for each category"
   ]
  },
  {
   "cell_type": "code",
   "execution_count": 290,
   "metadata": {},
   "outputs": [
    {
     "data": {
      "text/html": [
       "<div>\n",
       "<style scoped>\n",
       "    .dataframe tbody tr th:only-of-type {\n",
       "        vertical-align: middle;\n",
       "    }\n",
       "\n",
       "    .dataframe tbody tr th {\n",
       "        vertical-align: top;\n",
       "    }\n",
       "\n",
       "    .dataframe thead th {\n",
       "        text-align: right;\n",
       "    }\n",
       "</style>\n",
       "<table border=\"1\" class=\"dataframe\">\n",
       "  <thead>\n",
       "    <tr style=\"text-align: right;\">\n",
       "      <th></th>\n",
       "      <th>trend angle</th>\n",
       "    </tr>\n",
       "    <tr>\n",
       "      <th>ext_outcome</th>\n",
       "      <th></th>\n",
       "    </tr>\n",
       "  </thead>\n",
       "  <tbody>\n",
       "    <tr>\n",
       "      <th>F</th>\n",
       "      <td>42.0</td>\n",
       "    </tr>\n",
       "    <tr>\n",
       "      <th>S</th>\n",
       "      <td>43.0</td>\n",
       "    </tr>\n",
       "  </tbody>\n",
       "</table>\n",
       "</div>"
      ],
      "text/plain": [
       "             trend angle\n",
       "ext_outcome             \n",
       "F                   42.0\n",
       "S                   43.0"
      ]
     },
     "execution_count": 290,
     "metadata": {},
     "output_type": "execute_result"
    }
   ],
   "source": [
    "contDF.groupby(outcome_lab).agg({'trend angle': 'median'})"
   ]
  },
  {
   "cell_type": "markdown",
   "metadata": {},
   "source": [
    "* Histogram"
   ]
  },
  {
   "cell_type": "code",
   "execution_count": 291,
   "metadata": {},
   "outputs": [
    {
     "data": {
      "image/png": "[encoded data removed]",
      "text/plain": [
       "<matplotlib.figure.Figure at 0x11b61acc0>"
      ]
     },
     "metadata": {},
     "output_type": "display_data"
    }
   ],
   "source": [
    "axList=contDF['trend angle'].hist(by=contDF[outcome_lab],figsize=(20,5),bins=20)"
   ]
  },
  {
   "cell_type": "markdown",
   "metadata": {},
   "source": [
    "### inn_bounce\n",
    "Integer variable representing the number of candles of the inner bounce. Let's start comparing the distribution of this variable for the different categories of the `outcome` variable"
   ]
  },
  {
   "cell_type": "code",
   "execution_count": 292,
   "metadata": {},
   "outputs": [
    {
     "data": {
      "image/png": "[encoded data removed]",
      "text/plain": [
       "<matplotlib.figure.Figure at 0x119bf99e8>"
      ]
     },
     "metadata": {},
     "output_type": "display_data"
    }
   ],
   "source": [
    "ax = sns.boxplot(x=outcome_lab, y=\"inn_bounce\", data=contDF)"
   ]
  },
  {
   "cell_type": "markdown",
   "metadata": {},
   "source": [
    "* Mean for each category"
   ]
  },
  {
   "cell_type": "code",
   "execution_count": 293,
   "metadata": {},
   "outputs": [
    {
     "data": {
      "text/html": [
       "<div>\n",
       "<style scoped>\n",
       "    .dataframe tbody tr th:only-of-type {\n",
       "        vertical-align: middle;\n",
       "    }\n",
       "\n",
       "    .dataframe tbody tr th {\n",
       "        vertical-align: top;\n",
       "    }\n",
       "\n",
       "    .dataframe thead th {\n",
       "        text-align: right;\n",
       "    }\n",
       "</style>\n",
       "<table border=\"1\" class=\"dataframe\">\n",
       "  <thead>\n",
       "    <tr style=\"text-align: right;\">\n",
       "      <th></th>\n",
       "      <th>inn_bounce</th>\n",
       "    </tr>\n",
       "    <tr>\n",
       "      <th>ext_outcome</th>\n",
       "      <th></th>\n",
       "    </tr>\n",
       "  </thead>\n",
       "  <tbody>\n",
       "    <tr>\n",
       "      <th>F</th>\n",
       "      <td>14.068966</td>\n",
       "    </tr>\n",
       "    <tr>\n",
       "      <th>S</th>\n",
       "      <td>10.714286</td>\n",
       "    </tr>\n",
       "  </tbody>\n",
       "</table>\n",
       "</div>"
      ],
      "text/plain": [
       "             inn_bounce\n",
       "ext_outcome            \n",
       "F             14.068966\n",
       "S             10.714286"
      ]
     },
     "execution_count": 293,
     "metadata": {},
     "output_type": "execute_result"
    }
   ],
   "source": [
    "contDF.groupby(outcome_lab).agg({'inn_bounce': 'mean'})"
   ]
  },
  {
   "cell_type": "markdown",
   "metadata": {},
   "source": [
    "* Median for each category"
   ]
  },
  {
   "cell_type": "code",
   "execution_count": 294,
   "metadata": {},
   "outputs": [
    {
     "data": {
      "text/html": [
       "<div>\n",
       "<style scoped>\n",
       "    .dataframe tbody tr th:only-of-type {\n",
       "        vertical-align: middle;\n",
       "    }\n",
       "\n",
       "    .dataframe tbody tr th {\n",
       "        vertical-align: top;\n",
       "    }\n",
       "\n",
       "    .dataframe thead th {\n",
       "        text-align: right;\n",
       "    }\n",
       "</style>\n",
       "<table border=\"1\" class=\"dataframe\">\n",
       "  <thead>\n",
       "    <tr style=\"text-align: right;\">\n",
       "      <th></th>\n",
       "      <th>inn_bounce</th>\n",
       "    </tr>\n",
       "    <tr>\n",
       "      <th>ext_outcome</th>\n",
       "      <th></th>\n",
       "    </tr>\n",
       "  </thead>\n",
       "  <tbody>\n",
       "    <tr>\n",
       "      <th>F</th>\n",
       "      <td>11.0</td>\n",
       "    </tr>\n",
       "    <tr>\n",
       "      <th>S</th>\n",
       "      <td>8.0</td>\n",
       "    </tr>\n",
       "  </tbody>\n",
       "</table>\n",
       "</div>"
      ],
      "text/plain": [
       "             inn_bounce\n",
       "ext_outcome            \n",
       "F                  11.0\n",
       "S                   8.0"
      ]
     },
     "execution_count": 294,
     "metadata": {},
     "output_type": "execute_result"
    }
   ],
   "source": [
    "contDF.groupby(outcome_lab).agg({'inn_bounce': 'median'})"
   ]
  },
  {
   "cell_type": "markdown",
   "metadata": {},
   "source": [
    "* Histogram"
   ]
  },
  {
   "cell_type": "code",
   "execution_count": 295,
   "metadata": {},
   "outputs": [
    {
     "data": {
      "image/png": "[encoded data removed]",
      "text/plain": [
       "<matplotlib.figure.Figure at 0x11b3f5dd8>"
      ]
     },
     "metadata": {},
     "output_type": "display_data"
    }
   ],
   "source": [
    "axList=contDF['inn_bounce'].hist(by=contDF[outcome_lab],figsize=(20,5),bins=15,normed=True)"
   ]
  },
  {
   "cell_type": "markdown",
   "metadata": {},
   "source": [
    "### indecission\n",
    "Integer variable representing the number of candles the price stays in S/R, without considering the bounce and only considering the candles pre/post bounce. Let's start comparing the distribution of this variable for the different categories of the `outcome` variable"
   ]
  },
  {
   "cell_type": "code",
   "execution_count": 296,
   "metadata": {},
   "outputs": [
    {
     "data": {
      "image/png": "[encoded data removed]",
      "text/plain": [
       "<matplotlib.figure.Figure at 0x1195a8978>"
      ]
     },
     "metadata": {},
     "output_type": "display_data"
    }
   ],
   "source": [
    "ax = sns.boxplot(x=outcome_lab, y=\"indecission\", data=contDF)"
   ]
  },
  {
   "cell_type": "markdown",
   "metadata": {},
   "source": [
    "* Mean for each category"
   ]
  },
  {
   "cell_type": "code",
   "execution_count": 297,
   "metadata": {},
   "outputs": [
    {
     "data": {
      "text/html": [
       "<div>\n",
       "<style scoped>\n",
       "    .dataframe tbody tr th:only-of-type {\n",
       "        vertical-align: middle;\n",
       "    }\n",
       "\n",
       "    .dataframe tbody tr th {\n",
       "        vertical-align: top;\n",
       "    }\n",
       "\n",
       "    .dataframe thead th {\n",
       "        text-align: right;\n",
       "    }\n",
       "</style>\n",
       "<table border=\"1\" class=\"dataframe\">\n",
       "  <thead>\n",
       "    <tr style=\"text-align: right;\">\n",
       "      <th></th>\n",
       "      <th>indecission</th>\n",
       "    </tr>\n",
       "    <tr>\n",
       "      <th>ext_outcome</th>\n",
       "      <th></th>\n",
       "    </tr>\n",
       "  </thead>\n",
       "  <tbody>\n",
       "    <tr>\n",
       "      <th>F</th>\n",
       "      <td>5.62069</td>\n",
       "    </tr>\n",
       "    <tr>\n",
       "      <th>S</th>\n",
       "      <td>4.60000</td>\n",
       "    </tr>\n",
       "  </tbody>\n",
       "</table>\n",
       "</div>"
      ],
      "text/plain": [
       "             indecission\n",
       "ext_outcome             \n",
       "F                5.62069\n",
       "S                4.60000"
      ]
     },
     "execution_count": 297,
     "metadata": {},
     "output_type": "execute_result"
    }
   ],
   "source": [
    "contDF.groupby(outcome_lab).agg({'indecission': 'mean'})"
   ]
  },
  {
   "cell_type": "markdown",
   "metadata": {},
   "source": [
    "* Median for each category"
   ]
  },
  {
   "cell_type": "code",
   "execution_count": 298,
   "metadata": {},
   "outputs": [
    {
     "data": {
      "text/html": [
       "<div>\n",
       "<style scoped>\n",
       "    .dataframe tbody tr th:only-of-type {\n",
       "        vertical-align: middle;\n",
       "    }\n",
       "\n",
       "    .dataframe tbody tr th {\n",
       "        vertical-align: top;\n",
       "    }\n",
       "\n",
       "    .dataframe thead th {\n",
       "        text-align: right;\n",
       "    }\n",
       "</style>\n",
       "<table border=\"1\" class=\"dataframe\">\n",
       "  <thead>\n",
       "    <tr style=\"text-align: right;\">\n",
       "      <th></th>\n",
       "      <th>indecission</th>\n",
       "    </tr>\n",
       "    <tr>\n",
       "      <th>ext_outcome</th>\n",
       "      <th></th>\n",
       "    </tr>\n",
       "  </thead>\n",
       "  <tbody>\n",
       "    <tr>\n",
       "      <th>F</th>\n",
       "      <td>4.0</td>\n",
       "    </tr>\n",
       "    <tr>\n",
       "      <th>S</th>\n",
       "      <td>3.0</td>\n",
       "    </tr>\n",
       "  </tbody>\n",
       "</table>\n",
       "</div>"
      ],
      "text/plain": [
       "             indecission\n",
       "ext_outcome             \n",
       "F                    4.0\n",
       "S                    3.0"
      ]
     },
     "execution_count": 298,
     "metadata": {},
     "output_type": "execute_result"
    }
   ],
   "source": [
    "contDF.groupby(outcome_lab).agg({'indecission': 'median'})"
   ]
  },
  {
   "cell_type": "markdown",
   "metadata": {},
   "source": [
    "* Histogram"
   ]
  },
  {
   "cell_type": "code",
   "execution_count": 299,
   "metadata": {},
   "outputs": [
    {
     "data": {
      "image/png": "[encoded data removed]",
      "text/plain": [
       "<matplotlib.figure.Figure at 0x11b7ffc88>"
      ]
     },
     "metadata": {},
     "output_type": "display_data"
    }
   ],
   "source": [
    "axList=contDF['indecission'].hist(by=contDF[outcome_lab],figsize=(20,5),bins=15,normed=True)"
   ]
  },
  {
   "cell_type": "markdown",
   "metadata": {},
   "source": [
    "### Strong trend\n",
    "Boolean that is TRUE when trend is strong, FALSE otherwise."
   ]
  },
  {
   "cell_type": "markdown",
   "metadata": {},
   "source": [
    "Let's compare the proportions for this variable between the 2 categories of the `outcome` variable"
   ]
  },
  {
   "cell_type": "code",
   "execution_count": 300,
   "metadata": {},
   "outputs": [
    {
     "name": "stdout",
     "output_type": "stream",
     "text": [
      "strong trend  False  True  All\n",
      "ext_outcome                   \n",
      "F                19    10   29\n",
      "S                33    37   70\n",
      "All              52    47   99\n"
     ]
    }
   ],
   "source": [
    "div_class=pd.crosstab(contDF.iloc[:,outcome_ix], contDF['strong trend'],margins=True)\n",
    "print(div_class)"
   ]
  },
  {
   "cell_type": "markdown",
   "metadata": {},
   "source": [
    "It's is easier to visualize the relationship if we calculate the percentages:"
   ]
  },
  {
   "cell_type": "code",
   "execution_count": 301,
   "metadata": {},
   "outputs": [
    {
     "name": "stdout",
     "output_type": "stream",
     "text": [
      "strong trend       False        True         All\n",
      "ext_outcome                                     \n",
      "F              36.538462   21.276596   29.292929\n",
      "S              63.461538   78.723404   70.707071\n",
      "All           100.000000  100.000000  100.000000\n"
     ]
    }
   ],
   "source": [
    "propStrength=(div_class/div_class.loc[\"All\"])*100\n",
    "print(propStrength)"
   ]
  },
  {
   "cell_type": "markdown",
   "metadata": {
    "variables": {
     "'%.1f' % propStrength.iloc[0, 0]": "36.5",
     "'%.1f' % propStrength.iloc[0, 1]": "21.3",
     "'%.1f' % propStrength.iloc[1, 0]": "63.5",
     "'%.1f' % propStrength.iloc[1, 1]": "78.7"
    }
   },
   "source": [
    "* Conclusion <br>\n",
    "Within the trades trending strongly there are {{'%.1f' % propStrength.iloc[0, 1]}}% of failures and {{'%.1f' % propStrength.iloc[1, 1]}}% of successes<br>\n",
    "Within the trades not trending strongly there are {{'%.1f' % propStrength.iloc[0, 0]}}% of failures and {{'%.1f' % propStrength.iloc[1, 0]}}% of successes"
   ]
  },
  {
   "cell_type": "markdown",
   "metadata": {},
   "source": [
    "## length in pips (norm)"
   ]
  },
  {
   "cell_type": "code",
   "execution_count": 370,
   "metadata": {},
   "outputs": [
    {
     "data": {
      "image/png": "[encoded data removed]",
      "text/plain": [
       "<matplotlib.figure.Figure at 0x11a5b8438>"
      ]
     },
     "metadata": {},
     "output_type": "display_data"
    }
   ],
   "source": [
    "ax = sns.boxplot(x=outcome_lab, y=\"length in pips (norm)\", data=contDF)"
   ]
  },
  {
   "cell_type": "markdown",
   "metadata": {},
   "source": [
    "* Mean for each category"
   ]
  },
  {
   "cell_type": "code",
   "execution_count": 371,
   "metadata": {},
   "outputs": [
    {
     "data": {
      "text/html": [
       "<div>\n",
       "<style scoped>\n",
       "    .dataframe tbody tr th:only-of-type {\n",
       "        vertical-align: middle;\n",
       "    }\n",
       "\n",
       "    .dataframe tbody tr th {\n",
       "        vertical-align: top;\n",
       "    }\n",
       "\n",
       "    .dataframe thead th {\n",
       "        text-align: right;\n",
       "    }\n",
       "</style>\n",
       "<table border=\"1\" class=\"dataframe\">\n",
       "  <thead>\n",
       "    <tr style=\"text-align: right;\">\n",
       "      <th></th>\n",
       "      <th>length in pips (norm)</th>\n",
       "    </tr>\n",
       "    <tr>\n",
       "      <th>ext_outcome</th>\n",
       "      <th></th>\n",
       "    </tr>\n",
       "  </thead>\n",
       "  <tbody>\n",
       "    <tr>\n",
       "      <th>F</th>\n",
       "      <td>10.966069</td>\n",
       "    </tr>\n",
       "    <tr>\n",
       "      <th>S</th>\n",
       "      <td>10.937015</td>\n",
       "    </tr>\n",
       "  </tbody>\n",
       "</table>\n",
       "</div>"
      ],
      "text/plain": [
       "             length in pips (norm)\n",
       "ext_outcome                       \n",
       "F                        10.966069\n",
       "S                        10.937015"
      ]
     },
     "execution_count": 371,
     "metadata": {},
     "output_type": "execute_result"
    }
   ],
   "source": [
    "contDF.groupby(outcome_lab).agg({'length in pips (norm)': 'mean'})"
   ]
  },
  {
   "cell_type": "code",
   "execution_count": null,
   "metadata": {},
   "outputs": [],
   "source": [
    "* Median for each category"
   ]
  },
  {
   "cell_type": "code",
   "execution_count": 372,
   "metadata": {},
   "outputs": [
    {
     "data": {
      "text/html": [
       "<div>\n",
       "<style scoped>\n",
       "    .dataframe tbody tr th:only-of-type {\n",
       "        vertical-align: middle;\n",
       "    }\n",
       "\n",
       "    .dataframe tbody tr th {\n",
       "        vertical-align: top;\n",
       "    }\n",
       "\n",
       "    .dataframe thead th {\n",
       "        text-align: right;\n",
       "    }\n",
       "</style>\n",
       "<table border=\"1\" class=\"dataframe\">\n",
       "  <thead>\n",
       "    <tr style=\"text-align: right;\">\n",
       "      <th></th>\n",
       "      <th>length in pips (norm)</th>\n",
       "    </tr>\n",
       "    <tr>\n",
       "      <th>ext_outcome</th>\n",
       "      <th></th>\n",
       "    </tr>\n",
       "  </thead>\n",
       "  <tbody>\n",
       "    <tr>\n",
       "      <th>F</th>\n",
       "      <td>9.164773</td>\n",
       "    </tr>\n",
       "    <tr>\n",
       "      <th>S</th>\n",
       "      <td>9.098837</td>\n",
       "    </tr>\n",
       "  </tbody>\n",
       "</table>\n",
       "</div>"
      ],
      "text/plain": [
       "             length in pips (norm)\n",
       "ext_outcome                       \n",
       "F                         9.164773\n",
       "S                         9.098837"
      ]
     },
     "execution_count": 372,
     "metadata": {},
     "output_type": "execute_result"
    }
   ],
   "source": [
    "contDF.groupby(outcome_lab).agg({'length in pips (norm)': 'median'})"
   ]
  },
  {
   "cell_type": "markdown",
   "metadata": {},
   "source": [
    "### bounce length\n",
    "This variable is a comma separated list of integers representing how wide (in number of candles) each of the RSI bounces is. This variable requires a little bit of preprocessing, and I will write a function that calculates the total length (in number of candles) by adding the length of each of the bounces"
   ]
  },
  {
   "cell_type": "code",
   "execution_count": 302,
   "metadata": {},
   "outputs": [],
   "source": [
    "def sum_lengths(x):\n",
    "    '''\n",
    "    Function to calculate the sum (in number of candles)\n",
    "    of all the RSI bounces\n",
    "    \n",
    "    Parameters\n",
    "    ----------\n",
    "    x = string with a comma separated list of numbers\n",
    "        i.e. 1,4,2,3\n",
    "        \n",
    "    Returns\n",
    "    -------\n",
    "    An integer representing the total bounce length\n",
    "    '''\n",
    "    \n",
    "    return sum([int(i) for i in x.split(\",\")])\n",
    "    "
   ]
  },
  {
   "cell_type": "markdown",
   "metadata": {},
   "source": [
    "Now, I am going to remove the NaN values from the variable"
   ]
  },
  {
   "cell_type": "code",
   "execution_count": 303,
   "metadata": {},
   "outputs": [],
   "source": [
    "contDF_dropna=contDF.dropna(subset=['bounce length'])"
   ]
  },
  {
   "cell_type": "markdown",
   "metadata": {},
   "source": [
    "And I will apply the `sum_lengths` function and put the results in a new column named `sum_bounces`"
   ]
  },
  {
   "cell_type": "code",
   "execution_count": 304,
   "metadata": {},
   "outputs": [
    {
     "name": "stderr",
     "output_type": "stream",
     "text": [
      "/Users/ernesto/bin/anaconda/envs/python3/lib/python3.5/site-packages/ipykernel_launcher.py:1: SettingWithCopyWarning: \n",
      "A value is trying to be set on a copy of a slice from a DataFrame.\n",
      "Try using .loc[row_indexer,col_indexer] = value instead\n",
      "\n",
      "See the caveats in the documentation: http://pandas.pydata.org/pandas-docs/stable/indexing.html#indexing-view-versus-copy\n",
      "  \"\"\"Entry point for launching an IPython kernel.\n"
     ]
    }
   ],
   "source": [
    "contDF_dropna['sum_bounces']=contDF_dropna['bounce length'].astype(str).apply(sum_lengths)"
   ]
  },
  {
   "cell_type": "markdown",
   "metadata": {},
   "source": [
    "Now, I will plot the distribution of this new variable on each `outcome`category:"
   ]
  },
  {
   "cell_type": "code",
   "execution_count": 305,
   "metadata": {},
   "outputs": [
    {
     "data": {
      "image/png": "[encoded data removed]",
      "text/plain": [
       "<matplotlib.figure.Figure at 0x1183d53c8>"
      ]
     },
     "metadata": {},
     "output_type": "display_data"
    }
   ],
   "source": [
    "ax = sns.boxplot(x=outcome_lab, y=\"sum_bounces\", data=contDF_dropna)"
   ]
  },
  {
   "cell_type": "markdown",
   "metadata": {},
   "source": [
    "* Mean for each category"
   ]
  },
  {
   "cell_type": "code",
   "execution_count": 306,
   "metadata": {},
   "outputs": [
    {
     "data": {
      "text/html": [
       "<div>\n",
       "<style scoped>\n",
       "    .dataframe tbody tr th:only-of-type {\n",
       "        vertical-align: middle;\n",
       "    }\n",
       "\n",
       "    .dataframe tbody tr th {\n",
       "        vertical-align: top;\n",
       "    }\n",
       "\n",
       "    .dataframe thead th {\n",
       "        text-align: right;\n",
       "    }\n",
       "</style>\n",
       "<table border=\"1\" class=\"dataframe\">\n",
       "  <thead>\n",
       "    <tr style=\"text-align: right;\">\n",
       "      <th></th>\n",
       "      <th>sum_bounces</th>\n",
       "    </tr>\n",
       "    <tr>\n",
       "      <th>ext_outcome</th>\n",
       "      <th></th>\n",
       "    </tr>\n",
       "  </thead>\n",
       "  <tbody>\n",
       "    <tr>\n",
       "      <th>F</th>\n",
       "      <td>12.500000</td>\n",
       "    </tr>\n",
       "    <tr>\n",
       "      <th>S</th>\n",
       "      <td>10.101695</td>\n",
       "    </tr>\n",
       "  </tbody>\n",
       "</table>\n",
       "</div>"
      ],
      "text/plain": [
       "             sum_bounces\n",
       "ext_outcome             \n",
       "F              12.500000\n",
       "S              10.101695"
      ]
     },
     "execution_count": 306,
     "metadata": {},
     "output_type": "execute_result"
    }
   ],
   "source": [
    "contDF_dropna.groupby(outcome_lab).agg({'sum_bounces': 'mean'})"
   ]
  },
  {
   "cell_type": "markdown",
   "metadata": {},
   "source": [
    "* Median for each category"
   ]
  },
  {
   "cell_type": "code",
   "execution_count": 307,
   "metadata": {},
   "outputs": [
    {
     "data": {
      "text/html": [
       "<div>\n",
       "<style scoped>\n",
       "    .dataframe tbody tr th:only-of-type {\n",
       "        vertical-align: middle;\n",
       "    }\n",
       "\n",
       "    .dataframe tbody tr th {\n",
       "        vertical-align: top;\n",
       "    }\n",
       "\n",
       "    .dataframe thead th {\n",
       "        text-align: right;\n",
       "    }\n",
       "</style>\n",
       "<table border=\"1\" class=\"dataframe\">\n",
       "  <thead>\n",
       "    <tr style=\"text-align: right;\">\n",
       "      <th></th>\n",
       "      <th>sum_bounces</th>\n",
       "    </tr>\n",
       "    <tr>\n",
       "      <th>ext_outcome</th>\n",
       "      <th></th>\n",
       "    </tr>\n",
       "  </thead>\n",
       "  <tbody>\n",
       "    <tr>\n",
       "      <th>F</th>\n",
       "      <td>9</td>\n",
       "    </tr>\n",
       "    <tr>\n",
       "      <th>S</th>\n",
       "      <td>5</td>\n",
       "    </tr>\n",
       "  </tbody>\n",
       "</table>\n",
       "</div>"
      ],
      "text/plain": [
       "             sum_bounces\n",
       "ext_outcome             \n",
       "F                      9\n",
       "S                      5"
      ]
     },
     "execution_count": 307,
     "metadata": {},
     "output_type": "execute_result"
    }
   ],
   "source": [
    "contDF_dropna.groupby(outcome_lab).agg({'sum_bounces': 'median'})"
   ]
  },
  {
   "cell_type": "markdown",
   "metadata": {},
   "source": [
    "### last time\n",
    "This datetime variable represents the last time the price was over/below the entry price level. The first to do is to create a new datetime variable representing the difference (in days) between the entry datetime (start column) and the last time datetime."
   ]
  },
  {
   "cell_type": "code",
   "execution_count": 308,
   "metadata": {},
   "outputs": [],
   "source": [
    "contDF['diff']=(contDF['start']-contDF['last time'])"
   ]
  },
  {
   "cell_type": "code",
   "execution_count": 309,
   "metadata": {},
   "outputs": [],
   "source": [
    "contDF['diff']=contDF['diff'].apply(lambda x: x.days)"
   ]
  },
  {
   "cell_type": "markdown",
   "metadata": {},
   "source": [
    "Now, let's examine the distribution of this newly created `diff` variable in the 2 `outcome` categories"
   ]
  },
  {
   "cell_type": "code",
   "execution_count": 310,
   "metadata": {},
   "outputs": [
    {
     "data": {
      "image/png": "[encoded data removed]",
      "text/plain": [
       "<matplotlib.figure.Figure at 0x118f43048>"
      ]
     },
     "metadata": {},
     "output_type": "display_data"
    }
   ],
   "source": [
    "ax = sns.boxplot(x=\"outcome\", y=\"diff\", data=contDF)"
   ]
  },
  {
   "cell_type": "markdown",
   "metadata": {},
   "source": [
    "* Mean for each category"
   ]
  },
  {
   "cell_type": "code",
   "execution_count": 311,
   "metadata": {},
   "outputs": [
    {
     "data": {
      "text/html": [
       "<div>\n",
       "<style scoped>\n",
       "    .dataframe tbody tr th:only-of-type {\n",
       "        vertical-align: middle;\n",
       "    }\n",
       "\n",
       "    .dataframe tbody tr th {\n",
       "        vertical-align: top;\n",
       "    }\n",
       "\n",
       "    .dataframe thead th {\n",
       "        text-align: right;\n",
       "    }\n",
       "</style>\n",
       "<table border=\"1\" class=\"dataframe\">\n",
       "  <thead>\n",
       "    <tr style=\"text-align: right;\">\n",
       "      <th></th>\n",
       "      <th>diff</th>\n",
       "    </tr>\n",
       "    <tr>\n",
       "      <th>ext_outcome</th>\n",
       "      <th></th>\n",
       "    </tr>\n",
       "  </thead>\n",
       "  <tbody>\n",
       "    <tr>\n",
       "      <th>F</th>\n",
       "      <td>605.250000</td>\n",
       "    </tr>\n",
       "    <tr>\n",
       "      <th>S</th>\n",
       "      <td>541.571429</td>\n",
       "    </tr>\n",
       "  </tbody>\n",
       "</table>\n",
       "</div>"
      ],
      "text/plain": [
       "                   diff\n",
       "ext_outcome            \n",
       "F            605.250000\n",
       "S            541.571429"
      ]
     },
     "execution_count": 311,
     "metadata": {},
     "output_type": "execute_result"
    }
   ],
   "source": [
    "contDF.groupby(outcome_lab).agg({'diff': 'mean'})"
   ]
  },
  {
   "cell_type": "markdown",
   "metadata": {},
   "source": [
    "* Median for each category"
   ]
  },
  {
   "cell_type": "code",
   "execution_count": 312,
   "metadata": {},
   "outputs": [
    {
     "data": {
      "text/html": [
       "<div>\n",
       "<style scoped>\n",
       "    .dataframe tbody tr th:only-of-type {\n",
       "        vertical-align: middle;\n",
       "    }\n",
       "\n",
       "    .dataframe tbody tr th {\n",
       "        vertical-align: top;\n",
       "    }\n",
       "\n",
       "    .dataframe thead th {\n",
       "        text-align: right;\n",
       "    }\n",
       "</style>\n",
       "<table border=\"1\" class=\"dataframe\">\n",
       "  <thead>\n",
       "    <tr style=\"text-align: right;\">\n",
       "      <th></th>\n",
       "      <th>diff</th>\n",
       "    </tr>\n",
       "    <tr>\n",
       "      <th>ext_outcome</th>\n",
       "      <th></th>\n",
       "    </tr>\n",
       "  </thead>\n",
       "  <tbody>\n",
       "    <tr>\n",
       "      <th>F</th>\n",
       "      <td>408.5</td>\n",
       "    </tr>\n",
       "    <tr>\n",
       "      <th>S</th>\n",
       "      <td>414.5</td>\n",
       "    </tr>\n",
       "  </tbody>\n",
       "</table>\n",
       "</div>"
      ],
      "text/plain": [
       "              diff\n",
       "ext_outcome       \n",
       "F            408.5\n",
       "S            414.5"
      ]
     },
     "execution_count": 312,
     "metadata": {},
     "output_type": "execute_result"
    }
   ],
   "source": [
    "contDF.groupby(outcome_lab).agg({'diff': 'median'})"
   ]
  },
  {
   "cell_type": "markdown",
   "metadata": {},
   "source": [
    "* Histogram"
   ]
  },
  {
   "cell_type": "code",
   "execution_count": 313,
   "metadata": {},
   "outputs": [
    {
     "data": {
      "image/png": "[encoded data removed]",
      "text/plain": [
       "<matplotlib.figure.Figure at 0x1197d8f60>"
      ]
     },
     "metadata": {},
     "output_type": "display_data"
    }
   ],
   "source": [
    "axList=contDF['diff'].hist(by=contDF[outcome_lab],figsize=(20,5),bins=10,normed=True)"
   ]
  },
  {
   "cell_type": "markdown",
   "metadata": {},
   "source": [
    "### Correlations\n",
    "In this section, I will analyze the correlation of each of the numerical variables in the dataframe"
   ]
  },
  {
   "cell_type": "code",
   "execution_count": 314,
   "metadata": {},
   "outputs": [
    {
     "data": {
      "text/plain": [
       "array([[<matplotlib.axes._subplots.AxesSubplot object at 0x11a585cf8>,\n",
       "        <matplotlib.axes._subplots.AxesSubplot object at 0x119233ac8>,\n",
       "        <matplotlib.axes._subplots.AxesSubplot object at 0x11923d5f8>,\n",
       "        <matplotlib.axes._subplots.AxesSubplot object at 0x11b2a5d30>,\n",
       "        <matplotlib.axes._subplots.AxesSubplot object at 0x11b1d3b38>,\n",
       "        <matplotlib.axes._subplots.AxesSubplot object at 0x11b7516d8>],\n",
       "       [<matplotlib.axes._subplots.AxesSubplot object at 0x119223da0>,\n",
       "        <matplotlib.axes._subplots.AxesSubplot object at 0x11b7eada0>,\n",
       "        <matplotlib.axes._subplots.AxesSubplot object at 0x11b4ef5c0>,\n",
       "        <matplotlib.axes._subplots.AxesSubplot object at 0x11b4e29e8>,\n",
       "        <matplotlib.axes._subplots.AxesSubplot object at 0x11b4825f8>,\n",
       "        <matplotlib.axes._subplots.AxesSubplot object at 0x11b7d0978>],\n",
       "       [<matplotlib.axes._subplots.AxesSubplot object at 0x11b6d3748>,\n",
       "        <matplotlib.axes._subplots.AxesSubplot object at 0x11b720978>,\n",
       "        <matplotlib.axes._subplots.AxesSubplot object at 0x11b528400>,\n",
       "        <matplotlib.axes._subplots.AxesSubplot object at 0x11b65ec18>,\n",
       "        <matplotlib.axes._subplots.AxesSubplot object at 0x11ae22b70>,\n",
       "        <matplotlib.axes._subplots.AxesSubplot object at 0x11ad33668>],\n",
       "       [<matplotlib.axes._subplots.AxesSubplot object at 0x11ad3f320>,\n",
       "        <matplotlib.axes._subplots.AxesSubplot object at 0x11b5a17f0>,\n",
       "        <matplotlib.axes._subplots.AxesSubplot object at 0x11b84db70>,\n",
       "        <matplotlib.axes._subplots.AxesSubplot object at 0x11bac1940>,\n",
       "        <matplotlib.axes._subplots.AxesSubplot object at 0x11bb0cb70>,\n",
       "        <matplotlib.axes._subplots.AxesSubplot object at 0x11bb6b5f8>],\n",
       "       [<matplotlib.axes._subplots.AxesSubplot object at 0x11bbb2cf8>,\n",
       "        <matplotlib.axes._subplots.AxesSubplot object at 0x11bbe0b00>,\n",
       "        <matplotlib.axes._subplots.AxesSubplot object at 0x11bc4f7b8>,\n",
       "        <matplotlib.axes._subplots.AxesSubplot object at 0x11bc5b908>,\n",
       "        <matplotlib.axes._subplots.AxesSubplot object at 0x11bcea908>,\n",
       "        <matplotlib.axes._subplots.AxesSubplot object at 0x11bd31c50>],\n",
       "       [<matplotlib.axes._subplots.AxesSubplot object at 0x11bd84a58>,\n",
       "        <matplotlib.axes._subplots.AxesSubplot object at 0x11bdd0c50>,\n",
       "        <matplotlib.axes._subplots.AxesSubplot object at 0x11be2d6d8>,\n",
       "        <matplotlib.axes._subplots.AxesSubplot object at 0x11a197080>,\n",
       "        <matplotlib.axes._subplots.AxesSubplot object at 0x11a5e07f0>,\n",
       "        <matplotlib.axes._subplots.AxesSubplot object at 0x11ac4c048>]], dtype=object)"
      ]
     },
     "execution_count": 314,
     "metadata": {},
     "output_type": "execute_result"
    },
    {
     "data": {
      "image/png": "[encoded data removed]",
      "text/plain": [
       "<matplotlib.figure.Figure at 0x11a5c12e8>"
      ]
     },
     "metadata": {},
     "output_type": "display_data"
    }
   ],
   "source": [
    "attributes = [\"inn_bounce\", \"indecission\", \"trend angle\",\"length of trend\",\"RSI bounces\",\"sum_bounces\"]\n",
    "scatter_matrix(contDF_dropna[attributes], figsize=(12, 8))"
   ]
  },
  {
   "cell_type": "markdown",
   "metadata": {},
   "source": [
    "* Conclusion<br>\n",
    "After inspecting the plots we see that there are the following correlations:<br>\n",
    "-negative correlation between trend angle and length of trend<br>\n",
    "-positive correlation between sum_bounces and RSI bounces"
   ]
  },
  {
   "cell_type": "markdown",
   "metadata": {
    "variables": {
     "'%.0f' % medianBounce.iloc[0,0]": "3",
     "'%.0f' % medianBounce.iloc[1,0]": "1",
     "'%.1f' % prop.iloc[0, 0]": "31.2",
     "'%.1f' % prop.iloc[0, 1]": "22.7",
     "'%.1f' % prop.iloc[1, 0]": "68.8",
     "'%.1f' % prop.iloc[1, 1]": "77.3",
     "'%.1f' % propCp1.iloc[0, 0]": "21.7",
     "'%.1f' % propCp1.iloc[0, 1]": "46.7",
     "'%.1f' % propCp1.iloc[1, 0]": "78.3",
     "'%.1f' % propCp1.iloc[1, 1]": "53.3"
    }
   },
   "source": [
    "## Conclusions\n",
    "\n",
    "This section collects all the conclusions derived from the first exploration of the data. It shows the variable that are relevant and irrelevant for the fate of the continuation trades.<br>\n",
    "* Relevant:<br>\n",
    "1) Candle +1 against trade <br>\n",
    "Within the trades with IC+1 against the trade there are {{'%.1f' % propCp1.iloc[0, 1]}}% of failures and {{'%.1f' % propCp1.iloc[1, 1]}}% of successes<br>\n",
    "Within the trades with IC+1 in favour of the trade there are {{'%.1f' % propCp1.iloc[0, 0]}}% of failures and {{'%.1f' % propCp1.iloc[1, 0]}}% of successes<br>\n",
    "2) RSI bounces <br>\n",
    "The median number of bounces for successful trades is {{'%.0f' % medianBounce.iloc[1,0]}}<br>\n",
    "The median number of bounces for failed trades is {{'%.0f' % medianBounce.iloc[0,0]}}<br>\n",
    "The ideal situation for having a S trade is to have either 1 or 2 bounces<br>\n",
    "3) entry on RSI <br>\n",
    "Within the trades having entry on RSI there are {{'%.1f' % prop.iloc[0, 1]}}% of failures and {{'%.1f' % prop.iloc[1, 1]}}% of successes<br>\n",
    "Within the trades not having an entry on RSI there are {{'%.1f' % prop.iloc[0, 0]}}% of failures and {{'%.1f' % prop.iloc[1, 0]}}% of successes\n",
    "So it seems that having the entry on RSI overbought/oversold seems to be positive for the outcome of the trade<br>\n",
    "4) Length of the trend <br>\n",
    "The median length of the trade for S trades (50) is lower than for F trades (66). Also, after inspecting the distribution, we see that the majority of S trades have a length ranging from [15-60]<br>\n",
    "5) inn_bounce <br>\n",
    "The signal is strong. The bounces are smaller for S trades.\n",
    "cutoff-> trades having >12<br>\n",
    "6) indecission <br>\n",
    "Signal is weak. The number of candles in indecission is smaller in S trades\n",
    "cutoff-> trades having >6\n",
    "7) Strong trend\n",
    "Signal is strong. The trend is stronger in S trades<br>\n",
    "8) bounce length\n",
    "Signal is strong. The median bounce length is smaller in S trades\n",
    "cutoff--> trades having a length > 12\n",
    "* Irrelevant:<br>\n",
    "1) No of candles <br>\n"
   ]
  },
  {
   "cell_type": "code",
   "execution_count": 315,
   "metadata": {},
   "outputs": [
    {
     "data": {
      "text/html": [
       "<div>\n",
       "<style scoped>\n",
       "    .dataframe tbody tr th:only-of-type {\n",
       "        vertical-align: middle;\n",
       "    }\n",
       "\n",
       "    .dataframe tbody tr th {\n",
       "        vertical-align: top;\n",
       "    }\n",
       "\n",
       "    .dataframe thead th {\n",
       "        text-align: right;\n",
       "    }\n",
       "</style>\n",
       "<table border=\"1\" class=\"dataframe\">\n",
       "  <thead>\n",
       "    <tr style=\"text-align: right;\">\n",
       "      <th></th>\n",
       "      <th>No of candles</th>\n",
       "    </tr>\n",
       "    <tr>\n",
       "      <th>ext_outcome</th>\n",
       "      <th></th>\n",
       "    </tr>\n",
       "  </thead>\n",
       "  <tbody>\n",
       "    <tr>\n",
       "      <th>F</th>\n",
       "      <td>7.0</td>\n",
       "    </tr>\n",
       "    <tr>\n",
       "      <th>S</th>\n",
       "      <td>5.0</td>\n",
       "    </tr>\n",
       "  </tbody>\n",
       "</table>\n",
       "</div>"
      ],
      "text/plain": [
       "             No of candles\n",
       "ext_outcome               \n",
       "F                      7.0\n",
       "S                      5.0"
      ]
     },
     "execution_count": 315,
     "metadata": {},
     "output_type": "execute_result"
    }
   ],
   "source": [
    "contDF.groupby(outcome_lab).agg({'No of candles': 'median'})"
   ]
  },
  {
   "cell_type": "markdown",
   "metadata": {},
   "source": [
    "Even the S trades having a median No of candles sligthly lower than the F trades. \n",
    "This difference does not seem to be conclusive (see also the Histogram)"
   ]
  },
  {
   "cell_type": "markdown",
   "metadata": {},
   "source": [
    "2) trend angle<br>\n",
    "No significative differences between S and F trades<br>\n",
    "3) last time <br>\n",
    "No significative differences between S and F trades\n",
    "4) length in pips (norm) <br>\n",
    "No significative differences between S and F trades"
   ]
  },
  {
   "cell_type": "markdown",
   "metadata": {},
   "source": [
    "## Calculating points\n",
    "This section will calculate a total score for each trade that will be used to predict the outcome.<br>\n",
    "First, let's create a function to calculate the points"
   ]
  },
  {
   "cell_type": "code",
   "execution_count": 316,
   "metadata": {},
   "outputs": [],
   "source": [
    "def calculate_points(row,attribs):\n",
    "    '''\n",
    "    Function to calculate the points for a particular trade\n",
    "    \n",
    "    Parameters\n",
    "    ----------\n",
    "    row : dataframe row\n",
    "    attribs : list of dicts\n",
    "              The dict has the following format:\n",
    "              {'attr' : 'RSI bounces',\n",
    "               'cutoff' : 3,\n",
    "               'points' : 2}\n",
    "               \n",
    "    Returns\n",
    "    -------\n",
    "    Returns a score for this trade\n",
    "    \n",
    "    '''\n",
    "    score=0\n",
    "    for a in attribs:\n",
    "        value=row[a['attr']]\n",
    "        cutoff=a['cutoff']\n",
    "        points=a['points']\n",
    "        if cutoff =='bool':\n",
    "            if a['rel'] == 'is_true':\n",
    "                if value == True:\n",
    "                    score+=points\n",
    "                if value == False:\n",
    "                    score+=-1*points\n",
    "        else:\n",
    "            if a['rel'] == 'less':\n",
    "                if value < cutoff: \n",
    "                    score+=points\n",
    "                if value >= cutoff: \n",
    "                    score+=-1*points\n",
    "            elif a['rel'] == 'range':\n",
    "                p=re.compile(\"(\\d+)-(\\d+)\")\n",
    "                m=p.match(cutoff)\n",
    "                upp=int(m.group(2))\n",
    "                low=int(m.group(1))\n",
    "                if value >=low and value <=upp:\n",
    "                    score+=points\n",
    "                else:\n",
    "                    score+=-1*points\n",
    "                \n",
    "    return score"
   ]
  },
  {
   "cell_type": "code",
   "execution_count": 317,
   "metadata": {},
   "outputs": [],
   "source": [
    "attbs=[]\n",
    "\n",
    "attbs.append({\n",
    "        'attr' : 'RSI bounces',\n",
    "        'cutoff' : 5,\n",
    "        'rel' : 'less',\n",
    "        'points' : 2\n",
    "        })\n",
    "attbs.append( {\n",
    "        'attr' : 'entry on RSI',\n",
    "        'cutoff' : 'bool',\n",
    "        'rel' : 'is_true',\n",
    "        'points' : 1\n",
    "        })\n",
    "attbs.append( {\n",
    "        'attr' : 'length of trend',\n",
    "        'cutoff' : '15-70',\n",
    "        'rel' : 'range',\n",
    "        'points' : 1\n",
    "        })\n",
    "attbs.append( {\n",
    "        'attr' : 'inn_bounce',\n",
    "        'cutoff' : 13,\n",
    "        'rel' : 'less',\n",
    "        'points' : 1\n",
    "        })\n",
    "attbs.append( {\n",
    "        'attr' : 'indecission',\n",
    "        'cutoff' : 7,\n",
    "        'rel' : 'less',\n",
    "        'points' : 1\n",
    "        })\n",
    "attbs.append( {\n",
    "        'attr' : 'strong trend',\n",
    "        'cutoff' : 'bool',\n",
    "        'rel' : 'is_true',\n",
    "        'points' : 1\n",
    "        })\n",
    "attbs.append( {\n",
    "        'attr' : 'sum_bounces',\n",
    "        'cutoff' : 13,\n",
    "        'rel' : 'less',\n",
    "        'points' : 2\n",
    "        })\n"
   ]
  },
  {
   "cell_type": "markdown",
   "metadata": {},
   "source": [
    "Now, let's apply the calculate_points on each row"
   ]
  },
  {
   "cell_type": "code",
   "execution_count": 318,
   "metadata": {},
   "outputs": [
    {
     "name": "stderr",
     "output_type": "stream",
     "text": [
      "/Users/ernesto/bin/anaconda/envs/python3/lib/python3.5/site-packages/ipykernel_launcher.py:1: SettingWithCopyWarning: \n",
      "A value is trying to be set on a copy of a slice from a DataFrame.\n",
      "Try using .loc[row_indexer,col_indexer] = value instead\n",
      "\n",
      "See the caveats in the documentation: http://pandas.pydata.org/pandas-docs/stable/indexing.html#indexing-view-versus-copy\n",
      "  \"\"\"Entry point for launching an IPython kernel.\n"
     ]
    }
   ],
   "source": [
    "contDF_dropna['score']=contDF_dropna.apply(calculate_points, axis=1, attribs=attbs)"
   ]
  },
  {
   "cell_type": "markdown",
   "metadata": {},
   "source": [
    "### Calculating cutoff score\n",
    "* Mean"
   ]
  },
  {
   "cell_type": "code",
   "execution_count": 319,
   "metadata": {},
   "outputs": [
    {
     "data": {
      "text/html": [
       "<div>\n",
       "<style scoped>\n",
       "    .dataframe tbody tr th:only-of-type {\n",
       "        vertical-align: middle;\n",
       "    }\n",
       "\n",
       "    .dataframe tbody tr th {\n",
       "        vertical-align: top;\n",
       "    }\n",
       "\n",
       "    .dataframe thead th {\n",
       "        text-align: right;\n",
       "    }\n",
       "</style>\n",
       "<table border=\"1\" class=\"dataframe\">\n",
       "  <thead>\n",
       "    <tr style=\"text-align: right;\">\n",
       "      <th></th>\n",
       "      <th>score</th>\n",
       "    </tr>\n",
       "    <tr>\n",
       "      <th>ext_outcome</th>\n",
       "      <th></th>\n",
       "    </tr>\n",
       "  </thead>\n",
       "  <tbody>\n",
       "    <tr>\n",
       "      <th>F</th>\n",
       "      <td>0.416667</td>\n",
       "    </tr>\n",
       "    <tr>\n",
       "      <th>S</th>\n",
       "      <td>2.830508</td>\n",
       "    </tr>\n",
       "  </tbody>\n",
       "</table>\n",
       "</div>"
      ],
      "text/plain": [
       "                score\n",
       "ext_outcome          \n",
       "F            0.416667\n",
       "S            2.830508"
      ]
     },
     "execution_count": 319,
     "metadata": {},
     "output_type": "execute_result"
    }
   ],
   "source": [
    "contDF_dropna.groupby(outcome_lab).agg({'score': 'mean'})"
   ]
  },
  {
   "cell_type": "markdown",
   "metadata": {},
   "source": [
    "* Median"
   ]
  },
  {
   "cell_type": "code",
   "execution_count": 320,
   "metadata": {},
   "outputs": [
    {
     "data": {
      "text/html": [
       "<div>\n",
       "<style scoped>\n",
       "    .dataframe tbody tr th:only-of-type {\n",
       "        vertical-align: middle;\n",
       "    }\n",
       "\n",
       "    .dataframe tbody tr th {\n",
       "        vertical-align: top;\n",
       "    }\n",
       "\n",
       "    .dataframe thead th {\n",
       "        text-align: right;\n",
       "    }\n",
       "</style>\n",
       "<table border=\"1\" class=\"dataframe\">\n",
       "  <thead>\n",
       "    <tr style=\"text-align: right;\">\n",
       "      <th></th>\n",
       "      <th>score</th>\n",
       "    </tr>\n",
       "    <tr>\n",
       "      <th>ext_outcome</th>\n",
       "      <th></th>\n",
       "    </tr>\n",
       "  </thead>\n",
       "  <tbody>\n",
       "    <tr>\n",
       "      <th>F</th>\n",
       "      <td>0</td>\n",
       "    </tr>\n",
       "    <tr>\n",
       "      <th>S</th>\n",
       "      <td>3</td>\n",
       "    </tr>\n",
       "  </tbody>\n",
       "</table>\n",
       "</div>"
      ],
      "text/plain": [
       "             score\n",
       "ext_outcome       \n",
       "F                0\n",
       "S                3"
      ]
     },
     "execution_count": 320,
     "metadata": {},
     "output_type": "execute_result"
    }
   ],
   "source": [
    "contDF_dropna.groupby(outcome_lab).agg({'score': 'median'})"
   ]
  },
  {
   "cell_type": "markdown",
   "metadata": {},
   "source": [
    "* Histogram"
   ]
  },
  {
   "cell_type": "code",
   "execution_count": 321,
   "metadata": {},
   "outputs": [
    {
     "data": {
      "image/png": "[encoded data removed]",
      "text/plain": [
       "<matplotlib.figure.Figure at 0x11b5af4e0>"
      ]
     },
     "metadata": {},
     "output_type": "display_data"
    }
   ],
   "source": [
    "axList=contDF_dropna['score'].hist(by=contDF[outcome_lab],figsize=(20,5),bins=8,normed=True)"
   ]
  },
  {
   "cell_type": "markdown",
   "metadata": {},
   "source": [
    "### Making predictions and performance evaluation\n",
    "We will use different cutoffs and make predictions using these."
   ]
  },
  {
   "cell_type": "markdown",
   "metadata": {},
   "source": [
    "Let's create a new dataframe only with the columns we are interested in:"
   ]
  },
  {
   "cell_type": "code",
   "execution_count": 322,
   "metadata": {},
   "outputs": [],
   "source": [
    "scoreDF=contDF_dropna.iloc[:,[outcome_ix,20]]"
   ]
  },
  {
   "cell_type": "code",
   "execution_count": 323,
   "metadata": {},
   "outputs": [],
   "source": [
    "def predictOutcome(row, cutoff):\n",
    "    pred=None\n",
    "    if row['score'] >cutoff:\n",
    "        pred='S'\n",
    "    else:\n",
    "        pred='F'\n",
    "    return pred"
   ]
  },
  {
   "cell_type": "code",
   "execution_count": 324,
   "metadata": {},
   "outputs": [
    {
     "name": "stderr",
     "output_type": "stream",
     "text": [
      "/Users/ernesto/bin/anaconda/envs/python3/lib/python3.5/site-packages/ipykernel_launcher.py:1: SettingWithCopyWarning: \n",
      "A value is trying to be set on a copy of a slice from a DataFrame.\n",
      "Try using .loc[row_indexer,col_indexer] = value instead\n",
      "\n",
      "See the caveats in the documentation: http://pandas.pydata.org/pandas-docs/stable/indexing.html#indexing-view-versus-copy\n",
      "  \"\"\"Entry point for launching an IPython kernel.\n"
     ]
    }
   ],
   "source": [
    "scoreDF['predict']=scoreDF.apply(predictOutcome,axis=1,cutoff=4)"
   ]
  },
  {
   "cell_type": "markdown",
   "metadata": {},
   "source": [
    "* Performance evaluation"
   ]
  },
  {
   "cell_type": "code",
   "execution_count": 325,
   "metadata": {},
   "outputs": [],
   "source": [
    "(tn, fp, fn, tp)=confusion_matrix(scoreDF['ext_outcome'], scoreDF['predict']).ravel()"
   ]
  },
  {
   "cell_type": "markdown",
   "metadata": {
    "variables": {
     "fn": "31",
     "fp": "4",
     "tn": "20",
     "tp": "28"
    }
   },
   "source": [
    "TP={{tp}}\n",
    "TN={{tn}}\n",
    "FN={{fn}}\n",
    "FP={{fp}}"
   ]
  },
  {
   "cell_type": "markdown",
   "metadata": {},
   "source": [
    "    * Precision"
   ]
  },
  {
   "cell_type": "code",
   "execution_count": 326,
   "metadata": {},
   "outputs": [
    {
     "name": "stdout",
     "output_type": "stream",
     "text": [
      "0.875\n"
     ]
    }
   ],
   "source": [
    "print(tp/(tp+fp))"
   ]
  },
  {
   "cell_type": "markdown",
   "metadata": {},
   "source": [
    "* Recall"
   ]
  },
  {
   "cell_type": "code",
   "execution_count": 327,
   "metadata": {},
   "outputs": [
    {
     "name": "stdout",
     "output_type": "stream",
     "text": [
      "0.474576271186\n"
     ]
    }
   ],
   "source": [
    "print(tp/(tp+fn))"
   ]
  },
  {
   "cell_type": "markdown",
   "metadata": {},
   "source": [
    "### Using a Binary classifier\n",
    "First, let's prepare the data for the classifier by separating the data into labels (dependent variable, which is the variable we try to predict) and features (the independent variables that are going to be used for the model)"
   ]
  },
  {
   "cell_type": "code",
   "execution_count": 328,
   "metadata": {},
   "outputs": [
    {
     "name": "stdout",
     "output_type": "stream",
     "text": [
      "Index(['id', 'start', 'timeframe', 'entry', 'outcome', 'ext_outcome',\n",
      "       'Candle +1 against trade', 'RSI bounces', 'No of candles',\n",
      "       'bounce length', 'inn_bounce', 'indecission', 'entry on RSI',\n",
      "       'length of trend', 'strong trend', 'trend angle', 'retraced',\n",
      "       'last time', 'target', 'sum_bounces', 'score'],\n",
      "      dtype='object')\n"
     ]
    }
   ],
   "source": [
    "labels=contDF_dropna['ext_outcome']\n",
    "features=contDF_dropna.drop([\"ext_outcome\",\"outcome\"],axis=1)\n",
    "print(contDF_dropna.columns)"
   ]
  },
  {
   "cell_type": "markdown",
   "metadata": {},
   "source": [
    "We need also to remove some features that will be not accepted by the classifier or are not useful"
   ]
  },
  {
   "cell_type": "code",
   "execution_count": 329,
   "metadata": {},
   "outputs": [
    {
     "name": "stdout",
     "output_type": "stream",
     "text": [
      "Index(['Candle +1 against trade', 'RSI bounces', 'No of candles', 'inn_bounce',\n",
      "       'indecission', 'entry on RSI', 'length of trend', 'strong trend',\n",
      "       'trend angle', 'sum_bounces'],\n",
      "      dtype='object')\n"
     ]
    }
   ],
   "source": [
    "features=features.drop([\"id\",\"start\",\"timeframe\",\"entry\",\"retraced\",\"last time\",\"target\",\"score\",\"bounce length\"],axis=1)\n",
    "print(features.columns)"
   ]
  },
  {
   "cell_type": "markdown",
   "metadata": {},
   "source": [
    "Now, let's split our data into training and test sets. In this case, the test_size=0.33"
   ]
  },
  {
   "cell_type": "code",
   "execution_count": 330,
   "metadata": {},
   "outputs": [],
   "source": [
    "train, test, train_labels, test_labels = train_test_split(features,\n",
    "                                                          labels,\n",
    "                                                          test_size=0.33,\n",
    "                                                          random_state=42)"
   ]
  },
  {
   "cell_type": "markdown",
   "metadata": {},
   "source": [
    "Building and Evaluating the Model"
   ]
  },
  {
   "cell_type": "code",
   "execution_count": 331,
   "metadata": {},
   "outputs": [],
   "source": [
    "from sklearn.naive_bayes import GaussianNB\n",
    "\n",
    "# Initialize our classifier\n",
    "gnb = GaussianNB()\n",
    "\n",
    "# Train our classifier\n",
    "model = gnb.fit(train, train_labels)"
   ]
  },
  {
   "cell_type": "code",
   "execution_count": 332,
   "metadata": {},
   "outputs": [],
   "source": [
    "# Make predictions\n",
    "preds = gnb.predict(test)"
   ]
  },
  {
   "cell_type": "code",
   "execution_count": 333,
   "metadata": {},
   "outputs": [
    {
     "name": "stdout",
     "output_type": "stream",
     "text": [
      "0.678571428571\n"
     ]
    }
   ],
   "source": [
    "from sklearn.metrics import accuracy_score\n",
    "\n",
    "# Evaluate accuracy\n",
    "print(accuracy_score(test_labels, preds))"
   ]
  },
  {
   "cell_type": "markdown",
   "metadata": {},
   "source": [
    "* Using SGDClassifier"
   ]
  },
  {
   "cell_type": "code",
   "execution_count": 338,
   "metadata": {},
   "outputs": [
    {
     "name": "stderr",
     "output_type": "stream",
     "text": [
      "/Users/ernesto/bin/anaconda/envs/python3/lib/python3.5/site-packages/sklearn/linear_model/stochastic_gradient.py:128: FutureWarning: max_iter and tol parameters have been added in <class 'sklearn.linear_model.stochastic_gradient.SGDClassifier'> in 0.19. If both are left unset, they default to max_iter=5 and tol=None. If tol is not None, max_iter defaults to max_iter=1000. From 0.21, default max_iter will be 1000, and default tol will be 1e-3.\n",
      "  \"and default tol will be 1e-3.\" % type(self), FutureWarning)\n"
     ]
    },
    {
     "data": {
      "text/plain": [
       "SGDClassifier(alpha=0.0001, average=False, class_weight=None, epsilon=0.1,\n",
       "       eta0=0.0, fit_intercept=True, l1_ratio=0.15,\n",
       "       learning_rate='optimal', loss='hinge', max_iter=None, n_iter=None,\n",
       "       n_jobs=1, penalty='l2', power_t=0.5, random_state=42, shuffle=True,\n",
       "       tol=None, verbose=0, warm_start=False)"
      ]
     },
     "execution_count": 338,
     "metadata": {},
     "output_type": "execute_result"
    }
   ],
   "source": [
    "from sklearn.linear_model import SGDClassifier\n",
    "\n",
    "sgd_clf = SGDClassifier(random_state=42)\n",
    "sgd_clf.fit(train, train_labels)"
   ]
  },
  {
   "cell_type": "code",
   "execution_count": 339,
   "metadata": {},
   "outputs": [],
   "source": [
    "preds=sgd_clf.predict(test)"
   ]
  },
  {
   "cell_type": "code",
   "execution_count": 340,
   "metadata": {},
   "outputs": [
    {
     "name": "stdout",
     "output_type": "stream",
     "text": [
      "0.571428571429\n"
     ]
    }
   ],
   "source": [
    "print(accuracy_score(test_labels, preds))"
   ]
  },
  {
   "cell_type": "code",
   "execution_count": null,
   "metadata": {},
   "outputs": [],
   "source": []
  }
 ],
 "metadata": {
  "kernelspec": {
   "display_name": "Python 3",
   "language": "python",
   "name": "python3"
  },
  "language_info": {
   "codemirror_mode": {
    "name": "ipython",
    "version": 3
   },
   "file_extension": ".py",
   "mimetype": "text/x-python",
   "name": "python",
   "nbconvert_exporter": "python",
   "pygments_lexer": "ipython3",
   "version": "3.5.3"
  },
  "toc": {
   "nav_menu": {},
   "number_sections": true,
   "sideBar": true,
   "skip_h1_title": false,
   "title_cell": "Table of Contents",
   "title_sidebar": "Contents",
   "toc_cell": false,
   "toc_position": {},
   "toc_section_display": true,
   "toc_window_display": false
  }
 },
 "nbformat": 4,
 "nbformat_minor": 2
}
