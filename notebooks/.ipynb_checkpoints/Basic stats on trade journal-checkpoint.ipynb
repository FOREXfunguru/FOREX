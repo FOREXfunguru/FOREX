{
 "cells": [
  {
   "cell_type": "markdown",
   "metadata": {},
   "source": [
    "# This notebook describes some basic stats performed on a TradingJournal"
   ]
  },
  {
   "cell_type": "code",
   "execution_count": 108,
   "metadata": {},
   "outputs": [],
   "source": [
    "import pandas as pd"
   ]
  },
  {
   "cell_type": "markdown",
   "metadata": {},
   "source": [
    "First, let's read the .csv file into a dataframe"
   ]
  },
  {
   "cell_type": "code",
   "execution_count": 109,
   "metadata": {},
   "outputs": [
    {
     "data": {
      "text/plain": [
       "Index(['Start of trade', 'End of trade', 'Currency Pair', 'Type', 'opens',\n",
       "       'ends', 'Profit/Loss', 'outcome', 'market type', 'Entry Time-frame',\n",
       "       'Retraced', 'Distance'],\n",
       "      dtype='object')"
      ]
     },
     "execution_count": 109,
     "metadata": {},
     "output_type": "execute_result"
    }
   ],
   "source": [
    "#df = pd.read_csv(\"/Users/ernesto/Downloads/backtesting.csv\",sep=',',index_col=False,header=1)\n",
    "df = pd.read_csv(\"/Users/ernesto/Downloads/backtesting.csv\",sep=',',index_col=False)\n",
    "df.columns"
   ]
  },
  {
   "cell_type": "markdown",
   "metadata": {},
   "source": [
    "## General Metrics\n",
    "In order to calculate the number of records per instrument:"
   ]
  },
  {
   "cell_type": "code",
   "execution_count": 110,
   "metadata": {},
   "outputs": [
    {
     "name": "stdout",
     "output_type": "stream",
     "text": [
      "col_0          count\n",
      "Currency Pair       \n",
      "EUR/USD           38\n"
     ]
    }
   ],
   "source": [
    "my_tab = pd.crosstab(index=df['Currency Pair'], columns=\"count\")\n",
    "print(my_tab)"
   ]
  },
  {
   "cell_type": "markdown",
   "metadata": {
    "slideshow": {
     "slide_type": "-"
    }
   },
   "source": [
    "Now, let's calculate the number of trades per outcome:"
   ]
  },
  {
   "cell_type": "code",
   "execution_count": 111,
   "metadata": {},
   "outputs": [
    {
     "name": "stdout",
     "output_type": "stream",
     "text": [
      "col_0      count\n",
      "outcome         \n",
      "breakeven      6\n",
      "failure       15\n",
      "success       17\n"
     ]
    }
   ],
   "source": [
    "my_tab = pd.crosstab(index=df['outcome'], columns=\"count\")\n",
    "print(my_tab)"
   ]
  },
  {
   "cell_type": "markdown",
   "metadata": {},
   "source": [
    "Now, let's calculate the total profit/loss:"
   ]
  },
  {
   "cell_type": "code",
   "execution_count": 112,
   "metadata": {},
   "outputs": [
    {
     "name": "stdout",
     "output_type": "stream",
     "text": [
      "66937.0\n"
     ]
    }
   ],
   "source": [
    "Total=df['Profit/Loss'].sum()\n",
    "print(Total)"
   ]
  },
  {
   "cell_type": "markdown",
   "metadata": {},
   "source": [
    "Number of observations per currency pair-timeframe:"
   ]
  },
  {
   "cell_type": "code",
   "execution_count": 113,
   "metadata": {},
   "outputs": [
    {
     "data": {
      "text/plain": [
       "Currency Pair  Entry Time-frame\n",
       "EUR/USD        D                   19\n",
       "               H12                  8\n",
       "               H8                  11\n",
       "dtype: int64"
      ]
     },
     "execution_count": 113,
     "metadata": {},
     "output_type": "execute_result"
    }
   ],
   "source": [
    "df.groupby([df['Currency Pair'], df['Entry Time-frame']]).size()"
   ]
  },
  {
   "cell_type": "markdown",
   "metadata": {},
   "source": [
    "## Metrics for each of the currency pairs"
   ]
  },
  {
   "cell_type": "markdown",
   "metadata": {},
   "source": [
    "Outcome:"
   ]
  },
  {
   "cell_type": "code",
   "execution_count": 114,
   "metadata": {},
   "outputs": [
    {
     "name": "stdout",
     "output_type": "stream",
     "text": [
      "Currency Pair   EUR/USD\n",
      "outcome                \n",
      "breakeven      0.157895\n",
      "failure        0.394737\n",
      "success        0.447368\n"
     ]
    }
   ],
   "source": [
    "print(pd.crosstab(df['outcome'], df['Currency Pair']).apply(lambda r: r/r.sum(), axis=0))"
   ]
  },
  {
   "cell_type": "markdown",
   "metadata": {},
   "source": [
    "Profit:"
   ]
  },
  {
   "cell_type": "code",
   "execution_count": 115,
   "metadata": {},
   "outputs": [
    {
     "name": "stdout",
     "output_type": "stream",
     "text": [
      "Currency Pair\n",
      "EUR/USD    66937.0\n",
      "Name: Profit/Loss, dtype: float64\n"
     ]
    }
   ],
   "source": [
    "print(df['Profit/Loss'].groupby(df['Currency Pair']).sum())"
   ]
  },
  {
   "cell_type": "markdown",
   "metadata": {},
   "source": [
    "Profit by instrument-timeframe:"
   ]
  },
  {
   "cell_type": "code",
   "execution_count": 116,
   "metadata": {},
   "outputs": [
    {
     "data": {
      "text/plain": [
       "Currency Pair  Entry Time-frame\n",
       "EUR/USD        D                   22113.0\n",
       "               H12                 17125.0\n",
       "               H8                  27699.0\n",
       "Name: Profit/Loss, dtype: float64"
      ]
     },
     "execution_count": 116,
     "metadata": {},
     "output_type": "execute_result"
    }
   ],
   "source": [
    "df['Profit/Loss'].groupby([df['Currency Pair'], df['Entry Time-frame']]).sum()"
   ]
  },
  {
   "cell_type": "markdown",
   "metadata": {},
   "source": [
    "## Metrics for each of the timeframes"
   ]
  },
  {
   "cell_type": "markdown",
   "metadata": {},
   "source": [
    "Outcome:"
   ]
  },
  {
   "cell_type": "code",
   "execution_count": 117,
   "metadata": {},
   "outputs": [
    {
     "name": "stdout",
     "output_type": "stream",
     "text": [
      "Entry Time-frame         D  H12        H8\n",
      "outcome                                  \n",
      "breakeven         0.105263  0.0  0.363636\n",
      "failure           0.421053  0.5  0.272727\n",
      "success           0.473684  0.5  0.363636\n"
     ]
    }
   ],
   "source": [
    "print(pd.crosstab(df['outcome'], df['Entry Time-frame']).apply(lambda r: r/r.sum(), axis=0))"
   ]
  },
  {
   "cell_type": "markdown",
   "metadata": {},
   "source": [
    "Profit/loss:"
   ]
  },
  {
   "cell_type": "code",
   "execution_count": 118,
   "metadata": {},
   "outputs": [
    {
     "name": "stdout",
     "output_type": "stream",
     "text": [
      "Entry Time-frame\n",
      "D      22113.0\n",
      "H12    17125.0\n",
      "H8     27699.0\n",
      "Name: Profit/Loss, dtype: float64\n"
     ]
    }
   ],
   "source": [
    "print(df['Profit/Loss'].groupby(df['Entry Time-frame']).sum())"
   ]
  }
 ],
 "metadata": {
  "anaconda-cloud": {},
  "kernelspec": {
   "display_name": "Python 3",
   "language": "python",
   "name": "python3"
  },
  "language_info": {
   "codemirror_mode": {
    "name": "ipython",
    "version": 3
   },
   "file_extension": ".py",
   "mimetype": "text/x-python",
   "name": "python",
   "nbconvert_exporter": "python",
   "pygments_lexer": "ipython3",
   "version": "3.5.3"
  },
  "toc": {
   "nav_menu": {},
   "number_sections": true,
   "sideBar": true,
   "skip_h1_title": false,
   "title_cell": "Table of Contents",
   "title_sidebar": "Contents",
   "toc_cell": false,
   "toc_position": {},
   "toc_section_display": true,
   "toc_window_display": false
  }
 },
 "nbformat": 4,
 "nbformat_minor": 1
}
