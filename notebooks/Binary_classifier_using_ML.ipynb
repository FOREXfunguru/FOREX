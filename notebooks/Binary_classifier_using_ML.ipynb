{
 "cells": [
  {
   "cell_type": "markdown",
   "metadata": {},
   "source": [
    "# Motivation\n",
    "This notebook analyses the spreadsheet containing information on the reversals. This spreadsheet collects different features on the trades in an attempt of creating a binary classifier, this classifier will learn from the data collected and will predict the value of the `outcome` variable, which can be success of failre"
   ]
  },
  {
   "cell_type": "markdown",
   "metadata": {},
   "source": [
    "# Data\n",
    "The data has been collected in an spreadsheet containing trades both simulated and real. And the different trades have been classified into three types: continuation, counter and ranging. The independent variables gathered for each trade type are:\n",
    "## Continuation trades\n",
    "* id = string, id used in the screenshot folder to identify this record\n",
    "* start = datetime (in the format: 26/05/2009 22:00:00), start of this trade\n",
    "* timeframe = string, possible values are 2D,D,H12,H8\n",
    "* entry = float, entry price\n",
    "* outcome = string, possible values are S=success;F=failure;B=breakeven.Outcome of the trace\n",
    "* ext_outcome = string, inclusive variable that considers as successes all trades that even having failed there was a retracement and finally hit the target. Only trades retracing at less than 1000 pips from the S/L were considered as successes\n",
    "* RSI bounces = integer. Number of RSI bounces ocurring in the trend before entry\n",
    "* No of candles = integer. How many candles before occurred the bounce, from the entry of trade to the first bounce (without counting the entry candle)\n",
    "* entry on RSI = boolean. True= Entry on oversold/overbought region, False= Entry NOT on oversold/overbought region\n",
    "* length of trend = integer. Length of the preceding trend in number of candles. The valley before the continuation is not included in the count\n",
    "* strong trend = boolean. True if the trend is strong, otherwise is False\n",
    "* trend angle = integer. Angle of the trend\n",
    "* bounce length = integer. Length in number of candles for each of the bounces (in the order from the most recent to the oldest)\n",
    "* retraced = integer. Only relevant when outcome is 'F', how many pips from the S/L the trade reversed?. If n.a., then it means that the trade did not reversed\n",
    "* last time = datetime (in the format 26/05/2009), last time that the price was below/above this level"
   ]
  },
  {
   "cell_type": "markdown",
   "metadata": {},
   "source": [
    "## Dependencies"
   ]
  },
  {
   "cell_type": "code",
   "execution_count": 479,
   "metadata": {},
   "outputs": [],
   "source": [
    "import pandas as pd\n",
    "import numpy as np\n",
    "import seaborn as sns\n",
    "\n",
    "%matplotlib inline"
   ]
  },
  {
   "cell_type": "markdown",
   "metadata": {},
   "source": [
    "# Continuation trades\n",
    "\n",
    "First, let's create a function to read-in a .csv file containing the data andstore it in a dataframe:"
   ]
  },
  {
   "cell_type": "code",
   "execution_count": 480,
   "metadata": {},
   "outputs": [
    {
     "data": {
      "text/plain": [
       "(70, 18)"
      ]
     },
     "execution_count": 480,
     "metadata": {},
     "output_type": "execute_result"
    }
   ],
   "source": [
    "def read_tradedata(tradefile,sep,na_values):\n",
    "    '''\n",
    "    Parameters\n",
    "    ----------\n",
    "    tradefile : str, required\n",
    "                Path to file containing the trade data\n",
    "    sep : str, optionsl\n",
    "          Field separator used in the file. i.e. ',' (comma separated values), '\\t' (tab-separated values)\n",
    "    na_values : list, optional\n",
    "                Additional list of strings to recognize as NA/NaN. i.e. ['n.a.']\n",
    "    \n",
    "    Returns\n",
    "    -------\n",
    "    A Pandas dataframe\n",
    "    '''\n",
    "    DF=pd.read_csv(tradefile,sep=sep,na_values=na_values)\n",
    "    \n",
    "    return DF\n",
    "\n",
    "contDF=read_tradedata('/Users/ernesto/Downloads/Screenshot analysis - continuations.csv',sep=\",\",na_values=[\"n.a.\",\"n.a\"])\n",
    "\n",
    "contDF.shape"
   ]
  },
  {
   "cell_type": "markdown",
   "metadata": {},
   "source": [
    "And some information about contDF:"
   ]
  },
  {
   "cell_type": "code",
   "execution_count": 481,
   "metadata": {},
   "outputs": [
    {
     "name": "stdout",
     "output_type": "stream",
     "text": [
      "<class 'pandas.core.frame.DataFrame'>\n",
      "RangeIndex: 70 entries, 0 to 69\n",
      "Data columns (total 18 columns):\n",
      "id                         70 non-null object\n",
      "start                      67 non-null object\n",
      "timeframe                  67 non-null object\n",
      "entry                      67 non-null float64\n",
      "outcome                    70 non-null object\n",
      "ext_outcome                70 non-null object\n",
      "Candle +1 against trade    70 non-null bool\n",
      "RSI bounces                70 non-null int64\n",
      "No of candles              62 non-null float64\n",
      "bounce length              62 non-null object\n",
      "entry on RSI               70 non-null bool\n",
      "length of trend            70 non-null int64\n",
      "strong trend               70 non-null bool\n",
      "trend angle                67 non-null float64\n",
      "retraced                   24 non-null float64\n",
      "last time                  68 non-null object\n",
      "target                     3 non-null object\n",
      "congestion                 14 non-null object\n",
      "dtypes: bool(3), float64(4), int64(2), object(9)\n",
      "memory usage: 8.5+ KB\n"
     ]
    }
   ],
   "source": [
    "contDF.info()"
   ]
  },
  {
   "cell_type": "markdown",
   "metadata": {},
   "source": [
    "Let's convert now the `start` and `last time` variables to DateTime"
   ]
  },
  {
   "cell_type": "code",
   "execution_count": 436,
   "metadata": {},
   "outputs": [],
   "source": [
    "contDF['start']= pd.to_datetime(contDF['start'])\n",
    "contDF['last time']= pd.to_datetime(contDF['last time'])"
   ]
  },
  {
   "cell_type": "markdown",
   "metadata": {},
   "source": [
    "## Initial exploration of the data\n",
    "\n",
    "First things first, let's examine if we have a significant number of records per category of the dependent variable (outcome in this case), since it is really very important to have enough records to establish solid conclusions"
   ]
  },
  {
   "cell_type": "code",
   "execution_count": 483,
   "metadata": {},
   "outputs": [
    {
     "data": {
      "text/plain": [
       "S    34\n",
       "F    33\n",
       "Name: outcome, dtype: int64"
      ]
     },
     "execution_count": 483,
     "metadata": {},
     "output_type": "execute_result"
    }
   ],
   "source": [
    "contDF['outcome'].value_counts()"
   ]
  },
  {
   "cell_type": "markdown",
   "metadata": {},
   "source": [
    "For now I am not going to consider the trades having an outcome of 'B'. So, let's remove them from the dataframe:"
   ]
  },
  {
   "cell_type": "code",
   "execution_count": 484,
   "metadata": {},
   "outputs": [],
   "source": [
    "contDF=contDF[contDF.outcome != 'B']"
   ]
  },
  {
   "cell_type": "markdown",
   "metadata": {},
   "source": [
    "* ext_outcome"
   ]
  },
  {
   "cell_type": "code",
   "execution_count": 485,
   "metadata": {},
   "outputs": [
    {
     "data": {
      "text/plain": [
       "S    48\n",
       "F    19\n",
       "Name: ext_outcome, dtype: int64"
      ]
     },
     "execution_count": 485,
     "metadata": {},
     "output_type": "execute_result"
    }
   ],
   "source": [
    "contDF['ext_outcome'].value_counts()"
   ]
  },
  {
   "cell_type": "markdown",
   "metadata": {},
   "source": [
    "### Candle +1 against trade\n",
    "This variable is True when the IC+1 is against the trade. I will here analyze the influence of this variable on the outcome"
   ]
  },
  {
   "cell_type": "markdown",
   "metadata": {},
   "source": [
    "Let's create a contigency table analysing the relationship between these 2 variables:"
   ]
  },
  {
   "cell_type": "code",
   "execution_count": 487,
   "metadata": {},
   "outputs": [
    {
     "name": "stdout",
     "output_type": "stream",
     "text": [
      "Candle +1 against trade  False  True  All\n",
      "outcome                                  \n",
      "F                           20    13   33\n",
      "S                           30     4   34\n",
      "All                         50    17   67\n"
     ]
    }
   ],
   "source": [
    "div_class=pd.crosstab(contDF['outcome'], contDF['Candle +1 against trade'],margins=True)\n",
    "print(div_class)"
   ]
  },
  {
   "cell_type": "markdown",
   "metadata": {},
   "source": [
    "It's is easier to visualize the relationship if we calculate the percentages:"
   ]
  },
  {
   "cell_type": "code",
   "execution_count": 488,
   "metadata": {},
   "outputs": [
    {
     "name": "stdout",
     "output_type": "stream",
     "text": [
      "Candle +1 against trade  False        True         All\n",
      "outcome                                               \n",
      "F                         40.0   76.470588   49.253731\n",
      "S                         60.0   23.529412   50.746269\n",
      "All                      100.0  100.000000  100.000000\n"
     ]
    }
   ],
   "source": [
    "prop=(div_class/div_class.loc[\"All\"])*100\n",
    "print(prop)"
   ]
  },
  {
   "cell_type": "markdown",
   "metadata": {
    "variables": {
     "'%.1f' % prop.iloc[0, 0]": "39.5",
     "'%.1f' % prop.iloc[0, 1]": "69.2",
     "'%.1f' % prop.iloc[1, 0]": "60.5",
     "'%.1f' % prop.iloc[1, 1]": "30.8"
    }
   },
   "source": [
    "* Conclusion <br>\n",
    "Within the trades with IC+1 against the trade there are {{'%.1f' % prop.iloc[0, 1]}}% of failures and {{'%.1f' % prop.iloc[1, 1]}}% of successes<br>\n",
    "Within the trades with IC+1 in favour of the trade there are {{'%.1f' % prop.iloc[0, 0]}}% of failures and {{'%.1f' % prop.iloc[1, 0]}}% of successes"
   ]
  },
  {
   "cell_type": "markdown",
   "metadata": {},
   "source": [
    "Now, the same but for `ext_outcome`"
   ]
  },
  {
   "cell_type": "code",
   "execution_count": 489,
   "metadata": {},
   "outputs": [
    {
     "name": "stdout",
     "output_type": "stream",
     "text": [
      "Candle +1 against trade  False  True  All\n",
      "ext_outcome                              \n",
      "F                           12     7   19\n",
      "S                           38    10   48\n",
      "All                         50    17   67\n"
     ]
    }
   ],
   "source": [
    "div_class=pd.crosstab(contDF['ext_outcome'], contDF['Candle +1 against trade'],margins=True)\n",
    "print(div_class)"
   ]
  },
  {
   "cell_type": "code",
   "execution_count": 490,
   "metadata": {},
   "outputs": [
    {
     "name": "stdout",
     "output_type": "stream",
     "text": [
      "Candle +1 against trade  False        True         All\n",
      "ext_outcome                                           \n",
      "F                         24.0   41.176471   28.358209\n",
      "S                         76.0   58.823529   71.641791\n",
      "All                      100.0  100.000000  100.000000\n"
     ]
    }
   ],
   "source": [
    "prop=(div_class/div_class.loc[\"All\"])*100\n",
    "print(prop)"
   ]
  },
  {
   "cell_type": "markdown",
   "metadata": {},
   "source": [
    "###  RSI bounces\n",
    "Let's examine if there is a correlation between the number of bounces and the outcome of the trade"
   ]
  },
  {
   "cell_type": "markdown",
   "metadata": {},
   "source": [
    "As an initial exploration I will create a boxplot displaying the data"
   ]
  },
  {
   "cell_type": "code",
   "execution_count": 441,
   "metadata": {},
   "outputs": [
    {
     "data": {
      "image/png": "[encoded data removed]",
      "text/plain": [
       "<matplotlib.figure.Figure at 0x113c890b8>"
      ]
     },
     "metadata": {},
     "output_type": "display_data"
    }
   ],
   "source": [
    "ax = sns.boxplot(x=\"outcome\", y=\"RSI bounces\", data=contDF)"
   ]
  },
  {
   "cell_type": "markdown",
   "metadata": {},
   "source": [
    "* Mean for each category"
   ]
  },
  {
   "cell_type": "code",
   "execution_count": 442,
   "metadata": {},
   "outputs": [
    {
     "data": {
      "text/html": [
       "<div>\n",
       "<style scoped>\n",
       "    .dataframe tbody tr th:only-of-type {\n",
       "        vertical-align: middle;\n",
       "    }\n",
       "\n",
       "    .dataframe tbody tr th {\n",
       "        vertical-align: top;\n",
       "    }\n",
       "\n",
       "    .dataframe thead th {\n",
       "        text-align: right;\n",
       "    }\n",
       "</style>\n",
       "<table border=\"1\" class=\"dataframe\">\n",
       "  <thead>\n",
       "    <tr style=\"text-align: right;\">\n",
       "      <th></th>\n",
       "      <th>RSI bounces</th>\n",
       "    </tr>\n",
       "    <tr>\n",
       "      <th>outcome</th>\n",
       "      <th></th>\n",
       "    </tr>\n",
       "  </thead>\n",
       "  <tbody>\n",
       "    <tr>\n",
       "      <th>F</th>\n",
       "      <td>2.384615</td>\n",
       "    </tr>\n",
       "    <tr>\n",
       "      <th>S</th>\n",
       "      <td>2.600000</td>\n",
       "    </tr>\n",
       "  </tbody>\n",
       "</table>\n",
       "</div>"
      ],
      "text/plain": [
       "         RSI bounces\n",
       "outcome             \n",
       "F           2.384615\n",
       "S           2.600000"
      ]
     },
     "execution_count": 442,
     "metadata": {},
     "output_type": "execute_result"
    }
   ],
   "source": [
    "contDF.groupby(['outcome']).agg({'RSI bounces': 'mean'})"
   ]
  },
  {
   "cell_type": "markdown",
   "metadata": {},
   "source": [
    "* Median for each category"
   ]
  },
  {
   "cell_type": "code",
   "execution_count": 443,
   "metadata": {},
   "outputs": [
    {
     "name": "stdout",
     "output_type": "stream",
     "text": [
      "         RSI bounces\n",
      "outcome             \n",
      "F                2.0\n",
      "S                1.5\n"
     ]
    }
   ],
   "source": [
    "medianBounce=contDF.groupby(['outcome']).agg({'RSI bounces': 'median'})\n",
    "print(medianBounce)"
   ]
  },
  {
   "cell_type": "markdown",
   "metadata": {
    "variables": {
     "'%.0f' % medianBounce.iloc[0,0]": "2",
     "'%.0f' % medianBounce.iloc[1,0]": "2"
    }
   },
   "source": [
    "* Conclusion <br>\n",
    "The median number of bounces for successful trades is {{'%.0f' % medianBounce.iloc[1,0]}}<br>\n",
    "The median number of bounces for failed trades is {{'%.0f' % medianBounce.iloc[0,0]}}<br>"
   ]
  },
  {
   "cell_type": "markdown",
   "metadata": {},
   "source": [
    "* Distribution of the number of bounces\n",
    "For this particular task I will create a count plot in order to plot the RSI bounces for both the successful and the failed trades"
   ]
  },
  {
   "cell_type": "code",
   "execution_count": 444,
   "metadata": {},
   "outputs": [
    {
     "data": {
      "image/png": "[encoded data removed]",
      "text/plain": [
       "<matplotlib.figure.Figure at 0x1150f0898>"
      ]
     },
     "metadata": {},
     "output_type": "display_data"
    }
   ],
   "source": [
    "ax = sns.countplot(x=\"RSI bounces\",hue=\"outcome\", data=contDF)"
   ]
  },
  {
   "cell_type": "markdown",
   "metadata": {},
   "source": [
    "The same but for `ext_outcome`:"
   ]
  },
  {
   "cell_type": "code",
   "execution_count": 491,
   "metadata": {},
   "outputs": [
    {
     "data": {
      "image/png": "[encoded data removed]",
      "text/plain": [
       "<matplotlib.figure.Figure at 0x115780cf8>"
      ]
     },
     "metadata": {},
     "output_type": "display_data"
    }
   ],
   "source": [
    "ax = sns.boxplot(x=\"ext_outcome\", y=\"RSI bounces\", data=contDF)"
   ]
  },
  {
   "cell_type": "code",
   "execution_count": 492,
   "metadata": {},
   "outputs": [
    {
     "data": {
      "text/html": [
       "<div>\n",
       "<style scoped>\n",
       "    .dataframe tbody tr th:only-of-type {\n",
       "        vertical-align: middle;\n",
       "    }\n",
       "\n",
       "    .dataframe tbody tr th {\n",
       "        vertical-align: top;\n",
       "    }\n",
       "\n",
       "    .dataframe thead th {\n",
       "        text-align: right;\n",
       "    }\n",
       "</style>\n",
       "<table border=\"1\" class=\"dataframe\">\n",
       "  <thead>\n",
       "    <tr style=\"text-align: right;\">\n",
       "      <th></th>\n",
       "      <th>RSI bounces</th>\n",
       "    </tr>\n",
       "    <tr>\n",
       "      <th>ext_outcome</th>\n",
       "      <th></th>\n",
       "    </tr>\n",
       "  </thead>\n",
       "  <tbody>\n",
       "    <tr>\n",
       "      <th>F</th>\n",
       "      <td>2.789474</td>\n",
       "    </tr>\n",
       "    <tr>\n",
       "      <th>S</th>\n",
       "      <td>2.333333</td>\n",
       "    </tr>\n",
       "  </tbody>\n",
       "</table>\n",
       "</div>"
      ],
      "text/plain": [
       "             RSI bounces\n",
       "ext_outcome             \n",
       "F               2.789474\n",
       "S               2.333333"
      ]
     },
     "execution_count": 492,
     "metadata": {},
     "output_type": "execute_result"
    }
   ],
   "source": [
    "contDF.groupby(['ext_outcome']).agg({'RSI bounces': 'mean'})"
   ]
  },
  {
   "cell_type": "code",
   "execution_count": 494,
   "metadata": {},
   "outputs": [
    {
     "data": {
      "text/html": [
       "<div>\n",
       "<style scoped>\n",
       "    .dataframe tbody tr th:only-of-type {\n",
       "        vertical-align: middle;\n",
       "    }\n",
       "\n",
       "    .dataframe tbody tr th {\n",
       "        vertical-align: top;\n",
       "    }\n",
       "\n",
       "    .dataframe thead th {\n",
       "        text-align: right;\n",
       "    }\n",
       "</style>\n",
       "<table border=\"1\" class=\"dataframe\">\n",
       "  <thead>\n",
       "    <tr style=\"text-align: right;\">\n",
       "      <th></th>\n",
       "      <th>RSI bounces</th>\n",
       "    </tr>\n",
       "    <tr>\n",
       "      <th>ext_outcome</th>\n",
       "      <th></th>\n",
       "    </tr>\n",
       "  </thead>\n",
       "  <tbody>\n",
       "    <tr>\n",
       "      <th>F</th>\n",
       "      <td>3.0</td>\n",
       "    </tr>\n",
       "    <tr>\n",
       "      <th>S</th>\n",
       "      <td>1.5</td>\n",
       "    </tr>\n",
       "  </tbody>\n",
       "</table>\n",
       "</div>"
      ],
      "text/plain": [
       "             RSI bounces\n",
       "ext_outcome             \n",
       "F                    3.0\n",
       "S                    1.5"
      ]
     },
     "execution_count": 494,
     "metadata": {},
     "output_type": "execute_result"
    }
   ],
   "source": [
    "contDF.groupby(['ext_outcome']).agg({'RSI bounces': 'median'})"
   ]
  },
  {
   "cell_type": "code",
   "execution_count": 495,
   "metadata": {},
   "outputs": [
    {
     "data": {
      "image/png": "[encoded data removed]",
      "text/plain": [
       "<matplotlib.figure.Figure at 0x1157fda58>"
      ]
     },
     "metadata": {},
     "output_type": "display_data"
    }
   ],
   "source": [
    "ax = sns.countplot(x=\"RSI bounces\",hue=\"ext_outcome\", data=contDF)"
   ]
  },
  {
   "cell_type": "markdown",
   "metadata": {},
   "source": [
    "### retraced\n",
    "This integer variable represents the number of pips from the S/L from where the failing trade retraced and hitted the target. Let's start analyzing the number of trades that retraced:"
   ]
  },
  {
   "cell_type": "code",
   "execution_count": 445,
   "metadata": {},
   "outputs": [
    {
     "data": {
      "text/plain": [
       "18"
      ]
     },
     "execution_count": 445,
     "metadata": {},
     "output_type": "execute_result"
    }
   ],
   "source": [
    "len(contDF[contDF.retraced.notnull()])"
   ]
  },
  {
   "cell_type": "markdown",
   "metadata": {},
   "source": [
    "Now, let's examine the distribution of the data:"
   ]
  },
  {
   "cell_type": "code",
   "execution_count": 446,
   "metadata": {},
   "outputs": [
    {
     "data": {
      "text/plain": [
       "<matplotlib.axes._subplots.AxesSubplot at 0x1053a3b00>"
      ]
     },
     "execution_count": 446,
     "metadata": {},
     "output_type": "execute_result"
    },
    {
     "data": {
      "image/png": "[encoded data removed]",
      "text/plain": [
       "<matplotlib.figure.Figure at 0x1159d5d68>"
      ]
     },
     "metadata": {},
     "output_type": "display_data"
    }
   ],
   "source": [
    "ret=contDF[contDF.retraced.notnull()].retraced.astype(int)\n",
    "ret.plot(kind=\"box\")"
   ]
  },
  {
   "cell_type": "code",
   "execution_count": 447,
   "metadata": {},
   "outputs": [
    {
     "name": "stdout",
     "output_type": "stream",
     "text": [
      "count      18.000000\n",
      "mean      968.333333\n",
      "std       791.998589\n",
      "min        90.000000\n",
      "25%       317.500000\n",
      "50%       900.000000\n",
      "75%      1425.000000\n",
      "max      3100.000000\n",
      "Name: retraced, dtype: float64\n"
     ]
    }
   ],
   "source": [
    "print(ret.describe())"
   ]
  },
  {
   "cell_type": "markdown",
   "metadata": {},
   "source": [
    "### No of candles\n",
    "This variable represents the number of candles since the beginning of the trade until the first RSI bounce. I am going compare the distribution of this variable depending on the `outcome` variable.<br>\n",
    "First, I will remove the NaN cases (cases where there were not RSI bounces in the trade)"
   ]
  },
  {
   "cell_type": "code",
   "execution_count": 448,
   "metadata": {},
   "outputs": [],
   "source": [
    "contDF_dropna=contDF.dropna(subset=['No of candles'])"
   ]
  },
  {
   "cell_type": "markdown",
   "metadata": {},
   "source": [
    "As an initial exploration I will create a boxplot displaying the data:"
   ]
  },
  {
   "cell_type": "code",
   "execution_count": 449,
   "metadata": {},
   "outputs": [
    {
     "data": {
      "image/png": "[encoded data removed]",
      "text/plain": [
       "<matplotlib.figure.Figure at 0x1150c7668>"
      ]
     },
     "metadata": {},
     "output_type": "display_data"
    }
   ],
   "source": [
    "ax = sns.boxplot(x=\"outcome\", y=\"No of candles\", data=contDF_dropna)"
   ]
  },
  {
   "cell_type": "markdown",
   "metadata": {},
   "source": [
    "* Mean for each category"
   ]
  },
  {
   "cell_type": "code",
   "execution_count": 450,
   "metadata": {},
   "outputs": [
    {
     "data": {
      "text/html": [
       "<div>\n",
       "<style scoped>\n",
       "    .dataframe tbody tr th:only-of-type {\n",
       "        vertical-align: middle;\n",
       "    }\n",
       "\n",
       "    .dataframe tbody tr th {\n",
       "        vertical-align: top;\n",
       "    }\n",
       "\n",
       "    .dataframe thead th {\n",
       "        text-align: right;\n",
       "    }\n",
       "</style>\n",
       "<table border=\"1\" class=\"dataframe\">\n",
       "  <thead>\n",
       "    <tr style=\"text-align: right;\">\n",
       "      <th></th>\n",
       "      <th>No of candles</th>\n",
       "    </tr>\n",
       "    <tr>\n",
       "      <th>outcome</th>\n",
       "      <th></th>\n",
       "    </tr>\n",
       "  </thead>\n",
       "  <tbody>\n",
       "    <tr>\n",
       "      <th>F</th>\n",
       "      <td>12.913043</td>\n",
       "    </tr>\n",
       "    <tr>\n",
       "      <th>S</th>\n",
       "      <td>13.962963</td>\n",
       "    </tr>\n",
       "  </tbody>\n",
       "</table>\n",
       "</div>"
      ],
      "text/plain": [
       "         No of candles\n",
       "outcome               \n",
       "F            12.913043\n",
       "S            13.962963"
      ]
     },
     "execution_count": 450,
     "metadata": {},
     "output_type": "execute_result"
    }
   ],
   "source": [
    "contDF.groupby(['outcome']).agg({'No of candles': 'mean'})"
   ]
  },
  {
   "cell_type": "markdown",
   "metadata": {},
   "source": [
    "* Median for each category"
   ]
  },
  {
   "cell_type": "code",
   "execution_count": 451,
   "metadata": {},
   "outputs": [
    {
     "data": {
      "text/html": [
       "<div>\n",
       "<style scoped>\n",
       "    .dataframe tbody tr th:only-of-type {\n",
       "        vertical-align: middle;\n",
       "    }\n",
       "\n",
       "    .dataframe tbody tr th {\n",
       "        vertical-align: top;\n",
       "    }\n",
       "\n",
       "    .dataframe thead th {\n",
       "        text-align: right;\n",
       "    }\n",
       "</style>\n",
       "<table border=\"1\" class=\"dataframe\">\n",
       "  <thead>\n",
       "    <tr style=\"text-align: right;\">\n",
       "      <th></th>\n",
       "      <th>No of candles</th>\n",
       "    </tr>\n",
       "    <tr>\n",
       "      <th>outcome</th>\n",
       "      <th></th>\n",
       "    </tr>\n",
       "  </thead>\n",
       "  <tbody>\n",
       "    <tr>\n",
       "      <th>F</th>\n",
       "      <td>5.0</td>\n",
       "    </tr>\n",
       "    <tr>\n",
       "      <th>S</th>\n",
       "      <td>5.0</td>\n",
       "    </tr>\n",
       "  </tbody>\n",
       "</table>\n",
       "</div>"
      ],
      "text/plain": [
       "         No of candles\n",
       "outcome               \n",
       "F                  5.0\n",
       "S                  5.0"
      ]
     },
     "execution_count": 451,
     "metadata": {},
     "output_type": "execute_result"
    }
   ],
   "source": [
    "contDF.groupby(['outcome']).agg({'No of candles': 'median'})"
   ]
  },
  {
   "cell_type": "markdown",
   "metadata": {},
   "source": [
    "### entry on RSI\n",
    "This boolean variable will be True if the entry of the trade is in oversold/overbought RSI\n",
    "Firs, let's see the counts for each category of the variable"
   ]
  },
  {
   "cell_type": "code",
   "execution_count": 452,
   "metadata": {},
   "outputs": [
    {
     "data": {
      "text/plain": [
       "False    41\n",
       "True     15\n",
       "Name: entry on RSI, dtype: int64"
      ]
     },
     "execution_count": 452,
     "metadata": {},
     "output_type": "execute_result"
    }
   ],
   "source": [
    "contDF['entry on RSI'].value_counts()"
   ]
  },
  {
   "cell_type": "markdown",
   "metadata": {},
   "source": [
    "Let's compare the proportions for this variable between the 2 categories of the `outcome` variable"
   ]
  },
  {
   "cell_type": "code",
   "execution_count": 453,
   "metadata": {},
   "outputs": [
    {
     "name": "stdout",
     "output_type": "stream",
     "text": [
      "entry on RSI  False  True  All\n",
      "outcome                       \n",
      "F                20     6   26\n",
      "S                21     9   30\n",
      "All              41    15   56\n"
     ]
    }
   ],
   "source": [
    "div_class=pd.crosstab(contDF['outcome'], contDF['entry on RSI'],margins=True)\n",
    "print(div_class)"
   ]
  },
  {
   "cell_type": "markdown",
   "metadata": {},
   "source": [
    "It's is easier to visualize the relationship if we calculate the percentages:"
   ]
  },
  {
   "cell_type": "code",
   "execution_count": 454,
   "metadata": {},
   "outputs": [
    {
     "name": "stdout",
     "output_type": "stream",
     "text": [
      "entry on RSI       False   True         All\n",
      "outcome                                    \n",
      "F              48.780488   40.0   46.428571\n",
      "S              51.219512   60.0   53.571429\n",
      "All           100.000000  100.0  100.000000\n"
     ]
    }
   ],
   "source": [
    "prop=(div_class/div_class.loc[\"All\"])*100\n",
    "print(prop)"
   ]
  },
  {
   "cell_type": "markdown",
   "metadata": {
    "variables": {
     "'%.1f' % prop.iloc[0, 0]": "48.8",
     "'%.1f' % prop.iloc[0, 1]": "40.0",
     "'%.1f' % prop.iloc[1, 0]": "51.2",
     "'%.1f' % prop.iloc[1, 1]": "60.0"
    }
   },
   "source": [
    "* Conclusion <br>\n",
    "Within the trades having entry on RSI there are {{'%.1f' % prop.iloc[0, 1]}}% of failures and {{'%.1f' % prop.iloc[1, 1]}}% of successes<br>\n",
    "Within the trades not having an entry on RSI there are {{'%.1f' % prop.iloc[0, 0]}}% of failures and {{'%.1f' % prop.iloc[1, 0]}}% of successes"
   ]
  },
  {
   "cell_type": "markdown",
   "metadata": {},
   "source": [
    "### length of trend\n",
    "This quantitative discrete variable measures the length of the trade measured in term of the number of candles. Let's start comparing the distribution of this variable for the different categories of the `outcome` variable"
   ]
  },
  {
   "cell_type": "code",
   "execution_count": 455,
   "metadata": {},
   "outputs": [
    {
     "data": {
      "image/png": "[encoded data removed]",
      "text/plain": [
       "<matplotlib.figure.Figure at 0x1152712b0>"
      ]
     },
     "metadata": {},
     "output_type": "display_data"
    }
   ],
   "source": [
    "ax = sns.boxplot(x=\"outcome\", y=\"length of trend\", data=contDF)"
   ]
  },
  {
   "cell_type": "markdown",
   "metadata": {},
   "source": [
    "* Mean for each category"
   ]
  },
  {
   "cell_type": "code",
   "execution_count": 456,
   "metadata": {},
   "outputs": [
    {
     "data": {
      "text/html": [
       "<div>\n",
       "<style scoped>\n",
       "    .dataframe tbody tr th:only-of-type {\n",
       "        vertical-align: middle;\n",
       "    }\n",
       "\n",
       "    .dataframe tbody tr th {\n",
       "        vertical-align: top;\n",
       "    }\n",
       "\n",
       "    .dataframe thead th {\n",
       "        text-align: right;\n",
       "    }\n",
       "</style>\n",
       "<table border=\"1\" class=\"dataframe\">\n",
       "  <thead>\n",
       "    <tr style=\"text-align: right;\">\n",
       "      <th></th>\n",
       "      <th>length of trend</th>\n",
       "    </tr>\n",
       "    <tr>\n",
       "      <th>outcome</th>\n",
       "      <th></th>\n",
       "    </tr>\n",
       "  </thead>\n",
       "  <tbody>\n",
       "    <tr>\n",
       "      <th>F</th>\n",
       "      <td>59.307692</td>\n",
       "    </tr>\n",
       "    <tr>\n",
       "      <th>S</th>\n",
       "      <td>72.300000</td>\n",
       "    </tr>\n",
       "  </tbody>\n",
       "</table>\n",
       "</div>"
      ],
      "text/plain": [
       "         length of trend\n",
       "outcome                 \n",
       "F              59.307692\n",
       "S              72.300000"
      ]
     },
     "execution_count": 456,
     "metadata": {},
     "output_type": "execute_result"
    }
   ],
   "source": [
    "contDF.groupby(['outcome']).agg({'length of trend': 'mean'})"
   ]
  },
  {
   "cell_type": "markdown",
   "metadata": {},
   "source": [
    "* Median for each category"
   ]
  },
  {
   "cell_type": "code",
   "execution_count": 457,
   "metadata": {},
   "outputs": [
    {
     "data": {
      "text/html": [
       "<div>\n",
       "<style scoped>\n",
       "    .dataframe tbody tr th:only-of-type {\n",
       "        vertical-align: middle;\n",
       "    }\n",
       "\n",
       "    .dataframe tbody tr th {\n",
       "        vertical-align: top;\n",
       "    }\n",
       "\n",
       "    .dataframe thead th {\n",
       "        text-align: right;\n",
       "    }\n",
       "</style>\n",
       "<table border=\"1\" class=\"dataframe\">\n",
       "  <thead>\n",
       "    <tr style=\"text-align: right;\">\n",
       "      <th></th>\n",
       "      <th>length of trend</th>\n",
       "    </tr>\n",
       "    <tr>\n",
       "      <th>outcome</th>\n",
       "      <th></th>\n",
       "    </tr>\n",
       "  </thead>\n",
       "  <tbody>\n",
       "    <tr>\n",
       "      <th>F</th>\n",
       "      <td>55.5</td>\n",
       "    </tr>\n",
       "    <tr>\n",
       "      <th>S</th>\n",
       "      <td>52.0</td>\n",
       "    </tr>\n",
       "  </tbody>\n",
       "</table>\n",
       "</div>"
      ],
      "text/plain": [
       "         length of trend\n",
       "outcome                 \n",
       "F                   55.5\n",
       "S                   52.0"
      ]
     },
     "execution_count": 457,
     "metadata": {},
     "output_type": "execute_result"
    }
   ],
   "source": [
    "contDF.groupby(['outcome']).agg({'length of trend': 'median'})"
   ]
  },
  {
   "cell_type": "markdown",
   "metadata": {},
   "source": [
    "###  trend angle\n",
    "This quantitative discrete variable measures the angle of a particular trend. Let's start comparing the distribution of this variable for the different categories of the `outcome` variable"
   ]
  },
  {
   "cell_type": "code",
   "execution_count": 458,
   "metadata": {},
   "outputs": [
    {
     "data": {
      "image/png": "[encoded data removed]",
      "text/plain": [
       "<matplotlib.figure.Figure at 0x10539b518>"
      ]
     },
     "metadata": {},
     "output_type": "display_data"
    }
   ],
   "source": [
    "ax = sns.boxplot(x=\"outcome\", y=\"trend angle\", data=contDF)"
   ]
  },
  {
   "cell_type": "markdown",
   "metadata": {},
   "source": [
    "* Mean for each category"
   ]
  },
  {
   "cell_type": "code",
   "execution_count": 459,
   "metadata": {},
   "outputs": [
    {
     "data": {
      "text/html": [
       "<div>\n",
       "<style scoped>\n",
       "    .dataframe tbody tr th:only-of-type {\n",
       "        vertical-align: middle;\n",
       "    }\n",
       "\n",
       "    .dataframe tbody tr th {\n",
       "        vertical-align: top;\n",
       "    }\n",
       "\n",
       "    .dataframe thead th {\n",
       "        text-align: right;\n",
       "    }\n",
       "</style>\n",
       "<table border=\"1\" class=\"dataframe\">\n",
       "  <thead>\n",
       "    <tr style=\"text-align: right;\">\n",
       "      <th></th>\n",
       "      <th>trend angle</th>\n",
       "    </tr>\n",
       "    <tr>\n",
       "      <th>outcome</th>\n",
       "      <th></th>\n",
       "    </tr>\n",
       "  </thead>\n",
       "  <tbody>\n",
       "    <tr>\n",
       "      <th>F</th>\n",
       "      <td>41.461538</td>\n",
       "    </tr>\n",
       "    <tr>\n",
       "      <th>S</th>\n",
       "      <td>44.066667</td>\n",
       "    </tr>\n",
       "  </tbody>\n",
       "</table>\n",
       "</div>"
      ],
      "text/plain": [
       "         trend angle\n",
       "outcome             \n",
       "F          41.461538\n",
       "S          44.066667"
      ]
     },
     "execution_count": 459,
     "metadata": {},
     "output_type": "execute_result"
    }
   ],
   "source": [
    "contDF.groupby(['outcome']).agg({'trend angle': 'mean'})"
   ]
  },
  {
   "cell_type": "markdown",
   "metadata": {},
   "source": [
    "* Median for each category"
   ]
  },
  {
   "cell_type": "code",
   "execution_count": 460,
   "metadata": {},
   "outputs": [
    {
     "data": {
      "text/html": [
       "<div>\n",
       "<style scoped>\n",
       "    .dataframe tbody tr th:only-of-type {\n",
       "        vertical-align: middle;\n",
       "    }\n",
       "\n",
       "    .dataframe tbody tr th {\n",
       "        vertical-align: top;\n",
       "    }\n",
       "\n",
       "    .dataframe thead th {\n",
       "        text-align: right;\n",
       "    }\n",
       "</style>\n",
       "<table border=\"1\" class=\"dataframe\">\n",
       "  <thead>\n",
       "    <tr style=\"text-align: right;\">\n",
       "      <th></th>\n",
       "      <th>trend angle</th>\n",
       "    </tr>\n",
       "    <tr>\n",
       "      <th>outcome</th>\n",
       "      <th></th>\n",
       "    </tr>\n",
       "  </thead>\n",
       "  <tbody>\n",
       "    <tr>\n",
       "      <th>F</th>\n",
       "      <td>41.5</td>\n",
       "    </tr>\n",
       "    <tr>\n",
       "      <th>S</th>\n",
       "      <td>45.0</td>\n",
       "    </tr>\n",
       "  </tbody>\n",
       "</table>\n",
       "</div>"
      ],
      "text/plain": [
       "         trend angle\n",
       "outcome             \n",
       "F               41.5\n",
       "S               45.0"
      ]
     },
     "execution_count": 460,
     "metadata": {},
     "output_type": "execute_result"
    }
   ],
   "source": [
    "contDF.groupby(['outcome']).agg({'trend angle': 'median'})"
   ]
  },
  {
   "cell_type": "markdown",
   "metadata": {},
   "source": [
    "### bounce length\n",
    "This variable is a comma separated list of integers representing how wide (in number of candles) each of the RSI bounces is. This variable requires a little bit of preprocessing, and I will write a function that calculates the total length (in number of candles) by adding the length of each of the bounces"
   ]
  },
  {
   "cell_type": "code",
   "execution_count": 461,
   "metadata": {},
   "outputs": [],
   "source": [
    "def sum_lengths(x):\n",
    "    '''\n",
    "    Function to calculate the sum (in number of candles)\n",
    "    of all the RSI bounces\n",
    "    \n",
    "    Parameters\n",
    "    ----------\n",
    "    x = string with a comma separated list of numbers\n",
    "        i.e. 1,4,2,3\n",
    "        \n",
    "    Returns\n",
    "    -------\n",
    "    An integer representing the total bounce length\n",
    "    '''\n",
    "    \n",
    "    return sum([int(i) for i in x.split(\",\")])\n",
    "    "
   ]
  },
  {
   "cell_type": "markdown",
   "metadata": {},
   "source": [
    "Now, I am going to remove the NaN values from the variable"
   ]
  },
  {
   "cell_type": "code",
   "execution_count": 462,
   "metadata": {},
   "outputs": [],
   "source": [
    "contDF_dropna=contDF.dropna(subset=['bounce length'])"
   ]
  },
  {
   "cell_type": "markdown",
   "metadata": {},
   "source": [
    "And I will apply the `sum_lengths` function and put the results in a new column named `sum_bounces`"
   ]
  },
  {
   "cell_type": "code",
   "execution_count": 463,
   "metadata": {},
   "outputs": [
    {
     "name": "stderr",
     "output_type": "stream",
     "text": [
      "/Users/ernesto/bin/anaconda/envs/python3/lib/python3.5/site-packages/ipykernel_launcher.py:1: SettingWithCopyWarning: \n",
      "A value is trying to be set on a copy of a slice from a DataFrame.\n",
      "Try using .loc[row_indexer,col_indexer] = value instead\n",
      "\n",
      "See the caveats in the documentation: http://pandas.pydata.org/pandas-docs/stable/indexing.html#indexing-view-versus-copy\n",
      "  \"\"\"Entry point for launching an IPython kernel.\n"
     ]
    }
   ],
   "source": [
    "contDF_dropna['sum_bounces']=contDF_dropna['bounce length'].astype(str).apply(sum_lengths)"
   ]
  },
  {
   "cell_type": "markdown",
   "metadata": {},
   "source": [
    "Now, I will plot the distribution of this new variable on each `outcome`category:"
   ]
  },
  {
   "cell_type": "code",
   "execution_count": 464,
   "metadata": {},
   "outputs": [
    {
     "data": {
      "image/png": "[encoded data removed]",
      "text/plain": [
       "<matplotlib.figure.Figure at 0x1158e2160>"
      ]
     },
     "metadata": {},
     "output_type": "display_data"
    }
   ],
   "source": [
    "ax = sns.boxplot(x=\"outcome\", y=\"sum_bounces\", data=contDF_dropna)"
   ]
  },
  {
   "cell_type": "markdown",
   "metadata": {},
   "source": [
    "* Mean for each category"
   ]
  },
  {
   "cell_type": "code",
   "execution_count": 465,
   "metadata": {},
   "outputs": [
    {
     "data": {
      "text/html": [
       "<div>\n",
       "<style scoped>\n",
       "    .dataframe tbody tr th:only-of-type {\n",
       "        vertical-align: middle;\n",
       "    }\n",
       "\n",
       "    .dataframe tbody tr th {\n",
       "        vertical-align: top;\n",
       "    }\n",
       "\n",
       "    .dataframe thead th {\n",
       "        text-align: right;\n",
       "    }\n",
       "</style>\n",
       "<table border=\"1\" class=\"dataframe\">\n",
       "  <thead>\n",
       "    <tr style=\"text-align: right;\">\n",
       "      <th></th>\n",
       "      <th>sum_bounces</th>\n",
       "    </tr>\n",
       "    <tr>\n",
       "      <th>outcome</th>\n",
       "      <th></th>\n",
       "    </tr>\n",
       "  </thead>\n",
       "  <tbody>\n",
       "    <tr>\n",
       "      <th>F</th>\n",
       "      <td>7.956522</td>\n",
       "    </tr>\n",
       "    <tr>\n",
       "      <th>S</th>\n",
       "      <td>11.148148</td>\n",
       "    </tr>\n",
       "  </tbody>\n",
       "</table>\n",
       "</div>"
      ],
      "text/plain": [
       "         sum_bounces\n",
       "outcome             \n",
       "F           7.956522\n",
       "S          11.148148"
      ]
     },
     "execution_count": 465,
     "metadata": {},
     "output_type": "execute_result"
    }
   ],
   "source": [
    "contDF_dropna.groupby(['outcome']).agg({'sum_bounces': 'mean'})"
   ]
  },
  {
   "cell_type": "markdown",
   "metadata": {},
   "source": [
    "* Median for each category"
   ]
  },
  {
   "cell_type": "code",
   "execution_count": 466,
   "metadata": {},
   "outputs": [
    {
     "data": {
      "text/html": [
       "<div>\n",
       "<style scoped>\n",
       "    .dataframe tbody tr th:only-of-type {\n",
       "        vertical-align: middle;\n",
       "    }\n",
       "\n",
       "    .dataframe tbody tr th {\n",
       "        vertical-align: top;\n",
       "    }\n",
       "\n",
       "    .dataframe thead th {\n",
       "        text-align: right;\n",
       "    }\n",
       "</style>\n",
       "<table border=\"1\" class=\"dataframe\">\n",
       "  <thead>\n",
       "    <tr style=\"text-align: right;\">\n",
       "      <th></th>\n",
       "      <th>sum_bounces</th>\n",
       "    </tr>\n",
       "    <tr>\n",
       "      <th>outcome</th>\n",
       "      <th></th>\n",
       "    </tr>\n",
       "  </thead>\n",
       "  <tbody>\n",
       "    <tr>\n",
       "      <th>F</th>\n",
       "      <td>7</td>\n",
       "    </tr>\n",
       "    <tr>\n",
       "      <th>S</th>\n",
       "      <td>5</td>\n",
       "    </tr>\n",
       "  </tbody>\n",
       "</table>\n",
       "</div>"
      ],
      "text/plain": [
       "         sum_bounces\n",
       "outcome             \n",
       "F                  7\n",
       "S                  5"
      ]
     },
     "execution_count": 466,
     "metadata": {},
     "output_type": "execute_result"
    }
   ],
   "source": [
    "contDF_dropna.groupby(['outcome']).agg({'sum_bounces': 'median'})"
   ]
  },
  {
   "cell_type": "markdown",
   "metadata": {},
   "source": [
    "### last time\n",
    "This datetime variable represents the last time the price was over/below the entry price level. The first to do is to create a new datetime variable representing the difference (in days) between the entry datetime (start column) and the last time datetime."
   ]
  },
  {
   "cell_type": "code",
   "execution_count": 467,
   "metadata": {},
   "outputs": [],
   "source": [
    "contDF['diff']=(contDF['start']-contDF['last time'])"
   ]
  },
  {
   "cell_type": "code",
   "execution_count": 468,
   "metadata": {},
   "outputs": [
    {
     "name": "stdout",
     "output_type": "stream",
     "text": [
      "                      id               start timeframe      entry outcome  \\\n",
      "0   AUD_USD 26MAY2009H12 2009-05-26 22:00:00       H12    0.78702       S   \n",
      "1   AUD_USD 30JUL2009H12 2009-07-30 10:00:00       H12    0.82313       S   \n",
      "2    AUD_USD 22JUL20102D 2010-07-22 23:00:00        2D    0.88643       S   \n",
      "3   AUD_USD 16SEP2010H12 2010-09-16 22:00:00       H12    0.94225       S   \n",
      "4   AUD_USD 19OCT2011H12 2011-10-19 10:00:00       H12    1.03285       S   \n",
      "5   AUD_USD 29MAY2012H12 2012-05-29 22:00:00       H12    0.98075       S   \n",
      "6     AUD_USD 17SEP2013D 2013-09-17 23:00:00         D    0.93555       S   \n",
      "7     AUD_USD 11JAN2018D 2018-11-01 23:00:00         D    0.78744       S   \n",
      "8    EUR_GBP 9OCT2009H12 2009-09-10 10:00:00       H12    0.92289       S   \n",
      "9     EUR_GBP MAR2011H12 2011-03-15 09:00:00       H12    0.86770       S   \n",
      "10  EUR_USD 22AUG2008H12 2008-08-22 10:00:00       H12    1.48065       S   \n",
      "11   EUR_USD 26AUG20082D 2008-08-26 23:00:00        2D    1.46822       S   \n",
      "12  EUR_USD 28JUL2017H12 2017-07-28 10:00:00       H12    1.17241       S   \n",
      "13    EUR_USD 15MAY2018D 2018-05-15 23:00:00         D    1.19129       S   \n",
      "14  GBP_USD 14FEB2011H12 2011-02-14 22:00:00       H12    1.60930       S   \n",
      "15  GBP_USD 11SEP2012H12 2012-11-09 10:00:00       H12    1.60327       S   \n",
      "16  GBP_USD 10JUN2013H12 2013-10-06 22:00:00       H12    1.55903       S   \n",
      "17  GBP_USD 04JUL2013H12 2013-04-07 10:00:00       H12    1.52265       S   \n",
      "18  USD_CAD 30MAY2012H12 2012-05-30 10:00:00       H12    1.02701       S   \n",
      "19  USD_CAD 25JUL2012H12 2012-07-25 10:00:00       H12    1.01738       S   \n",
      "20  USD_CAD 09MAR2016H12 2016-09-03 10:00:00       H12    1.33445       S   \n",
      "21  USD_CAD 11AUG2017H12 2017-11-08 10:00:00       H12    1.26998       S   \n",
      "22    USD_JPY 06DEC2007D 2007-06-12 23:00:00         D  111.06400       S   \n",
      "23     USD_JPY 11JAN2008 2008-11-01 03:00:00         D  109.10400       S   \n",
      "24    USD_JPY 15OCT2008D 2008-10-15 23:00:00         D  101.39200       S   \n",
      "25    USD_JPY 29FEB2012D 2012-02-29 23:00:00         D   80.79600       S   \n",
      "26  USD_JPY 23JAN2013H12 2013-01-23 22:00:00       H12   88.87100       S   \n",
      "27    USD_JPY 17OCT2014D 2014-10-17 23:00:00         D  106.52900       S   \n",
      "28  USD_JPY 18JAN2018H12 2018-01-18 10:00:00       H12  111.04800       S   \n",
      "29   USD_JPY 17MAY2018H8 2018-05-17 06:00:00        H8  110.38200       S   \n",
      "30   AUD_NZD 26FEB2018H8 2018-02-26 06:00:00        H8    1.07283       F   \n",
      "31   AUD_USD 15APR2009H8 2009-04-15 14:00:00        H8    0.72409       F   \n",
      "32   AUD_USD 10JUN20092D 2009-10-06 23:00:00        2D    0.80425       F   \n",
      "33   AUD_USD 19NOV20102D 2010-11-19 23:00:00        2D    0.99154       F   \n",
      "34  AUD_USD 02DEC2011H12 2011-02-12 10:00:00       H12    1.02940       F   \n",
      "35  AUD_USD 16FEB2012H12 2012-02-16 22:00:00       H12    1.07801       F   \n",
      "36  AUD_USD 09JUL2012H12 2012-09-07 22:00:00       H12    1.02228       F   \n",
      "37    AUD_USD 30DEC2013D 2013-12-30 23:00:00         D    0.88682       F   \n",
      "38  AUD_USD 22APR2014H12 2014-04-22 10:00:00       H12    0.93687       F   \n",
      "39    AUD_USD 22SEP2015D 2015-09-22 03:00:00         D    0.71336       F   \n",
      "40     AUD_USD 2JAN2015D 2015-02-01 03:00:00         D    0.80851       F   \n",
      "41    USD_JPY 01AUG2007D 2007-01-08 03:00:00         D  118.32200       F   \n",
      "42    USD_JPY 04JUL2008D 2008-04-07 23:00:00         D  106.93900       F   \n",
      "43    USD_JPY 04MAR2009D 2009-04-03 23:00:00         D   98.63100       F   \n",
      "44    USD_JPY 22JUL2010D 2010-07-22 23:00:00         D   86.88800       F   \n",
      "45  USD_JPY 29OCT2012H12 2012-10-29 09:00:00       H12   79.75100       F   \n",
      "46    USD_JPY 01MAY2018D 2018-01-05 23:00:00         D  109.45900       F   \n",
      "47  EUR_GBP 24OCT2010H12 2010-10-24 22:00:00       H12    0.89084       F   \n",
      "48  EUR_USD 22FEB2010H12 2010-02-22 10:00:00       H12    1.35824       F   \n",
      "49   EUR_USD 26JUL20102D 2010-07-26 23:00:00        2D    1.29623       F   \n",
      "50   EUR_USD 14OCT20102D 2010-10-14 23:00:00        2D    1.40206       F   \n",
      "51  USD_CAD 19OCT2009H12 2009-10-19 10:00:00       H12    1.02911       F   \n",
      "52  USD_CAD 05FEB2018H10 2018-05-02 08:00:00       H10    1.24022       F   \n",
      "53  USD_CAD 07MAR2018H12 2018-07-03 10:00:00       H12    1.29627       F   \n",
      "54  GBP_USD 28JUL2011H12 2011-07-28 10:00:00       H12    1.63811       F   \n",
      "55  GBP_USD 26DEC2012H12 2012-12-26 22:00:00       H12    1.61725       F   \n",
      "\n",
      "    Candle +1 against trade  RSI bounces  No of candles  \\\n",
      "0                      True            4           24.0   \n",
      "1                     False            6           79.0   \n",
      "2                     False            1           19.0   \n",
      "3                     False            2            5.0   \n",
      "4                      True            1            4.0   \n",
      "5                     False            5            8.0   \n",
      "6                     False            0            NaN   \n",
      "7                     False            1            4.0   \n",
      "8                     False            5           16.0   \n",
      "9                     False            0            NaN   \n",
      "10                    False            3            6.0   \n",
      "11                    False            1            5.0   \n",
      "12                    False            8            3.0   \n",
      "13                    False            2            4.0   \n",
      "14                     True            1           39.0   \n",
      "15                    False            2            4.0   \n",
      "16                     True            1            4.0   \n",
      "17                    False            2            4.0   \n",
      "18                    False            2            6.0   \n",
      "19                    False            1           73.0   \n",
      "20                    False            1           10.0   \n",
      "21                    False            6           23.0   \n",
      "22                    False            1            5.0   \n",
      "23                    False            0            NaN   \n",
      "24                    False            1            4.0   \n",
      "25                    False            1            3.0   \n",
      "26                    False           11            7.0   \n",
      "27                    False            3           10.0   \n",
      "28                    False            1            3.0   \n",
      "29                    False            5            5.0   \n",
      "30                    False            3           31.0   \n",
      "31                     True            4           12.0   \n",
      "32                    False            1            4.0   \n",
      "33                     True            3            5.0   \n",
      "34                    False            0            NaN   \n",
      "35                    False            1           32.0   \n",
      "36                    False            1           27.0   \n",
      "37                     True            3            5.0   \n",
      "38                    False            3           11.0   \n",
      "39                    False            4            8.0   \n",
      "40                    False            6            3.0   \n",
      "41                     True            1            3.0   \n",
      "42                     True            1           78.0   \n",
      "43                    False            1            4.0   \n",
      "44                     True            2            2.0   \n",
      "45                    False            2            3.0   \n",
      "46                    False            1            3.0   \n",
      "47                    False            4           14.0   \n",
      "48                    False            7           13.0   \n",
      "49                    False            0            NaN   \n",
      "50                     True            0            NaN   \n",
      "51                    False            1            5.0   \n",
      "52                     True            5           22.0   \n",
      "53                     True            5            2.0   \n",
      "54                    False            1            4.0   \n",
      "55                    False            2            6.0   \n",
      "\n",
      "             bounce length  entry on RSI  length of trend  strong trend  \\\n",
      "0                  1,1,3,1         False              112         False   \n",
      "1              2,3,3,1,4,3         False              215         False   \n",
      "2                        3         False               18         False   \n",
      "3                      2,2          True              147         False   \n",
      "4                        1         False               22          True   \n",
      "5                4,4,4,3,3         False              126         False   \n",
      "6                      NaN          True               13          True   \n",
      "7                        5          True               23          True   \n",
      "8                7,8,1,3,1         False               91          True   \n",
      "9                      NaN         False               34          True   \n",
      "10                  21,1,1         False               57          True   \n",
      "11                       3         False               15          True   \n",
      "12         2,1,1,4,1,1,1,4         False              296         False   \n",
      "13                     4,2          True               20          True   \n",
      "14                       1         False               69         False   \n",
      "15                     1,1          True               86          True   \n",
      "16                       2         False               19          True   \n",
      "17                     1,1          True               26          True   \n",
      "18                     4,3          True               47          True   \n",
      "19                       2         False               75         False   \n",
      "20                       1         False               71         False   \n",
      "21           20,1,16,1,1,4         False              142          True   \n",
      "22                       1         False                7          True   \n",
      "23                     NaN         False               12          True   \n",
      "24                       1         False               43         False   \n",
      "25                       9          True               19          True   \n",
      "26  1,6,14,6,4,5,1,1,1,3,6         False              164          True   \n",
      "27                  1,32,6         False               66          True   \n",
      "28                       5         False               17          True   \n",
      "29              1,2,3,1,11          True              117         False   \n",
      "30                   5,1,1         False               59         False   \n",
      "31                1,1,1,13          True               87         False   \n",
      "32                       2          True               33          True   \n",
      "33                   1,7,1         False               59          True   \n",
      "34                     NaN         False               11          True   \n",
      "35                       2         False              119         False   \n",
      "36                       2         False               54         False   \n",
      "37                   1,1,1         False               47         False   \n",
      "38                     1,6         False              124         False   \n",
      "39                 6,2,1,1         False               92         False   \n",
      "40             18,1,4,2,12          True               82          True   \n",
      "41                       2         False               29         False   \n",
      "42                       3         False               79         False   \n",
      "43                       2          True               30         False   \n",
      "44                     2,6         False               57          True   \n",
      "45                     3,5         False               43          True   \n",
      "46                       1          True               26         False   \n",
      "47                 1,3,1,3         False               79         False   \n",
      "48           1,5,5,4,1,2,2         False              115         False   \n",
      "49                     NaN         False               18          True   \n",
      "50                     NaN          True               47         False   \n",
      "51                       4         False               23         False   \n",
      "52               1,5,2,4,5         False               97         False   \n",
      "53               5,2,1,1,1         False               49         False   \n",
      "54                       1         False               25         False   \n",
      "55                     1,3         False               58          True   \n",
      "\n",
      "    trend angle  retraced  last time target congestion    diff  \n",
      "0          26.0       NaN 2008-01-10    NaN        NaN   502.0  \n",
      "1          22.0       NaN 2008-01-09    NaN        NaN   568.0  \n",
      "2          50.0       NaN 2010-01-05    NaN        NaN   198.0  \n",
      "3          28.0       NaN 2008-01-07    NaN        NaN   983.0  \n",
      "4          64.0       NaN 2011-01-09    NaN        NaN   283.0  \n",
      "5          29.0       NaN 2011-01-11    NaN      False   504.0  \n",
      "6          63.0       NaN 2013-01-06    NaN        NaN   254.0  \n",
      "7          58.0       NaN 2017-01-09    NaN        NaN   661.0  \n",
      "8          50.0       NaN 2009-01-03    NaN        NaN   250.0  \n",
      "9          41.0       NaN 2010-01-11    NaN        NaN   428.0  \n",
      "10         32.0       NaN 2008-01-02    NaN        NaN   233.0  \n",
      "11         54.0       NaN 2008-01-02    NaN        NaN   237.0  \n",
      "12         29.0       NaN 2015-01-01    NaN        NaN   939.0  \n",
      "13         61.0       NaN 2017-01-12    NaN        NaN   488.0  \n",
      "14         44.0       NaN 2010-01-01    NaN        NaN   409.0  \n",
      "15         30.0       NaN 2012-01-05    NaN        NaN   309.0  \n",
      "16         69.0       NaN 2013-01-02    NaN        NaN   277.0  \n",
      "17         60.0       NaN 2013-01-05    NaN        NaN    92.0  \n",
      "18         46.0       NaN 2011-01-12    NaN        NaN   504.0  \n",
      "19         26.0       NaN 2012-01-01    NaN        NaN   206.0  \n",
      "20         53.0       NaN 2015-01-11    NaN        NaN   601.0  \n",
      "21         35.0       NaN 2015-01-07    NaN        NaN  1036.0  \n",
      "22         55.0       NaN 2007-01-11    NaN        NaN   152.0  \n",
      "23         57.0       NaN 2005-01-06    NaN        NaN  1395.0  \n",
      "24         38.0       NaN 2008-01-03    NaN        NaN   286.0  \n",
      "25         67.0       NaN 2011-01-05    NaN        NaN   420.0  \n",
      "26         23.0       NaN 2010-01-06    NaN        NaN  1113.0  \n",
      "27         19.0       NaN 2008-01-09    NaN        NaN  2473.0  \n",
      "28         57.0       NaN 2017-01-09    NaN        NaN   374.0  \n",
      "29         36.0       NaN 2018-01-01    NaN        NaN   136.0  \n",
      "30         41.0     450.0 2017-01-07    NaN        NaN   415.0  \n",
      "31         34.0    1750.0 2008-01-10    NaN        NaN   461.0  \n",
      "32         48.0    1000.0 2008-01-09    NaN        NaN   636.0  \n",
      "33         30.0    1800.0 2003-01-01    NaN        NaN  2879.0  \n",
      "34         69.0       NaN 2011-01-11    NaN        NaN    32.0  \n",
      "35         29.0       NaN 2011-01-08    NaN       True   404.0  \n",
      "36         45.0     390.0 2012-01-05    NaN      False   246.0  \n",
      "37         43.0    1200.0 2010-01-07    NaN        NaN  1453.0  \n",
      "38         30.0       NaN        NaT    NaN        NaN     NaN  \n",
      "39         32.0       NaN 2009-01-03    NaN        NaN  2453.0  \n",
      "40         38.0     800.0 2009-01-07    NaN        NaN  2216.0  \n",
      "41         47.0      90.0 2007-01-03    NaN        NaN     5.0  \n",
      "42         25.0    1100.0 2008-01-01    NaN        NaN    97.0  \n",
      "43         50.0    3100.0 2008-01-10    NaN        NaN   449.0  \n",
      "44         39.0     300.0 2009-01-11    NaN        NaN   557.0  \n",
      "45         33.0     130.0 2012-01-04    NaN        NaN   299.0  \n",
      "46         52.0     250.0 2018-01-01    NaN        NaN     4.0  \n",
      "47         44.0       NaN 2010-01-03    NaN        NaN   294.0  \n",
      "48         38.0    1500.0 2009-01-05    NaN        NaN   413.0  \n",
      "49         44.0    1200.0 2010-01-04    NaN        NaN   203.0  \n",
      "50         42.0       NaN 2010-01-01    NaN        NaN   286.0  \n",
      "51         58.0       NaN 2008-01-07    NaN        NaN   651.0  \n",
      "52         33.0       NaN 2017-01-09    NaN        NaN   478.0  \n",
      "53         50.0     370.0 2017-01-06    NaN        NaN   543.0  \n",
      "54         59.0    1700.0 2011-01-05    NaN        NaN   204.0  \n",
      "55         25.0     300.0 2012-01-09    NaN        NaN   352.0  \n"
     ]
    }
   ],
   "source": [
    "contDF['diff']=contDF['diff'].apply(lambda x: x.days)"
   ]
  },
  {
   "cell_type": "markdown",
   "metadata": {},
   "source": [
    "Now, let's examine the distribution of this newly created `diff` variable in the 2 `outcome` categories"
   ]
  },
  {
   "cell_type": "code",
   "execution_count": 469,
   "metadata": {},
   "outputs": [
    {
     "data": {
      "image/png": "[encoded data removed]",
      "text/plain": [
       "<matplotlib.figure.Figure at 0x113bb7cc0>"
      ]
     },
     "metadata": {},
     "output_type": "display_data"
    }
   ],
   "source": [
    "ax = sns.boxplot(x=\"outcome\", y=\"diff\", data=contDF)"
   ]
  },
  {
   "cell_type": "markdown",
   "metadata": {},
   "source": [
    "* Mean for each category"
   ]
  },
  {
   "cell_type": "code",
   "execution_count": 470,
   "metadata": {},
   "outputs": [
    {
     "data": {
      "text/html": [
       "<div>\n",
       "<style scoped>\n",
       "    .dataframe tbody tr th:only-of-type {\n",
       "        vertical-align: middle;\n",
       "    }\n",
       "\n",
       "    .dataframe tbody tr th {\n",
       "        vertical-align: top;\n",
       "    }\n",
       "\n",
       "    .dataframe thead th {\n",
       "        text-align: right;\n",
       "    }\n",
       "</style>\n",
       "<table border=\"1\" class=\"dataframe\">\n",
       "  <thead>\n",
       "    <tr style=\"text-align: right;\">\n",
       "      <th></th>\n",
       "      <th>diff</th>\n",
       "    </tr>\n",
       "    <tr>\n",
       "      <th>outcome</th>\n",
       "      <th></th>\n",
       "    </tr>\n",
       "  </thead>\n",
       "  <tbody>\n",
       "    <tr>\n",
       "      <th>F</th>\n",
       "      <td>641.2</td>\n",
       "    </tr>\n",
       "    <tr>\n",
       "      <th>S</th>\n",
       "      <td>543.7</td>\n",
       "    </tr>\n",
       "  </tbody>\n",
       "</table>\n",
       "</div>"
      ],
      "text/plain": [
       "          diff\n",
       "outcome       \n",
       "F        641.2\n",
       "S        543.7"
      ]
     },
     "execution_count": 470,
     "metadata": {},
     "output_type": "execute_result"
    }
   ],
   "source": [
    "contDF.groupby(['outcome']).agg({'diff': 'mean'})"
   ]
  },
  {
   "cell_type": "code",
   "execution_count": null,
   "metadata": {},
   "outputs": [],
   "source": [
    "* Median for each category"
   ]
  },
  {
   "cell_type": "code",
   "execution_count": 471,
   "metadata": {},
   "outputs": [
    {
     "data": {
      "text/html": [
       "<div>\n",
       "<style scoped>\n",
       "    .dataframe tbody tr th:only-of-type {\n",
       "        vertical-align: middle;\n",
       "    }\n",
       "\n",
       "    .dataframe tbody tr th {\n",
       "        vertical-align: top;\n",
       "    }\n",
       "\n",
       "    .dataframe thead th {\n",
       "        text-align: right;\n",
       "    }\n",
       "</style>\n",
       "<table border=\"1\" class=\"dataframe\">\n",
       "  <thead>\n",
       "    <tr style=\"text-align: right;\">\n",
       "      <th></th>\n",
       "      <th>diff</th>\n",
       "    </tr>\n",
       "    <tr>\n",
       "      <th>outcome</th>\n",
       "      <th></th>\n",
       "    </tr>\n",
       "  </thead>\n",
       "  <tbody>\n",
       "    <tr>\n",
       "      <th>F</th>\n",
       "      <td>413.0</td>\n",
       "    </tr>\n",
       "    <tr>\n",
       "      <th>S</th>\n",
       "      <td>414.5</td>\n",
       "    </tr>\n",
       "  </tbody>\n",
       "</table>\n",
       "</div>"
      ],
      "text/plain": [
       "          diff\n",
       "outcome       \n",
       "F        413.0\n",
       "S        414.5"
      ]
     },
     "execution_count": 471,
     "metadata": {},
     "output_type": "execute_result"
    }
   ],
   "source": [
    "contDF.groupby(['outcome']).agg({'diff': 'median'})"
   ]
  },
  {
   "cell_type": "code",
   "execution_count": null,
   "metadata": {},
   "outputs": [],
   "source": []
  }
 ],
 "metadata": {
  "kernelspec": {
   "display_name": "Python 3",
   "language": "python",
   "name": "python3"
  },
  "language_info": {
   "codemirror_mode": {
    "name": "ipython",
    "version": 3
   },
   "file_extension": ".py",
   "mimetype": "text/x-python",
   "name": "python",
   "nbconvert_exporter": "python",
   "pygments_lexer": "ipython3",
   "version": "3.5.3"
  },
  "toc": {
   "nav_menu": {},
   "number_sections": true,
   "sideBar": true,
   "skip_h1_title": false,
   "title_cell": "Table of Contents",
   "title_sidebar": "Contents",
   "toc_cell": false,
   "toc_position": {},
   "toc_section_display": true,
   "toc_window_display": false
  }
 },
 "nbformat": 4,
 "nbformat_minor": 2
}
