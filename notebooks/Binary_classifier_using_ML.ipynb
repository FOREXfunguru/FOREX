{
 "cells": [
  {
   "cell_type": "markdown",
   "metadata": {},
   "source": [
    "# Motivation\n",
    "This notebook analyses the spreadsheet containing information on the reversals. This spreadsheet collects different features on the trades in an attempt of creating a binary classifier, this classifier will learn from the data collected and will predict the value of the `outcome` variable, which can be success of failre\n",
    "\n",
    "# Data\n",
    "The data has been collected in an spreadsheet containing trades both simulated and real. And the different trades have been classified into three types: continuation, counter and ranging. The independent variables gathered for each trade type are:\n",
    "## Continuation trades\n",
    "* id\tid used in the screenshot folder to identify this record\n",
    "* start\tstart of this trade\n",
    "* timeframe\tin the format 2D,D,H12,H8\n",
    "* entry\tprice\n",
    "* outcome\tS=success;F=failure;B=breakeven\n",
    "* ext_outcome. S=success;F=failure;B=breakeven\n",
    "* RSI bounces. number of RSI bounces ocurring in the trend before entry\n",
    "* No of candles. How many candles before occurred the bounce, from the entry of trade to the first bounce (without counting the entry candle)\n",
    "* entry on RSI. Was the entry candle on RSI?\n",
    "* length of trend. lenght of the preceding trend in number of candles. The valley before the continuation is not included in the count\n",
    "* previous swings. Number of swings from the entry and counting the rebound before the entry (see screenshot below)\n",
    "* space interswings. Comma separated numbers representing the number of candles between swings from the most recent to the oldest\n",
    "* length in pips. From the beginning of the trade to the entry price in number of pips\n",
    "strong trend\tTRUE of the preceding trend was strong\n",
    "* trend angle. Measured with Oanda after hitting the auto scale button+lock scalde button and the end of the trend line is the IC+1 when it touches the entry price\n",
    "* bounce length. Length in number of candles for each of the bounces (in the order from the most recent to the oldest)\n",
    "* bounce pips. Length from the horizontal line defined by IC until the highest point of the bounce (considering wicks also)\n",
    "* inn_bounce. Number of candles of the inner bounce (see screenshots below)\n",
    "indecission\tNumber of candles the price stays in S/R, without considering the bounce and only considering the candles pre/post bounce\n",
    "* retraced.\tOnly relevant for outcome=F, how many pips from the S/L the trade reversed?. If n.a., then it means that the trade did not reversed last time that the price was below/above this level assuming that a possible counter could happen"
   ]
  },
  {
   "cell_type": "markdown",
   "metadata": {},
   "source": [
    "## Dependencies"
   ]
  },
  {
   "cell_type": "code",
   "execution_count": 1275,
   "metadata": {},
   "outputs": [],
   "source": [
    "import pandas as pd\n",
    "import numpy as np\n",
    "import pdb\n",
    "import re\n",
    "import seaborn as sns\n",
    "from pandas.plotting import scatter_matrix\n",
    "from sklearn.metrics import confusion_matrix,precision_score\n",
    "from sklearn.model_selection import train_test_split\n",
    "\n",
    "%matplotlib inline"
   ]
  },
  {
   "cell_type": "markdown",
   "metadata": {},
   "source": [
    "# Continuation trades\n",
    "\n",
    "First, let's create a function to read-in a .csv file containing the data andstore it in a dataframe:"
   ]
  },
  {
   "cell_type": "code",
   "execution_count": 1276,
   "metadata": {},
   "outputs": [
    {
     "data": {
      "text/plain": [
       "(151, 23)"
      ]
     },
     "execution_count": 1276,
     "metadata": {},
     "output_type": "execute_result"
    }
   ],
   "source": [
    "def read_tradedata(tradefile,sep,na_values):\n",
    "    '''\n",
    "    Parameters\n",
    "    ----------\n",
    "    tradefile : str, required\n",
    "                Path to file containing the trade data\n",
    "    sep : str, optionsl\n",
    "          Field separator used in the file. i.e. ',' (comma separated values), '\\t' (tab-separated values)\n",
    "    na_values : list, optional\n",
    "                Additional list of strings to recognize as NA/NaN. i.e. ['n.a.']\n",
    "    \n",
    "    Returns\n",
    "    -------\n",
    "    A Pandas dataframe\n",
    "    '''\n",
    "    DF=pd.read_csv(tradefile,sep=sep,na_values=na_values)\n",
    "    \n",
    "    return DF\n",
    "\n",
    "contDF=read_tradedata('/Users/ernesto/Downloads/Screenshot analysis - continuations.csv',sep=\",\",na_values=[\"n.a.\",\"n.a\"])\n",
    "\n",
    "contDF.shape"
   ]
  },
  {
   "cell_type": "markdown",
   "metadata": {},
   "source": [
    "And some information about contDF:"
   ]
  },
  {
   "cell_type": "code",
   "execution_count": 1277,
   "metadata": {},
   "outputs": [
    {
     "name": "stdout",
     "output_type": "stream",
     "text": [
      "<class 'pandas.core.frame.DataFrame'>\n",
      "RangeIndex: 151 entries, 0 to 150\n",
      "Data columns (total 23 columns):\n",
      "id                         151 non-null object\n",
      "start                      151 non-null object\n",
      "timeframe                  151 non-null object\n",
      "entry                      151 non-null float64\n",
      "outcome                    151 non-null object\n",
      "ext_outcome                151 non-null object\n",
      "Candle +1 against trade    151 non-null bool\n",
      "RSI bounces                151 non-null int64\n",
      "No of candles              120 non-null float64\n",
      "bounce length              120 non-null object\n",
      "bounce (pips)              151 non-null int64\n",
      "inn_bounce                 151 non-null int64\n",
      "indecission                151 non-null int64\n",
      "entry on RSI               151 non-null bool\n",
      "length of trend            151 non-null int64\n",
      "previous swings            151 non-null int64\n",
      "space interswings          151 non-null object\n",
      "length in pips             151 non-null int64\n",
      "strong trend               151 non-null bool\n",
      "trend angle                151 non-null int64\n",
      "retraced                   50 non-null float64\n",
      "last time                  151 non-null object\n",
      "target                     0 non-null float64\n",
      "dtypes: bool(3), float64(4), int64(8), object(8)\n",
      "memory usage: 24.1+ KB\n"
     ]
    }
   ],
   "source": [
    "contDF.info()"
   ]
  },
  {
   "cell_type": "markdown",
   "metadata": {},
   "source": [
    "* Conversion to right types<br>\n",
    "Let's convert now the `start` and `last time` variables to DateTime"
   ]
  },
  {
   "cell_type": "code",
   "execution_count": 1278,
   "metadata": {},
   "outputs": [],
   "source": [
    "contDF['start']= pd.to_datetime(contDF['start'])\n",
    "contDF['last time']= pd.to_datetime(contDF['last time'])"
   ]
  },
  {
   "cell_type": "markdown",
   "metadata": {},
   "source": [
    "## Cleaning the n.a. values\n",
    "The following predictors have n.a. values and the strategy I will follow will depend on each case:"
   ]
  },
  {
   "cell_type": "markdown",
   "metadata": {},
   "source": [
    "* No of candles (will replace the n.a. by 0)"
   ]
  },
  {
   "cell_type": "code",
   "execution_count": 1279,
   "metadata": {},
   "outputs": [],
   "source": [
    "contDF[\"No of candles\"].fillna(0, inplace=True)"
   ]
  },
  {
   "cell_type": "markdown",
   "metadata": {},
   "source": [
    "* Bounce length (will replace the n.a. by 0)"
   ]
  },
  {
   "cell_type": "code",
   "execution_count": 1280,
   "metadata": {},
   "outputs": [],
   "source": [
    "contDF[\"bounce length\"].fillna(0, inplace=True)"
   ]
  },
  {
   "cell_type": "markdown",
   "metadata": {},
   "source": [
    "## Transforming"
   ]
  },
  {
   "cell_type": "code",
   "execution_count": 1281,
   "metadata": {},
   "outputs": [],
   "source": [
    "transl_dict={ \n",
    "        'S':1,\n",
    "        'F':0, \n",
    "        True:1, \n",
    "        False:0\n",
    "    }\n",
    "def digit_binary(x,transl_dict,name):\n",
    "    '''\n",
    "    This function will replace the values in categorical\n",
    "    binary variables by 1 and 0\n",
    "    \n",
    "    Parameters\n",
    "    ----------\n",
    "    transl_dict: dict\n",
    "                 Keys will be the old categorical names and Values\n",
    "                 will be 1 and 0. For example:\n",
    "                 transl_dict={ \n",
    "                            'S':1,\n",
    "                            'F':0, \n",
    "                            True:1, \n",
    "                            False:0\n",
    "                            }\n",
    "    name: str\n",
    "          Name of the column to modify\n",
    "        \n",
    "    Returns\n",
    "    -------\n",
    "    The new label for the categorical variable\n",
    "    '''\n",
    "    \n",
    "    return transl_dict[x[name]]\n",
    "\n",
    "contDF['ext_outcome']=contDF.apply(digit_binary,axis=1,transl_dict=transl_dict, name='ext_outcome')\n",
    "contDF['Candle +1 against trade']=contDF.apply(digit_binary,axis=1,transl_dict=transl_dict, name='Candle +1 against trade')\n",
    "contDF['entry on RSI']=contDF.apply(digit_binary,axis=1,transl_dict=transl_dict, name='entry on RSI')\n",
    "contDF['strong trend']=contDF.apply(digit_binary,axis=1,transl_dict=transl_dict, name='strong trend')"
   ]
  },
  {
   "cell_type": "markdown",
   "metadata": {},
   "source": [
    "## Creation of new variables\n",
    "In this section I create new variables derived from the initial set of features. \n",
    "The first one is a variable named 'length in pips (norm)':"
   ]
  },
  {
   "cell_type": "code",
   "execution_count": 1282,
   "metadata": {},
   "outputs": [],
   "source": [
    "times_dict={ '2D': 48, 'D' :24, 'H12' : 12, 'H10': 10, 'H8':8}\n",
    "\n",
    "def norm_lengths(x, times_dict):\n",
    "    '''\n",
    "    Function to normalize the length in pips by number of candles and timeframe\n",
    "    \n",
    "    Parameters\n",
    "    ----------\n",
    "    x = Dataframe row\n",
    "    times_dict = dict\n",
    "        \n",
    "    Returns\n",
    "    -------\n",
    "    A float with normalized length (pips)\n",
    "    '''\n",
    "    hours=times_dict[x['timeframe']]\n",
    "    candle_length=x['length of trend']\n",
    "    length_pips=x['length in pips']\n",
    "    norm_length=length_pips/(candle_length*hours)\n",
    "    \n",
    "    return norm_length\n",
    "\n",
    "contDF['length in pips (norm)']=contDF.apply(norm_lengths,axis=1,times_dict=times_dict)"
   ]
  },
  {
   "cell_type": "markdown",
   "metadata": {},
   "source": [
    "* bounce (ratio)\n",
    "This derived variable is created after dividing the 2 variables `inn_bounce` and `indecission`"
   ]
  },
  {
   "cell_type": "code",
   "execution_count": 1283,
   "metadata": {},
   "outputs": [],
   "source": [
    "def divide_bounce(x):\n",
    "    '''\n",
    "    This function will calculate the following division: inn_bounce/indecission\n",
    "    \n",
    "    Parameters\n",
    "    ----------\n",
    "    x = Dataframe row\n",
    "        \n",
    "    Returns\n",
    "    -------\n",
    "    A float that is the result of the division\n",
    "    '''\n",
    "\n",
    "    res=x['inn_bounce']/x['indecission']\n",
    "    \n",
    "    return res\n",
    "\n",
    "contDF['bounce (ratio)']=contDF.apply(divide_bounce,axis=1)"
   ]
  },
  {
   "cell_type": "markdown",
   "metadata": {},
   "source": [
    "## Initial exploration of the data\n",
    "\n",
    "First things first, let's examine if we have a significant number of records per category of the dependent variable (outcome in this case), since it is really very important to have enough records to establish solid conclusions"
   ]
  },
  {
   "cell_type": "code",
   "execution_count": 1284,
   "metadata": {},
   "outputs": [
    {
     "data": {
      "text/plain": [
       "1    105\n",
       "0     46\n",
       "Name: ext_outcome, dtype: int64"
      ]
     },
     "execution_count": 1284,
     "metadata": {},
     "output_type": "execute_result"
    }
   ],
   "source": [
    "outcome_ix=5 # 4=outcome and 5= ext_outcome\n",
    "outcome_lab=\"ext_outcome\"\n",
    "contDF.iloc[:,outcome_ix].value_counts()"
   ]
  },
  {
   "cell_type": "markdown",
   "metadata": {},
   "source": [
    "For now I am not going to consider the trades having an outcome of 'B'. So, let's remove them from the dataframe:"
   ]
  },
  {
   "cell_type": "code",
   "execution_count": 1285,
   "metadata": {},
   "outputs": [],
   "source": [
    "contDF=contDF[contDF.outcome != 'B']"
   ]
  },
  {
   "cell_type": "markdown",
   "metadata": {},
   "source": [
    "### Candle +1 against trade\n",
    "This variable is True when the IC+1 is against the trade. I will here analyze the influence of this variable on the outcome"
   ]
  },
  {
   "cell_type": "markdown",
   "metadata": {},
   "source": [
    "Let's create a contigency table analysing the relationship between these 2 variables:"
   ]
  },
  {
   "cell_type": "code",
   "execution_count": 1286,
   "metadata": {},
   "outputs": [
    {
     "name": "stdout",
     "output_type": "stream",
     "text": [
      "Candle +1 against trade    0   1  All\n",
      "ext_outcome                          \n",
      "0                         27  19   46\n",
      "1                         81  24  105\n",
      "All                      108  43  151\n"
     ]
    }
   ],
   "source": [
    "div_class=pd.crosstab(contDF.iloc[:,outcome_ix], contDF['Candle +1 against trade'],margins=True)\n",
    "print(div_class)"
   ]
  },
  {
   "cell_type": "markdown",
   "metadata": {},
   "source": [
    "It's is easier to visualize the relationship if we calculate the percentages:"
   ]
  },
  {
   "cell_type": "code",
   "execution_count": 1287,
   "metadata": {},
   "outputs": [
    {
     "name": "stdout",
     "output_type": "stream",
     "text": [
      "Candle +1 against trade      0           1         All\n",
      "ext_outcome                                           \n",
      "0                         25.0   44.186047   30.463576\n",
      "1                         75.0   55.813953   69.536424\n",
      "All                      100.0  100.000000  100.000000\n"
     ]
    }
   ],
   "source": [
    "propCp1=(div_class/div_class.loc[\"All\"])*100\n",
    "print(propCp1)"
   ]
  },
  {
   "cell_type": "markdown",
   "metadata": {
    "variables": {
     "'%.1f' % propCp1.iloc[0, 0]": "25.0",
     "'%.1f' % propCp1.iloc[0, 1]": "44.2",
     "'%.1f' % propCp1.iloc[1, 0]": "75.0",
     "'%.1f' % propCp1.iloc[1, 1]": "55.8"
    }
   },
   "source": [
    "* Conclusion <br>\n",
    "Within the trades with IC+1 against the trade there are {{'%.1f' % propCp1.iloc[0, 1]}}% of failures and {{'%.1f' % propCp1.iloc[1, 1]}}% of successes<br>\n",
    "Within the trades with IC+1 in favour of the trade there are {{'%.1f' % propCp1.iloc[0, 0]}}% of failures and {{'%.1f' % propCp1.iloc[1, 0]}}% of successes"
   ]
  },
  {
   "cell_type": "markdown",
   "metadata": {},
   "source": [
    "###  RSI bounces\n",
    "Let's examine if there is a correlation between the number of bounces and the outcome of the trade"
   ]
  },
  {
   "cell_type": "markdown",
   "metadata": {},
   "source": [
    "As an initial exploration I will create a boxplot displaying the data"
   ]
  },
  {
   "cell_type": "code",
   "execution_count": 1288,
   "metadata": {},
   "outputs": [
    {
     "data": {
      "image/png": "[encoded data removed]",
      "text/plain": [
       "<matplotlib.figure.Figure at 0x120dd6b70>"
      ]
     },
     "metadata": {},
     "output_type": "display_data"
    }
   ],
   "source": [
    "ax = sns.boxplot(x=outcome_lab, y=\"RSI bounces\", data=contDF)"
   ]
  },
  {
   "cell_type": "markdown",
   "metadata": {},
   "source": [
    "* Mean for each category"
   ]
  },
  {
   "cell_type": "code",
   "execution_count": 1289,
   "metadata": {},
   "outputs": [
    {
     "data": {
      "text/html": [
       "<div>\n",
       "<style scoped>\n",
       "    .dataframe tbody tr th:only-of-type {\n",
       "        vertical-align: middle;\n",
       "    }\n",
       "\n",
       "    .dataframe tbody tr th {\n",
       "        vertical-align: top;\n",
       "    }\n",
       "\n",
       "    .dataframe thead th {\n",
       "        text-align: right;\n",
       "    }\n",
       "</style>\n",
       "<table border=\"1\" class=\"dataframe\">\n",
       "  <thead>\n",
       "    <tr style=\"text-align: right;\">\n",
       "      <th></th>\n",
       "      <th>RSI bounces</th>\n",
       "    </tr>\n",
       "    <tr>\n",
       "      <th>ext_outcome</th>\n",
       "      <th></th>\n",
       "    </tr>\n",
       "  </thead>\n",
       "  <tbody>\n",
       "    <tr>\n",
       "      <th>0</th>\n",
       "      <td>3.195652</td>\n",
       "    </tr>\n",
       "    <tr>\n",
       "      <th>1</th>\n",
       "      <td>2.095238</td>\n",
       "    </tr>\n",
       "  </tbody>\n",
       "</table>\n",
       "</div>"
      ],
      "text/plain": [
       "             RSI bounces\n",
       "ext_outcome             \n",
       "0               3.195652\n",
       "1               2.095238"
      ]
     },
     "execution_count": 1289,
     "metadata": {},
     "output_type": "execute_result"
    }
   ],
   "source": [
    "contDF.groupby(outcome_lab).agg({'RSI bounces': 'mean'})"
   ]
  },
  {
   "cell_type": "markdown",
   "metadata": {},
   "source": [
    "* Median for each category"
   ]
  },
  {
   "cell_type": "code",
   "execution_count": 1290,
   "metadata": {},
   "outputs": [
    {
     "name": "stdout",
     "output_type": "stream",
     "text": [
      "             RSI bounces\n",
      "ext_outcome             \n",
      "0                      2\n",
      "1                      1\n"
     ]
    }
   ],
   "source": [
    "medianBounce=contDF.groupby(outcome_lab).agg({'RSI bounces': 'median'})\n",
    "print(medianBounce)"
   ]
  },
  {
   "cell_type": "markdown",
   "metadata": {
    "variables": {
     "'%.0f' % medianBounce.iloc[0,0]": "2",
     "'%.0f' % medianBounce.iloc[1,0]": "1"
    }
   },
   "source": [
    "* Conclusion <br>\n",
    "The median number of bounces for successful trades is {{'%.0f' % medianBounce.iloc[1,0]}}<br>\n",
    "The median number of bounces for failed trades is {{'%.0f' % medianBounce.iloc[0,0]}}<br>"
   ]
  },
  {
   "cell_type": "markdown",
   "metadata": {},
   "source": [
    "* Distribution of the number of bounces<br>\n",
    "For this particular task I will create a count plot in order to plot the RSI bounces for both the successful and the failed trades"
   ]
  },
  {
   "cell_type": "code",
   "execution_count": 1291,
   "metadata": {},
   "outputs": [
    {
     "data": {
      "image/png": "[encoded data removed]",
      "text/plain": [
       "<matplotlib.figure.Figure at 0x120de04a8>"
      ]
     },
     "metadata": {},
     "output_type": "display_data"
    }
   ],
   "source": [
    "ax = sns.countplot(x=\"RSI bounces\",hue=outcome_lab, data=contDF)"
   ]
  },
  {
   "cell_type": "markdown",
   "metadata": {},
   "source": [
    "Now, let's calculate the normalized number of bounces, as the 2 categories of the outcome variables are imbalanced"
   ]
  },
  {
   "cell_type": "code",
   "execution_count": 1292,
   "metadata": {},
   "outputs": [
    {
     "data": {
      "image/png": "[encoded data removed]",
      "text/plain": [
       "<matplotlib.figure.Figure at 0x11fe14940>"
      ]
     },
     "metadata": {},
     "output_type": "display_data"
    }
   ],
   "source": [
    "contDF_counts = (contDF.groupby([outcome_lab])['RSI bounces']\n",
    "                  .value_counts(normalize=True)\n",
    "                  .rename('percentage')\n",
    "                  .mul(100)\n",
    "                  .reset_index()\n",
    "                  .sort_values('RSI bounces'))\n",
    "\n",
    "p = sns.barplot(x=\"RSI bounces\", y=\"percentage\", hue=outcome_lab, data=contDF_counts)"
   ]
  },
  {
   "cell_type": "markdown",
   "metadata": {},
   "source": [
    "* Conclusion<br>\n",
    "The ideal situation for having a S trade is to have either 1 or 2 bounces"
   ]
  },
  {
   "cell_type": "markdown",
   "metadata": {},
   "source": [
    "### retraced\n",
    "This integer variable represents the number of pips from the S/L from where the failing trade retraced and hitted the target. Let's start analyzing the number of trades that retraced:"
   ]
  },
  {
   "cell_type": "code",
   "execution_count": 1293,
   "metadata": {},
   "outputs": [
    {
     "data": {
      "text/plain": [
       "50"
      ]
     },
     "execution_count": 1293,
     "metadata": {},
     "output_type": "execute_result"
    }
   ],
   "source": [
    "len(contDF[contDF.retraced.notnull()])"
   ]
  },
  {
   "cell_type": "markdown",
   "metadata": {},
   "source": [
    "Now, let's examine the distribution of the data:"
   ]
  },
  {
   "cell_type": "code",
   "execution_count": 1294,
   "metadata": {},
   "outputs": [
    {
     "data": {
      "text/plain": [
       "<matplotlib.axes._subplots.AxesSubplot at 0x11ca983c8>"
      ]
     },
     "execution_count": 1294,
     "metadata": {},
     "output_type": "execute_result"
    },
    {
     "data": {
      "image/png": "[encoded data removed]",
      "text/plain": [
       "<matplotlib.figure.Figure at 0x11e987908>"
      ]
     },
     "metadata": {},
     "output_type": "display_data"
    }
   ],
   "source": [
    "ret=contDF[contDF.retraced.notnull()].retraced.astype(int)\n",
    "ret.plot(kind=\"box\")"
   ]
  },
  {
   "cell_type": "code",
   "execution_count": 1295,
   "metadata": {},
   "outputs": [
    {
     "name": "stdout",
     "output_type": "stream",
     "text": [
      "count      50.000000\n",
      "mean     1104.920000\n",
      "std      1089.880987\n",
      "min        20.000000\n",
      "25%       372.500000\n",
      "50%       974.000000\n",
      "75%      1557.750000\n",
      "max      6483.000000\n",
      "Name: retraced, dtype: float64\n"
     ]
    }
   ],
   "source": [
    "print(ret.describe())"
   ]
  },
  {
   "cell_type": "markdown",
   "metadata": {},
   "source": [
    "### No of candles\n",
    "This variable represents the number of candles since the beginning of the trade until the first RSI bounce. I am going compare the distribution of this variable depending on the `outcome` variable.<br>"
   ]
  },
  {
   "cell_type": "markdown",
   "metadata": {},
   "source": [
    "As an initial exploration I will create a boxplot displaying the data:"
   ]
  },
  {
   "cell_type": "code",
   "execution_count": 1296,
   "metadata": {},
   "outputs": [
    {
     "data": {
      "image/png": "[encoded data removed]",
      "text/plain": [
       "<matplotlib.figure.Figure at 0x11f0a8ba8>"
      ]
     },
     "metadata": {},
     "output_type": "display_data"
    }
   ],
   "source": [
    "ax = sns.boxplot(x=outcome_lab, y=\"No of candles\", data=contDF)"
   ]
  },
  {
   "cell_type": "markdown",
   "metadata": {},
   "source": [
    "* Mean for each category"
   ]
  },
  {
   "cell_type": "code",
   "execution_count": 1297,
   "metadata": {},
   "outputs": [
    {
     "data": {
      "text/html": [
       "<div>\n",
       "<style scoped>\n",
       "    .dataframe tbody tr th:only-of-type {\n",
       "        vertical-align: middle;\n",
       "    }\n",
       "\n",
       "    .dataframe tbody tr th {\n",
       "        vertical-align: top;\n",
       "    }\n",
       "\n",
       "    .dataframe thead th {\n",
       "        text-align: right;\n",
       "    }\n",
       "</style>\n",
       "<table border=\"1\" class=\"dataframe\">\n",
       "  <thead>\n",
       "    <tr style=\"text-align: right;\">\n",
       "      <th></th>\n",
       "      <th>No of candles</th>\n",
       "    </tr>\n",
       "    <tr>\n",
       "      <th>ext_outcome</th>\n",
       "      <th></th>\n",
       "    </tr>\n",
       "  </thead>\n",
       "  <tbody>\n",
       "    <tr>\n",
       "      <th>0</th>\n",
       "      <td>10.804348</td>\n",
       "    </tr>\n",
       "    <tr>\n",
       "      <th>1</th>\n",
       "      <td>10.771429</td>\n",
       "    </tr>\n",
       "  </tbody>\n",
       "</table>\n",
       "</div>"
      ],
      "text/plain": [
       "             No of candles\n",
       "ext_outcome               \n",
       "0                10.804348\n",
       "1                10.771429"
      ]
     },
     "execution_count": 1297,
     "metadata": {},
     "output_type": "execute_result"
    }
   ],
   "source": [
    "contDF.groupby(outcome_lab).agg({'No of candles': 'mean'})"
   ]
  },
  {
   "cell_type": "markdown",
   "metadata": {},
   "source": [
    "* Median for each category"
   ]
  },
  {
   "cell_type": "code",
   "execution_count": 1298,
   "metadata": {},
   "outputs": [
    {
     "data": {
      "text/html": [
       "<div>\n",
       "<style scoped>\n",
       "    .dataframe tbody tr th:only-of-type {\n",
       "        vertical-align: middle;\n",
       "    }\n",
       "\n",
       "    .dataframe tbody tr th {\n",
       "        vertical-align: top;\n",
       "    }\n",
       "\n",
       "    .dataframe thead th {\n",
       "        text-align: right;\n",
       "    }\n",
       "</style>\n",
       "<table border=\"1\" class=\"dataframe\">\n",
       "  <thead>\n",
       "    <tr style=\"text-align: right;\">\n",
       "      <th></th>\n",
       "      <th>No of candles</th>\n",
       "    </tr>\n",
       "    <tr>\n",
       "      <th>ext_outcome</th>\n",
       "      <th></th>\n",
       "    </tr>\n",
       "  </thead>\n",
       "  <tbody>\n",
       "    <tr>\n",
       "      <th>0</th>\n",
       "      <td>5.0</td>\n",
       "    </tr>\n",
       "    <tr>\n",
       "      <th>1</th>\n",
       "      <td>4.0</td>\n",
       "    </tr>\n",
       "  </tbody>\n",
       "</table>\n",
       "</div>"
      ],
      "text/plain": [
       "             No of candles\n",
       "ext_outcome               \n",
       "0                      5.0\n",
       "1                      4.0"
      ]
     },
     "execution_count": 1298,
     "metadata": {},
     "output_type": "execute_result"
    }
   ],
   "source": [
    "contDF.groupby(outcome_lab).agg({'No of candles': 'median'})"
   ]
  },
  {
   "cell_type": "markdown",
   "metadata": {},
   "source": [
    "Let's analyze the distribution with a histogram"
   ]
  },
  {
   "cell_type": "code",
   "execution_count": 1299,
   "metadata": {},
   "outputs": [
    {
     "data": {
      "text/plain": [
       "array([<matplotlib.axes._subplots.AxesSubplot object at 0x1209c4588>,\n",
       "       <matplotlib.axes._subplots.AxesSubplot object at 0x11f240978>], dtype=object)"
      ]
     },
     "execution_count": 1299,
     "metadata": {},
     "output_type": "execute_result"
    },
    {
     "data": {
      "image/png": "[encoded data removed]",
      "text/plain": [
       "<matplotlib.figure.Figure at 0x11b8fcd30>"
      ]
     },
     "metadata": {},
     "output_type": "display_data"
    }
   ],
   "source": [
    "contDF['No of candles'].hist(by=contDF[outcome_lab],figsize=(20,5),bins=40,normed=True)"
   ]
  },
  {
   "cell_type": "markdown",
   "metadata": {},
   "source": [
    "### entry on RSI\n",
    "This boolean variable will be True if the entry of the trade is in oversold/overbought RSI\n",
    "Firs, let's see the counts for each category of the variable"
   ]
  },
  {
   "cell_type": "code",
   "execution_count": 1300,
   "metadata": {},
   "outputs": [
    {
     "data": {
      "text/plain": [
       "0    119\n",
       "1     32\n",
       "Name: entry on RSI, dtype: int64"
      ]
     },
     "execution_count": 1300,
     "metadata": {},
     "output_type": "execute_result"
    }
   ],
   "source": [
    "contDF['entry on RSI'].value_counts()"
   ]
  },
  {
   "cell_type": "markdown",
   "metadata": {},
   "source": [
    "Let's compare the proportions for this variable between the 2 categories of the `outcome` variable"
   ]
  },
  {
   "cell_type": "code",
   "execution_count": 1301,
   "metadata": {},
   "outputs": [
    {
     "name": "stdout",
     "output_type": "stream",
     "text": [
      "entry on RSI    0   1  All\n",
      "ext_outcome               \n",
      "0              37   9   46\n",
      "1              82  23  105\n",
      "All           119  32  151\n"
     ]
    }
   ],
   "source": [
    "div_class=pd.crosstab(contDF.iloc[:,outcome_ix], contDF['entry on RSI'],margins=True)\n",
    "print(div_class)"
   ]
  },
  {
   "cell_type": "markdown",
   "metadata": {},
   "source": [
    "It's is easier to visualize the relationship if we calculate the percentages:"
   ]
  },
  {
   "cell_type": "code",
   "execution_count": 1302,
   "metadata": {},
   "outputs": [
    {
     "name": "stdout",
     "output_type": "stream",
     "text": [
      "entry on RSI           0        1         All\n",
      "ext_outcome                                  \n",
      "0              31.092437   28.125   30.463576\n",
      "1              68.907563   71.875   69.536424\n",
      "All           100.000000  100.000  100.000000\n"
     ]
    }
   ],
   "source": [
    "prop=(div_class/div_class.loc[\"All\"])*100\n",
    "print(prop)"
   ]
  },
  {
   "cell_type": "markdown",
   "metadata": {
    "variables": {
     "'%.1f' % prop.iloc[0, 0]": "31.1",
     "'%.1f' % prop.iloc[0, 1]": "28.1",
     "'%.1f' % prop.iloc[1, 0]": "68.9",
     "'%.1f' % prop.iloc[1, 1]": "71.9"
    }
   },
   "source": [
    "* Conclusion <br>\n",
    "Within the trades having entry on RSI there are {{'%.1f' % prop.iloc[0, 1]}}% of failures and {{'%.1f' % prop.iloc[1, 1]}}% of successes<br>\n",
    "Within the trades not having an entry on RSI there are {{'%.1f' % prop.iloc[0, 0]}}% of failures and {{'%.1f' % prop.iloc[1, 0]}}% of successes"
   ]
  },
  {
   "cell_type": "markdown",
   "metadata": {},
   "source": [
    "### length of trend\n",
    "This quantitative discrete variable measures the length of the trade measured in term of the number of candles. Let's start comparing the distribution of this variable for the different categories of the `outcome` variable"
   ]
  },
  {
   "cell_type": "code",
   "execution_count": 1303,
   "metadata": {},
   "outputs": [
    {
     "data": {
      "image/png": "[encoded data removed]",
      "text/plain": [
       "<matplotlib.figure.Figure at 0x120c68438>"
      ]
     },
     "metadata": {},
     "output_type": "display_data"
    }
   ],
   "source": [
    "ax = sns.boxplot(x=outcome_lab, y=\"length of trend\", data=contDF)"
   ]
  },
  {
   "cell_type": "code",
   "execution_count": 1304,
   "metadata": {},
   "outputs": [
    {
     "name": "stdout",
     "output_type": "stream",
     "text": [
      "<class 'matplotlib.axes._subplots.AxesSubplot'>\n"
     ]
    },
    {
     "data": {
      "text/plain": [
       "(0, 150)"
      ]
     },
     "execution_count": 1304,
     "metadata": {},
     "output_type": "execute_result"
    },
    {
     "data": {
      "image/png": "[encoded data removed]",
      "text/plain": [
       "<matplotlib.figure.Figure at 0x121073978>"
      ]
     },
     "metadata": {},
     "output_type": "display_data"
    }
   ],
   "source": [
    "axList=contDF['length of trend'].hist(by=contDF[outcome_lab],figsize=(20,5),bins=40,normed=True)\n",
    "print(type(axList[0]))\n",
    "axList[0].set_xlim((0,150))\n",
    "axList[1].set_xlim((0,150))"
   ]
  },
  {
   "cell_type": "markdown",
   "metadata": {},
   "source": [
    "* Mean for each category"
   ]
  },
  {
   "cell_type": "code",
   "execution_count": 1305,
   "metadata": {},
   "outputs": [
    {
     "data": {
      "text/html": [
       "<div>\n",
       "<style scoped>\n",
       "    .dataframe tbody tr th:only-of-type {\n",
       "        vertical-align: middle;\n",
       "    }\n",
       "\n",
       "    .dataframe tbody tr th {\n",
       "        vertical-align: top;\n",
       "    }\n",
       "\n",
       "    .dataframe thead th {\n",
       "        text-align: right;\n",
       "    }\n",
       "</style>\n",
       "<table border=\"1\" class=\"dataframe\">\n",
       "  <thead>\n",
       "    <tr style=\"text-align: right;\">\n",
       "      <th></th>\n",
       "      <th>length of trend</th>\n",
       "    </tr>\n",
       "    <tr>\n",
       "      <th>ext_outcome</th>\n",
       "      <th></th>\n",
       "    </tr>\n",
       "  </thead>\n",
       "  <tbody>\n",
       "    <tr>\n",
       "      <th>0</th>\n",
       "      <td>70.847826</td>\n",
       "    </tr>\n",
       "    <tr>\n",
       "      <th>1</th>\n",
       "      <td>58.590476</td>\n",
       "    </tr>\n",
       "  </tbody>\n",
       "</table>\n",
       "</div>"
      ],
      "text/plain": [
       "             length of trend\n",
       "ext_outcome                 \n",
       "0                  70.847826\n",
       "1                  58.590476"
      ]
     },
     "execution_count": 1305,
     "metadata": {},
     "output_type": "execute_result"
    }
   ],
   "source": [
    "contDF.groupby(outcome_lab).agg({'length of trend': 'mean'})"
   ]
  },
  {
   "cell_type": "markdown",
   "metadata": {},
   "source": [
    "* Median for each category"
   ]
  },
  {
   "cell_type": "code",
   "execution_count": 1306,
   "metadata": {},
   "outputs": [
    {
     "data": {
      "text/html": [
       "<div>\n",
       "<style scoped>\n",
       "    .dataframe tbody tr th:only-of-type {\n",
       "        vertical-align: middle;\n",
       "    }\n",
       "\n",
       "    .dataframe tbody tr th {\n",
       "        vertical-align: top;\n",
       "    }\n",
       "\n",
       "    .dataframe thead th {\n",
       "        text-align: right;\n",
       "    }\n",
       "</style>\n",
       "<table border=\"1\" class=\"dataframe\">\n",
       "  <thead>\n",
       "    <tr style=\"text-align: right;\">\n",
       "      <th></th>\n",
       "      <th>length of trend</th>\n",
       "    </tr>\n",
       "    <tr>\n",
       "      <th>ext_outcome</th>\n",
       "      <th></th>\n",
       "    </tr>\n",
       "  </thead>\n",
       "  <tbody>\n",
       "    <tr>\n",
       "      <th>0</th>\n",
       "      <td>59.5</td>\n",
       "    </tr>\n",
       "    <tr>\n",
       "      <th>1</th>\n",
       "      <td>47.0</td>\n",
       "    </tr>\n",
       "  </tbody>\n",
       "</table>\n",
       "</div>"
      ],
      "text/plain": [
       "             length of trend\n",
       "ext_outcome                 \n",
       "0                       59.5\n",
       "1                       47.0"
      ]
     },
     "execution_count": 1306,
     "metadata": {},
     "output_type": "execute_result"
    }
   ],
   "source": [
    "contDF.groupby(outcome_lab).agg({'length of trend': 'median'})"
   ]
  },
  {
   "cell_type": "markdown",
   "metadata": {},
   "source": [
    "###  trend angle\n",
    "This quantitative discrete variable measures the angle of a particular trend. Let's start comparing the distribution of this variable for the different categories of the `outcome` variable"
   ]
  },
  {
   "cell_type": "code",
   "execution_count": 1307,
   "metadata": {},
   "outputs": [
    {
     "data": {
      "image/png": "[encoded data removed]",
      "text/plain": [
       "<matplotlib.figure.Figure at 0x120ec0710>"
      ]
     },
     "metadata": {},
     "output_type": "display_data"
    }
   ],
   "source": [
    "ax = sns.boxplot(x=outcome_lab, y=\"trend angle\", data=contDF)"
   ]
  },
  {
   "cell_type": "markdown",
   "metadata": {},
   "source": [
    "* Mean for each category"
   ]
  },
  {
   "cell_type": "code",
   "execution_count": 1308,
   "metadata": {},
   "outputs": [
    {
     "data": {
      "text/html": [
       "<div>\n",
       "<style scoped>\n",
       "    .dataframe tbody tr th:only-of-type {\n",
       "        vertical-align: middle;\n",
       "    }\n",
       "\n",
       "    .dataframe tbody tr th {\n",
       "        vertical-align: top;\n",
       "    }\n",
       "\n",
       "    .dataframe thead th {\n",
       "        text-align: right;\n",
       "    }\n",
       "</style>\n",
       "<table border=\"1\" class=\"dataframe\">\n",
       "  <thead>\n",
       "    <tr style=\"text-align: right;\">\n",
       "      <th></th>\n",
       "      <th>trend angle</th>\n",
       "    </tr>\n",
       "    <tr>\n",
       "      <th>ext_outcome</th>\n",
       "      <th></th>\n",
       "    </tr>\n",
       "  </thead>\n",
       "  <tbody>\n",
       "    <tr>\n",
       "      <th>0</th>\n",
       "      <td>44.260870</td>\n",
       "    </tr>\n",
       "    <tr>\n",
       "      <th>1</th>\n",
       "      <td>43.180952</td>\n",
       "    </tr>\n",
       "  </tbody>\n",
       "</table>\n",
       "</div>"
      ],
      "text/plain": [
       "             trend angle\n",
       "ext_outcome             \n",
       "0              44.260870\n",
       "1              43.180952"
      ]
     },
     "execution_count": 1308,
     "metadata": {},
     "output_type": "execute_result"
    }
   ],
   "source": [
    "contDF.groupby(outcome_lab).agg({'trend angle': 'mean'})"
   ]
  },
  {
   "cell_type": "markdown",
   "metadata": {},
   "source": [
    "* Median for each category"
   ]
  },
  {
   "cell_type": "code",
   "execution_count": 1309,
   "metadata": {},
   "outputs": [
    {
     "data": {
      "text/html": [
       "<div>\n",
       "<style scoped>\n",
       "    .dataframe tbody tr th:only-of-type {\n",
       "        vertical-align: middle;\n",
       "    }\n",
       "\n",
       "    .dataframe tbody tr th {\n",
       "        vertical-align: top;\n",
       "    }\n",
       "\n",
       "    .dataframe thead th {\n",
       "        text-align: right;\n",
       "    }\n",
       "</style>\n",
       "<table border=\"1\" class=\"dataframe\">\n",
       "  <thead>\n",
       "    <tr style=\"text-align: right;\">\n",
       "      <th></th>\n",
       "      <th>trend angle</th>\n",
       "    </tr>\n",
       "    <tr>\n",
       "      <th>ext_outcome</th>\n",
       "      <th></th>\n",
       "    </tr>\n",
       "  </thead>\n",
       "  <tbody>\n",
       "    <tr>\n",
       "      <th>0</th>\n",
       "      <td>42</td>\n",
       "    </tr>\n",
       "    <tr>\n",
       "      <th>1</th>\n",
       "      <td>41</td>\n",
       "    </tr>\n",
       "  </tbody>\n",
       "</table>\n",
       "</div>"
      ],
      "text/plain": [
       "             trend angle\n",
       "ext_outcome             \n",
       "0                     42\n",
       "1                     41"
      ]
     },
     "execution_count": 1309,
     "metadata": {},
     "output_type": "execute_result"
    }
   ],
   "source": [
    "contDF.groupby(outcome_lab).agg({'trend angle': 'median'})"
   ]
  },
  {
   "cell_type": "markdown",
   "metadata": {},
   "source": [
    "* Histogram"
   ]
  },
  {
   "cell_type": "code",
   "execution_count": 1310,
   "metadata": {},
   "outputs": [
    {
     "data": {
      "image/png": "[encoded data removed]",
      "text/plain": [
       "<matplotlib.figure.Figure at 0x1200430b8>"
      ]
     },
     "metadata": {},
     "output_type": "display_data"
    }
   ],
   "source": [
    "axList=contDF['trend angle'].hist(by=contDF[outcome_lab],figsize=(20,5),bins=20)"
   ]
  },
  {
   "cell_type": "markdown",
   "metadata": {},
   "source": [
    "### inn_bounce\n",
    "Integer variable representing the number of candles of the inner bounce. Let's start comparing the distribution of this variable for the different categories of the `outcome` variable"
   ]
  },
  {
   "cell_type": "code",
   "execution_count": 1311,
   "metadata": {},
   "outputs": [
    {
     "data": {
      "image/png": "[encoded data removed]",
      "text/plain": [
       "<matplotlib.figure.Figure at 0x1208005c0>"
      ]
     },
     "metadata": {},
     "output_type": "display_data"
    }
   ],
   "source": [
    "ax = sns.boxplot(x=outcome_lab, y=\"inn_bounce\", data=contDF)"
   ]
  },
  {
   "cell_type": "markdown",
   "metadata": {},
   "source": [
    "* Mean for each category"
   ]
  },
  {
   "cell_type": "code",
   "execution_count": 1312,
   "metadata": {},
   "outputs": [
    {
     "data": {
      "text/html": [
       "<div>\n",
       "<style scoped>\n",
       "    .dataframe tbody tr th:only-of-type {\n",
       "        vertical-align: middle;\n",
       "    }\n",
       "\n",
       "    .dataframe tbody tr th {\n",
       "        vertical-align: top;\n",
       "    }\n",
       "\n",
       "    .dataframe thead th {\n",
       "        text-align: right;\n",
       "    }\n",
       "</style>\n",
       "<table border=\"1\" class=\"dataframe\">\n",
       "  <thead>\n",
       "    <tr style=\"text-align: right;\">\n",
       "      <th></th>\n",
       "      <th>inn_bounce</th>\n",
       "    </tr>\n",
       "    <tr>\n",
       "      <th>ext_outcome</th>\n",
       "      <th></th>\n",
       "    </tr>\n",
       "  </thead>\n",
       "  <tbody>\n",
       "    <tr>\n",
       "      <th>0</th>\n",
       "      <td>13.195652</td>\n",
       "    </tr>\n",
       "    <tr>\n",
       "      <th>1</th>\n",
       "      <td>10.276190</td>\n",
       "    </tr>\n",
       "  </tbody>\n",
       "</table>\n",
       "</div>"
      ],
      "text/plain": [
       "             inn_bounce\n",
       "ext_outcome            \n",
       "0             13.195652\n",
       "1             10.276190"
      ]
     },
     "execution_count": 1312,
     "metadata": {},
     "output_type": "execute_result"
    }
   ],
   "source": [
    "contDF.groupby(outcome_lab).agg({'inn_bounce': 'mean'})"
   ]
  },
  {
   "cell_type": "markdown",
   "metadata": {},
   "source": [
    "* Median for each category"
   ]
  },
  {
   "cell_type": "code",
   "execution_count": 1313,
   "metadata": {},
   "outputs": [
    {
     "data": {
      "text/html": [
       "<div>\n",
       "<style scoped>\n",
       "    .dataframe tbody tr th:only-of-type {\n",
       "        vertical-align: middle;\n",
       "    }\n",
       "\n",
       "    .dataframe tbody tr th {\n",
       "        vertical-align: top;\n",
       "    }\n",
       "\n",
       "    .dataframe thead th {\n",
       "        text-align: right;\n",
       "    }\n",
       "</style>\n",
       "<table border=\"1\" class=\"dataframe\">\n",
       "  <thead>\n",
       "    <tr style=\"text-align: right;\">\n",
       "      <th></th>\n",
       "      <th>inn_bounce</th>\n",
       "    </tr>\n",
       "    <tr>\n",
       "      <th>ext_outcome</th>\n",
       "      <th></th>\n",
       "    </tr>\n",
       "  </thead>\n",
       "  <tbody>\n",
       "    <tr>\n",
       "      <th>0</th>\n",
       "      <td>10</td>\n",
       "    </tr>\n",
       "    <tr>\n",
       "      <th>1</th>\n",
       "      <td>8</td>\n",
       "    </tr>\n",
       "  </tbody>\n",
       "</table>\n",
       "</div>"
      ],
      "text/plain": [
       "             inn_bounce\n",
       "ext_outcome            \n",
       "0                    10\n",
       "1                     8"
      ]
     },
     "execution_count": 1313,
     "metadata": {},
     "output_type": "execute_result"
    }
   ],
   "source": [
    "contDF.groupby(outcome_lab).agg({'inn_bounce': 'median'})"
   ]
  },
  {
   "cell_type": "markdown",
   "metadata": {},
   "source": [
    "* Histogram"
   ]
  },
  {
   "cell_type": "code",
   "execution_count": 1314,
   "metadata": {},
   "outputs": [
    {
     "data": {
      "image/png": "[encoded data removed]",
      "text/plain": [
       "<matplotlib.figure.Figure at 0x120dbf438>"
      ]
     },
     "metadata": {},
     "output_type": "display_data"
    }
   ],
   "source": [
    "axList=contDF['inn_bounce'].hist(by=contDF[outcome_lab],figsize=(20,5),bins=15,normed=True)"
   ]
  },
  {
   "cell_type": "markdown",
   "metadata": {},
   "source": [
    "### indecission\n",
    "Integer variable representing the number of candles the price stays in S/R, without considering the bounce and only considering the candles pre/post bounce. Let's start comparing the distribution of this variable for the different categories of the `outcome` variable"
   ]
  },
  {
   "cell_type": "code",
   "execution_count": 1315,
   "metadata": {},
   "outputs": [
    {
     "data": {
      "image/png": "[encoded data removed]",
      "text/plain": [
       "<matplotlib.figure.Figure at 0x121123eb8>"
      ]
     },
     "metadata": {},
     "output_type": "display_data"
    }
   ],
   "source": [
    "ax = sns.boxplot(x=outcome_lab, y=\"indecission\", data=contDF)"
   ]
  },
  {
   "cell_type": "markdown",
   "metadata": {},
   "source": [
    "* Mean for each category"
   ]
  },
  {
   "cell_type": "code",
   "execution_count": 1316,
   "metadata": {},
   "outputs": [
    {
     "data": {
      "text/html": [
       "<div>\n",
       "<style scoped>\n",
       "    .dataframe tbody tr th:only-of-type {\n",
       "        vertical-align: middle;\n",
       "    }\n",
       "\n",
       "    .dataframe tbody tr th {\n",
       "        vertical-align: top;\n",
       "    }\n",
       "\n",
       "    .dataframe thead th {\n",
       "        text-align: right;\n",
       "    }\n",
       "</style>\n",
       "<table border=\"1\" class=\"dataframe\">\n",
       "  <thead>\n",
       "    <tr style=\"text-align: right;\">\n",
       "      <th></th>\n",
       "      <th>indecission</th>\n",
       "    </tr>\n",
       "    <tr>\n",
       "      <th>ext_outcome</th>\n",
       "      <th></th>\n",
       "    </tr>\n",
       "  </thead>\n",
       "  <tbody>\n",
       "    <tr>\n",
       "      <th>0</th>\n",
       "      <td>5.130435</td>\n",
       "    </tr>\n",
       "    <tr>\n",
       "      <th>1</th>\n",
       "      <td>4.409524</td>\n",
       "    </tr>\n",
       "  </tbody>\n",
       "</table>\n",
       "</div>"
      ],
      "text/plain": [
       "             indecission\n",
       "ext_outcome             \n",
       "0               5.130435\n",
       "1               4.409524"
      ]
     },
     "execution_count": 1316,
     "metadata": {},
     "output_type": "execute_result"
    }
   ],
   "source": [
    "contDF.groupby(outcome_lab).agg({'indecission': 'mean'})"
   ]
  },
  {
   "cell_type": "markdown",
   "metadata": {},
   "source": [
    "* Median for each category"
   ]
  },
  {
   "cell_type": "code",
   "execution_count": 1317,
   "metadata": {},
   "outputs": [
    {
     "data": {
      "text/html": [
       "<div>\n",
       "<style scoped>\n",
       "    .dataframe tbody tr th:only-of-type {\n",
       "        vertical-align: middle;\n",
       "    }\n",
       "\n",
       "    .dataframe tbody tr th {\n",
       "        vertical-align: top;\n",
       "    }\n",
       "\n",
       "    .dataframe thead th {\n",
       "        text-align: right;\n",
       "    }\n",
       "</style>\n",
       "<table border=\"1\" class=\"dataframe\">\n",
       "  <thead>\n",
       "    <tr style=\"text-align: right;\">\n",
       "      <th></th>\n",
       "      <th>indecission</th>\n",
       "    </tr>\n",
       "    <tr>\n",
       "      <th>ext_outcome</th>\n",
       "      <th></th>\n",
       "    </tr>\n",
       "  </thead>\n",
       "  <tbody>\n",
       "    <tr>\n",
       "      <th>0</th>\n",
       "      <td>3</td>\n",
       "    </tr>\n",
       "    <tr>\n",
       "      <th>1</th>\n",
       "      <td>3</td>\n",
       "    </tr>\n",
       "  </tbody>\n",
       "</table>\n",
       "</div>"
      ],
      "text/plain": [
       "             indecission\n",
       "ext_outcome             \n",
       "0                      3\n",
       "1                      3"
      ]
     },
     "execution_count": 1317,
     "metadata": {},
     "output_type": "execute_result"
    }
   ],
   "source": [
    "contDF.groupby(outcome_lab).agg({'indecission': 'median'})"
   ]
  },
  {
   "cell_type": "markdown",
   "metadata": {},
   "source": [
    "* Histogram"
   ]
  },
  {
   "cell_type": "code",
   "execution_count": 1318,
   "metadata": {},
   "outputs": [
    {
     "data": {
      "image/png": "[encoded data removed]",
      "text/plain": [
       "<matplotlib.figure.Figure at 0x120f06a20>"
      ]
     },
     "metadata": {},
     "output_type": "display_data"
    }
   ],
   "source": [
    "axList=contDF['indecission'].hist(by=contDF[outcome_lab],figsize=(20,5),bins=15,normed=True)"
   ]
  },
  {
   "cell_type": "markdown",
   "metadata": {},
   "source": [
    "### bounce (ratio)\n",
    "This quantitative variable is the result of dividing the `inn_bounce` and `indecission` for a particular trade.\n",
    "Let's compare the proportions for this variable between the 2 categories of the `outcome` variable"
   ]
  },
  {
   "cell_type": "code",
   "execution_count": 1319,
   "metadata": {},
   "outputs": [
    {
     "data": {
      "image/png": "[encoded data removed]",
      "text/plain": [
       "<matplotlib.figure.Figure at 0x11f67e908>"
      ]
     },
     "metadata": {},
     "output_type": "display_data"
    }
   ],
   "source": [
    "ax = sns.boxplot(x=outcome_lab, y=\"bounce (ratio)\", data=contDF)"
   ]
  },
  {
   "cell_type": "markdown",
   "metadata": {},
   "source": [
    "* Mean for each category"
   ]
  },
  {
   "cell_type": "code",
   "execution_count": 1320,
   "metadata": {},
   "outputs": [
    {
     "data": {
      "text/html": [
       "<div>\n",
       "<style scoped>\n",
       "    .dataframe tbody tr th:only-of-type {\n",
       "        vertical-align: middle;\n",
       "    }\n",
       "\n",
       "    .dataframe tbody tr th {\n",
       "        vertical-align: top;\n",
       "    }\n",
       "\n",
       "    .dataframe thead th {\n",
       "        text-align: right;\n",
       "    }\n",
       "</style>\n",
       "<table border=\"1\" class=\"dataframe\">\n",
       "  <thead>\n",
       "    <tr style=\"text-align: right;\">\n",
       "      <th></th>\n",
       "      <th>bounce (ratio)</th>\n",
       "    </tr>\n",
       "    <tr>\n",
       "      <th>ext_outcome</th>\n",
       "      <th></th>\n",
       "    </tr>\n",
       "  </thead>\n",
       "  <tbody>\n",
       "    <tr>\n",
       "      <th>0</th>\n",
       "      <td>5.460448</td>\n",
       "    </tr>\n",
       "    <tr>\n",
       "      <th>1</th>\n",
       "      <td>3.910357</td>\n",
       "    </tr>\n",
       "  </tbody>\n",
       "</table>\n",
       "</div>"
      ],
      "text/plain": [
       "             bounce (ratio)\n",
       "ext_outcome                \n",
       "0                  5.460448\n",
       "1                  3.910357"
      ]
     },
     "execution_count": 1320,
     "metadata": {},
     "output_type": "execute_result"
    }
   ],
   "source": [
    "contDF.groupby(outcome_lab).agg({'bounce (ratio)': 'mean'})"
   ]
  },
  {
   "cell_type": "markdown",
   "metadata": {},
   "source": [
    "* Median for each category"
   ]
  },
  {
   "cell_type": "code",
   "execution_count": 1321,
   "metadata": {},
   "outputs": [
    {
     "data": {
      "text/html": [
       "<div>\n",
       "<style scoped>\n",
       "    .dataframe tbody tr th:only-of-type {\n",
       "        vertical-align: middle;\n",
       "    }\n",
       "\n",
       "    .dataframe tbody tr th {\n",
       "        vertical-align: top;\n",
       "    }\n",
       "\n",
       "    .dataframe thead th {\n",
       "        text-align: right;\n",
       "    }\n",
       "</style>\n",
       "<table border=\"1\" class=\"dataframe\">\n",
       "  <thead>\n",
       "    <tr style=\"text-align: right;\">\n",
       "      <th></th>\n",
       "      <th>bounce (ratio)</th>\n",
       "    </tr>\n",
       "    <tr>\n",
       "      <th>ext_outcome</th>\n",
       "      <th></th>\n",
       "    </tr>\n",
       "  </thead>\n",
       "  <tbody>\n",
       "    <tr>\n",
       "      <th>0</th>\n",
       "      <td>3.125000</td>\n",
       "    </tr>\n",
       "    <tr>\n",
       "      <th>1</th>\n",
       "      <td>2.666667</td>\n",
       "    </tr>\n",
       "  </tbody>\n",
       "</table>\n",
       "</div>"
      ],
      "text/plain": [
       "             bounce (ratio)\n",
       "ext_outcome                \n",
       "0                  3.125000\n",
       "1                  2.666667"
      ]
     },
     "execution_count": 1321,
     "metadata": {},
     "output_type": "execute_result"
    }
   ],
   "source": [
    "contDF.groupby(outcome_lab).agg({'bounce (ratio)': 'median'})"
   ]
  },
  {
   "cell_type": "markdown",
   "metadata": {},
   "source": [
    "* Histogram"
   ]
  },
  {
   "cell_type": "code",
   "execution_count": 1322,
   "metadata": {},
   "outputs": [
    {
     "data": {
      "image/png": "[encoded data removed]",
      "text/plain": [
       "<matplotlib.figure.Figure at 0x11d2f2048>"
      ]
     },
     "metadata": {},
     "output_type": "display_data"
    }
   ],
   "source": [
    "axList=contDF['bounce (ratio)'].hist(by=contDF[outcome_lab],figsize=(20,5),bins=20,normed=True)"
   ]
  },
  {
   "cell_type": "markdown",
   "metadata": {},
   "source": [
    "### Strong trend\n",
    "Boolean that is TRUE when trend is strong, FALSE otherwise."
   ]
  },
  {
   "cell_type": "markdown",
   "metadata": {},
   "source": [
    "Let's compare the proportions for this variable between the 2 categories of the `outcome` variable"
   ]
  },
  {
   "cell_type": "code",
   "execution_count": 1323,
   "metadata": {},
   "outputs": [
    {
     "name": "stdout",
     "output_type": "stream",
     "text": [
      "strong trend   0   1  All\n",
      "ext_outcome              \n",
      "0             25  21   46\n",
      "1             49  56  105\n",
      "All           74  77  151\n"
     ]
    }
   ],
   "source": [
    "div_class=pd.crosstab(contDF.iloc[:,outcome_ix], contDF['strong trend'],margins=True)\n",
    "print(div_class)"
   ]
  },
  {
   "cell_type": "markdown",
   "metadata": {},
   "source": [
    "It's is easier to visualize the relationship if we calculate the percentages:"
   ]
  },
  {
   "cell_type": "code",
   "execution_count": 1324,
   "metadata": {},
   "outputs": [
    {
     "name": "stdout",
     "output_type": "stream",
     "text": [
      "strong trend           0           1         All\n",
      "ext_outcome                                     \n",
      "0              33.783784   27.272727   30.463576\n",
      "1              66.216216   72.727273   69.536424\n",
      "All           100.000000  100.000000  100.000000\n"
     ]
    }
   ],
   "source": [
    "propStrength=(div_class/div_class.loc[\"All\"])*100\n",
    "print(propStrength)"
   ]
  },
  {
   "cell_type": "markdown",
   "metadata": {
    "variables": {
     "'%.1f' % propStrength.iloc[0, 0]": "33.8",
     "'%.1f' % propStrength.iloc[0, 1]": "27.3",
     "'%.1f' % propStrength.iloc[1, 0]": "66.2",
     "'%.1f' % propStrength.iloc[1, 1]": "72.7"
    }
   },
   "source": [
    "* Conclusion <br>\n",
    "Within the trades trending strongly there are {{'%.1f' % propStrength.iloc[0, 1]}}% of failures and {{'%.1f' % propStrength.iloc[1, 1]}}% of successes<br>\n",
    "Within the trades not trending strongly there are {{'%.1f' % propStrength.iloc[0, 0]}}% of failures and {{'%.1f' % propStrength.iloc[1, 0]}}% of successes"
   ]
  },
  {
   "cell_type": "markdown",
   "metadata": {},
   "source": [
    "### length in pips (norm)"
   ]
  },
  {
   "cell_type": "code",
   "execution_count": 1325,
   "metadata": {},
   "outputs": [
    {
     "data": {
      "image/png": "[encoded data removed]",
      "text/plain": [
       "<matplotlib.figure.Figure at 0x1214a8828>"
      ]
     },
     "metadata": {},
     "output_type": "display_data"
    }
   ],
   "source": [
    "ax = sns.boxplot(x=outcome_lab, y=\"length in pips (norm)\", data=contDF)"
   ]
  },
  {
   "cell_type": "markdown",
   "metadata": {},
   "source": [
    "* Mean for each category"
   ]
  },
  {
   "cell_type": "code",
   "execution_count": 1326,
   "metadata": {},
   "outputs": [
    {
     "data": {
      "text/html": [
       "<div>\n",
       "<style scoped>\n",
       "    .dataframe tbody tr th:only-of-type {\n",
       "        vertical-align: middle;\n",
       "    }\n",
       "\n",
       "    .dataframe tbody tr th {\n",
       "        vertical-align: top;\n",
       "    }\n",
       "\n",
       "    .dataframe thead th {\n",
       "        text-align: right;\n",
       "    }\n",
       "</style>\n",
       "<table border=\"1\" class=\"dataframe\">\n",
       "  <thead>\n",
       "    <tr style=\"text-align: right;\">\n",
       "      <th></th>\n",
       "      <th>length in pips (norm)</th>\n",
       "    </tr>\n",
       "    <tr>\n",
       "      <th>ext_outcome</th>\n",
       "      <th></th>\n",
       "    </tr>\n",
       "  </thead>\n",
       "  <tbody>\n",
       "    <tr>\n",
       "      <th>0</th>\n",
       "      <td>14.150950</td>\n",
       "    </tr>\n",
       "    <tr>\n",
       "      <th>1</th>\n",
       "      <td>12.819903</td>\n",
       "    </tr>\n",
       "  </tbody>\n",
       "</table>\n",
       "</div>"
      ],
      "text/plain": [
       "             length in pips (norm)\n",
       "ext_outcome                       \n",
       "0                        14.150950\n",
       "1                        12.819903"
      ]
     },
     "execution_count": 1326,
     "metadata": {},
     "output_type": "execute_result"
    }
   ],
   "source": [
    "contDF.groupby(outcome_lab).agg({'length in pips (norm)': 'mean'})"
   ]
  },
  {
   "cell_type": "markdown",
   "metadata": {},
   "source": [
    "* Median for each category"
   ]
  },
  {
   "cell_type": "code",
   "execution_count": 1327,
   "metadata": {},
   "outputs": [
    {
     "data": {
      "text/html": [
       "<div>\n",
       "<style scoped>\n",
       "    .dataframe tbody tr th:only-of-type {\n",
       "        vertical-align: middle;\n",
       "    }\n",
       "\n",
       "    .dataframe tbody tr th {\n",
       "        vertical-align: top;\n",
       "    }\n",
       "\n",
       "    .dataframe thead th {\n",
       "        text-align: right;\n",
       "    }\n",
       "</style>\n",
       "<table border=\"1\" class=\"dataframe\">\n",
       "  <thead>\n",
       "    <tr style=\"text-align: right;\">\n",
       "      <th></th>\n",
       "      <th>length in pips (norm)</th>\n",
       "    </tr>\n",
       "    <tr>\n",
       "      <th>ext_outcome</th>\n",
       "      <th></th>\n",
       "    </tr>\n",
       "  </thead>\n",
       "  <tbody>\n",
       "    <tr>\n",
       "      <th>0</th>\n",
       "      <td>9.674563</td>\n",
       "    </tr>\n",
       "    <tr>\n",
       "      <th>1</th>\n",
       "      <td>9.595679</td>\n",
       "    </tr>\n",
       "  </tbody>\n",
       "</table>\n",
       "</div>"
      ],
      "text/plain": [
       "             length in pips (norm)\n",
       "ext_outcome                       \n",
       "0                         9.674563\n",
       "1                         9.595679"
      ]
     },
     "execution_count": 1327,
     "metadata": {},
     "output_type": "execute_result"
    }
   ],
   "source": [
    "contDF.groupby(outcome_lab).agg({'length in pips (norm)': 'median'})"
   ]
  },
  {
   "cell_type": "markdown",
   "metadata": {},
   "source": [
    "### bounce length\n",
    "This variable is a comma separated list of integers representing how wide (in number of candles) each of the RSI bounces is. This variable requires a little bit of preprocessing, and I will write a function that calculates the total length (in number of candles) by adding the length of each of the bounces"
   ]
  },
  {
   "cell_type": "code",
   "execution_count": 1328,
   "metadata": {},
   "outputs": [],
   "source": [
    "def sum_lengths(x):\n",
    "    '''\n",
    "    Function to calculate the sum (in number of candles)\n",
    "    of all the RSI bounces\n",
    "    \n",
    "    Parameters\n",
    "    ----------\n",
    "    x = string with a comma separated list of numbers\n",
    "        i.e. 1,4,2,3\n",
    "        \n",
    "    Returns\n",
    "    -------\n",
    "    An integer representing the total bounce length\n",
    "    '''\n",
    "    \n",
    "    return sum([int(i) for i in x.split(\",\")])\n",
    "    "
   ]
  },
  {
   "cell_type": "markdown",
   "metadata": {},
   "source": [
    "And I will apply the `sum_lengths` function and put the results in a new column named `sum_bounces`"
   ]
  },
  {
   "cell_type": "code",
   "execution_count": 1329,
   "metadata": {},
   "outputs": [],
   "source": [
    "contDF['sum_bounces']=contDF['bounce length'].astype(str).apply(sum_lengths)"
   ]
  },
  {
   "cell_type": "markdown",
   "metadata": {},
   "source": [
    "Now, I will plot the distribution of this new variable on each `outcome`category:"
   ]
  },
  {
   "cell_type": "code",
   "execution_count": 1330,
   "metadata": {},
   "outputs": [
    {
     "data": {
      "image/png": "[encoded data removed]",
      "text/plain": [
       "<matplotlib.figure.Figure at 0x11c7bb9b0>"
      ]
     },
     "metadata": {},
     "output_type": "display_data"
    }
   ],
   "source": [
    "ax = sns.boxplot(x=outcome_lab, y=\"sum_bounces\", data=contDF)"
   ]
  },
  {
   "cell_type": "markdown",
   "metadata": {},
   "source": [
    "* Mean for each category"
   ]
  },
  {
   "cell_type": "code",
   "execution_count": 1331,
   "metadata": {},
   "outputs": [
    {
     "data": {
      "text/html": [
       "<div>\n",
       "<style scoped>\n",
       "    .dataframe tbody tr th:only-of-type {\n",
       "        vertical-align: middle;\n",
       "    }\n",
       "\n",
       "    .dataframe tbody tr th {\n",
       "        vertical-align: top;\n",
       "    }\n",
       "\n",
       "    .dataframe thead th {\n",
       "        text-align: right;\n",
       "    }\n",
       "</style>\n",
       "<table border=\"1\" class=\"dataframe\">\n",
       "  <thead>\n",
       "    <tr style=\"text-align: right;\">\n",
       "      <th></th>\n",
       "      <th>sum_bounces</th>\n",
       "    </tr>\n",
       "    <tr>\n",
       "      <th>ext_outcome</th>\n",
       "      <th></th>\n",
       "    </tr>\n",
       "  </thead>\n",
       "  <tbody>\n",
       "    <tr>\n",
       "      <th>0</th>\n",
       "      <td>9.456522</td>\n",
       "    </tr>\n",
       "    <tr>\n",
       "      <th>1</th>\n",
       "      <td>7.676190</td>\n",
       "    </tr>\n",
       "  </tbody>\n",
       "</table>\n",
       "</div>"
      ],
      "text/plain": [
       "             sum_bounces\n",
       "ext_outcome             \n",
       "0               9.456522\n",
       "1               7.676190"
      ]
     },
     "execution_count": 1331,
     "metadata": {},
     "output_type": "execute_result"
    }
   ],
   "source": [
    "contDF.groupby(outcome_lab).agg({'sum_bounces': 'mean'})"
   ]
  },
  {
   "cell_type": "markdown",
   "metadata": {},
   "source": [
    "* Median for each category"
   ]
  },
  {
   "cell_type": "code",
   "execution_count": 1332,
   "metadata": {},
   "outputs": [
    {
     "data": {
      "text/html": [
       "<div>\n",
       "<style scoped>\n",
       "    .dataframe tbody tr th:only-of-type {\n",
       "        vertical-align: middle;\n",
       "    }\n",
       "\n",
       "    .dataframe tbody tr th {\n",
       "        vertical-align: top;\n",
       "    }\n",
       "\n",
       "    .dataframe thead th {\n",
       "        text-align: right;\n",
       "    }\n",
       "</style>\n",
       "<table border=\"1\" class=\"dataframe\">\n",
       "  <thead>\n",
       "    <tr style=\"text-align: right;\">\n",
       "      <th></th>\n",
       "      <th>sum_bounces</th>\n",
       "    </tr>\n",
       "    <tr>\n",
       "      <th>ext_outcome</th>\n",
       "      <th></th>\n",
       "    </tr>\n",
       "  </thead>\n",
       "  <tbody>\n",
       "    <tr>\n",
       "      <th>0</th>\n",
       "      <td>6</td>\n",
       "    </tr>\n",
       "    <tr>\n",
       "      <th>1</th>\n",
       "      <td>3</td>\n",
       "    </tr>\n",
       "  </tbody>\n",
       "</table>\n",
       "</div>"
      ],
      "text/plain": [
       "             sum_bounces\n",
       "ext_outcome             \n",
       "0                      6\n",
       "1                      3"
      ]
     },
     "execution_count": 1332,
     "metadata": {},
     "output_type": "execute_result"
    }
   ],
   "source": [
    "contDF.groupby(outcome_lab).agg({'sum_bounces': 'median'})"
   ]
  },
  {
   "cell_type": "code",
   "execution_count": 1333,
   "metadata": {},
   "outputs": [
    {
     "ename": "SyntaxError",
     "evalue": "can't use starred expression here (<ipython-input-1333-48fdfaf4761b>, line 1)",
     "output_type": "error",
     "traceback": [
      "\u001b[0;36m  File \u001b[0;32m\"<ipython-input-1333-48fdfaf4761b>\"\u001b[0;36m, line \u001b[0;32m1\u001b[0m\n\u001b[0;31m    * Histogram\u001b[0m\n\u001b[0m               ^\u001b[0m\n\u001b[0;31mSyntaxError\u001b[0m\u001b[0;31m:\u001b[0m can't use starred expression here\n"
     ]
    }
   ],
   "source": [
    "* Histogram"
   ]
  },
  {
   "cell_type": "code",
   "execution_count": null,
   "metadata": {},
   "outputs": [],
   "source": [
    "axList=contDF['sum_bounces'].hist(by=contDF[outcome_lab],figsize=(20,5),bins=20,normed=True)"
   ]
  },
  {
   "cell_type": "markdown",
   "metadata": {},
   "source": [
    "### bounce (pips)\n",
    "This quantitative variable represents the length from the horizontal line defined by IC until the highest point of the bounce (considering wicks also).  Let's start comparing the distribution of this variable for the different categories of the `outcome` variable"
   ]
  },
  {
   "cell_type": "code",
   "execution_count": null,
   "metadata": {},
   "outputs": [],
   "source": [
    "ax = sns.boxplot(x=outcome_lab, y=\"bounce (pips)\", data=contDF)"
   ]
  },
  {
   "cell_type": "markdown",
   "metadata": {},
   "source": [
    "* Mean for each category"
   ]
  },
  {
   "cell_type": "code",
   "execution_count": null,
   "metadata": {},
   "outputs": [],
   "source": [
    "contDF.groupby(outcome_lab).agg({'bounce (pips)': 'mean'})"
   ]
  },
  {
   "cell_type": "markdown",
   "metadata": {},
   "source": [
    "* Median for each category"
   ]
  },
  {
   "cell_type": "code",
   "execution_count": null,
   "metadata": {},
   "outputs": [],
   "source": [
    "contDF.groupby(outcome_lab).agg({'bounce (pips)': 'median'})"
   ]
  },
  {
   "cell_type": "code",
   "execution_count": null,
   "metadata": {},
   "outputs": [],
   "source": [
    "axList=contDF['bounce (pips)'].hist(by=contDF[outcome_lab],figsize=(20,5),bins=20,normed=True)"
   ]
  },
  {
   "cell_type": "markdown",
   "metadata": {},
   "source": [
    "### previous swings\n",
    "This quantitative discrete variable is used to represent the number of swings from the entry. Let's start comparing the distribution of this variable for the different categories of the `outcome` variable"
   ]
  },
  {
   "cell_type": "code",
   "execution_count": null,
   "metadata": {},
   "outputs": [],
   "source": [
    "ax = sns.boxplot(x=outcome_lab, y=\"previous swings\", data=contDF)"
   ]
  },
  {
   "cell_type": "markdown",
   "metadata": {},
   "source": [
    "* Mean for each category"
   ]
  },
  {
   "cell_type": "code",
   "execution_count": null,
   "metadata": {},
   "outputs": [],
   "source": [
    "contDF.groupby(outcome_lab).agg({'previous swings': 'mean'})"
   ]
  },
  {
   "cell_type": "markdown",
   "metadata": {},
   "source": [
    "* Median for each category"
   ]
  },
  {
   "cell_type": "code",
   "execution_count": null,
   "metadata": {},
   "outputs": [],
   "source": [
    "contDF.groupby(outcome_lab).agg({'previous swings': 'median'})"
   ]
  },
  {
   "cell_type": "markdown",
   "metadata": {},
   "source": [
    "### last time\n",
    "This datetime variable represents the last time the price was over/below the entry price level. The first to do is to create a new datetime variable representing the difference (in days) between the entry datetime (start column) and the last time datetime."
   ]
  },
  {
   "cell_type": "code",
   "execution_count": null,
   "metadata": {},
   "outputs": [],
   "source": [
    "contDF['diff']=(contDF['start']-contDF['last time'])"
   ]
  },
  {
   "cell_type": "code",
   "execution_count": null,
   "metadata": {},
   "outputs": [],
   "source": [
    "contDF['diff']=contDF['diff'].apply(lambda x: x.days)"
   ]
  },
  {
   "cell_type": "markdown",
   "metadata": {},
   "source": [
    "Now, let's examine the distribution of this newly created `diff` variable in the 2 `outcome` categories"
   ]
  },
  {
   "cell_type": "code",
   "execution_count": null,
   "metadata": {},
   "outputs": [],
   "source": [
    "ax = sns.boxplot(x=\"outcome\", y=\"diff\", data=contDF)"
   ]
  },
  {
   "cell_type": "markdown",
   "metadata": {},
   "source": [
    "* Mean for each category"
   ]
  },
  {
   "cell_type": "code",
   "execution_count": null,
   "metadata": {},
   "outputs": [],
   "source": [
    "contDF.groupby(outcome_lab).agg({'diff': 'mean'})"
   ]
  },
  {
   "cell_type": "markdown",
   "metadata": {},
   "source": [
    "* Median for each category"
   ]
  },
  {
   "cell_type": "code",
   "execution_count": null,
   "metadata": {},
   "outputs": [],
   "source": [
    "contDF.groupby(outcome_lab).agg({'diff': 'median'})"
   ]
  },
  {
   "cell_type": "markdown",
   "metadata": {},
   "source": [
    "* Histogram"
   ]
  },
  {
   "cell_type": "code",
   "execution_count": null,
   "metadata": {},
   "outputs": [],
   "source": [
    "axList=contDF['diff'].hist(by=contDF[outcome_lab],figsize=(20,5),bins=10,normed=True)"
   ]
  },
  {
   "cell_type": "markdown",
   "metadata": {},
   "source": [
    "### Correlations\n",
    "In this section, I will analyze the correlation of each of the numerical variables in the dataframe"
   ]
  },
  {
   "cell_type": "code",
   "execution_count": null,
   "metadata": {},
   "outputs": [],
   "source": [
    "attributes = [\"inn_bounce\", \"indecission\", \"trend angle\",\"length of trend\",\"RSI bounces\",\"sum_bounces\"]\n",
    "scatter_matrix(contDF[attributes], figsize=(12, 8))"
   ]
  },
  {
   "cell_type": "markdown",
   "metadata": {},
   "source": [
    "* Conclusion<br>\n",
    "After inspecting the plots we see that there are the following correlations:<br>\n",
    "-negative correlation between trend angle and length of trend<br>\n",
    "-positive correlation between sum_bounces and RSI bounces"
   ]
  },
  {
   "cell_type": "markdown",
   "metadata": {},
   "source": [
    "Let's calculate now the multicollinearity for our predictors by calculating the eigen values and vectors:\n",
    "First, let's convert the numerical attributes to a numpy array:"
   ]
  },
  {
   "cell_type": "code",
   "execution_count": null,
   "metadata": {},
   "outputs": [],
   "source": [
    "attrb_arrays=contDF[attributes].values"
   ]
  },
  {
   "cell_type": "markdown",
   "metadata": {},
   "source": [
    "Let's calculate the correlation matrix:"
   ]
  },
  {
   "cell_type": "code",
   "execution_count": null,
   "metadata": {},
   "outputs": [],
   "source": [
    "corr = np.corrcoef(attrb_arrays, rowvar=0)"
   ]
  },
  {
   "cell_type": "markdown",
   "metadata": {},
   "source": [
    "And we calculate the Eigen values and vectors:"
   ]
  },
  {
   "cell_type": "code",
   "execution_count": null,
   "metadata": {},
   "outputs": [],
   "source": [
    " w, v = np.linalg.eig(corr)"
   ]
  },
  {
   "cell_type": "code",
   "execution_count": null,
   "metadata": {},
   "outputs": [],
   "source": [
    "print(w)"
   ]
  },
  {
   "cell_type": "markdown",
   "metadata": {},
   "source": [
    "There are not values close to 0, so there is not multicollinearity"
   ]
  },
  {
   "cell_type": "markdown",
   "metadata": {
    "variables": {
     "'%.0f' % medianBounce.iloc[0,0]": {},
     "'%.0f' % medianBounce.iloc[1,0]": {},
     "'%.1f' % propCp1.iloc[0, 0]": {},
     "'%.1f' % propCp1.iloc[0, 1]": {},
     "'%.1f' % propCp1.iloc[1, 0]": {},
     "'%.1f' % propCp1.iloc[1, 1]": {}
    }
   },
   "source": [
    "## Conclusions\n",
    "\n",
    "This section collects all the conclusions derived from the first exploration of the data. It shows the variable that are relevant and irrelevant for the fate of the continuation trades.<br>\n",
    "* Relevant:<br>\n",
    "1) Candle +1 against trade <br>\n",
    "Within the trades with IC+1 against the trade there are {{'%.1f' % propCp1.iloc[0, 1]}}% of failures and {{'%.1f' % propCp1.iloc[1, 1]}}% of successes<br>\n",
    "Within the trades with IC+1 in favour of the trade there are {{'%.1f' % propCp1.iloc[0, 0]}}% of failures and {{'%.1f' % propCp1.iloc[1, 0]}}% of successes<br>\n",
    "2) RSI bounces <br>\n",
    "The median number of bounces for successful trades is {{'%.0f' % medianBounce.iloc[1,0]}}<br>\n",
    "The median number of bounces for failed trades is {{'%.0f' % medianBounce.iloc[0,0]}}<br>\n",
    "The ideal situation for having a S trade is to have either 1 or 2 bounces<br>\n",
    "3) No of candles <br>\n",
    "The median number of candles for S is 4 and for F is 5<br>\n",
    "5) Length of the trend <br>\n",
    "The median length of the trade for S trades (50) is lower than for F trades (66). Also, after inspecting the distribution, we see that the majority of S trades have a length ranging from [15-60]<br>\n",
    "6) inn_bounce <br>\n",
    "The signal is strong. The bounces are smaller for S trades.\n",
    "cutoff-> trades having >12<br>\n",
    "7) indecission <br>\n",
    "Signal is weak. The number of candles in indecission is smaller in S trades\n",
    "cutoff-> trades having >6<br>\n",
    "8) bounce (ratio) <br>\n",
    "Signal is weak. The ratio inn_bounce/indecission is slightly higher for `S` trades<br>\n",
    "8) Strong trend<br>\n",
    "Signal is strong. The trend is stronger in S trades<br>\n",
    "9) bounce length<br>\n",
    "Signal is strong. The median bounce length is smaller in S trades\n",
    "cutoff--> trades having a length > 12<br>\n",
    "10) bounce (pips)<br>\n",
    "Signal is strong. The median length in pips for the bounce is smaller in S trades\n",
    "* Irrelevant:<br>"
   ]
  },
  {
   "cell_type": "markdown",
   "metadata": {},
   "source": [
    "1) trend angle<br>\n",
    "No significative differences between S and F trades<br>\n",
    "2) last time <br>\n",
    "No significative differences between S and F trades<br>\n",
    "3) length in pips (norm) <br>\n",
    "No significative differences between S and F trades<br>\n",
    "4) previous swings <br>\n",
    "No significative difference between S and F trades in terms of the number of previous swings from the entry\n",
    "5) entry on RSI <br>\n",
    "No significative differences between S and F trades<br>"
   ]
  },
  {
   "cell_type": "markdown",
   "metadata": {},
   "source": [
    "## Calculating points\n",
    "This section will calculate a total score for each trade that will be used to predict the outcome.<br>"
   ]
  },
  {
   "cell_type": "markdown",
   "metadata": {},
   "source": [
    "### Splitting the data into training and test sets\n",
    "Let's split the data into training and test sets. We are going to use a test set size of 0.33"
   ]
  },
  {
   "cell_type": "code",
   "execution_count": 1334,
   "metadata": {},
   "outputs": [],
   "source": [
    "train, test = train_test_split(contDF,\n",
    "                               test_size=0.33\n",
    "                              )"
   ]
  },
  {
   "cell_type": "markdown",
   "metadata": {},
   "source": [
    "First, let's create a function to calculate the points"
   ]
  },
  {
   "cell_type": "code",
   "execution_count": 1335,
   "metadata": {},
   "outputs": [],
   "source": [
    "def calculate_points(row,attribs):\n",
    "    '''\n",
    "    Function to calculate the points for a particular trade\n",
    "    \n",
    "    Parameters\n",
    "    ----------\n",
    "    row : dataframe row\n",
    "    attribs : list of dicts\n",
    "              The dict has the following format:\n",
    "              {'attr' : 'RSI bounces',\n",
    "               'cutoff' : 3,\n",
    "               'points' : 2}\n",
    "               \n",
    "    Returns\n",
    "    -------\n",
    "    Returns a score for this trade\n",
    "    \n",
    "    '''\n",
    "    score=0\n",
    "    for a in attribs:\n",
    "        value=row[a['attr']]\n",
    "        cutoff=a['cutoff']\n",
    "        points=a['points']\n",
    "        if cutoff =='bool':\n",
    "            if a['rel'] == 'is_true':\n",
    "                if value == True or value == 1:\n",
    "                    score+=points\n",
    "                if value == False  or value == 0:\n",
    "                    score+=-1*points\n",
    "        else:\n",
    "            if a['rel'] == 'less':\n",
    "                if value < cutoff: \n",
    "                    score+=points\n",
    "                if value >= cutoff: \n",
    "                    score+=-1*points\n",
    "            elif a['rel'] == 'range':\n",
    "                p=re.compile(\"(\\d+)-(\\d+)\")\n",
    "                m=p.match(cutoff)\n",
    "                upp=int(m.group(2))\n",
    "                low=int(m.group(1))\n",
    "                if value >=low and value <=upp:\n",
    "                    score+=points\n",
    "                else:\n",
    "                    score+=-1*points\n",
    "                \n",
    "    return score"
   ]
  },
  {
   "cell_type": "code",
   "execution_count": 1336,
   "metadata": {},
   "outputs": [],
   "source": [
    "attbs=[]\n",
    "\n",
    "attbs.append({\n",
    "        'attr' : 'RSI bounces',\n",
    "        'cutoff' : 5,\n",
    "        'rel' : 'less',\n",
    "        'points' : 2\n",
    "        })\n",
    "attbs.append( {\n",
    "        'attr' : 'length of trend',\n",
    "        'cutoff' : '15-70',\n",
    "        'rel' : 'range',\n",
    "        'points' : 1\n",
    "        })\n",
    "attbs.append( {\n",
    "        'attr' : 'inn_bounce',\n",
    "        'cutoff' : 11,\n",
    "        'rel' : 'less',\n",
    "        'points' : 1\n",
    "        })\n",
    "attbs.append( {\n",
    "        'attr' : 'strong trend',\n",
    "        'cutoff' : 'bool',\n",
    "        'rel' : 'is_true',\n",
    "        'points' : 2\n",
    "        })\n",
    "attbs.append( {\n",
    "        'attr' : 'sum_bounces',\n",
    "        'cutoff' : 10,\n",
    "        'rel' : 'less',\n",
    "        'points' : 2\n",
    "        })\n",
    "attbs.append( {\n",
    "        'attr' : 'bounce (pips)',\n",
    "        'cutoff' : 3000,\n",
    "        'rel' : 'less',\n",
    "        'points' : 2\n",
    "        })"
   ]
  },
  {
   "cell_type": "markdown",
   "metadata": {},
   "source": [
    "Now, let's apply the calculate_points on each row for the training and the test set"
   ]
  },
  {
   "cell_type": "code",
   "execution_count": 1337,
   "metadata": {},
   "outputs": [
    {
     "name": "stderr",
     "output_type": "stream",
     "text": [
      "/Users/ernesto/bin/anaconda/envs/python3/lib/python3.5/site-packages/ipykernel_launcher.py:1: SettingWithCopyWarning: \n",
      "A value is trying to be set on a copy of a slice from a DataFrame.\n",
      "Try using .loc[row_indexer,col_indexer] = value instead\n",
      "\n",
      "See the caveats in the documentation: http://pandas.pydata.org/pandas-docs/stable/indexing.html#indexing-view-versus-copy\n",
      "  \"\"\"Entry point for launching an IPython kernel.\n",
      "/Users/ernesto/bin/anaconda/envs/python3/lib/python3.5/site-packages/ipykernel_launcher.py:2: SettingWithCopyWarning: \n",
      "A value is trying to be set on a copy of a slice from a DataFrame.\n",
      "Try using .loc[row_indexer,col_indexer] = value instead\n",
      "\n",
      "See the caveats in the documentation: http://pandas.pydata.org/pandas-docs/stable/indexing.html#indexing-view-versus-copy\n",
      "  \n"
     ]
    }
   ],
   "source": [
    "train['score']=train.apply(calculate_points, axis=1, attribs=attbs)\n",
    "test['score']=test.apply(calculate_points, axis=1, attribs=attbs)"
   ]
  },
  {
   "cell_type": "markdown",
   "metadata": {},
   "source": [
    "### Calculating cutoff score\n",
    "* Mean"
   ]
  },
  {
   "cell_type": "code",
   "execution_count": 1338,
   "metadata": {},
   "outputs": [
    {
     "data": {
      "text/html": [
       "<div>\n",
       "<style scoped>\n",
       "    .dataframe tbody tr th:only-of-type {\n",
       "        vertical-align: middle;\n",
       "    }\n",
       "\n",
       "    .dataframe tbody tr th {\n",
       "        vertical-align: top;\n",
       "    }\n",
       "\n",
       "    .dataframe thead th {\n",
       "        text-align: right;\n",
       "    }\n",
       "</style>\n",
       "<table border=\"1\" class=\"dataframe\">\n",
       "  <thead>\n",
       "    <tr style=\"text-align: right;\">\n",
       "      <th></th>\n",
       "      <th>score</th>\n",
       "    </tr>\n",
       "    <tr>\n",
       "      <th>ext_outcome</th>\n",
       "      <th></th>\n",
       "    </tr>\n",
       "  </thead>\n",
       "  <tbody>\n",
       "    <tr>\n",
       "      <th>0</th>\n",
       "      <td>2.800000</td>\n",
       "    </tr>\n",
       "    <tr>\n",
       "      <th>1</th>\n",
       "      <td>4.422535</td>\n",
       "    </tr>\n",
       "  </tbody>\n",
       "</table>\n",
       "</div>"
      ],
      "text/plain": [
       "                score\n",
       "ext_outcome          \n",
       "0            2.800000\n",
       "1            4.422535"
      ]
     },
     "execution_count": 1338,
     "metadata": {},
     "output_type": "execute_result"
    }
   ],
   "source": [
    "train.groupby(outcome_lab).agg({'score': 'mean'})"
   ]
  },
  {
   "cell_type": "markdown",
   "metadata": {},
   "source": [
    "* Median"
   ]
  },
  {
   "cell_type": "code",
   "execution_count": 1339,
   "metadata": {},
   "outputs": [
    {
     "data": {
      "text/html": [
       "<div>\n",
       "<style scoped>\n",
       "    .dataframe tbody tr th:only-of-type {\n",
       "        vertical-align: middle;\n",
       "    }\n",
       "\n",
       "    .dataframe tbody tr th {\n",
       "        vertical-align: top;\n",
       "    }\n",
       "\n",
       "    .dataframe thead th {\n",
       "        text-align: right;\n",
       "    }\n",
       "</style>\n",
       "<table border=\"1\" class=\"dataframe\">\n",
       "  <thead>\n",
       "    <tr style=\"text-align: right;\">\n",
       "      <th></th>\n",
       "      <th>score</th>\n",
       "    </tr>\n",
       "    <tr>\n",
       "      <th>ext_outcome</th>\n",
       "      <th></th>\n",
       "    </tr>\n",
       "  </thead>\n",
       "  <tbody>\n",
       "    <tr>\n",
       "      <th>0</th>\n",
       "      <td>4</td>\n",
       "    </tr>\n",
       "    <tr>\n",
       "      <th>1</th>\n",
       "      <td>6</td>\n",
       "    </tr>\n",
       "  </tbody>\n",
       "</table>\n",
       "</div>"
      ],
      "text/plain": [
       "             score\n",
       "ext_outcome       \n",
       "0                4\n",
       "1                6"
      ]
     },
     "execution_count": 1339,
     "metadata": {},
     "output_type": "execute_result"
    }
   ],
   "source": [
    "train.groupby(outcome_lab).agg({'score': 'median'})"
   ]
  },
  {
   "cell_type": "markdown",
   "metadata": {},
   "source": [
    "* Histogram"
   ]
  },
  {
   "cell_type": "code",
   "execution_count": 1340,
   "metadata": {},
   "outputs": [
    {
     "data": {
      "image/png": "[encoded data removed]",
      "text/plain": [
       "<matplotlib.figure.Figure at 0x1215ded68>"
      ]
     },
     "metadata": {},
     "output_type": "display_data"
    }
   ],
   "source": [
    "axList=train['score'].hist(by=train[outcome_lab],figsize=(20,5),bins=8,normed=True)"
   ]
  },
  {
   "cell_type": "markdown",
   "metadata": {},
   "source": [
    "### Making predictions and performance evaluation\n",
    "We will use different cutoffs and make predictions using these using the test set"
   ]
  },
  {
   "cell_type": "markdown",
   "metadata": {},
   "source": [
    "Let's create a new dataframe only with the columns we are interested in:"
   ]
  },
  {
   "cell_type": "code",
   "execution_count": 1341,
   "metadata": {},
   "outputs": [],
   "source": [
    "scoreDF=test.iloc[:,[outcome_ix,26]]"
   ]
  },
  {
   "cell_type": "code",
   "execution_count": 1342,
   "metadata": {},
   "outputs": [],
   "source": [
    "def predictOutcome(row, cutoff):\n",
    "    pred=None\n",
    "    if row['score'] >cutoff:\n",
    "        pred=1\n",
    "    else:\n",
    "        pred=0\n",
    "    return pred"
   ]
  },
  {
   "cell_type": "code",
   "execution_count": 1343,
   "metadata": {},
   "outputs": [
    {
     "name": "stderr",
     "output_type": "stream",
     "text": [
      "/Users/ernesto/bin/anaconda/envs/python3/lib/python3.5/site-packages/ipykernel_launcher.py:1: SettingWithCopyWarning: \n",
      "A value is trying to be set on a copy of a slice from a DataFrame.\n",
      "Try using .loc[row_indexer,col_indexer] = value instead\n",
      "\n",
      "See the caveats in the documentation: http://pandas.pydata.org/pandas-docs/stable/indexing.html#indexing-view-versus-copy\n",
      "  \"\"\"Entry point for launching an IPython kernel.\n"
     ]
    }
   ],
   "source": [
    "scoreDF['predict']=scoreDF.apply(predictOutcome,axis=1,cutoff=6)"
   ]
  },
  {
   "cell_type": "markdown",
   "metadata": {},
   "source": [
    "* Performance evaluation"
   ]
  },
  {
   "cell_type": "code",
   "execution_count": 1344,
   "metadata": {},
   "outputs": [
    {
     "name": "stdout",
     "output_type": "stream",
     "text": [
      "TP:15\n",
      "TN:14\n",
      "FN:19\n",
      "FP:2\n"
     ]
    }
   ],
   "source": [
    "(tn, fp, fn, tp)=confusion_matrix(scoreDF['ext_outcome'], scoreDF['predict']).ravel()\n",
    "print(\"TP:\"+str(tp))\n",
    "print(\"TN:\"+str(tn))\n",
    "print(\"FN:\"+str(fn))\n",
    "print(\"FP:\"+str(fp))"
   ]
  },
  {
   "cell_type": "markdown",
   "metadata": {},
   "source": [
    "    * Precision"
   ]
  },
  {
   "cell_type": "code",
   "execution_count": 1345,
   "metadata": {},
   "outputs": [
    {
     "name": "stdout",
     "output_type": "stream",
     "text": [
      "0.882352941176\n"
     ]
    }
   ],
   "source": [
    "print(tp/(tp+fp))"
   ]
  },
  {
   "cell_type": "markdown",
   "metadata": {},
   "source": [
    "* Recall"
   ]
  },
  {
   "cell_type": "code",
   "execution_count": 1346,
   "metadata": {},
   "outputs": [
    {
     "name": "stdout",
     "output_type": "stream",
     "text": [
      "0.441176470588\n"
     ]
    }
   ],
   "source": [
    "print(tp/(tp+fn))"
   ]
  },
  {
   "cell_type": "markdown",
   "metadata": {},
   "source": [
    "### Using a Binary classifier\n",
    "First, let's prepare the data by separating the data into labels (dependent variable, which is the variable we try to predict) and features (the independent variables that are going to be used for the model)"
   ]
  },
  {
   "cell_type": "code",
   "execution_count": 1347,
   "metadata": {},
   "outputs": [],
   "source": [
    "labels=contDF['ext_outcome']\n",
    "features=contDF.drop([\"ext_outcome\",\"outcome\"],axis=1)"
   ]
  },
  {
   "cell_type": "markdown",
   "metadata": {},
   "source": [
    "We need also to remove some features that will be not accepted by the classifier or are not useful"
   ]
  },
  {
   "cell_type": "code",
   "execution_count": 1348,
   "metadata": {},
   "outputs": [],
   "source": [
    "features=features.drop([\"id\",\"start\",\"timeframe\",\"entry\",\"retraced\",\"last time\",\"target\",\"bounce length\",\"space interswings\"],axis=1)"
   ]
  },
  {
   "cell_type": "markdown",
   "metadata": {},
   "source": [
    "Now, let's split our data into training and test sets. In this case, the test_size=0.33"
   ]
  },
  {
   "cell_type": "code",
   "execution_count": 1349,
   "metadata": {},
   "outputs": [],
   "source": [
    "train, test, train_labels, test_labels = train_test_split(features,\n",
    "                                                          labels,\n",
    "                                                          test_size=0.33,\n",
    "                                                          random_state=42)"
   ]
  },
  {
   "cell_type": "markdown",
   "metadata": {},
   "source": [
    "As the counts for each outcome category are unbalanced, I will oversample using SMOTE:"
   ]
  },
  {
   "cell_type": "code",
   "execution_count": 1350,
   "metadata": {},
   "outputs": [],
   "source": [
    "from imblearn.over_sampling import SMOTE\n",
    "\n",
    "train_resampled, trainlabels_resampled = SMOTE().fit_sample(train,train_labels)"
   ]
  },
  {
   "cell_type": "markdown",
   "metadata": {},
   "source": [
    "Let's check the balanced counts:"
   ]
  },
  {
   "cell_type": "code",
   "execution_count": 1351,
   "metadata": {},
   "outputs": [
    {
     "name": "stdout",
     "output_type": "stream",
     "text": [
      "[(0, 73), (1, 73)]\n"
     ]
    }
   ],
   "source": [
    "from collections import Counter\n",
    "\n",
    "print(sorted(Counter(trainlabels_resampled).items()))"
   ]
  },
  {
   "cell_type": "markdown",
   "metadata": {},
   "source": [
    "#### naive_bayes"
   ]
  },
  {
   "cell_type": "markdown",
   "metadata": {},
   "source": [
    "Building and Evaluating the Model for the non oversampled train dataset"
   ]
  },
  {
   "cell_type": "code",
   "execution_count": 1352,
   "metadata": {},
   "outputs": [],
   "source": [
    "from sklearn.naive_bayes import GaussianNB\n",
    "\n",
    "# Initialize our classifier\n",
    "gnb = GaussianNB()\n",
    "\n",
    "# Train our classifier\n",
    "model = gnb.fit(train, train_labels)"
   ]
  },
  {
   "cell_type": "code",
   "execution_count": 1353,
   "metadata": {},
   "outputs": [],
   "source": [
    "# Make predictions\n",
    "preds = gnb.predict(test)"
   ]
  },
  {
   "cell_type": "code",
   "execution_count": 1354,
   "metadata": {},
   "outputs": [
    {
     "name": "stdout",
     "output_type": "stream",
     "text": [
      "0.62\n"
     ]
    }
   ],
   "source": [
    "from sklearn.metrics import accuracy_score\n",
    "\n",
    "# Evaluate accuracy\n",
    "print(accuracy_score(test_labels, preds))"
   ]
  },
  {
   "cell_type": "markdown",
   "metadata": {},
   "source": [
    "Now, with the oversampled train dataset"
   ]
  },
  {
   "cell_type": "code",
   "execution_count": 1355,
   "metadata": {},
   "outputs": [
    {
     "name": "stdout",
     "output_type": "stream",
     "text": [
      "0.64\n"
     ]
    }
   ],
   "source": [
    "# Train our classifier\n",
    "model = gnb.fit(train_resampled,  trainlabels_resampled)\n",
    "\n",
    "# Make predictions\n",
    "preds = gnb.predict(test)\n",
    "\n",
    "# Evaluate accuracy\n",
    "print(accuracy_score(test_labels, preds))"
   ]
  },
  {
   "cell_type": "markdown",
   "metadata": {},
   "source": [
    "**Conclusion** It is slightly better using oversampling"
   ]
  },
  {
   "cell_type": "markdown",
   "metadata": {},
   "source": [
    "#### Using SGDClassifier\n",
    "First, let's use the non oversampled train dataset"
   ]
  },
  {
   "cell_type": "code",
   "execution_count": 1356,
   "metadata": {},
   "outputs": [
    {
     "name": "stderr",
     "output_type": "stream",
     "text": [
      "/Users/ernesto/bin/anaconda/envs/python3/lib/python3.5/site-packages/sklearn/linear_model/stochastic_gradient.py:128: FutureWarning: max_iter and tol parameters have been added in <class 'sklearn.linear_model.stochastic_gradient.SGDClassifier'> in 0.19. If both are left unset, they default to max_iter=5 and tol=None. If tol is not None, max_iter defaults to max_iter=1000. From 0.21, default max_iter will be 1000, and default tol will be 1e-3.\n",
      "  \"and default tol will be 1e-3.\" % type(self), FutureWarning)\n"
     ]
    }
   ],
   "source": [
    "from sklearn.linear_model import SGDClassifier\n",
    "\n",
    "sgd_clf = SGDClassifier()\n",
    "sgd=sgd_clf.fit(train,train_labels)"
   ]
  },
  {
   "cell_type": "code",
   "execution_count": 1357,
   "metadata": {},
   "outputs": [],
   "source": [
    "preds=sgd_clf.predict(test)"
   ]
  },
  {
   "cell_type": "code",
   "execution_count": 1358,
   "metadata": {},
   "outputs": [
    {
     "name": "stdout",
     "output_type": "stream",
     "text": [
      "0.38\n"
     ]
    }
   ],
   "source": [
    "print(accuracy_score(test_labels, preds))"
   ]
  },
  {
   "cell_type": "markdown",
   "metadata": {},
   "source": [
    "Now, with the oversampled train dataset"
   ]
  },
  {
   "cell_type": "code",
   "execution_count": 1359,
   "metadata": {},
   "outputs": [
    {
     "name": "stdout",
     "output_type": "stream",
     "text": [
      "0.7\n"
     ]
    },
    {
     "name": "stderr",
     "output_type": "stream",
     "text": [
      "/Users/ernesto/bin/anaconda/envs/python3/lib/python3.5/site-packages/sklearn/linear_model/stochastic_gradient.py:128: FutureWarning: max_iter and tol parameters have been added in <class 'sklearn.linear_model.stochastic_gradient.SGDClassifier'> in 0.19. If both are left unset, they default to max_iter=5 and tol=None. If tol is not None, max_iter defaults to max_iter=1000. From 0.21, default max_iter will be 1000, and default tol will be 1e-3.\n",
      "  \"and default tol will be 1e-3.\" % type(self), FutureWarning)\n"
     ]
    }
   ],
   "source": [
    "sgd_clf = SGDClassifier()\n",
    "sgd=sgd_clf.fit(train_resampled,trainlabels_resampled)\n",
    "preds=sgd_clf.predict(test)\n",
    "print(accuracy_score(test_labels, preds))"
   ]
  },
  {
   "cell_type": "markdown",
   "metadata": {},
   "source": [
    "#### Using Logistic Regression  \n",
    "First, let's use the non oversampled train dataset"
   ]
  },
  {
   "cell_type": "code",
   "execution_count": 1360,
   "metadata": {},
   "outputs": [],
   "source": [
    "from sklearn.linear_model import LogisticRegression\n",
    "logisticRegr = LogisticRegression(verbose=1)"
   ]
  },
  {
   "cell_type": "markdown",
   "metadata": {},
   "source": [
    "Now, we train the model with the training set:"
   ]
  },
  {
   "cell_type": "code",
   "execution_count": 1361,
   "metadata": {},
   "outputs": [
    {
     "name": "stdout",
     "output_type": "stream",
     "text": [
      "[LibLinear]"
     ]
    }
   ],
   "source": [
    "m=logisticRegr.fit(train, train_labels)"
   ]
  },
  {
   "cell_type": "markdown",
   "metadata": {},
   "source": [
    "Now, let's measue model performance\n",
    "First, we are going to make predictions using our new model and the test data"
   ]
  },
  {
   "cell_type": "code",
   "execution_count": 1362,
   "metadata": {},
   "outputs": [],
   "source": [
    "predictions = logisticRegr.predict(test)"
   ]
  },
  {
   "cell_type": "markdown",
   "metadata": {},
   "source": [
    "We can use the score function in order to calculate the mean accuracy on the test data and labels"
   ]
  },
  {
   "cell_type": "code",
   "execution_count": 1363,
   "metadata": {},
   "outputs": [
    {
     "name": "stdout",
     "output_type": "stream",
     "text": [
      "0.66\n"
     ]
    }
   ],
   "source": [
    "score = logisticRegr.score(test, test_labels)\n",
    "print(score)"
   ]
  },
  {
   "cell_type": "markdown",
   "metadata": {},
   "source": [
    "In order to visualize the correctness of our predictions, we can also create a confusion matrix:"
   ]
  },
  {
   "cell_type": "code",
   "execution_count": 1364,
   "metadata": {},
   "outputs": [
    {
     "name": "stdout",
     "output_type": "stream",
     "text": [
      "[[ 4 14]\n",
      " [ 3 29]]\n"
     ]
    }
   ],
   "source": [
    "import matplotlib.pyplot as plt\n",
    "import seaborn as sns\n",
    "from sklearn import metrics\n",
    "\n",
    "cm = metrics.confusion_matrix(test_labels, predictions)\n",
    "print(cm)"
   ]
  },
  {
   "cell_type": "markdown",
   "metadata": {},
   "source": [
    "The matrix above can be embellished by using seaborn:"
   ]
  },
  {
   "cell_type": "code",
   "execution_count": 1365,
   "metadata": {},
   "outputs": [
    {
     "data": {
      "image/png": "[encoded data removed]",
      "text/plain": [
       "<matplotlib.figure.Figure at 0x120dd3a90>"
      ]
     },
     "metadata": {},
     "output_type": "display_data"
    }
   ],
   "source": [
    "plt.figure(figsize=(9,9))\n",
    "sns.heatmap(cm, annot=True, fmt=\".0f\", linewidths=.5, square = True, cmap = 'Blues_r');\n",
    "plt.ylabel('Actual label');\n",
    "plt.xlabel('Predicted label');\n",
    "all_sample_title = 'Accuracy Score: {0}'.format(score)\n",
    "plt.title(all_sample_title, size = 15);"
   ]
  },
  {
   "cell_type": "markdown",
   "metadata": {},
   "source": [
    "Now, let's try with the oversampled train dataset"
   ]
  },
  {
   "cell_type": "code",
   "execution_count": 1366,
   "metadata": {},
   "outputs": [],
   "source": [
    "from sklearn.linear_model import LogisticRegression\n",
    "logisticRegr = LogisticRegression(verbose=1)"
   ]
  },
  {
   "cell_type": "markdown",
   "metadata": {},
   "source": [
    "Now, we train the model with the training set:"
   ]
  },
  {
   "cell_type": "code",
   "execution_count": 1367,
   "metadata": {},
   "outputs": [
    {
     "name": "stdout",
     "output_type": "stream",
     "text": [
      "[LibLinear]"
     ]
    }
   ],
   "source": [
    "m=logisticRegr.fit(train_resampled,trainlabels_resampled)"
   ]
  },
  {
   "cell_type": "markdown",
   "metadata": {},
   "source": [
    "Now, let's measue model performance\n",
    "First, we are going to make predictions using our new model and the test data"
   ]
  },
  {
   "cell_type": "code",
   "execution_count": 1368,
   "metadata": {},
   "outputs": [],
   "source": [
    "predictions = logisticRegr.predict(test)"
   ]
  },
  {
   "cell_type": "markdown",
   "metadata": {},
   "source": [
    "We can use the score function in order to calculate the mean accuracy on the test data and labels"
   ]
  },
  {
   "cell_type": "code",
   "execution_count": 1369,
   "metadata": {},
   "outputs": [
    {
     "name": "stdout",
     "output_type": "stream",
     "text": [
      "0.5\n"
     ]
    }
   ],
   "source": [
    "score = logisticRegr.score(test, test_labels)\n",
    "print(score)"
   ]
  },
  {
   "cell_type": "markdown",
   "metadata": {},
   "source": [
    "**Conclusion:** It is worst to oversample in terms of score"
   ]
  },
  {
   "cell_type": "markdown",
   "metadata": {},
   "source": [
    "* Examining the influence of each predictor on the outcome"
   ]
  },
  {
   "cell_type": "code",
   "execution_count": 1370,
   "metadata": {},
   "outputs": [
    {
     "name": "stdout",
     "output_type": "stream",
     "text": [
      "[[-0.44912792 -1.08949314 -0.0983037  -0.19124925 -0.30224798  0.42703125\n",
      "  -0.21518266  0.22209904 -0.31361307 -0.09201393 -0.09627279 -0.10426247\n",
      "   0.48757632 -0.10753869  0.63642585]]\n"
     ]
    }
   ],
   "source": [
    "stds=np.std(train, 0)\n",
    "\n",
    "print(stds.values*m.coef_)"
   ]
  },
  {
   "cell_type": "code",
   "execution_count": 1371,
   "metadata": {},
   "outputs": [
    {
     "name": "stdout",
     "output_type": "stream",
     "text": [
      "{'length of trend': 2.2209903608565011, 'inn_bounce': -3.0224797864689079, 'sum_bounces': 6.3642585226664563, 'RSI bounces': -10.894931388078295, 'Candle +1 against trade': -4.4912792389225205, 'length in pips (norm)': 4.8757632279285721, 'previous swings': -3.1361306693404729, 'No of candles': -0.98303696748514202, 'trend angle': -1.042624673757905, 'entry on RSI': -2.1518266047203092, 'strong trend': -0.96272790091717653, 'bounce (ratio)': -1.0753869482677214, 'bounce (pips)': -1.9124925327387969, 'indecission': 4.2703124805651633, 'length in pips': -0.92013930276874123}\n"
     ]
    }
   ],
   "source": [
    "keys=list(train.columns)\n",
    "values_10=list(stds.values*m.coef_)[0]*10\n",
    "\n",
    "coefficients=dict(zip(keys,values_10))\n",
    "print(coefficients)"
   ]
  },
  {
   "cell_type": "markdown",
   "metadata": {
    "variables": {
     "train.columns[0]": "Candle +1 against trade",
     "train.columns[10]": "strong trend",
     "train.columns[11]": "trend angle",
     "train.columns[12]": "length in pips (norm)",
     "train.columns[13]": "bounce (ratio)",
     "train.columns[14]": "sum_bounces",
     "train.columns[1]": "RSI bounces",
     "train.columns[2]": "No of candles",
     "train.columns[4]": "inn_bounce",
     "train.columns[5]": "indecission",
     "train.columns[7]": "length of trend",
     "train.columns[8]": "previous swings",
     "train.columns[9]": "length in pips"
    }
   },
   "source": [
    "**Conclusions:**  \n",
    "* Relevant  \n",
    "{{train.columns[0]}} (negative)  \n",
    "{{train.columns[1]}} (negative)  \n",
    "{{train.columns[2]}} (positive)  \n",
    "{{train.columns[4]}} (negative)  \n",
    "{{train.columns[5]}} (positive)  \n",
    "{{train.columns[7]}} (positive)  \n",
    "{{train.columns[8]}} (negative)  \n",
    "{{train.columns[9]}} (negative)  \n",
    "{{train.columns[10]}} (positive)  \n",
    "{{train.columns[11]}} (negative)  \n",
    "{{train.columns[12]}} (positive)  \n",
    "{{train.columns[13]}} (negative)  \n",
    "{{train.columns[14]}} (positive)  "
   ]
  },
  {
   "cell_type": "markdown",
   "metadata": {
    "variables": {
     "train.columns[15]": "<p><strong>IndexError</strong>: index 15 is out of bounds for axis 0 with size 15</p>\n",
     "train.columns[3]": "bounce (pips)",
     "train.columns[6]": "entry on RSI"
    }
   },
   "source": [
    "* Irrelevant  \n",
    "{{train.columns[3]}}  \n",
    "{{train.columns[6]}}  \n",
    "{{train.columns[15]}}"
   ]
  },
  {
   "cell_type": "code",
   "execution_count": null,
   "metadata": {},
   "outputs": [],
   "source": []
  }
 ],
 "metadata": {
  "kernelspec": {
   "display_name": "Python 3",
   "language": "python",
   "name": "python3"
  },
  "language_info": {
   "codemirror_mode": {
    "name": "ipython",
    "version": 3
   },
   "file_extension": ".py",
   "mimetype": "text/x-python",
   "name": "python",
   "nbconvert_exporter": "python",
   "pygments_lexer": "ipython3",
   "version": "3.5.3"
  },
  "toc": {
   "nav_menu": {},
   "number_sections": true,
   "sideBar": true,
   "skip_h1_title": false,
   "title_cell": "Table of Contents",
   "title_sidebar": "Contents",
   "toc_cell": false,
   "toc_position": {},
   "toc_section_display": true,
   "toc_window_display": false
  }
 },
 "nbformat": 4,
 "nbformat_minor": 2
}
