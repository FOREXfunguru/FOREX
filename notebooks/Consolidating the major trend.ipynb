{
 "cells": [
  {
   "cell_type": "markdown",
   "metadata": {},
   "source": [
    "Document showing how to consolidate the possible subsegments into a major trend. "
   ]
  },
  {
   "cell_type": "markdown",
   "metadata": {},
   "source": [
    "# Dependencies"
   ]
  },
  {
   "cell_type": "code",
   "execution_count": 1,
   "metadata": {},
   "outputs": [
    {
     "data": {
      "text/plain": [
       "['/Users/ernesto/PycharmProjects/FOREX/src',\n",
       " '/Users/ernesto/miniconda3/envs/python3_5_env/lib/python35.zip',\n",
       " '/Users/ernesto/miniconda3/envs/python3_5_env/lib/python3.5',\n",
       " '/Users/ernesto/miniconda3/envs/python3_5_env/lib/python3.5/plat-darwin',\n",
       " '/Users/ernesto/miniconda3/envs/python3_5_env/lib/python3.5/lib-dynload',\n",
       " '',\n",
       " '/Users/ernesto/miniconda3/envs/python3_5_env/lib/python3.5/site-packages',\n",
       " '/Users/ernesto/miniconda3/envs/python3_5_env/lib/python3.5/site-packages/IPython/extensions',\n",
       " '/Users/ernesto/.ipython']"
      ]
     },
     "execution_count": 1,
     "metadata": {},
     "output_type": "execute_result"
    }
   ],
   "source": [
    "import os\n",
    "import sys\n",
    "\n",
    "sys.path"
   ]
  },
  {
   "cell_type": "code",
   "execution_count": 2,
   "metadata": {},
   "outputs": [],
   "source": [
    "import oanda_api"
   ]
  },
  {
   "cell_type": "markdown",
   "metadata": {},
   "source": [
    "# Test case"
   ]
  },
  {
   "cell_type": "markdown",
   "metadata": {},
   "source": [
    "Here I am going to use the uptrend shown below:\n",
    "that goes from EUR_NZD (D) 26MAR2019 to 18JUN2019\n",
    "![alt text](img/major_trend_eurnzd.png)"
   ]
  },
  {
   "cell_type": "markdown",
   "metadata": {},
   "source": [
    "Let's get a CandleList for this uptrend"
   ]
  },
  {
   "cell_type": "code",
   "execution_count": null,
   "metadata": {},
   "outputs": [],
   "source": [
    "oanda = OandaAPI(url='https://api-fxtrade.oanda.com/v1/candles?',\n",
    "                     instrument='AUD_USD',\n",
    "                     granularity='D',\n",
    "                     alignmentTimezone='Europe/London',\n",
    "                     dailyAlignment=22)\n",
    "\n",
    "oanda.run(start='2019-03-08T22:00:00',\n",
    "              end='2019-08-09T22:00:00',\n",
    "              roll=True)\n",
    "\n",
    "candle_list = oanda.fetch_candleset()\n",
    "\n",
    "cl = CandleList(candle_list, instrument='AUD_USD', type='long')"
   ]
  }
 ],
 "metadata": {
  "kernelspec": {
   "display_name": "Python 3",
   "language": "python",
   "name": "python3"
  },
  "language_info": {
   "codemirror_mode": {
    "name": "ipython",
    "version": 3
   },
   "file_extension": ".py",
   "mimetype": "text/x-python",
   "name": "python",
   "nbconvert_exporter": "python",
   "pygments_lexer": "ipython3",
   "version": "3.5.6"
  }
 },
 "nbformat": 4,
 "nbformat_minor": 2
}
