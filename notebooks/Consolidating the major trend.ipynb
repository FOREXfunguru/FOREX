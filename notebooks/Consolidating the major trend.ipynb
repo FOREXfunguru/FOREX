{
 "cells": [
  {
   "cell_type": "markdown",
   "metadata": {},
   "source": [
    "Document showing how to consolidate the possible subsegments into a major trend. "
   ]
  },
  {
   "cell_type": "markdown",
   "metadata": {},
   "source": [
    "# Dependencies"
   ]
  },
  {
   "cell_type": "code",
   "execution_count": 4,
   "metadata": {},
   "outputs": [],
   "source": [
    "import tensorflow"
   ]
  },
  {
   "cell_type": "code",
   "execution_count": 2,
   "metadata": {},
   "outputs": [
    {
     "ename": "ModuleNotFoundError",
     "evalue": "No module named 'oanda_api'",
     "output_type": "error",
     "traceback": [
      "\u001b[0;31m---------------------------------------------------------------------------\u001b[0m",
      "\u001b[0;31mModuleNotFoundError\u001b[0m                       Traceback (most recent call last)",
      "\u001b[0;32m<ipython-input-2-6700e4e23927>\u001b[0m in \u001b[0;36m<module>\u001b[0;34m\u001b[0m\n\u001b[0;32m----> 1\u001b[0;31m \u001b[0;32mfrom\u001b[0m \u001b[0moanda_api\u001b[0m \u001b[0;32mimport\u001b[0m \u001b[0mOandaAPI\u001b[0m\u001b[0;34m\u001b[0m\u001b[0;34m\u001b[0m\u001b[0m\n\u001b[0m\u001b[1;32m      2\u001b[0m \u001b[0;32mfrom\u001b[0m \u001b[0mcandlelist\u001b[0m \u001b[0;32mimport\u001b[0m \u001b[0mCandleList\u001b[0m\u001b[0;34m\u001b[0m\u001b[0;34m\u001b[0m\u001b[0m\n",
      "\u001b[0;31mModuleNotFoundError\u001b[0m: No module named 'oanda_api'"
     ]
    }
   ],
   "source": [
    "from oanda_api import OandaAPI\n",
    "from candlelist import CandleList"
   ]
  },
  {
   "cell_type": "markdown",
   "metadata": {},
   "source": [
    "# Test case"
   ]
  },
  {
   "cell_type": "markdown",
   "metadata": {},
   "source": [
    "Here I am going to use the uptrend shown below:\n",
    "that goes from EUR_NZD (D) 26MAR2019 to 18JUN2019\n",
    "![alt text](img/major_trend_eurnzd.png)"
   ]
  },
  {
   "cell_type": "markdown",
   "metadata": {},
   "source": [
    "Let's get a CandleList for this uptrend"
   ]
  },
  {
   "cell_type": "code",
   "execution_count": null,
   "metadata": {},
   "outputs": [],
   "source": [
    "oanda = OandaAPI(url='https://api-fxtrade.oanda.com/v1/candles?',\n",
    "                     instrument='AUD_USD',\n",
    "                     granularity='D',\n",
    "                     alignmentTimezone='Europe/London',\n",
    "                     dailyAlignment=22)\n",
    "\n",
    "oanda.run(start='2019-03-08T22:00:00',\n",
    "              end='2019-08-09T22:00:00',\n",
    "              roll=True)\n",
    "\n",
    "candle_list = oanda.fetch_candleset()\n",
    "\n",
    "cl = CandleList(candle_list, instrument='AUD_USD', type='long')"
   ]
  }
 ],
 "metadata": {
  "kernelspec": {
   "display_name": "Python 3",
   "language": "python",
   "name": "python3"
  },
  "language_info": {
   "codemirror_mode": {
    "name": "ipython",
    "version": 3
   },
   "file_extension": ".py",
   "mimetype": "text/x-python",
   "name": "python",
   "nbconvert_exporter": "python",
   "pygments_lexer": "ipython3",
   "version": "3.7.3"
  }
 },
 "nbformat": 4,
 "nbformat_minor": 2
}
