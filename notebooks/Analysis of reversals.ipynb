{
 "cells": [
  {
   "cell_type": "markdown",
   "metadata": {},
   "source": [
    "# Reversal Analysis\n",
    "\n",
    "This notebook describes the procedure followed to analyze different aspects on the reversal of the trades\n",
    "\n",
    "## Data collected\n",
    "\n",
    "These are the variables collected for this work:\n",
    "\n",
    "* End of trend\n",
    "* RSI= Relative Strength Index (30 oversold / 70 overbought)\n",
    "* Divergence (TRUE/FALSE)\n",
    "* Number of bounces=Number of bounces in oversold/overbought \n",
    "* previous the reversal considering the entire trend in order to calculate bounces\n",
    "* Trend length before (bars)\n",
    "* Currency Pair\n",
    "* Trend= Type of market. Possible values are up,down,ranging\n",
    "* Continuation= Continuation trade. TRUE/FALSE\n",
    "* Entry Time-frame\n",
    "* Reversed=TRUE/FALSE\n",
    "* Trend length after (bars)\n",
    "* Ranging=TRUE/FALSE"
   ]
  },
  {
   "cell_type": "markdown",
   "metadata": {},
   "source": [
    "I will adress the following questions:\n",
    "\n",
    "* Relationship between outcome and Number of bounces\n",
    "* Relationship between trend length before the reversal, RSI and outcome (possible ranging)\n",
    "* What are the different values when ranging"
   ]
  },
  {
   "cell_type": "markdown",
   "metadata": {},
   "source": [
    "## Load the dependencies"
   ]
  },
  {
   "cell_type": "code",
   "execution_count": 866,
   "metadata": {},
   "outputs": [],
   "source": [
    "import pandas as pd\n",
    "import numpy as np\n",
    "\n",
    "%matplotlib inline"
   ]
  },
  {
   "cell_type": "markdown",
   "metadata": {},
   "source": [
    "## Creating a dataframe with the data"
   ]
  },
  {
   "cell_type": "code",
   "execution_count": 867,
   "metadata": {},
   "outputs": [],
   "source": [
    "DF = pd.read_csv(\"/Users/ernesto/Downloads/backtesting.csv\",sep=',',index_col=False)"
   ]
  },
  {
   "cell_type": "markdown",
   "metadata": {
    "variables": {
     "DF.shape[0]": "99"
    }
   },
   "source": [
    "Total number of records is {{DF.shape[0]}}"
   ]
  },
  {
   "cell_type": "markdown",
   "metadata": {},
   "source": [
    "## Select the records depending on the type of market\n",
    "I will create 3 different dataframes depending on the type of market for a particular trade. I will consider 3 different types of market:\n",
    "\n",
    "* Trending (upwards,downwards)\n",
    "* Continuation\n",
    "* Ranging\n",
    "\n",
    "### Trending\n",
    "First, we select from the initial dataframe the trades that are in a trending market"
   ]
  },
  {
   "cell_type": "code",
   "execution_count": 868,
   "metadata": {},
   "outputs": [],
   "source": [
    "trending_DF=DF.loc[(DF['Trend']=='up') | (DF['Trend']=='down') & (DF['Continuation']==False)]"
   ]
  },
  {
   "cell_type": "markdown",
   "metadata": {
    "variables": {
     "trending_DF.shape[0]": "70"
    }
   },
   "source": [
    "The total number of records is {{trending_DF.shape[0]}}"
   ]
  },
  {
   "cell_type": "markdown",
   "metadata": {},
   "source": [
    "#### Divergence\n",
    "\n",
    "##### Relationship between Reversed and Divergence\n",
    "\n",
    "In this section, I will explore if the fact that there is divergence increase the propability of a reversal when the market is trending\n",
    "First, we calculate counts:"
   ]
  },
  {
   "cell_type": "code",
   "execution_count": 869,
   "metadata": {},
   "outputs": [
    {
     "name": "stdout",
     "output_type": "stream",
     "text": [
      "              Reversed_N  Reversed_Y  Rowtotal\n",
      "Divergence_N          11          35        46\n",
      "Divergence_Y           2          22        24\n",
      "Coltotal              13          57        70\n"
     ]
    }
   ],
   "source": [
    "div_class=pd.crosstab(index=trending_DF['Divergence'], columns=trending_DF['Reversed'],margins=True)\n",
    "\n",
    "div_class.columns = [\"Reversed_N\",\"Reversed_Y\",\"Rowtotal\"]\n",
    "div_class.index= [\"Divergence_N\",\"Divergence_Y\",\"Coltotal\"]\n",
    "\n",
    "print(div_class)"
   ]
  },
  {
   "cell_type": "markdown",
   "metadata": {},
   "source": [
    "And then, we calculate the proportion along each column:"
   ]
  },
  {
   "cell_type": "code",
   "execution_count": 870,
   "metadata": {},
   "outputs": [
    {
     "name": "stdout",
     "output_type": "stream",
     "text": [
      "              Reversed_N  Reversed_Y  Rowtotal\n",
      "Divergence_N    0.846154    0.614035  0.657143\n",
      "Divergence_Y    0.153846    0.385965  0.342857\n",
      "Coltotal        1.000000    1.000000  1.000000\n"
     ]
    }
   ],
   "source": [
    "prop=div_class/div_class.loc[\"Coltotal\"]\n",
    "print(prop)"
   ]
  },
  {
   "cell_type": "markdown",
   "metadata": {
    "variables": {
     "'%.2f' % prop.iloc[0, 0]": "0.85",
     "'%.2f' % prop.iloc[1, 0]": "0.15"
    }
   },
   "source": [
    "**Conclusion:**\n",
    "{{'%.2f' % prop.iloc[0, 0]}} of trades not reversing did not present RSI divergence and {{'%.2f' % prop.iloc[1, 0]}} presented RSI divergence.\n",
    "So RSI divergence is a good predictor of price reversal"
   ]
  },
  {
   "cell_type": "markdown",
   "metadata": {},
   "source": [
    "##### Relationship between 'Trend length after (bars)' and 'Divergence'\n",
    "\n",
    "In this section, I will explore the relationship between the presence of Divergence and the length (in number of candles) of the trend after the reversal."
   ]
  },
  {
   "cell_type": "markdown",
   "metadata": {},
   "source": [
    "Firstly, we select the records that reversed:"
   ]
  },
  {
   "cell_type": "code",
   "execution_count": 871,
   "metadata": {},
   "outputs": [],
   "source": [
    "reversed_true=trending_DF.loc[trending_DF['Reversed']==True]"
   ]
  },
  {
   "cell_type": "markdown",
   "metadata": {},
   "source": [
    "And now, we compare the average length of the trend after the reversal in records having RSI divergence and not having RSI divergence"
   ]
  },
  {
   "cell_type": "code",
   "execution_count": 872,
   "metadata": {},
   "outputs": [
    {
     "name": "stdout",
     "output_type": "stream",
     "text": [
      "            Trend length after (bars)\n",
      "Divergence                           \n",
      "False                       42.371429\n",
      "True                        91.545455\n"
     ]
    }
   ],
   "source": [
    "avg_trendafter=reversed_true.groupby(['Divergence']).agg({'Trend length after (bars)': 'mean'})\n",
    "\n",
    "print(avg_trendafter)"
   ]
  },
  {
   "cell_type": "markdown",
   "metadata": {
    "variables": {
     "'%.0f' % avg_trendafter.iloc[0, 0]": "42",
     "'%.0f' % avg_trendafter.iloc[1, 0]": "92"
    }
   },
   "source": [
    "**Conclusion:** On average and if the market is trending, the number of candles for the trend after the reversal in trades presenting divergence is {{'%.0f' % avg_trendafter.iloc[1, 0]}} and the average number for trades not presenting divergence is {{'%.0f' % avg_trendafter.iloc[0, 0]}}"
   ]
  },
  {
   "cell_type": "markdown",
   "metadata": {},
   "source": [
    "##### Relationship between 'Trend length before(bars)' and 'Divergence'\n",
    "\n",
    "In this section, I will explore the relationship between the presence of Divergence and the length (in number of candles) of the trend before the reversal. This will give an idea on the correlation between the length of the trend pre-reversal and the appearance of divergence"
   ]
  },
  {
   "cell_type": "code",
   "execution_count": 873,
   "metadata": {},
   "outputs": [
    {
     "name": "stdout",
     "output_type": "stream",
     "text": [
      "            Trend length before(bars)\n",
      "Divergence                           \n",
      "False                       48.057143\n",
      "True                        81.227273\n"
     ]
    }
   ],
   "source": [
    "avg_trendbefore=reversed_true.groupby(['Divergence']).agg({'Trend length before(bars)': 'mean'})\n",
    "\n",
    "print(avg_trendbefore)"
   ]
  },
  {
   "cell_type": "markdown",
   "metadata": {
    "variables": {
     "'%.0f' % avg_trendbefore.iloc[0, 0]": "48",
     "'%.0f' % avg_trendbefore.iloc[1, 0]": "81"
    }
   },
   "source": [
    "**Conclusion:** On average and if the market is trending, the number of candles for the trend before the reversal in trades presenting divergence is {{'%.0f' % avg_trendbefore.iloc[1, 0]}} and the average number for trades not presenting divergence is {{'%.0f' % avg_trendbefore.iloc[0, 0]}}"
   ]
  },
  {
   "cell_type": "markdown",
   "metadata": {},
   "source": [
    "##### Relationship between 'Number of bounces' and 'Divergence'\n",
    "\n",
    "In this section, I will address the correlation between the number of times the price has been in oversold/overbought RSI regions before the reversal happening when there is divergence compared to when there is no divergence"
   ]
  },
  {
   "cell_type": "code",
   "execution_count": 874,
   "metadata": {},
   "outputs": [
    {
     "name": "stdout",
     "output_type": "stream",
     "text": [
      "            Number of bounces\n",
      "Divergence                   \n",
      "False                1.065217\n",
      "True                 3.000000\n"
     ]
    }
   ],
   "source": [
    "avg_nbounces=trending_DF.groupby(['Divergence']).agg({'Number of bounces': 'mean'})\n",
    "\n",
    "print(avg_nbounces)"
   ]
  },
  {
   "cell_type": "markdown",
   "metadata": {
    "variables": {
     "'%.1f' % avg_nbounces.iloc[0, 0]": "1.1",
     "'%.1f' % avg_nbounces.iloc[1, 0]": "3.0"
    }
   },
   "source": [
    "**Conclusion:** \n",
    "* On average, the trades **NOT** presenting divergence have {{'%.1f' % avg_nbounces.iloc[0, 0]}} times that the price has been  in oversold/overbought RSI regions\n",
    "* On average, the trades presenting divergence have {{'%.1f' % avg_nbounces.iloc[1, 0]}} times that the price has been  in oversold/overbought RSI regions"
   ]
  },
  {
   "cell_type": "markdown",
   "metadata": {},
   "source": [
    "##### What is the average RSI for divergent trades?:"
   ]
  },
  {
   "cell_type": "code",
   "execution_count": 875,
   "metadata": {},
   "outputs": [
    {
     "data": {
      "text/html": [
       "<div>\n",
       "<style scoped>\n",
       "    .dataframe tbody tr th:only-of-type {\n",
       "        vertical-align: middle;\n",
       "    }\n",
       "\n",
       "    .dataframe tbody tr th {\n",
       "        vertical-align: top;\n",
       "    }\n",
       "\n",
       "    .dataframe thead th {\n",
       "        text-align: right;\n",
       "    }\n",
       "</style>\n",
       "<table border=\"1\" class=\"dataframe\">\n",
       "  <thead>\n",
       "    <tr style=\"text-align: right;\">\n",
       "      <th></th>\n",
       "      <th>RSI</th>\n",
       "    </tr>\n",
       "    <tr>\n",
       "      <th>Trend</th>\n",
       "      <th></th>\n",
       "    </tr>\n",
       "  </thead>\n",
       "  <tbody>\n",
       "    <tr>\n",
       "      <th>down</th>\n",
       "      <td>33.388235</td>\n",
       "    </tr>\n",
       "    <tr>\n",
       "      <th>up</th>\n",
       "      <td>64.571429</td>\n",
       "    </tr>\n",
       "  </tbody>\n",
       "</table>\n",
       "</div>"
      ],
      "text/plain": [
       "             RSI\n",
       "Trend           \n",
       "down   33.388235\n",
       "up     64.571429"
      ]
     },
     "execution_count": 875,
     "metadata": {},
     "output_type": "execute_result"
    }
   ],
   "source": [
    "divergent_true=trending_DF.loc[trending_DF['Divergence']==True]\n",
    "\n",
    "divergent_true.groupby(['Trend']).agg({'RSI': 'mean'})"
   ]
  },
  {
   "cell_type": "markdown",
   "metadata": {},
   "source": [
    "**Conclusion:**\n",
    "The data collected indicates that it is not necessary to have the reversal in the oversold/overbought area in order to have a RSI divergence"
   ]
  },
  {
   "cell_type": "markdown",
   "metadata": {},
   "source": [
    "#### No divergence\n",
    "In this section, I am going to examine the trending trades that did not present divergence and are not continuation trades. First, we select the trending trades without divergence"
   ]
  },
  {
   "cell_type": "code",
   "execution_count": 876,
   "metadata": {},
   "outputs": [],
   "source": [
    "non_div=trending_DF.loc[(trending_DF['Divergence']==False) & (trending_DF['Reversed']==True) & (trending_DF['Continuation']==False)]"
   ]
  },
  {
   "cell_type": "markdown",
   "metadata": {
    "variables": {
     "non_div.shape[0]": "26"
    }
   },
   "source": [
    "There was a total of {{non_div.shape[0]}} trending trades with non divergence\n",
    "\n",
    "##### What is the distribution of trend length values after the reversal?"
   ]
  },
  {
   "cell_type": "code",
   "execution_count": 877,
   "metadata": {},
   "outputs": [
    {
     "data": {
      "text/plain": [
       "<matplotlib.axes._subplots.AxesSubplot at 0x110784b70>"
      ]
     },
     "execution_count": 877,
     "metadata": {},
     "output_type": "execute_result"
    },
    {
     "data": {
      "image/png": "[encoded data removed]",
      "text/plain": [
       "<matplotlib.figure.Figure at 0x110842390>"
      ]
     },
     "metadata": {},
     "output_type": "display_data"
    }
   ],
   "source": [
    "non_div[['Trend length after (bars)']].boxplot()"
   ]
  },
  {
   "cell_type": "markdown",
   "metadata": {},
   "source": [
    "##### Categorizing the trend length after the reversal \n",
    "Now, we will bin `Trend length after (bars)` into discrete categories by using `pd.cut` and we will calculate the mean for each category using the following variables:\n",
    "* Number of bounces\n",
    "* Trend length before (bars)\n",
    "* RSI\n",
    "\n",
    "The cuts used with `pd.cut` are:"
   ]
  },
  {
   "cell_type": "code",
   "execution_count": 878,
   "metadata": {},
   "outputs": [],
   "source": [
    "cuts=np.array([0,10,20,30,40,50,75,300])"
   ]
  },
  {
   "cell_type": "markdown",
   "metadata": {},
   "source": [
    " **Number of bounces**"
   ]
  },
  {
   "cell_type": "code",
   "execution_count": 879,
   "metadata": {},
   "outputs": [
    {
     "name": "stdout",
     "output_type": "stream",
     "text": [
      "                           Number of bounces\n",
      "Trend length after (bars)                   \n",
      "(0, 10]                             1.700000\n",
      "(10, 20]                            2.000000\n",
      "(20, 30]                            2.666667\n",
      "(30, 40]                            1.500000\n",
      "(40, 50]                            0.000000\n",
      "(50, 75]                            0.000000\n",
      "(75, 300]                           0.000000\n"
     ]
    }
   ],
   "source": [
    "print(non_div.groupby(pd.cut(non_div[\"Trend length after (bars)\"], cuts)).agg({'Number of bounces': 'mean'}))"
   ]
  },
  {
   "cell_type": "markdown",
   "metadata": {},
   "source": [
    "**Conclusion:** There could be a relationship between the length after trend the lower and the number of times that the RSI value has been in oversold/overbought-->More data is needed\n",
    "\n",
    "**Trend length before (bars)**"
   ]
  },
  {
   "cell_type": "code",
   "execution_count": 880,
   "metadata": {},
   "outputs": [
    {
     "name": "stdout",
     "output_type": "stream",
     "text": [
      "                           Trend length before(bars)\n",
      "Trend length after (bars)                           \n",
      "(0, 10]                                    68.800000\n",
      "(10, 20]                                   33.500000\n",
      "(20, 30]                                   71.666667\n",
      "(30, 40]                                   54.000000\n",
      "(40, 50]                                   13.000000\n",
      "(50, 75]                                   17.000000\n",
      "(75, 300]                                  99.000000\n"
     ]
    }
   ],
   "source": [
    "print(non_div.groupby(pd.cut(non_div[\"Trend length after (bars)\"], cuts)).agg({\"Trend length before(bars)\": 'mean'}))"
   ]
  },
  {
   "cell_type": "markdown",
   "metadata": {},
   "source": [
    "**Conclusion:** It seems that there is no correlation between the length of the trade before and after the reversal\n",
    "\n",
    "**RSI**<br>\n",
    "First, let's divide depending on the value of Trend"
   ]
  },
  {
   "cell_type": "code",
   "execution_count": 881,
   "metadata": {},
   "outputs": [],
   "source": [
    "up_df=non_div.loc[non_div['Trend']=='up']\n",
    "down_df=non_div.loc[non_div['Trend']=='down']"
   ]
  },
  {
   "cell_type": "markdown",
   "metadata": {
    "variables": {
     "down_df.shape[0]": "13",
     "up_df.shape[0]": "13"
    }
   },
   "source": [
    "There are {{up_df.shape[0]}} up trades\n",
    "There are {{down_df.shape[0]}} down trades"
   ]
  },
  {
   "cell_type": "markdown",
   "metadata": {},
   "source": [
    "Now, we categorize on the values of `Trend length after (bars)`:"
   ]
  },
  {
   "cell_type": "code",
   "execution_count": 882,
   "metadata": {},
   "outputs": [
    {
     "name": "stdout",
     "output_type": "stream",
     "text": [
      "                                 RSI\n",
      "Trend length after (bars)           \n",
      "(0, 10]                    67.500000\n",
      "(10, 20]                   72.000000\n",
      "(20, 30]                   71.000000\n",
      "(30, 40]                   76.666667\n",
      "(40, 50]                   77.000000\n",
      "(50, 75]                   67.000000\n",
      "(75, 300]                  73.000000\n"
     ]
    }
   ],
   "source": [
    "print(up_df.groupby(pd.cut(up_df[\"Trend length after (bars)\"], cuts)).agg({\"RSI\": 'mean'}))"
   ]
  },
  {
   "cell_type": "code",
   "execution_count": 883,
   "metadata": {},
   "outputs": [
    {
     "name": "stdout",
     "output_type": "stream",
     "text": [
      "                                 RSI\n",
      "Trend length after (bars)           \n",
      "(0, 10]                    25.333333\n",
      "(10, 20]                   24.000000\n",
      "(20, 30]                   24.500000\n",
      "(30, 40]                   23.000000\n",
      "(40, 50]                         NaN\n",
      "(50, 75]                         NaN\n",
      "(75, 300]                  24.500000\n"
     ]
    }
   ],
   "source": [
    "print(down_df.groupby(pd.cut(down_df[\"Trend length after (bars)\"], cuts)).agg({\"RSI\": 'mean'}))"
   ]
  },
  {
   "cell_type": "markdown",
   "metadata": {},
   "source": [
    "**Conclusion:** There is no correlation between the `Trend length after (bars)` and RSI value"
   ]
  },
  {
   "cell_type": "markdown",
   "metadata": {},
   "source": [
    "### Continuation\n",
    "Now, let's select the trades considered as continuation trades:"
   ]
  },
  {
   "cell_type": "code",
   "execution_count": 884,
   "metadata": {},
   "outputs": [],
   "source": [
    "cont_DF=DF.loc[DF['Continuation']==True]"
   ]
  },
  {
   "cell_type": "markdown",
   "metadata": {
    "variables": {
     "cont_DF.shape[0]": "16"
    }
   },
   "source": [
    "There are {{cont_DF.shape[0]}} continuation trades"
   ]
  },
  {
   "cell_type": "markdown",
   "metadata": {},
   "source": [
    "#### How many reversed=TRUE trades?\n",
    "Out of all continuation trades, how many of them were successful"
   ]
  },
  {
   "cell_type": "code",
   "execution_count": 885,
   "metadata": {},
   "outputs": [
    {
     "name": "stdout",
     "output_type": "stream",
     "text": [
      "Reversed\n",
      "False     1\n",
      "True     15\n",
      "dtype: int64\n"
     ]
    }
   ],
   "source": [
    "cont_rev=cont_DF.groupby(['Reversed']).size()\n",
    "print(cont_rev)"
   ]
  },
  {
   "cell_type": "markdown",
   "metadata": {
    "variables": {
     "'%.0f' % cont_rev.iloc[0]": "1",
     "cont_DF.shape[0]": "16"
    }
   },
   "source": [
    "**Conclusion:** There was {{'%.0f' % cont_rev.iloc[0]}} non reversing trade out of a {{cont_DF.shape[0]}} total continuation trades. So trades that are of continuation type have a great probability of being successful"
   ]
  },
  {
   "cell_type": "markdown",
   "metadata": {},
   "source": [
    "##### What is the average RSI for continuation trades"
   ]
  },
  {
   "cell_type": "code",
   "execution_count": 886,
   "metadata": {},
   "outputs": [
    {
     "data": {
      "text/html": [
       "<div>\n",
       "<style scoped>\n",
       "    .dataframe tbody tr th:only-of-type {\n",
       "        vertical-align: middle;\n",
       "    }\n",
       "\n",
       "    .dataframe tbody tr th {\n",
       "        vertical-align: top;\n",
       "    }\n",
       "\n",
       "    .dataframe thead th {\n",
       "        text-align: right;\n",
       "    }\n",
       "</style>\n",
       "<table border=\"1\" class=\"dataframe\">\n",
       "  <thead>\n",
       "    <tr style=\"text-align: right;\">\n",
       "      <th></th>\n",
       "      <th>RSI</th>\n",
       "    </tr>\n",
       "    <tr>\n",
       "      <th>Trend</th>\n",
       "      <th></th>\n",
       "    </tr>\n",
       "  </thead>\n",
       "  <tbody>\n",
       "    <tr>\n",
       "      <th>down</th>\n",
       "      <td>47.833333</td>\n",
       "    </tr>\n",
       "    <tr>\n",
       "      <th>up</th>\n",
       "      <td>46.600000</td>\n",
       "    </tr>\n",
       "  </tbody>\n",
       "</table>\n",
       "</div>"
      ],
      "text/plain": [
       "             RSI\n",
       "Trend           \n",
       "down   47.833333\n",
       "up     46.600000"
      ]
     },
     "execution_count": 886,
     "metadata": {},
     "output_type": "execute_result"
    }
   ],
   "source": [
    "cont_DF.groupby(['Trend']).agg({'RSI': 'mean'})"
   ]
  },
  {
   "cell_type": "markdown",
   "metadata": {},
   "source": [
    "**Conclusion:**\n",
    "The data collected indicates that the continuation trades do not have the reversal in the oversold/overbought area\n",
    "\n",
    "### Ranging\n",
    "\n",
    "Let's select now the ranging trades."
   ]
  },
  {
   "cell_type": "code",
   "execution_count": 887,
   "metadata": {},
   "outputs": [],
   "source": [
    "ranging_DF=DF.loc[(DF['Trend']=='ranging')]"
   ]
  },
  {
   "cell_type": "markdown",
   "metadata": {
    "variables": {
     "ranging_DF.shape[0]": "23"
    }
   },
   "source": [
    "There were {{ranging_DF.shape[0]}} ranging trades"
   ]
  },
  {
   "cell_type": "markdown",
   "metadata": {},
   "source": [
    "#### How many reversed=TRUE trades?\n",
    "Out of all ranging trades, how many of them were successful"
   ]
  },
  {
   "cell_type": "code",
   "execution_count": 891,
   "metadata": {},
   "outputs": [
    {
     "name": "stdout",
     "output_type": "stream",
     "text": [
      "Reversed\n",
      "False     6\n",
      "True     17\n",
      "dtype: int64\n"
     ]
    }
   ],
   "source": [
    "ranging_DF.groupby(['Reversed']).size()\n",
    "print(ranging_rev)"
   ]
  },
  {
   "cell_type": "markdown",
   "metadata": {},
   "source": [
    "##### What is the average RSI for ranging reversed trades"
   ]
  },
  {
   "cell_type": "markdown",
   "metadata": {},
   "source": [
    "First, we select the reversed trades and we calculate the mean RSI per group:"
   ]
  },
  {
   "cell_type": "code",
   "execution_count": 899,
   "metadata": {},
   "outputs": [
    {
     "data": {
      "text/html": [
       "<div>\n",
       "<style scoped>\n",
       "    .dataframe tbody tr th:only-of-type {\n",
       "        vertical-align: middle;\n",
       "    }\n",
       "\n",
       "    .dataframe tbody tr th {\n",
       "        vertical-align: top;\n",
       "    }\n",
       "\n",
       "    .dataframe thead th {\n",
       "        text-align: right;\n",
       "    }\n",
       "</style>\n",
       "<table border=\"1\" class=\"dataframe\">\n",
       "  <thead>\n",
       "    <tr style=\"text-align: right;\">\n",
       "      <th></th>\n",
       "      <th>RSI</th>\n",
       "    </tr>\n",
       "    <tr>\n",
       "      <th>Trend</th>\n",
       "      <th></th>\n",
       "    </tr>\n",
       "  </thead>\n",
       "  <tbody>\n",
       "    <tr>\n",
       "      <th>ranging</th>\n",
       "      <td>48.941176</td>\n",
       "    </tr>\n",
       "  </tbody>\n",
       "</table>\n",
       "</div>"
      ],
      "text/plain": [
       "               RSI\n",
       "Trend             \n",
       "ranging  48.941176"
      ]
     },
     "execution_count": 899,
     "metadata": {},
     "output_type": "execute_result"
    }
   ],
   "source": [
    "ranging_true=ranging_DF.loc[ranging_DF['Reversed']==True]\n",
    "ranging_true.groupby(['Trend']).agg({'RSI': 'mean'})"
   ]
  },
  {
   "cell_type": "markdown",
   "metadata": {},
   "source": [
    "## General Conclusions\n",
    "\n",
    "This is the list of the main conclusions derived from this work:\n",
    "\n",
    "* Divergence can be used for predicting reversal\n",
    "* The longer the before reversal trend the higher the probability of having divergence\n",
    "* The higher the number of bounces the higher the probability of having divergence\n",
    "* If there is divergence then it is more likely that the length of the after reversal increases\n",
    "* In order to have a reversal and when there is divergence the RSI value does not need to be in the oversold/overbought area\n",
    "* In order to have a reversal and when there is continuation the RSI value does not need to be in the oversold/overbought area and the average RSI values are (down~49/up~47)\n",
    "* In order to have a reversal and when there is ranging the RSI value does not need to be in the oversold/overbought area"
   ]
  }
 ],
 "metadata": {
  "anaconda-cloud": {},
  "kernelspec": {
   "display_name": "Python 3",
   "language": "python",
   "name": "python3"
  },
  "language_info": {
   "codemirror_mode": {
    "name": "ipython",
    "version": 3
   },
   "file_extension": ".py",
   "mimetype": "text/x-python",
   "name": "python",
   "nbconvert_exporter": "python",
   "pygments_lexer": "ipython3",
   "version": "3.5.3"
  },
  "toc": {
   "nav_menu": {},
   "number_sections": true,
   "sideBar": true,
   "skip_h1_title": false,
   "title_cell": "Table of Contents",
   "title_sidebar": "Contents",
   "toc_cell": false,
   "toc_position": {},
   "toc_section_display": true,
   "toc_window_display": false
  }
 },
 "nbformat": 4,
 "nbformat_minor": 1
}
