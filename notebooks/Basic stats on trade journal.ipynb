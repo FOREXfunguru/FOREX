{
 "cells": [
  {
   "cell_type": "markdown",
   "metadata": {},
   "source": [
    "# This notebook describes some basic stats performed on a TradingJournal"
   ]
  },
  {
   "cell_type": "code",
   "execution_count": 69,
   "metadata": {
    "collapsed": true
   },
   "outputs": [],
   "source": [
    "import pandas as pd"
   ]
  },
  {
   "cell_type": "markdown",
   "metadata": {},
   "source": [
    "First, let's read the .csv file into a dataframe"
   ]
  },
  {
   "cell_type": "code",
   "execution_count": 70,
   "metadata": {
    "collapsed": false
   },
   "outputs": [],
   "source": [
    "df = pd.read_csv(\"/Users/ernesto/lib/FOREX/tests/data/Trading_journal_07082017.csv\",sep=',',index_col=False,header=1)"
   ]
  },
  {
   "cell_type": "markdown",
   "metadata": {},
   "source": [
    "In order to calculate the number of records per instrument:"
   ]
  },
  {
   "cell_type": "code",
   "execution_count": 71,
   "metadata": {
    "collapsed": false
   },
   "outputs": [
    {
     "name": "stdout",
     "output_type": "stream",
     "text": [
      "col_0          count\n",
      "Currency Pair       \n",
      "AUD/JPY            3\n",
      "AUD/NZD            8\n",
      "AUD/USD           11\n",
      "CAD/JPY            4\n",
      "EUR/AUD            2\n",
      "EUR/CHF            4\n",
      "EUR/GBP           10\n",
      "EUR/JPY            5\n",
      "EUR/NZD            1\n",
      "EUR/USD            4\n",
      "GBP/AUD            2\n",
      "GBP/CAD            3\n",
      "GBP/JPY            6\n",
      "GBP/USD            5\n",
      "NZD/JPY            2\n",
      "NZD/USD            7\n",
      "USD/CAD            3\n",
      "USD/CHF           11\n",
      "USD/JPY            5\n"
     ]
    }
   ],
   "source": [
    "my_tab = pd.crosstab(index=df['Currency Pair'], columns=\"count\")\n",
    "print my_tab"
   ]
  },
  {
   "cell_type": "markdown",
   "metadata": {
    "slideshow": {
     "slide_type": "-"
    }
   },
   "source": [
    "Now, let's calculate the number of trades per outcome:"
   ]
  },
  {
   "cell_type": "code",
   "execution_count": 72,
   "metadata": {
    "collapsed": false
   },
   "outputs": [
    {
     "name": "stdout",
     "output_type": "stream",
     "text": [
      "col_0      count\n",
      "outcome         \n",
      "breakeven     17\n",
      "failure       46\n",
      "success       33\n"
     ]
    }
   ],
   "source": [
    "my_tab = pd.crosstab(index=df['outcome'], columns=\"count\")\n",
    "print my_tab"
   ]
  },
  {
   "cell_type": "markdown",
   "metadata": {},
   "source": [
    "Now, let's calculate the total profit/loss:"
   ]
  },
  {
   "cell_type": "code",
   "execution_count": 73,
   "metadata": {
    "collapsed": false
   },
   "outputs": [
    {
     "name": "stdout",
     "output_type": "stream",
     "text": [
      "-0.8334\n"
     ]
    }
   ],
   "source": [
    "Total=df['Profit/Loss'].sum()\n",
    "print(Total)"
   ]
  },
  {
   "cell_type": "markdown",
   "metadata": {},
   "source": [
    "Then, we check the proportions of successful outcomes per instrument:"
   ]
  },
  {
   "cell_type": "code",
   "execution_count": 74,
   "metadata": {
    "collapsed": false
   },
   "outputs": [
    {
     "name": "stdout",
     "output_type": "stream",
     "text": [
      "Currency Pair   AUD/JPY  AUD/NZD   AUD/USD  CAD/JPY  EUR/AUD  EUR/CHF  \\\n",
      "outcome                                                                 \n",
      "breakeven      0.000000    0.125  0.000000     0.25      0.0     0.25   \n",
      "failure        0.333333    0.375  0.727273     0.50      0.5     0.75   \n",
      "success        0.666667    0.500  0.272727     0.25      0.5     0.00   \n",
      "\n",
      "Currency Pair  EUR/GBP  EUR/JPY  EUR/NZD  EUR/USD  GBP/AUD   GBP/CAD  \\\n",
      "outcome                                                                \n",
      "breakeven          0.1      0.0      0.0      1.0      0.0  0.333333   \n",
      "failure            0.5      0.8      0.0      0.0      0.5  0.666667   \n",
      "success            0.4      0.2      1.0      0.0      0.5  0.000000   \n",
      "\n",
      "Currency Pair   GBP/JPY  GBP/USD  NZD/JPY   NZD/USD   USD/CAD   USD/CHF  \\\n",
      "outcome                                                                   \n",
      "breakeven      0.166667      0.2      0.5  0.142857  0.333333  0.181818   \n",
      "failure        0.500000      0.6      0.5  0.428571  0.333333  0.272727   \n",
      "success        0.333333      0.2      0.0  0.428571  0.333333  0.545455   \n",
      "\n",
      "Currency Pair  USD/JPY  \n",
      "outcome                 \n",
      "breakeven          0.2  \n",
      "failure            0.4  \n",
      "success            0.4  \n"
     ]
    }
   ],
   "source": [
    "print pd.crosstab(df['outcome'], df['Currency Pair']).apply(lambda r: r/r.sum(), axis=0)"
   ]
  },
  {
   "cell_type": "markdown",
   "metadata": {},
   "source": [
    "Now, we check the proportions of successful outcomes per granularity:"
   ]
  },
  {
   "cell_type": "code",
   "execution_count": 75,
   "metadata": {
    "collapsed": false
   },
   "outputs": [
    {
     "name": "stdout",
     "output_type": "stream",
     "text": [
      "Entry Time-frame      D       H10       H12   H3     H4        H8        na\n",
      "outcome                                                                    \n",
      "breakeven         0.250  0.000000  0.208333  1.0  0.125  0.137931  0.000000\n",
      "failure           0.375  0.666667  0.458333  0.0  0.375  0.586207  0.666667\n",
      "success           0.375  0.333333  0.333333  0.0  0.500  0.275862  0.333333\n"
     ]
    }
   ],
   "source": [
    "print pd.crosstab(df['outcome'], df['Entry Time-frame']).apply(lambda r: r/r.sum(), axis=0)"
   ]
  }
 ],
 "metadata": {
  "anaconda-cloud": {},
  "kernelspec": {
   "display_name": "Python [conda root]",
   "language": "python",
   "name": "conda-root-py"
  },
  "language_info": {
   "codemirror_mode": {
    "name": "ipython",
    "version": 2
   },
   "file_extension": ".py",
   "mimetype": "text/x-python",
   "name": "python",
   "nbconvert_exporter": "python",
   "pygments_lexer": "ipython2",
   "version": "2.7.12"
  }
 },
 "nbformat": 4,
 "nbformat_minor": 1
}
