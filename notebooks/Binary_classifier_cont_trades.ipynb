{
 "cells": [
  {
   "cell_type": "markdown",
   "metadata": {},
   "source": [
    "# Motivation\n",
    "This notebook analyses the spreadsheet containing information on the reversals. This spreadsheet collects different features on the trades in an attempt of creating a binary classifier, this classifier will learn from the data collected and will predict the value of the `outcome` variable, which can be success of failre\n",
    "\n",
    "# Data\n",
    "The data has been collected in an spreadsheet containing trades both simulated and real. And the different trades have been classified into three types: continuation, counter and ranging. The independent variables gathered for each trade type are:\n",
    "## Continuation trades\n",
    "* id\tid used in the screenshot folder to identify this record\n",
    "* start\tstart of this trade\n",
    "* timeframe\tin the format 2D,D,H12,H8\n",
    "* entry\tprice\n",
    "* outcome\tS=success;F=failure;B=breakeven\n",
    "* ext_outcome. S=success;F=failure;B=breakeven\n",
    "* RSI bounces. number of RSI bounces ocurring in the trend before entry\n",
    "* No of candles. How many candles before occurred the bounce, from the entry of trade to the first bounce (without counting the entry candle)\n",
    "* entry on RSI. Was the entry candle on RSI?\n",
    "* length of trend. lenght of the preceding trend in number of candles. The valley before the continuation is not included in the count\n",
    "* previous swings. Number of swings from the entry and counting the rebound before the entry (see screenshot below)\n",
    "* space interswings. Comma separated numbers representing the number of candles between swings from the most recent to the oldest\n",
    "* length in pips. From the beginning of the trade to the entry price in number of pips\n",
    "strong trend\tTRUE of the preceding trend was strong\n",
    "* trend angle. Measured with Oanda after hitting the auto scale button+lock scalde button and the end of the trend line is the IC+1 when it touches the entry price\n",
    "* bounce length. Length in number of candles for each of the bounces (in the order from the most recent to the oldest)\n",
    "* bounce pips. Length from the horizontal line defined by IC until the highest point of the bounce (considering wicks also)\n",
    "* inn_bounce. Number of candles of the inner bounce (see screenshots below)\n",
    "indecission\tNumber of candles the price stays in S/R, without considering the bounce and only considering the candles pre/post bounce\n",
    "* retraced.\tOnly relevant for outcome=F, how many pips from the S/L the trade reversed?. If n.a., then it means that the trade did not reversed last time that the price was below/above this level assuming that a possible counter could happen\n",
    "* entry_aligned. Is the entry aligned with previous bounces on the same trend. TRUE or 1 if it is, FALSE or 0 if it is not\n",
    "* trend_bounces. Discrete quantitative variable representing the number of bounces at the trend"
   ]
  },
  {
   "cell_type": "markdown",
   "metadata": {},
   "source": [
    "## Dependencies"
   ]
  },
  {
   "cell_type": "code",
   "execution_count": 93,
   "metadata": {},
   "outputs": [],
   "source": [
    "import pandas as pd\n",
    "import numpy as np\n",
    "import pdb\n",
    "import re\n",
    "import math\n",
    "import seaborn as sns\n",
    "from pandas.plotting import scatter_matrix\n",
    "from sklearn.metrics import confusion_matrix,precision_score\n",
    "from sklearn.model_selection import train_test_split\n",
    "\n",
    "%matplotlib inline"
   ]
  },
  {
   "cell_type": "markdown",
   "metadata": {},
   "source": [
    "# Continuation trades\n",
    "\n",
    "First, let's create a function to read-in a .csv file containing the data andstore it in a dataframe:"
   ]
  },
  {
   "cell_type": "code",
   "execution_count": 94,
   "metadata": {},
   "outputs": [
    {
     "data": {
      "text/plain": [
       "(514, 31)"
      ]
     },
     "execution_count": 94,
     "metadata": {},
     "output_type": "execute_result"
    }
   ],
   "source": [
    "def read_tradedata(tradefile,sep,na_values):\n",
    "    '''\n",
    "    Parameters\n",
    "    ----------\n",
    "    tradefile : str, required\n",
    "                Path to file containing the trade data\n",
    "    sep : str, optionsl\n",
    "          Field separator used in the file. i.e. ',' (comma separated values), '\\t' (tab-separated values)\n",
    "    na_values : list, optional\n",
    "                Additional list of strings to recognize as NA/NaN. i.e. ['n.a.']\n",
    "    \n",
    "    Returns\n",
    "    -------\n",
    "    A Pandas dataframe\n",
    "    '''\n",
    "    DF=pd.read_csv(tradefile,sep=sep,na_values=na_values)\n",
    "    \n",
    "    return DF\n",
    "\n",
    "contDF=read_tradedata('/Users/ernesto/Downloads/Screenshot analysis - train_continuations.tsv',sep=\"\\t\",na_values=[\"n.a.\",\"n.a\"])\n",
    "\n",
    "contDF.shape"
   ]
  },
  {
   "cell_type": "markdown",
   "metadata": {},
   "source": [
    "And some information about contDF:"
   ]
  },
  {
   "cell_type": "code",
   "execution_count": 95,
   "metadata": {},
   "outputs": [
    {
     "name": "stdout",
     "output_type": "stream",
     "text": [
      "<class 'pandas.core.frame.DataFrame'>\n",
      "RangeIndex: 514 entries, 0 to 513\n",
      "Data columns (total 31 columns):\n",
      "id                         514 non-null object\n",
      "start                      514 non-null object\n",
      "type                       514 non-null object\n",
      "timeframe                  514 non-null object\n",
      "entry                      514 non-null float64\n",
      "outcome                    514 non-null object\n",
      "RSI bounces                514 non-null int64\n",
      "bounce length              392 non-null object\n",
      "bounce (pips)              514 non-null int64\n",
      "inn_bounce                 514 non-null int64\n",
      "indecission                514 non-null int64\n",
      "entry on RSI               514 non-null bool\n",
      "length of trend (-1)       514 non-null int64\n",
      "length in pips (-1)        514 non-null int64\n",
      "last time                  514 non-null object\n",
      "entry_aligned              514 non-null int64\n",
      "retraced                   123 non-null float64\n",
      "Candle +1 against trade    514 non-null object\n",
      "trend_bounces              513 non-null float64\n",
      "peak_bounces               72 non-null float64\n",
      "s_r_bounces                72 non-null float64\n",
      "is_sr_doubtful             106 non-null float64\n",
      "adx                        16 non-null float64\n",
      "congestion_onleft          4 non-null float64\n",
      "length of trend            250 non-null float64\n",
      "No of candles              115 non-null float64\n",
      "previous swings            145 non-null float64\n",
      "space interswings          145 non-null object\n",
      "trend angle                145 non-null float64\n",
      "stretches                  28 non-null object\n",
      "strong trend               288 non-null object\n",
      "dtypes: bool(1), float64(12), int64(7), object(11)\n",
      "memory usage: 121.0+ KB\n"
     ]
    }
   ],
   "source": [
    "contDF.info()"
   ]
  },
  {
   "cell_type": "markdown",
   "metadata": {},
   "source": [
    "* Conversion to right types<br>\n",
    "Let's convert now the `start` and `last time` variables to DateTime"
   ]
  },
  {
   "cell_type": "code",
   "execution_count": 96,
   "metadata": {},
   "outputs": [],
   "source": [
    "contDF['start']= pd.to_datetime(contDF['start'])\n",
    "contDF['last time']= pd.to_datetime(contDF['last time'])"
   ]
  },
  {
   "cell_type": "markdown",
   "metadata": {},
   "source": [
    "## Cleaning the n.a. values\n",
    "The following predictors have n.a. values and the strategy I will follow will depend on each case:"
   ]
  },
  {
   "cell_type": "markdown",
   "metadata": {},
   "source": [
    "* No of candles (will replace the n.a. by 0)"
   ]
  },
  {
   "cell_type": "code",
   "execution_count": 97,
   "metadata": {},
   "outputs": [],
   "source": [
    "if \"No of candles\" in contDF: contDF[\"No of candles\"].fillna(0, inplace=True)"
   ]
  },
  {
   "cell_type": "markdown",
   "metadata": {},
   "source": [
    "* Bounce length (will replace the n.a. by 0)"
   ]
  },
  {
   "cell_type": "code",
   "execution_count": 98,
   "metadata": {},
   "outputs": [],
   "source": [
    "contDF[\"bounce length\"].fillna(0, inplace=True)"
   ]
  },
  {
   "cell_type": "markdown",
   "metadata": {},
   "source": [
    "* Length of trend (-1) (will replace the n.a. by 0)"
   ]
  },
  {
   "cell_type": "code",
   "execution_count": 99,
   "metadata": {},
   "outputs": [],
   "source": [
    "contDF[\"length of trend (-1)\"].fillna(0, inplace=True)"
   ]
  },
  {
   "cell_type": "markdown",
   "metadata": {},
   "source": [
    "* Length in pips (-1) (will replace the n.a. by 0)"
   ]
  },
  {
   "cell_type": "code",
   "execution_count": 100,
   "metadata": {},
   "outputs": [],
   "source": [
    "contDF[\"length in pips (-1)\"].fillna(0, inplace=True)"
   ]
  },
  {
   "cell_type": "markdown",
   "metadata": {},
   "source": [
    "## Normalize\n",
    "Let's normalize all variables dealing with pips."
   ]
  },
  {
   "cell_type": "code",
   "execution_count": 101,
   "metadata": {},
   "outputs": [],
   "source": [
    "def normalize(x, variable_name):\n",
    "    '''\n",
    "    Function that will calculate the number of pips per hour\n",
    "    \n",
    "    Parameters\n",
    "    ----------\n",
    "    variable: str\n",
    "              Variable name that will be normalized\n",
    "    '''\n",
    "    \n",
    "    return round(x[variable_name]/48,2)\n",
    "    \n",
    "    if x['timeframe']=='2D':\n",
    "        return round(x[variable_name]/48,1)\n",
    "    elif x['timeframe']=='D':\n",
    "        return round(x[variable_name]/24,1)\n",
    "    elif x['timeframe']=='H12':\n",
    "        return round(x[variable_name]/12,1)\n",
    "    elif x['timeframe']=='H10':\n",
    "        return round(x[variable_name]/10,1)\n",
    "    elif x['timeframe']=='H8':\n",
    "        return round(x[variable_name]/8,1)\n",
    "    elif x['timeframe']=='H6':\n",
    "        return round(x[variable_name]/6,1)\n",
    "    else:\n",
    "        raise(\"Error\")\n",
    "    \n",
    "    "
   ]
  },
  {
   "cell_type": "code",
   "execution_count": 102,
   "metadata": {},
   "outputs": [],
   "source": [
    "contDF['norm_length_pips']=contDF.apply(normalize,axis=1, variable_name='length in pips (-1)')\n",
    "contDF['norm_bounce_pips']=contDF.apply(normalize,axis=1, variable_name='bounce (pips)')\n",
    "contDF['norm_retraced']=contDF.apply(normalize,axis=1, variable_name='retraced')"
   ]
  },
  {
   "cell_type": "markdown",
   "metadata": {},
   "source": [
    "## Transforming"
   ]
  },
  {
   "cell_type": "code",
   "execution_count": 103,
   "metadata": {},
   "outputs": [],
   "source": [
    "transl_dict={ \n",
    "        'S':1,\n",
    "        'F':0, \n",
    "        True:1, \n",
    "        False:0\n",
    "    }\n",
    "def digit_binary(x,transl_dict,name):\n",
    "    '''\n",
    "    This function will replace the values in categorical\n",
    "    binary variables by 1 and 0\n",
    "    \n",
    "    Parameters\n",
    "    ----------\n",
    "    transl_dict: dict\n",
    "                 Keys will be the old categorical names and Values\n",
    "                 will be 1 and 0. For example:\n",
    "                 transl_dict={ \n",
    "                            'S':1,\n",
    "                            'F':0, \n",
    "                            True:1, \n",
    "                            False:0\n",
    "                            }\n",
    "    name: str\n",
    "          Name of the column to modify\n",
    "        \n",
    "    Returns\n",
    "    -------\n",
    "    The new label for the categorical variable\n",
    "    '''\n",
    "    \n",
    "    return transl_dict[x[name]]\n",
    "\n",
    "if \"ext_outcome\" in contDF: contDF['ext_outcome']=contDF.apply(digit_binary,axis=1,transl_dict=transl_dict, name='ext_outcome')\n",
    "contDF['outcome']=contDF.apply(digit_binary,axis=1,transl_dict=transl_dict, name='outcome')\n",
    "contDF['entry on RSI']=contDF.apply(digit_binary,axis=1,transl_dict=transl_dict, name='entry on RSI')\n",
    "if \"strong_trend\" in contDF: contDF['strong trend']=contDF.apply(digit_binary,axis=1,transl_dict=transl_dict, name='strong trend')"
   ]
  },
  {
   "cell_type": "markdown",
   "metadata": {},
   "source": [
    "## Selecting the desired timeframe"
   ]
  },
  {
   "cell_type": "markdown",
   "metadata": {},
   "source": [
    "contDF=contDF[contDF.timeframe == 'H6']"
   ]
  },
  {
   "cell_type": "markdown",
   "metadata": {},
   "source": [
    "## Checking the redudant trades\n",
    "Let's sort the trades by date to check if there are reduntant trades:"
   ]
  },
  {
   "cell_type": "raw",
   "metadata": {},
   "source": [
    "sortedDF=contDF.sort_values(by='start')\n",
    "print(sortedDF)\n",
    "\n",
    "sortedDF.to_csv('/Users/ernesto/Downloads/sorted_contDF.tsv',sep='\\t')"
   ]
  },
  {
   "cell_type": "markdown",
   "metadata": {},
   "source": [
    "## Calculating extended outcome based on the norm_retraced variable\n",
    "Trades having retraced by less that a cut off number of pips will be considered Successful"
   ]
  },
  {
   "cell_type": "code",
   "execution_count": 104,
   "metadata": {},
   "outputs": [],
   "source": [
    "def calc_extoutcome(row,cutoff=20):\n",
    "    if not math.isnan(row['norm_retraced']):\n",
    "        if row['norm_retraced']<=cutoff:\n",
    "            return int(1)\n",
    "        else:\n",
    "            return int(0)\n",
    "    else:\n",
    "        return int(row['outcome'])\n",
    "        \n",
    "            "
   ]
  },
  {
   "cell_type": "code",
   "execution_count": 105,
   "metadata": {},
   "outputs": [],
   "source": [
    "contDF['ext_outcome']=contDF.apply(calc_extoutcome,axis=1)"
   ]
  },
  {
   "cell_type": "markdown",
   "metadata": {},
   "source": [
    "## Selecting the trades having entry_aligned=1"
   ]
  },
  {
   "cell_type": "raw",
   "metadata": {},
   "source": [
    "contDF=contDF.loc[contDF['entry_aligned']==1]"
   ]
  },
  {
   "cell_type": "markdown",
   "metadata": {},
   "source": [
    "## Initial exploration of the data\n",
    "\n",
    "First things first, let's examine if we have a significant number of records per category of the dependent variable (outcome in this case), since it is really very important to have enough records to establish solid conclusions"
   ]
  },
  {
   "cell_type": "markdown",
   "metadata": {},
   "source": [
    "outcome_ix=5\n",
    "outcome_lab=\"outcome\"\n",
    "contDF.iloc[:,outcome_ix].value_counts()"
   ]
  },
  {
   "cell_type": "code",
   "execution_count": 106,
   "metadata": {},
   "outputs": [
    {
     "data": {
      "text/plain": [
       "1    339\n",
       "0    175\n",
       "Name: ext_outcome, dtype: int64"
      ]
     },
     "execution_count": 106,
     "metadata": {},
     "output_type": "execute_result"
    }
   ],
   "source": [
    "outcome_ix=34\n",
    "outcome_lab=\"ext_outcome\"\n",
    "contDF.iloc[:,outcome_ix].value_counts()"
   ]
  },
  {
   "cell_type": "code",
   "execution_count": 107,
   "metadata": {},
   "outputs": [
    {
     "name": "stdout",
     "output_type": "stream",
     "text": [
      "Index(['id', 'start', 'type', 'timeframe', 'entry', 'outcome', 'RSI bounces',\n",
      "       'bounce length', 'bounce (pips)', 'inn_bounce', 'indecission',\n",
      "       'entry on RSI', 'length of trend (-1)', 'length in pips (-1)',\n",
      "       'last time', 'entry_aligned', 'retraced', 'Candle +1 against trade',\n",
      "       'trend_bounces', 'peak_bounces', 's_r_bounces', 'is_sr_doubtful', 'adx',\n",
      "       'congestion_onleft', 'length of trend', 'No of candles',\n",
      "       'previous swings', 'space interswings', 'trend angle', 'stretches',\n",
      "       'strong trend', 'norm_length_pips', 'norm_bounce_pips', 'norm_retraced',\n",
      "       'ext_outcome'],\n",
      "      dtype='object')\n"
     ]
    }
   ],
   "source": [
    "print(contDF.columns)"
   ]
  },
  {
   "cell_type": "markdown",
   "metadata": {},
   "source": [
    "### last time \n",
    "This datetime variable represents the last time the price was over/below the entry price level. The first to do is to create a new datetime variable representing the difference (in days) between the entry datetime (start column) and the last time datetime."
   ]
  },
  {
   "cell_type": "code",
   "execution_count": 108,
   "metadata": {},
   "outputs": [],
   "source": [
    "contDF['diff']=(contDF['start']-contDF['last time'])"
   ]
  },
  {
   "cell_type": "code",
   "execution_count": 109,
   "metadata": {},
   "outputs": [],
   "source": [
    "contDF['diff']=contDF['diff'].apply(lambda x: x.days)"
   ]
  },
  {
   "cell_type": "markdown",
   "metadata": {},
   "source": [
    "Now, let's examine the distribution of this newly created `diff` variable in the 2 `outcome` categories"
   ]
  },
  {
   "cell_type": "code",
   "execution_count": 110,
   "metadata": {},
   "outputs": [
    {
     "data": {
      "image/png": "[encoded data removed]",
      "text/plain": [
       "<matplotlib.figure.Figure at 0x119bd9400>"
      ]
     },
     "metadata": {},
     "output_type": "display_data"
    }
   ],
   "source": [
    "ax = sns.boxplot(x=outcome_lab, y=\"diff\", data=contDF)"
   ]
  },
  {
   "cell_type": "markdown",
   "metadata": {},
   "source": [
    "* Mean for each category"
   ]
  },
  {
   "cell_type": "code",
   "execution_count": 111,
   "metadata": {},
   "outputs": [
    {
     "data": {
      "text/html": [
       "<div>\n",
       "<style scoped>\n",
       "    .dataframe tbody tr th:only-of-type {\n",
       "        vertical-align: middle;\n",
       "    }\n",
       "\n",
       "    .dataframe tbody tr th {\n",
       "        vertical-align: top;\n",
       "    }\n",
       "\n",
       "    .dataframe thead th {\n",
       "        text-align: right;\n",
       "    }\n",
       "</style>\n",
       "<table border=\"1\" class=\"dataframe\">\n",
       "  <thead>\n",
       "    <tr style=\"text-align: right;\">\n",
       "      <th></th>\n",
       "      <th>diff</th>\n",
       "    </tr>\n",
       "    <tr>\n",
       "      <th>ext_outcome</th>\n",
       "      <th></th>\n",
       "    </tr>\n",
       "  </thead>\n",
       "  <tbody>\n",
       "    <tr>\n",
       "      <th>0</th>\n",
       "      <td>550.480000</td>\n",
       "    </tr>\n",
       "    <tr>\n",
       "      <th>1</th>\n",
       "      <td>557.112094</td>\n",
       "    </tr>\n",
       "  </tbody>\n",
       "</table>\n",
       "</div>"
      ],
      "text/plain": [
       "                   diff\n",
       "ext_outcome            \n",
       "0            550.480000\n",
       "1            557.112094"
      ]
     },
     "execution_count": 111,
     "metadata": {},
     "output_type": "execute_result"
    }
   ],
   "source": [
    "contDF.groupby(outcome_lab).agg({'diff': 'mean'})"
   ]
  },
  {
   "cell_type": "markdown",
   "metadata": {},
   "source": [
    "* Median for each category"
   ]
  },
  {
   "cell_type": "code",
   "execution_count": 112,
   "metadata": {},
   "outputs": [
    {
     "data": {
      "text/html": [
       "<div>\n",
       "<style scoped>\n",
       "    .dataframe tbody tr th:only-of-type {\n",
       "        vertical-align: middle;\n",
       "    }\n",
       "\n",
       "    .dataframe tbody tr th {\n",
       "        vertical-align: top;\n",
       "    }\n",
       "\n",
       "    .dataframe thead th {\n",
       "        text-align: right;\n",
       "    }\n",
       "</style>\n",
       "<table border=\"1\" class=\"dataframe\">\n",
       "  <thead>\n",
       "    <tr style=\"text-align: right;\">\n",
       "      <th></th>\n",
       "      <th>diff</th>\n",
       "    </tr>\n",
       "    <tr>\n",
       "      <th>ext_outcome</th>\n",
       "      <th></th>\n",
       "    </tr>\n",
       "  </thead>\n",
       "  <tbody>\n",
       "    <tr>\n",
       "      <th>0</th>\n",
       "      <td>364</td>\n",
       "    </tr>\n",
       "    <tr>\n",
       "      <th>1</th>\n",
       "      <td>371</td>\n",
       "    </tr>\n",
       "  </tbody>\n",
       "</table>\n",
       "</div>"
      ],
      "text/plain": [
       "             diff\n",
       "ext_outcome      \n",
       "0             364\n",
       "1             371"
      ]
     },
     "execution_count": 112,
     "metadata": {},
     "output_type": "execute_result"
    }
   ],
   "source": [
    "contDF.groupby(outcome_lab).agg({'diff': 'median'})"
   ]
  },
  {
   "cell_type": "markdown",
   "metadata": {},
   "source": [
    "* Histogram"
   ]
  },
  {
   "cell_type": "code",
   "execution_count": 113,
   "metadata": {},
   "outputs": [],
   "source": [
    "import matplotlib.pyplot as plt\n",
    "\n",
    "succ=contDF.loc[contDF[outcome_lab]==1]['diff']\n",
    "fail=contDF.loc[contDF[outcome_lab]==0]['diff']"
   ]
  },
  {
   "cell_type": "code",
   "execution_count": 114,
   "metadata": {},
   "outputs": [
    {
     "data": {
      "text/plain": [
       "<matplotlib.text.Text at 0x116211710>"
      ]
     },
     "execution_count": 114,
     "metadata": {},
     "output_type": "execute_result"
    },
    {
     "data": {
      "image/png": "[encoded data removed]",
      "text/plain": [
       "<matplotlib.figure.Figure at 0x119d17588>"
      ]
     },
     "metadata": {},
     "output_type": "display_data"
    }
   ],
   "source": [
    "plt.hist([fail,succ], bins = 10, normed=True, label=['0','1'])\n",
    "\n",
    "plt.legend()\n",
    "plt.xlabel('Diff')\n",
    "plt.ylabel('Normalized Freq')\n",
    "plt.title('Hist for Last time on the outcome')"
   ]
  },
  {
   "cell_type": "code",
   "execution_count": 115,
   "metadata": {},
   "outputs": [
    {
     "data": {
      "text/plain": [
       "<matplotlib.text.Text at 0x118a3f8d0>"
      ]
     },
     "execution_count": 115,
     "metadata": {},
     "output_type": "execute_result"
    },
    {
     "data": {
      "image/png": "[encoded data removed]",
      "text/plain": [
       "<matplotlib.figure.Figure at 0x11a3e4080>"
      ]
     },
     "metadata": {},
     "output_type": "display_data"
    }
   ],
   "source": [
    "plt.xlim(0,2000)\n",
    "\n",
    "plt.hist([fail,succ], bins = 20, normed=True, label=['0','1'])\n",
    "\n",
    "plt.legend()\n",
    "plt.xlabel('Diff')\n",
    "plt.ylabel('Normalized Freq')\n",
    "plt.title('Hist for Last time on the outcome')"
   ]
  },
  {
   "cell_type": "code",
   "execution_count": 116,
   "metadata": {},
   "outputs": [
    {
     "data": {
      "text/plain": [
       "<matplotlib.text.Text at 0x11609b208>"
      ]
     },
     "execution_count": 116,
     "metadata": {},
     "output_type": "execute_result"
    },
    {
     "data": {
      "image/png": "[encoded data removed]",
      "text/plain": [
       "<matplotlib.figure.Figure at 0x119c0e668>"
      ]
     },
     "metadata": {},
     "output_type": "display_data"
    }
   ],
   "source": [
    "plt.xlim(0,1250)\n",
    "\n",
    "plt.hist([fail,succ], bins = 30, normed=True, label=['0','1'])\n",
    "\n",
    "plt.legend()\n",
    "plt.xlabel('Diff')\n",
    "plt.ylabel('Normalized Freq')\n",
    "plt.title('Hist for Last time on the outcome')"
   ]
  },
  {
   "cell_type": "markdown",
   "metadata": {},
   "source": [
    "#### Binning data\n",
    "Let's bin the data into a certain number of categories"
   ]
  },
  {
   "cell_type": "code",
   "execution_count": 117,
   "metadata": {},
   "outputs": [],
   "source": [
    "max_v=max(contDF['diff'])\n",
    "\n",
    "custom_bins_array = np.arange(0, 4000, 150)\n",
    "\n",
    "contDF['diff_cat']=pd.cut(contDF['diff'], np.around(custom_bins_array))"
   ]
  },
  {
   "cell_type": "code",
   "execution_count": 118,
   "metadata": {},
   "outputs": [
    {
     "data": {
      "image/png": "[encoded data removed]",
      "text/plain": [
       "<matplotlib.figure.Figure at 0x118db2128>"
      ]
     },
     "metadata": {},
     "output_type": "display_data"
    }
   ],
   "source": [
    "contDF_counts = (contDF.groupby([outcome_lab])['diff_cat']\n",
    "                  .value_counts(normalize=True)\n",
    "                  .rename('percentage')\n",
    "                  .mul(100)\n",
    "                  .reset_index()\n",
    "                  .sort_values('diff_cat'))\n",
    "\n",
    "sns.set(rc={'figure.figsize':(25,4.27)})\n",
    "\n",
    "p = sns.barplot(x=\"diff_cat\", y=\"percentage\", hue=outcome_lab, data=contDF_counts)"
   ]
  },
  {
   "cell_type": "markdown",
   "metadata": {},
   "source": [
    "###  RSI bounces\n",
    "Let's examine if there is a correlation between the number of bounces and the outcome of the trade"
   ]
  },
  {
   "cell_type": "markdown",
   "metadata": {},
   "source": [
    "As an initial exploration I will create a boxplot displaying the data"
   ]
  },
  {
   "cell_type": "code",
   "execution_count": 119,
   "metadata": {},
   "outputs": [
    {
     "data": {
      "image/png": "[encoded data removed]",
      "text/plain": [
       "<matplotlib.figure.Figure at 0x118f2a278>"
      ]
     },
     "metadata": {},
     "output_type": "display_data"
    }
   ],
   "source": [
    "ax = sns.boxplot(x=outcome_lab, y=\"RSI bounces\", data=contDF)"
   ]
  },
  {
   "cell_type": "markdown",
   "metadata": {},
   "source": [
    "* Mean for each category"
   ]
  },
  {
   "cell_type": "code",
   "execution_count": 120,
   "metadata": {},
   "outputs": [
    {
     "data": {
      "text/html": [
       "<div>\n",
       "<style scoped>\n",
       "    .dataframe tbody tr th:only-of-type {\n",
       "        vertical-align: middle;\n",
       "    }\n",
       "\n",
       "    .dataframe tbody tr th {\n",
       "        vertical-align: top;\n",
       "    }\n",
       "\n",
       "    .dataframe thead th {\n",
       "        text-align: right;\n",
       "    }\n",
       "</style>\n",
       "<table border=\"1\" class=\"dataframe\">\n",
       "  <thead>\n",
       "    <tr style=\"text-align: right;\">\n",
       "      <th></th>\n",
       "      <th>RSI bounces</th>\n",
       "    </tr>\n",
       "    <tr>\n",
       "      <th>ext_outcome</th>\n",
       "      <th></th>\n",
       "    </tr>\n",
       "  </thead>\n",
       "  <tbody>\n",
       "    <tr>\n",
       "      <th>0</th>\n",
       "      <td>2.268571</td>\n",
       "    </tr>\n",
       "    <tr>\n",
       "      <th>1</th>\n",
       "      <td>1.814159</td>\n",
       "    </tr>\n",
       "  </tbody>\n",
       "</table>\n",
       "</div>"
      ],
      "text/plain": [
       "             RSI bounces\n",
       "ext_outcome             \n",
       "0               2.268571\n",
       "1               1.814159"
      ]
     },
     "execution_count": 120,
     "metadata": {},
     "output_type": "execute_result"
    }
   ],
   "source": [
    "contDF.groupby(outcome_lab).agg({'RSI bounces': 'mean'})"
   ]
  },
  {
   "cell_type": "markdown",
   "metadata": {},
   "source": [
    "* Median for each category"
   ]
  },
  {
   "cell_type": "code",
   "execution_count": 121,
   "metadata": {},
   "outputs": [
    {
     "name": "stdout",
     "output_type": "stream",
     "text": [
      "             RSI bounces\n",
      "ext_outcome             \n",
      "0                      2\n",
      "1                      1\n"
     ]
    }
   ],
   "source": [
    "medianBounce=contDF.groupby(outcome_lab).agg({'RSI bounces': 'median'})\n",
    "print(medianBounce)"
   ]
  },
  {
   "cell_type": "markdown",
   "metadata": {},
   "source": [
    "* Distribution of the number of bounces<br>\n",
    "For this particular task I will create a count plot in order to plot the RSI bounces for both the successful and the failed trades"
   ]
  },
  {
   "cell_type": "code",
   "execution_count": 122,
   "metadata": {},
   "outputs": [
    {
     "data": {
      "image/png": "[encoded data removed]",
      "text/plain": [
       "<matplotlib.figure.Figure at 0x11a4065f8>"
      ]
     },
     "metadata": {},
     "output_type": "display_data"
    }
   ],
   "source": [
    "ax = sns.countplot(x=\"RSI bounces\",hue=outcome_lab, data=contDF)"
   ]
  },
  {
   "cell_type": "markdown",
   "metadata": {},
   "source": [
    "Now, let's calculate the normalized number of bounces, as the 2 categories of the outcome variables are imbalanced"
   ]
  },
  {
   "cell_type": "code",
   "execution_count": 125,
   "metadata": {},
   "outputs": [
    {
     "data": {
      "image/png": "[encoded data removed]",
      "text/plain": [
       "<matplotlib.figure.Figure at 0x11a4306d8>"
      ]
     },
     "metadata": {},
     "output_type": "display_data"
    }
   ],
   "source": [
    "contDF_counts = (contDF.groupby([outcome_lab])['RSI bounces']\n",
    "                  .value_counts(normalize=True)\n",
    "                  .rename('percentage')\n",
    "                  .mul(100)\n",
    "                  .reset_index()\n",
    "                  .sort_values('RSI bounces'))\n",
    "\n",
    "sns.set(rc={'figure.figsize':(25,9.27)})\n",
    "\n",
    "p = sns.barplot(x=\"RSI bounces\", y=\"percentage\", hue=outcome_lab, data=contDF_counts)"
   ]
  },
  {
   "cell_type": "markdown",
   "metadata": {},
   "source": [
    "* Histogram"
   ]
  },
  {
   "cell_type": "code",
   "execution_count": 126,
   "metadata": {},
   "outputs": [],
   "source": [
    "import matplotlib.pyplot as plt\n",
    "\n",
    "succ=contDF.loc[contDF[outcome_lab]==1]['RSI bounces']\n",
    "fail=contDF.loc[contDF[outcome_lab]==0]['RSI bounces']"
   ]
  },
  {
   "cell_type": "code",
   "execution_count": 127,
   "metadata": {},
   "outputs": [
    {
     "data": {
      "text/plain": [
       "<matplotlib.text.Text at 0x112aeee80>"
      ]
     },
     "execution_count": 127,
     "metadata": {},
     "output_type": "execute_result"
    },
    {
     "data": {
      "image/png": "[encoded data removed]",
      "text/plain": [
       "<matplotlib.figure.Figure at 0x1160b4da0>"
      ]
     },
     "metadata": {},
     "output_type": "display_data"
    }
   ],
   "source": [
    "plt.hist([fail,succ], bins = 5, normed=True, label=['0','1'])\n",
    "\n",
    "plt.legend()\n",
    "plt.xlabel('RSI bounces')\n",
    "plt.ylabel('Normalized Freq')\n",
    "plt.title('Hist for RSI bounces on the outcome')"
   ]
  },
  {
   "cell_type": "markdown",
   "metadata": {},
   "source": [
    "* Conclusion<br>\n",
    "The ideal situation for having a S trade is to have either 1 or 2 bounces"
   ]
  },
  {
   "cell_type": "markdown",
   "metadata": {},
   "source": [
    "### No of candles\n",
    "This variable represents the number of candles since the beginning of the trade until the first RSI bounce. I am going compare the distribution of this variable depending on the `outcome` variable.<br>"
   ]
  },
  {
   "cell_type": "markdown",
   "metadata": {},
   "source": [
    "As an initial exploration I will create a boxplot displaying the data:"
   ]
  },
  {
   "cell_type": "code",
   "execution_count": 128,
   "metadata": {},
   "outputs": [
    {
     "data": {
      "image/png": "[encoded data removed]",
      "text/plain": [
       "<matplotlib.figure.Figure at 0x118c62b70>"
      ]
     },
     "metadata": {},
     "output_type": "display_data"
    }
   ],
   "source": [
    "if \"No of candles\" in contDF: ax = sns.boxplot(x=outcome_lab, y=\"No of candles\", data=contDF)"
   ]
  },
  {
   "cell_type": "markdown",
   "metadata": {},
   "source": [
    "* Mean for each category"
   ]
  },
  {
   "cell_type": "code",
   "execution_count": 129,
   "metadata": {},
   "outputs": [],
   "source": [
    "if \"No of candles\" in contDF: contDF.groupby(outcome_lab).agg({'No of candles': 'mean'})"
   ]
  },
  {
   "cell_type": "markdown",
   "metadata": {},
   "source": [
    "* Median for each category"
   ]
  },
  {
   "cell_type": "code",
   "execution_count": 130,
   "metadata": {},
   "outputs": [],
   "source": [
    "if \"No of candles\" in contDF: contDF.groupby(outcome_lab).agg({'No of candles': 'median'})"
   ]
  },
  {
   "cell_type": "markdown",
   "metadata": {},
   "source": [
    "Let's analyze the distribution with a histogram"
   ]
  },
  {
   "cell_type": "code",
   "execution_count": 131,
   "metadata": {},
   "outputs": [],
   "source": [
    "if \"No of candles\" in contDF: succ=contDF.loc[contDF[outcome_lab]==1]['No of candles']\n",
    "if \"No of candles\" in contDF: fail=contDF.loc[contDF[outcome_lab]==0]['No of candles']"
   ]
  },
  {
   "cell_type": "code",
   "execution_count": 132,
   "metadata": {},
   "outputs": [
    {
     "data": {
      "image/png": "[encoded data removed]",
      "text/plain": [
       "<matplotlib.figure.Figure at 0x1189e52b0>"
      ]
     },
     "metadata": {},
     "output_type": "display_data"
    }
   ],
   "source": [
    "if \"No of candles\" in contDF: plt.hist([fail,succ], bins = 10, normed=True, label=['0','1'])\n",
    "\n",
    "if \"No of candles\" in contDF: plt.legend()\n",
    "if \"No of candles\" in contDF: plt.xlabel('No of candles')\n",
    "if \"No of candles\" in contDF: plt.ylabel('Normalized Freq')\n",
    "if \"No of candles\" in contDF: plt.title('Hist for No of candles on the outcome')"
   ]
  },
  {
   "cell_type": "markdown",
   "metadata": {},
   "source": [
    "This distribution is right skewed, let's cap the X axis values:"
   ]
  },
  {
   "cell_type": "code",
   "execution_count": 133,
   "metadata": {},
   "outputs": [
    {
     "data": {
      "image/png": "[encoded data removed]",
      "text/plain": [
       "<matplotlib.figure.Figure at 0x118ae7b70>"
      ]
     },
     "metadata": {},
     "output_type": "display_data"
    }
   ],
   "source": [
    "if \"No of candles\" in contDF: plt.xlim(0,50)\n",
    "if \"No of candles\" in contDF: plt.hist([fail,succ], bins = 20, normed=True, label=['0','1'])\n",
    "\n",
    "if \"No of candles\" in contDF: plt.legend()\n",
    "if \"No of candles\" in contDF: plt.xlabel('No of candles (<=50)')\n",
    "if \"No of candles\" in contDF: plt.ylabel('Normalized Freq')\n",
    "if \"No of candles\" in contDF: plt.title('Hist for No of candles on the outcome')"
   ]
  },
  {
   "cell_type": "markdown",
   "metadata": {},
   "source": [
    "### entry on RSI\n",
    "This boolean variable will be True if the entry of the trade is in oversold/overbought RSI\n",
    "Firs, let's see the counts for each category of the variable"
   ]
  },
  {
   "cell_type": "code",
   "execution_count": 134,
   "metadata": {},
   "outputs": [
    {
     "data": {
      "text/plain": [
       "0    394\n",
       "1    120\n",
       "Name: entry on RSI, dtype: int64"
      ]
     },
     "execution_count": 134,
     "metadata": {},
     "output_type": "execute_result"
    }
   ],
   "source": [
    "contDF['entry on RSI'].value_counts()"
   ]
  },
  {
   "cell_type": "markdown",
   "metadata": {},
   "source": [
    "Let's compare the proportions for this variable between the 2 categories of the `outcome` variable"
   ]
  },
  {
   "cell_type": "code",
   "execution_count": 135,
   "metadata": {},
   "outputs": [
    {
     "name": "stdout",
     "output_type": "stream",
     "text": [
      "entry on RSI    0    1  All\n",
      "ext_outcome                \n",
      "0             149   26  175\n",
      "1             245   94  339\n",
      "All           394  120  514\n"
     ]
    }
   ],
   "source": [
    "div_class=pd.crosstab(contDF.iloc[:,outcome_ix], contDF['entry on RSI'],margins=True)\n",
    "print(div_class)"
   ]
  },
  {
   "cell_type": "markdown",
   "metadata": {},
   "source": [
    "It's is easier to visualize the relationship if we calculate the percentages:"
   ]
  },
  {
   "cell_type": "code",
   "execution_count": 136,
   "metadata": {},
   "outputs": [
    {
     "name": "stdout",
     "output_type": "stream",
     "text": [
      "entry on RSI           0           1         All\n",
      "ext_outcome                                     \n",
      "0              37.817259   21.666667   34.046693\n",
      "1              62.182741   78.333333   65.953307\n",
      "All           100.000000  100.000000  100.000000\n"
     ]
    }
   ],
   "source": [
    "prop=(div_class/div_class.loc[\"All\"])*100\n",
    "print(prop)"
   ]
  },
  {
   "cell_type": "markdown",
   "metadata": {},
   "source": [
    "### length of trend (-1)\n",
    "This quantitative discrete variable measures the length of the trade measured in term of the number of candles. Let's start comparing the distribution of this variable for the different categories of the `outcome` variable"
   ]
  },
  {
   "cell_type": "code",
   "execution_count": 137,
   "metadata": {},
   "outputs": [
    {
     "data": {
      "image/png": "[encoded data removed]",
      "text/plain": [
       "<matplotlib.figure.Figure at 0x1192f06d8>"
      ]
     },
     "metadata": {},
     "output_type": "display_data"
    }
   ],
   "source": [
    "ax = sns.boxplot(x=outcome_lab, y=\"length of trend (-1)\", data=contDF)"
   ]
  },
  {
   "cell_type": "markdown",
   "metadata": {},
   "source": [
    "Let's analyze the distribution with a histogram"
   ]
  },
  {
   "cell_type": "code",
   "execution_count": 138,
   "metadata": {},
   "outputs": [],
   "source": [
    "succ=contDF.loc[contDF[outcome_lab]==1]['length of trend (-1)']\n",
    "fail=contDF.loc[contDF[outcome_lab]==0]['length of trend (-1)']"
   ]
  },
  {
   "cell_type": "code",
   "execution_count": 139,
   "metadata": {},
   "outputs": [
    {
     "data": {
      "text/plain": [
       "<matplotlib.text.Text at 0x119030438>"
      ]
     },
     "execution_count": 139,
     "metadata": {},
     "output_type": "execute_result"
    },
    {
     "data": {
      "image/png": "[encoded data removed]",
      "text/plain": [
       "<matplotlib.figure.Figure at 0x1189bd898>"
      ]
     },
     "metadata": {},
     "output_type": "display_data"
    }
   ],
   "source": [
    "plt.hist([fail,succ], bins = 10, normed=True, label=['0','1'])\n",
    "\n",
    "plt.legend()\n",
    "plt.xlabel('length of trend')\n",
    "plt.ylabel('Normalized Freq')\n",
    "plt.title('Hist for Length of the trend depending on the outcome')"
   ]
  },
  {
   "cell_type": "markdown",
   "metadata": {},
   "source": [
    "This distribution is right skewed, let's cap the X axis values:"
   ]
  },
  {
   "cell_type": "code",
   "execution_count": 140,
   "metadata": {},
   "outputs": [
    {
     "data": {
      "text/plain": [
       "<matplotlib.text.Text at 0x118d06710>"
      ]
     },
     "execution_count": 140,
     "metadata": {},
     "output_type": "execute_result"
    },
    {
     "data": {
      "image/png": "[encoded data removed]",
      "text/plain": [
       "<matplotlib.figure.Figure at 0x118c32cf8>"
      ]
     },
     "metadata": {},
     "output_type": "display_data"
    }
   ],
   "source": [
    "plt.xlim(0,150)\n",
    "plt.hist([fail,succ], bins = 20, normed=True, label=['0','1'])\n",
    "\n",
    "plt.legend()\n",
    "plt.xlabel('length of trend (<=100)')\n",
    "plt.ylabel('Normalized Freq')\n",
    "plt.title('Hist for Length of the trend depending on the outcome')"
   ]
  },
  {
   "cell_type": "markdown",
   "metadata": {},
   "source": [
    "* Mean for each category"
   ]
  },
  {
   "cell_type": "code",
   "execution_count": 141,
   "metadata": {},
   "outputs": [
    {
     "data": {
      "text/html": [
       "<div>\n",
       "<style scoped>\n",
       "    .dataframe tbody tr th:only-of-type {\n",
       "        vertical-align: middle;\n",
       "    }\n",
       "\n",
       "    .dataframe tbody tr th {\n",
       "        vertical-align: top;\n",
       "    }\n",
       "\n",
       "    .dataframe thead th {\n",
       "        text-align: right;\n",
       "    }\n",
       "</style>\n",
       "<table border=\"1\" class=\"dataframe\">\n",
       "  <thead>\n",
       "    <tr style=\"text-align: right;\">\n",
       "      <th></th>\n",
       "      <th>length of trend (-1)</th>\n",
       "    </tr>\n",
       "    <tr>\n",
       "      <th>ext_outcome</th>\n",
       "      <th></th>\n",
       "    </tr>\n",
       "  </thead>\n",
       "  <tbody>\n",
       "    <tr>\n",
       "      <th>0</th>\n",
       "      <td>49.325714</td>\n",
       "    </tr>\n",
       "    <tr>\n",
       "      <th>1</th>\n",
       "      <td>42.115044</td>\n",
       "    </tr>\n",
       "  </tbody>\n",
       "</table>\n",
       "</div>"
      ],
      "text/plain": [
       "             length of trend (-1)\n",
       "ext_outcome                      \n",
       "0                       49.325714\n",
       "1                       42.115044"
      ]
     },
     "execution_count": 141,
     "metadata": {},
     "output_type": "execute_result"
    }
   ],
   "source": [
    "contDF.groupby(outcome_lab).agg({'length of trend (-1)': 'mean'})"
   ]
  },
  {
   "cell_type": "markdown",
   "metadata": {},
   "source": [
    "* Median for each category"
   ]
  },
  {
   "cell_type": "code",
   "execution_count": 142,
   "metadata": {},
   "outputs": [
    {
     "data": {
      "text/html": [
       "<div>\n",
       "<style scoped>\n",
       "    .dataframe tbody tr th:only-of-type {\n",
       "        vertical-align: middle;\n",
       "    }\n",
       "\n",
       "    .dataframe tbody tr th {\n",
       "        vertical-align: top;\n",
       "    }\n",
       "\n",
       "    .dataframe thead th {\n",
       "        text-align: right;\n",
       "    }\n",
       "</style>\n",
       "<table border=\"1\" class=\"dataframe\">\n",
       "  <thead>\n",
       "    <tr style=\"text-align: right;\">\n",
       "      <th></th>\n",
       "      <th>length of trend (-1)</th>\n",
       "    </tr>\n",
       "    <tr>\n",
       "      <th>ext_outcome</th>\n",
       "      <th></th>\n",
       "    </tr>\n",
       "  </thead>\n",
       "  <tbody>\n",
       "    <tr>\n",
       "      <th>0</th>\n",
       "      <td>34</td>\n",
       "    </tr>\n",
       "    <tr>\n",
       "      <th>1</th>\n",
       "      <td>29</td>\n",
       "    </tr>\n",
       "  </tbody>\n",
       "</table>\n",
       "</div>"
      ],
      "text/plain": [
       "             length of trend (-1)\n",
       "ext_outcome                      \n",
       "0                              34\n",
       "1                              29"
      ]
     },
     "execution_count": 142,
     "metadata": {},
     "output_type": "execute_result"
    }
   ],
   "source": [
    "contDF.groupby(outcome_lab).agg({'length of trend (-1)': 'median'})"
   ]
  },
  {
   "cell_type": "markdown",
   "metadata": {},
   "source": [
    "#### Binning data"
   ]
  },
  {
   "cell_type": "code",
   "execution_count": 148,
   "metadata": {},
   "outputs": [
    {
     "name": "stdout",
     "output_type": "stream",
     "text": [
      "[  0  20  40  60  80 100 120 140 160 180 200 220 240 260 280 300 320]\n"
     ]
    }
   ],
   "source": [
    "max_v=max(contDF['length of trend (-1)'])\n",
    "\n",
    "custom_bins_array = np.arange(0, max_v, 20)\n",
    "\n",
    "contDF['length_cat']=pd.cut(contDF['length of trend (-1)'], np.around(custom_bins_array))\n",
    "print(custom_bins_array)"
   ]
  },
  {
   "cell_type": "code",
   "execution_count": 149,
   "metadata": {},
   "outputs": [
    {
     "data": {
      "image/png": "[encoded data removed]",
      "text/plain": [
       "<matplotlib.figure.Figure at 0x118d02128>"
      ]
     },
     "metadata": {},
     "output_type": "display_data"
    }
   ],
   "source": [
    "contDF_counts = (contDF.groupby([outcome_lab])['length_cat']\n",
    "                  .value_counts(normalize=True)\n",
    "                  .rename('percentage')\n",
    "                  .mul(100)\n",
    "                  .reset_index()\n",
    "                  .sort_values('length_cat'))\n",
    "\n",
    "sns.set(rc={'figure.figsize':(25,4.27)})\n",
    "\n",
    "p = sns.barplot(x=\"length_cat\", y=\"percentage\", hue=outcome_lab, data=contDF_counts)"
   ]
  },
  {
   "cell_type": "markdown",
   "metadata": {},
   "source": [
    "### length_bounce_perc\n",
    "This variable represents what % of the total length of the trend represents the inn_bounce"
   ]
  },
  {
   "cell_type": "code",
   "execution_count": 323,
   "metadata": {},
   "outputs": [],
   "source": [
    "contDF['length_bounce_perc']=contDF['inn_bounce'].astype(int)*100/contDF['length of trend (-1)'].astype(int)"
   ]
  },
  {
   "cell_type": "code",
   "execution_count": 324,
   "metadata": {},
   "outputs": [
    {
     "data": {
      "image/png": "[encoded data removed]",
      "text/plain": [
       "<matplotlib.figure.Figure at 0x120499f98>"
      ]
     },
     "metadata": {},
     "output_type": "display_data"
    }
   ],
   "source": [
    "ax = sns.boxplot(x=outcome_lab, y=\"length_bounce_perc\", data=contDF)"
   ]
  },
  {
   "cell_type": "markdown",
   "metadata": {},
   "source": [
    "* Mean for each category"
   ]
  },
  {
   "cell_type": "code",
   "execution_count": 325,
   "metadata": {},
   "outputs": [
    {
     "data": {
      "text/html": [
       "<div>\n",
       "<style scoped>\n",
       "    .dataframe tbody tr th:only-of-type {\n",
       "        vertical-align: middle;\n",
       "    }\n",
       "\n",
       "    .dataframe tbody tr th {\n",
       "        vertical-align: top;\n",
       "    }\n",
       "\n",
       "    .dataframe thead th {\n",
       "        text-align: right;\n",
       "    }\n",
       "</style>\n",
       "<table border=\"1\" class=\"dataframe\">\n",
       "  <thead>\n",
       "    <tr style=\"text-align: right;\">\n",
       "      <th></th>\n",
       "      <th>length_bounce_perc</th>\n",
       "    </tr>\n",
       "    <tr>\n",
       "      <th>ext_outcome</th>\n",
       "      <th></th>\n",
       "    </tr>\n",
       "  </thead>\n",
       "  <tbody>\n",
       "    <tr>\n",
       "      <th>0</th>\n",
       "      <td>33.792686</td>\n",
       "    </tr>\n",
       "    <tr>\n",
       "      <th>1</th>\n",
       "      <td>37.491882</td>\n",
       "    </tr>\n",
       "  </tbody>\n",
       "</table>\n",
       "</div>"
      ],
      "text/plain": [
       "             length_bounce_perc\n",
       "ext_outcome                    \n",
       "0                     33.792686\n",
       "1                     37.491882"
      ]
     },
     "execution_count": 325,
     "metadata": {},
     "output_type": "execute_result"
    }
   ],
   "source": [
    "contDF.groupby(outcome_lab).agg({'length_bounce_perc': 'mean'})"
   ]
  },
  {
   "cell_type": "markdown",
   "metadata": {},
   "source": [
    "* Median for each category"
   ]
  },
  {
   "cell_type": "code",
   "execution_count": 326,
   "metadata": {},
   "outputs": [
    {
     "data": {
      "text/html": [
       "<div>\n",
       "<style scoped>\n",
       "    .dataframe tbody tr th:only-of-type {\n",
       "        vertical-align: middle;\n",
       "    }\n",
       "\n",
       "    .dataframe tbody tr th {\n",
       "        vertical-align: top;\n",
       "    }\n",
       "\n",
       "    .dataframe thead th {\n",
       "        text-align: right;\n",
       "    }\n",
       "</style>\n",
       "<table border=\"1\" class=\"dataframe\">\n",
       "  <thead>\n",
       "    <tr style=\"text-align: right;\">\n",
       "      <th></th>\n",
       "      <th>length_bounce_perc</th>\n",
       "    </tr>\n",
       "    <tr>\n",
       "      <th>ext_outcome</th>\n",
       "      <th></th>\n",
       "    </tr>\n",
       "  </thead>\n",
       "  <tbody>\n",
       "    <tr>\n",
       "      <th>0</th>\n",
       "      <td>30.000000</td>\n",
       "    </tr>\n",
       "    <tr>\n",
       "      <th>1</th>\n",
       "      <td>34.846939</td>\n",
       "    </tr>\n",
       "  </tbody>\n",
       "</table>\n",
       "</div>"
      ],
      "text/plain": [
       "             length_bounce_perc\n",
       "ext_outcome                    \n",
       "0                     30.000000\n",
       "1                     34.846939"
      ]
     },
     "execution_count": 326,
     "metadata": {},
     "output_type": "execute_result"
    }
   ],
   "source": [
    "contDF.groupby(outcome_lab).agg({'length_bounce_perc': 'median'})"
   ]
  },
  {
   "cell_type": "markdown",
   "metadata": {},
   "source": [
    "Let's analyze the distribution with a histogram"
   ]
  },
  {
   "cell_type": "code",
   "execution_count": 327,
   "metadata": {},
   "outputs": [],
   "source": [
    "succ=contDF.loc[contDF[outcome_lab]==1]['length_bounce_perc']\n",
    "fail=contDF.loc[contDF[outcome_lab]==0]['length_bounce_perc']"
   ]
  },
  {
   "cell_type": "code",
   "execution_count": 328,
   "metadata": {},
   "outputs": [
    {
     "data": {
      "text/plain": [
       "<matplotlib.text.Text at 0x122af48d0>"
      ]
     },
     "execution_count": 328,
     "metadata": {},
     "output_type": "execute_result"
    },
    {
     "data": {
      "image/png": "[encoded data removed]",
      "text/plain": [
       "<matplotlib.figure.Figure at 0x122a2fef0>"
      ]
     },
     "metadata": {},
     "output_type": "display_data"
    }
   ],
   "source": [
    "plt.hist([fail,succ], bins = 10, normed=True, label=['0','1'])\n",
    "\n",
    "plt.legend()\n",
    "plt.xlabel('length_bounce_perc')\n",
    "plt.ylabel('Normalized Freq')\n",
    "plt.title('Hist for length_bounce_perc on the outcome')"
   ]
  },
  {
   "cell_type": "code",
   "execution_count": 329,
   "metadata": {},
   "outputs": [
    {
     "data": {
      "text/plain": [
       "<matplotlib.text.Text at 0x1204b3278>"
      ]
     },
     "execution_count": 329,
     "metadata": {},
     "output_type": "execute_result"
    },
    {
     "data": {
      "image/png": "[encoded data removed]",
      "text/plain": [
       "<matplotlib.figure.Figure at 0x1226965c0>"
      ]
     },
     "metadata": {},
     "output_type": "display_data"
    }
   ],
   "source": [
    "plt.xlim(0,30)\n",
    "\n",
    "plt.hist([fail,succ], bins = 15, normed=True, label=['0','1'])\n",
    "\n",
    "plt.legend()\n",
    "plt.xlabel('length_bounce_ratio')\n",
    "plt.ylabel('Normalized Freq')\n",
    "plt.title('Hist for length_bounce_ratio on the outcome')"
   ]
  },
  {
   "cell_type": "markdown",
   "metadata": {},
   "source": [
    "### Length in pips"
   ]
  },
  {
   "cell_type": "code",
   "execution_count": 330,
   "metadata": {},
   "outputs": [
    {
     "data": {
      "image/png": "[encoded data removed]",
      "text/plain": [
       "<matplotlib.figure.Figure at 0x12121def0>"
      ]
     },
     "metadata": {},
     "output_type": "display_data"
    }
   ],
   "source": [
    "ax = sns.boxplot(x=outcome_lab, y=\"length in pips (-1)\", data=contDF)"
   ]
  },
  {
   "cell_type": "markdown",
   "metadata": {},
   "source": [
    "Let's analyze the distribution with a histogram"
   ]
  },
  {
   "cell_type": "code",
   "execution_count": 331,
   "metadata": {},
   "outputs": [],
   "source": [
    "succ=contDF.loc[contDF[outcome_lab]==1]['length in pips (-1)']\n",
    "fail=contDF.loc[contDF[outcome_lab]==0]['length in pips (-1)']"
   ]
  },
  {
   "cell_type": "code",
   "execution_count": 332,
   "metadata": {},
   "outputs": [
    {
     "data": {
      "text/plain": [
       "<matplotlib.text.Text at 0x11f41add8>"
      ]
     },
     "execution_count": 332,
     "metadata": {},
     "output_type": "execute_result"
    },
    {
     "data": {
      "image/png": "[encoded data removed]",
      "text/plain": [
       "<matplotlib.figure.Figure at 0x1219aca20>"
      ]
     },
     "metadata": {},
     "output_type": "display_data"
    }
   ],
   "source": [
    "plt.hist([fail,succ], bins = 10, normed=True, label=['0','1'])\n",
    "\n",
    "plt.legend()\n",
    "plt.xlabel('length in pips (-1)')\n",
    "plt.ylabel('Normalized Freq')\n",
    "plt.title('Hist for Length of the trend in pips depending on the outcome')"
   ]
  },
  {
   "cell_type": "markdown",
   "metadata": {},
   "source": [
    "This distribution is right skewed, let's cap the X axis values:"
   ]
  },
  {
   "cell_type": "code",
   "execution_count": 333,
   "metadata": {},
   "outputs": [
    {
     "data": {
      "text/plain": [
       "<matplotlib.text.Text at 0x121030080>"
      ]
     },
     "execution_count": 333,
     "metadata": {},
     "output_type": "execute_result"
    },
    {
     "data": {
      "image/png": "[encoded data removed]",
      "text/plain": [
       "<matplotlib.figure.Figure at 0x121091dd8>"
      ]
     },
     "metadata": {},
     "output_type": "display_data"
    }
   ],
   "source": [
    "plt.xlim(0,2000)\n",
    "plt.hist([fail,succ], bins = 50, normed=True, label=['0','1'])\n",
    "\n",
    "plt.legend()\n",
    "plt.xlabel('length of the trend in pips (<=100)')\n",
    "plt.ylabel('Normalized Freq')\n",
    "plt.title('Hist for Length of the trend in pips depending on the outcome')"
   ]
  },
  {
   "cell_type": "markdown",
   "metadata": {},
   "source": [
    "* Mean for each category"
   ]
  },
  {
   "cell_type": "code",
   "execution_count": 334,
   "metadata": {},
   "outputs": [
    {
     "data": {
      "text/html": [
       "<div>\n",
       "<style scoped>\n",
       "    .dataframe tbody tr th:only-of-type {\n",
       "        vertical-align: middle;\n",
       "    }\n",
       "\n",
       "    .dataframe tbody tr th {\n",
       "        vertical-align: top;\n",
       "    }\n",
       "\n",
       "    .dataframe thead th {\n",
       "        text-align: right;\n",
       "    }\n",
       "</style>\n",
       "<table border=\"1\" class=\"dataframe\">\n",
       "  <thead>\n",
       "    <tr style=\"text-align: right;\">\n",
       "      <th></th>\n",
       "      <th>length in pips (-1)</th>\n",
       "    </tr>\n",
       "    <tr>\n",
       "      <th>ext_outcome</th>\n",
       "      <th></th>\n",
       "    </tr>\n",
       "  </thead>\n",
       "  <tbody>\n",
       "    <tr>\n",
       "      <th>0</th>\n",
       "      <td>4600.285714</td>\n",
       "    </tr>\n",
       "    <tr>\n",
       "      <th>1</th>\n",
       "      <td>5779.954545</td>\n",
       "    </tr>\n",
       "  </tbody>\n",
       "</table>\n",
       "</div>"
      ],
      "text/plain": [
       "             length in pips (-1)\n",
       "ext_outcome                     \n",
       "0                    4600.285714\n",
       "1                    5779.954545"
      ]
     },
     "execution_count": 334,
     "metadata": {},
     "output_type": "execute_result"
    }
   ],
   "source": [
    "contDF.groupby(outcome_lab).agg({'length in pips (-1)': 'mean'})"
   ]
  },
  {
   "cell_type": "markdown",
   "metadata": {},
   "source": [
    "* Median for each category"
   ]
  },
  {
   "cell_type": "code",
   "execution_count": 335,
   "metadata": {},
   "outputs": [
    {
     "data": {
      "text/html": [
       "<div>\n",
       "<style scoped>\n",
       "    .dataframe tbody tr th:only-of-type {\n",
       "        vertical-align: middle;\n",
       "    }\n",
       "\n",
       "    .dataframe tbody tr th {\n",
       "        vertical-align: top;\n",
       "    }\n",
       "\n",
       "    .dataframe thead th {\n",
       "        text-align: right;\n",
       "    }\n",
       "</style>\n",
       "<table border=\"1\" class=\"dataframe\">\n",
       "  <thead>\n",
       "    <tr style=\"text-align: right;\">\n",
       "      <th></th>\n",
       "      <th>length in pips (-1)</th>\n",
       "    </tr>\n",
       "    <tr>\n",
       "      <th>ext_outcome</th>\n",
       "      <th></th>\n",
       "    </tr>\n",
       "  </thead>\n",
       "  <tbody>\n",
       "    <tr>\n",
       "      <th>0</th>\n",
       "      <td>3884</td>\n",
       "    </tr>\n",
       "    <tr>\n",
       "      <th>1</th>\n",
       "      <td>5367</td>\n",
       "    </tr>\n",
       "  </tbody>\n",
       "</table>\n",
       "</div>"
      ],
      "text/plain": [
       "             length in pips (-1)\n",
       "ext_outcome                     \n",
       "0                           3884\n",
       "1                           5367"
      ]
     },
     "execution_count": 335,
     "metadata": {},
     "output_type": "execute_result"
    }
   ],
   "source": [
    "contDF.groupby(outcome_lab).agg({'length in pips (-1)': 'median'})"
   ]
  },
  {
   "cell_type": "markdown",
   "metadata": {},
   "source": [
    "### Pips_ratio\n",
    "This variable contains the ratio between 'length in pips'/'length of trend (-1)'"
   ]
  },
  {
   "cell_type": "code",
   "execution_count": 336,
   "metadata": {},
   "outputs": [],
   "source": [
    "contDF['pips_ratio']=contDF['length in pips (-1)'].astype(int)/contDF['length of trend (-1)'].astype(int)"
   ]
  },
  {
   "cell_type": "code",
   "execution_count": 337,
   "metadata": {},
   "outputs": [
    {
     "data": {
      "image/png": "[encoded data removed]",
      "text/plain": [
       "<matplotlib.figure.Figure at 0x122665470>"
      ]
     },
     "metadata": {},
     "output_type": "display_data"
    }
   ],
   "source": [
    "ax = sns.boxplot(x=outcome_lab, y=\"pips_ratio\", data=contDF)"
   ]
  },
  {
   "cell_type": "markdown",
   "metadata": {},
   "source": [
    "* Mean for each category"
   ]
  },
  {
   "cell_type": "code",
   "execution_count": 338,
   "metadata": {},
   "outputs": [
    {
     "data": {
      "text/html": [
       "<div>\n",
       "<style scoped>\n",
       "    .dataframe tbody tr th:only-of-type {\n",
       "        vertical-align: middle;\n",
       "    }\n",
       "\n",
       "    .dataframe tbody tr th {\n",
       "        vertical-align: top;\n",
       "    }\n",
       "\n",
       "    .dataframe thead th {\n",
       "        text-align: right;\n",
       "    }\n",
       "</style>\n",
       "<table border=\"1\" class=\"dataframe\">\n",
       "  <thead>\n",
       "    <tr style=\"text-align: right;\">\n",
       "      <th></th>\n",
       "      <th>pips_ratio</th>\n",
       "    </tr>\n",
       "    <tr>\n",
       "      <th>ext_outcome</th>\n",
       "      <th></th>\n",
       "    </tr>\n",
       "  </thead>\n",
       "  <tbody>\n",
       "    <tr>\n",
       "      <th>0</th>\n",
       "      <td>210.913200</td>\n",
       "    </tr>\n",
       "    <tr>\n",
       "      <th>1</th>\n",
       "      <td>241.254188</td>\n",
       "    </tr>\n",
       "  </tbody>\n",
       "</table>\n",
       "</div>"
      ],
      "text/plain": [
       "             pips_ratio\n",
       "ext_outcome            \n",
       "0            210.913200\n",
       "1            241.254188"
      ]
     },
     "execution_count": 338,
     "metadata": {},
     "output_type": "execute_result"
    }
   ],
   "source": [
    "contDF.groupby(outcome_lab).agg({'pips_ratio': 'mean'})"
   ]
  },
  {
   "cell_type": "markdown",
   "metadata": {},
   "source": [
    "* Median for each category"
   ]
  },
  {
   "cell_type": "code",
   "execution_count": 339,
   "metadata": {},
   "outputs": [
    {
     "data": {
      "text/html": [
       "<div>\n",
       "<style scoped>\n",
       "    .dataframe tbody tr th:only-of-type {\n",
       "        vertical-align: middle;\n",
       "    }\n",
       "\n",
       "    .dataframe tbody tr th {\n",
       "        vertical-align: top;\n",
       "    }\n",
       "\n",
       "    .dataframe thead th {\n",
       "        text-align: right;\n",
       "    }\n",
       "</style>\n",
       "<table border=\"1\" class=\"dataframe\">\n",
       "  <thead>\n",
       "    <tr style=\"text-align: right;\">\n",
       "      <th></th>\n",
       "      <th>pips_ratio</th>\n",
       "    </tr>\n",
       "    <tr>\n",
       "      <th>ext_outcome</th>\n",
       "      <th></th>\n",
       "    </tr>\n",
       "  </thead>\n",
       "  <tbody>\n",
       "    <tr>\n",
       "      <th>0</th>\n",
       "      <td>126.388889</td>\n",
       "    </tr>\n",
       "    <tr>\n",
       "      <th>1</th>\n",
       "      <td>163.588346</td>\n",
       "    </tr>\n",
       "  </tbody>\n",
       "</table>\n",
       "</div>"
      ],
      "text/plain": [
       "             pips_ratio\n",
       "ext_outcome            \n",
       "0            126.388889\n",
       "1            163.588346"
      ]
     },
     "execution_count": 339,
     "metadata": {},
     "output_type": "execute_result"
    }
   ],
   "source": [
    "contDF.groupby(outcome_lab).agg({'pips_ratio': 'median'})"
   ]
  },
  {
   "cell_type": "markdown",
   "metadata": {},
   "source": [
    "Let's analyze the distribution with a histogram"
   ]
  },
  {
   "cell_type": "code",
   "execution_count": 340,
   "metadata": {},
   "outputs": [],
   "source": [
    "succ=contDF.loc[contDF[outcome_lab]==1]['pips_ratio']\n",
    "fail=contDF.loc[contDF[outcome_lab]==0]['pips_ratio']"
   ]
  },
  {
   "cell_type": "code",
   "execution_count": 341,
   "metadata": {},
   "outputs": [
    {
     "data": {
      "text/plain": [
       "<matplotlib.text.Text at 0x1222c1128>"
      ]
     },
     "execution_count": 341,
     "metadata": {},
     "output_type": "execute_result"
    },
    {
     "data": {
      "image/png": "[encoded data removed]",
      "text/plain": [
       "<matplotlib.figure.Figure at 0x12244c9b0>"
      ]
     },
     "metadata": {},
     "output_type": "display_data"
    }
   ],
   "source": [
    "plt.hist([fail,succ], bins = 10, normed=True, label=['0','1'])\n",
    "\n",
    "plt.legend()\n",
    "plt.xlabel('Pips ratio')\n",
    "plt.ylabel('Normalized Freq')\n",
    "plt.title('Hist for Pips ratio on the outcome')"
   ]
  },
  {
   "cell_type": "code",
   "execution_count": 342,
   "metadata": {},
   "outputs": [
    {
     "data": {
      "text/plain": [
       "<matplotlib.text.Text at 0x1204c2ac8>"
      ]
     },
     "execution_count": 342,
     "metadata": {},
     "output_type": "execute_result"
    },
    {
     "data": {
      "image/png": "[encoded data removed]",
      "text/plain": [
       "<matplotlib.figure.Figure at 0x1224d8208>"
      ]
     },
     "metadata": {},
     "output_type": "display_data"
    }
   ],
   "source": [
    "plt.xlim(0,500)\n",
    "\n",
    "plt.hist([fail,succ], bins = 15, normed=True, label=['0','1'])\n",
    "\n",
    "plt.legend()\n",
    "plt.xlabel('Pips ratio')\n",
    "plt.ylabel('Normalized Freq')\n",
    "plt.title('Hist for Pips ratio on the outcome')"
   ]
  },
  {
   "cell_type": "markdown",
   "metadata": {},
   "source": [
    "### Pips_ratio normalized"
   ]
  },
  {
   "cell_type": "code",
   "execution_count": 343,
   "metadata": {},
   "outputs": [],
   "source": [
    "contDF['pips_ratio_norm']=contDF['norm_length_pips'].astype(int)/contDF['length of trend (-1)'].astype(int)"
   ]
  },
  {
   "cell_type": "code",
   "execution_count": 344,
   "metadata": {},
   "outputs": [
    {
     "data": {
      "image/png": "[encoded data removed]",
      "text/plain": [
       "<matplotlib.figure.Figure at 0x120ff2518>"
      ]
     },
     "metadata": {},
     "output_type": "display_data"
    }
   ],
   "source": [
    "ax = sns.boxplot(x=outcome_lab, y=\"pips_ratio_norm\", data=contDF)"
   ]
  },
  {
   "cell_type": "markdown",
   "metadata": {},
   "source": [
    "* Mean for each category"
   ]
  },
  {
   "cell_type": "code",
   "execution_count": 345,
   "metadata": {},
   "outputs": [
    {
     "data": {
      "text/html": [
       "<div>\n",
       "<style scoped>\n",
       "    .dataframe tbody tr th:only-of-type {\n",
       "        vertical-align: middle;\n",
       "    }\n",
       "\n",
       "    .dataframe tbody tr th {\n",
       "        vertical-align: top;\n",
       "    }\n",
       "\n",
       "    .dataframe thead th {\n",
       "        text-align: right;\n",
       "    }\n",
       "</style>\n",
       "<table border=\"1\" class=\"dataframe\">\n",
       "  <thead>\n",
       "    <tr style=\"text-align: right;\">\n",
       "      <th></th>\n",
       "      <th>pips_ratio_norm</th>\n",
       "    </tr>\n",
       "    <tr>\n",
       "      <th>ext_outcome</th>\n",
       "      <th></th>\n",
       "    </tr>\n",
       "  </thead>\n",
       "  <tbody>\n",
       "    <tr>\n",
       "      <th>0</th>\n",
       "      <td>4.369566</td>\n",
       "    </tr>\n",
       "    <tr>\n",
       "      <th>1</th>\n",
       "      <td>5.006969</td>\n",
       "    </tr>\n",
       "  </tbody>\n",
       "</table>\n",
       "</div>"
      ],
      "text/plain": [
       "             pips_ratio_norm\n",
       "ext_outcome                 \n",
       "0                   4.369566\n",
       "1                   5.006969"
      ]
     },
     "execution_count": 345,
     "metadata": {},
     "output_type": "execute_result"
    }
   ],
   "source": [
    "contDF.groupby(outcome_lab).agg({'pips_ratio_norm': 'mean'})"
   ]
  },
  {
   "cell_type": "markdown",
   "metadata": {},
   "source": [
    "* Median for each category"
   ]
  },
  {
   "cell_type": "code",
   "execution_count": 346,
   "metadata": {},
   "outputs": [
    {
     "data": {
      "text/html": [
       "<div>\n",
       "<style scoped>\n",
       "    .dataframe tbody tr th:only-of-type {\n",
       "        vertical-align: middle;\n",
       "    }\n",
       "\n",
       "    .dataframe tbody tr th {\n",
       "        vertical-align: top;\n",
       "    }\n",
       "\n",
       "    .dataframe thead th {\n",
       "        text-align: right;\n",
       "    }\n",
       "</style>\n",
       "<table border=\"1\" class=\"dataframe\">\n",
       "  <thead>\n",
       "    <tr style=\"text-align: right;\">\n",
       "      <th></th>\n",
       "      <th>pips_ratio_norm</th>\n",
       "    </tr>\n",
       "    <tr>\n",
       "      <th>ext_outcome</th>\n",
       "      <th></th>\n",
       "    </tr>\n",
       "  </thead>\n",
       "  <tbody>\n",
       "    <tr>\n",
       "      <th>0</th>\n",
       "      <td>2.611111</td>\n",
       "    </tr>\n",
       "    <tr>\n",
       "      <th>1</th>\n",
       "      <td>3.366541</td>\n",
       "    </tr>\n",
       "  </tbody>\n",
       "</table>\n",
       "</div>"
      ],
      "text/plain": [
       "             pips_ratio_norm\n",
       "ext_outcome                 \n",
       "0                   2.611111\n",
       "1                   3.366541"
      ]
     },
     "execution_count": 346,
     "metadata": {},
     "output_type": "execute_result"
    }
   ],
   "source": [
    "contDF.groupby(outcome_lab).agg({'pips_ratio_norm': 'median'})"
   ]
  },
  {
   "cell_type": "markdown",
   "metadata": {},
   "source": [
    "Let's analyze the distribution with a histogram"
   ]
  },
  {
   "cell_type": "code",
   "execution_count": 347,
   "metadata": {},
   "outputs": [],
   "source": [
    "succ=contDF.loc[contDF[outcome_lab]==1]['pips_ratio_norm']\n",
    "fail=contDF.loc[contDF[outcome_lab]==0]['pips_ratio_norm']"
   ]
  },
  {
   "cell_type": "code",
   "execution_count": 348,
   "metadata": {},
   "outputs": [
    {
     "data": {
      "text/plain": [
       "<matplotlib.text.Text at 0x1226b3898>"
      ]
     },
     "execution_count": 348,
     "metadata": {},
     "output_type": "execute_result"
    },
    {
     "data": {
      "image/png": "[encoded data removed]",
      "text/plain": [
       "<matplotlib.figure.Figure at 0x11f420160>"
      ]
     },
     "metadata": {},
     "output_type": "display_data"
    }
   ],
   "source": [
    "plt.hist([fail,succ], bins = 20, normed=True, label=['0','1'])\n",
    "\n",
    "plt.legend()\n",
    "plt.xlabel('Pips ratio normalized')\n",
    "plt.ylabel('Normalized Freq')\n",
    "plt.title('Hist for Pips ratio on the outcome')"
   ]
  },
  {
   "cell_type": "code",
   "execution_count": 349,
   "metadata": {},
   "outputs": [
    {
     "data": {
      "text/plain": [
       "<matplotlib.text.Text at 0x122fcba90>"
      ]
     },
     "execution_count": 349,
     "metadata": {},
     "output_type": "execute_result"
    },
    {
     "data": {
      "image/png": "[encoded data removed]",
      "text/plain": [
       "<matplotlib.figure.Figure at 0x1226dcd30>"
      ]
     },
     "metadata": {},
     "output_type": "display_data"
    }
   ],
   "source": [
    "plt.xlim(0,20)\n",
    "\n",
    "plt.hist([fail,succ], bins = 25, normed=True, label=['0','1'])\n",
    "\n",
    "plt.legend()\n",
    "plt.xlabel('Pips ratio')\n",
    "plt.ylabel('Normalized Freq')\n",
    "plt.title('Hist for Pips ratio on the outcome')"
   ]
  },
  {
   "cell_type": "markdown",
   "metadata": {},
   "source": [
    "### inn_bounce\n",
    "Integer variable representing the number of candles of the inner bounce. Let's start comparing the distribution of this variable for the different categories of the `outcome` variable"
   ]
  },
  {
   "cell_type": "code",
   "execution_count": 350,
   "metadata": {},
   "outputs": [
    {
     "data": {
      "image/png": "[encoded data removed]",
      "text/plain": [
       "<matplotlib.figure.Figure at 0x1224edcf8>"
      ]
     },
     "metadata": {},
     "output_type": "display_data"
    }
   ],
   "source": [
    "ax = sns.boxplot(x=outcome_lab, y=\"inn_bounce\", data=contDF)"
   ]
  },
  {
   "cell_type": "markdown",
   "metadata": {},
   "source": [
    "* Mean for each category"
   ]
  },
  {
   "cell_type": "code",
   "execution_count": 351,
   "metadata": {},
   "outputs": [
    {
     "data": {
      "text/html": [
       "<div>\n",
       "<style scoped>\n",
       "    .dataframe tbody tr th:only-of-type {\n",
       "        vertical-align: middle;\n",
       "    }\n",
       "\n",
       "    .dataframe tbody tr th {\n",
       "        vertical-align: top;\n",
       "    }\n",
       "\n",
       "    .dataframe thead th {\n",
       "        text-align: right;\n",
       "    }\n",
       "</style>\n",
       "<table border=\"1\" class=\"dataframe\">\n",
       "  <thead>\n",
       "    <tr style=\"text-align: right;\">\n",
       "      <th></th>\n",
       "      <th>inn_bounce</th>\n",
       "    </tr>\n",
       "    <tr>\n",
       "      <th>ext_outcome</th>\n",
       "      <th></th>\n",
       "    </tr>\n",
       "  </thead>\n",
       "  <tbody>\n",
       "    <tr>\n",
       "      <th>0</th>\n",
       "      <td>8</td>\n",
       "    </tr>\n",
       "    <tr>\n",
       "      <th>1</th>\n",
       "      <td>9</td>\n",
       "    </tr>\n",
       "  </tbody>\n",
       "</table>\n",
       "</div>"
      ],
      "text/plain": [
       "             inn_bounce\n",
       "ext_outcome            \n",
       "0                     8\n",
       "1                     9"
      ]
     },
     "execution_count": 351,
     "metadata": {},
     "output_type": "execute_result"
    }
   ],
   "source": [
    "contDF.groupby(outcome_lab).agg({'inn_bounce': 'mean'})"
   ]
  },
  {
   "cell_type": "markdown",
   "metadata": {},
   "source": [
    "* Median for each category"
   ]
  },
  {
   "cell_type": "code",
   "execution_count": 352,
   "metadata": {},
   "outputs": [
    {
     "data": {
      "text/html": [
       "<div>\n",
       "<style scoped>\n",
       "    .dataframe tbody tr th:only-of-type {\n",
       "        vertical-align: middle;\n",
       "    }\n",
       "\n",
       "    .dataframe tbody tr th {\n",
       "        vertical-align: top;\n",
       "    }\n",
       "\n",
       "    .dataframe thead th {\n",
       "        text-align: right;\n",
       "    }\n",
       "</style>\n",
       "<table border=\"1\" class=\"dataframe\">\n",
       "  <thead>\n",
       "    <tr style=\"text-align: right;\">\n",
       "      <th></th>\n",
       "      <th>inn_bounce</th>\n",
       "    </tr>\n",
       "    <tr>\n",
       "      <th>ext_outcome</th>\n",
       "      <th></th>\n",
       "    </tr>\n",
       "  </thead>\n",
       "  <tbody>\n",
       "    <tr>\n",
       "      <th>0</th>\n",
       "      <td>6.0</td>\n",
       "    </tr>\n",
       "    <tr>\n",
       "      <th>1</th>\n",
       "      <td>7.5</td>\n",
       "    </tr>\n",
       "  </tbody>\n",
       "</table>\n",
       "</div>"
      ],
      "text/plain": [
       "             inn_bounce\n",
       "ext_outcome            \n",
       "0                   6.0\n",
       "1                   7.5"
      ]
     },
     "execution_count": 352,
     "metadata": {},
     "output_type": "execute_result"
    }
   ],
   "source": [
    "contDF.groupby(outcome_lab).agg({'inn_bounce': 'median'})"
   ]
  },
  {
   "cell_type": "markdown",
   "metadata": {},
   "source": [
    "* Barplot"
   ]
  },
  {
   "cell_type": "code",
   "execution_count": 353,
   "metadata": {},
   "outputs": [
    {
     "data": {
      "image/png": "[encoded data removed]",
      "text/plain": [
       "<matplotlib.figure.Figure at 0x122bc8fd0>"
      ]
     },
     "metadata": {},
     "output_type": "display_data"
    }
   ],
   "source": [
    "contDF_counts = (contDF.groupby([outcome_lab])['inn_bounce']\n",
    "                  .value_counts(normalize=True)\n",
    "                  .rename('percentage')\n",
    "                  .mul(100)\n",
    "                  .reset_index()\n",
    "                  .sort_values('inn_bounce'))\n",
    "\n",
    "p = sns.barplot(x=\"inn_bounce\", y=\"percentage\", hue=outcome_lab, data=contDF_counts)"
   ]
  },
  {
   "cell_type": "markdown",
   "metadata": {},
   "source": [
    "* Histogram"
   ]
  },
  {
   "cell_type": "code",
   "execution_count": 354,
   "metadata": {},
   "outputs": [],
   "source": [
    "succ=contDF.loc[contDF[outcome_lab]==1]['inn_bounce']\n",
    "fail=contDF.loc[contDF[outcome_lab]==0]['inn_bounce']"
   ]
  },
  {
   "cell_type": "code",
   "execution_count": 355,
   "metadata": {},
   "outputs": [
    {
     "data": {
      "text/plain": [
       "<matplotlib.text.Text at 0x12337cda0>"
      ]
     },
     "execution_count": 355,
     "metadata": {},
     "output_type": "execute_result"
    },
    {
     "data": {
      "image/png": "[encoded data removed]",
      "text/plain": [
       "<matplotlib.figure.Figure at 0x121c90fd0>"
      ]
     },
     "metadata": {},
     "output_type": "display_data"
    }
   ],
   "source": [
    "plt.hist([fail,succ], bins = 20, normed=True, label=['0','1'])\n",
    "\n",
    "plt.legend()\n",
    "plt.xlabel('inn_bounce')\n",
    "plt.ylabel('Normalized Freq')\n",
    "plt.title('Hist for Length of the trend depending on the outcome')"
   ]
  },
  {
   "cell_type": "code",
   "execution_count": 356,
   "metadata": {},
   "outputs": [
    {
     "data": {
      "text/plain": [
       "<matplotlib.text.Text at 0x1236521d0>"
      ]
     },
     "execution_count": 356,
     "metadata": {},
     "output_type": "execute_result"
    },
    {
     "data": {
      "image/png": "[encoded data removed]",
      "text/plain": [
       "<matplotlib.figure.Figure at 0x123529780>"
      ]
     },
     "metadata": {},
     "output_type": "display_data"
    }
   ],
   "source": [
    "plt.xlim(0,30)\n",
    "plt.hist([fail,succ], bins = 10, normed=True, label=['0','1'])\n",
    "\n",
    "plt.legend()\n",
    "plt.xlabel('inn_bounce (<=30)')\n",
    "plt.ylabel('Normalized Freq')\n",
    "plt.title('Hist for inn_bounce depending on the outcome')"
   ]
  },
  {
   "cell_type": "markdown",
   "metadata": {},
   "source": [
    "### bounce length\n",
    "This variable is a comma separated list of integers representing how wide (in number of candles) each of the RSI bounces is. This variable requires a little bit of preprocessing, and I will write a function that calculates the total length (in number of candles) by adding the length of each of the bounces"
   ]
  },
  {
   "cell_type": "code",
   "execution_count": 357,
   "metadata": {},
   "outputs": [],
   "source": [
    "def sum_lengths(x):\n",
    "    '''\n",
    "    Function to calculate the sum (in number of candles)\n",
    "    of all the RSI bounces\n",
    "    \n",
    "    Parameters\n",
    "    ----------\n",
    "    x = string with a comma separated list of numbers\n",
    "        i.e. 1,4,2,3\n",
    "        \n",
    "    Returns\n",
    "    -------\n",
    "    An integer representing the total bounce length\n",
    "    '''\n",
    "    \n",
    "    return sum([int(i) for i in x.split(\",\")])\n",
    "    "
   ]
  },
  {
   "cell_type": "markdown",
   "metadata": {},
   "source": [
    "And I will apply the `sum_lengths` function and put the results in a new column named `sum_bounces`"
   ]
  },
  {
   "cell_type": "code",
   "execution_count": 358,
   "metadata": {},
   "outputs": [],
   "source": [
    "contDF['sum_bounces']=contDF['bounce length'].astype(str).apply(sum_lengths)"
   ]
  },
  {
   "cell_type": "markdown",
   "metadata": {},
   "source": [
    "Now, I will plot the distribution of this new variable on each `outcome`category:"
   ]
  },
  {
   "cell_type": "code",
   "execution_count": 359,
   "metadata": {},
   "outputs": [
    {
     "data": {
      "image/png": "[encoded data removed]",
      "text/plain": [
       "<matplotlib.figure.Figure at 0x121be79b0>"
      ]
     },
     "metadata": {},
     "output_type": "display_data"
    }
   ],
   "source": [
    "ax = sns.boxplot(x=outcome_lab, y=\"sum_bounces\", data=contDF)"
   ]
  },
  {
   "cell_type": "markdown",
   "metadata": {},
   "source": [
    "* Mean for each category"
   ]
  },
  {
   "cell_type": "code",
   "execution_count": 360,
   "metadata": {},
   "outputs": [
    {
     "data": {
      "text/html": [
       "<div>\n",
       "<style scoped>\n",
       "    .dataframe tbody tr th:only-of-type {\n",
       "        vertical-align: middle;\n",
       "    }\n",
       "\n",
       "    .dataframe tbody tr th {\n",
       "        vertical-align: top;\n",
       "    }\n",
       "\n",
       "    .dataframe thead th {\n",
       "        text-align: right;\n",
       "    }\n",
       "</style>\n",
       "<table border=\"1\" class=\"dataframe\">\n",
       "  <thead>\n",
       "    <tr style=\"text-align: right;\">\n",
       "      <th></th>\n",
       "      <th>sum_bounces</th>\n",
       "    </tr>\n",
       "    <tr>\n",
       "      <th>ext_outcome</th>\n",
       "      <th></th>\n",
       "    </tr>\n",
       "  </thead>\n",
       "  <tbody>\n",
       "    <tr>\n",
       "      <th>0</th>\n",
       "      <td>5.714286</td>\n",
       "    </tr>\n",
       "    <tr>\n",
       "      <th>1</th>\n",
       "      <td>7.772727</td>\n",
       "    </tr>\n",
       "  </tbody>\n",
       "</table>\n",
       "</div>"
      ],
      "text/plain": [
       "             sum_bounces\n",
       "ext_outcome             \n",
       "0               5.714286\n",
       "1               7.772727"
      ]
     },
     "execution_count": 360,
     "metadata": {},
     "output_type": "execute_result"
    }
   ],
   "source": [
    "contDF.groupby(outcome_lab).agg({'sum_bounces': 'mean'})"
   ]
  },
  {
   "cell_type": "markdown",
   "metadata": {},
   "source": [
    "* Median for each category"
   ]
  },
  {
   "cell_type": "code",
   "execution_count": 361,
   "metadata": {},
   "outputs": [
    {
     "data": {
      "text/html": [
       "<div>\n",
       "<style scoped>\n",
       "    .dataframe tbody tr th:only-of-type {\n",
       "        vertical-align: middle;\n",
       "    }\n",
       "\n",
       "    .dataframe tbody tr th {\n",
       "        vertical-align: top;\n",
       "    }\n",
       "\n",
       "    .dataframe thead th {\n",
       "        text-align: right;\n",
       "    }\n",
       "</style>\n",
       "<table border=\"1\" class=\"dataframe\">\n",
       "  <thead>\n",
       "    <tr style=\"text-align: right;\">\n",
       "      <th></th>\n",
       "      <th>sum_bounces</th>\n",
       "    </tr>\n",
       "    <tr>\n",
       "      <th>ext_outcome</th>\n",
       "      <th></th>\n",
       "    </tr>\n",
       "  </thead>\n",
       "  <tbody>\n",
       "    <tr>\n",
       "      <th>0</th>\n",
       "      <td>2</td>\n",
       "    </tr>\n",
       "    <tr>\n",
       "      <th>1</th>\n",
       "      <td>2</td>\n",
       "    </tr>\n",
       "  </tbody>\n",
       "</table>\n",
       "</div>"
      ],
      "text/plain": [
       "             sum_bounces\n",
       "ext_outcome             \n",
       "0                      2\n",
       "1                      2"
      ]
     },
     "execution_count": 361,
     "metadata": {},
     "output_type": "execute_result"
    }
   ],
   "source": [
    "contDF.groupby(outcome_lab).agg({'sum_bounces': 'median'})"
   ]
  },
  {
   "cell_type": "markdown",
   "metadata": {},
   "source": [
    "* Histogram"
   ]
  },
  {
   "cell_type": "code",
   "execution_count": 362,
   "metadata": {},
   "outputs": [],
   "source": [
    "succ=contDF.loc[contDF[outcome_lab]==1]['sum_bounces']\n",
    "fail=contDF.loc[contDF[outcome_lab]==0]['sum_bounces']"
   ]
  },
  {
   "cell_type": "code",
   "execution_count": 363,
   "metadata": {},
   "outputs": [
    {
     "data": {
      "text/plain": [
       "<matplotlib.text.Text at 0x1224580f0>"
      ]
     },
     "execution_count": 363,
     "metadata": {},
     "output_type": "execute_result"
    },
    {
     "data": {
      "image/png": "[encoded data removed]",
      "text/plain": [
       "<matplotlib.figure.Figure at 0x119bacc50>"
      ]
     },
     "metadata": {},
     "output_type": "display_data"
    }
   ],
   "source": [
    "plt.hist([fail,succ], bins = 15, normed=True, label=['0','1'])\n",
    "\n",
    "plt.legend()\n",
    "plt.xlabel('sum_bounces')\n",
    "plt.ylabel('Normalized Freq')\n",
    "plt.title('Hist for sum_bounces depending on the outcome')"
   ]
  },
  {
   "cell_type": "code",
   "execution_count": 364,
   "metadata": {},
   "outputs": [
    {
     "data": {
      "text/plain": [
       "<matplotlib.text.Text at 0x122a43ef0>"
      ]
     },
     "execution_count": 364,
     "metadata": {},
     "output_type": "execute_result"
    },
    {
     "data": {
      "image/png": "[encoded data removed]",
      "text/plain": [
       "<matplotlib.figure.Figure at 0x12368bcf8>"
      ]
     },
     "metadata": {},
     "output_type": "display_data"
    }
   ],
   "source": [
    "plt.xlim(0,20)\n",
    "plt.hist([fail,succ], bins = 30, normed=True, label=['0','1'])\n",
    "\n",
    "plt.legend()\n",
    "plt.xlabel('sum_bounces (<=30)')\n",
    "plt.ylabel('Normalized Freq')\n",
    "plt.title('Hist for sum_bounces depending on the outcome')"
   ]
  },
  {
   "cell_type": "markdown",
   "metadata": {},
   "source": [
    "### bounce (pips)\n",
    "This quantitative variable represents the length from the horizontal line defined by IC until the highest point of the bounce (considering wicks also).  Let's start comparing the distribution of this variable for the different categories of the `outcome` variable"
   ]
  },
  {
   "cell_type": "code",
   "execution_count": 365,
   "metadata": {},
   "outputs": [
    {
     "data": {
      "image/png": "[encoded data removed]",
      "text/plain": [
       "<matplotlib.figure.Figure at 0x11dedc128>"
      ]
     },
     "metadata": {},
     "output_type": "display_data"
    }
   ],
   "source": [
    "ax = sns.boxplot(x=outcome_lab, y=\"bounce (pips)\", data=contDF)"
   ]
  },
  {
   "cell_type": "markdown",
   "metadata": {},
   "source": [
    "* Mean for each category"
   ]
  },
  {
   "cell_type": "code",
   "execution_count": 366,
   "metadata": {},
   "outputs": [
    {
     "data": {
      "text/html": [
       "<div>\n",
       "<style scoped>\n",
       "    .dataframe tbody tr th:only-of-type {\n",
       "        vertical-align: middle;\n",
       "    }\n",
       "\n",
       "    .dataframe tbody tr th {\n",
       "        vertical-align: top;\n",
       "    }\n",
       "\n",
       "    .dataframe thead th {\n",
       "        text-align: right;\n",
       "    }\n",
       "</style>\n",
       "<table border=\"1\" class=\"dataframe\">\n",
       "  <thead>\n",
       "    <tr style=\"text-align: right;\">\n",
       "      <th></th>\n",
       "      <th>bounce (pips)</th>\n",
       "    </tr>\n",
       "    <tr>\n",
       "      <th>ext_outcome</th>\n",
       "      <th></th>\n",
       "    </tr>\n",
       "  </thead>\n",
       "  <tbody>\n",
       "    <tr>\n",
       "      <th>0</th>\n",
       "      <td>999.714286</td>\n",
       "    </tr>\n",
       "    <tr>\n",
       "      <th>1</th>\n",
       "      <td>1686.090909</td>\n",
       "    </tr>\n",
       "  </tbody>\n",
       "</table>\n",
       "</div>"
      ],
      "text/plain": [
       "             bounce (pips)\n",
       "ext_outcome               \n",
       "0               999.714286\n",
       "1              1686.090909"
      ]
     },
     "execution_count": 366,
     "metadata": {},
     "output_type": "execute_result"
    }
   ],
   "source": [
    "contDF.groupby(outcome_lab).agg({'bounce (pips)': 'mean'})"
   ]
  },
  {
   "cell_type": "markdown",
   "metadata": {},
   "source": [
    "* Median for each category"
   ]
  },
  {
   "cell_type": "code",
   "execution_count": 367,
   "metadata": {},
   "outputs": [
    {
     "data": {
      "text/html": [
       "<div>\n",
       "<style scoped>\n",
       "    .dataframe tbody tr th:only-of-type {\n",
       "        vertical-align: middle;\n",
       "    }\n",
       "\n",
       "    .dataframe tbody tr th {\n",
       "        vertical-align: top;\n",
       "    }\n",
       "\n",
       "    .dataframe thead th {\n",
       "        text-align: right;\n",
       "    }\n",
       "</style>\n",
       "<table border=\"1\" class=\"dataframe\">\n",
       "  <thead>\n",
       "    <tr style=\"text-align: right;\">\n",
       "      <th></th>\n",
       "      <th>bounce (pips)</th>\n",
       "    </tr>\n",
       "    <tr>\n",
       "      <th>ext_outcome</th>\n",
       "      <th></th>\n",
       "    </tr>\n",
       "  </thead>\n",
       "  <tbody>\n",
       "    <tr>\n",
       "      <th>0</th>\n",
       "      <td>1129</td>\n",
       "    </tr>\n",
       "    <tr>\n",
       "      <th>1</th>\n",
       "      <td>1108</td>\n",
       "    </tr>\n",
       "  </tbody>\n",
       "</table>\n",
       "</div>"
      ],
      "text/plain": [
       "             bounce (pips)\n",
       "ext_outcome               \n",
       "0                     1129\n",
       "1                     1108"
      ]
     },
     "execution_count": 367,
     "metadata": {},
     "output_type": "execute_result"
    }
   ],
   "source": [
    "contDF.groupby(outcome_lab).agg({'bounce (pips)': 'median'})"
   ]
  },
  {
   "cell_type": "markdown",
   "metadata": {},
   "source": [
    "* Histogram"
   ]
  },
  {
   "cell_type": "code",
   "execution_count": 368,
   "metadata": {},
   "outputs": [],
   "source": [
    "succ=contDF.loc[contDF[outcome_lab]==1]['bounce (pips)']\n",
    "fail=contDF.loc[contDF[outcome_lab]==0]['bounce (pips)']"
   ]
  },
  {
   "cell_type": "code",
   "execution_count": 369,
   "metadata": {},
   "outputs": [
    {
     "data": {
      "text/plain": [
       "<matplotlib.text.Text at 0x121b255f8>"
      ]
     },
     "execution_count": 369,
     "metadata": {},
     "output_type": "execute_result"
    },
    {
     "data": {
      "image/png": "[encoded data removed]",
      "text/plain": [
       "<matplotlib.figure.Figure at 0x12295b5c0>"
      ]
     },
     "metadata": {},
     "output_type": "display_data"
    }
   ],
   "source": [
    "plt.hist([fail,succ], bins = 15, normed=True, label=['0','1'])\n",
    "\n",
    "plt.legend()\n",
    "plt.xlabel('bounce (pips)')\n",
    "plt.ylabel('Normalized Freq')\n",
    "plt.title('Hist for bounce (pips) depending on the outcome')"
   ]
  },
  {
   "cell_type": "code",
   "execution_count": 370,
   "metadata": {},
   "outputs": [
    {
     "data": {
      "text/plain": [
       "<matplotlib.text.Text at 0x123936e80>"
      ]
     },
     "execution_count": 370,
     "metadata": {},
     "output_type": "execute_result"
    },
    {
     "data": {
      "image/png": "[encoded data removed]",
      "text/plain": [
       "<matplotlib.figure.Figure at 0x1236f0d30>"
      ]
     },
     "metadata": {},
     "output_type": "display_data"
    }
   ],
   "source": [
    "plt.xlim(0,4000)\n",
    "plt.hist([fail,succ], bins = 15, normed=True, label=['0','1'])\n",
    "\n",
    "plt.legend()\n",
    "plt.xlabel('bounce (pips) (<=4000)')\n",
    "plt.ylabel('Normalized Freq')\n",
    "plt.title('Hist for bounce (pips) depending on the outcome')"
   ]
  },
  {
   "cell_type": "markdown",
   "metadata": {},
   "source": [
    "### norm_bounce_pips"
   ]
  },
  {
   "cell_type": "code",
   "execution_count": 371,
   "metadata": {},
   "outputs": [
    {
     "data": {
      "image/png": "[encoded data removed]",
      "text/plain": [
       "<matplotlib.figure.Figure at 0x121cd65f8>"
      ]
     },
     "metadata": {},
     "output_type": "display_data"
    }
   ],
   "source": [
    "ax = sns.boxplot(x=outcome_lab, y=\"norm_bounce_pips\", data=contDF)"
   ]
  },
  {
   "cell_type": "markdown",
   "metadata": {},
   "source": [
    "* Mean for each category"
   ]
  },
  {
   "cell_type": "code",
   "execution_count": 372,
   "metadata": {},
   "outputs": [
    {
     "data": {
      "text/html": [
       "<div>\n",
       "<style scoped>\n",
       "    .dataframe tbody tr th:only-of-type {\n",
       "        vertical-align: middle;\n",
       "    }\n",
       "\n",
       "    .dataframe tbody tr th {\n",
       "        vertical-align: top;\n",
       "    }\n",
       "\n",
       "    .dataframe thead th {\n",
       "        text-align: right;\n",
       "    }\n",
       "</style>\n",
       "<table border=\"1\" class=\"dataframe\">\n",
       "  <thead>\n",
       "    <tr style=\"text-align: right;\">\n",
       "      <th></th>\n",
       "      <th>norm_bounce_pips</th>\n",
       "    </tr>\n",
       "    <tr>\n",
       "      <th>ext_outcome</th>\n",
       "      <th></th>\n",
       "    </tr>\n",
       "  </thead>\n",
       "  <tbody>\n",
       "    <tr>\n",
       "      <th>0</th>\n",
       "      <td>20.825714</td>\n",
       "    </tr>\n",
       "    <tr>\n",
       "      <th>1</th>\n",
       "      <td>35.126818</td>\n",
       "    </tr>\n",
       "  </tbody>\n",
       "</table>\n",
       "</div>"
      ],
      "text/plain": [
       "             norm_bounce_pips\n",
       "ext_outcome                  \n",
       "0                   20.825714\n",
       "1                   35.126818"
      ]
     },
     "execution_count": 372,
     "metadata": {},
     "output_type": "execute_result"
    }
   ],
   "source": [
    "contDF.groupby(outcome_lab).agg({'norm_bounce_pips': 'mean'})"
   ]
  },
  {
   "cell_type": "markdown",
   "metadata": {},
   "source": [
    "* Median for each category"
   ]
  },
  {
   "cell_type": "code",
   "execution_count": 373,
   "metadata": {},
   "outputs": [
    {
     "data": {
      "text/html": [
       "<div>\n",
       "<style scoped>\n",
       "    .dataframe tbody tr th:only-of-type {\n",
       "        vertical-align: middle;\n",
       "    }\n",
       "\n",
       "    .dataframe tbody tr th {\n",
       "        vertical-align: top;\n",
       "    }\n",
       "\n",
       "    .dataframe thead th {\n",
       "        text-align: right;\n",
       "    }\n",
       "</style>\n",
       "<table border=\"1\" class=\"dataframe\">\n",
       "  <thead>\n",
       "    <tr style=\"text-align: right;\">\n",
       "      <th></th>\n",
       "      <th>norm_bounce_pips</th>\n",
       "    </tr>\n",
       "    <tr>\n",
       "      <th>ext_outcome</th>\n",
       "      <th></th>\n",
       "    </tr>\n",
       "  </thead>\n",
       "  <tbody>\n",
       "    <tr>\n",
       "      <th>0</th>\n",
       "      <td>23.520</td>\n",
       "    </tr>\n",
       "    <tr>\n",
       "      <th>1</th>\n",
       "      <td>23.085</td>\n",
       "    </tr>\n",
       "  </tbody>\n",
       "</table>\n",
       "</div>"
      ],
      "text/plain": [
       "             norm_bounce_pips\n",
       "ext_outcome                  \n",
       "0                      23.520\n",
       "1                      23.085"
      ]
     },
     "execution_count": 373,
     "metadata": {},
     "output_type": "execute_result"
    }
   ],
   "source": [
    "contDF.groupby(outcome_lab).agg({'norm_bounce_pips': 'median'})"
   ]
  },
  {
   "cell_type": "markdown",
   "metadata": {},
   "source": [
    "* Histogram"
   ]
  },
  {
   "cell_type": "code",
   "execution_count": 374,
   "metadata": {},
   "outputs": [],
   "source": [
    "succ=contDF.loc[contDF[outcome_lab]==1]['norm_bounce_pips']\n",
    "fail=contDF.loc[contDF[outcome_lab]==0]['norm_bounce_pips']"
   ]
  },
  {
   "cell_type": "code",
   "execution_count": 375,
   "metadata": {},
   "outputs": [
    {
     "data": {
      "text/plain": [
       "<matplotlib.text.Text at 0x123c0aa58>"
      ]
     },
     "execution_count": 375,
     "metadata": {},
     "output_type": "execute_result"
    },
    {
     "data": {
      "image/png": "[encoded data removed]",
      "text/plain": [
       "<matplotlib.figure.Figure at 0x12319f748>"
      ]
     },
     "metadata": {},
     "output_type": "display_data"
    }
   ],
   "source": [
    "plt.hist([fail,succ], bins = 15, normed=True, label=['0','1'])\n",
    "\n",
    "plt.legend()\n",
    "plt.xlabel('bounce (pips) normalized')\n",
    "plt.ylabel('Normalized Freq')\n",
    "plt.title('Hist for normalized bounce (pips)  depending on the outcome')"
   ]
  },
  {
   "cell_type": "code",
   "execution_count": 376,
   "metadata": {},
   "outputs": [
    {
     "data": {
      "text/plain": [
       "<matplotlib.text.Text at 0x123d987b8>"
      ]
     },
     "execution_count": 376,
     "metadata": {},
     "output_type": "execute_result"
    },
    {
     "data": {
      "image/png": "[encoded data removed]",
      "text/plain": [
       "<matplotlib.figure.Figure at 0x123cd0080>"
      ]
     },
     "metadata": {},
     "output_type": "display_data"
    }
   ],
   "source": [
    "plt.xlim(0,100)\n",
    "plt.hist([fail,succ], bins = 15, normed=True, label=['0','1'])\n",
    "\n",
    "plt.legend()\n",
    "plt.xlabel('bounce (pips) (<=4000)')\n",
    "plt.ylabel('Normalized Freq')\n",
    "plt.title('Hist for normalized bounce (pips) depending on the outcome')"
   ]
  },
  {
   "cell_type": "markdown",
   "metadata": {},
   "source": [
    "### entry_aligned\n",
    "Is the entry aligned with previous bounces on the same trend. TRUE or 1 if it is, FALSE or 0 if it is not"
   ]
  },
  {
   "cell_type": "markdown",
   "metadata": {},
   "source": [
    "Let's compare the proportions for this variable between the 2 categories of the `outcome` variable"
   ]
  },
  {
   "cell_type": "code",
   "execution_count": 377,
   "metadata": {},
   "outputs": [
    {
     "name": "stdout",
     "output_type": "stream",
     "text": [
      "entry_aligned   1  All\n",
      "ext_outcome           \n",
      "0               7    7\n",
      "1              22   22\n",
      "All            29   29\n"
     ]
    }
   ],
   "source": [
    "div_class=pd.crosstab(contDF.iloc[:,outcome_ix], contDF['entry_aligned'],margins=True)\n",
    "print(div_class)"
   ]
  },
  {
   "cell_type": "markdown",
   "metadata": {},
   "source": [
    "It's is easier to visualize the relationship if we calculate the percentages:"
   ]
  },
  {
   "cell_type": "code",
   "execution_count": 378,
   "metadata": {},
   "outputs": [
    {
     "name": "stdout",
     "output_type": "stream",
     "text": [
      "entry_aligned           1         All\n",
      "ext_outcome                          \n",
      "0               24.137931   24.137931\n",
      "1               75.862069   75.862069\n",
      "All            100.000000  100.000000\n"
     ]
    }
   ],
   "source": [
    "propStrength=(div_class/div_class.loc[\"All\"])*100\n",
    "print(propStrength)"
   ]
  },
  {
   "cell_type": "markdown",
   "metadata": {},
   "source": [
    "* Conclusion <br>\n",
    "There is a clear relationship between succesful trades and `entry_aligned=1`"
   ]
  },
  {
   "cell_type": "markdown",
   "metadata": {},
   "source": [
    "### trend bounces\n",
    "Discrete variable representing the number of bounces at the trend. This variable only makes sense when entry_aligned=1"
   ]
  },
  {
   "cell_type": "code",
   "execution_count": 379,
   "metadata": {},
   "outputs": [],
   "source": [
    "contDF_entryaligned=contDF[contDF.entry_aligned == 1]"
   ]
  },
  {
   "cell_type": "code",
   "execution_count": 380,
   "metadata": {},
   "outputs": [
    {
     "data": {
      "image/png": "[encoded data removed]",
      "text/plain": [
       "<matplotlib.figure.Figure at 0x123d1df28>"
      ]
     },
     "metadata": {},
     "output_type": "display_data"
    }
   ],
   "source": [
    "ax = sns.boxplot(x=outcome_lab, y=\"trend_bounces\", data=contDF_entryaligned)"
   ]
  },
  {
   "cell_type": "markdown",
   "metadata": {},
   "source": [
    "* Mean for each category"
   ]
  },
  {
   "cell_type": "code",
   "execution_count": 381,
   "metadata": {},
   "outputs": [
    {
     "data": {
      "text/html": [
       "<div>\n",
       "<style scoped>\n",
       "    .dataframe tbody tr th:only-of-type {\n",
       "        vertical-align: middle;\n",
       "    }\n",
       "\n",
       "    .dataframe tbody tr th {\n",
       "        vertical-align: top;\n",
       "    }\n",
       "\n",
       "    .dataframe thead th {\n",
       "        text-align: right;\n",
       "    }\n",
       "</style>\n",
       "<table border=\"1\" class=\"dataframe\">\n",
       "  <thead>\n",
       "    <tr style=\"text-align: right;\">\n",
       "      <th></th>\n",
       "      <th>trend_bounces</th>\n",
       "    </tr>\n",
       "    <tr>\n",
       "      <th>ext_outcome</th>\n",
       "      <th></th>\n",
       "    </tr>\n",
       "  </thead>\n",
       "  <tbody>\n",
       "    <tr>\n",
       "      <th>0</th>\n",
       "      <td>1.142857</td>\n",
       "    </tr>\n",
       "    <tr>\n",
       "      <th>1</th>\n",
       "      <td>1.136364</td>\n",
       "    </tr>\n",
       "  </tbody>\n",
       "</table>\n",
       "</div>"
      ],
      "text/plain": [
       "             trend_bounces\n",
       "ext_outcome               \n",
       "0                 1.142857\n",
       "1                 1.136364"
      ]
     },
     "execution_count": 381,
     "metadata": {},
     "output_type": "execute_result"
    }
   ],
   "source": [
    "contDF_entryaligned.groupby(outcome_lab).agg({'trend_bounces': 'mean'})"
   ]
  },
  {
   "cell_type": "markdown",
   "metadata": {},
   "source": [
    "* Median for each category"
   ]
  },
  {
   "cell_type": "code",
   "execution_count": 382,
   "metadata": {},
   "outputs": [
    {
     "name": "stdout",
     "output_type": "stream",
     "text": [
      "             trend_bounces\n",
      "ext_outcome               \n",
      "0                        1\n",
      "1                        1\n"
     ]
    }
   ],
   "source": [
    "medianBounce=contDF_entryaligned.groupby(outcome_lab).agg({'trend_bounces': 'median'})\n",
    "print(medianBounce)"
   ]
  },
  {
   "cell_type": "markdown",
   "metadata": {},
   "source": [
    "* Distribution of the number of bounces<br>\n",
    "For this particular task I will create a count plot in order to plot the RSI bounces for both the successful and the failed trades"
   ]
  },
  {
   "cell_type": "code",
   "execution_count": 383,
   "metadata": {},
   "outputs": [
    {
     "data": {
      "image/png": "[encoded data removed]",
      "text/plain": [
       "<matplotlib.figure.Figure at 0x121c907f0>"
      ]
     },
     "metadata": {},
     "output_type": "display_data"
    }
   ],
   "source": [
    "ax = sns.countplot(x=\"trend_bounces\",hue=outcome_lab, data=contDF_entryaligned)"
   ]
  },
  {
   "cell_type": "markdown",
   "metadata": {},
   "source": [
    "Now, let's calculate the normalized number of bounces, as the 2 categories of the outcome variables are imbalanced"
   ]
  },
  {
   "cell_type": "code",
   "execution_count": 384,
   "metadata": {},
   "outputs": [
    {
     "data": {
      "image/png": "[encoded data removed]",
      "text/plain": [
       "<matplotlib.figure.Figure at 0x123eef208>"
      ]
     },
     "metadata": {},
     "output_type": "display_data"
    }
   ],
   "source": [
    "contDF_counts = (contDF_entryaligned.groupby([outcome_lab])['trend_bounces']\n",
    "                  .value_counts(normalize=True)\n",
    "                  .rename('percentage')\n",
    "                  .mul(100)\n",
    "                  .reset_index()\n",
    "                  .sort_values('trend_bounces'))\n",
    "\n",
    "p = sns.barplot(x=\"trend_bounces\", y=\"percentage\", hue=outcome_lab, data=contDF_counts)"
   ]
  },
  {
   "cell_type": "markdown",
   "metadata": {},
   "source": [
    "* Histogram"
   ]
  },
  {
   "cell_type": "code",
   "execution_count": 385,
   "metadata": {},
   "outputs": [],
   "source": [
    "import matplotlib.pyplot as plt\n",
    "\n",
    "succ=contDF_entryaligned.loc[contDF_entryaligned[outcome_lab]==1]['trend_bounces']\n",
    "fail=contDF_entryaligned.loc[contDF_entryaligned[outcome_lab]==0]['trend_bounces']"
   ]
  },
  {
   "cell_type": "code",
   "execution_count": 386,
   "metadata": {},
   "outputs": [
    {
     "data": {
      "text/plain": [
       "<matplotlib.text.Text at 0x124257978>"
      ]
     },
     "execution_count": 386,
     "metadata": {},
     "output_type": "execute_result"
    },
    {
     "data": {
      "image/png": "[encoded data removed]",
      "text/plain": [
       "<matplotlib.figure.Figure at 0x123abfa58>"
      ]
     },
     "metadata": {},
     "output_type": "display_data"
    }
   ],
   "source": [
    "plt.hist([fail,succ], bins = 10, normed=True, label=['0','1'])\n",
    "\n",
    "plt.legend()\n",
    "plt.xlabel('trend_bounces')\n",
    "plt.ylabel('Normalized Freq')\n",
    "plt.title('Hist for Trend bounces on the outcome')"
   ]
  },
  {
   "cell_type": "markdown",
   "metadata": {},
   "source": [
    "### s_r_bounces and peak_bounces\n",
    "These two variables are used to represent the number of bounces in the S/R area or in the bounce that is defined by the continuation. Let's first explore each of the variables independently:"
   ]
  },
  {
   "cell_type": "markdown",
   "metadata": {},
   "source": [
    "* s_r_bounces  \n",
    "Distribution of the number of bounces at the S/R area on the outcome:"
   ]
  },
  {
   "cell_type": "code",
   "execution_count": 387,
   "metadata": {},
   "outputs": [
    {
     "data": {
      "image/png": "[encoded data removed]",
      "text/plain": [
       "<matplotlib.figure.Figure at 0x122212e10>"
      ]
     },
     "metadata": {},
     "output_type": "display_data"
    }
   ],
   "source": [
    "ax = sns.boxplot(x=outcome_lab, y=\"s_r_bounces\", data=contDF)"
   ]
  },
  {
   "cell_type": "markdown",
   "metadata": {},
   "source": [
    "* Mean for each category"
   ]
  },
  {
   "cell_type": "code",
   "execution_count": 388,
   "metadata": {},
   "outputs": [
    {
     "data": {
      "text/html": [
       "<div>\n",
       "<style scoped>\n",
       "    .dataframe tbody tr th:only-of-type {\n",
       "        vertical-align: middle;\n",
       "    }\n",
       "\n",
       "    .dataframe tbody tr th {\n",
       "        vertical-align: top;\n",
       "    }\n",
       "\n",
       "    .dataframe thead th {\n",
       "        text-align: right;\n",
       "    }\n",
       "</style>\n",
       "<table border=\"1\" class=\"dataframe\">\n",
       "  <thead>\n",
       "    <tr style=\"text-align: right;\">\n",
       "      <th></th>\n",
       "      <th>s_r_bounces</th>\n",
       "    </tr>\n",
       "    <tr>\n",
       "      <th>ext_outcome</th>\n",
       "      <th></th>\n",
       "    </tr>\n",
       "  </thead>\n",
       "  <tbody>\n",
       "    <tr>\n",
       "      <th>0</th>\n",
       "      <td>6.714286</td>\n",
       "    </tr>\n",
       "    <tr>\n",
       "      <th>1</th>\n",
       "      <td>5.363636</td>\n",
       "    </tr>\n",
       "  </tbody>\n",
       "</table>\n",
       "</div>"
      ],
      "text/plain": [
       "             s_r_bounces\n",
       "ext_outcome             \n",
       "0               6.714286\n",
       "1               5.363636"
      ]
     },
     "execution_count": 388,
     "metadata": {},
     "output_type": "execute_result"
    }
   ],
   "source": [
    "contDF_entryaligned.groupby(outcome_lab).agg({'s_r_bounces': 'mean'})"
   ]
  },
  {
   "cell_type": "markdown",
   "metadata": {},
   "source": [
    "* Median for each category"
   ]
  },
  {
   "cell_type": "code",
   "execution_count": 389,
   "metadata": {},
   "outputs": [
    {
     "name": "stdout",
     "output_type": "stream",
     "text": [
      "             s_r_bounces\n",
      "ext_outcome             \n",
      "0                      7\n",
      "1                      5\n"
     ]
    }
   ],
   "source": [
    "medianBounce=contDF_entryaligned.groupby(outcome_lab).agg({'s_r_bounces': 'median'})\n",
    "print(medianBounce)"
   ]
  },
  {
   "cell_type": "markdown",
   "metadata": {},
   "source": [
    "Bar plot:"
   ]
  },
  {
   "cell_type": "code",
   "execution_count": 390,
   "metadata": {},
   "outputs": [
    {
     "data": {
      "image/png": "[encoded data removed]",
      "text/plain": [
       "<matplotlib.figure.Figure at 0x123ac3438>"
      ]
     },
     "metadata": {},
     "output_type": "display_data"
    }
   ],
   "source": [
    "contDF_counts = (contDF.groupby([outcome_lab])['s_r_bounces']\n",
    "                  .value_counts(normalize=True)\n",
    "                  .rename('percentage')\n",
    "                  .mul(100)\n",
    "                  .reset_index()\n",
    "                  .sort_values('s_r_bounces'))\n",
    "\n",
    "p = sns.barplot(x=\"s_r_bounces\", y=\"percentage\", hue=outcome_lab, data=contDF_counts)"
   ]
  },
  {
   "cell_type": "markdown",
   "metadata": {},
   "source": [
    "* Histogram"
   ]
  },
  {
   "cell_type": "code",
   "execution_count": 391,
   "metadata": {},
   "outputs": [],
   "source": [
    "succ=contDF.loc[contDF[outcome_lab]==1]['s_r_bounces']\n",
    "fail=contDF.loc[contDF[outcome_lab]==0]['s_r_bounces']"
   ]
  },
  {
   "cell_type": "code",
   "execution_count": 392,
   "metadata": {},
   "outputs": [
    {
     "data": {
      "text/plain": [
       "<matplotlib.text.Text at 0x12473acf8>"
      ]
     },
     "execution_count": 392,
     "metadata": {},
     "output_type": "execute_result"
    },
    {
     "data": {
      "image/png": "[encoded data removed]",
      "text/plain": [
       "<matplotlib.figure.Figure at 0x12468c630>"
      ]
     },
     "metadata": {},
     "output_type": "display_data"
    }
   ],
   "source": [
    "plt.hist([fail,succ], bins = 5, normed=True, label=['0','1'])\n",
    "\n",
    "plt.legend()\n",
    "plt.xlabel('s_r_bounces')\n",
    "plt.ylabel('Normalized Freq')\n",
    "plt.title('Hist for s_r_bounces depending on the outcome')"
   ]
  },
  {
   "cell_type": "markdown",
   "metadata": {},
   "source": [
    "* peak_bounces  \n",
    "Distribution of the number of bounces at the peak of the bounce on the outcome:"
   ]
  },
  {
   "cell_type": "code",
   "execution_count": 393,
   "metadata": {},
   "outputs": [
    {
     "data": {
      "image/png": "[encoded data removed]",
      "text/plain": [
       "<matplotlib.figure.Figure at 0x124660f28>"
      ]
     },
     "metadata": {},
     "output_type": "display_data"
    }
   ],
   "source": [
    "ax = sns.boxplot(x=outcome_lab, y=\"peak_bounces\", data=contDF)"
   ]
  },
  {
   "cell_type": "markdown",
   "metadata": {},
   "source": [
    "* Mean for each category"
   ]
  },
  {
   "cell_type": "code",
   "execution_count": 394,
   "metadata": {},
   "outputs": [
    {
     "data": {
      "text/html": [
       "<div>\n",
       "<style scoped>\n",
       "    .dataframe tbody tr th:only-of-type {\n",
       "        vertical-align: middle;\n",
       "    }\n",
       "\n",
       "    .dataframe tbody tr th {\n",
       "        vertical-align: top;\n",
       "    }\n",
       "\n",
       "    .dataframe thead th {\n",
       "        text-align: right;\n",
       "    }\n",
       "</style>\n",
       "<table border=\"1\" class=\"dataframe\">\n",
       "  <thead>\n",
       "    <tr style=\"text-align: right;\">\n",
       "      <th></th>\n",
       "      <th>peak_bounces</th>\n",
       "    </tr>\n",
       "    <tr>\n",
       "      <th>ext_outcome</th>\n",
       "      <th></th>\n",
       "    </tr>\n",
       "  </thead>\n",
       "  <tbody>\n",
       "    <tr>\n",
       "      <th>0</th>\n",
       "      <td>7.000000</td>\n",
       "    </tr>\n",
       "    <tr>\n",
       "      <th>1</th>\n",
       "      <td>3.454545</td>\n",
       "    </tr>\n",
       "  </tbody>\n",
       "</table>\n",
       "</div>"
      ],
      "text/plain": [
       "             peak_bounces\n",
       "ext_outcome              \n",
       "0                7.000000\n",
       "1                3.454545"
      ]
     },
     "execution_count": 394,
     "metadata": {},
     "output_type": "execute_result"
    }
   ],
   "source": [
    "contDF_entryaligned.groupby(outcome_lab).agg({'peak_bounces': 'mean'})"
   ]
  },
  {
   "cell_type": "markdown",
   "metadata": {},
   "source": [
    "* Median for each category"
   ]
  },
  {
   "cell_type": "code",
   "execution_count": 395,
   "metadata": {},
   "outputs": [
    {
     "name": "stdout",
     "output_type": "stream",
     "text": [
      "             peak_bounces\n",
      "ext_outcome              \n",
      "0                     5.0\n",
      "1                     3.5\n"
     ]
    }
   ],
   "source": [
    "medianBounce=contDF_entryaligned.groupby(outcome_lab).agg({'peak_bounces': 'median'})\n",
    "print(medianBounce)"
   ]
  },
  {
   "cell_type": "markdown",
   "metadata": {},
   "source": [
    "Bar plot:"
   ]
  },
  {
   "cell_type": "code",
   "execution_count": 396,
   "metadata": {},
   "outputs": [
    {
     "data": {
      "image/png": "[encoded data removed]",
      "text/plain": [
       "<matplotlib.figure.Figure at 0x1246c4f60>"
      ]
     },
     "metadata": {},
     "output_type": "display_data"
    }
   ],
   "source": [
    "contDF_counts = (contDF.groupby([outcome_lab])['peak_bounces']\n",
    "                  .value_counts(normalize=True)\n",
    "                  .rename('percentage')\n",
    "                  .mul(100)\n",
    "                  .reset_index()\n",
    "                  .sort_values('peak_bounces'))\n",
    "\n",
    "p = sns.barplot(x=\"peak_bounces\", y=\"percentage\", hue=outcome_lab, data=contDF_counts)"
   ]
  },
  {
   "cell_type": "markdown",
   "metadata": {},
   "source": [
    "* Histogram"
   ]
  },
  {
   "cell_type": "code",
   "execution_count": 397,
   "metadata": {},
   "outputs": [],
   "source": [
    "succ=contDF.loc[contDF[outcome_lab]==1]['peak_bounces']\n",
    "fail=contDF.loc[contDF[outcome_lab]==0]['peak_bounces']"
   ]
  },
  {
   "cell_type": "code",
   "execution_count": 398,
   "metadata": {},
   "outputs": [
    {
     "data": {
      "text/plain": [
       "<matplotlib.text.Text at 0x124b88f28>"
      ]
     },
     "execution_count": 398,
     "metadata": {},
     "output_type": "execute_result"
    },
    {
     "data": {
      "image/png": "[encoded data removed]",
      "text/plain": [
       "<matplotlib.figure.Figure at 0x1247d1da0>"
      ]
     },
     "metadata": {},
     "output_type": "display_data"
    }
   ],
   "source": [
    "plt.hist([fail,succ], bins = 5, normed=True, label=['0','1'])\n",
    "\n",
    "plt.legend()\n",
    "plt.xlabel('peak_bounces')\n",
    "plt.ylabel('Normalized Freq')\n",
    "plt.title('Hist for peak_bounces depending on the outcome')"
   ]
  },
  {
   "cell_type": "markdown",
   "metadata": {},
   "source": [
    "Now, let's create a derived categorical variable named `bounce_bias` that will be `P` if there are more peak bounces than S/R bounces, `A` if there are more bounces at the S/R area than at the peak and `U` if there is the same number of bounces at the 2 areas. "
   ]
  },
  {
   "cell_type": "code",
   "execution_count": 399,
   "metadata": {},
   "outputs": [],
   "source": [
    "def calc_bounce_bias(row):\n",
    "    '''\n",
    "    Function to calculate the value of bounce_bias\n",
    "    '''\n",
    "    s_r_bounces=row['s_r_bounces']\n",
    "    peak_bounces=row['peak_bounces']\n",
    "    \n",
    "    if s_r_bounces > peak_bounces:\n",
    "        return 'A'\n",
    "    elif s_r_bounces < peak_bounces:\n",
    "        return 'P'\n",
    "    elif s_r_bounces == peak_bounces:\n",
    "        return 'U'"
   ]
  },
  {
   "cell_type": "code",
   "execution_count": 400,
   "metadata": {},
   "outputs": [],
   "source": [
    "contDF['bounce_bias']=contDF.apply(calc_bounce_bias,axis=1)"
   ]
  },
  {
   "cell_type": "code",
   "execution_count": 401,
   "metadata": {},
   "outputs": [
    {
     "name": "stdout",
     "output_type": "stream",
     "text": [
      "bounce_bias   A  P  U  All\n",
      "ext_outcome               \n",
      "0             3  3  1    7\n",
      "1            15  4  3   22\n",
      "All          18  7  4   29\n"
     ]
    }
   ],
   "source": [
    "div_class=pd.crosstab(contDF.iloc[:,outcome_ix], contDF['bounce_bias'],margins=True)\n",
    "print(div_class)"
   ]
  },
  {
   "cell_type": "markdown",
   "metadata": {},
   "source": [
    "Let's check the percentages:"
   ]
  },
  {
   "cell_type": "code",
   "execution_count": 402,
   "metadata": {},
   "outputs": [
    {
     "name": "stdout",
     "output_type": "stream",
     "text": [
      "bounce_bias           A           P      U         All\n",
      "ext_outcome                                           \n",
      "0             16.666667   42.857143   25.0   24.137931\n",
      "1             83.333333   57.142857   75.0   75.862069\n",
      "All          100.000000  100.000000  100.0  100.000000\n"
     ]
    }
   ],
   "source": [
    "prop=(div_class/div_class.loc[\"All\"])*100\n",
    "print(prop)"
   ]
  },
  {
   "cell_type": "markdown",
   "metadata": {},
   "source": [
    "### Indecission\n",
    "Number of candles the price stays in S/R"
   ]
  },
  {
   "cell_type": "code",
   "execution_count": 2066,
   "metadata": {},
   "outputs": [
    {
     "data": {
      "image/png": "[encoded data removed]",
      "text/plain": [
       "<matplotlib.figure.Figure at 0x139f7f6a0>"
      ]
     },
     "metadata": {},
     "output_type": "display_data"
    }
   ],
   "source": [
    "ax = sns.boxplot(x=outcome_lab, y=\"indecission\", data=contDF)"
   ]
  },
  {
   "cell_type": "markdown",
   "metadata": {},
   "source": [
    "* Mean for each category"
   ]
  },
  {
   "cell_type": "code",
   "execution_count": 2067,
   "metadata": {},
   "outputs": [
    {
     "data": {
      "text/html": [
       "<div>\n",
       "<style scoped>\n",
       "    .dataframe tbody tr th:only-of-type {\n",
       "        vertical-align: middle;\n",
       "    }\n",
       "\n",
       "    .dataframe tbody tr th {\n",
       "        vertical-align: top;\n",
       "    }\n",
       "\n",
       "    .dataframe thead th {\n",
       "        text-align: right;\n",
       "    }\n",
       "</style>\n",
       "<table border=\"1\" class=\"dataframe\">\n",
       "  <thead>\n",
       "    <tr style=\"text-align: right;\">\n",
       "      <th></th>\n",
       "      <th>indecission</th>\n",
       "    </tr>\n",
       "    <tr>\n",
       "      <th>ext_outcome</th>\n",
       "      <th></th>\n",
       "    </tr>\n",
       "  </thead>\n",
       "  <tbody>\n",
       "    <tr>\n",
       "      <th>0</th>\n",
       "      <td>2.627119</td>\n",
       "    </tr>\n",
       "    <tr>\n",
       "      <th>1</th>\n",
       "      <td>2.551220</td>\n",
       "    </tr>\n",
       "  </tbody>\n",
       "</table>\n",
       "</div>"
      ],
      "text/plain": [
       "             indecission\n",
       "ext_outcome             \n",
       "0               2.627119\n",
       "1               2.551220"
      ]
     },
     "execution_count": 2067,
     "metadata": {},
     "output_type": "execute_result"
    }
   ],
   "source": [
    "contDF.groupby(outcome_lab).agg({'indecission': 'mean'})"
   ]
  },
  {
   "cell_type": "markdown",
   "metadata": {},
   "source": [
    "* Median for each category"
   ]
  },
  {
   "cell_type": "code",
   "execution_count": 2068,
   "metadata": {},
   "outputs": [
    {
     "name": "stdout",
     "output_type": "stream",
     "text": [
      "             indecission\n",
      "ext_outcome             \n",
      "0                      1\n",
      "1                      2\n"
     ]
    }
   ],
   "source": [
    "medianBounce=contDF.groupby(outcome_lab).agg({'indecission': 'median'})\n",
    "print(medianBounce)"
   ]
  },
  {
   "cell_type": "markdown",
   "metadata": {},
   "source": [
    "* Distribution of the number of bounces<br>\n",
    "For this particular task I will create a count plot in order to plot the RSI bounces for both the successful and the failed trades"
   ]
  },
  {
   "cell_type": "code",
   "execution_count": 2069,
   "metadata": {},
   "outputs": [
    {
     "data": {
      "image/png": "[encoded data removed]",
      "text/plain": [
       "<matplotlib.figure.Figure at 0x13a3c2470>"
      ]
     },
     "metadata": {},
     "output_type": "display_data"
    }
   ],
   "source": [
    "ax = sns.countplot(x=\"indecission\",hue=outcome_lab, data=contDF)"
   ]
  },
  {
   "cell_type": "markdown",
   "metadata": {},
   "source": [
    "Now, let's calculate the normalized number of bounces, as the 2 categories of the outcome variables are imbalanced"
   ]
  },
  {
   "cell_type": "code",
   "execution_count": 2070,
   "metadata": {},
   "outputs": [
    {
     "data": {
      "image/png": "[encoded data removed]",
      "text/plain": [
       "<matplotlib.figure.Figure at 0x13a1c8748>"
      ]
     },
     "metadata": {},
     "output_type": "display_data"
    }
   ],
   "source": [
    "contDF_counts = (contDF.groupby([outcome_lab])['indecission']\n",
    "                  .value_counts(normalize=True)\n",
    "                  .rename('percentage')\n",
    "                  .mul(100)\n",
    "                  .reset_index()\n",
    "                  .sort_values('indecission'))\n",
    "\n",
    "p = sns.barplot(x=\"indecission\", y=\"percentage\", hue=outcome_lab, data=contDF_counts)"
   ]
  },
  {
   "cell_type": "markdown",
   "metadata": {},
   "source": [
    "* Histogram"
   ]
  },
  {
   "cell_type": "code",
   "execution_count": 2071,
   "metadata": {},
   "outputs": [],
   "source": [
    "import matplotlib.pyplot as plt\n",
    "\n",
    "succ=contDF.loc[contDF[outcome_lab]==1]['indecission']\n",
    "fail=contDF.loc[contDF[outcome_lab]==0]['indecission']"
   ]
  },
  {
   "cell_type": "code",
   "execution_count": 2072,
   "metadata": {},
   "outputs": [
    {
     "data": {
      "text/plain": [
       "<matplotlib.text.Text at 0x13a737e10>"
      ]
     },
     "execution_count": 2072,
     "metadata": {},
     "output_type": "execute_result"
    },
    {
     "data": {
      "image/png": "[encoded data removed]",
      "text/plain": [
       "<matplotlib.figure.Figure at 0x13a1a7208>"
      ]
     },
     "metadata": {},
     "output_type": "display_data"
    }
   ],
   "source": [
    "plt.hist([fail,succ], bins = 10, normed=True, label=['0','1'])\n",
    "\n",
    "plt.legend()\n",
    "plt.xlabel('indecission')\n",
    "plt.ylabel('Normalized Freq')\n",
    "plt.title('Hist for Indecission candles on the outcome')"
   ]
  },
  {
   "cell_type": "markdown",
   "metadata": {},
   "source": [
    "### Inn_bounce/Indecisison ratio\n",
    "Float variable representing the ratio between the internal bounce divided by the indecission ratio"
   ]
  },
  {
   "cell_type": "code",
   "execution_count": 2073,
   "metadata": {},
   "outputs": [],
   "source": [
    "contDF['bounce_ratio']=contDF['inn_bounce']/contDF['indecission']"
   ]
  },
  {
   "cell_type": "code",
   "execution_count": 2074,
   "metadata": {},
   "outputs": [
    {
     "data": {
      "image/png": "[encoded data removed]",
      "text/plain": [
       "<matplotlib.figure.Figure at 0x13a6a4a20>"
      ]
     },
     "metadata": {},
     "output_type": "display_data"
    }
   ],
   "source": [
    "ax = sns.boxplot(x=outcome_lab, y=\"bounce_ratio\", data=contDF)"
   ]
  },
  {
   "cell_type": "markdown",
   "metadata": {},
   "source": [
    "* Mean for each category"
   ]
  },
  {
   "cell_type": "code",
   "execution_count": 2075,
   "metadata": {},
   "outputs": [
    {
     "data": {
      "text/html": [
       "<div>\n",
       "<style scoped>\n",
       "    .dataframe tbody tr th:only-of-type {\n",
       "        vertical-align: middle;\n",
       "    }\n",
       "\n",
       "    .dataframe tbody tr th {\n",
       "        vertical-align: top;\n",
       "    }\n",
       "\n",
       "    .dataframe thead th {\n",
       "        text-align: right;\n",
       "    }\n",
       "</style>\n",
       "<table border=\"1\" class=\"dataframe\">\n",
       "  <thead>\n",
       "    <tr style=\"text-align: right;\">\n",
       "      <th></th>\n",
       "      <th>bounce_ratio</th>\n",
       "    </tr>\n",
       "    <tr>\n",
       "      <th>ext_outcome</th>\n",
       "      <th></th>\n",
       "    </tr>\n",
       "  </thead>\n",
       "  <tbody>\n",
       "    <tr>\n",
       "      <th>0</th>\n",
       "      <td>4.619855</td>\n",
       "    </tr>\n",
       "    <tr>\n",
       "      <th>1</th>\n",
       "      <td>4.921180</td>\n",
       "    </tr>\n",
       "  </tbody>\n",
       "</table>\n",
       "</div>"
      ],
      "text/plain": [
       "             bounce_ratio\n",
       "ext_outcome              \n",
       "0                4.619855\n",
       "1                4.921180"
      ]
     },
     "execution_count": 2075,
     "metadata": {},
     "output_type": "execute_result"
    }
   ],
   "source": [
    "contDF.groupby(outcome_lab).agg({'bounce_ratio': 'mean'})"
   ]
  },
  {
   "cell_type": "markdown",
   "metadata": {},
   "source": [
    "* Median for each category"
   ]
  },
  {
   "cell_type": "code",
   "execution_count": 2076,
   "metadata": {},
   "outputs": [
    {
     "data": {
      "text/html": [
       "<div>\n",
       "<style scoped>\n",
       "    .dataframe tbody tr th:only-of-type {\n",
       "        vertical-align: middle;\n",
       "    }\n",
       "\n",
       "    .dataframe tbody tr th {\n",
       "        vertical-align: top;\n",
       "    }\n",
       "\n",
       "    .dataframe thead th {\n",
       "        text-align: right;\n",
       "    }\n",
       "</style>\n",
       "<table border=\"1\" class=\"dataframe\">\n",
       "  <thead>\n",
       "    <tr style=\"text-align: right;\">\n",
       "      <th></th>\n",
       "      <th>bounce_ratio</th>\n",
       "    </tr>\n",
       "    <tr>\n",
       "      <th>ext_outcome</th>\n",
       "      <th></th>\n",
       "    </tr>\n",
       "  </thead>\n",
       "  <tbody>\n",
       "    <tr>\n",
       "      <th>0</th>\n",
       "      <td>4.333333</td>\n",
       "    </tr>\n",
       "    <tr>\n",
       "      <th>1</th>\n",
       "      <td>4.000000</td>\n",
       "    </tr>\n",
       "  </tbody>\n",
       "</table>\n",
       "</div>"
      ],
      "text/plain": [
       "             bounce_ratio\n",
       "ext_outcome              \n",
       "0                4.333333\n",
       "1                4.000000"
      ]
     },
     "execution_count": 2076,
     "metadata": {},
     "output_type": "execute_result"
    }
   ],
   "source": [
    "contDF.groupby(outcome_lab).agg({'bounce_ratio': 'median'})"
   ]
  },
  {
   "cell_type": "markdown",
   "metadata": {},
   "source": [
    "Let's analyze the distribution with a histogram"
   ]
  },
  {
   "cell_type": "code",
   "execution_count": 2077,
   "metadata": {},
   "outputs": [],
   "source": [
    "succ=contDF.loc[contDF[outcome_lab]==1]['bounce_ratio']\n",
    "fail=contDF.loc[contDF[outcome_lab]==0]['bounce_ratio']"
   ]
  },
  {
   "cell_type": "code",
   "execution_count": 2078,
   "metadata": {},
   "outputs": [
    {
     "data": {
      "text/plain": [
       "<matplotlib.text.Text at 0x13a955940>"
      ]
     },
     "execution_count": 2078,
     "metadata": {},
     "output_type": "execute_result"
    },
    {
     "data": {
      "image/png": "[encoded data removed]",
      "text/plain": [
       "<matplotlib.figure.Figure at 0x13a7ac978>"
      ]
     },
     "metadata": {},
     "output_type": "display_data"
    }
   ],
   "source": [
    "plt.hist([fail,succ], bins = 15, normed=True, label=['0','1'])\n",
    "\n",
    "plt.legend()\n",
    "plt.xlabel('Bounce ratio')\n",
    "plt.ylabel('Normalized Freq')\n",
    "plt.title('Hist for Bounce ratio on the outcome')"
   ]
  },
  {
   "cell_type": "code",
   "execution_count": 2079,
   "metadata": {},
   "outputs": [
    {
     "data": {
      "text/plain": [
       "<matplotlib.text.Text at 0x13aaacb70>"
      ]
     },
     "execution_count": 2079,
     "metadata": {},
     "output_type": "execute_result"
    },
    {
     "data": {
      "image/png": "[encoded data removed]",
      "text/plain": [
       "<matplotlib.figure.Figure at 0x13aa01dd8>"
      ]
     },
     "metadata": {},
     "output_type": "display_data"
    }
   ],
   "source": [
    "plt.xlim(0,20)\n",
    "plt.hist([fail,succ], bins = 15, normed=True, label=['0','1'])\n",
    "\n",
    "plt.legend()\n",
    "plt.xlabel('Bounce ratio')\n",
    "plt.ylabel('Normalized Freq')\n",
    "plt.title('Hist for Bounce ratio depending on the outcome')"
   ]
  },
  {
   "cell_type": "markdown",
   "metadata": {},
   "source": [
    "## Calculating points\n",
    "This section will calculate a total score for each trade that will be used to predict the outcome.<br>"
   ]
  },
  {
   "cell_type": "markdown",
   "metadata": {},
   "source": [
    "First, let's create a function to calculate the points"
   ]
  },
  {
   "cell_type": "code",
   "execution_count": 2080,
   "metadata": {},
   "outputs": [],
   "source": [
    "def calculate_points(row,attribs):\n",
    "    '''\n",
    "    Function to calculate the points for a particular trade\n",
    "    \n",
    "    Parameters\n",
    "    ----------\n",
    "    row : dataframe row\n",
    "    attribs : list of dicts\n",
    "              The dict has the following format:\n",
    "              {'attr' : 'RSI bounces',\n",
    "               'cutoff' : [(0,6), (7,10), (11,100000)],\n",
    "               'points' : [2,-2,-3]}\n",
    "               \n",
    "    Returns\n",
    "    -------\n",
    "    Returns a score for this trade\n",
    "    \n",
    "    '''\n",
    "    score=0\n",
    "    for a in attribs:\n",
    "        value=row[a['attr']]\n",
    "        cutoffs=a['cutoffs']\n",
    "        points=a['points']\n",
    "        if cutoffs =='bool':\n",
    "            if a['rel'] == 'is_true':\n",
    "                if value == True or value == 1:\n",
    "                    score+=points\n",
    "                if value == False  or value == 0:\n",
    "                    score+=-1*points\n",
    "        else:\n",
    "            if len(cutoffs)!= len(points):\n",
    "                raise Exception(\"Length of cutoffs is different to length of points\")\n",
    "            for i, j in zip(cutoffs, points):\n",
    "                if value>=i[0] and value<=i[1]:\n",
    "                    score+=j\n",
    "                \n",
    "    return score"
   ]
  },
  {
   "cell_type": "markdown",
   "metadata": {},
   "source": [
    "# ALL\n",
    "attbs=[]\n",
    "\n",
    "attbs.append({\n",
    "        'attr' : 'RSI bounces',\n",
    "        'cutoffs' : [(0,2), (3,3), (4,100000)],\n",
    "        'points' : [2,-1,-2]\n",
    "        })\n",
    "attbs.append({\n",
    "        'attr' : 'entry on RSI',\n",
    "        'cutoffs' : 'bool',\n",
    "        'rel' : 'is_true',\n",
    "        'points' : 3\n",
    "        })\n",
    "attbs.append({\n",
    "        'attr' : 'length of trend (-1)',\n",
    "        'cutoffs' : [(0,10),(11,25),(26,35),(36,60),(61,10000)],\n",
    "        'points' : [-1,2,1,-1,-2]\n",
    "        })\n",
    "attbs.append( {\n",
    "        'attr' : 'inn_bounce',\n",
    "        'cutoffs' : [(0,7),(8,1000000)],\n",
    "        'points' : [2,-2]\n",
    "        })\n",
    "attbs.append( {\n",
    "        'attr' : 'pips_ratio_norm',\n",
    "        'cutoffs' : [(0,3),(4,30)],\n",
    "        'points' : [-2,2]\n",
    "        })\n",
    "attbs.append( {\n",
    "        'attr' : 'sum_bounces',\n",
    "        'cutoffs' : [(0,7),(8,100000)],\n",
    "        'points' : [2,-2]\n",
    "        })\n",
    "attbs.append( {\n",
    "        'attr' : 'norm_bounce_pips',\n",
    "        'cutoffs' : [(0,48),(49,1000)],\n",
    "        'points' : [2,-2]\n",
    "        })\n",
    "attbs.append( {\n",
    "        'attr' : 'entry_aligned',\n",
    "        'cutoffs' : 'bool',\n",
    "        'rel' : 'is_true',\n",
    "        'points' : 6\n",
    "        })\n",
    "attbs.append( {\n",
    "        'attr' : 'indecission',\n",
    "        'cutoffs' : [(0,3),(4,5),(6,100)],\n",
    "        'points' : [1,-1,-2]\n",
    "        })\n",
    "attbs.append( {\n",
    "        'attr' : 'bounce_ratio',\n",
    "        'cutoffs' : [(0,3),(4,10000)],\n",
    "        'points' : [-2,2]\n",
    "        })"
   ]
  },
  {
   "cell_type": "code",
   "execution_count": 2081,
   "metadata": {},
   "outputs": [],
   "source": [
    "# ALL and entry_aligned=1\n",
    "attbs.append({\n",
    "        'attr' : 'diff',\n",
    "        'cutoffs' : [(0,700),(701,100000)],\n",
    "        'points' : [1,-1]\n",
    "        })\n",
    "attbs.append({\n",
    "        'attr' : 'RSI bounces',\n",
    "        'cutoffs' : [(0,0),(1,3),(4,100000)],\n",
    "        'points' : [1,2,-2]\n",
    "        })\n",
    "attbs.append({\n",
    "        'attr' : 'entry on RSI',\n",
    "        'cutoffs' : 'bool',\n",
    "        'rel' : 'is_true',\n",
    "        'points' : 1\n",
    "        })\n",
    "attbs.append({\n",
    "        'attr' : 'length of trend (-1)',\n",
    "        'cutoffs' : [(0,10),(11,40),(41,50),(51,120),(121,10000)],\n",
    "        'points' : [-1,2,1,-1,-2]\n",
    "        })\n",
    "attbs.append( {\n",
    "        'attr' : 'sum_bounces',\n",
    "        'cutoffs' : [(0,3),(4,100000)],\n",
    "        'points' : [2,-2]\n",
    "        })\n",
    "attbs.append( {\n",
    "        'attr' : 'norm_bounce_pips',\n",
    "        'cutoffs' : [(0,48),(49,1000)],\n",
    "        'points' : [2,-2]\n",
    "        })\n",
    "attbs.append( {\n",
    "        'attr' : 'indecission',\n",
    "        'cutoffs' : [(0,1),(1,2),(3,3),(4,1000)],\n",
    "        'points' : [-1,2,-1,-2]\n",
    "        })"
   ]
  },
  {
   "cell_type": "markdown",
   "metadata": {},
   "source": [
    "# D\n",
    "attbs=[]\n",
    "\n",
    "attbs.append({\n",
    "        'attr' : 'diff',\n",
    "        'cutoffs' : [(0,300),(301,100000)],\n",
    "        'points' : [2,-2]\n",
    "        })\n",
    "attbs.append({\n",
    "        'attr' : 'RSI bounces',\n",
    "        'cutoffs' : [(0,2), (3,3), (4,100000)],\n",
    "        'points' : [2,-1,-2]\n",
    "        })\n",
    "attbs.append({\n",
    "        'attr' : 'entry on RSI',\n",
    "        'cutoffs' : 'bool',\n",
    "        'rel' : 'is_true',\n",
    "        'points' : 3\n",
    "        })\n",
    "attbs.append( {\n",
    "        'attr' : 'length of trend (-1)',\n",
    "        'cutoffs' : [(0,10),(11,14),(15,23),(24,50),(51,10000)],\n",
    "        'points' : [-1,1,2,1,-2]\n",
    "        })\n",
    "attbs.append( {\n",
    "        'attr' : 'inn_bounce',\n",
    "        'cutoffs' : [(0,7),(8,1000000)],\n",
    "        'points' : [2,-2]\n",
    "        })\n",
    "attbs.append( {\n",
    "        'attr' : 'pips_ratio',\n",
    "        'cutoffs' : [(0,150),(151,220),(221,1000000000000)],\n",
    "        'points' : [-2,1,2]\n",
    "        })\n",
    "attbs.append( {\n",
    "        'attr' : 'sum_bounces',\n",
    "        'cutoffs' : [(0,6),(7,1000000)],\n",
    "        'points' : [2,-2]\n",
    "        })\n",
    "attbs.append( {\n",
    "        'attr' : 'bounce (pips)',\n",
    "        'cutoffs' : [(0,800),(801,1000000)],\n",
    "        'points' : [2,-2]\n",
    "        })\n",
    "attbs.append( {\n",
    "        'attr' : 'entry_aligned',\n",
    "        'cutoffs' : 'bool',\n",
    "        'rel' : 'is_true',\n",
    "        'points' : 6\n",
    "        })\n",
    "attbs.append( {\n",
    "        'attr' : 'indecission',\n",
    "        'cutoffs' : [(0,3),(4,20)],\n",
    "        'points' : [2,-2]\n",
    "        })\n",
    "attbs.append( {\n",
    "        'attr' : 'bounce_ratio',\n",
    "        'cutoffs' : [(0,4),(5,10000)],\n",
    "        'points' : [-2,2]\n",
    "        })"
   ]
  },
  {
   "cell_type": "markdown",
   "metadata": {},
   "source": [
    "# H12\n",
    "attbs=[]\n",
    "\n",
    "attbs.append({\n",
    "        'attr' : 'diff',\n",
    "        'cutoffs' : [(0,600),(601,100000)],\n",
    "        'points' : [2,-2]\n",
    "        })\n",
    "attbs.append({\n",
    "        'attr' : 'RSI bounces',\n",
    "        'cutoffs' : [(0,1),(2,2),(3,6),(7,100000)],\n",
    "        'points' : [2,1,-1,-2]\n",
    "        })\n",
    "attbs.append({\n",
    "        'attr' : 'entry on RSI',\n",
    "        'cutoffs' : 'bool',\n",
    "        'rel' : 'is_true',\n",
    "        'points' : 3\n",
    "        })\n",
    "attbs.append( {\n",
    "        'attr' : 'length of trend (-1)',\n",
    "        'cutoffs' : [(0,9), (10,99),(100,1000000)],\n",
    "        'points' : [-1,1,-1]\n",
    "        })\n",
    "attbs.append( {\n",
    "        'attr' : 'inn_bounce',\n",
    "        'cutoffs' : [(0,7),(8,1000000)],\n",
    "        'points' : [2,-2]\n",
    "        })\n",
    "attbs.append( {\n",
    "        'attr' : 'pips_ratio',\n",
    "        'cutoffs' : [(0,150),(151,1000000000000)],\n",
    "        'points' : [-2,2]\n",
    "        })\n",
    "attbs.append( {\n",
    "        'attr' : 'sum_bounces',\n",
    "        'cutoffs' : [(0,4),(5,100000)],\n",
    "        'points' : [2,-2]\n",
    "        })\n",
    "attbs.append( {\n",
    "        'attr' : 'bounce (pips)',\n",
    "        'cutoffs' : [(0,900),(901,1000000)],\n",
    "        'points' : [2,-2]\n",
    "        })\n",
    "attbs.append( {\n",
    "        'attr' : 'entry_aligned',\n",
    "        'cutoffs' : 'bool',\n",
    "        'rel' : 'is_true',\n",
    "        'points' : 6\n",
    "        })\n",
    "attbs.append( {\n",
    "        'attr' : 'indecission',\n",
    "        'cutoffs' : [(0,5),(6,20)],\n",
    "        'points' : [2,-2]\n",
    "        })\n",
    "attbs.append( {\n",
    "        'attr' : 'bounce_ratio',\n",
    "        'cutoffs' : [(0,6),(7,10000)],\n",
    "        'points' : [2,-2]\n",
    "        })"
   ]
  },
  {
   "cell_type": "markdown",
   "metadata": {},
   "source": [
    "#H6\n",
    "attbs=[]\n",
    "\n",
    "attbs.append({\n",
    "        'attr' : 'diff',\n",
    "        'cutoffs' : [(0,350),(351,1000000)],\n",
    "        'points' : [-2,2]\n",
    "        })\n",
    "attbs.append({\n",
    "        'attr' : 'RSI bounces',\n",
    "        'cutoffs' : [(0,0),(1,3),(4,1000)],\n",
    "        'points' : [-1,2,-1]\n",
    "        })\n",
    "attbs.append({\n",
    "        'attr' : 'entry on RSI',\n",
    "        'cutoffs' : 'bool',\n",
    "        'rel' : 'is_true',\n",
    "        'points' : 3\n",
    "        })\n",
    "attbs.append( {\n",
    "        'attr' : 'inn_bounce',\n",
    "        'cutoffs' : [(0,5),(6,1000)],\n",
    "        'points' : [2,-2]\n",
    "        })\n",
    "attbs.append( {\n",
    "        'attr' : 'pips_ratio',\n",
    "        'cutoffs' : [(0,100),(101,10000)],\n",
    "        'points' : [-1,1]\n",
    "        })\n",
    "attbs.append( {\n",
    "        'attr' : 'sum_bounces',\n",
    "        'cutoffs' : [(0,3),(4,100000)],\n",
    "        'points' : [2,-2]\n",
    "        })\n",
    "attbs.append( {\n",
    "        'attr' : 'bounce (pips)',\n",
    "        'cutoffs' : [(0,600),(601,1000000)],\n",
    "        'points' : [2,-2]\n",
    "        })\n",
    "attbs.append( {\n",
    "        'attr' : 'entry_aligned',\n",
    "        'cutoffs' : 'bool',\n",
    "        'rel' : 'is_true',\n",
    "        'points' : 6\n",
    "        })\n",
    "attbs.append( {\n",
    "        'attr' : 'indecission',\n",
    "        'cutoffs' : [(0,1),(2,10)],\n",
    "        'points' : [2,-2]\n",
    "        })\n",
    "attbs.append( {\n",
    "        'attr' : 'bounce_ratio',\n",
    "        'cutoffs' : [(0,5),(6,1000)],\n",
    "        'points' : [-2,2]\n",
    "        })"
   ]
  },
  {
   "cell_type": "markdown",
   "metadata": {},
   "source": [
    "Now, let's apply the calculate_points on each row of the dataframe"
   ]
  },
  {
   "cell_type": "code",
   "execution_count": 2082,
   "metadata": {},
   "outputs": [],
   "source": [
    "contDF['score']=contDF.apply(calculate_points, axis=1, attribs=attbs)"
   ]
  },
  {
   "cell_type": "markdown",
   "metadata": {},
   "source": [
    "Examining trades with score above the chosen cutoff but failing:"
   ]
  },
  {
   "cell_type": "code",
   "execution_count": 2083,
   "metadata": {},
   "outputs": [
    {
     "name": "stdout",
     "output_type": "stream",
     "text": [
      "ext_outcome\n"
     ]
    },
    {
     "data": {
      "text/html": [
       "<div>\n",
       "<style scoped>\n",
       "    .dataframe tbody tr th:only-of-type {\n",
       "        vertical-align: middle;\n",
       "    }\n",
       "\n",
       "    .dataframe tbody tr th {\n",
       "        vertical-align: top;\n",
       "    }\n",
       "\n",
       "    .dataframe thead th {\n",
       "        text-align: right;\n",
       "    }\n",
       "</style>\n",
       "<table border=\"1\" class=\"dataframe\">\n",
       "  <thead>\n",
       "    <tr style=\"text-align: right;\">\n",
       "      <th></th>\n",
       "      <th>id</th>\n",
       "      <th>start</th>\n",
       "      <th>type</th>\n",
       "      <th>timeframe</th>\n",
       "      <th>entry</th>\n",
       "      <th>outcome</th>\n",
       "      <th>RSI bounces</th>\n",
       "      <th>bounce length</th>\n",
       "      <th>bounce (pips)</th>\n",
       "      <th>inn_bounce</th>\n",
       "      <th>...</th>\n",
       "      <th>norm_bounce_pips</th>\n",
       "      <th>norm_retraced</th>\n",
       "      <th>ext_outcome</th>\n",
       "      <th>diff</th>\n",
       "      <th>length_bounce_perc</th>\n",
       "      <th>pips_ratio</th>\n",
       "      <th>pips_ratio_norm</th>\n",
       "      <th>sum_bounces</th>\n",
       "      <th>bounce_ratio</th>\n",
       "      <th>score</th>\n",
       "    </tr>\n",
       "  </thead>\n",
       "  <tbody>\n",
       "    <tr>\n",
       "      <th>10</th>\n",
       "      <td>USD_JPY 17OCT2018H12</td>\n",
       "      <td>2018-10-17 10:00:00</td>\n",
       "      <td>short</td>\n",
       "      <td>H12</td>\n",
       "      <td>112.13700</td>\n",
       "      <td>0</td>\n",
       "      <td>1</td>\n",
       "      <td>1</td>\n",
       "      <td>590</td>\n",
       "      <td>6</td>\n",
       "      <td>...</td>\n",
       "      <td>12.29</td>\n",
       "      <td>NaN</td>\n",
       "      <td>0</td>\n",
       "      <td>281</td>\n",
       "      <td>33.333333</td>\n",
       "      <td>126.388889</td>\n",
       "      <td>2.611111</td>\n",
       "      <td>1</td>\n",
       "      <td>1.200000</td>\n",
       "      <td>21</td>\n",
       "    </tr>\n",
       "    <tr>\n",
       "      <th>23</th>\n",
       "      <td>USD_JPY 07MAR2007H12</td>\n",
       "      <td>2007-07-03 10:00:00</td>\n",
       "      <td>short</td>\n",
       "      <td>H12</td>\n",
       "      <td>116.22500</td>\n",
       "      <td>0</td>\n",
       "      <td>2</td>\n",
       "      <td>5,1</td>\n",
       "      <td>1295</td>\n",
       "      <td>6</td>\n",
       "      <td>...</td>\n",
       "      <td>26.98</td>\n",
       "      <td>NaN</td>\n",
       "      <td>0</td>\n",
       "      <td>537</td>\n",
       "      <td>37.500000</td>\n",
       "      <td>336.062500</td>\n",
       "      <td>7.000000</td>\n",
       "      <td>6</td>\n",
       "      <td>6.000000</td>\n",
       "      <td>29</td>\n",
       "    </tr>\n",
       "    <tr>\n",
       "      <th>28</th>\n",
       "      <td>USD_JPY 04MAR2009D</td>\n",
       "      <td>2009-04-03 23:00:00</td>\n",
       "      <td>long</td>\n",
       "      <td>D</td>\n",
       "      <td>98.63100</td>\n",
       "      <td>0</td>\n",
       "      <td>1</td>\n",
       "      <td>2</td>\n",
       "      <td>1470</td>\n",
       "      <td>6</td>\n",
       "      <td>...</td>\n",
       "      <td>30.62</td>\n",
       "      <td>64.58</td>\n",
       "      <td>0</td>\n",
       "      <td>449</td>\n",
       "      <td>30.000000</td>\n",
       "      <td>487.550000</td>\n",
       "      <td>10.150000</td>\n",
       "      <td>2</td>\n",
       "      <td>6.000000</td>\n",
       "      <td>47</td>\n",
       "    </tr>\n",
       "    <tr>\n",
       "      <th>41</th>\n",
       "      <td>USD_CHF 24MAY2016D</td>\n",
       "      <td>2016-05-24 23:00:00</td>\n",
       "      <td>long</td>\n",
       "      <td>D</td>\n",
       "      <td>0.99243</td>\n",
       "      <td>0</td>\n",
       "      <td>0</td>\n",
       "      <td>0</td>\n",
       "      <td>485</td>\n",
       "      <td>4</td>\n",
       "      <td>...</td>\n",
       "      <td>10.10</td>\n",
       "      <td>NaN</td>\n",
       "      <td>0</td>\n",
       "      <td>143</td>\n",
       "      <td>28.571429</td>\n",
       "      <td>277.428571</td>\n",
       "      <td>5.714286</td>\n",
       "      <td>0</td>\n",
       "      <td>4.000000</td>\n",
       "      <td>35</td>\n",
       "    </tr>\n",
       "    <tr>\n",
       "      <th>56</th>\n",
       "      <td>USD_CHF 10SEP2013H12</td>\n",
       "      <td>2013-10-09 10:00:00</td>\n",
       "      <td>long</td>\n",
       "      <td>H12</td>\n",
       "      <td>0.93456</td>\n",
       "      <td>0</td>\n",
       "      <td>1</td>\n",
       "      <td>2</td>\n",
       "      <td>1268</td>\n",
       "      <td>13</td>\n",
       "      <td>...</td>\n",
       "      <td>26.42</td>\n",
       "      <td>NaN</td>\n",
       "      <td>0</td>\n",
       "      <td>275</td>\n",
       "      <td>72.222222</td>\n",
       "      <td>90.444444</td>\n",
       "      <td>1.833333</td>\n",
       "      <td>2</td>\n",
       "      <td>4.333333</td>\n",
       "      <td>25</td>\n",
       "    </tr>\n",
       "    <tr>\n",
       "      <th>105</th>\n",
       "      <td>USD_CAD 10NOV2008D</td>\n",
       "      <td>2008-07-11 23:00:00</td>\n",
       "      <td>short</td>\n",
       "      <td>D</td>\n",
       "      <td>1.17019</td>\n",
       "      <td>0</td>\n",
       "      <td>0</td>\n",
       "      <td>0</td>\n",
       "      <td>4200</td>\n",
       "      <td>6</td>\n",
       "      <td>...</td>\n",
       "      <td>87.50</td>\n",
       "      <td>NaN</td>\n",
       "      <td>0</td>\n",
       "      <td>183</td>\n",
       "      <td>75.000000</td>\n",
       "      <td>1566.625000</td>\n",
       "      <td>32.625000</td>\n",
       "      <td>0</td>\n",
       "      <td>6.000000</td>\n",
       "      <td>12</td>\n",
       "    </tr>\n",
       "    <tr>\n",
       "      <th>113</th>\n",
       "      <td>NZD_USD 26APR2011D</td>\n",
       "      <td>2011-04-25 23:00:00</td>\n",
       "      <td>long</td>\n",
       "      <td>D</td>\n",
       "      <td>0.80398</td>\n",
       "      <td>0</td>\n",
       "      <td>3</td>\n",
       "      <td>3,5,3</td>\n",
       "      <td>373</td>\n",
       "      <td>4</td>\n",
       "      <td>...</td>\n",
       "      <td>7.77</td>\n",
       "      <td>44.54</td>\n",
       "      <td>0</td>\n",
       "      <td>3036</td>\n",
       "      <td>14.814815</td>\n",
       "      <td>313.333333</td>\n",
       "      <td>6.518519</td>\n",
       "      <td>11</td>\n",
       "      <td>4.000000</td>\n",
       "      <td>25</td>\n",
       "    </tr>\n",
       "    <tr>\n",
       "      <th>131</th>\n",
       "      <td>NZD_JPY 25SEP2018H12</td>\n",
       "      <td>2018-09-25 10:00:00</td>\n",
       "      <td>long</td>\n",
       "      <td>H12</td>\n",
       "      <td>75.11900</td>\n",
       "      <td>0</td>\n",
       "      <td>1</td>\n",
       "      <td>4</td>\n",
       "      <td>573</td>\n",
       "      <td>7</td>\n",
       "      <td>...</td>\n",
       "      <td>11.94</td>\n",
       "      <td>NaN</td>\n",
       "      <td>0</td>\n",
       "      <td>260</td>\n",
       "      <td>31.818182</td>\n",
       "      <td>118.590909</td>\n",
       "      <td>2.454545</td>\n",
       "      <td>4</td>\n",
       "      <td>7.000000</td>\n",
       "      <td>25</td>\n",
       "    </tr>\n",
       "    <tr>\n",
       "      <th>144</th>\n",
       "      <td>NZD_JPY 06AUG2012H12</td>\n",
       "      <td>2012-06-08 22:00:00</td>\n",
       "      <td>long</td>\n",
       "      <td>H12</td>\n",
       "      <td>64.34600</td>\n",
       "      <td>0</td>\n",
       "      <td>0</td>\n",
       "      <td>0</td>\n",
       "      <td>280</td>\n",
       "      <td>4</td>\n",
       "      <td>...</td>\n",
       "      <td>5.83</td>\n",
       "      <td>NaN</td>\n",
       "      <td>0</td>\n",
       "      <td>155</td>\n",
       "      <td>23.529412</td>\n",
       "      <td>172.176471</td>\n",
       "      <td>3.529412</td>\n",
       "      <td>0</td>\n",
       "      <td>4.000000</td>\n",
       "      <td>33</td>\n",
       "    </tr>\n",
       "    <tr>\n",
       "      <th>146</th>\n",
       "      <td>NZD_JPY 05NOV2010H12</td>\n",
       "      <td>2010-05-11 09:00:00</td>\n",
       "      <td>long</td>\n",
       "      <td>H12</td>\n",
       "      <td>64.35100</td>\n",
       "      <td>0</td>\n",
       "      <td>0</td>\n",
       "      <td>0</td>\n",
       "      <td>300</td>\n",
       "      <td>3</td>\n",
       "      <td>...</td>\n",
       "      <td>6.25</td>\n",
       "      <td>NaN</td>\n",
       "      <td>0</td>\n",
       "      <td>126</td>\n",
       "      <td>33.333333</td>\n",
       "      <td>387.444444</td>\n",
       "      <td>8.000000</td>\n",
       "      <td>0</td>\n",
       "      <td>3.000000</td>\n",
       "      <td>32</td>\n",
       "    </tr>\n",
       "    <tr>\n",
       "      <th>165</th>\n",
       "      <td>GBP_USD 04JUN2015H12</td>\n",
       "      <td>2015-04-06 22:00:00</td>\n",
       "      <td>short</td>\n",
       "      <td>H12</td>\n",
       "      <td>1.53306</td>\n",
       "      <td>0</td>\n",
       "      <td>0</td>\n",
       "      <td>0</td>\n",
       "      <td>2140</td>\n",
       "      <td>13</td>\n",
       "      <td>...</td>\n",
       "      <td>44.58</td>\n",
       "      <td>NaN</td>\n",
       "      <td>0</td>\n",
       "      <td>92</td>\n",
       "      <td>44.827586</td>\n",
       "      <td>154.965517</td>\n",
       "      <td>3.206897</td>\n",
       "      <td>0</td>\n",
       "      <td>4.333333</td>\n",
       "      <td>24</td>\n",
       "    </tr>\n",
       "    <tr>\n",
       "      <th>191</th>\n",
       "      <td>GBP_JPY 09SEP2008D</td>\n",
       "      <td>2008-09-09 23:00:00</td>\n",
       "      <td>short</td>\n",
       "      <td>D</td>\n",
       "      <td>188.64200</td>\n",
       "      <td>0</td>\n",
       "      <td>3</td>\n",
       "      <td>14,1,2</td>\n",
       "      <td>5000</td>\n",
       "      <td>4</td>\n",
       "      <td>...</td>\n",
       "      <td>104.17</td>\n",
       "      <td>22.92</td>\n",
       "      <td>0</td>\n",
       "      <td>2067</td>\n",
       "      <td>18.181818</td>\n",
       "      <td>1143.454545</td>\n",
       "      <td>23.818182</td>\n",
       "      <td>17</td>\n",
       "      <td>4.000000</td>\n",
       "      <td>14</td>\n",
       "    </tr>\n",
       "    <tr>\n",
       "      <th>194</th>\n",
       "      <td>GBP_JPY 08MAR2018D</td>\n",
       "      <td>2018-08-03 00:00:00</td>\n",
       "      <td>short</td>\n",
       "      <td>D</td>\n",
       "      <td>146.60600</td>\n",
       "      <td>0</td>\n",
       "      <td>1</td>\n",
       "      <td>3</td>\n",
       "      <td>2300</td>\n",
       "      <td>7</td>\n",
       "      <td>...</td>\n",
       "      <td>47.92</td>\n",
       "      <td>NaN</td>\n",
       "      <td>0</td>\n",
       "      <td>571</td>\n",
       "      <td>30.434783</td>\n",
       "      <td>431.000000</td>\n",
       "      <td>8.956522</td>\n",
       "      <td>3</td>\n",
       "      <td>7.000000</td>\n",
       "      <td>37</td>\n",
       "    </tr>\n",
       "    <tr>\n",
       "      <th>214</th>\n",
       "      <td>GBP_AUD 20APR2009H12</td>\n",
       "      <td>2009-04-20 10:00:00</td>\n",
       "      <td>long</td>\n",
       "      <td>H12</td>\n",
       "      <td>2.05830</td>\n",
       "      <td>0</td>\n",
       "      <td>0</td>\n",
       "      <td>0</td>\n",
       "      <td>4080</td>\n",
       "      <td>10</td>\n",
       "      <td>...</td>\n",
       "      <td>85.00</td>\n",
       "      <td>135.06</td>\n",
       "      <td>0</td>\n",
       "      <td>107</td>\n",
       "      <td>100.000000</td>\n",
       "      <td>444.300000</td>\n",
       "      <td>9.200000</td>\n",
       "      <td>0</td>\n",
       "      <td>10.000000</td>\n",
       "      <td>10</td>\n",
       "    </tr>\n",
       "    <tr>\n",
       "      <th>216</th>\n",
       "      <td>GBP_AUD 18DEC2011H12</td>\n",
       "      <td>2011-12-18 22:00:00</td>\n",
       "      <td>long</td>\n",
       "      <td>H12</td>\n",
       "      <td>1.56070</td>\n",
       "      <td>0</td>\n",
       "      <td>0</td>\n",
       "      <td>0</td>\n",
       "      <td>1350</td>\n",
       "      <td>6</td>\n",
       "      <td>...</td>\n",
       "      <td>28.12</td>\n",
       "      <td>NaN</td>\n",
       "      <td>0</td>\n",
       "      <td>341</td>\n",
       "      <td>40.000000</td>\n",
       "      <td>280.133333</td>\n",
       "      <td>5.800000</td>\n",
       "      <td>0</td>\n",
       "      <td>6.000000</td>\n",
       "      <td>35</td>\n",
       "    </tr>\n",
       "    <tr>\n",
       "      <th>234</th>\n",
       "      <td>EUR_USD 28AUG2015H8</td>\n",
       "      <td>2015-08-25 22:00:00</td>\n",
       "      <td>long</td>\n",
       "      <td>H8</td>\n",
       "      <td>1.15295</td>\n",
       "      <td>0</td>\n",
       "      <td>1</td>\n",
       "      <td>6</td>\n",
       "      <td>2628</td>\n",
       "      <td>6</td>\n",
       "      <td>...</td>\n",
       "      <td>54.75</td>\n",
       "      <td>NaN</td>\n",
       "      <td>0</td>\n",
       "      <td>236</td>\n",
       "      <td>16.666667</td>\n",
       "      <td>191.111111</td>\n",
       "      <td>3.972222</td>\n",
       "      <td>6</td>\n",
       "      <td>6.000000</td>\n",
       "      <td>12</td>\n",
       "    </tr>\n",
       "    <tr>\n",
       "      <th>235</th>\n",
       "      <td>EUR_USD 26JUL20102D</td>\n",
       "      <td>2010-07-26 23:00:00</td>\n",
       "      <td>long</td>\n",
       "      <td>2D</td>\n",
       "      <td>1.29623</td>\n",
       "      <td>0</td>\n",
       "      <td>0</td>\n",
       "      <td>0</td>\n",
       "      <td>2440</td>\n",
       "      <td>5</td>\n",
       "      <td>...</td>\n",
       "      <td>50.83</td>\n",
       "      <td>25.00</td>\n",
       "      <td>0</td>\n",
       "      <td>203</td>\n",
       "      <td>29.411765</td>\n",
       "      <td>605.764706</td>\n",
       "      <td>12.588235</td>\n",
       "      <td>0</td>\n",
       "      <td>5.000000</td>\n",
       "      <td>23</td>\n",
       "    </tr>\n",
       "    <tr>\n",
       "      <th>275</th>\n",
       "      <td>EUR_JPY 08APR2011H12</td>\n",
       "      <td>2011-08-04 10:00:00</td>\n",
       "      <td>long</td>\n",
       "      <td>H12</td>\n",
       "      <td>122.86000</td>\n",
       "      <td>0</td>\n",
       "      <td>0</td>\n",
       "      <td>0</td>\n",
       "      <td>1940</td>\n",
       "      <td>5</td>\n",
       "      <td>...</td>\n",
       "      <td>40.42</td>\n",
       "      <td>NaN</td>\n",
       "      <td>0</td>\n",
       "      <td>576</td>\n",
       "      <td>16.129032</td>\n",
       "      <td>406.419355</td>\n",
       "      <td>8.451613</td>\n",
       "      <td>0</td>\n",
       "      <td>5.000000</td>\n",
       "      <td>44</td>\n",
       "    </tr>\n",
       "    <tr>\n",
       "      <th>283</th>\n",
       "      <td>EUR_GBP 9MAR2010D</td>\n",
       "      <td>2010-09-03 23:00:00</td>\n",
       "      <td>long</td>\n",
       "      <td>D</td>\n",
       "      <td>0.90137</td>\n",
       "      <td>0</td>\n",
       "      <td>1</td>\n",
       "      <td>1</td>\n",
       "      <td>1118</td>\n",
       "      <td>7</td>\n",
       "      <td>...</td>\n",
       "      <td>23.29</td>\n",
       "      <td>NaN</td>\n",
       "      <td>0</td>\n",
       "      <td>601</td>\n",
       "      <td>63.636364</td>\n",
       "      <td>344.181818</td>\n",
       "      <td>7.090909</td>\n",
       "      <td>1</td>\n",
       "      <td>7.000000</td>\n",
       "      <td>37</td>\n",
       "    </tr>\n",
       "    <tr>\n",
       "      <th>296</th>\n",
       "      <td>EUR_GBP 06DEC2010H12</td>\n",
       "      <td>2010-06-12 22:00:00</td>\n",
       "      <td>short</td>\n",
       "      <td>H12</td>\n",
       "      <td>0.84558</td>\n",
       "      <td>0</td>\n",
       "      <td>2</td>\n",
       "      <td>1,2</td>\n",
       "      <td>1500</td>\n",
       "      <td>11</td>\n",
       "      <td>...</td>\n",
       "      <td>31.25</td>\n",
       "      <td>24.27</td>\n",
       "      <td>0</td>\n",
       "      <td>154</td>\n",
       "      <td>18.333333</td>\n",
       "      <td>78.816667</td>\n",
       "      <td>1.633333</td>\n",
       "      <td>3</td>\n",
       "      <td>1.571429</td>\n",
       "      <td>7</td>\n",
       "    </tr>\n",
       "    <tr>\n",
       "      <th>315</th>\n",
       "      <td>EUR_AUD 14SEP2016H6</td>\n",
       "      <td>2016-09-14 09:00:00</td>\n",
       "      <td>long</td>\n",
       "      <td>H6</td>\n",
       "      <td>1.50308</td>\n",
       "      <td>0</td>\n",
       "      <td>2</td>\n",
       "      <td>2,3</td>\n",
       "      <td>914</td>\n",
       "      <td>5</td>\n",
       "      <td>...</td>\n",
       "      <td>19.04</td>\n",
       "      <td>NaN</td>\n",
       "      <td>0</td>\n",
       "      <td>252</td>\n",
       "      <td>33.333333</td>\n",
       "      <td>291.733333</td>\n",
       "      <td>6.066667</td>\n",
       "      <td>5</td>\n",
       "      <td>5.000000</td>\n",
       "      <td>29</td>\n",
       "    </tr>\n",
       "    <tr>\n",
       "      <th>320</th>\n",
       "      <td>EUR_AUD 05AUG2015H6</td>\n",
       "      <td>2015-05-08 09:00:00</td>\n",
       "      <td>short</td>\n",
       "      <td>H6</td>\n",
       "      <td>1.47343</td>\n",
       "      <td>0</td>\n",
       "      <td>1</td>\n",
       "      <td>4</td>\n",
       "      <td>391</td>\n",
       "      <td>5</td>\n",
       "      <td>...</td>\n",
       "      <td>8.15</td>\n",
       "      <td>NaN</td>\n",
       "      <td>0</td>\n",
       "      <td>121</td>\n",
       "      <td>83.333333</td>\n",
       "      <td>523.833333</td>\n",
       "      <td>10.833333</td>\n",
       "      <td>4</td>\n",
       "      <td>5.000000</td>\n",
       "      <td>20</td>\n",
       "    </tr>\n",
       "    <tr>\n",
       "      <th>321</th>\n",
       "      <td>EUR_AUD 04NOV2016H6</td>\n",
       "      <td>2016-04-11 03:00:00</td>\n",
       "      <td>long</td>\n",
       "      <td>H6</td>\n",
       "      <td>1.44820</td>\n",
       "      <td>0</td>\n",
       "      <td>0</td>\n",
       "      <td>0</td>\n",
       "      <td>1051</td>\n",
       "      <td>11</td>\n",
       "      <td>...</td>\n",
       "      <td>21.90</td>\n",
       "      <td>NaN</td>\n",
       "      <td>0</td>\n",
       "      <td>92</td>\n",
       "      <td>40.740741</td>\n",
       "      <td>115.925926</td>\n",
       "      <td>2.407407</td>\n",
       "      <td>0</td>\n",
       "      <td>5.500000</td>\n",
       "      <td>28</td>\n",
       "    </tr>\n",
       "    <tr>\n",
       "      <th>326</th>\n",
       "      <td>AUD_USD 31MAY2010H8</td>\n",
       "      <td>2010-05-31 06:00:00</td>\n",
       "      <td>long</td>\n",
       "      <td>H8</td>\n",
       "      <td>0.85023</td>\n",
       "      <td>0</td>\n",
       "      <td>0</td>\n",
       "      <td>0</td>\n",
       "      <td>1026</td>\n",
       "      <td>7</td>\n",
       "      <td>...</td>\n",
       "      <td>21.38</td>\n",
       "      <td>NaN</td>\n",
       "      <td>0</td>\n",
       "      <td>507</td>\n",
       "      <td>63.636364</td>\n",
       "      <td>380.545455</td>\n",
       "      <td>7.909091</td>\n",
       "      <td>0</td>\n",
       "      <td>2.333333</td>\n",
       "      <td>27</td>\n",
       "    </tr>\n",
       "    <tr>\n",
       "      <th>327</th>\n",
       "      <td>AUD_USD 31MAY2010D</td>\n",
       "      <td>2010-05-31 23:00:00</td>\n",
       "      <td>short</td>\n",
       "      <td>D</td>\n",
       "      <td>0.83800</td>\n",
       "      <td>0</td>\n",
       "      <td>2</td>\n",
       "      <td>7,1</td>\n",
       "      <td>3715</td>\n",
       "      <td>8</td>\n",
       "      <td>...</td>\n",
       "      <td>77.40</td>\n",
       "      <td>NaN</td>\n",
       "      <td>0</td>\n",
       "      <td>509</td>\n",
       "      <td>44.444444</td>\n",
       "      <td>469.111111</td>\n",
       "      <td>9.722222</td>\n",
       "      <td>8</td>\n",
       "      <td>8.000000</td>\n",
       "      <td>9</td>\n",
       "    </tr>\n",
       "    <tr>\n",
       "      <th>346</th>\n",
       "      <td>AUD_USD 24NOV2011H12</td>\n",
       "      <td>2011-11-24 22:00:00</td>\n",
       "      <td>short</td>\n",
       "      <td>H12</td>\n",
       "      <td>0.97048</td>\n",
       "      <td>0</td>\n",
       "      <td>2</td>\n",
       "      <td>3,1</td>\n",
       "      <td>927</td>\n",
       "      <td>5</td>\n",
       "      <td>...</td>\n",
       "      <td>19.31</td>\n",
       "      <td>NaN</td>\n",
       "      <td>0</td>\n",
       "      <td>318</td>\n",
       "      <td>29.411765</td>\n",
       "      <td>376.882353</td>\n",
       "      <td>7.823529</td>\n",
       "      <td>4</td>\n",
       "      <td>5.000000</td>\n",
       "      <td>39</td>\n",
       "    </tr>\n",
       "    <tr>\n",
       "      <th>355</th>\n",
       "      <td>AUD_USD 22SEP2008H8</td>\n",
       "      <td>2008-09-22 14:00:00</td>\n",
       "      <td>long</td>\n",
       "      <td>H8</td>\n",
       "      <td>0.83878</td>\n",
       "      <td>0</td>\n",
       "      <td>0</td>\n",
       "      <td>0</td>\n",
       "      <td>777</td>\n",
       "      <td>6</td>\n",
       "      <td>...</td>\n",
       "      <td>16.19</td>\n",
       "      <td>NaN</td>\n",
       "      <td>0</td>\n",
       "      <td>257</td>\n",
       "      <td>60.000000</td>\n",
       "      <td>582.400000</td>\n",
       "      <td>12.100000</td>\n",
       "      <td>0</td>\n",
       "      <td>1.500000</td>\n",
       "      <td>14</td>\n",
       "    </tr>\n",
       "    <tr>\n",
       "      <th>360</th>\n",
       "      <td>AUD_USD 22AUG2008H6</td>\n",
       "      <td>2018-08-22 10:00:00</td>\n",
       "      <td>long</td>\n",
       "      <td>H6</td>\n",
       "      <td>0.73603</td>\n",
       "      <td>0</td>\n",
       "      <td>0</td>\n",
       "      <td>0</td>\n",
       "      <td>362</td>\n",
       "      <td>7</td>\n",
       "      <td>...</td>\n",
       "      <td>7.54</td>\n",
       "      <td>NaN</td>\n",
       "      <td>0</td>\n",
       "      <td>226</td>\n",
       "      <td>35.000000</td>\n",
       "      <td>73.800000</td>\n",
       "      <td>1.500000</td>\n",
       "      <td>0</td>\n",
       "      <td>1.750000</td>\n",
       "      <td>19</td>\n",
       "    </tr>\n",
       "    <tr>\n",
       "      <th>371</th>\n",
       "      <td>AUD_USD 18FEB2010H8</td>\n",
       "      <td>2010-02-18 14:00:00</td>\n",
       "      <td>long</td>\n",
       "      <td>H8</td>\n",
       "      <td>0.89888</td>\n",
       "      <td>0</td>\n",
       "      <td>0</td>\n",
       "      <td>0</td>\n",
       "      <td>723</td>\n",
       "      <td>8</td>\n",
       "      <td>...</td>\n",
       "      <td>15.06</td>\n",
       "      <td>29.17</td>\n",
       "      <td>0</td>\n",
       "      <td>48</td>\n",
       "      <td>32.000000</td>\n",
       "      <td>154.920000</td>\n",
       "      <td>3.200000</td>\n",
       "      <td>0</td>\n",
       "      <td>8.000000</td>\n",
       "      <td>29</td>\n",
       "    </tr>\n",
       "    <tr>\n",
       "      <th>386</th>\n",
       "      <td>AUD_USD 14OCT2015H12</td>\n",
       "      <td>2015-10-14 10:00:00</td>\n",
       "      <td>long</td>\n",
       "      <td>H12</td>\n",
       "      <td>0.72799</td>\n",
       "      <td>0</td>\n",
       "      <td>1</td>\n",
       "      <td>4</td>\n",
       "      <td>1385</td>\n",
       "      <td>9</td>\n",
       "      <td>...</td>\n",
       "      <td>28.85</td>\n",
       "      <td>NaN</td>\n",
       "      <td>0</td>\n",
       "      <td>279</td>\n",
       "      <td>40.909091</td>\n",
       "      <td>151.227273</td>\n",
       "      <td>3.136364</td>\n",
       "      <td>4</td>\n",
       "      <td>9.000000</td>\n",
       "      <td>23</td>\n",
       "    </tr>\n",
       "    <tr>\n",
       "      <th>389</th>\n",
       "      <td>AUD_USD 14JUL2016H6</td>\n",
       "      <td>2016-07-14 10:00:00</td>\n",
       "      <td>long</td>\n",
       "      <td>H6</td>\n",
       "      <td>0.76386</td>\n",
       "      <td>0</td>\n",
       "      <td>0</td>\n",
       "      <td>0</td>\n",
       "      <td>390</td>\n",
       "      <td>9</td>\n",
       "      <td>...</td>\n",
       "      <td>8.12</td>\n",
       "      <td>NaN</td>\n",
       "      <td>0</td>\n",
       "      <td>192</td>\n",
       "      <td>18.000000</td>\n",
       "      <td>61.800000</td>\n",
       "      <td>1.280000</td>\n",
       "      <td>0</td>\n",
       "      <td>1.800000</td>\n",
       "      <td>10</td>\n",
       "    </tr>\n",
       "    <tr>\n",
       "      <th>413</th>\n",
       "      <td>AUD_USD 05AUG2009H12</td>\n",
       "      <td>2009-05-08 22:00:00</td>\n",
       "      <td>long</td>\n",
       "      <td>H12</td>\n",
       "      <td>0.84498</td>\n",
       "      <td>0</td>\n",
       "      <td>1</td>\n",
       "      <td>1</td>\n",
       "      <td>753</td>\n",
       "      <td>6</td>\n",
       "      <td>...</td>\n",
       "      <td>15.69</td>\n",
       "      <td>44.08</td>\n",
       "      <td>0</td>\n",
       "      <td>486</td>\n",
       "      <td>17.647059</td>\n",
       "      <td>213.441176</td>\n",
       "      <td>4.441176</td>\n",
       "      <td>1</td>\n",
       "      <td>2.000000</td>\n",
       "      <td>28</td>\n",
       "    </tr>\n",
       "    <tr>\n",
       "      <th>422</th>\n",
       "      <td>AUD_USD 02DEC2011H12</td>\n",
       "      <td>2011-02-12 10:00:00</td>\n",
       "      <td>long</td>\n",
       "      <td>H12</td>\n",
       "      <td>1.02852</td>\n",
       "      <td>0</td>\n",
       "      <td>0</td>\n",
       "      <td>0</td>\n",
       "      <td>1236</td>\n",
       "      <td>5</td>\n",
       "      <td>...</td>\n",
       "      <td>25.75</td>\n",
       "      <td>NaN</td>\n",
       "      <td>0</td>\n",
       "      <td>33</td>\n",
       "      <td>55.555556</td>\n",
       "      <td>625.666667</td>\n",
       "      <td>13.000000</td>\n",
       "      <td>0</td>\n",
       "      <td>1.250000</td>\n",
       "      <td>14</td>\n",
       "    </tr>\n",
       "    <tr>\n",
       "      <th>431</th>\n",
       "      <td>AUD_NZD 20NOV2015D</td>\n",
       "      <td>2015-11-19 23:00:00</td>\n",
       "      <td>long</td>\n",
       "      <td>D</td>\n",
       "      <td>1.10317</td>\n",
       "      <td>0</td>\n",
       "      <td>0</td>\n",
       "      <td>0</td>\n",
       "      <td>695</td>\n",
       "      <td>4</td>\n",
       "      <td>...</td>\n",
       "      <td>14.48</td>\n",
       "      <td>NaN</td>\n",
       "      <td>0</td>\n",
       "      <td>314</td>\n",
       "      <td>30.769231</td>\n",
       "      <td>379.615385</td>\n",
       "      <td>7.846154</td>\n",
       "      <td>0</td>\n",
       "      <td>4.000000</td>\n",
       "      <td>35</td>\n",
       "    </tr>\n",
       "    <tr>\n",
       "      <th>440</th>\n",
       "      <td>AUD_NZD 06JAN2015D</td>\n",
       "      <td>2015-05-01 23:00:00</td>\n",
       "      <td>short</td>\n",
       "      <td>D</td>\n",
       "      <td>1.04845</td>\n",
       "      <td>0</td>\n",
       "      <td>3</td>\n",
       "      <td>15,2,4</td>\n",
       "      <td>1090</td>\n",
       "      <td>13</td>\n",
       "      <td>...</td>\n",
       "      <td>22.71</td>\n",
       "      <td>NaN</td>\n",
       "      <td>0</td>\n",
       "      <td>3762</td>\n",
       "      <td>30.232558</td>\n",
       "      <td>186.627907</td>\n",
       "      <td>3.883721</td>\n",
       "      <td>21</td>\n",
       "      <td>3.250000</td>\n",
       "      <td>5</td>\n",
       "    </tr>\n",
       "    <tr>\n",
       "      <th>449</th>\n",
       "      <td>GBP_CHF 30SEP2014D</td>\n",
       "      <td>2014-09-29 23:00:00</td>\n",
       "      <td>long</td>\n",
       "      <td>D</td>\n",
       "      <td>1.54698</td>\n",
       "      <td>0</td>\n",
       "      <td>0</td>\n",
       "      <td>0</td>\n",
       "      <td>571</td>\n",
       "      <td>5</td>\n",
       "      <td>...</td>\n",
       "      <td>11.90</td>\n",
       "      <td>NaN</td>\n",
       "      <td>0</td>\n",
       "      <td>1722</td>\n",
       "      <td>38.461538</td>\n",
       "      <td>337.846154</td>\n",
       "      <td>7.000000</td>\n",
       "      <td>0</td>\n",
       "      <td>1.666667</td>\n",
       "      <td>21</td>\n",
       "    </tr>\n",
       "    <tr>\n",
       "      <th>452</th>\n",
       "      <td>GBP_CHF 14MAR2016D</td>\n",
       "      <td>2016-11-03 23:00:00</td>\n",
       "      <td>long</td>\n",
       "      <td>D</td>\n",
       "      <td>1.41813</td>\n",
       "      <td>0</td>\n",
       "      <td>0</td>\n",
       "      <td>0</td>\n",
       "      <td>1800</td>\n",
       "      <td>7</td>\n",
       "      <td>...</td>\n",
       "      <td>37.50</td>\n",
       "      <td>NaN</td>\n",
       "      <td>0</td>\n",
       "      <td>306</td>\n",
       "      <td>63.636364</td>\n",
       "      <td>353.363636</td>\n",
       "      <td>7.272727</td>\n",
       "      <td>0</td>\n",
       "      <td>7.000000</td>\n",
       "      <td>35</td>\n",
       "    </tr>\n",
       "  </tbody>\n",
       "</table>\n",
       "<p>37 rows × 38 columns</p>\n",
       "</div>"
      ],
      "text/plain": [
       "                       id               start   type timeframe      entry  \\\n",
       "10   USD_JPY 17OCT2018H12 2018-10-17 10:00:00  short       H12  112.13700   \n",
       "23   USD_JPY 07MAR2007H12 2007-07-03 10:00:00  short       H12  116.22500   \n",
       "28     USD_JPY 04MAR2009D 2009-04-03 23:00:00   long         D   98.63100   \n",
       "41     USD_CHF 24MAY2016D 2016-05-24 23:00:00   long         D    0.99243   \n",
       "56   USD_CHF 10SEP2013H12 2013-10-09 10:00:00   long       H12    0.93456   \n",
       "105    USD_CAD 10NOV2008D 2008-07-11 23:00:00  short         D    1.17019   \n",
       "113    NZD_USD 26APR2011D 2011-04-25 23:00:00   long         D    0.80398   \n",
       "131  NZD_JPY 25SEP2018H12 2018-09-25 10:00:00   long       H12   75.11900   \n",
       "144  NZD_JPY 06AUG2012H12 2012-06-08 22:00:00   long       H12   64.34600   \n",
       "146  NZD_JPY 05NOV2010H12 2010-05-11 09:00:00   long       H12   64.35100   \n",
       "165  GBP_USD 04JUN2015H12 2015-04-06 22:00:00  short       H12    1.53306   \n",
       "191    GBP_JPY 09SEP2008D 2008-09-09 23:00:00  short         D  188.64200   \n",
       "194    GBP_JPY 08MAR2018D 2018-08-03 00:00:00  short         D  146.60600   \n",
       "214  GBP_AUD 20APR2009H12 2009-04-20 10:00:00   long       H12    2.05830   \n",
       "216  GBP_AUD 18DEC2011H12 2011-12-18 22:00:00   long       H12    1.56070   \n",
       "234   EUR_USD 28AUG2015H8 2015-08-25 22:00:00   long        H8    1.15295   \n",
       "235   EUR_USD 26JUL20102D 2010-07-26 23:00:00   long        2D    1.29623   \n",
       "275  EUR_JPY 08APR2011H12 2011-08-04 10:00:00   long       H12  122.86000   \n",
       "283     EUR_GBP 9MAR2010D 2010-09-03 23:00:00   long         D    0.90137   \n",
       "296  EUR_GBP 06DEC2010H12 2010-06-12 22:00:00  short       H12    0.84558   \n",
       "315   EUR_AUD 14SEP2016H6 2016-09-14 09:00:00   long        H6    1.50308   \n",
       "320   EUR_AUD 05AUG2015H6 2015-05-08 09:00:00  short        H6    1.47343   \n",
       "321   EUR_AUD 04NOV2016H6 2016-04-11 03:00:00   long        H6    1.44820   \n",
       "326   AUD_USD 31MAY2010H8 2010-05-31 06:00:00   long        H8    0.85023   \n",
       "327    AUD_USD 31MAY2010D 2010-05-31 23:00:00  short         D    0.83800   \n",
       "346  AUD_USD 24NOV2011H12 2011-11-24 22:00:00  short       H12    0.97048   \n",
       "355   AUD_USD 22SEP2008H8 2008-09-22 14:00:00   long        H8    0.83878   \n",
       "360   AUD_USD 22AUG2008H6 2018-08-22 10:00:00   long        H6    0.73603   \n",
       "371   AUD_USD 18FEB2010H8 2010-02-18 14:00:00   long        H8    0.89888   \n",
       "386  AUD_USD 14OCT2015H12 2015-10-14 10:00:00   long       H12    0.72799   \n",
       "389   AUD_USD 14JUL2016H6 2016-07-14 10:00:00   long        H6    0.76386   \n",
       "413  AUD_USD 05AUG2009H12 2009-05-08 22:00:00   long       H12    0.84498   \n",
       "422  AUD_USD 02DEC2011H12 2011-02-12 10:00:00   long       H12    1.02852   \n",
       "431    AUD_NZD 20NOV2015D 2015-11-19 23:00:00   long         D    1.10317   \n",
       "440    AUD_NZD 06JAN2015D 2015-05-01 23:00:00  short         D    1.04845   \n",
       "449    GBP_CHF 30SEP2014D 2014-09-29 23:00:00   long         D    1.54698   \n",
       "452    GBP_CHF 14MAR2016D 2016-11-03 23:00:00   long         D    1.41813   \n",
       "\n",
       "     outcome  RSI bounces bounce length  bounce (pips)  inn_bounce  ...    \\\n",
       "10         0            1             1            590           6  ...     \n",
       "23         0            2           5,1           1295           6  ...     \n",
       "28         0            1             2           1470           6  ...     \n",
       "41         0            0             0            485           4  ...     \n",
       "56         0            1             2           1268          13  ...     \n",
       "105        0            0             0           4200           6  ...     \n",
       "113        0            3         3,5,3            373           4  ...     \n",
       "131        0            1             4            573           7  ...     \n",
       "144        0            0             0            280           4  ...     \n",
       "146        0            0             0            300           3  ...     \n",
       "165        0            0             0           2140          13  ...     \n",
       "191        0            3        14,1,2           5000           4  ...     \n",
       "194        0            1             3           2300           7  ...     \n",
       "214        0            0             0           4080          10  ...     \n",
       "216        0            0             0           1350           6  ...     \n",
       "234        0            1             6           2628           6  ...     \n",
       "235        0            0             0           2440           5  ...     \n",
       "275        0            0             0           1940           5  ...     \n",
       "283        0            1             1           1118           7  ...     \n",
       "296        0            2           1,2           1500          11  ...     \n",
       "315        0            2           2,3            914           5  ...     \n",
       "320        0            1             4            391           5  ...     \n",
       "321        0            0             0           1051          11  ...     \n",
       "326        0            0             0           1026           7  ...     \n",
       "327        0            2           7,1           3715           8  ...     \n",
       "346        0            2           3,1            927           5  ...     \n",
       "355        0            0             0            777           6  ...     \n",
       "360        0            0             0            362           7  ...     \n",
       "371        0            0             0            723           8  ...     \n",
       "386        0            1             4           1385           9  ...     \n",
       "389        0            0             0            390           9  ...     \n",
       "413        0            1             1            753           6  ...     \n",
       "422        0            0             0           1236           5  ...     \n",
       "431        0            0             0            695           4  ...     \n",
       "440        0            3        15,2,4           1090          13  ...     \n",
       "449        0            0             0            571           5  ...     \n",
       "452        0            0             0           1800           7  ...     \n",
       "\n",
       "     norm_bounce_pips  norm_retraced  ext_outcome  diff length_bounce_perc  \\\n",
       "10              12.29            NaN            0   281          33.333333   \n",
       "23              26.98            NaN            0   537          37.500000   \n",
       "28              30.62          64.58            0   449          30.000000   \n",
       "41              10.10            NaN            0   143          28.571429   \n",
       "56              26.42            NaN            0   275          72.222222   \n",
       "105             87.50            NaN            0   183          75.000000   \n",
       "113              7.77          44.54            0  3036          14.814815   \n",
       "131             11.94            NaN            0   260          31.818182   \n",
       "144              5.83            NaN            0   155          23.529412   \n",
       "146              6.25            NaN            0   126          33.333333   \n",
       "165             44.58            NaN            0    92          44.827586   \n",
       "191            104.17          22.92            0  2067          18.181818   \n",
       "194             47.92            NaN            0   571          30.434783   \n",
       "214             85.00         135.06            0   107         100.000000   \n",
       "216             28.12            NaN            0   341          40.000000   \n",
       "234             54.75            NaN            0   236          16.666667   \n",
       "235             50.83          25.00            0   203          29.411765   \n",
       "275             40.42            NaN            0   576          16.129032   \n",
       "283             23.29            NaN            0   601          63.636364   \n",
       "296             31.25          24.27            0   154          18.333333   \n",
       "315             19.04            NaN            0   252          33.333333   \n",
       "320              8.15            NaN            0   121          83.333333   \n",
       "321             21.90            NaN            0    92          40.740741   \n",
       "326             21.38            NaN            0   507          63.636364   \n",
       "327             77.40            NaN            0   509          44.444444   \n",
       "346             19.31            NaN            0   318          29.411765   \n",
       "355             16.19            NaN            0   257          60.000000   \n",
       "360              7.54            NaN            0   226          35.000000   \n",
       "371             15.06          29.17            0    48          32.000000   \n",
       "386             28.85            NaN            0   279          40.909091   \n",
       "389              8.12            NaN            0   192          18.000000   \n",
       "413             15.69          44.08            0   486          17.647059   \n",
       "422             25.75            NaN            0    33          55.555556   \n",
       "431             14.48            NaN            0   314          30.769231   \n",
       "440             22.71            NaN            0  3762          30.232558   \n",
       "449             11.90            NaN            0  1722          38.461538   \n",
       "452             37.50            NaN            0   306          63.636364   \n",
       "\n",
       "      pips_ratio  pips_ratio_norm sum_bounces  bounce_ratio  score  \n",
       "10    126.388889         2.611111           1      1.200000     21  \n",
       "23    336.062500         7.000000           6      6.000000     29  \n",
       "28    487.550000        10.150000           2      6.000000     47  \n",
       "41    277.428571         5.714286           0      4.000000     35  \n",
       "56     90.444444         1.833333           2      4.333333     25  \n",
       "105  1566.625000        32.625000           0      6.000000     12  \n",
       "113   313.333333         6.518519          11      4.000000     25  \n",
       "131   118.590909         2.454545           4      7.000000     25  \n",
       "144   172.176471         3.529412           0      4.000000     33  \n",
       "146   387.444444         8.000000           0      3.000000     32  \n",
       "165   154.965517         3.206897           0      4.333333     24  \n",
       "191  1143.454545        23.818182          17      4.000000     14  \n",
       "194   431.000000         8.956522           3      7.000000     37  \n",
       "214   444.300000         9.200000           0     10.000000     10  \n",
       "216   280.133333         5.800000           0      6.000000     35  \n",
       "234   191.111111         3.972222           6      6.000000     12  \n",
       "235   605.764706        12.588235           0      5.000000     23  \n",
       "275   406.419355         8.451613           0      5.000000     44  \n",
       "283   344.181818         7.090909           1      7.000000     37  \n",
       "296    78.816667         1.633333           3      1.571429      7  \n",
       "315   291.733333         6.066667           5      5.000000     29  \n",
       "320   523.833333        10.833333           4      5.000000     20  \n",
       "321   115.925926         2.407407           0      5.500000     28  \n",
       "326   380.545455         7.909091           0      2.333333     27  \n",
       "327   469.111111         9.722222           8      8.000000      9  \n",
       "346   376.882353         7.823529           4      5.000000     39  \n",
       "355   582.400000        12.100000           0      1.500000     14  \n",
       "360    73.800000         1.500000           0      1.750000     19  \n",
       "371   154.920000         3.200000           0      8.000000     29  \n",
       "386   151.227273         3.136364           4      9.000000     23  \n",
       "389    61.800000         1.280000           0      1.800000     10  \n",
       "413   213.441176         4.441176           1      2.000000     28  \n",
       "422   625.666667        13.000000           0      1.250000     14  \n",
       "431   379.615385         7.846154           0      4.000000     35  \n",
       "440   186.627907         3.883721          21      3.250000      5  \n",
       "449   337.846154         7.000000           0      1.666667     21  \n",
       "452   353.363636         7.272727           0      7.000000     35  \n",
       "\n",
       "[37 rows x 38 columns]"
      ]
     },
     "execution_count": 2083,
     "metadata": {},
     "output_type": "execute_result"
    }
   ],
   "source": [
    "print(outcome_lab)\n",
    "contDF.loc[(contDF[outcome_lab]==0) & (contDF['score']>3)]"
   ]
  },
  {
   "cell_type": "markdown",
   "metadata": {},
   "source": [
    "### Calculating cutoff score\n",
    "* Mean"
   ]
  },
  {
   "cell_type": "code",
   "execution_count": 2084,
   "metadata": {},
   "outputs": [
    {
     "data": {
      "text/html": [
       "<div>\n",
       "<style scoped>\n",
       "    .dataframe tbody tr th:only-of-type {\n",
       "        vertical-align: middle;\n",
       "    }\n",
       "\n",
       "    .dataframe tbody tr th {\n",
       "        vertical-align: top;\n",
       "    }\n",
       "\n",
       "    .dataframe thead th {\n",
       "        text-align: right;\n",
       "    }\n",
       "</style>\n",
       "<table border=\"1\" class=\"dataframe\">\n",
       "  <thead>\n",
       "    <tr style=\"text-align: right;\">\n",
       "      <th></th>\n",
       "      <th>score</th>\n",
       "    </tr>\n",
       "    <tr>\n",
       "      <th>ext_outcome</th>\n",
       "      <th></th>\n",
       "    </tr>\n",
       "  </thead>\n",
       "  <tbody>\n",
       "    <tr>\n",
       "      <th>0</th>\n",
       "      <td>12.118644</td>\n",
       "    </tr>\n",
       "    <tr>\n",
       "      <th>1</th>\n",
       "      <td>18.960976</td>\n",
       "    </tr>\n",
       "  </tbody>\n",
       "</table>\n",
       "</div>"
      ],
      "text/plain": [
       "                 score\n",
       "ext_outcome           \n",
       "0            12.118644\n",
       "1            18.960976"
      ]
     },
     "execution_count": 2084,
     "metadata": {},
     "output_type": "execute_result"
    }
   ],
   "source": [
    "contDF.groupby(outcome_lab).agg({'score': 'mean'})"
   ]
  },
  {
   "cell_type": "markdown",
   "metadata": {},
   "source": [
    "* Median"
   ]
  },
  {
   "cell_type": "code",
   "execution_count": 2085,
   "metadata": {},
   "outputs": [
    {
     "data": {
      "text/html": [
       "<div>\n",
       "<style scoped>\n",
       "    .dataframe tbody tr th:only-of-type {\n",
       "        vertical-align: middle;\n",
       "    }\n",
       "\n",
       "    .dataframe tbody tr th {\n",
       "        vertical-align: top;\n",
       "    }\n",
       "\n",
       "    .dataframe thead th {\n",
       "        text-align: right;\n",
       "    }\n",
       "</style>\n",
       "<table border=\"1\" class=\"dataframe\">\n",
       "  <thead>\n",
       "    <tr style=\"text-align: right;\">\n",
       "      <th></th>\n",
       "      <th>score</th>\n",
       "    </tr>\n",
       "    <tr>\n",
       "      <th>ext_outcome</th>\n",
       "      <th></th>\n",
       "    </tr>\n",
       "  </thead>\n",
       "  <tbody>\n",
       "    <tr>\n",
       "      <th>0</th>\n",
       "      <td>14</td>\n",
       "    </tr>\n",
       "    <tr>\n",
       "      <th>1</th>\n",
       "      <td>24</td>\n",
       "    </tr>\n",
       "  </tbody>\n",
       "</table>\n",
       "</div>"
      ],
      "text/plain": [
       "             score\n",
       "ext_outcome       \n",
       "0               14\n",
       "1               24"
      ]
     },
     "execution_count": 2085,
     "metadata": {},
     "output_type": "execute_result"
    }
   ],
   "source": [
    "contDF.groupby(outcome_lab).agg({'score': 'median'})"
   ]
  },
  {
   "cell_type": "markdown",
   "metadata": {},
   "source": [
    "* Histogram"
   ]
  },
  {
   "cell_type": "code",
   "execution_count": 2086,
   "metadata": {},
   "outputs": [
    {
     "data": {
      "image/png": "[encoded data removed]",
      "text/plain": [
       "<matplotlib.figure.Figure at 0x13ab83cc0>"
      ]
     },
     "metadata": {},
     "output_type": "display_data"
    }
   ],
   "source": [
    "axList=contDF['score'].hist(by=contDF[outcome_lab],figsize=(20,5),bins=8,normed=True)"
   ]
  },
  {
   "cell_type": "code",
   "execution_count": 2087,
   "metadata": {},
   "outputs": [],
   "source": [
    "succ=contDF.loc[contDF[outcome_lab]==1]['score']\n",
    "fail=contDF.loc[contDF[outcome_lab]==0]['score']"
   ]
  },
  {
   "cell_type": "code",
   "execution_count": 2088,
   "metadata": {},
   "outputs": [
    {
     "data": {
      "text/plain": [
       "<matplotlib.text.Text at 0x13af2f9b0>"
      ]
     },
     "execution_count": 2088,
     "metadata": {},
     "output_type": "execute_result"
    },
    {
     "data": {
      "image/png": "[encoded data removed]",
      "text/plain": [
       "<matplotlib.figure.Figure at 0x13acff630>"
      ]
     },
     "metadata": {},
     "output_type": "display_data"
    }
   ],
   "source": [
    "plt.hist([fail,succ], bins = 15, normed=True, label=['0','1'])\n",
    "\n",
    "plt.legend()\n",
    "plt.xlabel('Score')\n",
    "plt.ylabel('Normalized Freq')\n",
    "plt.title('Outcome of trade depending on score')"
   ]
  },
  {
   "cell_type": "markdown",
   "metadata": {},
   "source": [
    "### Making predictions and performance evaluation\n",
    "We will use different cutoffs and make predictions using these using the test set"
   ]
  },
  {
   "cell_type": "markdown",
   "metadata": {},
   "source": [
    "Let's create a new dataframe only with the columns we are interested in:"
   ]
  },
  {
   "cell_type": "code",
   "execution_count": 2089,
   "metadata": {},
   "outputs": [],
   "source": [
    "scoreDF=contDF.iloc[:,[outcome_ix,37]]"
   ]
  },
  {
   "cell_type": "code",
   "execution_count": 2090,
   "metadata": {},
   "outputs": [],
   "source": [
    "def predictOutcome(row, cutoff):\n",
    "    pred=None\n",
    "    if row['score'] >cutoff:\n",
    "        pred=1\n",
    "    else:\n",
    "        pred=0\n",
    "    return pred"
   ]
  },
  {
   "cell_type": "code",
   "execution_count": 2091,
   "metadata": {},
   "outputs": [
    {
     "name": "stderr",
     "output_type": "stream",
     "text": [
      "/Users/ernesto/bin/anaconda/envs/python3/lib/python3.5/site-packages/ipykernel_launcher.py:1: SettingWithCopyWarning: \n",
      "A value is trying to be set on a copy of a slice from a DataFrame.\n",
      "Try using .loc[row_indexer,col_indexer] = value instead\n",
      "\n",
      "See the caveats in the documentation: http://pandas.pydata.org/pandas-docs/stable/indexing.html#indexing-view-versus-copy\n",
      "  \"\"\"Entry point for launching an IPython kernel.\n"
     ]
    }
   ],
   "source": [
    "scoreDF['predict']=scoreDF.apply(predictOutcome,axis=1,cutoff=10)"
   ]
  },
  {
   "cell_type": "markdown",
   "metadata": {},
   "source": [
    "* Performance evaluation"
   ]
  },
  {
   "cell_type": "code",
   "execution_count": 2092,
   "metadata": {},
   "outputs": [
    {
     "name": "stdout",
     "output_type": "stream",
     "text": [
      "TP:155\n",
      "TN:27\n",
      "FN:50\n",
      "FP:32\n"
     ]
    }
   ],
   "source": [
    "(tn, fp, fn, tp)=confusion_matrix(scoreDF[outcome_lab], scoreDF['predict']).ravel()\n",
    "print(\"TP:\"+str(tp))\n",
    "print(\"TN:\"+str(tn))\n",
    "print(\"FN:\"+str(fn))\n",
    "print(\"FP:\"+str(fp))"
   ]
  },
  {
   "cell_type": "markdown",
   "metadata": {},
   "source": [
    "    * Precision"
   ]
  },
  {
   "cell_type": "code",
   "execution_count": 2093,
   "metadata": {},
   "outputs": [
    {
     "name": "stdout",
     "output_type": "stream",
     "text": [
      "0.828877005348\n"
     ]
    }
   ],
   "source": [
    "print(tp/(tp+fp))"
   ]
  },
  {
   "cell_type": "markdown",
   "metadata": {},
   "source": [
    "* Recall"
   ]
  },
  {
   "cell_type": "code",
   "execution_count": 2094,
   "metadata": {},
   "outputs": [
    {
     "name": "stdout",
     "output_type": "stream",
     "text": [
      "0.756097560976\n"
     ]
    }
   ],
   "source": [
    "print(tp/(tp+fn))"
   ]
  },
  {
   "cell_type": "markdown",
   "metadata": {},
   "source": [
    "### Cross-validation"
   ]
  },
  {
   "cell_type": "code",
   "execution_count": 2095,
   "metadata": {},
   "outputs": [],
   "source": [
    "def cross_validate(cutoff,iterations):\n",
    "    '''\n",
    "    Function that will asses the sensitivity and specificity for differnt cutoff scores\n",
    "    on different slices of the input dataframe\n",
    "    \n",
    "    Parameters\n",
    "    ----------\n",
    "    cutoff: int\n",
    "            Cut off value used for predicting a trade as S or F\n",
    "    iterations: int\n",
    "                 Number of crossvalidation iterations\n",
    "    '''\n",
    "    precision_list=[]\n",
    "    recall_list=[]\n",
    "    tp_list=[]\n",
    "    precission_list,recall_list,tn_list,fp_list,fn_list,tp_list = ([] for i in range(6))\n",
    "    \n",
    "    for i in range(0,iterations,1):\n",
    "        #print(\"[WARN]: Iteration {0}\".format(i))\n",
    "        train, test = train_test_split(contDF,\n",
    "                                       test_size=0.99)\n",
    "        test['score']=test.apply(calculate_points, axis=1, attribs=attbs)\n",
    "    \n",
    "        scoreDF=test.iloc[:,[outcome_ix,37]]\n",
    "        scoreDF['predict']=scoreDF.apply(predictOutcome,axis=1,cutoff=cutoff)\n",
    "        # assess performance\n",
    "        (tn, fp, fn, tp)=confusion_matrix(scoreDF[outcome_lab], scoreDF['predict']).ravel()\n",
    "        precision_list.append(tp/(tp+fp))\n",
    "        recall_list.append(tp/(tp+fn))\n",
    "        tn_list.append(tn)\n",
    "        fp_list.append(fp)\n",
    "        fn_list.append(fn)\n",
    "        tp_list.append(tp)\n",
    "    precission_array=np.array([precision_list])\n",
    "    recall_array=np.array([recall_list])\n",
    "    tn_array=np.array([tn_list])\n",
    "    fp_array=np.array([fp_list])\n",
    "    fn_array=np.array([fn_list])\n",
    "    tp_array=np.array([tp_list])\n",
    "    print(\"Precission: AGV: {0},STD:{1},CUTOFF:{2}\".format(np.average(precission_array),np.std(precission_array),cutoff))\n",
    "    print(\"Recall: AGV: {0},STD:{1},CUTOFF:{2}\".format(np.average(recall_array),np.std(recall_array),cutoff))\n",
    "    print(\"TN: AGV: {0},STD:{1},CUTOFF:{2}\".format(np.average(tn_array),np.std(tn_array),cutoff))\n",
    "    print(\"FP: AGV: {0},STD:{1},CUTOFF:{2}\".format(np.average(fp_array),np.std(fp_array),cutoff))\n",
    "    print(\"FN: AGV: {0},STD:{1},CUTOFF:{2}\".format(np.average(fn_array),np.std(fn_array),cutoff))\n",
    "    print(\"TP: AGV: {0},STD:{1},CUTOFF:{2}\".format(np.average(tp_array),np.std(tp_array),cutoff))"
   ]
  },
  {
   "cell_type": "markdown",
   "metadata": {},
   "source": [
    "Now, let's iterate a number of times (1000 in this case) on different cutoffs"
   ]
  },
  {
   "cell_type": "code",
   "execution_count": 2096,
   "metadata": {},
   "outputs": [
    {
     "name": "stderr",
     "output_type": "stream",
     "text": [
      "/Users/ernesto/bin/anaconda/envs/python3/lib/python3.5/site-packages/ipykernel_launcher.py:22: SettingWithCopyWarning: \n",
      "A value is trying to be set on a copy of a slice from a DataFrame.\n",
      "Try using .loc[row_indexer,col_indexer] = value instead\n",
      "\n",
      "See the caveats in the documentation: http://pandas.pydata.org/pandas-docs/stable/indexing.html#indexing-view-versus-copy\n",
      "/Users/ernesto/bin/anaconda/envs/python3/lib/python3.5/site-packages/ipykernel_launcher.py:25: SettingWithCopyWarning: \n",
      "A value is trying to be set on a copy of a slice from a DataFrame.\n",
      "Try using .loc[row_indexer,col_indexer] = value instead\n",
      "\n",
      "See the caveats in the documentation: http://pandas.pydata.org/pandas-docs/stable/indexing.html#indexing-view-versus-copy\n"
     ]
    },
    {
     "name": "stdout",
     "output_type": "stream",
     "text": [
      "Precission: AGV: 0.7842323651452282,STD:0.0,CUTOFF:-10\n",
      "Recall: AGV: 0.9310344827586207,STD:0.0,CUTOFF:-10\n",
      "TN: AGV: 7.0,STD:0.0,CUTOFF:-10\n",
      "FP: AGV: 52.0,STD:0.0,CUTOFF:-10\n",
      "FN: AGV: 14.0,STD:0.0,CUTOFF:-10\n",
      "TP: AGV: 189.0,STD:0.0,CUTOFF:-10\n",
      "Precission: AGV: 0.8008474576271186,STD:0.0,CUTOFF:-9\n",
      "Recall: AGV: 0.9219512195121952,STD:0.0,CUTOFF:-9\n",
      "TN: AGV: 10.0,STD:0.0,CUTOFF:-9\n",
      "FP: AGV: 47.0,STD:0.0,CUTOFF:-9\n",
      "FN: AGV: 16.0,STD:0.0,CUTOFF:-9\n",
      "TP: AGV: 189.0,STD:0.0,CUTOFF:-9\n",
      "Precission: AGV: 0.7982832618025751,STD:0.0,CUTOFF:-8\n",
      "Recall: AGV: 0.916256157635468,STD:0.0,CUTOFF:-8\n",
      "TN: AGV: 12.0,STD:0.0,CUTOFF:-8\n",
      "FP: AGV: 47.0,STD:0.0,CUTOFF:-8\n",
      "FN: AGV: 17.0,STD:0.0,CUTOFF:-8\n",
      "TP: AGV: 186.0,STD:0.0,CUTOFF:-8\n",
      "Precission: AGV: 0.7991266375545851,STD:0.0,CUTOFF:-7\n",
      "Recall: AGV: 0.9014778325123153,STD:0.0,CUTOFF:-7\n",
      "TN: AGV: 13.0,STD:0.0,CUTOFF:-7\n",
      "FP: AGV: 46.0,STD:0.0,CUTOFF:-7\n",
      "FN: AGV: 20.0,STD:0.0,CUTOFF:-7\n",
      "TP: AGV: 183.0,STD:0.0,CUTOFF:-7\n",
      "Precission: AGV: 0.7973568281938326,STD:0.0,CUTOFF:-6\n",
      "Recall: AGV: 0.8916256157635468,STD:0.0,CUTOFF:-6\n",
      "TN: AGV: 13.0,STD:0.0,CUTOFF:-6\n",
      "FP: AGV: 46.0,STD:0.0,CUTOFF:-6\n",
      "FN: AGV: 22.0,STD:0.0,CUTOFF:-6\n",
      "TP: AGV: 181.0,STD:0.0,CUTOFF:-6\n",
      "Precission: AGV: 0.7955555555555556,STD:0.0,CUTOFF:-5\n",
      "Recall: AGV: 0.8817733990147784,STD:0.0,CUTOFF:-5\n",
      "TN: AGV: 13.0,STD:0.0,CUTOFF:-5\n",
      "FP: AGV: 46.0,STD:0.0,CUTOFF:-5\n",
      "FN: AGV: 24.0,STD:0.0,CUTOFF:-5\n",
      "TP: AGV: 179.0,STD:0.0,CUTOFF:-5\n",
      "Precission: AGV: 0.8071748878923767,STD:0.0,CUTOFF:-4\n",
      "Recall: AGV: 0.8780487804878049,STD:0.0,CUTOFF:-4\n",
      "TN: AGV: 14.0,STD:0.0,CUTOFF:-4\n",
      "FP: AGV: 43.0,STD:0.0,CUTOFF:-4\n",
      "FN: AGV: 25.0,STD:0.0,CUTOFF:-4\n",
      "TP: AGV: 180.0,STD:0.0,CUTOFF:-4\n",
      "Precission: AGV: 0.8099547511312217,STD:0.0,CUTOFF:-3\n",
      "Recall: AGV: 0.8774509803921569,STD:0.0,CUTOFF:-3\n",
      "TN: AGV: 16.0,STD:0.0,CUTOFF:-3\n",
      "FP: AGV: 42.0,STD:0.0,CUTOFF:-3\n",
      "FN: AGV: 25.0,STD:0.0,CUTOFF:-3\n",
      "TP: AGV: 179.0,STD:0.0,CUTOFF:-3\n",
      "Precission: AGV: 0.8136363636363636,STD:0.0,CUTOFF:-2\n",
      "Recall: AGV: 0.8731707317073171,STD:0.0,CUTOFF:-2\n",
      "TN: AGV: 16.0,STD:0.0,CUTOFF:-2\n",
      "FP: AGV: 41.0,STD:0.0,CUTOFF:-2\n",
      "FN: AGV: 26.0,STD:0.0,CUTOFF:-2\n",
      "TP: AGV: 179.0,STD:0.0,CUTOFF:-2\n",
      "Precission: AGV: 0.813953488372093,STD:0.0,CUTOFF:-1\n",
      "Recall: AGV: 0.8578431372549019,STD:0.0,CUTOFF:-1\n",
      "TN: AGV: 18.0,STD:0.0,CUTOFF:-1\n",
      "FP: AGV: 40.0,STD:0.0,CUTOFF:-1\n",
      "FN: AGV: 29.0,STD:0.0,CUTOFF:-1\n",
      "TP: AGV: 175.0,STD:0.0,CUTOFF:-1\n",
      "Precission: AGV: 0.8075117370892019,STD:0.0,CUTOFF:0\n",
      "Recall: AGV: 0.8472906403940886,STD:0.0,CUTOFF:0\n",
      "TN: AGV: 18.0,STD:0.0,CUTOFF:0\n",
      "FP: AGV: 41.0,STD:0.0,CUTOFF:0\n",
      "FN: AGV: 31.0,STD:0.0,CUTOFF:0\n",
      "TP: AGV: 172.0,STD:0.0,CUTOFF:0\n",
      "Precission: AGV: 0.819047619047619,STD:0.0,CUTOFF:1\n",
      "Recall: AGV: 0.8431372549019608,STD:0.0,CUTOFF:1\n",
      "TN: AGV: 20.0,STD:0.0,CUTOFF:1\n",
      "FP: AGV: 38.0,STD:0.0,CUTOFF:1\n",
      "FN: AGV: 32.0,STD:0.0,CUTOFF:1\n",
      "TP: AGV: 172.0,STD:0.0,CUTOFF:1\n",
      "Precission: AGV: 0.8229665071770335,STD:0.0,CUTOFF:2\n",
      "Recall: AGV: 0.8431372549019608,STD:0.0,CUTOFF:2\n",
      "TN: AGV: 21.0,STD:0.0,CUTOFF:2\n",
      "FP: AGV: 37.0,STD:0.0,CUTOFF:2\n",
      "FN: AGV: 32.0,STD:0.0,CUTOFF:2\n",
      "TP: AGV: 172.0,STD:0.0,CUTOFF:2\n",
      "Precission: AGV: 0.8269230769230769,STD:0.0,CUTOFF:3\n",
      "Recall: AGV: 0.8431372549019608,STD:0.0,CUTOFF:3\n",
      "TN: AGV: 22.0,STD:0.0,CUTOFF:3\n",
      "FP: AGV: 36.0,STD:0.0,CUTOFF:3\n",
      "FN: AGV: 32.0,STD:0.0,CUTOFF:3\n",
      "TP: AGV: 172.0,STD:0.0,CUTOFF:3\n",
      "Precission: AGV: 0.8284313725490197,STD:0.0,CUTOFF:4\n",
      "Recall: AGV: 0.824390243902439,STD:0.0,CUTOFF:4\n",
      "TN: AGV: 22.0,STD:0.0,CUTOFF:4\n",
      "FP: AGV: 35.0,STD:0.0,CUTOFF:4\n",
      "FN: AGV: 36.0,STD:0.0,CUTOFF:4\n",
      "TP: AGV: 169.0,STD:0.0,CUTOFF:4\n",
      "Precission: AGV: 0.8217821782178217,STD:0.0,CUTOFF:5\n",
      "Recall: AGV: 0.8137254901960784,STD:0.0,CUTOFF:5\n",
      "TN: AGV: 22.0,STD:0.0,CUTOFF:5\n",
      "FP: AGV: 36.0,STD:0.0,CUTOFF:5\n",
      "FN: AGV: 38.0,STD:0.0,CUTOFF:5\n",
      "TP: AGV: 166.0,STD:0.0,CUTOFF:5\n",
      "Precission: AGV: 0.8190954773869347,STD:0.0,CUTOFF:6\n",
      "Recall: AGV: 0.7990196078431373,STD:0.0,CUTOFF:6\n",
      "TN: AGV: 22.0,STD:0.0,CUTOFF:6\n",
      "FP: AGV: 36.0,STD:0.0,CUTOFF:6\n",
      "FN: AGV: 41.0,STD:0.0,CUTOFF:6\n",
      "TP: AGV: 163.0,STD:0.0,CUTOFF:6\n",
      "Precission: AGV: 0.826530612244898,STD:0.0,CUTOFF:7\n",
      "Recall: AGV: 0.7941176470588235,STD:0.0,CUTOFF:7\n",
      "TN: AGV: 24.0,STD:0.0,CUTOFF:7\n",
      "FP: AGV: 34.0,STD:0.0,CUTOFF:7\n",
      "FN: AGV: 42.0,STD:0.0,CUTOFF:7\n",
      "TP: AGV: 162.0,STD:0.0,CUTOFF:7\n",
      "Precission: AGV: 0.8157894736842105,STD:0.0,CUTOFF:8\n",
      "Recall: AGV: 0.7635467980295566,STD:0.0,CUTOFF:8\n",
      "TN: AGV: 24.0,STD:0.0,CUTOFF:8\n",
      "FP: AGV: 35.0,STD:0.0,CUTOFF:8\n",
      "FN: AGV: 48.0,STD:0.0,CUTOFF:8\n",
      "TP: AGV: 155.0,STD:0.0,CUTOFF:8\n",
      "Precission: AGV: 0.8191489361702128,STD:0.0,CUTOFF:9\n",
      "Recall: AGV: 0.7586206896551724,STD:0.0,CUTOFF:9\n",
      "TN: AGV: 25.0,STD:0.0,CUTOFF:9\n",
      "FP: AGV: 34.0,STD:0.0,CUTOFF:9\n",
      "FN: AGV: 49.0,STD:0.0,CUTOFF:9\n",
      "TP: AGV: 154.0,STD:0.0,CUTOFF:9\n",
      "Precission: AGV: 0.827027027027027,STD:0.0,CUTOFF:10\n",
      "Recall: AGV: 0.7536945812807881,STD:0.0,CUTOFF:10\n",
      "TN: AGV: 27.0,STD:0.0,CUTOFF:10\n",
      "FP: AGV: 32.0,STD:0.0,CUTOFF:10\n",
      "FN: AGV: 50.0,STD:0.0,CUTOFF:10\n",
      "TP: AGV: 153.0,STD:0.0,CUTOFF:10\n",
      "Precission: AGV: 0.8260869565217391,STD:0.0,CUTOFF:11\n",
      "Recall: AGV: 0.7487684729064039,STD:0.0,CUTOFF:11\n",
      "TN: AGV: 27.0,STD:0.0,CUTOFF:11\n",
      "FP: AGV: 32.0,STD:0.0,CUTOFF:11\n",
      "FN: AGV: 51.0,STD:0.0,CUTOFF:11\n",
      "TP: AGV: 152.0,STD:0.0,CUTOFF:11\n",
      "Precission: AGV: 0.8324022346368715,STD:0.0,CUTOFF:12\n",
      "Recall: AGV: 0.7303921568627451,STD:0.0,CUTOFF:12\n",
      "TN: AGV: 28.0,STD:0.0,CUTOFF:12\n",
      "FP: AGV: 30.0,STD:0.0,CUTOFF:12\n",
      "FN: AGV: 55.0,STD:0.0,CUTOFF:12\n",
      "TP: AGV: 149.0,STD:0.0,CUTOFF:12\n",
      "Precission: AGV: 0.8305084745762712,STD:0.0,CUTOFF:13\n",
      "Recall: AGV: 0.7205882352941176,STD:0.0,CUTOFF:13\n",
      "TN: AGV: 28.0,STD:0.0,CUTOFF:13\n",
      "FP: AGV: 30.0,STD:0.0,CUTOFF:13\n",
      "FN: AGV: 57.0,STD:0.0,CUTOFF:13\n",
      "TP: AGV: 147.0,STD:0.0,CUTOFF:13\n",
      "Precission: AGV: 0.8383233532934131,STD:0.0,CUTOFF:14\n",
      "Recall: AGV: 0.6896551724137931,STD:0.0,CUTOFF:14\n",
      "TN: AGV: 32.0,STD:0.0,CUTOFF:14\n",
      "FP: AGV: 27.0,STD:0.0,CUTOFF:14\n",
      "FN: AGV: 63.0,STD:0.0,CUTOFF:14\n",
      "TP: AGV: 140.0,STD:0.0,CUTOFF:14\n",
      "Precission: AGV: 0.8343558282208589,STD:0.0,CUTOFF:15\n",
      "Recall: AGV: 0.6666666666666666,STD:0.0,CUTOFF:15\n",
      "TN: AGV: 31.0,STD:0.0,CUTOFF:15\n",
      "FP: AGV: 27.0,STD:0.0,CUTOFF:15\n",
      "FN: AGV: 68.0,STD:0.0,CUTOFF:15\n",
      "TP: AGV: 136.0,STD:0.0,CUTOFF:15\n",
      "Precission: AGV: 0.8269230769230769,STD:0.0,CUTOFF:16\n",
      "Recall: AGV: 0.6354679802955665,STD:0.0,CUTOFF:16\n",
      "TN: AGV: 32.0,STD:0.0,CUTOFF:16\n",
      "FP: AGV: 27.0,STD:0.0,CUTOFF:16\n",
      "FN: AGV: 74.0,STD:0.0,CUTOFF:16\n",
      "TP: AGV: 129.0,STD:0.0,CUTOFF:16\n",
      "Precission: AGV: 0.8278145695364238,STD:0.0,CUTOFF:17\n",
      "Recall: AGV: 0.6127450980392157,STD:0.0,CUTOFF:17\n",
      "TN: AGV: 32.0,STD:0.0,CUTOFF:17\n",
      "FP: AGV: 26.0,STD:0.0,CUTOFF:17\n",
      "FN: AGV: 79.0,STD:0.0,CUTOFF:17\n",
      "TP: AGV: 125.0,STD:0.0,CUTOFF:17\n",
      "Precission: AGV: 0.815068493150685,STD:0.0,CUTOFF:18\n",
      "Recall: AGV: 0.5862068965517241,STD:0.0,CUTOFF:18\n",
      "TN: AGV: 32.0,STD:0.0,CUTOFF:18\n",
      "FP: AGV: 27.0,STD:0.0,CUTOFF:18\n",
      "FN: AGV: 84.0,STD:0.0,CUTOFF:18\n",
      "TP: AGV: 119.0,STD:0.0,CUTOFF:18\n",
      "Precission: AGV: 0.823943661971831,STD:0.0,CUTOFF:19\n",
      "Recall: AGV: 0.5735294117647058,STD:0.0,CUTOFF:19\n",
      "TN: AGV: 33.0,STD:0.0,CUTOFF:19\n",
      "FP: AGV: 25.0,STD:0.0,CUTOFF:19\n",
      "FN: AGV: 87.0,STD:0.0,CUTOFF:19\n",
      "TP: AGV: 117.0,STD:0.0,CUTOFF:19\n"
     ]
    }
   ],
   "source": [
    "for i in range(-10,20,1):\n",
    "    cross_validate(i,1)"
   ]
  },
  {
   "cell_type": "markdown",
   "metadata": {},
   "source": [
    "### Using a Binary classifier\n",
    "First, let's prepare the data by separating the data into labels (dependent variable, which is the variable we try to predict) and features (the independent variables that are going to be used for the model)"
   ]
  },
  {
   "cell_type": "code",
   "execution_count": null,
   "metadata": {},
   "outputs": [],
   "source": [
    "labels=contDF['ext_outcome']\n",
    "features=contDF.drop([\"ext_outcome\",\"outcome\"],axis=1)"
   ]
  },
  {
   "cell_type": "markdown",
   "metadata": {},
   "source": [
    "We need also to remove some features that will be not accepted by the classifier or are not useful"
   ]
  },
  {
   "cell_type": "code",
   "execution_count": null,
   "metadata": {},
   "outputs": [],
   "source": [
    "features=features.drop([\"id\",\"start\",\"timeframe\",\"entry\",\"retraced\",\"last time\",\"target\",\"bounce length\",\"space interswings\"],axis=1)"
   ]
  },
  {
   "cell_type": "markdown",
   "metadata": {},
   "source": [
    "Now, let's split our data into training and test sets. In this case, the test_size=0.33"
   ]
  },
  {
   "cell_type": "code",
   "execution_count": null,
   "metadata": {},
   "outputs": [],
   "source": [
    "train, test, train_labels, test_labels = train_test_split(features,\n",
    "                                                          labels,\n",
    "                                                          test_size=0.33,\n",
    "                                                          random_state=42)"
   ]
  },
  {
   "cell_type": "markdown",
   "metadata": {},
   "source": [
    "As the counts for each outcome category are unbalanced, I will oversample using SMOTE:"
   ]
  },
  {
   "cell_type": "code",
   "execution_count": null,
   "metadata": {},
   "outputs": [],
   "source": [
    "from imblearn.over_sampling import SMOTE\n",
    "\n",
    "train_resampled, trainlabels_resampled = SMOTE().fit_sample(train,train_labels)"
   ]
  },
  {
   "cell_type": "markdown",
   "metadata": {},
   "source": [
    "Let's check the balanced counts:"
   ]
  },
  {
   "cell_type": "code",
   "execution_count": null,
   "metadata": {},
   "outputs": [],
   "source": [
    "from collections import Counter\n",
    "\n",
    "print(sorted(Counter(trainlabels_resampled).items()))"
   ]
  },
  {
   "cell_type": "markdown",
   "metadata": {},
   "source": [
    "#### naive_bayes"
   ]
  },
  {
   "cell_type": "markdown",
   "metadata": {},
   "source": [
    "Building and Evaluating the Model for the non oversampled train dataset"
   ]
  },
  {
   "cell_type": "code",
   "execution_count": null,
   "metadata": {},
   "outputs": [],
   "source": [
    "from sklearn.naive_bayes import GaussianNB\n",
    "\n",
    "# Initialize our classifier\n",
    "gnb = GaussianNB()\n",
    "\n",
    "# Train our classifier\n",
    "model = gnb.fit(train, train_labels)"
   ]
  },
  {
   "cell_type": "code",
   "execution_count": null,
   "metadata": {},
   "outputs": [],
   "source": [
    "# Make predictions\n",
    "preds = gnb.predict(test)"
   ]
  },
  {
   "cell_type": "code",
   "execution_count": null,
   "metadata": {},
   "outputs": [],
   "source": [
    "from sklearn.metrics import accuracy_score\n",
    "\n",
    "# Evaluate accuracy\n",
    "print(accuracy_score(test_labels, preds))"
   ]
  },
  {
   "cell_type": "markdown",
   "metadata": {},
   "source": [
    "Now, with the oversampled train dataset"
   ]
  },
  {
   "cell_type": "code",
   "execution_count": null,
   "metadata": {},
   "outputs": [],
   "source": [
    "# Train our classifier\n",
    "model = gnb.fit(train_resampled,  trainlabels_resampled)\n",
    "\n",
    "# Make predictions\n",
    "preds = gnb.predict(test)\n",
    "\n",
    "# Evaluate accuracy\n",
    "print(accuracy_score(test_labels, preds))"
   ]
  },
  {
   "cell_type": "markdown",
   "metadata": {},
   "source": [
    "**Conclusion** It is slightly better using oversampling"
   ]
  },
  {
   "cell_type": "markdown",
   "metadata": {},
   "source": [
    "#### Using SGDClassifier\n",
    "First, let's use the non oversampled train dataset"
   ]
  },
  {
   "cell_type": "code",
   "execution_count": null,
   "metadata": {},
   "outputs": [],
   "source": [
    "from sklearn.linear_model import SGDClassifier\n",
    "\n",
    "sgd_clf = SGDClassifier()\n",
    "sgd=sgd_clf.fit(train,train_labels)"
   ]
  },
  {
   "cell_type": "code",
   "execution_count": null,
   "metadata": {},
   "outputs": [],
   "source": [
    "preds=sgd_clf.predict(test)"
   ]
  },
  {
   "cell_type": "code",
   "execution_count": null,
   "metadata": {},
   "outputs": [],
   "source": [
    "print(accuracy_score(test_labels, preds))"
   ]
  },
  {
   "cell_type": "markdown",
   "metadata": {},
   "source": [
    "Now, with the oversampled train dataset"
   ]
  },
  {
   "cell_type": "code",
   "execution_count": null,
   "metadata": {},
   "outputs": [],
   "source": [
    "sgd_clf = SGDClassifier()\n",
    "sgd=sgd_clf.fit(train_resampled,trainlabels_resampled)\n",
    "preds=sgd_clf.predict(test)\n",
    "print(accuracy_score(test_labels, preds))"
   ]
  },
  {
   "cell_type": "markdown",
   "metadata": {},
   "source": [
    "#### Using Logistic Regression  \n",
    "First, let's use the non oversampled train dataset"
   ]
  },
  {
   "cell_type": "code",
   "execution_count": null,
   "metadata": {},
   "outputs": [],
   "source": [
    "from sklearn.linear_model import LogisticRegression\n",
    "logisticRegr = LogisticRegression(verbose=1)"
   ]
  },
  {
   "cell_type": "markdown",
   "metadata": {},
   "source": [
    "Now, we train the model with the training set:"
   ]
  },
  {
   "cell_type": "code",
   "execution_count": null,
   "metadata": {},
   "outputs": [],
   "source": [
    "m=logisticRegr.fit(train, train_labels)"
   ]
  },
  {
   "cell_type": "markdown",
   "metadata": {},
   "source": [
    "Now, let's measue model performance\n",
    "First, we are going to make predictions using our new model and the test data"
   ]
  },
  {
   "cell_type": "code",
   "execution_count": null,
   "metadata": {},
   "outputs": [],
   "source": [
    "predictions = logisticRegr.predict(test)"
   ]
  },
  {
   "cell_type": "markdown",
   "metadata": {},
   "source": [
    "We can use the score function in order to calculate the mean accuracy on the test data and labels"
   ]
  },
  {
   "cell_type": "code",
   "execution_count": null,
   "metadata": {},
   "outputs": [],
   "source": [
    "score = logisticRegr.score(test, test_labels)\n",
    "print(score)"
   ]
  },
  {
   "cell_type": "markdown",
   "metadata": {},
   "source": [
    "In order to visualize the correctness of our predictions, we can also create a confusion matrix:"
   ]
  },
  {
   "cell_type": "code",
   "execution_count": null,
   "metadata": {},
   "outputs": [],
   "source": [
    "import matplotlib.pyplot as plt\n",
    "import seaborn as sns\n",
    "from sklearn import metrics\n",
    "\n",
    "cm = metrics.confusion_matrix(test_labels, predictions)\n",
    "print(cm)"
   ]
  },
  {
   "cell_type": "markdown",
   "metadata": {},
   "source": [
    "The matrix above can be embellished by using seaborn:"
   ]
  },
  {
   "cell_type": "code",
   "execution_count": null,
   "metadata": {},
   "outputs": [],
   "source": [
    "plt.figure(figsize=(9,9))\n",
    "sns.heatmap(cm, annot=True, fmt=\".0f\", linewidths=.5, square = True, cmap = 'Blues_r');\n",
    "plt.ylabel('Actual label');\n",
    "plt.xlabel('Predicted label');\n",
    "all_sample_title = 'Accuracy Score: {0}'.format(score)\n",
    "plt.title(all_sample_title, size = 15);"
   ]
  },
  {
   "cell_type": "markdown",
   "metadata": {},
   "source": [
    "Now, let's try with the oversampled train dataset"
   ]
  },
  {
   "cell_type": "code",
   "execution_count": null,
   "metadata": {},
   "outputs": [],
   "source": [
    "from sklearn.linear_model import LogisticRegression\n",
    "logisticRegr = LogisticRegression(verbose=1)"
   ]
  },
  {
   "cell_type": "markdown",
   "metadata": {},
   "source": [
    "Now, we train the model with the training set:"
   ]
  },
  {
   "cell_type": "code",
   "execution_count": null,
   "metadata": {},
   "outputs": [],
   "source": [
    "m=logisticRegr.fit(train_resampled,trainlabels_resampled)"
   ]
  },
  {
   "cell_type": "markdown",
   "metadata": {},
   "source": [
    "Now, let's measue model performance\n",
    "First, we are going to make predictions using our new model and the test data"
   ]
  },
  {
   "cell_type": "code",
   "execution_count": 119,
   "metadata": {},
   "outputs": [
    {
     "ename": "NameError",
     "evalue": "name 'logisticRegr' is not defined",
     "output_type": "error",
     "traceback": [
      "\u001b[0;31m---------------------------------------------------------------------------\u001b[0m",
      "\u001b[0;31mNameError\u001b[0m                                 Traceback (most recent call last)",
      "\u001b[0;32m<ipython-input-119-a425d92e5fca>\u001b[0m in \u001b[0;36m<module>\u001b[0;34m()\u001b[0m\n\u001b[0;32m----> 1\u001b[0;31m \u001b[0mpredictions\u001b[0m \u001b[0;34m=\u001b[0m \u001b[0mlogisticRegr\u001b[0m\u001b[0;34m.\u001b[0m\u001b[0mpredict\u001b[0m\u001b[0;34m(\u001b[0m\u001b[0mtest\u001b[0m\u001b[0;34m)\u001b[0m\u001b[0;34m\u001b[0m\u001b[0m\n\u001b[0m",
      "\u001b[0;31mNameError\u001b[0m: name 'logisticRegr' is not defined"
     ]
    }
   ],
   "source": [
    "predictions = logisticRegr.predict(test)"
   ]
  },
  {
   "cell_type": "markdown",
   "metadata": {},
   "source": [
    "We can use the score function in order to calculate the mean accuracy on the test data and labels"
   ]
  },
  {
   "cell_type": "code",
   "execution_count": 120,
   "metadata": {},
   "outputs": [
    {
     "ename": "NameError",
     "evalue": "name 'logisticRegr' is not defined",
     "output_type": "error",
     "traceback": [
      "\u001b[0;31m---------------------------------------------------------------------------\u001b[0m",
      "\u001b[0;31mNameError\u001b[0m                                 Traceback (most recent call last)",
      "\u001b[0;32m<ipython-input-120-025780d75b50>\u001b[0m in \u001b[0;36m<module>\u001b[0;34m()\u001b[0m\n\u001b[0;32m----> 1\u001b[0;31m \u001b[0mscore\u001b[0m \u001b[0;34m=\u001b[0m \u001b[0mlogisticRegr\u001b[0m\u001b[0;34m.\u001b[0m\u001b[0mscore\u001b[0m\u001b[0;34m(\u001b[0m\u001b[0mtest\u001b[0m\u001b[0;34m,\u001b[0m \u001b[0mtest_labels\u001b[0m\u001b[0;34m)\u001b[0m\u001b[0;34m\u001b[0m\u001b[0m\n\u001b[0m\u001b[1;32m      2\u001b[0m \u001b[0mprint\u001b[0m\u001b[0;34m(\u001b[0m\u001b[0mscore\u001b[0m\u001b[0;34m)\u001b[0m\u001b[0;34m\u001b[0m\u001b[0m\n",
      "\u001b[0;31mNameError\u001b[0m: name 'logisticRegr' is not defined"
     ]
    }
   ],
   "source": [
    "score = logisticRegr.score(test, test_labels)\n",
    "print(score)"
   ]
  },
  {
   "cell_type": "markdown",
   "metadata": {},
   "source": [
    "**Conclusion:** It is worst to oversample in terms of score"
   ]
  },
  {
   "cell_type": "markdown",
   "metadata": {},
   "source": [
    "* Examining the influence of each predictor on the outcome"
   ]
  },
  {
   "cell_type": "code",
   "execution_count": 121,
   "metadata": {},
   "outputs": [
    {
     "ename": "NameError",
     "evalue": "name 'm' is not defined",
     "output_type": "error",
     "traceback": [
      "\u001b[0;31m---------------------------------------------------------------------------\u001b[0m",
      "\u001b[0;31mNameError\u001b[0m                                 Traceback (most recent call last)",
      "\u001b[0;32m<ipython-input-121-da326d2fe27b>\u001b[0m in \u001b[0;36m<module>\u001b[0;34m()\u001b[0m\n\u001b[1;32m      1\u001b[0m \u001b[0mstds\u001b[0m\u001b[0;34m=\u001b[0m\u001b[0mnp\u001b[0m\u001b[0;34m.\u001b[0m\u001b[0mstd\u001b[0m\u001b[0;34m(\u001b[0m\u001b[0mtrain\u001b[0m\u001b[0;34m,\u001b[0m \u001b[0;36m0\u001b[0m\u001b[0;34m)\u001b[0m\u001b[0;34m\u001b[0m\u001b[0m\n\u001b[1;32m      2\u001b[0m \u001b[0;34m\u001b[0m\u001b[0m\n\u001b[0;32m----> 3\u001b[0;31m \u001b[0mprint\u001b[0m\u001b[0;34m(\u001b[0m\u001b[0mstds\u001b[0m\u001b[0;34m.\u001b[0m\u001b[0mvalues\u001b[0m\u001b[0;34m*\u001b[0m\u001b[0mm\u001b[0m\u001b[0;34m.\u001b[0m\u001b[0mcoef_\u001b[0m\u001b[0;34m)\u001b[0m\u001b[0;34m\u001b[0m\u001b[0m\n\u001b[0m",
      "\u001b[0;31mNameError\u001b[0m: name 'm' is not defined"
     ]
    }
   ],
   "source": [
    "stds=np.std(train, 0)\n",
    "\n",
    "print(stds.values*m.coef_)"
   ]
  },
  {
   "cell_type": "code",
   "execution_count": null,
   "metadata": {},
   "outputs": [],
   "source": [
    "keys=list(train.columns)\n",
    "values_10=list(stds.values*m.coef_)[0]*10\n",
    "\n",
    "coefficients=dict(zip(keys,values_10))\n",
    "print(coefficients)"
   ]
  },
  {
   "cell_type": "markdown",
   "metadata": {
    "variables": {
     "train.columns[0]": {},
     "train.columns[10]": {},
     "train.columns[11]": {},
     "train.columns[12]": {},
     "train.columns[13]": {},
     "train.columns[14]": {},
     "train.columns[1]": {},
     "train.columns[2]": {},
     "train.columns[4]": {},
     "train.columns[5]": {},
     "train.columns[7]": {},
     "train.columns[8]": {},
     "train.columns[9]": {}
    }
   },
   "source": [
    "**Conclusions:**  \n",
    "* Relevant  \n",
    "{{train.columns[0]}} (negative)  \n",
    "{{train.columns[1]}} (negative)  \n",
    "{{train.columns[2]}} (positive)  \n",
    "{{train.columns[4]}} (negative)  \n",
    "{{train.columns[5]}} (positive)  \n",
    "{{train.columns[7]}} (positive)  \n",
    "{{train.columns[8]}} (negative)  \n",
    "{{train.columns[9]}} (negative)  \n",
    "{{train.columns[10]}} (positive)  \n",
    "{{train.columns[11]}} (negative)  \n",
    "{{train.columns[12]}} (positive)  \n",
    "{{train.columns[13]}} (negative)  \n",
    "{{train.columns[14]}} (positive)  "
   ]
  },
  {
   "cell_type": "markdown",
   "metadata": {
    "variables": {
     "train.columns[15]": {},
     "train.columns[3]": {},
     "train.columns[6]": {}
    }
   },
   "source": [
    "* Irrelevant  \n",
    "{{train.columns[3]}}  \n",
    "{{train.columns[6]}}  \n",
    "{{train.columns[15]}}"
   ]
  },
  {
   "cell_type": "code",
   "execution_count": null,
   "metadata": {},
   "outputs": [],
   "source": []
  }
 ],
 "metadata": {
  "kernelspec": {
   "display_name": "Python 3",
   "language": "python",
   "name": "python3"
  },
  "language_info": {
   "codemirror_mode": {
    "name": "ipython",
    "version": 3
   },
   "file_extension": ".py",
   "mimetype": "text/x-python",
   "name": "python",
   "nbconvert_exporter": "python",
   "pygments_lexer": "ipython3",
   "version": "3.5.3"
  },
  "toc": {
   "nav_menu": {},
   "number_sections": true,
   "sideBar": true,
   "skip_h1_title": false,
   "title_cell": "Table of Contents",
   "title_sidebar": "Contents",
   "toc_cell": false,
   "toc_position": {},
   "toc_section_display": true,
   "toc_window_display": false
  }
 },
 "nbformat": 4,
 "nbformat_minor": 2
}
