{
 "cells": [
  {
   "cell_type": "markdown",
   "metadata": {},
   "source": [
    "# Motivation\n",
    "This notebook analyses the spreadsheet containing information on the reversals. This spreadsheet collects different features on the trades in an attempt of creating a binary classifier, this classifier will learn from the data collected and will predict the value of the `outcome` variable, which can be success of failre\n",
    "\n",
    "# Data\n",
    "The data has been collected in an spreadsheet containing trades both simulated and real. And the different trades have been classified into three types: continuation, counter and ranging. The independent variables gathered for each trade type are:\n",
    "## Continuation trades\n",
    "* id\tid used in the screenshot folder to identify this record\n",
    "* start\tstart of this trade\n",
    "* timeframe\tin the format 2D,D,H12,H8\n",
    "* entry\tprice\n",
    "* outcome\tS=success;F=failure;B=breakeven\n",
    "* ext_outcome. S=success;F=failure;B=breakeven\n",
    "* RSI bounces. number of RSI bounces ocurring in the trend before entry\n",
    "* No of candles. How many candles before occurred the bounce, from the entry of trade to the first bounce (without counting the entry candle)\n",
    "* entry on RSI. Was the entry candle on RSI?\n",
    "* length of trend. lenght of the preceding trend in number of candles. The valley before the continuation is not included in the count\n",
    "* previous swings. Number of swings from the entry and counting the rebound before the entry (see screenshot below)\n",
    "* space interswings. Comma separated numbers representing the number of candles between swings from the most recent to the oldest\n",
    "* length in pips. From the beginning of the trade to the entry price in number of pips\n",
    "strong trend\tTRUE of the preceding trend was strong\n",
    "* trend angle. Measured with Oanda after hitting the auto scale button+lock scalde button and the end of the trend line is the IC+1 when it touches the entry price\n",
    "* bounce length. Length in number of candles for each of the bounces (in the order from the most recent to the oldest)\n",
    "* bounce pips. Length from the horizontal line defined by IC until the highest point of the bounce (considering wicks also)\n",
    "* inn_bounce. Number of candles of the inner bounce (see screenshots below)\n",
    "indecission\tNumber of candles the price stays in S/R, without considering the bounce and only considering the candles pre/post bounce\n",
    "* retraced.\tOnly relevant for outcome=F, how many pips from the S/L the trade reversed?. If n.a., then it means that the trade did not reversed last time that the price was below/above this level assuming that a possible counter could happen\n",
    "* entry_aligned. Is the entry aligned with previous bounces on the same trend. TRUE or 1 if it is, FALSE or 0 if it is not"
   ]
  },
  {
   "cell_type": "markdown",
   "metadata": {},
   "source": [
    "## Dependencies"
   ]
  },
  {
   "cell_type": "code",
   "execution_count": 290,
   "metadata": {},
   "outputs": [],
   "source": [
    "import pandas as pd\n",
    "import numpy as np\n",
    "import pdb\n",
    "import re\n",
    "import seaborn as sns\n",
    "from pandas.plotting import scatter_matrix\n",
    "from sklearn.metrics import confusion_matrix,precision_score\n",
    "from sklearn.model_selection import train_test_split\n",
    "\n",
    "%matplotlib inline"
   ]
  },
  {
   "cell_type": "markdown",
   "metadata": {},
   "source": [
    "# Continuation trades\n",
    "\n",
    "First, let's create a function to read-in a .csv file containing the data andstore it in a dataframe:"
   ]
  },
  {
   "cell_type": "code",
   "execution_count": 291,
   "metadata": {},
   "outputs": [
    {
     "data": {
      "text/plain": [
       "(299, 27)"
      ]
     },
     "execution_count": 291,
     "metadata": {},
     "output_type": "execute_result"
    }
   ],
   "source": [
    "def read_tradedata(tradefile,sep,na_values):\n",
    "    '''\n",
    "    Parameters\n",
    "    ----------\n",
    "    tradefile : str, required\n",
    "                Path to file containing the trade data\n",
    "    sep : str, optionsl\n",
    "          Field separator used in the file. i.e. ',' (comma separated values), '\\t' (tab-separated values)\n",
    "    na_values : list, optional\n",
    "                Additional list of strings to recognize as NA/NaN. i.e. ['n.a.']\n",
    "    \n",
    "    Returns\n",
    "    -------\n",
    "    A Pandas dataframe\n",
    "    '''\n",
    "    DF=pd.read_csv(tradefile,sep=sep,na_values=na_values)\n",
    "    \n",
    "    return DF\n",
    "\n",
    "contDF=read_tradedata('/Users/ernesto/Downloads/continuations01122018.tsv',sep=\"\\t\",na_values=[\"n.a.\",\"n.a\"])\n",
    "\n",
    "contDF.shape"
   ]
  },
  {
   "cell_type": "markdown",
   "metadata": {},
   "source": [
    "And some information about contDF:"
   ]
  },
  {
   "cell_type": "code",
   "execution_count": 292,
   "metadata": {},
   "outputs": [
    {
     "name": "stdout",
     "output_type": "stream",
     "text": [
      "<class 'pandas.core.frame.DataFrame'>\n",
      "RangeIndex: 299 entries, 0 to 298\n",
      "Data columns (total 27 columns):\n",
      "id                         299 non-null object\n",
      "start                      299 non-null object\n",
      "type                       215 non-null object\n",
      "timeframe                  298 non-null object\n",
      "entry                      299 non-null float64\n",
      "outcome                    299 non-null object\n",
      "ext_outcome                299 non-null object\n",
      "RSI bounces                298 non-null float64\n",
      "bounce length              232 non-null object\n",
      "bounce (pips)              299 non-null int64\n",
      "inn_bounce                 298 non-null float64\n",
      "entry on RSI               299 non-null bool\n",
      "length of trend            261 non-null float64\n",
      "length of trend (-1)       214 non-null float64\n",
      "length in pips (-1)        214 non-null float64\n",
      "strong trend               299 non-null bool\n",
      "last time                  271 non-null object\n",
      "stretches                  30 non-null object\n",
      "entry_aligned              299 non-null int64\n",
      "is_sr_doubtful             107 non-null float64\n",
      "retraced                   78 non-null float64\n",
      "Candle +1 against trade    265 non-null object\n",
      "indecission                152 non-null float64\n",
      "No of candles              121 non-null float64\n",
      "previous swings            152 non-null float64\n",
      "space interswings          152 non-null object\n",
      "trend angle                152 non-null float64\n",
      "dtypes: bool(2), float64(12), int64(2), object(11)\n",
      "memory usage: 59.1+ KB\n"
     ]
    }
   ],
   "source": [
    "contDF.info()"
   ]
  },
  {
   "cell_type": "markdown",
   "metadata": {},
   "source": [
    "* Conversion to right types<br>\n",
    "Let's convert now the `start` and `last time` variables to DateTime"
   ]
  },
  {
   "cell_type": "code",
   "execution_count": 293,
   "metadata": {},
   "outputs": [],
   "source": [
    "contDF['start']= pd.to_datetime(contDF['start'])\n",
    "contDF['last time']= pd.to_datetime(contDF['last time'])"
   ]
  },
  {
   "cell_type": "markdown",
   "metadata": {},
   "source": [
    "## Cleaning the n.a. values\n",
    "The following predictors have n.a. values and the strategy I will follow will depend on each case:"
   ]
  },
  {
   "cell_type": "markdown",
   "metadata": {},
   "source": [
    "* No of candles (will replace the n.a. by 0)"
   ]
  },
  {
   "cell_type": "code",
   "execution_count": 294,
   "metadata": {},
   "outputs": [],
   "source": [
    "contDF[\"No of candles\"].fillna(0, inplace=True)"
   ]
  },
  {
   "cell_type": "markdown",
   "metadata": {},
   "source": [
    "* Bounce length (will replace the n.a. by 0)"
   ]
  },
  {
   "cell_type": "code",
   "execution_count": 295,
   "metadata": {},
   "outputs": [],
   "source": [
    "contDF[\"bounce length\"].fillna(0, inplace=True)"
   ]
  },
  {
   "cell_type": "markdown",
   "metadata": {},
   "source": [
    "* Length of trend (-1) (will replace the n.a. by 0)"
   ]
  },
  {
   "cell_type": "code",
   "execution_count": 296,
   "metadata": {},
   "outputs": [],
   "source": [
    "contDF[\"length of trend (-1)\"].fillna(0, inplace=True)"
   ]
  },
  {
   "cell_type": "markdown",
   "metadata": {},
   "source": [
    "* Length in pips (-1) (will replace the n.a. by 0)"
   ]
  },
  {
   "cell_type": "code",
   "execution_count": 297,
   "metadata": {},
   "outputs": [],
   "source": [
    "contDF[\"length in pips (-1)\"].fillna(0, inplace=True)"
   ]
  },
  {
   "cell_type": "markdown",
   "metadata": {},
   "source": [
    "## Transforming"
   ]
  },
  {
   "cell_type": "code",
   "execution_count": 298,
   "metadata": {},
   "outputs": [],
   "source": [
    "transl_dict={ \n",
    "        'S':1,\n",
    "        'F':0, \n",
    "        True:1, \n",
    "        False:0\n",
    "    }\n",
    "def digit_binary(x,transl_dict,name):\n",
    "    '''\n",
    "    This function will replace the values in categorical\n",
    "    binary variables by 1 and 0\n",
    "    \n",
    "    Parameters\n",
    "    ----------\n",
    "    transl_dict: dict\n",
    "                 Keys will be the old categorical names and Values\n",
    "                 will be 1 and 0. For example:\n",
    "                 transl_dict={ \n",
    "                            'S':1,\n",
    "                            'F':0, \n",
    "                            True:1, \n",
    "                            False:0\n",
    "                            }\n",
    "    name: str\n",
    "          Name of the column to modify\n",
    "        \n",
    "    Returns\n",
    "    -------\n",
    "    The new label for the categorical variable\n",
    "    '''\n",
    "    \n",
    "    return transl_dict[x[name]]\n",
    "\n",
    "contDF['ext_outcome']=contDF.apply(digit_binary,axis=1,transl_dict=transl_dict, name='ext_outcome')\n",
    "contDF['entry on RSI']=contDF.apply(digit_binary,axis=1,transl_dict=transl_dict, name='entry on RSI')\n",
    "contDF['strong trend']=contDF.apply(digit_binary,axis=1,transl_dict=transl_dict, name='strong trend')"
   ]
  },
  {
   "cell_type": "markdown",
   "metadata": {},
   "source": [
    "## Selecting the desired timeframe"
   ]
  },
  {
   "cell_type": "code",
   "execution_count": 299,
   "metadata": {},
   "outputs": [],
   "source": [
    "contDF=contDF[contDF.timeframe == 'H12']"
   ]
  },
  {
   "cell_type": "markdown",
   "metadata": {},
   "source": [
    "## Initial exploration of the data\n",
    "\n",
    "First things first, let's examine if we have a significant number of records per category of the dependent variable (outcome in this case), since it is really very important to have enough records to establish solid conclusions"
   ]
  },
  {
   "cell_type": "code",
   "execution_count": 300,
   "metadata": {},
   "outputs": [
    {
     "data": {
      "text/plain": [
       "S    81\n",
       "F    78\n",
       "Name: outcome, dtype: int64"
      ]
     },
     "execution_count": 300,
     "metadata": {},
     "output_type": "execute_result"
    }
   ],
   "source": [
    "outcome_ix=5 # 4=outcome and 5= ext_outcome\n",
    "outcome_lab=\"ext_outcome\"\n",
    "contDF.iloc[:,outcome_ix].value_counts()"
   ]
  },
  {
   "cell_type": "markdown",
   "metadata": {},
   "source": [
    "For now I am not going to consider the trades having an outcome of 'B'. So, let's remove them from the dataframe:"
   ]
  },
  {
   "cell_type": "code",
   "execution_count": 301,
   "metadata": {},
   "outputs": [],
   "source": [
    "contDF=contDF[contDF.outcome != 'B']"
   ]
  },
  {
   "cell_type": "markdown",
   "metadata": {},
   "source": [
    "###  RSI bounces\n",
    "Let's examine if there is a correlation between the number of bounces and the outcome of the trade"
   ]
  },
  {
   "cell_type": "markdown",
   "metadata": {},
   "source": [
    "As an initial exploration I will create a boxplot displaying the data"
   ]
  },
  {
   "cell_type": "code",
   "execution_count": 302,
   "metadata": {},
   "outputs": [
    {
     "data": {
      "image/png": "[encoded data removed]",
      "text/plain": [
       "<matplotlib.figure.Figure at 0x116790b70>"
      ]
     },
     "metadata": {},
     "output_type": "display_data"
    }
   ],
   "source": [
    "ax = sns.boxplot(x=outcome_lab, y=\"RSI bounces\", data=contDF)"
   ]
  },
  {
   "cell_type": "markdown",
   "metadata": {},
   "source": [
    "* Mean for each category"
   ]
  },
  {
   "cell_type": "code",
   "execution_count": 303,
   "metadata": {},
   "outputs": [
    {
     "data": {
      "text/html": [
       "<div>\n",
       "<style scoped>\n",
       "    .dataframe tbody tr th:only-of-type {\n",
       "        vertical-align: middle;\n",
       "    }\n",
       "\n",
       "    .dataframe tbody tr th {\n",
       "        vertical-align: top;\n",
       "    }\n",
       "\n",
       "    .dataframe thead th {\n",
       "        text-align: right;\n",
       "    }\n",
       "</style>\n",
       "<table border=\"1\" class=\"dataframe\">\n",
       "  <thead>\n",
       "    <tr style=\"text-align: right;\">\n",
       "      <th></th>\n",
       "      <th>RSI bounces</th>\n",
       "    </tr>\n",
       "    <tr>\n",
       "      <th>ext_outcome</th>\n",
       "      <th></th>\n",
       "    </tr>\n",
       "  </thead>\n",
       "  <tbody>\n",
       "    <tr>\n",
       "      <th>0</th>\n",
       "      <td>2.794521</td>\n",
       "    </tr>\n",
       "    <tr>\n",
       "      <th>1</th>\n",
       "      <td>1.802326</td>\n",
       "    </tr>\n",
       "  </tbody>\n",
       "</table>\n",
       "</div>"
      ],
      "text/plain": [
       "             RSI bounces\n",
       "ext_outcome             \n",
       "0               2.794521\n",
       "1               1.802326"
      ]
     },
     "execution_count": 303,
     "metadata": {},
     "output_type": "execute_result"
    }
   ],
   "source": [
    "contDF.groupby(outcome_lab).agg({'RSI bounces': 'mean'})"
   ]
  },
  {
   "cell_type": "markdown",
   "metadata": {},
   "source": [
    "* Median for each category"
   ]
  },
  {
   "cell_type": "code",
   "execution_count": 304,
   "metadata": {},
   "outputs": [
    {
     "name": "stdout",
     "output_type": "stream",
     "text": [
      "             RSI bounces\n",
      "ext_outcome             \n",
      "0                    2.0\n",
      "1                    1.0\n"
     ]
    }
   ],
   "source": [
    "medianBounce=contDF.groupby(outcome_lab).agg({'RSI bounces': 'median'})\n",
    "print(medianBounce)"
   ]
  },
  {
   "cell_type": "markdown",
   "metadata": {
    "variables": {
     "'%.0f' % medianBounce.iloc[0,0]": "2",
     "'%.0f' % medianBounce.iloc[1,0]": "1"
    }
   },
   "source": [
    "* Conclusion <br>\n",
    "The median number of bounces for successful trades is {{'%.0f' % medianBounce.iloc[1,0]}}<br>\n",
    "The median number of bounces for failed trades is {{'%.0f' % medianBounce.iloc[0,0]}}<br>"
   ]
  },
  {
   "cell_type": "markdown",
   "metadata": {},
   "source": [
    "* Distribution of the number of bounces<br>\n",
    "For this particular task I will create a count plot in order to plot the RSI bounces for both the successful and the failed trades"
   ]
  },
  {
   "cell_type": "code",
   "execution_count": 305,
   "metadata": {},
   "outputs": [
    {
     "data": {
      "image/png": "[encoded data removed]",
      "text/plain": [
       "<matplotlib.figure.Figure at 0x116ad50b8>"
      ]
     },
     "metadata": {},
     "output_type": "display_data"
    }
   ],
   "source": [
    "ax = sns.countplot(x=\"RSI bounces\",hue=outcome_lab, data=contDF)"
   ]
  },
  {
   "cell_type": "markdown",
   "metadata": {},
   "source": [
    "Now, let's calculate the normalized number of bounces, as the 2 categories of the outcome variables are imbalanced"
   ]
  },
  {
   "cell_type": "code",
   "execution_count": 306,
   "metadata": {},
   "outputs": [
    {
     "data": {
      "image/png": "[encoded data removed]",
      "text/plain": [
       "<matplotlib.figure.Figure at 0x1140592b0>"
      ]
     },
     "metadata": {},
     "output_type": "display_data"
    }
   ],
   "source": [
    "contDF_counts = (contDF.groupby([outcome_lab])['RSI bounces']\n",
    "                  .value_counts(normalize=True)\n",
    "                  .rename('percentage')\n",
    "                  .mul(100)\n",
    "                  .reset_index()\n",
    "                  .sort_values('RSI bounces'))\n",
    "\n",
    "p = sns.barplot(x=\"RSI bounces\", y=\"percentage\", hue=outcome_lab, data=contDF_counts)"
   ]
  },
  {
   "cell_type": "markdown",
   "metadata": {},
   "source": [
    "* Histogram"
   ]
  },
  {
   "cell_type": "code",
   "execution_count": 307,
   "metadata": {},
   "outputs": [],
   "source": [
    "import matplotlib.pyplot as plt\n",
    "\n",
    "succ=contDF.loc[contDF[outcome_lab]==1]['RSI bounces']\n",
    "fail=contDF.loc[contDF[outcome_lab]==0]['RSI bounces']"
   ]
  },
  {
   "cell_type": "code",
   "execution_count": 308,
   "metadata": {},
   "outputs": [
    {
     "data": {
      "text/plain": [
       "<matplotlib.text.Text at 0x11553e3c8>"
      ]
     },
     "execution_count": 308,
     "metadata": {},
     "output_type": "execute_result"
    },
    {
     "data": {
      "image/png": "[encoded data removed]",
      "text/plain": [
       "<matplotlib.figure.Figure at 0x11615ae10>"
      ]
     },
     "metadata": {},
     "output_type": "display_data"
    }
   ],
   "source": [
    "plt.hist([fail,succ], bins = 10, normed=True, label=['0','1'])\n",
    "\n",
    "plt.legend()\n",
    "plt.xlabel('RSI bounces')\n",
    "plt.ylabel('Normalized Freq')\n",
    "plt.title('Hist for RSI bounces on the outcome')"
   ]
  },
  {
   "cell_type": "markdown",
   "metadata": {},
   "source": [
    "* Conclusion<br>\n",
    "The ideal situation for having a S trade is to have either 1 or 2 bounces"
   ]
  },
  {
   "cell_type": "markdown",
   "metadata": {},
   "source": [
    "### No of candles\n",
    "This variable represents the number of candles since the beginning of the trade until the first RSI bounce. I am going compare the distribution of this variable depending on the `outcome` variable.<br>"
   ]
  },
  {
   "cell_type": "markdown",
   "metadata": {},
   "source": [
    "As an initial exploration I will create a boxplot displaying the data:"
   ]
  },
  {
   "cell_type": "code",
   "execution_count": 309,
   "metadata": {},
   "outputs": [
    {
     "data": {
      "image/png": "[encoded data removed]",
      "text/plain": [
       "<matplotlib.figure.Figure at 0x116859c50>"
      ]
     },
     "metadata": {},
     "output_type": "display_data"
    }
   ],
   "source": [
    "ax = sns.boxplot(x=outcome_lab, y=\"No of candles\", data=contDF)"
   ]
  },
  {
   "cell_type": "markdown",
   "metadata": {},
   "source": [
    "* Mean for each category"
   ]
  },
  {
   "cell_type": "code",
   "execution_count": 310,
   "metadata": {},
   "outputs": [
    {
     "data": {
      "text/html": [
       "<div>\n",
       "<style scoped>\n",
       "    .dataframe tbody tr th:only-of-type {\n",
       "        vertical-align: middle;\n",
       "    }\n",
       "\n",
       "    .dataframe tbody tr th {\n",
       "        vertical-align: top;\n",
       "    }\n",
       "\n",
       "    .dataframe thead th {\n",
       "        text-align: right;\n",
       "    }\n",
       "</style>\n",
       "<table border=\"1\" class=\"dataframe\">\n",
       "  <thead>\n",
       "    <tr style=\"text-align: right;\">\n",
       "      <th></th>\n",
       "      <th>No of candles</th>\n",
       "    </tr>\n",
       "    <tr>\n",
       "      <th>ext_outcome</th>\n",
       "      <th></th>\n",
       "    </tr>\n",
       "  </thead>\n",
       "  <tbody>\n",
       "    <tr>\n",
       "      <th>0</th>\n",
       "      <td>9.931507</td>\n",
       "    </tr>\n",
       "    <tr>\n",
       "      <th>1</th>\n",
       "      <td>7.720930</td>\n",
       "    </tr>\n",
       "  </tbody>\n",
       "</table>\n",
       "</div>"
      ],
      "text/plain": [
       "             No of candles\n",
       "ext_outcome               \n",
       "0                 9.931507\n",
       "1                 7.720930"
      ]
     },
     "execution_count": 310,
     "metadata": {},
     "output_type": "execute_result"
    }
   ],
   "source": [
    "contDF.groupby(outcome_lab).agg({'No of candles': 'mean'})"
   ]
  },
  {
   "cell_type": "markdown",
   "metadata": {},
   "source": [
    "* Median for each category"
   ]
  },
  {
   "cell_type": "code",
   "execution_count": 311,
   "metadata": {},
   "outputs": [
    {
     "data": {
      "text/html": [
       "<div>\n",
       "<style scoped>\n",
       "    .dataframe tbody tr th:only-of-type {\n",
       "        vertical-align: middle;\n",
       "    }\n",
       "\n",
       "    .dataframe tbody tr th {\n",
       "        vertical-align: top;\n",
       "    }\n",
       "\n",
       "    .dataframe thead th {\n",
       "        text-align: right;\n",
       "    }\n",
       "</style>\n",
       "<table border=\"1\" class=\"dataframe\">\n",
       "  <thead>\n",
       "    <tr style=\"text-align: right;\">\n",
       "      <th></th>\n",
       "      <th>No of candles</th>\n",
       "    </tr>\n",
       "    <tr>\n",
       "      <th>ext_outcome</th>\n",
       "      <th></th>\n",
       "    </tr>\n",
       "  </thead>\n",
       "  <tbody>\n",
       "    <tr>\n",
       "      <th>0</th>\n",
       "      <td>4.0</td>\n",
       "    </tr>\n",
       "    <tr>\n",
       "      <th>1</th>\n",
       "      <td>3.0</td>\n",
       "    </tr>\n",
       "  </tbody>\n",
       "</table>\n",
       "</div>"
      ],
      "text/plain": [
       "             No of candles\n",
       "ext_outcome               \n",
       "0                      4.0\n",
       "1                      3.0"
      ]
     },
     "execution_count": 311,
     "metadata": {},
     "output_type": "execute_result"
    }
   ],
   "source": [
    "contDF.groupby(outcome_lab).agg({'No of candles': 'median'})"
   ]
  },
  {
   "cell_type": "markdown",
   "metadata": {},
   "source": [
    "Let's analyze the distribution with a histogram"
   ]
  },
  {
   "cell_type": "code",
   "execution_count": 312,
   "metadata": {},
   "outputs": [],
   "source": [
    "succ=contDF.loc[contDF[outcome_lab]==1]['No of candles']\n",
    "fail=contDF.loc[contDF[outcome_lab]==0]['No of candles']"
   ]
  },
  {
   "cell_type": "code",
   "execution_count": 313,
   "metadata": {},
   "outputs": [
    {
     "data": {
      "text/plain": [
       "<matplotlib.text.Text at 0x11586ba90>"
      ]
     },
     "execution_count": 313,
     "metadata": {},
     "output_type": "execute_result"
    },
    {
     "data": {
      "image/png": "[encoded data removed]",
      "text/plain": [
       "<matplotlib.figure.Figure at 0x114102be0>"
      ]
     },
     "metadata": {},
     "output_type": "display_data"
    }
   ],
   "source": [
    "plt.hist([fail,succ], bins = 10, normed=True, label=['0','1'])\n",
    "\n",
    "plt.legend()\n",
    "plt.xlabel('No of candles')\n",
    "plt.ylabel('Normalized Freq')\n",
    "plt.title('Hist for No of candles on the outcome')"
   ]
  },
  {
   "cell_type": "markdown",
   "metadata": {},
   "source": [
    "This distribution is right skewed, let's cap the X axis values:"
   ]
  },
  {
   "cell_type": "code",
   "execution_count": 314,
   "metadata": {},
   "outputs": [
    {
     "data": {
      "text/plain": [
       "<matplotlib.text.Text at 0x116bd6cf8>"
      ]
     },
     "execution_count": 314,
     "metadata": {},
     "output_type": "execute_result"
    },
    {
     "data": {
      "image/png": "[encoded data removed]",
      "text/plain": [
       "<matplotlib.figure.Figure at 0x116baffd0>"
      ]
     },
     "metadata": {},
     "output_type": "display_data"
    }
   ],
   "source": [
    "plt.xlim(0,50)\n",
    "plt.hist([fail,succ], bins = 20, normed=True, label=['0','1'])\n",
    "\n",
    "plt.legend()\n",
    "plt.xlabel('No of candles (<=50)')\n",
    "plt.ylabel('Normalized Freq')\n",
    "plt.title('Hist for No of candles on the outcome')"
   ]
  },
  {
   "cell_type": "markdown",
   "metadata": {},
   "source": [
    "### entry on RSI\n",
    "This boolean variable will be True if the entry of the trade is in oversold/overbought RSI\n",
    "Firs, let's see the counts for each category of the variable"
   ]
  },
  {
   "cell_type": "code",
   "execution_count": 315,
   "metadata": {},
   "outputs": [
    {
     "data": {
      "text/plain": [
       "0    130\n",
       "1     29\n",
       "Name: entry on RSI, dtype: int64"
      ]
     },
     "execution_count": 315,
     "metadata": {},
     "output_type": "execute_result"
    }
   ],
   "source": [
    "contDF['entry on RSI'].value_counts()"
   ]
  },
  {
   "cell_type": "markdown",
   "metadata": {},
   "source": [
    "Let's compare the proportions for this variable between the 2 categories of the `outcome` variable"
   ]
  },
  {
   "cell_type": "code",
   "execution_count": 316,
   "metadata": {},
   "outputs": [
    {
     "name": "stdout",
     "output_type": "stream",
     "text": [
      "entry on RSI    0   1  All\n",
      "outcome                   \n",
      "F              69   9   78\n",
      "S              61  20   81\n",
      "All           130  29  159\n"
     ]
    }
   ],
   "source": [
    "div_class=pd.crosstab(contDF.iloc[:,outcome_ix], contDF['entry on RSI'],margins=True)\n",
    "print(div_class)"
   ]
  },
  {
   "cell_type": "markdown",
   "metadata": {},
   "source": [
    "It's is easier to visualize the relationship if we calculate the percentages:"
   ]
  },
  {
   "cell_type": "code",
   "execution_count": 317,
   "metadata": {},
   "outputs": [
    {
     "name": "stdout",
     "output_type": "stream",
     "text": [
      "entry on RSI           0           1         All\n",
      "outcome                                         \n",
      "F              53.076923   31.034483   49.056604\n",
      "S              46.923077   68.965517   50.943396\n",
      "All           100.000000  100.000000  100.000000\n"
     ]
    }
   ],
   "source": [
    "prop=(div_class/div_class.loc[\"All\"])*100\n",
    "print(prop)"
   ]
  },
  {
   "cell_type": "markdown",
   "metadata": {
    "variables": {
     "'%.1f' % prop.iloc[0, 0]": "53.1",
     "'%.1f' % prop.iloc[0, 1]": "31.0",
     "'%.1f' % prop.iloc[1, 0]": "46.9",
     "'%.1f' % prop.iloc[1, 1]": "69.0"
    }
   },
   "source": [
    "* Conclusion <br>\n",
    "Within the trades having entry on RSI there are {{'%.1f' % prop.iloc[0, 1]}}% of failures and {{'%.1f' % prop.iloc[1, 1]}}% of successes<br>\n",
    "Within the trades not having an entry on RSI there are {{'%.1f' % prop.iloc[0, 0]}}% of failures and {{'%.1f' % prop.iloc[1, 0]}}% of successes"
   ]
  },
  {
   "cell_type": "markdown",
   "metadata": {},
   "source": [
    "### length of trend (-1)\n",
    "This quantitative discrete variable measures the length of the trade measured in term of the number of candles. Let's start comparing the distribution of this variable for the different categories of the `outcome` variable"
   ]
  },
  {
   "cell_type": "code",
   "execution_count": 318,
   "metadata": {},
   "outputs": [
    {
     "data": {
      "image/png": "[encoded data removed]",
      "text/plain": [
       "<matplotlib.figure.Figure at 0x11628afd0>"
      ]
     },
     "metadata": {},
     "output_type": "display_data"
    }
   ],
   "source": [
    "ax = sns.boxplot(x=outcome_lab, y=\"length of trend (-1)\", data=contDF)"
   ]
  },
  {
   "cell_type": "markdown",
   "metadata": {},
   "source": [
    "Let's analyze the distribution with a histogram"
   ]
  },
  {
   "cell_type": "code",
   "execution_count": 319,
   "metadata": {},
   "outputs": [],
   "source": [
    "succ=contDF.loc[contDF[outcome_lab]==1]['length of trend (-1)']\n",
    "fail=contDF.loc[contDF[outcome_lab]==0]['length of trend (-1)']"
   ]
  },
  {
   "cell_type": "code",
   "execution_count": 320,
   "metadata": {},
   "outputs": [
    {
     "data": {
      "text/plain": [
       "<matplotlib.text.Text at 0x116f8dbe0>"
      ]
     },
     "execution_count": 320,
     "metadata": {},
     "output_type": "execute_result"
    },
    {
     "data": {
      "image/png": "[encoded data removed]",
      "text/plain": [
       "<matplotlib.figure.Figure at 0x116d84898>"
      ]
     },
     "metadata": {},
     "output_type": "display_data"
    }
   ],
   "source": [
    "plt.hist([fail,succ], bins = 10, normed=True, label=['0','1'])\n",
    "\n",
    "plt.legend()\n",
    "plt.xlabel('length of trend')\n",
    "plt.ylabel('Normalized Freq')\n",
    "plt.title('Hist for Length of the trend depending on the outcome')"
   ]
  },
  {
   "cell_type": "markdown",
   "metadata": {},
   "source": [
    "This distribution is right skewed, let's cap the X axis values:"
   ]
  },
  {
   "cell_type": "code",
   "execution_count": 321,
   "metadata": {},
   "outputs": [
    {
     "data": {
      "text/plain": [
       "<matplotlib.text.Text at 0x11716be48>"
      ]
     },
     "execution_count": 321,
     "metadata": {},
     "output_type": "execute_result"
    },
    {
     "data": {
      "image/png": "[encoded data removed]",
      "text/plain": [
       "<matplotlib.figure.Figure at 0x1170bdb70>"
      ]
     },
     "metadata": {},
     "output_type": "display_data"
    }
   ],
   "source": [
    "plt.xlim(0,100)\n",
    "plt.hist([fail,succ], bins = 40, normed=True, label=['0','1'])\n",
    "\n",
    "plt.legend()\n",
    "plt.xlabel('length of trend (<=100)')\n",
    "plt.ylabel('Normalized Freq')\n",
    "plt.title('Hist for Length of the trend depending on the outcome')"
   ]
  },
  {
   "cell_type": "markdown",
   "metadata": {},
   "source": [
    "* Mean for each category"
   ]
  },
  {
   "cell_type": "code",
   "execution_count": 322,
   "metadata": {},
   "outputs": [
    {
     "data": {
      "text/html": [
       "<div>\n",
       "<style scoped>\n",
       "    .dataframe tbody tr th:only-of-type {\n",
       "        vertical-align: middle;\n",
       "    }\n",
       "\n",
       "    .dataframe tbody tr th {\n",
       "        vertical-align: top;\n",
       "    }\n",
       "\n",
       "    .dataframe thead th {\n",
       "        text-align: right;\n",
       "    }\n",
       "</style>\n",
       "<table border=\"1\" class=\"dataframe\">\n",
       "  <thead>\n",
       "    <tr style=\"text-align: right;\">\n",
       "      <th></th>\n",
       "      <th>length of trend</th>\n",
       "    </tr>\n",
       "    <tr>\n",
       "      <th>ext_outcome</th>\n",
       "      <th></th>\n",
       "    </tr>\n",
       "  </thead>\n",
       "  <tbody>\n",
       "    <tr>\n",
       "      <th>0</th>\n",
       "      <td>62.000000</td>\n",
       "    </tr>\n",
       "    <tr>\n",
       "      <th>1</th>\n",
       "      <td>53.447059</td>\n",
       "    </tr>\n",
       "  </tbody>\n",
       "</table>\n",
       "</div>"
      ],
      "text/plain": [
       "             length of trend\n",
       "ext_outcome                 \n",
       "0                  62.000000\n",
       "1                  53.447059"
      ]
     },
     "execution_count": 322,
     "metadata": {},
     "output_type": "execute_result"
    }
   ],
   "source": [
    "contDF.groupby(outcome_lab).agg({'length of trend': 'mean'})"
   ]
  },
  {
   "cell_type": "markdown",
   "metadata": {},
   "source": [
    "* Median for each category"
   ]
  },
  {
   "cell_type": "code",
   "execution_count": 323,
   "metadata": {},
   "outputs": [
    {
     "data": {
      "text/html": [
       "<div>\n",
       "<style scoped>\n",
       "    .dataframe tbody tr th:only-of-type {\n",
       "        vertical-align: middle;\n",
       "    }\n",
       "\n",
       "    .dataframe tbody tr th {\n",
       "        vertical-align: top;\n",
       "    }\n",
       "\n",
       "    .dataframe thead th {\n",
       "        text-align: right;\n",
       "    }\n",
       "</style>\n",
       "<table border=\"1\" class=\"dataframe\">\n",
       "  <thead>\n",
       "    <tr style=\"text-align: right;\">\n",
       "      <th></th>\n",
       "      <th>length of trend</th>\n",
       "    </tr>\n",
       "    <tr>\n",
       "      <th>ext_outcome</th>\n",
       "      <th></th>\n",
       "    </tr>\n",
       "  </thead>\n",
       "  <tbody>\n",
       "    <tr>\n",
       "      <th>0</th>\n",
       "      <td>49.5</td>\n",
       "    </tr>\n",
       "    <tr>\n",
       "      <th>1</th>\n",
       "      <td>39.0</td>\n",
       "    </tr>\n",
       "  </tbody>\n",
       "</table>\n",
       "</div>"
      ],
      "text/plain": [
       "             length of trend\n",
       "ext_outcome                 \n",
       "0                       49.5\n",
       "1                       39.0"
      ]
     },
     "execution_count": 323,
     "metadata": {},
     "output_type": "execute_result"
    }
   ],
   "source": [
    "contDF.groupby(outcome_lab).agg({'length of trend': 'median'})"
   ]
  },
  {
   "cell_type": "markdown",
   "metadata": {},
   "source": [
    "### Pips_ratio\n",
    "This variable contains the ratio between 'length of trend (-1)'/'length in pips'"
   ]
  },
  {
   "cell_type": "code",
   "execution_count": 324,
   "metadata": {},
   "outputs": [],
   "source": [
    "contDF['pips_ratio']=contDF['length in pips (-1)'].astype(int)/contDF['length of trend (-1)'].astype(int)"
   ]
  },
  {
   "cell_type": "code",
   "execution_count": 325,
   "metadata": {},
   "outputs": [
    {
     "data": {
      "image/png": "[encoded data removed]",
      "text/plain": [
       "<matplotlib.figure.Figure at 0x116ea9518>"
      ]
     },
     "metadata": {},
     "output_type": "display_data"
    }
   ],
   "source": [
    "ax = sns.boxplot(x=outcome_lab, y=\"pips_ratio\", data=contDF)"
   ]
  },
  {
   "cell_type": "markdown",
   "metadata": {},
   "source": [
    "* Mean for each category"
   ]
  },
  {
   "cell_type": "code",
   "execution_count": 326,
   "metadata": {},
   "outputs": [
    {
     "data": {
      "text/html": [
       "<div>\n",
       "<style scoped>\n",
       "    .dataframe tbody tr th:only-of-type {\n",
       "        vertical-align: middle;\n",
       "    }\n",
       "\n",
       "    .dataframe tbody tr th {\n",
       "        vertical-align: top;\n",
       "    }\n",
       "\n",
       "    .dataframe thead th {\n",
       "        text-align: right;\n",
       "    }\n",
       "</style>\n",
       "<table border=\"1\" class=\"dataframe\">\n",
       "  <thead>\n",
       "    <tr style=\"text-align: right;\">\n",
       "      <th></th>\n",
       "      <th>pips_ratio</th>\n",
       "    </tr>\n",
       "    <tr>\n",
       "      <th>ext_outcome</th>\n",
       "      <th></th>\n",
       "    </tr>\n",
       "  </thead>\n",
       "  <tbody>\n",
       "    <tr>\n",
       "      <th>0</th>\n",
       "      <td>181.943552</td>\n",
       "    </tr>\n",
       "    <tr>\n",
       "      <th>1</th>\n",
       "      <td>194.129835</td>\n",
       "    </tr>\n",
       "  </tbody>\n",
       "</table>\n",
       "</div>"
      ],
      "text/plain": [
       "             pips_ratio\n",
       "ext_outcome            \n",
       "0            181.943552\n",
       "1            194.129835"
      ]
     },
     "execution_count": 326,
     "metadata": {},
     "output_type": "execute_result"
    }
   ],
   "source": [
    "contDF.groupby(outcome_lab).agg({'pips_ratio': 'mean'})"
   ]
  },
  {
   "cell_type": "markdown",
   "metadata": {},
   "source": [
    "* Median for each category"
   ]
  },
  {
   "cell_type": "code",
   "execution_count": 328,
   "metadata": {},
   "outputs": [
    {
     "data": {
      "text/html": [
       "<div>\n",
       "<style scoped>\n",
       "    .dataframe tbody tr th:only-of-type {\n",
       "        vertical-align: middle;\n",
       "    }\n",
       "\n",
       "    .dataframe tbody tr th {\n",
       "        vertical-align: top;\n",
       "    }\n",
       "\n",
       "    .dataframe thead th {\n",
       "        text-align: right;\n",
       "    }\n",
       "</style>\n",
       "<table border=\"1\" class=\"dataframe\">\n",
       "  <thead>\n",
       "    <tr style=\"text-align: right;\">\n",
       "      <th></th>\n",
       "      <th>pips_ratio</th>\n",
       "    </tr>\n",
       "    <tr>\n",
       "      <th>ext_outcome</th>\n",
       "      <th></th>\n",
       "    </tr>\n",
       "  </thead>\n",
       "  <tbody>\n",
       "    <tr>\n",
       "      <th>0</th>\n",
       "      <td>118.145161</td>\n",
       "    </tr>\n",
       "    <tr>\n",
       "      <th>1</th>\n",
       "      <td>158.853571</td>\n",
       "    </tr>\n",
       "  </tbody>\n",
       "</table>\n",
       "</div>"
      ],
      "text/plain": [
       "             pips_ratio\n",
       "ext_outcome            \n",
       "0            118.145161\n",
       "1            158.853571"
      ]
     },
     "execution_count": 328,
     "metadata": {},
     "output_type": "execute_result"
    }
   ],
   "source": [
    "contDF.groupby(outcome_lab).agg({'pips_ratio': 'median'})"
   ]
  },
  {
   "cell_type": "markdown",
   "metadata": {},
   "source": [
    "Let's analyze the distribution with a histogram"
   ]
  },
  {
   "cell_type": "code",
   "execution_count": 330,
   "metadata": {},
   "outputs": [],
   "source": [
    "succ=contDF.loc[contDF[outcome_lab]==1]['pips_ratio']\n",
    "fail=contDF.loc[contDF[outcome_lab]==0]['pips_ratio']"
   ]
  },
  {
   "cell_type": "code",
   "execution_count": 334,
   "metadata": {},
   "outputs": [
    {
     "data": {
      "text/plain": [
       "<matplotlib.text.Text at 0x114bb5cf8>"
      ]
     },
     "execution_count": 334,
     "metadata": {},
     "output_type": "execute_result"
    },
    {
     "data": {
      "image/png": "[encoded data removed]",
      "text/plain": [
       "<matplotlib.figure.Figure at 0x11695c3c8>"
      ]
     },
     "metadata": {},
     "output_type": "display_data"
    }
   ],
   "source": [
    "plt.hist([fail,succ], bins = 20, normed=True, label=['0','1'])\n",
    "\n",
    "plt.legend()\n",
    "plt.xlabel('Pips ratio')\n",
    "plt.ylabel('Normalized Freq')\n",
    "plt.title('Hist for Pips ratio on the outcome')"
   ]
  },
  {
   "cell_type": "markdown",
   "metadata": {},
   "source": [
    "### inn_bounce\n",
    "Integer variable representing the number of candles of the inner bounce. Let's start comparing the distribution of this variable for the different categories of the `outcome` variable"
   ]
  },
  {
   "cell_type": "code",
   "execution_count": 185,
   "metadata": {},
   "outputs": [
    {
     "data": {
      "image/png": "[encoded data removed]",
      "text/plain": [
       "<matplotlib.figure.Figure at 0x114da56a0>"
      ]
     },
     "metadata": {},
     "output_type": "display_data"
    }
   ],
   "source": [
    "ax = sns.boxplot(x=outcome_lab, y=\"inn_bounce\", data=contDF)"
   ]
  },
  {
   "cell_type": "markdown",
   "metadata": {},
   "source": [
    "* Mean for each category"
   ]
  },
  {
   "cell_type": "code",
   "execution_count": 186,
   "metadata": {},
   "outputs": [
    {
     "data": {
      "text/html": [
       "<div>\n",
       "<style scoped>\n",
       "    .dataframe tbody tr th:only-of-type {\n",
       "        vertical-align: middle;\n",
       "    }\n",
       "\n",
       "    .dataframe tbody tr th {\n",
       "        vertical-align: top;\n",
       "    }\n",
       "\n",
       "    .dataframe thead th {\n",
       "        text-align: right;\n",
       "    }\n",
       "</style>\n",
       "<table border=\"1\" class=\"dataframe\">\n",
       "  <thead>\n",
       "    <tr style=\"text-align: right;\">\n",
       "      <th></th>\n",
       "      <th>inn_bounce</th>\n",
       "    </tr>\n",
       "    <tr>\n",
       "      <th>ext_outcome</th>\n",
       "      <th></th>\n",
       "    </tr>\n",
       "  </thead>\n",
       "  <tbody>\n",
       "    <tr>\n",
       "      <th>0</th>\n",
       "      <td>11.780822</td>\n",
       "    </tr>\n",
       "    <tr>\n",
       "      <th>1</th>\n",
       "      <td>9.758621</td>\n",
       "    </tr>\n",
       "  </tbody>\n",
       "</table>\n",
       "</div>"
      ],
      "text/plain": [
       "             inn_bounce\n",
       "ext_outcome            \n",
       "0             11.780822\n",
       "1              9.758621"
      ]
     },
     "execution_count": 186,
     "metadata": {},
     "output_type": "execute_result"
    }
   ],
   "source": [
    "contDF.groupby(outcome_lab).agg({'inn_bounce': 'mean'})"
   ]
  },
  {
   "cell_type": "markdown",
   "metadata": {},
   "source": [
    "* Median for each category"
   ]
  },
  {
   "cell_type": "code",
   "execution_count": 187,
   "metadata": {},
   "outputs": [
    {
     "data": {
      "text/html": [
       "<div>\n",
       "<style scoped>\n",
       "    .dataframe tbody tr th:only-of-type {\n",
       "        vertical-align: middle;\n",
       "    }\n",
       "\n",
       "    .dataframe tbody tr th {\n",
       "        vertical-align: top;\n",
       "    }\n",
       "\n",
       "    .dataframe thead th {\n",
       "        text-align: right;\n",
       "    }\n",
       "</style>\n",
       "<table border=\"1\" class=\"dataframe\">\n",
       "  <thead>\n",
       "    <tr style=\"text-align: right;\">\n",
       "      <th></th>\n",
       "      <th>inn_bounce</th>\n",
       "    </tr>\n",
       "    <tr>\n",
       "      <th>ext_outcome</th>\n",
       "      <th></th>\n",
       "    </tr>\n",
       "  </thead>\n",
       "  <tbody>\n",
       "    <tr>\n",
       "      <th>0</th>\n",
       "      <td>10.0</td>\n",
       "    </tr>\n",
       "    <tr>\n",
       "      <th>1</th>\n",
       "      <td>8.0</td>\n",
       "    </tr>\n",
       "  </tbody>\n",
       "</table>\n",
       "</div>"
      ],
      "text/plain": [
       "             inn_bounce\n",
       "ext_outcome            \n",
       "0                  10.0\n",
       "1                   8.0"
      ]
     },
     "execution_count": 187,
     "metadata": {},
     "output_type": "execute_result"
    }
   ],
   "source": [
    "contDF.groupby(outcome_lab).agg({'inn_bounce': 'median'})"
   ]
  },
  {
   "cell_type": "markdown",
   "metadata": {},
   "source": [
    "* Histogram"
   ]
  },
  {
   "cell_type": "code",
   "execution_count": 188,
   "metadata": {},
   "outputs": [],
   "source": [
    "succ=contDF.loc[contDF[outcome_lab]==1]['inn_bounce']\n",
    "fail=contDF.loc[contDF[outcome_lab]==0]['inn_bounce']"
   ]
  },
  {
   "cell_type": "code",
   "execution_count": 189,
   "metadata": {},
   "outputs": [
    {
     "data": {
      "text/plain": [
       "<matplotlib.text.Text at 0x113d6ecc0>"
      ]
     },
     "execution_count": 189,
     "metadata": {},
     "output_type": "execute_result"
    },
    {
     "data": {
      "image/png": "[encoded data removed]",
      "text/plain": [
       "<matplotlib.figure.Figure at 0x113d465c0>"
      ]
     },
     "metadata": {},
     "output_type": "display_data"
    }
   ],
   "source": [
    "plt.hist([fail,succ], bins = 20, normed=True, label=['0','1'])\n",
    "\n",
    "plt.legend()\n",
    "plt.xlabel('inn_bounce')\n",
    "plt.ylabel('Normalized Freq')\n",
    "plt.title('Hist for Length of the trend depending on the outcome')"
   ]
  },
  {
   "cell_type": "code",
   "execution_count": 190,
   "metadata": {},
   "outputs": [
    {
     "data": {
      "text/plain": [
       "<matplotlib.text.Text at 0x114248d68>"
      ]
     },
     "execution_count": 190,
     "metadata": {},
     "output_type": "execute_result"
    },
    {
     "data": {
      "image/png": "[encoded data removed]",
      "text/plain": [
       "<matplotlib.figure.Figure at 0x113e99be0>"
      ]
     },
     "metadata": {},
     "output_type": "display_data"
    }
   ],
   "source": [
    "plt.xlim(0,30)\n",
    "plt.hist([fail,succ], bins = 30, normed=True, label=['0','1'])\n",
    "\n",
    "plt.legend()\n",
    "plt.xlabel('inn_bounce (<=30)')\n",
    "plt.ylabel('Normalized Freq')\n",
    "plt.title('Hist for inn_bounce depending on the outcome')"
   ]
  },
  {
   "cell_type": "markdown",
   "metadata": {},
   "source": [
    "### Strong trend\n",
    "Boolean that is TRUE when trend is strong, FALSE otherwise."
   ]
  },
  {
   "cell_type": "markdown",
   "metadata": {},
   "source": [
    "Let's compare the proportions for this variable between the 2 categories of the `outcome` variable"
   ]
  },
  {
   "cell_type": "code",
   "execution_count": 191,
   "metadata": {},
   "outputs": [
    {
     "name": "stdout",
     "output_type": "stream",
     "text": [
      "strong trend   0   1  All\n",
      "outcome                  \n",
      "F             39  39   78\n",
      "S             37  45   82\n",
      "All           76  84  160\n"
     ]
    }
   ],
   "source": [
    "div_class=pd.crosstab(contDF.iloc[:,outcome_ix], contDF['strong trend'],margins=True)\n",
    "print(div_class)"
   ]
  },
  {
   "cell_type": "markdown",
   "metadata": {},
   "source": [
    "It's is easier to visualize the relationship if we calculate the percentages:"
   ]
  },
  {
   "cell_type": "code",
   "execution_count": 474,
   "metadata": {},
   "outputs": [
    {
     "name": "stdout",
     "output_type": "stream",
     "text": [
      "strong trend           0           1         All\n",
      "ext_outcome                                     \n",
      "0              52.272727   43.010753   47.513812\n",
      "1              47.727273   56.989247   52.486188\n",
      "All           100.000000  100.000000  100.000000\n"
     ]
    }
   ],
   "source": [
    "propStrength=(div_class/div_class.loc[\"All\"])*100\n",
    "print(propStrength)"
   ]
  },
  {
   "cell_type": "markdown",
   "metadata": {
    "variables": {
     "'%.1f' % propStrength.iloc[0, 0]": "52.3",
     "'%.1f' % propStrength.iloc[0, 1]": "43.0",
     "'%.1f' % propStrength.iloc[1, 0]": "47.7",
     "'%.1f' % propStrength.iloc[1, 1]": "57.0"
    }
   },
   "source": [
    "* Conclusion <br>\n",
    "Within the trades trending strongly there are {{'%.1f' % propStrength.iloc[0, 1]}}% of failures and {{'%.1f' % propStrength.iloc[1, 1]}}% of successes<br>\n",
    "Within the trades not trending strongly there are {{'%.1f' % propStrength.iloc[0, 0]}}% of failures and {{'%.1f' % propStrength.iloc[1, 0]}}% of successes"
   ]
  },
  {
   "cell_type": "markdown",
   "metadata": {},
   "source": [
    "### bounce length\n",
    "This variable is a comma separated list of integers representing how wide (in number of candles) each of the RSI bounces is. This variable requires a little bit of preprocessing, and I will write a function that calculates the total length (in number of candles) by adding the length of each of the bounces"
   ]
  },
  {
   "cell_type": "code",
   "execution_count": 475,
   "metadata": {},
   "outputs": [],
   "source": [
    "def sum_lengths(x):\n",
    "    '''\n",
    "    Function to calculate the sum (in number of candles)\n",
    "    of all the RSI bounces\n",
    "    \n",
    "    Parameters\n",
    "    ----------\n",
    "    x = string with a comma separated list of numbers\n",
    "        i.e. 1,4,2,3\n",
    "        \n",
    "    Returns\n",
    "    -------\n",
    "    An integer representing the total bounce length\n",
    "    '''\n",
    "    \n",
    "    return sum([int(i) for i in x.split(\",\")])\n",
    "    "
   ]
  },
  {
   "cell_type": "markdown",
   "metadata": {},
   "source": [
    "And I will apply the `sum_lengths` function and put the results in a new column named `sum_bounces`"
   ]
  },
  {
   "cell_type": "code",
   "execution_count": 476,
   "metadata": {},
   "outputs": [],
   "source": [
    "contDF['sum_bounces']=contDF['bounce length'].astype(str).apply(sum_lengths)"
   ]
  },
  {
   "cell_type": "markdown",
   "metadata": {},
   "source": [
    "Now, I will plot the distribution of this new variable on each `outcome`category:"
   ]
  },
  {
   "cell_type": "code",
   "execution_count": 477,
   "metadata": {},
   "outputs": [
    {
     "data": {
      "image/png": "[encoded data removed]",
      "text/plain": [
       "<matplotlib.figure.Figure at 0x128454c50>"
      ]
     },
     "metadata": {},
     "output_type": "display_data"
    }
   ],
   "source": [
    "ax = sns.boxplot(x=outcome_lab, y=\"sum_bounces\", data=contDF)"
   ]
  },
  {
   "cell_type": "markdown",
   "metadata": {},
   "source": [
    "* Mean for each category"
   ]
  },
  {
   "cell_type": "code",
   "execution_count": 478,
   "metadata": {},
   "outputs": [
    {
     "data": {
      "text/html": [
       "<div>\n",
       "<style scoped>\n",
       "    .dataframe tbody tr th:only-of-type {\n",
       "        vertical-align: middle;\n",
       "    }\n",
       "\n",
       "    .dataframe tbody tr th {\n",
       "        vertical-align: top;\n",
       "    }\n",
       "\n",
       "    .dataframe thead th {\n",
       "        text-align: right;\n",
       "    }\n",
       "</style>\n",
       "<table border=\"1\" class=\"dataframe\">\n",
       "  <thead>\n",
       "    <tr style=\"text-align: right;\">\n",
       "      <th></th>\n",
       "      <th>sum_bounces</th>\n",
       "    </tr>\n",
       "    <tr>\n",
       "      <th>ext_outcome</th>\n",
       "      <th></th>\n",
       "    </tr>\n",
       "  </thead>\n",
       "  <tbody>\n",
       "    <tr>\n",
       "      <th>0</th>\n",
       "      <td>8.488372</td>\n",
       "    </tr>\n",
       "    <tr>\n",
       "      <th>1</th>\n",
       "      <td>6.968421</td>\n",
       "    </tr>\n",
       "  </tbody>\n",
       "</table>\n",
       "</div>"
      ],
      "text/plain": [
       "             sum_bounces\n",
       "ext_outcome             \n",
       "0               8.488372\n",
       "1               6.968421"
      ]
     },
     "execution_count": 478,
     "metadata": {},
     "output_type": "execute_result"
    }
   ],
   "source": [
    "contDF.groupby(outcome_lab).agg({'sum_bounces': 'mean'})"
   ]
  },
  {
   "cell_type": "markdown",
   "metadata": {},
   "source": [
    "* Median for each category"
   ]
  },
  {
   "cell_type": "code",
   "execution_count": 479,
   "metadata": {},
   "outputs": [
    {
     "data": {
      "text/html": [
       "<div>\n",
       "<style scoped>\n",
       "    .dataframe tbody tr th:only-of-type {\n",
       "        vertical-align: middle;\n",
       "    }\n",
       "\n",
       "    .dataframe tbody tr th {\n",
       "        vertical-align: top;\n",
       "    }\n",
       "\n",
       "    .dataframe thead th {\n",
       "        text-align: right;\n",
       "    }\n",
       "</style>\n",
       "<table border=\"1\" class=\"dataframe\">\n",
       "  <thead>\n",
       "    <tr style=\"text-align: right;\">\n",
       "      <th></th>\n",
       "      <th>sum_bounces</th>\n",
       "    </tr>\n",
       "    <tr>\n",
       "      <th>ext_outcome</th>\n",
       "      <th></th>\n",
       "    </tr>\n",
       "  </thead>\n",
       "  <tbody>\n",
       "    <tr>\n",
       "      <th>0</th>\n",
       "      <td>5</td>\n",
       "    </tr>\n",
       "    <tr>\n",
       "      <th>1</th>\n",
       "      <td>3</td>\n",
       "    </tr>\n",
       "  </tbody>\n",
       "</table>\n",
       "</div>"
      ],
      "text/plain": [
       "             sum_bounces\n",
       "ext_outcome             \n",
       "0                      5\n",
       "1                      3"
      ]
     },
     "execution_count": 479,
     "metadata": {},
     "output_type": "execute_result"
    }
   ],
   "source": [
    "contDF.groupby(outcome_lab).agg({'sum_bounces': 'median'})"
   ]
  },
  {
   "cell_type": "markdown",
   "metadata": {},
   "source": [
    "* Histogram"
   ]
  },
  {
   "cell_type": "code",
   "execution_count": 480,
   "metadata": {},
   "outputs": [],
   "source": [
    "succ=contDF.loc[contDF[outcome_lab]==1]['sum_bounces']\n",
    "fail=contDF.loc[contDF[outcome_lab]==0]['sum_bounces']"
   ]
  },
  {
   "cell_type": "code",
   "execution_count": 481,
   "metadata": {},
   "outputs": [
    {
     "data": {
      "text/plain": [
       "<matplotlib.text.Text at 0x1287699e8>"
      ]
     },
     "execution_count": 481,
     "metadata": {},
     "output_type": "execute_result"
    },
    {
     "data": {
      "image/png": "[encoded data removed]",
      "text/plain": [
       "<matplotlib.figure.Figure at 0x1283edf98>"
      ]
     },
     "metadata": {},
     "output_type": "display_data"
    }
   ],
   "source": [
    "plt.hist([fail,succ], bins = 15, normed=True, label=['0','1'])\n",
    "\n",
    "plt.legend()\n",
    "plt.xlabel('sum_bounces')\n",
    "plt.ylabel('Normalized Freq')\n",
    "plt.title('Hist for sum_bounces depending on the outcome')"
   ]
  },
  {
   "cell_type": "code",
   "execution_count": 482,
   "metadata": {},
   "outputs": [
    {
     "data": {
      "text/plain": [
       "<matplotlib.text.Text at 0x12896ada0>"
      ]
     },
     "execution_count": 482,
     "metadata": {},
     "output_type": "execute_result"
    },
    {
     "data": {
      "image/png": "[encoded data removed]",
      "text/plain": [
       "<matplotlib.figure.Figure at 0x128934b70>"
      ]
     },
     "metadata": {},
     "output_type": "display_data"
    }
   ],
   "source": [
    "plt.xlim(0,30)\n",
    "plt.hist([fail,succ], bins = 30, normed=True, label=['0','1'])\n",
    "\n",
    "plt.legend()\n",
    "plt.xlabel('sum_bounces (<=30)')\n",
    "plt.ylabel('Normalized Freq')\n",
    "plt.title('Hist for inn_bounce depending on the outcome')"
   ]
  },
  {
   "cell_type": "markdown",
   "metadata": {},
   "source": [
    "### bounce (pips)\n",
    "This quantitative variable represents the length from the horizontal line defined by IC until the highest point of the bounce (considering wicks also).  Let's start comparing the distribution of this variable for the different categories of the `outcome` variable"
   ]
  },
  {
   "cell_type": "code",
   "execution_count": 483,
   "metadata": {},
   "outputs": [
    {
     "data": {
      "image/png": "[encoded data removed]",
      "text/plain": [
       "<matplotlib.figure.Figure at 0x128739c50>"
      ]
     },
     "metadata": {},
     "output_type": "display_data"
    }
   ],
   "source": [
    "ax = sns.boxplot(x=outcome_lab, y=\"bounce (pips)\", data=contDF)"
   ]
  },
  {
   "cell_type": "markdown",
   "metadata": {},
   "source": [
    "* Mean for each category"
   ]
  },
  {
   "cell_type": "code",
   "execution_count": 484,
   "metadata": {},
   "outputs": [
    {
     "data": {
      "text/html": [
       "<div>\n",
       "<style scoped>\n",
       "    .dataframe tbody tr th:only-of-type {\n",
       "        vertical-align: middle;\n",
       "    }\n",
       "\n",
       "    .dataframe tbody tr th {\n",
       "        vertical-align: top;\n",
       "    }\n",
       "\n",
       "    .dataframe thead th {\n",
       "        text-align: right;\n",
       "    }\n",
       "</style>\n",
       "<table border=\"1\" class=\"dataframe\">\n",
       "  <thead>\n",
       "    <tr style=\"text-align: right;\">\n",
       "      <th></th>\n",
       "      <th>bounce (pips)</th>\n",
       "    </tr>\n",
       "    <tr>\n",
       "      <th>ext_outcome</th>\n",
       "      <th></th>\n",
       "    </tr>\n",
       "  </thead>\n",
       "  <tbody>\n",
       "    <tr>\n",
       "      <th>0</th>\n",
       "      <td>1881.686047</td>\n",
       "    </tr>\n",
       "    <tr>\n",
       "      <th>1</th>\n",
       "      <td>1665.863158</td>\n",
       "    </tr>\n",
       "  </tbody>\n",
       "</table>\n",
       "</div>"
      ],
      "text/plain": [
       "             bounce (pips)\n",
       "ext_outcome               \n",
       "0              1881.686047\n",
       "1              1665.863158"
      ]
     },
     "execution_count": 484,
     "metadata": {},
     "output_type": "execute_result"
    }
   ],
   "source": [
    "contDF.groupby(outcome_lab).agg({'bounce (pips)': 'mean'})"
   ]
  },
  {
   "cell_type": "markdown",
   "metadata": {},
   "source": [
    "* Median for each category"
   ]
  },
  {
   "cell_type": "code",
   "execution_count": 485,
   "metadata": {},
   "outputs": [
    {
     "data": {
      "text/html": [
       "<div>\n",
       "<style scoped>\n",
       "    .dataframe tbody tr th:only-of-type {\n",
       "        vertical-align: middle;\n",
       "    }\n",
       "\n",
       "    .dataframe tbody tr th {\n",
       "        vertical-align: top;\n",
       "    }\n",
       "\n",
       "    .dataframe thead th {\n",
       "        text-align: right;\n",
       "    }\n",
       "</style>\n",
       "<table border=\"1\" class=\"dataframe\">\n",
       "  <thead>\n",
       "    <tr style=\"text-align: right;\">\n",
       "      <th></th>\n",
       "      <th>bounce (pips)</th>\n",
       "    </tr>\n",
       "    <tr>\n",
       "      <th>ext_outcome</th>\n",
       "      <th></th>\n",
       "    </tr>\n",
       "  </thead>\n",
       "  <tbody>\n",
       "    <tr>\n",
       "      <th>0</th>\n",
       "      <td>1485</td>\n",
       "    </tr>\n",
       "    <tr>\n",
       "      <th>1</th>\n",
       "      <td>1385</td>\n",
       "    </tr>\n",
       "  </tbody>\n",
       "</table>\n",
       "</div>"
      ],
      "text/plain": [
       "             bounce (pips)\n",
       "ext_outcome               \n",
       "0                     1485\n",
       "1                     1385"
      ]
     },
     "execution_count": 485,
     "metadata": {},
     "output_type": "execute_result"
    }
   ],
   "source": [
    "contDF.groupby(outcome_lab).agg({'bounce (pips)': 'median'})"
   ]
  },
  {
   "cell_type": "markdown",
   "metadata": {},
   "source": [
    "* Histogram"
   ]
  },
  {
   "cell_type": "code",
   "execution_count": 486,
   "metadata": {},
   "outputs": [],
   "source": [
    "succ=contDF.loc[contDF[outcome_lab]==1]['bounce (pips)']\n",
    "fail=contDF.loc[contDF[outcome_lab]==0]['bounce (pips)']"
   ]
  },
  {
   "cell_type": "code",
   "execution_count": 487,
   "metadata": {},
   "outputs": [
    {
     "data": {
      "text/plain": [
       "<matplotlib.text.Text at 0x128caff60>"
      ]
     },
     "execution_count": 487,
     "metadata": {},
     "output_type": "execute_result"
    },
    {
     "data": {
      "image/png": "[encoded data removed]",
      "text/plain": [
       "<matplotlib.figure.Figure at 0x128c89a90>"
      ]
     },
     "metadata": {},
     "output_type": "display_data"
    }
   ],
   "source": [
    "plt.hist([fail,succ], bins = 15, normed=True, label=['0','1'])\n",
    "\n",
    "plt.legend()\n",
    "plt.xlabel('bounce (pips)')\n",
    "plt.ylabel('Normalized Freq')\n",
    "plt.title('Hist for bounce (pips) depending on the outcome')"
   ]
  },
  {
   "cell_type": "code",
   "execution_count": 488,
   "metadata": {},
   "outputs": [
    {
     "data": {
      "text/plain": [
       "<matplotlib.text.Text at 0x128eaaf98>"
      ]
     },
     "execution_count": 488,
     "metadata": {},
     "output_type": "execute_result"
    },
    {
     "data": {
      "image/png": "[encoded data removed]",
      "text/plain": [
       "<matplotlib.figure.Figure at 0x128c89588>"
      ]
     },
     "metadata": {},
     "output_type": "display_data"
    }
   ],
   "source": [
    "plt.xlim(0,4000)\n",
    "plt.hist([fail,succ], bins = 30, normed=True, label=['0','1'])\n",
    "\n",
    "plt.legend()\n",
    "plt.xlabel('bounce (pips) (<=4000)')\n",
    "plt.ylabel('Normalized Freq')\n",
    "plt.title('Hist for bounce (pips) depending on the outcome')"
   ]
  },
  {
   "cell_type": "markdown",
   "metadata": {},
   "source": [
    "### entry_aligned\n",
    "Is the entry aligned with previous bounces on the same trend. TRUE or 1 if it is, FALSE or 0 if it is not"
   ]
  },
  {
   "cell_type": "markdown",
   "metadata": {},
   "source": [
    "Let's compare the proportions for this variable between the 2 categories of the `outcome` variable"
   ]
  },
  {
   "cell_type": "code",
   "execution_count": 489,
   "metadata": {},
   "outputs": [
    {
     "name": "stdout",
     "output_type": "stream",
     "text": [
      "entry_aligned   0   1  All\n",
      "ext_outcome               \n",
      "0              66  20   86\n",
      "1              32  63   95\n",
      "All            98  83  181\n"
     ]
    }
   ],
   "source": [
    "div_class=pd.crosstab(contDF.iloc[:,outcome_ix], contDF['entry_aligned'],margins=True)\n",
    "print(div_class)"
   ]
  },
  {
   "cell_type": "markdown",
   "metadata": {},
   "source": [
    "It's is easier to visualize the relationship if we calculate the percentages:"
   ]
  },
  {
   "cell_type": "code",
   "execution_count": 490,
   "metadata": {},
   "outputs": [
    {
     "name": "stdout",
     "output_type": "stream",
     "text": [
      "entry_aligned           0           1         All\n",
      "ext_outcome                                      \n",
      "0               67.346939   24.096386   47.513812\n",
      "1               32.653061   75.903614   52.486188\n",
      "All            100.000000  100.000000  100.000000\n"
     ]
    }
   ],
   "source": [
    "propStrength=(div_class/div_class.loc[\"All\"])*100\n",
    "print(propStrength)"
   ]
  },
  {
   "cell_type": "markdown",
   "metadata": {},
   "source": [
    "* Conclusion <br>\n",
    "There is a clear relationship between succesful trades and `entry_aligned=1`"
   ]
  },
  {
   "cell_type": "markdown",
   "metadata": {
    "variables": {
     "'%.0f' % medianBounce.iloc[0,0]": "2",
     "'%.0f' % medianBounce.iloc[1,0]": "1",
     "'%.1f' % propCp1.iloc[0, 0]": "<p><strong>NameError</strong>: name &#39;propCp1&#39; is not defined</p>\n",
     "'%.1f' % propCp1.iloc[0, 1]": "<p><strong>NameError</strong>: name &#39;propCp1&#39; is not defined</p>\n",
     "'%.1f' % propCp1.iloc[1, 0]": "<p><strong>NameError</strong>: name &#39;propCp1&#39; is not defined</p>\n",
     "'%.1f' % propCp1.iloc[1, 1]": "<p><strong>NameError</strong>: name &#39;propCp1&#39; is not defined</p>\n"
    }
   },
   "source": [
    "## Conclusions\n",
    "\n",
    "This section collects all the conclusions derived from the first exploration of the data. It shows the variable that are relevant and irrelevant for the fate of the continuation trades.<br>\n",
    "* Relevant:<br>\n",
    "1) Candle +1 against trade <br>\n",
    "Within the trades with IC+1 against the trade there are {{'%.1f' % propCp1.iloc[0, 1]}}% of failures and {{'%.1f' % propCp1.iloc[1, 1]}}% of successes<br>\n",
    "Within the trades with IC+1 in favour of the trade there are {{'%.1f' % propCp1.iloc[0, 0]}}% of failures and {{'%.1f' % propCp1.iloc[1, 0]}}% of successes<br>\n",
    "2) RSI bounces <br>\n",
    "The median number of bounces for successful trades is {{'%.0f' % medianBounce.iloc[1,0]}}<br>\n",
    "The median number of bounces for failed trades is {{'%.0f' % medianBounce.iloc[0,0]}}<br>\n",
    "The ideal situation for having a S trade is to have either 1 or 2 bounces<br>\n",
    "3) No of candles <br>\n",
    "The median number of candles for S is 4 and for F is 5<br>\n",
    "5) Length of the trend <br>\n",
    "The median length of the trade for S trades (50) is lower than for F trades (66). Also, after inspecting the distribution, we see that the majority of S trades have a length ranging from [15-60]<br>\n",
    "6) inn_bounce <br>\n",
    "The signal is strong. The bounces are smaller for S trades.\n",
    "cutoff-> trades having >12<br>\n",
    "7) indecission <br>\n",
    "Signal is weak. The number of candles in indecission is smaller in S trades\n",
    "cutoff-> trades having >6<br>\n",
    "8) bounce (ratio) <br>\n",
    "Signal is weak. The ratio inn_bounce/indecission is slightly higher for `S` trades<br>\n",
    "8) Strong trend<br>\n",
    "Signal is strong. The trend is stronger in S trades<br>\n",
    "9) bounce length<br>\n",
    "Signal is strong. The median bounce length is smaller in S trades\n",
    "cutoff--> trades having a length > 12<br>\n",
    "10) bounce (pips)<br>\n",
    "Signal is strong. The median length in pips for the bounce is smaller in S trades\n",
    "* Irrelevant:<br>"
   ]
  },
  {
   "cell_type": "markdown",
   "metadata": {},
   "source": [
    "1) trend angle<br>\n",
    "No significative differences between S and F trades<br>\n",
    "2) last time <br>\n",
    "No significative differences between S and F trades<br>\n",
    "3) length in pips (norm) <br>\n",
    "No significative differences between S and F trades<br>\n",
    "4) previous swings <br>\n",
    "No significative difference between S and F trades in terms of the number of previous swings from the entry\n",
    "5) entry on RSI <br>\n",
    "No significative differences between S and F trades<br>"
   ]
  },
  {
   "cell_type": "markdown",
   "metadata": {},
   "source": [
    "## Calculating points\n",
    "This section will calculate a total score for each trade that will be used to predict the outcome.<br>"
   ]
  },
  {
   "cell_type": "markdown",
   "metadata": {},
   "source": [
    "### Splitting the data into training and test sets\n",
    "Let's split the data into training and test sets. We are going to use a test set size of 0.33"
   ]
  },
  {
   "cell_type": "code",
   "execution_count": 491,
   "metadata": {},
   "outputs": [],
   "source": [
    "train, test = train_test_split(contDF,\n",
    "                               test_size=0.33\n",
    "                              )"
   ]
  },
  {
   "cell_type": "markdown",
   "metadata": {},
   "source": [
    "First, let's create a function to calculate the points"
   ]
  },
  {
   "cell_type": "code",
   "execution_count": 492,
   "metadata": {},
   "outputs": [],
   "source": [
    "def calculate_points(row,attribs):\n",
    "    '''\n",
    "    Function to calculate the points for a particular trade\n",
    "    \n",
    "    Parameters\n",
    "    ----------\n",
    "    row : dataframe row\n",
    "    attribs : list of dicts\n",
    "              The dict has the following format:\n",
    "              {'attr' : 'RSI bounces',\n",
    "               'cutoff' : [(0,6), (7,10), (11,100000)],\n",
    "               'points' : [2,-2,-3]}\n",
    "               \n",
    "    Returns\n",
    "    -------\n",
    "    Returns a score for this trade\n",
    "    \n",
    "    '''\n",
    "    score=0\n",
    "    for a in attribs:\n",
    "        value=row[a['attr']]\n",
    "        cutoffs=a['cutoffs']\n",
    "        points=a['points']\n",
    "        if cutoffs =='bool':\n",
    "            if a['rel'] == 'is_true':\n",
    "                if value == True or value == 1:\n",
    "                    score+=points\n",
    "                if value == False  or value == 0:\n",
    "                    score+=-1*points\n",
    "        else:\n",
    "            if len(cutoffs)!= len(points):\n",
    "                raise Exception(\"Length of cutoffs is different to length of points\")\n",
    "            for i, j in zip(cutoffs, points):\n",
    "                if value>=i[0] and value<=i[1]:\n",
    "                    score+=j\n",
    "                \n",
    "    return score"
   ]
  },
  {
   "cell_type": "code",
   "execution_count": 493,
   "metadata": {},
   "outputs": [],
   "source": [
    "attbs=[]\n",
    "\n",
    "attbs.append({\n",
    "        'attr' : 'RSI bounces',\n",
    "        'cutoffs' : [(0,1), (2,2), (3,6),(7,100000)],\n",
    "        'points' : [2,1,-1,-2]\n",
    "        })\n",
    "attbs.append({\n",
    "        'attr' : 'entry on RSI',\n",
    "        'cutoffs' : 'bool',\n",
    "        'rel' : 'is_true',\n",
    "        'points' : 2\n",
    "        })\n",
    "attbs.append( {\n",
    "        'attr' : 'length of trend',\n",
    "        'cutoffs' : [(0,9), (10,45),(46,1000000)],\n",
    "        'points' : [-1,1,-1]\n",
    "        })\n",
    "attbs.append( {\n",
    "        'attr' : 'inn_bounce',\n",
    "        'cutoffs' : [(0,5),(6,9),(10,16),(17,1000000)],\n",
    "        'points' : [1,2,-1,-2]\n",
    "        })\n",
    "attbs.append( {\n",
    "        'attr' : 'strong trend',\n",
    "        'cutoffs' : 'bool',\n",
    "        'rel' : 'is_true',\n",
    "        'points' : 1\n",
    "        })\n",
    "attbs.append( {\n",
    "        'attr' : 'sum_bounces',\n",
    "        'cutoffs' : [(0,7),(8,10),(11,1000000)],\n",
    "        'points' : [2,-1,-2]\n",
    "        })\n",
    "attbs.append( {\n",
    "        'attr' : 'bounce (pips)',\n",
    "        'cutoffs' : [(0,2200),(2201,2900),(2901,1000000)],\n",
    "        'points' : [2,-2,-3]\n",
    "        })\n",
    "attbs.append( {\n",
    "        'attr' : 'entry_aligned',\n",
    "        'cutoffs' : 'bool',\n",
    "        'rel' : 'is_true',\n",
    "        'points' : 3\n",
    "        })"
   ]
  },
  {
   "cell_type": "markdown",
   "metadata": {},
   "source": [
    "Now, let's apply the calculate_points on each row for the training and the test set"
   ]
  },
  {
   "cell_type": "code",
   "execution_count": 494,
   "metadata": {},
   "outputs": [
    {
     "name": "stderr",
     "output_type": "stream",
     "text": [
      "/Users/ernesto/bin/anaconda/envs/python3/lib/python3.5/site-packages/ipykernel_launcher.py:1: SettingWithCopyWarning: \n",
      "A value is trying to be set on a copy of a slice from a DataFrame.\n",
      "Try using .loc[row_indexer,col_indexer] = value instead\n",
      "\n",
      "See the caveats in the documentation: http://pandas.pydata.org/pandas-docs/stable/indexing.html#indexing-view-versus-copy\n",
      "  \"\"\"Entry point for launching an IPython kernel.\n",
      "/Users/ernesto/bin/anaconda/envs/python3/lib/python3.5/site-packages/ipykernel_launcher.py:2: SettingWithCopyWarning: \n",
      "A value is trying to be set on a copy of a slice from a DataFrame.\n",
      "Try using .loc[row_indexer,col_indexer] = value instead\n",
      "\n",
      "See the caveats in the documentation: http://pandas.pydata.org/pandas-docs/stable/indexing.html#indexing-view-versus-copy\n",
      "  \n"
     ]
    }
   ],
   "source": [
    "train['score']=train.apply(calculate_points, axis=1, attribs=attbs)\n",
    "test['score']=test.apply(calculate_points, axis=1, attribs=attbs)"
   ]
  },
  {
   "cell_type": "markdown",
   "metadata": {},
   "source": [
    "### Calculating cutoff score\n",
    "* Mean"
   ]
  },
  {
   "cell_type": "code",
   "execution_count": 495,
   "metadata": {},
   "outputs": [
    {
     "data": {
      "text/html": [
       "<div>\n",
       "<style scoped>\n",
       "    .dataframe tbody tr th:only-of-type {\n",
       "        vertical-align: middle;\n",
       "    }\n",
       "\n",
       "    .dataframe tbody tr th {\n",
       "        vertical-align: top;\n",
       "    }\n",
       "\n",
       "    .dataframe thead th {\n",
       "        text-align: right;\n",
       "    }\n",
       "</style>\n",
       "<table border=\"1\" class=\"dataframe\">\n",
       "  <thead>\n",
       "    <tr style=\"text-align: right;\">\n",
       "      <th></th>\n",
       "      <th>score</th>\n",
       "    </tr>\n",
       "    <tr>\n",
       "      <th>ext_outcome</th>\n",
       "      <th></th>\n",
       "    </tr>\n",
       "  </thead>\n",
       "  <tbody>\n",
       "    <tr>\n",
       "      <th>0</th>\n",
       "      <td>-0.305085</td>\n",
       "    </tr>\n",
       "    <tr>\n",
       "      <th>1</th>\n",
       "      <td>4.032258</td>\n",
       "    </tr>\n",
       "  </tbody>\n",
       "</table>\n",
       "</div>"
      ],
      "text/plain": [
       "                score\n",
       "ext_outcome          \n",
       "0           -0.305085\n",
       "1            4.032258"
      ]
     },
     "execution_count": 495,
     "metadata": {},
     "output_type": "execute_result"
    }
   ],
   "source": [
    "train.groupby(outcome_lab).agg({'score': 'mean'})"
   ]
  },
  {
   "cell_type": "markdown",
   "metadata": {},
   "source": [
    "* Median"
   ]
  },
  {
   "cell_type": "code",
   "execution_count": 496,
   "metadata": {},
   "outputs": [
    {
     "data": {
      "text/html": [
       "<div>\n",
       "<style scoped>\n",
       "    .dataframe tbody tr th:only-of-type {\n",
       "        vertical-align: middle;\n",
       "    }\n",
       "\n",
       "    .dataframe tbody tr th {\n",
       "        vertical-align: top;\n",
       "    }\n",
       "\n",
       "    .dataframe thead th {\n",
       "        text-align: right;\n",
       "    }\n",
       "</style>\n",
       "<table border=\"1\" class=\"dataframe\">\n",
       "  <thead>\n",
       "    <tr style=\"text-align: right;\">\n",
       "      <th></th>\n",
       "      <th>score</th>\n",
       "    </tr>\n",
       "    <tr>\n",
       "      <th>ext_outcome</th>\n",
       "      <th></th>\n",
       "    </tr>\n",
       "  </thead>\n",
       "  <tbody>\n",
       "    <tr>\n",
       "      <th>0</th>\n",
       "      <td>-1.0</td>\n",
       "    </tr>\n",
       "    <tr>\n",
       "      <th>1</th>\n",
       "      <td>3.5</td>\n",
       "    </tr>\n",
       "  </tbody>\n",
       "</table>\n",
       "</div>"
      ],
      "text/plain": [
       "             score\n",
       "ext_outcome       \n",
       "0             -1.0\n",
       "1              3.5"
      ]
     },
     "execution_count": 496,
     "metadata": {},
     "output_type": "execute_result"
    }
   ],
   "source": [
    "train.groupby(outcome_lab).agg({'score': 'median'})"
   ]
  },
  {
   "cell_type": "markdown",
   "metadata": {},
   "source": [
    "* Histogram"
   ]
  },
  {
   "cell_type": "code",
   "execution_count": 497,
   "metadata": {},
   "outputs": [
    {
     "data": {
      "image/png": "[encoded data removed]",
      "text/plain": [
       "<matplotlib.figure.Figure at 0x12373e5f8>"
      ]
     },
     "metadata": {},
     "output_type": "display_data"
    }
   ],
   "source": [
    "axList=train['score'].hist(by=train[outcome_lab],figsize=(20,5),bins=8,normed=True)"
   ]
  },
  {
   "cell_type": "code",
   "execution_count": 498,
   "metadata": {},
   "outputs": [],
   "source": [
    "succ=train.loc[contDF[outcome_lab]==1]['score']\n",
    "fail=train.loc[contDF[outcome_lab]==0]['score']"
   ]
  },
  {
   "cell_type": "code",
   "execution_count": 499,
   "metadata": {},
   "outputs": [
    {
     "data": {
      "text/plain": [
       "<matplotlib.text.Text at 0x127c10e10>"
      ]
     },
     "execution_count": 499,
     "metadata": {},
     "output_type": "execute_result"
    },
    {
     "data": {
      "image/png": "[encoded data removed]",
      "text/plain": [
       "<matplotlib.figure.Figure at 0x128f24898>"
      ]
     },
     "metadata": {},
     "output_type": "display_data"
    }
   ],
   "source": [
    "plt.hist([fail,succ], bins = 15, normed=True, label=['0','1'])\n",
    "\n",
    "plt.legend()\n",
    "plt.xlabel('Score')\n",
    "plt.ylabel('Normalized Freq')\n",
    "plt.title('Outcome of trade depending on score')"
   ]
  },
  {
   "cell_type": "markdown",
   "metadata": {},
   "source": [
    "### Making predictions and performance evaluation\n",
    "We will use different cutoffs and make predictions using these using the test set"
   ]
  },
  {
   "cell_type": "markdown",
   "metadata": {},
   "source": [
    "Let's create a new dataframe only with the columns we are interested in:"
   ]
  },
  {
   "cell_type": "code",
   "execution_count": 500,
   "metadata": {},
   "outputs": [],
   "source": [
    "scoreDF=test.iloc[:,[outcome_ix,24]]"
   ]
  },
  {
   "cell_type": "code",
   "execution_count": 501,
   "metadata": {},
   "outputs": [],
   "source": [
    "def predictOutcome(row, cutoff):\n",
    "    pred=None\n",
    "    if row['score'] >cutoff:\n",
    "        pred=1\n",
    "    else:\n",
    "        pred=0\n",
    "    return pred"
   ]
  },
  {
   "cell_type": "code",
   "execution_count": 502,
   "metadata": {},
   "outputs": [
    {
     "name": "stderr",
     "output_type": "stream",
     "text": [
      "/Users/ernesto/bin/anaconda/envs/python3/lib/python3.5/site-packages/ipykernel_launcher.py:1: SettingWithCopyWarning: \n",
      "A value is trying to be set on a copy of a slice from a DataFrame.\n",
      "Try using .loc[row_indexer,col_indexer] = value instead\n",
      "\n",
      "See the caveats in the documentation: http://pandas.pydata.org/pandas-docs/stable/indexing.html#indexing-view-versus-copy\n",
      "  \"\"\"Entry point for launching an IPython kernel.\n"
     ]
    }
   ],
   "source": [
    "scoreDF['predict']=scoreDF.apply(predictOutcome,axis=1,cutoff=2)"
   ]
  },
  {
   "cell_type": "markdown",
   "metadata": {},
   "source": [
    "* Performance evaluation"
   ]
  },
  {
   "cell_type": "code",
   "execution_count": 503,
   "metadata": {},
   "outputs": [
    {
     "name": "stdout",
     "output_type": "stream",
     "text": [
      "TP:24\n",
      "TN:19\n",
      "FN:9\n",
      "FP:8\n"
     ]
    }
   ],
   "source": [
    "(tn, fp, fn, tp)=confusion_matrix(scoreDF['ext_outcome'], scoreDF['predict']).ravel()\n",
    "print(\"TP:\"+str(tp))\n",
    "print(\"TN:\"+str(tn))\n",
    "print(\"FN:\"+str(fn))\n",
    "print(\"FP:\"+str(fp))"
   ]
  },
  {
   "cell_type": "markdown",
   "metadata": {},
   "source": [
    "    * Precision"
   ]
  },
  {
   "cell_type": "code",
   "execution_count": 504,
   "metadata": {},
   "outputs": [
    {
     "name": "stdout",
     "output_type": "stream",
     "text": [
      "0.75\n"
     ]
    }
   ],
   "source": [
    "print(tp/(tp+fp))"
   ]
  },
  {
   "cell_type": "markdown",
   "metadata": {},
   "source": [
    "* Recall"
   ]
  },
  {
   "cell_type": "code",
   "execution_count": 295,
   "metadata": {},
   "outputs": [
    {
     "name": "stdout",
     "output_type": "stream",
     "text": [
      "0.793103448276\n"
     ]
    }
   ],
   "source": [
    "print(tp/(tp+fn))"
   ]
  },
  {
   "cell_type": "markdown",
   "metadata": {},
   "source": [
    "### Using a Binary classifier\n",
    "First, let's prepare the data by separating the data into labels (dependent variable, which is the variable we try to predict) and features (the independent variables that are going to be used for the model)"
   ]
  },
  {
   "cell_type": "code",
   "execution_count": 296,
   "metadata": {},
   "outputs": [],
   "source": [
    "labels=contDF['ext_outcome']\n",
    "features=contDF.drop([\"ext_outcome\",\"outcome\"],axis=1)"
   ]
  },
  {
   "cell_type": "markdown",
   "metadata": {},
   "source": [
    "We need also to remove some features that will be not accepted by the classifier or are not useful"
   ]
  },
  {
   "cell_type": "code",
   "execution_count": 297,
   "metadata": {},
   "outputs": [
    {
     "ename": "ValueError",
     "evalue": "labels ['target'] not contained in axis",
     "output_type": "error",
     "traceback": [
      "\u001b[0;31m---------------------------------------------------------------------------\u001b[0m",
      "\u001b[0;31mValueError\u001b[0m                                Traceback (most recent call last)",
      "\u001b[0;32m<ipython-input-297-fef6ea35eb8d>\u001b[0m in \u001b[0;36m<module>\u001b[0;34m()\u001b[0m\n\u001b[0;32m----> 1\u001b[0;31m \u001b[0mfeatures\u001b[0m\u001b[0;34m=\u001b[0m\u001b[0mfeatures\u001b[0m\u001b[0;34m.\u001b[0m\u001b[0mdrop\u001b[0m\u001b[0;34m(\u001b[0m\u001b[0;34m[\u001b[0m\u001b[0;34m\"id\"\u001b[0m\u001b[0;34m,\u001b[0m\u001b[0;34m\"start\"\u001b[0m\u001b[0;34m,\u001b[0m\u001b[0;34m\"timeframe\"\u001b[0m\u001b[0;34m,\u001b[0m\u001b[0;34m\"entry\"\u001b[0m\u001b[0;34m,\u001b[0m\u001b[0;34m\"retraced\"\u001b[0m\u001b[0;34m,\u001b[0m\u001b[0;34m\"last time\"\u001b[0m\u001b[0;34m,\u001b[0m\u001b[0;34m\"target\"\u001b[0m\u001b[0;34m,\u001b[0m\u001b[0;34m\"bounce length\"\u001b[0m\u001b[0;34m,\u001b[0m\u001b[0;34m\"space interswings\"\u001b[0m\u001b[0;34m]\u001b[0m\u001b[0;34m,\u001b[0m\u001b[0maxis\u001b[0m\u001b[0;34m=\u001b[0m\u001b[0;36m1\u001b[0m\u001b[0;34m)\u001b[0m\u001b[0;34m\u001b[0m\u001b[0m\n\u001b[0m",
      "\u001b[0;32m~/bin/anaconda/envs/python3/lib/python3.5/site-packages/pandas/core/generic.py\u001b[0m in \u001b[0;36mdrop\u001b[0;34m(self, labels, axis, index, columns, level, inplace, errors)\u001b[0m\n\u001b[1;32m   2528\u001b[0m         \u001b[0;32mfor\u001b[0m \u001b[0maxis\u001b[0m\u001b[0;34m,\u001b[0m \u001b[0mlabels\u001b[0m \u001b[0;32min\u001b[0m \u001b[0maxes\u001b[0m\u001b[0;34m.\u001b[0m\u001b[0mitems\u001b[0m\u001b[0;34m(\u001b[0m\u001b[0;34m)\u001b[0m\u001b[0;34m:\u001b[0m\u001b[0;34m\u001b[0m\u001b[0m\n\u001b[1;32m   2529\u001b[0m             \u001b[0;32mif\u001b[0m \u001b[0mlabels\u001b[0m \u001b[0;32mis\u001b[0m \u001b[0;32mnot\u001b[0m \u001b[0;32mNone\u001b[0m\u001b[0;34m:\u001b[0m\u001b[0;34m\u001b[0m\u001b[0m\n\u001b[0;32m-> 2530\u001b[0;31m                 \u001b[0mobj\u001b[0m \u001b[0;34m=\u001b[0m \u001b[0mobj\u001b[0m\u001b[0;34m.\u001b[0m\u001b[0m_drop_axis\u001b[0m\u001b[0;34m(\u001b[0m\u001b[0mlabels\u001b[0m\u001b[0;34m,\u001b[0m \u001b[0maxis\u001b[0m\u001b[0;34m,\u001b[0m \u001b[0mlevel\u001b[0m\u001b[0;34m=\u001b[0m\u001b[0mlevel\u001b[0m\u001b[0;34m,\u001b[0m \u001b[0merrors\u001b[0m\u001b[0;34m=\u001b[0m\u001b[0merrors\u001b[0m\u001b[0;34m)\u001b[0m\u001b[0;34m\u001b[0m\u001b[0m\n\u001b[0m\u001b[1;32m   2531\u001b[0m \u001b[0;34m\u001b[0m\u001b[0m\n\u001b[1;32m   2532\u001b[0m         \u001b[0;32mif\u001b[0m \u001b[0minplace\u001b[0m\u001b[0;34m:\u001b[0m\u001b[0;34m\u001b[0m\u001b[0m\n",
      "\u001b[0;32m~/bin/anaconda/envs/python3/lib/python3.5/site-packages/pandas/core/generic.py\u001b[0m in \u001b[0;36m_drop_axis\u001b[0;34m(self, labels, axis, level, errors)\u001b[0m\n\u001b[1;32m   2560\u001b[0m                 \u001b[0mnew_axis\u001b[0m \u001b[0;34m=\u001b[0m \u001b[0maxis\u001b[0m\u001b[0;34m.\u001b[0m\u001b[0mdrop\u001b[0m\u001b[0;34m(\u001b[0m\u001b[0mlabels\u001b[0m\u001b[0;34m,\u001b[0m \u001b[0mlevel\u001b[0m\u001b[0;34m=\u001b[0m\u001b[0mlevel\u001b[0m\u001b[0;34m,\u001b[0m \u001b[0merrors\u001b[0m\u001b[0;34m=\u001b[0m\u001b[0merrors\u001b[0m\u001b[0;34m)\u001b[0m\u001b[0;34m\u001b[0m\u001b[0m\n\u001b[1;32m   2561\u001b[0m             \u001b[0;32melse\u001b[0m\u001b[0;34m:\u001b[0m\u001b[0;34m\u001b[0m\u001b[0m\n\u001b[0;32m-> 2562\u001b[0;31m                 \u001b[0mnew_axis\u001b[0m \u001b[0;34m=\u001b[0m \u001b[0maxis\u001b[0m\u001b[0;34m.\u001b[0m\u001b[0mdrop\u001b[0m\u001b[0;34m(\u001b[0m\u001b[0mlabels\u001b[0m\u001b[0;34m,\u001b[0m \u001b[0merrors\u001b[0m\u001b[0;34m=\u001b[0m\u001b[0merrors\u001b[0m\u001b[0;34m)\u001b[0m\u001b[0;34m\u001b[0m\u001b[0m\n\u001b[0m\u001b[1;32m   2563\u001b[0m             \u001b[0mdropped\u001b[0m \u001b[0;34m=\u001b[0m \u001b[0mself\u001b[0m\u001b[0;34m.\u001b[0m\u001b[0mreindex\u001b[0m\u001b[0;34m(\u001b[0m\u001b[0;34m**\u001b[0m\u001b[0;34m{\u001b[0m\u001b[0maxis_name\u001b[0m\u001b[0;34m:\u001b[0m \u001b[0mnew_axis\u001b[0m\u001b[0;34m}\u001b[0m\u001b[0;34m)\u001b[0m\u001b[0;34m\u001b[0m\u001b[0m\n\u001b[1;32m   2564\u001b[0m             \u001b[0;32mtry\u001b[0m\u001b[0;34m:\u001b[0m\u001b[0;34m\u001b[0m\u001b[0m\n",
      "\u001b[0;32m~/bin/anaconda/envs/python3/lib/python3.5/site-packages/pandas/core/indexes/base.py\u001b[0m in \u001b[0;36mdrop\u001b[0;34m(self, labels, errors)\u001b[0m\n\u001b[1;32m   3739\u001b[0m             \u001b[0;32mif\u001b[0m \u001b[0merrors\u001b[0m \u001b[0;34m!=\u001b[0m \u001b[0;34m'ignore'\u001b[0m\u001b[0;34m:\u001b[0m\u001b[0;34m\u001b[0m\u001b[0m\n\u001b[1;32m   3740\u001b[0m                 raise ValueError('labels %s not contained in axis' %\n\u001b[0;32m-> 3741\u001b[0;31m                                  labels[mask])\n\u001b[0m\u001b[1;32m   3742\u001b[0m             \u001b[0mindexer\u001b[0m \u001b[0;34m=\u001b[0m \u001b[0mindexer\u001b[0m\u001b[0;34m[\u001b[0m\u001b[0;34m~\u001b[0m\u001b[0mmask\u001b[0m\u001b[0;34m]\u001b[0m\u001b[0;34m\u001b[0m\u001b[0m\n\u001b[1;32m   3743\u001b[0m         \u001b[0;32mreturn\u001b[0m \u001b[0mself\u001b[0m\u001b[0;34m.\u001b[0m\u001b[0mdelete\u001b[0m\u001b[0;34m(\u001b[0m\u001b[0mindexer\u001b[0m\u001b[0;34m)\u001b[0m\u001b[0;34m\u001b[0m\u001b[0m\n",
      "\u001b[0;31mValueError\u001b[0m: labels ['target'] not contained in axis"
     ]
    }
   ],
   "source": [
    "features=features.drop([\"id\",\"start\",\"timeframe\",\"entry\",\"retraced\",\"last time\",\"target\",\"bounce length\",\"space interswings\"],axis=1)"
   ]
  },
  {
   "cell_type": "markdown",
   "metadata": {},
   "source": [
    "Now, let's split our data into training and test sets. In this case, the test_size=0.33"
   ]
  },
  {
   "cell_type": "code",
   "execution_count": null,
   "metadata": {},
   "outputs": [],
   "source": [
    "train, test, train_labels, test_labels = train_test_split(features,\n",
    "                                                          labels,\n",
    "                                                          test_size=0.33,\n",
    "                                                          random_state=42)"
   ]
  },
  {
   "cell_type": "markdown",
   "metadata": {},
   "source": [
    "As the counts for each outcome category are unbalanced, I will oversample using SMOTE:"
   ]
  },
  {
   "cell_type": "code",
   "execution_count": null,
   "metadata": {},
   "outputs": [],
   "source": [
    "from imblearn.over_sampling import SMOTE\n",
    "\n",
    "train_resampled, trainlabels_resampled = SMOTE().fit_sample(train,train_labels)"
   ]
  },
  {
   "cell_type": "markdown",
   "metadata": {},
   "source": [
    "Let's check the balanced counts:"
   ]
  },
  {
   "cell_type": "code",
   "execution_count": null,
   "metadata": {},
   "outputs": [],
   "source": [
    "from collections import Counter\n",
    "\n",
    "print(sorted(Counter(trainlabels_resampled).items()))"
   ]
  },
  {
   "cell_type": "markdown",
   "metadata": {},
   "source": [
    "#### naive_bayes"
   ]
  },
  {
   "cell_type": "markdown",
   "metadata": {},
   "source": [
    "Building and Evaluating the Model for the non oversampled train dataset"
   ]
  },
  {
   "cell_type": "code",
   "execution_count": null,
   "metadata": {},
   "outputs": [],
   "source": [
    "from sklearn.naive_bayes import GaussianNB\n",
    "\n",
    "# Initialize our classifier\n",
    "gnb = GaussianNB()\n",
    "\n",
    "# Train our classifier\n",
    "model = gnb.fit(train, train_labels)"
   ]
  },
  {
   "cell_type": "code",
   "execution_count": null,
   "metadata": {},
   "outputs": [],
   "source": [
    "# Make predictions\n",
    "preds = gnb.predict(test)"
   ]
  },
  {
   "cell_type": "code",
   "execution_count": null,
   "metadata": {},
   "outputs": [],
   "source": [
    "from sklearn.metrics import accuracy_score\n",
    "\n",
    "# Evaluate accuracy\n",
    "print(accuracy_score(test_labels, preds))"
   ]
  },
  {
   "cell_type": "markdown",
   "metadata": {},
   "source": [
    "Now, with the oversampled train dataset"
   ]
  },
  {
   "cell_type": "code",
   "execution_count": null,
   "metadata": {},
   "outputs": [],
   "source": [
    "# Train our classifier\n",
    "model = gnb.fit(train_resampled,  trainlabels_resampled)\n",
    "\n",
    "# Make predictions\n",
    "preds = gnb.predict(test)\n",
    "\n",
    "# Evaluate accuracy\n",
    "print(accuracy_score(test_labels, preds))"
   ]
  },
  {
   "cell_type": "markdown",
   "metadata": {},
   "source": [
    "**Conclusion** It is slightly better using oversampling"
   ]
  },
  {
   "cell_type": "markdown",
   "metadata": {},
   "source": [
    "#### Using SGDClassifier\n",
    "First, let's use the non oversampled train dataset"
   ]
  },
  {
   "cell_type": "code",
   "execution_count": null,
   "metadata": {},
   "outputs": [],
   "source": [
    "from sklearn.linear_model import SGDClassifier\n",
    "\n",
    "sgd_clf = SGDClassifier()\n",
    "sgd=sgd_clf.fit(train,train_labels)"
   ]
  },
  {
   "cell_type": "code",
   "execution_count": null,
   "metadata": {},
   "outputs": [],
   "source": [
    "preds=sgd_clf.predict(test)"
   ]
  },
  {
   "cell_type": "code",
   "execution_count": null,
   "metadata": {},
   "outputs": [],
   "source": [
    "print(accuracy_score(test_labels, preds))"
   ]
  },
  {
   "cell_type": "markdown",
   "metadata": {},
   "source": [
    "Now, with the oversampled train dataset"
   ]
  },
  {
   "cell_type": "code",
   "execution_count": null,
   "metadata": {},
   "outputs": [],
   "source": [
    "sgd_clf = SGDClassifier()\n",
    "sgd=sgd_clf.fit(train_resampled,trainlabels_resampled)\n",
    "preds=sgd_clf.predict(test)\n",
    "print(accuracy_score(test_labels, preds))"
   ]
  },
  {
   "cell_type": "markdown",
   "metadata": {},
   "source": [
    "#### Using Logistic Regression  \n",
    "First, let's use the non oversampled train dataset"
   ]
  },
  {
   "cell_type": "code",
   "execution_count": null,
   "metadata": {},
   "outputs": [],
   "source": [
    "from sklearn.linear_model import LogisticRegression\n",
    "logisticRegr = LogisticRegression(verbose=1)"
   ]
  },
  {
   "cell_type": "markdown",
   "metadata": {},
   "source": [
    "Now, we train the model with the training set:"
   ]
  },
  {
   "cell_type": "code",
   "execution_count": null,
   "metadata": {},
   "outputs": [],
   "source": [
    "m=logisticRegr.fit(train, train_labels)"
   ]
  },
  {
   "cell_type": "markdown",
   "metadata": {},
   "source": [
    "Now, let's measue model performance\n",
    "First, we are going to make predictions using our new model and the test data"
   ]
  },
  {
   "cell_type": "code",
   "execution_count": null,
   "metadata": {},
   "outputs": [],
   "source": [
    "predictions = logisticRegr.predict(test)"
   ]
  },
  {
   "cell_type": "markdown",
   "metadata": {},
   "source": [
    "We can use the score function in order to calculate the mean accuracy on the test data and labels"
   ]
  },
  {
   "cell_type": "code",
   "execution_count": null,
   "metadata": {},
   "outputs": [],
   "source": [
    "score = logisticRegr.score(test, test_labels)\n",
    "print(score)"
   ]
  },
  {
   "cell_type": "markdown",
   "metadata": {},
   "source": [
    "In order to visualize the correctness of our predictions, we can also create a confusion matrix:"
   ]
  },
  {
   "cell_type": "code",
   "execution_count": null,
   "metadata": {},
   "outputs": [],
   "source": [
    "import matplotlib.pyplot as plt\n",
    "import seaborn as sns\n",
    "from sklearn import metrics\n",
    "\n",
    "cm = metrics.confusion_matrix(test_labels, predictions)\n",
    "print(cm)"
   ]
  },
  {
   "cell_type": "markdown",
   "metadata": {},
   "source": [
    "The matrix above can be embellished by using seaborn:"
   ]
  },
  {
   "cell_type": "code",
   "execution_count": null,
   "metadata": {},
   "outputs": [],
   "source": [
    "plt.figure(figsize=(9,9))\n",
    "sns.heatmap(cm, annot=True, fmt=\".0f\", linewidths=.5, square = True, cmap = 'Blues_r');\n",
    "plt.ylabel('Actual label');\n",
    "plt.xlabel('Predicted label');\n",
    "all_sample_title = 'Accuracy Score: {0}'.format(score)\n",
    "plt.title(all_sample_title, size = 15);"
   ]
  },
  {
   "cell_type": "markdown",
   "metadata": {},
   "source": [
    "Now, let's try with the oversampled train dataset"
   ]
  },
  {
   "cell_type": "code",
   "execution_count": null,
   "metadata": {},
   "outputs": [],
   "source": [
    "from sklearn.linear_model import LogisticRegression\n",
    "logisticRegr = LogisticRegression(verbose=1)"
   ]
  },
  {
   "cell_type": "markdown",
   "metadata": {},
   "source": [
    "Now, we train the model with the training set:"
   ]
  },
  {
   "cell_type": "code",
   "execution_count": null,
   "metadata": {},
   "outputs": [],
   "source": [
    "m=logisticRegr.fit(train_resampled,trainlabels_resampled)"
   ]
  },
  {
   "cell_type": "markdown",
   "metadata": {},
   "source": [
    "Now, let's measue model performance\n",
    "First, we are going to make predictions using our new model and the test data"
   ]
  },
  {
   "cell_type": "code",
   "execution_count": null,
   "metadata": {},
   "outputs": [],
   "source": [
    "predictions = logisticRegr.predict(test)"
   ]
  },
  {
   "cell_type": "markdown",
   "metadata": {},
   "source": [
    "We can use the score function in order to calculate the mean accuracy on the test data and labels"
   ]
  },
  {
   "cell_type": "code",
   "execution_count": null,
   "metadata": {},
   "outputs": [],
   "source": [
    "score = logisticRegr.score(test, test_labels)\n",
    "print(score)"
   ]
  },
  {
   "cell_type": "markdown",
   "metadata": {},
   "source": [
    "**Conclusion:** It is worst to oversample in terms of score"
   ]
  },
  {
   "cell_type": "markdown",
   "metadata": {},
   "source": [
    "* Examining the influence of each predictor on the outcome"
   ]
  },
  {
   "cell_type": "code",
   "execution_count": null,
   "metadata": {},
   "outputs": [],
   "source": [
    "stds=np.std(train, 0)\n",
    "\n",
    "print(stds.values*m.coef_)"
   ]
  },
  {
   "cell_type": "code",
   "execution_count": null,
   "metadata": {},
   "outputs": [],
   "source": [
    "keys=list(train.columns)\n",
    "values_10=list(stds.values*m.coef_)[0]*10\n",
    "\n",
    "coefficients=dict(zip(keys,values_10))\n",
    "print(coefficients)"
   ]
  },
  {
   "cell_type": "markdown",
   "metadata": {
    "variables": {
     "train.columns[0]": "<p><strong>NameError</strong>: name &#39;train&#39; is not defined</p>\n",
     "train.columns[10]": "<p><strong>NameError</strong>: name &#39;train&#39; is not defined</p>\n",
     "train.columns[11]": "<p><strong>NameError</strong>: name &#39;train&#39; is not defined</p>\n",
     "train.columns[12]": "<p><strong>NameError</strong>: name &#39;train&#39; is not defined</p>\n",
     "train.columns[13]": "<p><strong>NameError</strong>: name &#39;train&#39; is not defined</p>\n",
     "train.columns[14]": "<p><strong>NameError</strong>: name &#39;train&#39; is not defined</p>\n",
     "train.columns[1]": "<p><strong>NameError</strong>: name &#39;train&#39; is not defined</p>\n",
     "train.columns[2]": "<p><strong>NameError</strong>: name &#39;train&#39; is not defined</p>\n",
     "train.columns[4]": "<p><strong>NameError</strong>: name &#39;train&#39; is not defined</p>\n",
     "train.columns[5]": "<p><strong>NameError</strong>: name &#39;train&#39; is not defined</p>\n",
     "train.columns[7]": "<p><strong>NameError</strong>: name &#39;train&#39; is not defined</p>\n",
     "train.columns[8]": "<p><strong>NameError</strong>: name &#39;train&#39; is not defined</p>\n",
     "train.columns[9]": "<p><strong>NameError</strong>: name &#39;train&#39; is not defined</p>\n"
    }
   },
   "source": [
    "**Conclusions:**  \n",
    "* Relevant  \n",
    "{{train.columns[0]}} (negative)  \n",
    "{{train.columns[1]}} (negative)  \n",
    "{{train.columns[2]}} (positive)  \n",
    "{{train.columns[4]}} (negative)  \n",
    "{{train.columns[5]}} (positive)  \n",
    "{{train.columns[7]}} (positive)  \n",
    "{{train.columns[8]}} (negative)  \n",
    "{{train.columns[9]}} (negative)  \n",
    "{{train.columns[10]}} (positive)  \n",
    "{{train.columns[11]}} (negative)  \n",
    "{{train.columns[12]}} (positive)  \n",
    "{{train.columns[13]}} (negative)  \n",
    "{{train.columns[14]}} (positive)  "
   ]
  },
  {
   "cell_type": "markdown",
   "metadata": {
    "variables": {
     "train.columns[15]": "<p><strong>NameError</strong>: name &#39;train&#39; is not defined</p>\n",
     "train.columns[3]": "<p><strong>NameError</strong>: name &#39;train&#39; is not defined</p>\n",
     "train.columns[6]": "<p><strong>NameError</strong>: name &#39;train&#39; is not defined</p>\n"
    }
   },
   "source": [
    "* Irrelevant  \n",
    "{{train.columns[3]}}  \n",
    "{{train.columns[6]}}  \n",
    "{{train.columns[15]}}"
   ]
  },
  {
   "cell_type": "code",
   "execution_count": null,
   "metadata": {},
   "outputs": [],
   "source": []
  }
 ],
 "metadata": {
  "kernelspec": {
   "display_name": "Python 3",
   "language": "python",
   "name": "python3"
  },
  "language_info": {
   "codemirror_mode": {
    "name": "ipython",
    "version": 3
   },
   "file_extension": ".py",
   "mimetype": "text/x-python",
   "name": "python",
   "nbconvert_exporter": "python",
   "pygments_lexer": "ipython3",
   "version": "3.5.3"
  },
  "toc": {
   "nav_menu": {},
   "number_sections": true,
   "sideBar": true,
   "skip_h1_title": false,
   "title_cell": "Table of Contents",
   "title_sidebar": "Contents",
   "toc_cell": false,
   "toc_position": {},
   "toc_section_display": true,
   "toc_window_display": false
  }
 },
 "nbformat": 4,
 "nbformat_minor": 2
}
