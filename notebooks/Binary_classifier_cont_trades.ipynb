{
 "cells": [
  {
   "cell_type": "markdown",
   "metadata": {},
   "source": [
    "# Motivation\n",
    "This notebook analyses the spreadsheet containing information on the reversals. This spreadsheet collects different features on the trades in an attempt of creating a binary classifier, this classifier will learn from the data collected and will predict the value of the `outcome` variable, which can be success of failre\n",
    "\n",
    "# Data\n",
    "The data has been collected in an spreadsheet containing trades both simulated and real. And the different trades have been classified into three types: continuation, counter and ranging. The independent variables gathered for each trade type are:\n",
    "## Continuation trades\n",
    "* id\tid used in the screenshot folder to identify this record\n",
    "* start\tstart of this trade\n",
    "* timeframe\tin the format 2D,D,H12,H8\n",
    "* entry\tprice\n",
    "* outcome\tS=success;F=failure;B=breakeven\n",
    "* ext_outcome. S=success;F=failure;B=breakeven\n",
    "* RSI bounces. number of RSI bounces ocurring in the trend before entry\n",
    "* No of candles. How many candles before occurred the bounce, from the entry of trade to the first bounce (without counting the entry candle)\n",
    "* entry on RSI. Was the entry candle on RSI?\n",
    "* length of trend. lenght of the preceding trend in number of candles. The valley before the continuation is not included in the count\n",
    "* previous swings. Number of swings from the entry and counting the rebound before the entry (see screenshot below)\n",
    "* space interswings. Comma separated numbers representing the number of candles between swings from the most recent to the oldest\n",
    "* length in pips. From the beginning of the trade to the entry price in number of pips\n",
    "strong trend\tTRUE of the preceding trend was strong\n",
    "* trend angle. Measured with Oanda after hitting the auto scale button+lock scalde button and the end of the trend line is the IC+1 when it touches the entry price\n",
    "* bounce length. Length in number of candles for each of the bounces (in the order from the most recent to the oldest)\n",
    "* bounce pips. Length from the horizontal line defined by IC until the highest point of the bounce (considering wicks also)\n",
    "* inn_bounce. Number of candles of the inner bounce (see screenshots below)\n",
    "indecission\tNumber of candles the price stays in S/R, without considering the bounce and only considering the candles pre/post bounce\n",
    "* retraced.\tOnly relevant for outcome=F, how many pips from the S/L the trade reversed?. If n.a., then it means that the trade did not reversed last time that the price was below/above this level assuming that a possible counter could happen\n",
    "* entry_aligned. Is the entry aligned with previous bounces on the same trend. TRUE or 1 if it is, FALSE or 0 if it is not\n",
    "* trend_bounces. Discrete quantitative variable representing the number of bounces at the trend"
   ]
  },
  {
   "cell_type": "markdown",
   "metadata": {},
   "source": [
    "## Dependencies"
   ]
  },
  {
   "cell_type": "code",
   "execution_count": 1251,
   "metadata": {},
   "outputs": [],
   "source": [
    "import pandas as pd\n",
    "import numpy as np\n",
    "import pdb\n",
    "import re\n",
    "import math\n",
    "import seaborn as sns\n",
    "from pandas.plotting import scatter_matrix\n",
    "from sklearn.metrics import confusion_matrix,precision_score\n",
    "from sklearn.model_selection import train_test_split\n",
    "\n",
    "%matplotlib inline"
   ]
  },
  {
   "cell_type": "markdown",
   "metadata": {},
   "source": [
    "# Continuation trades\n",
    "\n",
    "First, let's create a function to read-in a .csv file containing the data andstore it in a dataframe:"
   ]
  },
  {
   "cell_type": "code",
   "execution_count": 1252,
   "metadata": {},
   "outputs": [
    {
     "data": {
      "text/plain": [
       "(447, 27)"
      ]
     },
     "execution_count": 1252,
     "metadata": {},
     "output_type": "execute_result"
    }
   ],
   "source": [
    "def read_tradedata(tradefile,sep,na_values):\n",
    "    '''\n",
    "    Parameters\n",
    "    ----------\n",
    "    tradefile : str, required\n",
    "                Path to file containing the trade data\n",
    "    sep : str, optionsl\n",
    "          Field separator used in the file. i.e. ',' (comma separated values), '\\t' (tab-separated values)\n",
    "    na_values : list, optional\n",
    "                Additional list of strings to recognize as NA/NaN. i.e. ['n.a.']\n",
    "    \n",
    "    Returns\n",
    "    -------\n",
    "    A Pandas dataframe\n",
    "    '''\n",
    "    DF=pd.read_csv(tradefile,sep=sep,na_values=na_values)\n",
    "    \n",
    "    return DF\n",
    "\n",
    "contDF=read_tradedata('/Users/ernesto/Downloads/Screenshot analysis - continuations.tsv',sep=\"\\t\",na_values=[\"n.a.\",\"n.a\"])\n",
    "\n",
    "contDF.shape"
   ]
  },
  {
   "cell_type": "markdown",
   "metadata": {},
   "source": [
    "And some information about contDF:"
   ]
  },
  {
   "cell_type": "code",
   "execution_count": 1253,
   "metadata": {},
   "outputs": [
    {
     "name": "stdout",
     "output_type": "stream",
     "text": [
      "<class 'pandas.core.frame.DataFrame'>\n",
      "RangeIndex: 447 entries, 0 to 446\n",
      "Data columns (total 27 columns):\n",
      "id                         447 non-null object\n",
      "start                      447 non-null object\n",
      "type                       447 non-null object\n",
      "timeframe                  447 non-null object\n",
      "entry                      447 non-null float64\n",
      "outcome                    447 non-null object\n",
      "RSI bounces                447 non-null int64\n",
      "bounce length              343 non-null object\n",
      "bounce (pips)              447 non-null int64\n",
      "inn_bounce                 447 non-null int64\n",
      "indecission                447 non-null int64\n",
      "entry on RSI               447 non-null bool\n",
      "length of trend (-1)       447 non-null int64\n",
      "length in pips (-1)        447 non-null int64\n",
      "last time                  447 non-null object\n",
      "entry_aligned              447 non-null int64\n",
      "retraced                   104 non-null float64\n",
      "Candle +1 against trade    447 non-null object\n",
      "trend_bounces              446 non-null float64\n",
      "is_sr_doubtful             101 non-null float64\n",
      "length of trend            250 non-null float64\n",
      "No of candles              115 non-null float64\n",
      "previous swings            145 non-null float64\n",
      "space interswings          145 non-null object\n",
      "trend angle                145 non-null float64\n",
      "stretches                  28 non-null object\n",
      "strong trend               288 non-null object\n",
      "dtypes: bool(1), float64(8), int64(7), object(11)\n",
      "memory usage: 91.3+ KB\n"
     ]
    }
   ],
   "source": [
    "contDF.info()"
   ]
  },
  {
   "cell_type": "markdown",
   "metadata": {},
   "source": [
    "* Conversion to right types<br>\n",
    "Let's convert now the `start` and `last time` variables to DateTime"
   ]
  },
  {
   "cell_type": "code",
   "execution_count": 1254,
   "metadata": {},
   "outputs": [],
   "source": [
    "contDF['start']= pd.to_datetime(contDF['start'])\n",
    "contDF['last time']= pd.to_datetime(contDF['last time'])"
   ]
  },
  {
   "cell_type": "markdown",
   "metadata": {},
   "source": [
    "## Cleaning the n.a. values\n",
    "The following predictors have n.a. values and the strategy I will follow will depend on each case:"
   ]
  },
  {
   "cell_type": "markdown",
   "metadata": {},
   "source": [
    "* No of candles (will replace the n.a. by 0)"
   ]
  },
  {
   "cell_type": "code",
   "execution_count": 1255,
   "metadata": {},
   "outputs": [],
   "source": [
    "if \"No of candles\" in contDF: contDF[\"No of candles\"].fillna(0, inplace=True)"
   ]
  },
  {
   "cell_type": "markdown",
   "metadata": {},
   "source": [
    "* Bounce length (will replace the n.a. by 0)"
   ]
  },
  {
   "cell_type": "code",
   "execution_count": 1256,
   "metadata": {},
   "outputs": [],
   "source": [
    "contDF[\"bounce length\"].fillna(0, inplace=True)"
   ]
  },
  {
   "cell_type": "markdown",
   "metadata": {},
   "source": [
    "* Length of trend (-1) (will replace the n.a. by 0)"
   ]
  },
  {
   "cell_type": "code",
   "execution_count": 1257,
   "metadata": {},
   "outputs": [],
   "source": [
    "contDF[\"length of trend (-1)\"].fillna(0, inplace=True)"
   ]
  },
  {
   "cell_type": "markdown",
   "metadata": {},
   "source": [
    "* Length in pips (-1) (will replace the n.a. by 0)"
   ]
  },
  {
   "cell_type": "code",
   "execution_count": 1258,
   "metadata": {},
   "outputs": [],
   "source": [
    "contDF[\"length in pips (-1)\"].fillna(0, inplace=True)"
   ]
  },
  {
   "cell_type": "markdown",
   "metadata": {},
   "source": [
    "## Normalize\n",
    "Let's normalize all variables dealing with pips."
   ]
  },
  {
   "cell_type": "code",
   "execution_count": 1259,
   "metadata": {},
   "outputs": [],
   "source": [
    "def normalize(x, variable_name):\n",
    "    '''\n",
    "    Function that will calculate the number of pips per hour\n",
    "    \n",
    "    Parameters\n",
    "    ----------\n",
    "    variable: str\n",
    "              Variable name that will be normalized\n",
    "    '''\n",
    "    \n",
    "    return round(x[variable_name]/48,2)\n",
    "    \n",
    "    if x['timeframe']=='2D':\n",
    "        return round(x[variable_name]/48,1)\n",
    "    elif x['timeframe']=='D':\n",
    "        return round(x[variable_name]/24,1)\n",
    "    elif x['timeframe']=='H12':\n",
    "        return round(x[variable_name]/12,1)\n",
    "    elif x['timeframe']=='H10':\n",
    "        return round(x[variable_name]/10,1)\n",
    "    elif x['timeframe']=='H8':\n",
    "        return round(x[variable_name]/8,1)\n",
    "    elif x['timeframe']=='H6':\n",
    "        return round(x[variable_name]/6,1)\n",
    "    else:\n",
    "        raise(\"Error\")\n",
    "    \n",
    "    "
   ]
  },
  {
   "cell_type": "code",
   "execution_count": 1260,
   "metadata": {},
   "outputs": [],
   "source": [
    "contDF['norm_length_pips']=contDF.apply(normalize,axis=1, variable_name='length in pips (-1)')\n",
    "contDF['norm_bounce_pips']=contDF.apply(normalize,axis=1, variable_name='bounce (pips)')\n",
    "contDF['norm_retraced']=contDF.apply(normalize,axis=1, variable_name='retraced')"
   ]
  },
  {
   "cell_type": "markdown",
   "metadata": {},
   "source": [
    "## Transforming"
   ]
  },
  {
   "cell_type": "code",
   "execution_count": 1261,
   "metadata": {},
   "outputs": [],
   "source": [
    "transl_dict={ \n",
    "        'S':1,\n",
    "        'F':0, \n",
    "        True:1, \n",
    "        False:0\n",
    "    }\n",
    "def digit_binary(x,transl_dict,name):\n",
    "    '''\n",
    "    This function will replace the values in categorical\n",
    "    binary variables by 1 and 0\n",
    "    \n",
    "    Parameters\n",
    "    ----------\n",
    "    transl_dict: dict\n",
    "                 Keys will be the old categorical names and Values\n",
    "                 will be 1 and 0. For example:\n",
    "                 transl_dict={ \n",
    "                            'S':1,\n",
    "                            'F':0, \n",
    "                            True:1, \n",
    "                            False:0\n",
    "                            }\n",
    "    name: str\n",
    "          Name of the column to modify\n",
    "        \n",
    "    Returns\n",
    "    -------\n",
    "    The new label for the categorical variable\n",
    "    '''\n",
    "    \n",
    "    return transl_dict[x[name]]\n",
    "\n",
    "if \"ext_outcome\" in contDF: contDF['ext_outcome']=contDF.apply(digit_binary,axis=1,transl_dict=transl_dict, name='ext_outcome')\n",
    "contDF['outcome']=contDF.apply(digit_binary,axis=1,transl_dict=transl_dict, name='outcome')\n",
    "contDF['entry on RSI']=contDF.apply(digit_binary,axis=1,transl_dict=transl_dict, name='entry on RSI')\n",
    "if \"strong_trend\" in contDF: contDF['strong trend']=contDF.apply(digit_binary,axis=1,transl_dict=transl_dict, name='strong trend')"
   ]
  },
  {
   "cell_type": "markdown",
   "metadata": {},
   "source": [
    "## Selecting the desired timeframe"
   ]
  },
  {
   "cell_type": "code",
   "execution_count": 1262,
   "metadata": {},
   "outputs": [],
   "source": [
    "contDF=contDF[contDF.timeframe == 'H6']"
   ]
  },
  {
   "cell_type": "markdown",
   "metadata": {},
   "source": [
    "## Checking the redudant trades\n",
    "Let's sort the trades by date to check if there are reduntant trades:"
   ]
  },
  {
   "cell_type": "markdown",
   "metadata": {},
   "source": [
    "sortedDF=contDF.sort_values(by='start')\n",
    "print(sortedDF)\n",
    "\n",
    "sortedDF.to_csv('/Users/ernesto/Downloads/sorted_contDF.tsv',sep='\\t')"
   ]
  },
  {
   "cell_type": "markdown",
   "metadata": {},
   "source": [
    "## Calculating extended outcome based on the norm_retraced variable\n",
    "Trades having retraced by less that a cut off number of pips will be considered Successful"
   ]
  },
  {
   "cell_type": "code",
   "execution_count": 1263,
   "metadata": {},
   "outputs": [],
   "source": [
    "def calc_extoutcome(row,cutoff=20):\n",
    "    if not math.isnan(row['norm_retraced']):\n",
    "        if row['norm_retraced']<=cutoff:\n",
    "            return int(1)\n",
    "        else:\n",
    "            return int(0)\n",
    "    else:\n",
    "        return int(row['outcome'])\n",
    "        \n",
    "            "
   ]
  },
  {
   "cell_type": "code",
   "execution_count": 1264,
   "metadata": {},
   "outputs": [],
   "source": [
    "contDF['ext_outcome']=contDF.apply(calc_extoutcome,axis=1)"
   ]
  },
  {
   "cell_type": "markdown",
   "metadata": {},
   "source": [
    "## Initial exploration of the data\n",
    "\n",
    "First things first, let's examine if we have a significant number of records per category of the dependent variable (outcome in this case), since it is really very important to have enough records to establish solid conclusions"
   ]
  },
  {
   "cell_type": "markdown",
   "metadata": {},
   "source": [
    "outcome_ix=5\n",
    "outcome_lab=\"outcome\"\n",
    "contDF.iloc[:,outcome_ix].value_counts()"
   ]
  },
  {
   "cell_type": "code",
   "execution_count": 1265,
   "metadata": {},
   "outputs": [
    {
     "data": {
      "text/plain": [
       "1    44\n",
       "0    14\n",
       "Name: ext_outcome, dtype: int64"
      ]
     },
     "execution_count": 1265,
     "metadata": {},
     "output_type": "execute_result"
    }
   ],
   "source": [
    "outcome_ix=30\n",
    "outcome_lab=\"ext_outcome\"\n",
    "contDF.iloc[:,outcome_ix].value_counts()"
   ]
  },
  {
   "cell_type": "markdown",
   "metadata": {},
   "source": [
    "### last time \n",
    "This datetime variable represents the last time the price was over/below the entry price level. The first to do is to create a new datetime variable representing the difference (in days) between the entry datetime (start column) and the last time datetime."
   ]
  },
  {
   "cell_type": "code",
   "execution_count": 1266,
   "metadata": {},
   "outputs": [],
   "source": [
    "contDF['diff']=(contDF['start']-contDF['last time'])"
   ]
  },
  {
   "cell_type": "code",
   "execution_count": 1267,
   "metadata": {},
   "outputs": [],
   "source": [
    "contDF['diff']=contDF['diff'].apply(lambda x: x.days)"
   ]
  },
  {
   "cell_type": "markdown",
   "metadata": {},
   "source": [
    "Now, let's examine the distribution of this newly created `diff` variable in the 2 `outcome` categories"
   ]
  },
  {
   "cell_type": "code",
   "execution_count": 1268,
   "metadata": {},
   "outputs": [
    {
     "data": {
      "image/png": "[encoded data removed]",
      "text/plain": [
       "<matplotlib.figure.Figure at 0x12a635128>"
      ]
     },
     "metadata": {},
     "output_type": "display_data"
    }
   ],
   "source": [
    "ax = sns.boxplot(x=outcome_lab, y=\"diff\", data=contDF)"
   ]
  },
  {
   "cell_type": "markdown",
   "metadata": {},
   "source": [
    "* Mean for each category"
   ]
  },
  {
   "cell_type": "code",
   "execution_count": 1269,
   "metadata": {},
   "outputs": [
    {
     "data": {
      "text/html": [
       "<div>\n",
       "<style scoped>\n",
       "    .dataframe tbody tr th:only-of-type {\n",
       "        vertical-align: middle;\n",
       "    }\n",
       "\n",
       "    .dataframe tbody tr th {\n",
       "        vertical-align: top;\n",
       "    }\n",
       "\n",
       "    .dataframe thead th {\n",
       "        text-align: right;\n",
       "    }\n",
       "</style>\n",
       "<table border=\"1\" class=\"dataframe\">\n",
       "  <thead>\n",
       "    <tr style=\"text-align: right;\">\n",
       "      <th></th>\n",
       "      <th>diff</th>\n",
       "    </tr>\n",
       "    <tr>\n",
       "      <th>ext_outcome</th>\n",
       "      <th></th>\n",
       "    </tr>\n",
       "  </thead>\n",
       "  <tbody>\n",
       "    <tr>\n",
       "      <th>0</th>\n",
       "      <td>234.285714</td>\n",
       "    </tr>\n",
       "    <tr>\n",
       "      <th>1</th>\n",
       "      <td>323.863636</td>\n",
       "    </tr>\n",
       "  </tbody>\n",
       "</table>\n",
       "</div>"
      ],
      "text/plain": [
       "                   diff\n",
       "ext_outcome            \n",
       "0            234.285714\n",
       "1            323.863636"
      ]
     },
     "execution_count": 1269,
     "metadata": {},
     "output_type": "execute_result"
    }
   ],
   "source": [
    "contDF.groupby(outcome_lab).agg({'diff': 'mean'})"
   ]
  },
  {
   "cell_type": "markdown",
   "metadata": {},
   "source": [
    "* Median for each category"
   ]
  },
  {
   "cell_type": "code",
   "execution_count": 1270,
   "metadata": {},
   "outputs": [
    {
     "data": {
      "text/html": [
       "<div>\n",
       "<style scoped>\n",
       "    .dataframe tbody tr th:only-of-type {\n",
       "        vertical-align: middle;\n",
       "    }\n",
       "\n",
       "    .dataframe tbody tr th {\n",
       "        vertical-align: top;\n",
       "    }\n",
       "\n",
       "    .dataframe thead th {\n",
       "        text-align: right;\n",
       "    }\n",
       "</style>\n",
       "<table border=\"1\" class=\"dataframe\">\n",
       "  <thead>\n",
       "    <tr style=\"text-align: right;\">\n",
       "      <th></th>\n",
       "      <th>diff</th>\n",
       "    </tr>\n",
       "    <tr>\n",
       "      <th>ext_outcome</th>\n",
       "      <th></th>\n",
       "    </tr>\n",
       "  </thead>\n",
       "  <tbody>\n",
       "    <tr>\n",
       "      <th>0</th>\n",
       "      <td>239</td>\n",
       "    </tr>\n",
       "    <tr>\n",
       "      <th>1</th>\n",
       "      <td>306</td>\n",
       "    </tr>\n",
       "  </tbody>\n",
       "</table>\n",
       "</div>"
      ],
      "text/plain": [
       "             diff\n",
       "ext_outcome      \n",
       "0             239\n",
       "1             306"
      ]
     },
     "execution_count": 1270,
     "metadata": {},
     "output_type": "execute_result"
    }
   ],
   "source": [
    "contDF.groupby(outcome_lab).agg({'diff': 'median'})"
   ]
  },
  {
   "cell_type": "markdown",
   "metadata": {},
   "source": [
    "* Histogram"
   ]
  },
  {
   "cell_type": "code",
   "execution_count": 1271,
   "metadata": {},
   "outputs": [],
   "source": [
    "import matplotlib.pyplot as plt\n",
    "\n",
    "succ=contDF.loc[contDF[outcome_lab]==1]['diff']\n",
    "fail=contDF.loc[contDF[outcome_lab]==0]['diff']"
   ]
  },
  {
   "cell_type": "code",
   "execution_count": 1272,
   "metadata": {},
   "outputs": [
    {
     "data": {
      "text/plain": [
       "<matplotlib.text.Text at 0x12a372c18>"
      ]
     },
     "execution_count": 1272,
     "metadata": {},
     "output_type": "execute_result"
    },
    {
     "data": {
      "image/png": "[encoded data removed]",
      "text/plain": [
       "<matplotlib.figure.Figure at 0x12a391ba8>"
      ]
     },
     "metadata": {},
     "output_type": "display_data"
    }
   ],
   "source": [
    "plt.hist([fail,succ], bins = 10, normed=True, label=['0','1'])\n",
    "\n",
    "plt.legend()\n",
    "plt.xlabel('Diff')\n",
    "plt.ylabel('Normalized Freq')\n",
    "plt.title('Hist for Last time on the outcome')"
   ]
  },
  {
   "cell_type": "code",
   "execution_count": 1273,
   "metadata": {},
   "outputs": [
    {
     "data": {
      "text/plain": [
       "<matplotlib.text.Text at 0x129da97b8>"
      ]
     },
     "execution_count": 1273,
     "metadata": {},
     "output_type": "execute_result"
    },
    {
     "data": {
      "image/png": "[encoded data removed]",
      "text/plain": [
       "<matplotlib.figure.Figure at 0x12a1826a0>"
      ]
     },
     "metadata": {},
     "output_type": "display_data"
    }
   ],
   "source": [
    "plt.xlim(0,1000)\n",
    "\n",
    "plt.hist([fail,succ], bins = 15, normed=True, label=['0','1'])\n",
    "\n",
    "plt.legend()\n",
    "plt.xlabel('Diff')\n",
    "plt.ylabel('Normalized Freq')\n",
    "plt.title('Hist for Last time on the outcome')"
   ]
  },
  {
   "cell_type": "markdown",
   "metadata": {},
   "source": [
    "###  RSI bounces\n",
    "Let's examine if there is a correlation between the number of bounces and the outcome of the trade"
   ]
  },
  {
   "cell_type": "markdown",
   "metadata": {},
   "source": [
    "As an initial exploration I will create a boxplot displaying the data"
   ]
  },
  {
   "cell_type": "code",
   "execution_count": 1274,
   "metadata": {},
   "outputs": [
    {
     "data": {
      "image/png": "[encoded data removed]",
      "text/plain": [
       "<matplotlib.figure.Figure at 0x109fb9e80>"
      ]
     },
     "metadata": {},
     "output_type": "display_data"
    }
   ],
   "source": [
    "ax = sns.boxplot(x=outcome_lab, y=\"RSI bounces\", data=contDF)"
   ]
  },
  {
   "cell_type": "markdown",
   "metadata": {},
   "source": [
    "* Mean for each category"
   ]
  },
  {
   "cell_type": "code",
   "execution_count": 1275,
   "metadata": {},
   "outputs": [
    {
     "data": {
      "text/html": [
       "<div>\n",
       "<style scoped>\n",
       "    .dataframe tbody tr th:only-of-type {\n",
       "        vertical-align: middle;\n",
       "    }\n",
       "\n",
       "    .dataframe tbody tr th {\n",
       "        vertical-align: top;\n",
       "    }\n",
       "\n",
       "    .dataframe thead th {\n",
       "        text-align: right;\n",
       "    }\n",
       "</style>\n",
       "<table border=\"1\" class=\"dataframe\">\n",
       "  <thead>\n",
       "    <tr style=\"text-align: right;\">\n",
       "      <th></th>\n",
       "      <th>RSI bounces</th>\n",
       "    </tr>\n",
       "    <tr>\n",
       "      <th>ext_outcome</th>\n",
       "      <th></th>\n",
       "    </tr>\n",
       "  </thead>\n",
       "  <tbody>\n",
       "    <tr>\n",
       "      <th>0</th>\n",
       "      <td>1.714286</td>\n",
       "    </tr>\n",
       "    <tr>\n",
       "      <th>1</th>\n",
       "      <td>2.022727</td>\n",
       "    </tr>\n",
       "  </tbody>\n",
       "</table>\n",
       "</div>"
      ],
      "text/plain": [
       "             RSI bounces\n",
       "ext_outcome             \n",
       "0               1.714286\n",
       "1               2.022727"
      ]
     },
     "execution_count": 1275,
     "metadata": {},
     "output_type": "execute_result"
    }
   ],
   "source": [
    "contDF.groupby(outcome_lab).agg({'RSI bounces': 'mean'})"
   ]
  },
  {
   "cell_type": "markdown",
   "metadata": {},
   "source": [
    "* Median for each category"
   ]
  },
  {
   "cell_type": "code",
   "execution_count": 1276,
   "metadata": {},
   "outputs": [
    {
     "name": "stdout",
     "output_type": "stream",
     "text": [
      "             RSI bounces\n",
      "ext_outcome             \n",
      "0                    1.0\n",
      "1                    1.5\n"
     ]
    }
   ],
   "source": [
    "medianBounce=contDF.groupby(outcome_lab).agg({'RSI bounces': 'median'})\n",
    "print(medianBounce)"
   ]
  },
  {
   "cell_type": "markdown",
   "metadata": {},
   "source": [
    "* Distribution of the number of bounces<br>\n",
    "For this particular task I will create a count plot in order to plot the RSI bounces for both the successful and the failed trades"
   ]
  },
  {
   "cell_type": "code",
   "execution_count": 1277,
   "metadata": {},
   "outputs": [
    {
     "data": {
      "image/png": "[encoded data removed]",
      "text/plain": [
       "<matplotlib.figure.Figure at 0x12af1c908>"
      ]
     },
     "metadata": {},
     "output_type": "display_data"
    }
   ],
   "source": [
    "ax = sns.countplot(x=\"RSI bounces\",hue=outcome_lab, data=contDF)"
   ]
  },
  {
   "cell_type": "markdown",
   "metadata": {},
   "source": [
    "Now, let's calculate the normalized number of bounces, as the 2 categories of the outcome variables are imbalanced"
   ]
  },
  {
   "cell_type": "code",
   "execution_count": 1278,
   "metadata": {},
   "outputs": [
    {
     "data": {
      "image/png": "[encoded data removed]",
      "text/plain": [
       "<matplotlib.figure.Figure at 0x123ed0a58>"
      ]
     },
     "metadata": {},
     "output_type": "display_data"
    }
   ],
   "source": [
    "contDF_counts = (contDF.groupby([outcome_lab])['RSI bounces']\n",
    "                  .value_counts(normalize=True)\n",
    "                  .rename('percentage')\n",
    "                  .mul(100)\n",
    "                  .reset_index()\n",
    "                  .sort_values('RSI bounces'))\n",
    "\n",
    "p = sns.barplot(x=\"RSI bounces\", y=\"percentage\", hue=outcome_lab, data=contDF_counts)"
   ]
  },
  {
   "cell_type": "markdown",
   "metadata": {},
   "source": [
    "* Histogram"
   ]
  },
  {
   "cell_type": "code",
   "execution_count": 1279,
   "metadata": {},
   "outputs": [],
   "source": [
    "import matplotlib.pyplot as plt\n",
    "\n",
    "succ=contDF.loc[contDF[outcome_lab]==1]['RSI bounces']\n",
    "fail=contDF.loc[contDF[outcome_lab]==0]['RSI bounces']"
   ]
  },
  {
   "cell_type": "code",
   "execution_count": 1280,
   "metadata": {},
   "outputs": [
    {
     "data": {
      "text/plain": [
       "<matplotlib.text.Text at 0x1283352e8>"
      ]
     },
     "execution_count": 1280,
     "metadata": {},
     "output_type": "execute_result"
    },
    {
     "data": {
      "image/png": "[encoded data removed]",
      "text/plain": [
       "<matplotlib.figure.Figure at 0x127d5eba8>"
      ]
     },
     "metadata": {},
     "output_type": "display_data"
    }
   ],
   "source": [
    "plt.hist([fail,succ], bins = 10, normed=True, label=['0','1'])\n",
    "\n",
    "plt.legend()\n",
    "plt.xlabel('RSI bounces')\n",
    "plt.ylabel('Normalized Freq')\n",
    "plt.title('Hist for RSI bounces on the outcome')"
   ]
  },
  {
   "cell_type": "markdown",
   "metadata": {},
   "source": [
    "* Conclusion<br>\n",
    "The ideal situation for having a S trade is to have either 1 or 2 bounces"
   ]
  },
  {
   "cell_type": "markdown",
   "metadata": {},
   "source": [
    "### No of candles\n",
    "This variable represents the number of candles since the beginning of the trade until the first RSI bounce. I am going compare the distribution of this variable depending on the `outcome` variable.<br>"
   ]
  },
  {
   "cell_type": "markdown",
   "metadata": {},
   "source": [
    "As an initial exploration I will create a boxplot displaying the data:"
   ]
  },
  {
   "cell_type": "code",
   "execution_count": 1281,
   "metadata": {},
   "outputs": [
    {
     "data": {
      "image/png": "[encoded data removed]",
      "text/plain": [
       "<matplotlib.figure.Figure at 0x129ba54a8>"
      ]
     },
     "metadata": {},
     "output_type": "display_data"
    }
   ],
   "source": [
    "if \"No of candles\" in contDF: ax = sns.boxplot(x=outcome_lab, y=\"No of candles\", data=contDF)"
   ]
  },
  {
   "cell_type": "markdown",
   "metadata": {},
   "source": [
    "* Mean for each category"
   ]
  },
  {
   "cell_type": "code",
   "execution_count": 1282,
   "metadata": {},
   "outputs": [],
   "source": [
    "if \"No of candles\" in contDF: contDF.groupby(outcome_lab).agg({'No of candles': 'mean'})"
   ]
  },
  {
   "cell_type": "markdown",
   "metadata": {},
   "source": [
    "* Median for each category"
   ]
  },
  {
   "cell_type": "code",
   "execution_count": 1283,
   "metadata": {},
   "outputs": [],
   "source": [
    "if \"No of candles\" in contDF: contDF.groupby(outcome_lab).agg({'No of candles': 'median'})"
   ]
  },
  {
   "cell_type": "markdown",
   "metadata": {},
   "source": [
    "Let's analyze the distribution with a histogram"
   ]
  },
  {
   "cell_type": "code",
   "execution_count": 1284,
   "metadata": {},
   "outputs": [],
   "source": [
    "if \"No of candles\" in contDF: succ=contDF.loc[contDF[outcome_lab]==1]['No of candles']\n",
    "if \"No of candles\" in contDF: fail=contDF.loc[contDF[outcome_lab]==0]['No of candles']"
   ]
  },
  {
   "cell_type": "code",
   "execution_count": 1285,
   "metadata": {},
   "outputs": [
    {
     "data": {
      "image/png": "[encoded data removed]",
      "text/plain": [
       "<matplotlib.figure.Figure at 0x12331a8d0>"
      ]
     },
     "metadata": {},
     "output_type": "display_data"
    }
   ],
   "source": [
    "if \"No of candles\" in contDF: plt.hist([fail,succ], bins = 10, normed=True, label=['0','1'])\n",
    "\n",
    "if \"No of candles\" in contDF: plt.legend()\n",
    "if \"No of candles\" in contDF: plt.xlabel('No of candles')\n",
    "if \"No of candles\" in contDF: plt.ylabel('Normalized Freq')\n",
    "if \"No of candles\" in contDF: plt.title('Hist for No of candles on the outcome')"
   ]
  },
  {
   "cell_type": "markdown",
   "metadata": {},
   "source": [
    "This distribution is right skewed, let's cap the X axis values:"
   ]
  },
  {
   "cell_type": "code",
   "execution_count": 1286,
   "metadata": {},
   "outputs": [
    {
     "data": {
      "image/png": "[encoded data removed]",
      "text/plain": [
       "<matplotlib.figure.Figure at 0x12331a780>"
      ]
     },
     "metadata": {},
     "output_type": "display_data"
    }
   ],
   "source": [
    "if \"No of candles\" in contDF: plt.xlim(0,50)\n",
    "if \"No of candles\" in contDF: plt.hist([fail,succ], bins = 20, normed=True, label=['0','1'])\n",
    "\n",
    "if \"No of candles\" in contDF: plt.legend()\n",
    "if \"No of candles\" in contDF: plt.xlabel('No of candles (<=50)')\n",
    "if \"No of candles\" in contDF: plt.ylabel('Normalized Freq')\n",
    "if \"No of candles\" in contDF: plt.title('Hist for No of candles on the outcome')"
   ]
  },
  {
   "cell_type": "markdown",
   "metadata": {},
   "source": [
    "### entry on RSI\n",
    "This boolean variable will be True if the entry of the trade is in oversold/overbought RSI\n",
    "Firs, let's see the counts for each category of the variable"
   ]
  },
  {
   "cell_type": "code",
   "execution_count": 1287,
   "metadata": {},
   "outputs": [
    {
     "data": {
      "text/plain": [
       "0    38\n",
       "1    20\n",
       "Name: entry on RSI, dtype: int64"
      ]
     },
     "execution_count": 1287,
     "metadata": {},
     "output_type": "execute_result"
    }
   ],
   "source": [
    "contDF['entry on RSI'].value_counts()"
   ]
  },
  {
   "cell_type": "markdown",
   "metadata": {},
   "source": [
    "Let's compare the proportions for this variable between the 2 categories of the `outcome` variable"
   ]
  },
  {
   "cell_type": "code",
   "execution_count": 1288,
   "metadata": {},
   "outputs": [
    {
     "name": "stdout",
     "output_type": "stream",
     "text": [
      "entry on RSI   0   1  All\n",
      "ext_outcome              \n",
      "0             13   1   14\n",
      "1             25  19   44\n",
      "All           38  20   58\n"
     ]
    }
   ],
   "source": [
    "div_class=pd.crosstab(contDF.iloc[:,outcome_ix], contDF['entry on RSI'],margins=True)\n",
    "print(div_class)"
   ]
  },
  {
   "cell_type": "markdown",
   "metadata": {},
   "source": [
    "It's is easier to visualize the relationship if we calculate the percentages:"
   ]
  },
  {
   "cell_type": "code",
   "execution_count": 1289,
   "metadata": {},
   "outputs": [
    {
     "name": "stdout",
     "output_type": "stream",
     "text": [
      "entry on RSI           0      1         All\n",
      "ext_outcome                                \n",
      "0              34.210526    5.0   24.137931\n",
      "1              65.789474   95.0   75.862069\n",
      "All           100.000000  100.0  100.000000\n"
     ]
    }
   ],
   "source": [
    "prop=(div_class/div_class.loc[\"All\"])*100\n",
    "print(prop)"
   ]
  },
  {
   "cell_type": "markdown",
   "metadata": {},
   "source": [
    "### length of trend (-1)\n",
    "This quantitative discrete variable measures the length of the trade measured in term of the number of candles. Let's start comparing the distribution of this variable for the different categories of the `outcome` variable"
   ]
  },
  {
   "cell_type": "code",
   "execution_count": 1290,
   "metadata": {},
   "outputs": [
    {
     "data": {
      "image/png": "[encoded data removed]",
      "text/plain": [
       "<matplotlib.figure.Figure at 0x123714f60>"
      ]
     },
     "metadata": {},
     "output_type": "display_data"
    }
   ],
   "source": [
    "ax = sns.boxplot(x=outcome_lab, y=\"length of trend (-1)\", data=contDF)"
   ]
  },
  {
   "cell_type": "markdown",
   "metadata": {},
   "source": [
    "Let's analyze the distribution with a histogram"
   ]
  },
  {
   "cell_type": "code",
   "execution_count": 1291,
   "metadata": {},
   "outputs": [],
   "source": [
    "succ=contDF.loc[contDF[outcome_lab]==1]['length of trend (-1)']\n",
    "fail=contDF.loc[contDF[outcome_lab]==0]['length of trend (-1)']"
   ]
  },
  {
   "cell_type": "code",
   "execution_count": 1292,
   "metadata": {},
   "outputs": [
    {
     "data": {
      "text/plain": [
       "<matplotlib.text.Text at 0x12525fe10>"
      ]
     },
     "execution_count": 1292,
     "metadata": {},
     "output_type": "execute_result"
    },
    {
     "data": {
      "image/png": "[encoded data removed]",
      "text/plain": [
       "<matplotlib.figure.Figure at 0x1256381d0>"
      ]
     },
     "metadata": {},
     "output_type": "display_data"
    }
   ],
   "source": [
    "plt.hist([fail,succ], bins = 10, normed=True, label=['0','1'])\n",
    "\n",
    "plt.legend()\n",
    "plt.xlabel('length of trend')\n",
    "plt.ylabel('Normalized Freq')\n",
    "plt.title('Hist for Length of the trend depending on the outcome')"
   ]
  },
  {
   "cell_type": "markdown",
   "metadata": {},
   "source": [
    "This distribution is right skewed, let's cap the X axis values:"
   ]
  },
  {
   "cell_type": "code",
   "execution_count": 1293,
   "metadata": {},
   "outputs": [
    {
     "data": {
      "text/plain": [
       "<matplotlib.text.Text at 0x125538550>"
      ]
     },
     "execution_count": 1293,
     "metadata": {},
     "output_type": "execute_result"
    },
    {
     "data": {
      "image/png": "[encoded data removed]",
      "text/plain": [
       "<matplotlib.figure.Figure at 0x11c9f7710>"
      ]
     },
     "metadata": {},
     "output_type": "display_data"
    }
   ],
   "source": [
    "plt.xlim(0,200)\n",
    "plt.hist([fail,succ], bins = 20, normed=True, label=['0','1'])\n",
    "\n",
    "plt.legend()\n",
    "plt.xlabel('length of trend (<=100)')\n",
    "plt.ylabel('Normalized Freq')\n",
    "plt.title('Hist for Length of the trend depending on the outcome')"
   ]
  },
  {
   "cell_type": "markdown",
   "metadata": {},
   "source": [
    "* Mean for each category"
   ]
  },
  {
   "cell_type": "code",
   "execution_count": 1294,
   "metadata": {},
   "outputs": [
    {
     "data": {
      "text/html": [
       "<div>\n",
       "<style scoped>\n",
       "    .dataframe tbody tr th:only-of-type {\n",
       "        vertical-align: middle;\n",
       "    }\n",
       "\n",
       "    .dataframe tbody tr th {\n",
       "        vertical-align: top;\n",
       "    }\n",
       "\n",
       "    .dataframe thead th {\n",
       "        text-align: right;\n",
       "    }\n",
       "</style>\n",
       "<table border=\"1\" class=\"dataframe\">\n",
       "  <thead>\n",
       "    <tr style=\"text-align: right;\">\n",
       "      <th></th>\n",
       "      <th>length of trend (-1)</th>\n",
       "    </tr>\n",
       "    <tr>\n",
       "      <th>ext_outcome</th>\n",
       "      <th></th>\n",
       "    </tr>\n",
       "  </thead>\n",
       "  <tbody>\n",
       "    <tr>\n",
       "      <th>0</th>\n",
       "      <td>32.071429</td>\n",
       "    </tr>\n",
       "    <tr>\n",
       "      <th>1</th>\n",
       "      <td>33.727273</td>\n",
       "    </tr>\n",
       "  </tbody>\n",
       "</table>\n",
       "</div>"
      ],
      "text/plain": [
       "             length of trend (-1)\n",
       "ext_outcome                      \n",
       "0                       32.071429\n",
       "1                       33.727273"
      ]
     },
     "execution_count": 1294,
     "metadata": {},
     "output_type": "execute_result"
    }
   ],
   "source": [
    "contDF.groupby(outcome_lab).agg({'length of trend (-1)': 'mean'})"
   ]
  },
  {
   "cell_type": "markdown",
   "metadata": {},
   "source": [
    "* Median for each category"
   ]
  },
  {
   "cell_type": "code",
   "execution_count": 1295,
   "metadata": {},
   "outputs": [
    {
     "data": {
      "text/html": [
       "<div>\n",
       "<style scoped>\n",
       "    .dataframe tbody tr th:only-of-type {\n",
       "        vertical-align: middle;\n",
       "    }\n",
       "\n",
       "    .dataframe tbody tr th {\n",
       "        vertical-align: top;\n",
       "    }\n",
       "\n",
       "    .dataframe thead th {\n",
       "        text-align: right;\n",
       "    }\n",
       "</style>\n",
       "<table border=\"1\" class=\"dataframe\">\n",
       "  <thead>\n",
       "    <tr style=\"text-align: right;\">\n",
       "      <th></th>\n",
       "      <th>length of trend (-1)</th>\n",
       "    </tr>\n",
       "    <tr>\n",
       "      <th>ext_outcome</th>\n",
       "      <th></th>\n",
       "    </tr>\n",
       "  </thead>\n",
       "  <tbody>\n",
       "    <tr>\n",
       "      <th>0</th>\n",
       "      <td>23.5</td>\n",
       "    </tr>\n",
       "    <tr>\n",
       "      <th>1</th>\n",
       "      <td>22.0</td>\n",
       "    </tr>\n",
       "  </tbody>\n",
       "</table>\n",
       "</div>"
      ],
      "text/plain": [
       "             length of trend (-1)\n",
       "ext_outcome                      \n",
       "0                            23.5\n",
       "1                            22.0"
      ]
     },
     "execution_count": 1295,
     "metadata": {},
     "output_type": "execute_result"
    }
   ],
   "source": [
    "contDF.groupby(outcome_lab).agg({'length of trend (-1)': 'median'})"
   ]
  },
  {
   "cell_type": "markdown",
   "metadata": {},
   "source": [
    "### Pips_ratio\n",
    "This variable contains the ratio between 'length of trend (-1)'/'length in pips'"
   ]
  },
  {
   "cell_type": "code",
   "execution_count": 1296,
   "metadata": {},
   "outputs": [],
   "source": [
    "contDF['pips_ratio']=contDF['length in pips (-1)'].astype(int)/contDF['length of trend (-1)'].astype(int)"
   ]
  },
  {
   "cell_type": "code",
   "execution_count": 1297,
   "metadata": {},
   "outputs": [
    {
     "data": {
      "image/png": "[encoded data removed]",
      "text/plain": [
       "<matplotlib.figure.Figure at 0x1298f1668>"
      ]
     },
     "metadata": {},
     "output_type": "display_data"
    }
   ],
   "source": [
    "ax = sns.boxplot(x=outcome_lab, y=\"pips_ratio\", data=contDF)"
   ]
  },
  {
   "cell_type": "markdown",
   "metadata": {},
   "source": [
    "* Mean for each category"
   ]
  },
  {
   "cell_type": "code",
   "execution_count": 1298,
   "metadata": {},
   "outputs": [
    {
     "data": {
      "text/html": [
       "<div>\n",
       "<style scoped>\n",
       "    .dataframe tbody tr th:only-of-type {\n",
       "        vertical-align: middle;\n",
       "    }\n",
       "\n",
       "    .dataframe tbody tr th {\n",
       "        vertical-align: top;\n",
       "    }\n",
       "\n",
       "    .dataframe thead th {\n",
       "        text-align: right;\n",
       "    }\n",
       "</style>\n",
       "<table border=\"1\" class=\"dataframe\">\n",
       "  <thead>\n",
       "    <tr style=\"text-align: right;\">\n",
       "      <th></th>\n",
       "      <th>pips_ratio</th>\n",
       "    </tr>\n",
       "    <tr>\n",
       "      <th>ext_outcome</th>\n",
       "      <th></th>\n",
       "    </tr>\n",
       "  </thead>\n",
       "  <tbody>\n",
       "    <tr>\n",
       "      <th>0</th>\n",
       "      <td>205.117374</td>\n",
       "    </tr>\n",
       "    <tr>\n",
       "      <th>1</th>\n",
       "      <td>223.103742</td>\n",
       "    </tr>\n",
       "  </tbody>\n",
       "</table>\n",
       "</div>"
      ],
      "text/plain": [
       "             pips_ratio\n",
       "ext_outcome            \n",
       "0            205.117374\n",
       "1            223.103742"
      ]
     },
     "execution_count": 1298,
     "metadata": {},
     "output_type": "execute_result"
    }
   ],
   "source": [
    "contDF.groupby(outcome_lab).agg({'pips_ratio': 'mean'})"
   ]
  },
  {
   "cell_type": "markdown",
   "metadata": {},
   "source": [
    "* Median for each category"
   ]
  },
  {
   "cell_type": "code",
   "execution_count": 1299,
   "metadata": {},
   "outputs": [
    {
     "data": {
      "text/html": [
       "<div>\n",
       "<style scoped>\n",
       "    .dataframe tbody tr th:only-of-type {\n",
       "        vertical-align: middle;\n",
       "    }\n",
       "\n",
       "    .dataframe tbody tr th {\n",
       "        vertical-align: top;\n",
       "    }\n",
       "\n",
       "    .dataframe thead th {\n",
       "        text-align: right;\n",
       "    }\n",
       "</style>\n",
       "<table border=\"1\" class=\"dataframe\">\n",
       "  <thead>\n",
       "    <tr style=\"text-align: right;\">\n",
       "      <th></th>\n",
       "      <th>pips_ratio</th>\n",
       "    </tr>\n",
       "    <tr>\n",
       "      <th>ext_outcome</th>\n",
       "      <th></th>\n",
       "    </tr>\n",
       "  </thead>\n",
       "  <tbody>\n",
       "    <tr>\n",
       "      <th>0</th>\n",
       "      <td>146.078348</td>\n",
       "    </tr>\n",
       "    <tr>\n",
       "      <th>1</th>\n",
       "      <td>171.986765</td>\n",
       "    </tr>\n",
       "  </tbody>\n",
       "</table>\n",
       "</div>"
      ],
      "text/plain": [
       "             pips_ratio\n",
       "ext_outcome            \n",
       "0            146.078348\n",
       "1            171.986765"
      ]
     },
     "execution_count": 1299,
     "metadata": {},
     "output_type": "execute_result"
    }
   ],
   "source": [
    "contDF.groupby(outcome_lab).agg({'pips_ratio': 'median'})"
   ]
  },
  {
   "cell_type": "markdown",
   "metadata": {},
   "source": [
    "Let's analyze the distribution with a histogram"
   ]
  },
  {
   "cell_type": "code",
   "execution_count": 1300,
   "metadata": {},
   "outputs": [],
   "source": [
    "succ=contDF.loc[contDF[outcome_lab]==1]['pips_ratio']\n",
    "fail=contDF.loc[contDF[outcome_lab]==0]['pips_ratio']"
   ]
  },
  {
   "cell_type": "code",
   "execution_count": 1301,
   "metadata": {},
   "outputs": [
    {
     "data": {
      "text/plain": [
       "<matplotlib.text.Text at 0x126d9cdd8>"
      ]
     },
     "execution_count": 1301,
     "metadata": {},
     "output_type": "execute_result"
    },
    {
     "data": {
      "image/png": "[encoded data removed]",
      "text/plain": [
       "<matplotlib.figure.Figure at 0x126919b00>"
      ]
     },
     "metadata": {},
     "output_type": "display_data"
    }
   ],
   "source": [
    "plt.hist([fail,succ], bins = 10, normed=True, label=['0','1'])\n",
    "\n",
    "plt.legend()\n",
    "plt.xlabel('Pips ratio')\n",
    "plt.ylabel('Normalized Freq')\n",
    "plt.title('Hist for Pips ratio on the outcome')"
   ]
  },
  {
   "cell_type": "code",
   "execution_count": 1302,
   "metadata": {},
   "outputs": [
    {
     "data": {
      "text/plain": [
       "<matplotlib.text.Text at 0x128045d68>"
      ]
     },
     "execution_count": 1302,
     "metadata": {},
     "output_type": "execute_result"
    },
    {
     "data": {
      "image/png": "[encoded data removed]",
      "text/plain": [
       "<matplotlib.figure.Figure at 0x12760bbe0>"
      ]
     },
     "metadata": {},
     "output_type": "display_data"
    }
   ],
   "source": [
    "plt.xlim(0,500)\n",
    "\n",
    "plt.hist([fail,succ], bins = 15, normed=True, label=['0','1'])\n",
    "\n",
    "plt.legend()\n",
    "plt.xlabel('Pips ratio')\n",
    "plt.ylabel('Normalized Freq')\n",
    "plt.title('Hist for Pips ratio on the outcome')"
   ]
  },
  {
   "cell_type": "markdown",
   "metadata": {},
   "source": [
    "### Pips_ratio normalized"
   ]
  },
  {
   "cell_type": "code",
   "execution_count": 1303,
   "metadata": {},
   "outputs": [],
   "source": [
    "contDF['pips_ratio_norm']=contDF['norm_length_pips'].astype(int)/contDF['length of trend (-1)'].astype(int)"
   ]
  },
  {
   "cell_type": "code",
   "execution_count": 1304,
   "metadata": {},
   "outputs": [
    {
     "data": {
      "image/png": "[encoded data removed]",
      "text/plain": [
       "<matplotlib.figure.Figure at 0x12534c0f0>"
      ]
     },
     "metadata": {},
     "output_type": "display_data"
    }
   ],
   "source": [
    "ax = sns.boxplot(x=outcome_lab, y=\"pips_ratio_norm\", data=contDF)"
   ]
  },
  {
   "cell_type": "markdown",
   "metadata": {},
   "source": [
    "* Mean for each category"
   ]
  },
  {
   "cell_type": "code",
   "execution_count": 1305,
   "metadata": {},
   "outputs": [
    {
     "data": {
      "text/html": [
       "<div>\n",
       "<style scoped>\n",
       "    .dataframe tbody tr th:only-of-type {\n",
       "        vertical-align: middle;\n",
       "    }\n",
       "\n",
       "    .dataframe tbody tr th {\n",
       "        vertical-align: top;\n",
       "    }\n",
       "\n",
       "    .dataframe thead th {\n",
       "        text-align: right;\n",
       "    }\n",
       "</style>\n",
       "<table border=\"1\" class=\"dataframe\">\n",
       "  <thead>\n",
       "    <tr style=\"text-align: right;\">\n",
       "      <th></th>\n",
       "      <th>pips_ratio_norm</th>\n",
       "    </tr>\n",
       "    <tr>\n",
       "      <th>ext_outcome</th>\n",
       "      <th></th>\n",
       "    </tr>\n",
       "  </thead>\n",
       "  <tbody>\n",
       "    <tr>\n",
       "      <th>0</th>\n",
       "      <td>4.245804</td>\n",
       "    </tr>\n",
       "    <tr>\n",
       "      <th>1</th>\n",
       "      <td>4.617042</td>\n",
       "    </tr>\n",
       "  </tbody>\n",
       "</table>\n",
       "</div>"
      ],
      "text/plain": [
       "             pips_ratio_norm\n",
       "ext_outcome                 \n",
       "0                   4.245804\n",
       "1                   4.617042"
      ]
     },
     "execution_count": 1305,
     "metadata": {},
     "output_type": "execute_result"
    }
   ],
   "source": [
    "contDF.groupby(outcome_lab).agg({'pips_ratio_norm': 'mean'})"
   ]
  },
  {
   "cell_type": "markdown",
   "metadata": {},
   "source": [
    "* Median for each category"
   ]
  },
  {
   "cell_type": "code",
   "execution_count": 1306,
   "metadata": {},
   "outputs": [
    {
     "data": {
      "text/html": [
       "<div>\n",
       "<style scoped>\n",
       "    .dataframe tbody tr th:only-of-type {\n",
       "        vertical-align: middle;\n",
       "    }\n",
       "\n",
       "    .dataframe tbody tr th {\n",
       "        vertical-align: top;\n",
       "    }\n",
       "\n",
       "    .dataframe thead th {\n",
       "        text-align: right;\n",
       "    }\n",
       "</style>\n",
       "<table border=\"1\" class=\"dataframe\">\n",
       "  <thead>\n",
       "    <tr style=\"text-align: right;\">\n",
       "      <th></th>\n",
       "      <th>pips_ratio_norm</th>\n",
       "    </tr>\n",
       "    <tr>\n",
       "      <th>ext_outcome</th>\n",
       "      <th></th>\n",
       "    </tr>\n",
       "  </thead>\n",
       "  <tbody>\n",
       "    <tr>\n",
       "      <th>0</th>\n",
       "      <td>3.011396</td>\n",
       "    </tr>\n",
       "    <tr>\n",
       "      <th>1</th>\n",
       "      <td>3.544118</td>\n",
       "    </tr>\n",
       "  </tbody>\n",
       "</table>\n",
       "</div>"
      ],
      "text/plain": [
       "             pips_ratio_norm\n",
       "ext_outcome                 \n",
       "0                   3.011396\n",
       "1                   3.544118"
      ]
     },
     "execution_count": 1306,
     "metadata": {},
     "output_type": "execute_result"
    }
   ],
   "source": [
    "contDF.groupby(outcome_lab).agg({'pips_ratio_norm': 'median'})"
   ]
  },
  {
   "cell_type": "markdown",
   "metadata": {},
   "source": [
    "Let's analyze the distribution with a histogram"
   ]
  },
  {
   "cell_type": "code",
   "execution_count": 1307,
   "metadata": {},
   "outputs": [],
   "source": [
    "succ=contDF.loc[contDF[outcome_lab]==1]['pips_ratio_norm']\n",
    "fail=contDF.loc[contDF[outcome_lab]==0]['pips_ratio_norm']"
   ]
  },
  {
   "cell_type": "code",
   "execution_count": 1308,
   "metadata": {},
   "outputs": [
    {
     "data": {
      "text/plain": [
       "<matplotlib.text.Text at 0x1284c0898>"
      ]
     },
     "execution_count": 1308,
     "metadata": {},
     "output_type": "execute_result"
    },
    {
     "data": {
      "image/png": "[encoded data removed]",
      "text/plain": [
       "<matplotlib.figure.Figure at 0x12839b240>"
      ]
     },
     "metadata": {},
     "output_type": "display_data"
    }
   ],
   "source": [
    "plt.hist([fail,succ], bins = 20, normed=True, label=['0','1'])\n",
    "\n",
    "plt.legend()\n",
    "plt.xlabel('Pips ratio normalized')\n",
    "plt.ylabel('Normalized Freq')\n",
    "plt.title('Hist for Pips ratio on the outcome')"
   ]
  },
  {
   "cell_type": "code",
   "execution_count": 1309,
   "metadata": {},
   "outputs": [
    {
     "data": {
      "text/plain": [
       "<matplotlib.text.Text at 0x12a6efeb8>"
      ]
     },
     "execution_count": 1309,
     "metadata": {},
     "output_type": "execute_result"
    },
    {
     "data": {
      "image/png": "[encoded data removed]",
      "text/plain": [
       "<matplotlib.figure.Figure at 0x125384048>"
      ]
     },
     "metadata": {},
     "output_type": "display_data"
    }
   ],
   "source": [
    "plt.xlim(0,20)\n",
    "\n",
    "plt.hist([fail,succ], bins = 25, normed=True, label=['0','1'])\n",
    "\n",
    "plt.legend()\n",
    "plt.xlabel('Pips ratio')\n",
    "plt.ylabel('Normalized Freq')\n",
    "plt.title('Hist for Pips ratio on the outcome')"
   ]
  },
  {
   "cell_type": "markdown",
   "metadata": {},
   "source": [
    "### inn_bounce\n",
    "Integer variable representing the number of candles of the inner bounce. Let's start comparing the distribution of this variable for the different categories of the `outcome` variable"
   ]
  },
  {
   "cell_type": "code",
   "execution_count": 1310,
   "metadata": {},
   "outputs": [
    {
     "data": {
      "image/png": "[encoded data removed]",
      "text/plain": [
       "<matplotlib.figure.Figure at 0x12849a9e8>"
      ]
     },
     "metadata": {},
     "output_type": "display_data"
    }
   ],
   "source": [
    "ax = sns.boxplot(x=outcome_lab, y=\"inn_bounce\", data=contDF)"
   ]
  },
  {
   "cell_type": "markdown",
   "metadata": {},
   "source": [
    "* Mean for each category"
   ]
  },
  {
   "cell_type": "code",
   "execution_count": 1311,
   "metadata": {},
   "outputs": [
    {
     "data": {
      "text/html": [
       "<div>\n",
       "<style scoped>\n",
       "    .dataframe tbody tr th:only-of-type {\n",
       "        vertical-align: middle;\n",
       "    }\n",
       "\n",
       "    .dataframe tbody tr th {\n",
       "        vertical-align: top;\n",
       "    }\n",
       "\n",
       "    .dataframe thead th {\n",
       "        text-align: right;\n",
       "    }\n",
       "</style>\n",
       "<table border=\"1\" class=\"dataframe\">\n",
       "  <thead>\n",
       "    <tr style=\"text-align: right;\">\n",
       "      <th></th>\n",
       "      <th>inn_bounce</th>\n",
       "    </tr>\n",
       "    <tr>\n",
       "      <th>ext_outcome</th>\n",
       "      <th></th>\n",
       "    </tr>\n",
       "  </thead>\n",
       "  <tbody>\n",
       "    <tr>\n",
       "      <th>0</th>\n",
       "      <td>7.071429</td>\n",
       "    </tr>\n",
       "    <tr>\n",
       "      <th>1</th>\n",
       "      <td>7.454545</td>\n",
       "    </tr>\n",
       "  </tbody>\n",
       "</table>\n",
       "</div>"
      ],
      "text/plain": [
       "             inn_bounce\n",
       "ext_outcome            \n",
       "0              7.071429\n",
       "1              7.454545"
      ]
     },
     "execution_count": 1311,
     "metadata": {},
     "output_type": "execute_result"
    }
   ],
   "source": [
    "contDF.groupby(outcome_lab).agg({'inn_bounce': 'mean'})"
   ]
  },
  {
   "cell_type": "markdown",
   "metadata": {},
   "source": [
    "* Median for each category"
   ]
  },
  {
   "cell_type": "code",
   "execution_count": 1312,
   "metadata": {},
   "outputs": [
    {
     "data": {
      "text/html": [
       "<div>\n",
       "<style scoped>\n",
       "    .dataframe tbody tr th:only-of-type {\n",
       "        vertical-align: middle;\n",
       "    }\n",
       "\n",
       "    .dataframe tbody tr th {\n",
       "        vertical-align: top;\n",
       "    }\n",
       "\n",
       "    .dataframe thead th {\n",
       "        text-align: right;\n",
       "    }\n",
       "</style>\n",
       "<table border=\"1\" class=\"dataframe\">\n",
       "  <thead>\n",
       "    <tr style=\"text-align: right;\">\n",
       "      <th></th>\n",
       "      <th>inn_bounce</th>\n",
       "    </tr>\n",
       "    <tr>\n",
       "      <th>ext_outcome</th>\n",
       "      <th></th>\n",
       "    </tr>\n",
       "  </thead>\n",
       "  <tbody>\n",
       "    <tr>\n",
       "      <th>0</th>\n",
       "      <td>7</td>\n",
       "    </tr>\n",
       "    <tr>\n",
       "      <th>1</th>\n",
       "      <td>6</td>\n",
       "    </tr>\n",
       "  </tbody>\n",
       "</table>\n",
       "</div>"
      ],
      "text/plain": [
       "             inn_bounce\n",
       "ext_outcome            \n",
       "0                     7\n",
       "1                     6"
      ]
     },
     "execution_count": 1312,
     "metadata": {},
     "output_type": "execute_result"
    }
   ],
   "source": [
    "contDF.groupby(outcome_lab).agg({'inn_bounce': 'median'})"
   ]
  },
  {
   "cell_type": "markdown",
   "metadata": {},
   "source": [
    "* Barplot"
   ]
  },
  {
   "cell_type": "code",
   "execution_count": 1313,
   "metadata": {},
   "outputs": [
    {
     "data": {
      "image/png": "[encoded data removed]",
      "text/plain": [
       "<matplotlib.figure.Figure at 0x12836a518>"
      ]
     },
     "metadata": {},
     "output_type": "display_data"
    }
   ],
   "source": [
    "contDF_counts = (contDF.groupby([outcome_lab])['inn_bounce']\n",
    "                  .value_counts(normalize=True)\n",
    "                  .rename('percentage')\n",
    "                  .mul(100)\n",
    "                  .reset_index()\n",
    "                  .sort_values('inn_bounce'))\n",
    "\n",
    "p = sns.barplot(x=\"inn_bounce\", y=\"percentage\", hue=outcome_lab, data=contDF_counts)"
   ]
  },
  {
   "cell_type": "markdown",
   "metadata": {},
   "source": [
    "* Histogram"
   ]
  },
  {
   "cell_type": "code",
   "execution_count": 1314,
   "metadata": {},
   "outputs": [],
   "source": [
    "succ=contDF.loc[contDF[outcome_lab]==1]['inn_bounce']\n",
    "fail=contDF.loc[contDF[outcome_lab]==0]['inn_bounce']"
   ]
  },
  {
   "cell_type": "code",
   "execution_count": 1315,
   "metadata": {},
   "outputs": [
    {
     "data": {
      "text/plain": [
       "<matplotlib.text.Text at 0x124fd9978>"
      ]
     },
     "execution_count": 1315,
     "metadata": {},
     "output_type": "execute_result"
    },
    {
     "data": {
      "image/png": "[encoded data removed]",
      "text/plain": [
       "<matplotlib.figure.Figure at 0x129434dd8>"
      ]
     },
     "metadata": {},
     "output_type": "display_data"
    }
   ],
   "source": [
    "plt.hist([fail,succ], bins = 20, normed=True, label=['0','1'])\n",
    "\n",
    "plt.legend()\n",
    "plt.xlabel('inn_bounce')\n",
    "plt.ylabel('Normalized Freq')\n",
    "plt.title('Hist for Length of the trend depending on the outcome')"
   ]
  },
  {
   "cell_type": "code",
   "execution_count": 1316,
   "metadata": {},
   "outputs": [
    {
     "data": {
      "text/plain": [
       "<matplotlib.text.Text at 0x124c10fd0>"
      ]
     },
     "execution_count": 1316,
     "metadata": {},
     "output_type": "execute_result"
    },
    {
     "data": {
      "image/png": "[encoded data removed]",
      "text/plain": [
       "<matplotlib.figure.Figure at 0x124bfd128>"
      ]
     },
     "metadata": {},
     "output_type": "display_data"
    }
   ],
   "source": [
    "plt.xlim(0,30)\n",
    "plt.hist([fail,succ], bins = 10, normed=True, label=['0','1'])\n",
    "\n",
    "plt.legend()\n",
    "plt.xlabel('inn_bounce (<=30)')\n",
    "plt.ylabel('Normalized Freq')\n",
    "plt.title('Hist for inn_bounce depending on the outcome')"
   ]
  },
  {
   "cell_type": "markdown",
   "metadata": {},
   "source": [
    "### bounce length\n",
    "This variable is a comma separated list of integers representing how wide (in number of candles) each of the RSI bounces is. This variable requires a little bit of preprocessing, and I will write a function that calculates the total length (in number of candles) by adding the length of each of the bounces"
   ]
  },
  {
   "cell_type": "code",
   "execution_count": 1317,
   "metadata": {},
   "outputs": [],
   "source": [
    "def sum_lengths(x):\n",
    "    '''\n",
    "    Function to calculate the sum (in number of candles)\n",
    "    of all the RSI bounces\n",
    "    \n",
    "    Parameters\n",
    "    ----------\n",
    "    x = string with a comma separated list of numbers\n",
    "        i.e. 1,4,2,3\n",
    "        \n",
    "    Returns\n",
    "    -------\n",
    "    An integer representing the total bounce length\n",
    "    '''\n",
    "    \n",
    "    return sum([int(i) for i in x.split(\",\")])\n",
    "    "
   ]
  },
  {
   "cell_type": "markdown",
   "metadata": {},
   "source": [
    "And I will apply the `sum_lengths` function and put the results in a new column named `sum_bounces`"
   ]
  },
  {
   "cell_type": "code",
   "execution_count": 1318,
   "metadata": {},
   "outputs": [],
   "source": [
    "contDF['sum_bounces']=contDF['bounce length'].astype(str).apply(sum_lengths)"
   ]
  },
  {
   "cell_type": "markdown",
   "metadata": {},
   "source": [
    "Now, I will plot the distribution of this new variable on each `outcome`category:"
   ]
  },
  {
   "cell_type": "code",
   "execution_count": 1319,
   "metadata": {},
   "outputs": [
    {
     "data": {
      "image/png": "[encoded data removed]",
      "text/plain": [
       "<matplotlib.figure.Figure at 0x1280ab7b8>"
      ]
     },
     "metadata": {},
     "output_type": "display_data"
    }
   ],
   "source": [
    "ax = sns.boxplot(x=outcome_lab, y=\"sum_bounces\", data=contDF)"
   ]
  },
  {
   "cell_type": "markdown",
   "metadata": {},
   "source": [
    "* Mean for each category"
   ]
  },
  {
   "cell_type": "code",
   "execution_count": 1320,
   "metadata": {},
   "outputs": [
    {
     "data": {
      "text/html": [
       "<div>\n",
       "<style scoped>\n",
       "    .dataframe tbody tr th:only-of-type {\n",
       "        vertical-align: middle;\n",
       "    }\n",
       "\n",
       "    .dataframe tbody tr th {\n",
       "        vertical-align: top;\n",
       "    }\n",
       "\n",
       "    .dataframe thead th {\n",
       "        text-align: right;\n",
       "    }\n",
       "</style>\n",
       "<table border=\"1\" class=\"dataframe\">\n",
       "  <thead>\n",
       "    <tr style=\"text-align: right;\">\n",
       "      <th></th>\n",
       "      <th>sum_bounces</th>\n",
       "    </tr>\n",
       "    <tr>\n",
       "      <th>ext_outcome</th>\n",
       "      <th></th>\n",
       "    </tr>\n",
       "  </thead>\n",
       "  <tbody>\n",
       "    <tr>\n",
       "      <th>0</th>\n",
       "      <td>5.428571</td>\n",
       "    </tr>\n",
       "    <tr>\n",
       "      <th>1</th>\n",
       "      <td>5.977273</td>\n",
       "    </tr>\n",
       "  </tbody>\n",
       "</table>\n",
       "</div>"
      ],
      "text/plain": [
       "             sum_bounces\n",
       "ext_outcome             \n",
       "0               5.428571\n",
       "1               5.977273"
      ]
     },
     "execution_count": 1320,
     "metadata": {},
     "output_type": "execute_result"
    }
   ],
   "source": [
    "contDF.groupby(outcome_lab).agg({'sum_bounces': 'mean'})"
   ]
  },
  {
   "cell_type": "markdown",
   "metadata": {},
   "source": [
    "* Median for each category"
   ]
  },
  {
   "cell_type": "code",
   "execution_count": 1321,
   "metadata": {},
   "outputs": [
    {
     "data": {
      "text/html": [
       "<div>\n",
       "<style scoped>\n",
       "    .dataframe tbody tr th:only-of-type {\n",
       "        vertical-align: middle;\n",
       "    }\n",
       "\n",
       "    .dataframe tbody tr th {\n",
       "        vertical-align: top;\n",
       "    }\n",
       "\n",
       "    .dataframe thead th {\n",
       "        text-align: right;\n",
       "    }\n",
       "</style>\n",
       "<table border=\"1\" class=\"dataframe\">\n",
       "  <thead>\n",
       "    <tr style=\"text-align: right;\">\n",
       "      <th></th>\n",
       "      <th>sum_bounces</th>\n",
       "    </tr>\n",
       "    <tr>\n",
       "      <th>ext_outcome</th>\n",
       "      <th></th>\n",
       "    </tr>\n",
       "  </thead>\n",
       "  <tbody>\n",
       "    <tr>\n",
       "      <th>0</th>\n",
       "      <td>1</td>\n",
       "    </tr>\n",
       "    <tr>\n",
       "      <th>1</th>\n",
       "      <td>3</td>\n",
       "    </tr>\n",
       "  </tbody>\n",
       "</table>\n",
       "</div>"
      ],
      "text/plain": [
       "             sum_bounces\n",
       "ext_outcome             \n",
       "0                      1\n",
       "1                      3"
      ]
     },
     "execution_count": 1321,
     "metadata": {},
     "output_type": "execute_result"
    }
   ],
   "source": [
    "contDF.groupby(outcome_lab).agg({'sum_bounces': 'median'})"
   ]
  },
  {
   "cell_type": "markdown",
   "metadata": {},
   "source": [
    "* Histogram"
   ]
  },
  {
   "cell_type": "code",
   "execution_count": 1322,
   "metadata": {},
   "outputs": [],
   "source": [
    "succ=contDF.loc[contDF[outcome_lab]==1]['sum_bounces']\n",
    "fail=contDF.loc[contDF[outcome_lab]==0]['sum_bounces']"
   ]
  },
  {
   "cell_type": "code",
   "execution_count": 1323,
   "metadata": {},
   "outputs": [
    {
     "data": {
      "text/plain": [
       "<matplotlib.text.Text at 0x12b7408d0>"
      ]
     },
     "execution_count": 1323,
     "metadata": {},
     "output_type": "execute_result"
    },
    {
     "data": {
      "image/png": "[encoded data removed]",
      "text/plain": [
       "<matplotlib.figure.Figure at 0x1282d7f60>"
      ]
     },
     "metadata": {},
     "output_type": "display_data"
    }
   ],
   "source": [
    "plt.hist([fail,succ], bins = 15, normed=True, label=['0','1'])\n",
    "\n",
    "plt.legend()\n",
    "plt.xlabel('sum_bounces')\n",
    "plt.ylabel('Normalized Freq')\n",
    "plt.title('Hist for sum_bounces depending on the outcome')"
   ]
  },
  {
   "cell_type": "code",
   "execution_count": 1324,
   "metadata": {},
   "outputs": [
    {
     "data": {
      "text/plain": [
       "<matplotlib.text.Text at 0x128afb7f0>"
      ]
     },
     "execution_count": 1324,
     "metadata": {},
     "output_type": "execute_result"
    },
    {
     "data": {
      "image/png": "[encoded data removed]",
      "text/plain": [
       "<matplotlib.figure.Figure at 0x128785518>"
      ]
     },
     "metadata": {},
     "output_type": "display_data"
    }
   ],
   "source": [
    "plt.xlim(0,30)\n",
    "plt.hist([fail,succ], bins = 15, normed=True, label=['0','1'])\n",
    "\n",
    "plt.legend()\n",
    "plt.xlabel('sum_bounces (<=30)')\n",
    "plt.ylabel('Normalized Freq')\n",
    "plt.title('Hist for inn_bounce depending on the outcome')"
   ]
  },
  {
   "cell_type": "markdown",
   "metadata": {},
   "source": [
    "### bounce (pips)\n",
    "This quantitative variable represents the length from the horizontal line defined by IC until the highest point of the bounce (considering wicks also).  Let's start comparing the distribution of this variable for the different categories of the `outcome` variable"
   ]
  },
  {
   "cell_type": "code",
   "execution_count": 1325,
   "metadata": {},
   "outputs": [
    {
     "data": {
      "image/png": "[encoded data removed]",
      "text/plain": [
       "<matplotlib.figure.Figure at 0x122ff40f0>"
      ]
     },
     "metadata": {},
     "output_type": "display_data"
    }
   ],
   "source": [
    "ax = sns.boxplot(x=outcome_lab, y=\"bounce (pips)\", data=contDF)"
   ]
  },
  {
   "cell_type": "markdown",
   "metadata": {},
   "source": [
    "* Mean for each category"
   ]
  },
  {
   "cell_type": "code",
   "execution_count": 1326,
   "metadata": {},
   "outputs": [
    {
     "data": {
      "text/html": [
       "<div>\n",
       "<style scoped>\n",
       "    .dataframe tbody tr th:only-of-type {\n",
       "        vertical-align: middle;\n",
       "    }\n",
       "\n",
       "    .dataframe tbody tr th {\n",
       "        vertical-align: top;\n",
       "    }\n",
       "\n",
       "    .dataframe thead th {\n",
       "        text-align: right;\n",
       "    }\n",
       "</style>\n",
       "<table border=\"1\" class=\"dataframe\">\n",
       "  <thead>\n",
       "    <tr style=\"text-align: right;\">\n",
       "      <th></th>\n",
       "      <th>bounce (pips)</th>\n",
       "    </tr>\n",
       "    <tr>\n",
       "      <th>ext_outcome</th>\n",
       "      <th></th>\n",
       "    </tr>\n",
       "  </thead>\n",
       "  <tbody>\n",
       "    <tr>\n",
       "      <th>0</th>\n",
       "      <td>1109.071429</td>\n",
       "    </tr>\n",
       "    <tr>\n",
       "      <th>1</th>\n",
       "      <td>789.204545</td>\n",
       "    </tr>\n",
       "  </tbody>\n",
       "</table>\n",
       "</div>"
      ],
      "text/plain": [
       "             bounce (pips)\n",
       "ext_outcome               \n",
       "0              1109.071429\n",
       "1               789.204545"
      ]
     },
     "execution_count": 1326,
     "metadata": {},
     "output_type": "execute_result"
    }
   ],
   "source": [
    "contDF.groupby(outcome_lab).agg({'bounce (pips)': 'mean'})"
   ]
  },
  {
   "cell_type": "markdown",
   "metadata": {},
   "source": [
    "* Median for each category"
   ]
  },
  {
   "cell_type": "code",
   "execution_count": 1327,
   "metadata": {},
   "outputs": [
    {
     "data": {
      "text/html": [
       "<div>\n",
       "<style scoped>\n",
       "    .dataframe tbody tr th:only-of-type {\n",
       "        vertical-align: middle;\n",
       "    }\n",
       "\n",
       "    .dataframe tbody tr th {\n",
       "        vertical-align: top;\n",
       "    }\n",
       "\n",
       "    .dataframe thead th {\n",
       "        text-align: right;\n",
       "    }\n",
       "</style>\n",
       "<table border=\"1\" class=\"dataframe\">\n",
       "  <thead>\n",
       "    <tr style=\"text-align: right;\">\n",
       "      <th></th>\n",
       "      <th>bounce (pips)</th>\n",
       "    </tr>\n",
       "    <tr>\n",
       "      <th>ext_outcome</th>\n",
       "      <th></th>\n",
       "    </tr>\n",
       "  </thead>\n",
       "  <tbody>\n",
       "    <tr>\n",
       "      <th>0</th>\n",
       "      <td>732.5</td>\n",
       "    </tr>\n",
       "    <tr>\n",
       "      <th>1</th>\n",
       "      <td>636.0</td>\n",
       "    </tr>\n",
       "  </tbody>\n",
       "</table>\n",
       "</div>"
      ],
      "text/plain": [
       "             bounce (pips)\n",
       "ext_outcome               \n",
       "0                    732.5\n",
       "1                    636.0"
      ]
     },
     "execution_count": 1327,
     "metadata": {},
     "output_type": "execute_result"
    }
   ],
   "source": [
    "contDF.groupby(outcome_lab).agg({'bounce (pips)': 'median'})"
   ]
  },
  {
   "cell_type": "markdown",
   "metadata": {},
   "source": [
    "* Histogram"
   ]
  },
  {
   "cell_type": "code",
   "execution_count": 1328,
   "metadata": {},
   "outputs": [],
   "source": [
    "succ=contDF.loc[contDF[outcome_lab]==1]['bounce (pips)']\n",
    "fail=contDF.loc[contDF[outcome_lab]==0]['bounce (pips)']"
   ]
  },
  {
   "cell_type": "code",
   "execution_count": 1329,
   "metadata": {},
   "outputs": [
    {
     "data": {
      "text/plain": [
       "<matplotlib.text.Text at 0x12ba72198>"
      ]
     },
     "execution_count": 1329,
     "metadata": {},
     "output_type": "execute_result"
    },
    {
     "data": {
      "image/png": "[encoded data removed]",
      "text/plain": [
       "<matplotlib.figure.Figure at 0x12a5bcba8>"
      ]
     },
     "metadata": {},
     "output_type": "display_data"
    }
   ],
   "source": [
    "plt.hist([fail,succ], bins = 15, normed=True, label=['0','1'])\n",
    "\n",
    "plt.legend()\n",
    "plt.xlabel('bounce (pips)')\n",
    "plt.ylabel('Normalized Freq')\n",
    "plt.title('Hist for bounce (pips) depending on the outcome')"
   ]
  },
  {
   "cell_type": "code",
   "execution_count": 1330,
   "metadata": {},
   "outputs": [
    {
     "data": {
      "text/plain": [
       "<matplotlib.text.Text at 0x12bbfdac8>"
      ]
     },
     "execution_count": 1330,
     "metadata": {},
     "output_type": "execute_result"
    },
    {
     "data": {
      "image/png": "[encoded data removed]",
      "text/plain": [
       "<matplotlib.figure.Figure at 0x12a5c8cf8>"
      ]
     },
     "metadata": {},
     "output_type": "display_data"
    }
   ],
   "source": [
    "plt.xlim(0,4000)\n",
    "plt.hist([fail,succ], bins = 15, normed=True, label=['0','1'])\n",
    "\n",
    "plt.legend()\n",
    "plt.xlabel('bounce (pips) (<=4000)')\n",
    "plt.ylabel('Normalized Freq')\n",
    "plt.title('Hist for bounce (pips) depending on the outcome')"
   ]
  },
  {
   "cell_type": "markdown",
   "metadata": {},
   "source": [
    "### norm_bounce_pips"
   ]
  },
  {
   "cell_type": "code",
   "execution_count": 1331,
   "metadata": {},
   "outputs": [
    {
     "data": {
      "image/png": "[encoded data removed]",
      "text/plain": [
       "<matplotlib.figure.Figure at 0x12bc01c18>"
      ]
     },
     "metadata": {},
     "output_type": "display_data"
    }
   ],
   "source": [
    "ax = sns.boxplot(x=outcome_lab, y=\"norm_bounce_pips\", data=contDF)"
   ]
  },
  {
   "cell_type": "markdown",
   "metadata": {},
   "source": [
    "* Mean for each category"
   ]
  },
  {
   "cell_type": "code",
   "execution_count": 1332,
   "metadata": {},
   "outputs": [
    {
     "data": {
      "text/html": [
       "<div>\n",
       "<style scoped>\n",
       "    .dataframe tbody tr th:only-of-type {\n",
       "        vertical-align: middle;\n",
       "    }\n",
       "\n",
       "    .dataframe tbody tr th {\n",
       "        vertical-align: top;\n",
       "    }\n",
       "\n",
       "    .dataframe thead th {\n",
       "        text-align: right;\n",
       "    }\n",
       "</style>\n",
       "<table border=\"1\" class=\"dataframe\">\n",
       "  <thead>\n",
       "    <tr style=\"text-align: right;\">\n",
       "      <th></th>\n",
       "      <th>norm_bounce_pips</th>\n",
       "    </tr>\n",
       "    <tr>\n",
       "      <th>ext_outcome</th>\n",
       "      <th></th>\n",
       "    </tr>\n",
       "  </thead>\n",
       "  <tbody>\n",
       "    <tr>\n",
       "      <th>0</th>\n",
       "      <td>23.106429</td>\n",
       "    </tr>\n",
       "    <tr>\n",
       "      <th>1</th>\n",
       "      <td>16.442045</td>\n",
       "    </tr>\n",
       "  </tbody>\n",
       "</table>\n",
       "</div>"
      ],
      "text/plain": [
       "             norm_bounce_pips\n",
       "ext_outcome                  \n",
       "0                   23.106429\n",
       "1                   16.442045"
      ]
     },
     "execution_count": 1332,
     "metadata": {},
     "output_type": "execute_result"
    }
   ],
   "source": [
    "contDF.groupby(outcome_lab).agg({'norm_bounce_pips': 'mean'})"
   ]
  },
  {
   "cell_type": "markdown",
   "metadata": {},
   "source": [
    "* Median for each category"
   ]
  },
  {
   "cell_type": "code",
   "execution_count": 1333,
   "metadata": {},
   "outputs": [
    {
     "data": {
      "text/html": [
       "<div>\n",
       "<style scoped>\n",
       "    .dataframe tbody tr th:only-of-type {\n",
       "        vertical-align: middle;\n",
       "    }\n",
       "\n",
       "    .dataframe tbody tr th {\n",
       "        vertical-align: top;\n",
       "    }\n",
       "\n",
       "    .dataframe thead th {\n",
       "        text-align: right;\n",
       "    }\n",
       "</style>\n",
       "<table border=\"1\" class=\"dataframe\">\n",
       "  <thead>\n",
       "    <tr style=\"text-align: right;\">\n",
       "      <th></th>\n",
       "      <th>norm_bounce_pips</th>\n",
       "    </tr>\n",
       "    <tr>\n",
       "      <th>ext_outcome</th>\n",
       "      <th></th>\n",
       "    </tr>\n",
       "  </thead>\n",
       "  <tbody>\n",
       "    <tr>\n",
       "      <th>0</th>\n",
       "      <td>15.26</td>\n",
       "    </tr>\n",
       "    <tr>\n",
       "      <th>1</th>\n",
       "      <td>13.25</td>\n",
       "    </tr>\n",
       "  </tbody>\n",
       "</table>\n",
       "</div>"
      ],
      "text/plain": [
       "             norm_bounce_pips\n",
       "ext_outcome                  \n",
       "0                       15.26\n",
       "1                       13.25"
      ]
     },
     "execution_count": 1333,
     "metadata": {},
     "output_type": "execute_result"
    }
   ],
   "source": [
    "contDF.groupby(outcome_lab).agg({'norm_bounce_pips': 'median'})"
   ]
  },
  {
   "cell_type": "markdown",
   "metadata": {},
   "source": [
    "* Histogram"
   ]
  },
  {
   "cell_type": "code",
   "execution_count": 1334,
   "metadata": {},
   "outputs": [],
   "source": [
    "succ=contDF.loc[contDF[outcome_lab]==1]['norm_bounce_pips']\n",
    "fail=contDF.loc[contDF[outcome_lab]==0]['norm_bounce_pips']"
   ]
  },
  {
   "cell_type": "code",
   "execution_count": 1335,
   "metadata": {},
   "outputs": [
    {
     "data": {
      "text/plain": [
       "<matplotlib.text.Text at 0x12bf2f630>"
      ]
     },
     "execution_count": 1335,
     "metadata": {},
     "output_type": "execute_result"
    },
    {
     "data": {
      "image/png": "[encoded data removed]",
      "text/plain": [
       "<matplotlib.figure.Figure at 0x1287807f0>"
      ]
     },
     "metadata": {},
     "output_type": "display_data"
    }
   ],
   "source": [
    "plt.hist([fail,succ], bins = 15, normed=True, label=['0','1'])\n",
    "\n",
    "plt.legend()\n",
    "plt.xlabel('bounce (pips) normalized')\n",
    "plt.ylabel('Normalized Freq')\n",
    "plt.title('Hist for normalized bounce (pips)  depending on the outcome')"
   ]
  },
  {
   "cell_type": "code",
   "execution_count": 1336,
   "metadata": {},
   "outputs": [
    {
     "data": {
      "text/plain": [
       "<matplotlib.text.Text at 0x12c04bf60>"
      ]
     },
     "execution_count": 1336,
     "metadata": {},
     "output_type": "execute_result"
    },
    {
     "data": {
      "image/png": "[encoded data removed]",
      "text/plain": [
       "<matplotlib.figure.Figure at 0x12c013048>"
      ]
     },
     "metadata": {},
     "output_type": "display_data"
    }
   ],
   "source": [
    "plt.xlim(0,100)\n",
    "plt.hist([fail,succ], bins = 15, normed=True, label=['0','1'])\n",
    "\n",
    "plt.legend()\n",
    "plt.xlabel('bounce (pips) (<=4000)')\n",
    "plt.ylabel('Normalized Freq')\n",
    "plt.title('Hist for normalized bounce (pips) depending on the outcome')"
   ]
  },
  {
   "cell_type": "markdown",
   "metadata": {},
   "source": [
    "### entry_aligned\n",
    "Is the entry aligned with previous bounces on the same trend. TRUE or 1 if it is, FALSE or 0 if it is not"
   ]
  },
  {
   "cell_type": "markdown",
   "metadata": {},
   "source": [
    "Let's compare the proportions for this variable between the 2 categories of the `outcome` variable"
   ]
  },
  {
   "cell_type": "code",
   "execution_count": 1337,
   "metadata": {},
   "outputs": [
    {
     "name": "stdout",
     "output_type": "stream",
     "text": [
      "entry_aligned   0   1  All\n",
      "ext_outcome               \n",
      "0               8   6   14\n",
      "1              12  32   44\n",
      "All            20  38   58\n"
     ]
    }
   ],
   "source": [
    "div_class=pd.crosstab(contDF.iloc[:,outcome_ix], contDF['entry_aligned'],margins=True)\n",
    "print(div_class)"
   ]
  },
  {
   "cell_type": "markdown",
   "metadata": {},
   "source": [
    "It's is easier to visualize the relationship if we calculate the percentages:"
   ]
  },
  {
   "cell_type": "code",
   "execution_count": 1338,
   "metadata": {},
   "outputs": [
    {
     "name": "stdout",
     "output_type": "stream",
     "text": [
      "entry_aligned      0           1         All\n",
      "ext_outcome                                 \n",
      "0               40.0   15.789474   24.137931\n",
      "1               60.0   84.210526   75.862069\n",
      "All            100.0  100.000000  100.000000\n"
     ]
    }
   ],
   "source": [
    "propStrength=(div_class/div_class.loc[\"All\"])*100\n",
    "print(propStrength)"
   ]
  },
  {
   "cell_type": "markdown",
   "metadata": {},
   "source": [
    "* Conclusion <br>\n",
    "There is a clear relationship between succesful trades and `entry_aligned=1`"
   ]
  },
  {
   "cell_type": "markdown",
   "metadata": {},
   "source": [
    "### Trend bounces\n",
    "Discrete variable representing the number of bounces at the trend. This variable only makes sense when entry_aligned=1"
   ]
  },
  {
   "cell_type": "code",
   "execution_count": 1339,
   "metadata": {},
   "outputs": [],
   "source": [
    "contDF_entryaligned=contDF[contDF.entry_aligned == 1]"
   ]
  },
  {
   "cell_type": "code",
   "execution_count": 1340,
   "metadata": {},
   "outputs": [
    {
     "data": {
      "image/png": "[encoded data removed]",
      "text/plain": [
       "<matplotlib.figure.Figure at 0x12a5b3320>"
      ]
     },
     "metadata": {},
     "output_type": "display_data"
    }
   ],
   "source": [
    "ax = sns.boxplot(x=outcome_lab, y=\"trend_bounces\", data=contDF_entryaligned)"
   ]
  },
  {
   "cell_type": "markdown",
   "metadata": {},
   "source": [
    "* Mean for each category"
   ]
  },
  {
   "cell_type": "code",
   "execution_count": 1341,
   "metadata": {},
   "outputs": [
    {
     "data": {
      "text/html": [
       "<div>\n",
       "<style scoped>\n",
       "    .dataframe tbody tr th:only-of-type {\n",
       "        vertical-align: middle;\n",
       "    }\n",
       "\n",
       "    .dataframe tbody tr th {\n",
       "        vertical-align: top;\n",
       "    }\n",
       "\n",
       "    .dataframe thead th {\n",
       "        text-align: right;\n",
       "    }\n",
       "</style>\n",
       "<table border=\"1\" class=\"dataframe\">\n",
       "  <thead>\n",
       "    <tr style=\"text-align: right;\">\n",
       "      <th></th>\n",
       "      <th>trend_bounces</th>\n",
       "    </tr>\n",
       "    <tr>\n",
       "      <th>ext_outcome</th>\n",
       "      <th></th>\n",
       "    </tr>\n",
       "  </thead>\n",
       "  <tbody>\n",
       "    <tr>\n",
       "      <th>0</th>\n",
       "      <td>1.166667</td>\n",
       "    </tr>\n",
       "    <tr>\n",
       "      <th>1</th>\n",
       "      <td>1.343750</td>\n",
       "    </tr>\n",
       "  </tbody>\n",
       "</table>\n",
       "</div>"
      ],
      "text/plain": [
       "             trend_bounces\n",
       "ext_outcome               \n",
       "0                 1.166667\n",
       "1                 1.343750"
      ]
     },
     "execution_count": 1341,
     "metadata": {},
     "output_type": "execute_result"
    }
   ],
   "source": [
    "contDF_entryaligned.groupby(outcome_lab).agg({'trend_bounces': 'mean'})"
   ]
  },
  {
   "cell_type": "markdown",
   "metadata": {},
   "source": [
    "* Median for each category"
   ]
  },
  {
   "cell_type": "code",
   "execution_count": 1342,
   "metadata": {},
   "outputs": [
    {
     "name": "stdout",
     "output_type": "stream",
     "text": [
      "             trend_bounces\n",
      "ext_outcome               \n",
      "0                      1.0\n",
      "1                      1.0\n"
     ]
    }
   ],
   "source": [
    "medianBounce=contDF_entryaligned.groupby(outcome_lab).agg({'trend_bounces': 'median'})\n",
    "print(medianBounce)"
   ]
  },
  {
   "cell_type": "markdown",
   "metadata": {},
   "source": [
    "* Distribution of the number of bounces<br>\n",
    "For this particular task I will create a count plot in order to plot the RSI bounces for both the successful and the failed trades"
   ]
  },
  {
   "cell_type": "code",
   "execution_count": 1343,
   "metadata": {},
   "outputs": [
    {
     "data": {
      "image/png": "[encoded data removed]",
      "text/plain": [
       "<matplotlib.figure.Figure at 0x12c110ac8>"
      ]
     },
     "metadata": {},
     "output_type": "display_data"
    }
   ],
   "source": [
    "ax = sns.countplot(x=\"trend_bounces\",hue=outcome_lab, data=contDF_entryaligned)"
   ]
  },
  {
   "cell_type": "markdown",
   "metadata": {},
   "source": [
    "Now, let's calculate the normalized number of bounces, as the 2 categories of the outcome variables are imbalanced"
   ]
  },
  {
   "cell_type": "code",
   "execution_count": 1344,
   "metadata": {},
   "outputs": [
    {
     "data": {
      "image/png": "[encoded data removed]",
      "text/plain": [
       "<matplotlib.figure.Figure at 0x12c2e2ef0>"
      ]
     },
     "metadata": {},
     "output_type": "display_data"
    }
   ],
   "source": [
    "contDF_counts = (contDF_entryaligned.groupby([outcome_lab])['trend_bounces']\n",
    "                  .value_counts(normalize=True)\n",
    "                  .rename('percentage')\n",
    "                  .mul(100)\n",
    "                  .reset_index()\n",
    "                  .sort_values('trend_bounces'))\n",
    "\n",
    "p = sns.barplot(x=\"trend_bounces\", y=\"percentage\", hue=outcome_lab, data=contDF_counts)"
   ]
  },
  {
   "cell_type": "markdown",
   "metadata": {},
   "source": [
    "* Histogram"
   ]
  },
  {
   "cell_type": "code",
   "execution_count": 1345,
   "metadata": {},
   "outputs": [],
   "source": [
    "import matplotlib.pyplot as plt\n",
    "\n",
    "succ=contDF_entryaligned.loc[contDF_entryaligned[outcome_lab]==1]['trend_bounces']\n",
    "fail=contDF_entryaligned.loc[contDF_entryaligned[outcome_lab]==0]['trend_bounces']"
   ]
  },
  {
   "cell_type": "code",
   "execution_count": 1346,
   "metadata": {},
   "outputs": [
    {
     "data": {
      "text/plain": [
       "<matplotlib.text.Text at 0x12c5cb1d0>"
      ]
     },
     "execution_count": 1346,
     "metadata": {},
     "output_type": "execute_result"
    },
    {
     "data": {
      "image/png": "[encoded data removed]",
      "text/plain": [
       "<matplotlib.figure.Figure at 0x12c505438>"
      ]
     },
     "metadata": {},
     "output_type": "display_data"
    }
   ],
   "source": [
    "plt.hist([fail,succ], bins = 10, normed=True, label=['0','1'])\n",
    "\n",
    "plt.legend()\n",
    "plt.xlabel('trend_bounces')\n",
    "plt.ylabel('Normalized Freq')\n",
    "plt.title('Hist for Trend bounces on the outcome')"
   ]
  },
  {
   "cell_type": "markdown",
   "metadata": {},
   "source": [
    "### Indecission\n",
    "Number of candles the price stays in S/R"
   ]
  },
  {
   "cell_type": "code",
   "execution_count": 1347,
   "metadata": {},
   "outputs": [
    {
     "data": {
      "image/png": "[encoded data removed]",
      "text/plain": [
       "<matplotlib.figure.Figure at 0x12c299278>"
      ]
     },
     "metadata": {},
     "output_type": "display_data"
    }
   ],
   "source": [
    "ax = sns.boxplot(x=outcome_lab, y=\"indecission\", data=contDF)"
   ]
  },
  {
   "cell_type": "markdown",
   "metadata": {},
   "source": [
    "* Mean for each category"
   ]
  },
  {
   "cell_type": "code",
   "execution_count": 1348,
   "metadata": {},
   "outputs": [
    {
     "data": {
      "text/html": [
       "<div>\n",
       "<style scoped>\n",
       "    .dataframe tbody tr th:only-of-type {\n",
       "        vertical-align: middle;\n",
       "    }\n",
       "\n",
       "    .dataframe tbody tr th {\n",
       "        vertical-align: top;\n",
       "    }\n",
       "\n",
       "    .dataframe thead th {\n",
       "        text-align: right;\n",
       "    }\n",
       "</style>\n",
       "<table border=\"1\" class=\"dataframe\">\n",
       "  <thead>\n",
       "    <tr style=\"text-align: right;\">\n",
       "      <th></th>\n",
       "      <th>indecission</th>\n",
       "    </tr>\n",
       "    <tr>\n",
       "      <th>ext_outcome</th>\n",
       "      <th></th>\n",
       "    </tr>\n",
       "  </thead>\n",
       "  <tbody>\n",
       "    <tr>\n",
       "      <th>0</th>\n",
       "      <td>2.428571</td>\n",
       "    </tr>\n",
       "    <tr>\n",
       "      <th>1</th>\n",
       "      <td>1.931818</td>\n",
       "    </tr>\n",
       "  </tbody>\n",
       "</table>\n",
       "</div>"
      ],
      "text/plain": [
       "             indecission\n",
       "ext_outcome             \n",
       "0               2.428571\n",
       "1               1.931818"
      ]
     },
     "execution_count": 1348,
     "metadata": {},
     "output_type": "execute_result"
    }
   ],
   "source": [
    "contDF.groupby(outcome_lab).agg({'indecission': 'mean'})"
   ]
  },
  {
   "cell_type": "markdown",
   "metadata": {},
   "source": [
    "* Median for each category"
   ]
  },
  {
   "cell_type": "code",
   "execution_count": 1349,
   "metadata": {},
   "outputs": [
    {
     "name": "stdout",
     "output_type": "stream",
     "text": [
      "             indecission\n",
      "ext_outcome             \n",
      "0                    1.5\n",
      "1                    1.0\n"
     ]
    }
   ],
   "source": [
    "medianBounce=contDF.groupby(outcome_lab).agg({'indecission': 'median'})\n",
    "print(medianBounce)"
   ]
  },
  {
   "cell_type": "markdown",
   "metadata": {},
   "source": [
    "* Distribution of the number of bounces<br>\n",
    "For this particular task I will create a count plot in order to plot the RSI bounces for both the successful and the failed trades"
   ]
  },
  {
   "cell_type": "code",
   "execution_count": 1350,
   "metadata": {},
   "outputs": [
    {
     "data": {
      "image/png": "[encoded data removed]",
      "text/plain": [
       "<matplotlib.figure.Figure at 0x12c7adf28>"
      ]
     },
     "metadata": {},
     "output_type": "display_data"
    }
   ],
   "source": [
    "ax = sns.countplot(x=\"indecission\",hue=outcome_lab, data=contDF)"
   ]
  },
  {
   "cell_type": "markdown",
   "metadata": {},
   "source": [
    "Now, let's calculate the normalized number of bounces, as the 2 categories of the outcome variables are imbalanced"
   ]
  },
  {
   "cell_type": "code",
   "execution_count": 1351,
   "metadata": {},
   "outputs": [
    {
     "data": {
      "image/png": "[encoded data removed]",
      "text/plain": [
       "<matplotlib.figure.Figure at 0x12c70ea20>"
      ]
     },
     "metadata": {},
     "output_type": "display_data"
    }
   ],
   "source": [
    "contDF_counts = (contDF.groupby([outcome_lab])['indecission']\n",
    "                  .value_counts(normalize=True)\n",
    "                  .rename('percentage')\n",
    "                  .mul(100)\n",
    "                  .reset_index()\n",
    "                  .sort_values('indecission'))\n",
    "\n",
    "p = sns.barplot(x=\"indecission\", y=\"percentage\", hue=outcome_lab, data=contDF_counts)"
   ]
  },
  {
   "cell_type": "markdown",
   "metadata": {},
   "source": [
    "* Histogram"
   ]
  },
  {
   "cell_type": "code",
   "execution_count": 1352,
   "metadata": {},
   "outputs": [],
   "source": [
    "import matplotlib.pyplot as plt\n",
    "\n",
    "succ=contDF.loc[contDF[outcome_lab]==1]['indecission']\n",
    "fail=contDF.loc[contDF[outcome_lab]==0]['indecission']"
   ]
  },
  {
   "cell_type": "code",
   "execution_count": 1353,
   "metadata": {},
   "outputs": [
    {
     "data": {
      "text/plain": [
       "<matplotlib.text.Text at 0x12caf5710>"
      ]
     },
     "execution_count": 1353,
     "metadata": {},
     "output_type": "execute_result"
    },
    {
     "data": {
      "image/png": "[encoded data removed]",
      "text/plain": [
       "<matplotlib.figure.Figure at 0x12cab84e0>"
      ]
     },
     "metadata": {},
     "output_type": "display_data"
    }
   ],
   "source": [
    "plt.hist([fail,succ], bins = 10, normed=True, label=['0','1'])\n",
    "\n",
    "plt.legend()\n",
    "plt.xlabel('indecission')\n",
    "plt.ylabel('Normalized Freq')\n",
    "plt.title('Hist for Indecission candles on the outcome')"
   ]
  },
  {
   "cell_type": "markdown",
   "metadata": {},
   "source": [
    "### Inn_bounce/Indecisison ratio\n",
    "Float variable representing the ratio between the internal bounce divided by the indecission ratio"
   ]
  },
  {
   "cell_type": "code",
   "execution_count": 1354,
   "metadata": {},
   "outputs": [],
   "source": [
    "contDF['bounce_ratio']=contDF['inn_bounce']/contDF['indecission']"
   ]
  },
  {
   "cell_type": "code",
   "execution_count": 1355,
   "metadata": {},
   "outputs": [
    {
     "data": {
      "image/png": "[encoded data removed]",
      "text/plain": [
       "<matplotlib.figure.Figure at 0x12bd79c50>"
      ]
     },
     "metadata": {},
     "output_type": "display_data"
    }
   ],
   "source": [
    "ax = sns.boxplot(x=outcome_lab, y=\"bounce_ratio\", data=contDF)"
   ]
  },
  {
   "cell_type": "markdown",
   "metadata": {},
   "source": [
    "* Mean for each category"
   ]
  },
  {
   "cell_type": "code",
   "execution_count": 1356,
   "metadata": {},
   "outputs": [
    {
     "data": {
      "text/html": [
       "<div>\n",
       "<style scoped>\n",
       "    .dataframe tbody tr th:only-of-type {\n",
       "        vertical-align: middle;\n",
       "    }\n",
       "\n",
       "    .dataframe tbody tr th {\n",
       "        vertical-align: top;\n",
       "    }\n",
       "\n",
       "    .dataframe thead th {\n",
       "        text-align: right;\n",
       "    }\n",
       "</style>\n",
       "<table border=\"1\" class=\"dataframe\">\n",
       "  <thead>\n",
       "    <tr style=\"text-align: right;\">\n",
       "      <th></th>\n",
       "      <th>bounce_ratio</th>\n",
       "    </tr>\n",
       "    <tr>\n",
       "      <th>ext_outcome</th>\n",
       "      <th></th>\n",
       "    </tr>\n",
       "  </thead>\n",
       "  <tbody>\n",
       "    <tr>\n",
       "      <th>0</th>\n",
       "      <td>4.453571</td>\n",
       "    </tr>\n",
       "    <tr>\n",
       "      <th>1</th>\n",
       "      <td>5.146930</td>\n",
       "    </tr>\n",
       "  </tbody>\n",
       "</table>\n",
       "</div>"
      ],
      "text/plain": [
       "             bounce_ratio\n",
       "ext_outcome              \n",
       "0                4.453571\n",
       "1                5.146930"
      ]
     },
     "execution_count": 1356,
     "metadata": {},
     "output_type": "execute_result"
    }
   ],
   "source": [
    "contDF.groupby(outcome_lab).agg({'bounce_ratio': 'mean'})"
   ]
  },
  {
   "cell_type": "markdown",
   "metadata": {},
   "source": [
    "* Median for each category"
   ]
  },
  {
   "cell_type": "code",
   "execution_count": 1357,
   "metadata": {},
   "outputs": [
    {
     "data": {
      "text/html": [
       "<div>\n",
       "<style scoped>\n",
       "    .dataframe tbody tr th:only-of-type {\n",
       "        vertical-align: middle;\n",
       "    }\n",
       "\n",
       "    .dataframe tbody tr th {\n",
       "        vertical-align: top;\n",
       "    }\n",
       "\n",
       "    .dataframe thead th {\n",
       "        text-align: right;\n",
       "    }\n",
       "</style>\n",
       "<table border=\"1\" class=\"dataframe\">\n",
       "  <thead>\n",
       "    <tr style=\"text-align: right;\">\n",
       "      <th></th>\n",
       "      <th>bounce_ratio</th>\n",
       "    </tr>\n",
       "    <tr>\n",
       "      <th>ext_outcome</th>\n",
       "      <th></th>\n",
       "    </tr>\n",
       "  </thead>\n",
       "  <tbody>\n",
       "    <tr>\n",
       "      <th>0</th>\n",
       "      <td>4.250</td>\n",
       "    </tr>\n",
       "    <tr>\n",
       "      <th>1</th>\n",
       "      <td>4.375</td>\n",
       "    </tr>\n",
       "  </tbody>\n",
       "</table>\n",
       "</div>"
      ],
      "text/plain": [
       "             bounce_ratio\n",
       "ext_outcome              \n",
       "0                   4.250\n",
       "1                   4.375"
      ]
     },
     "execution_count": 1357,
     "metadata": {},
     "output_type": "execute_result"
    }
   ],
   "source": [
    "contDF.groupby(outcome_lab).agg({'bounce_ratio': 'median'})"
   ]
  },
  {
   "cell_type": "markdown",
   "metadata": {},
   "source": [
    "Let's analyze the distribution with a histogram"
   ]
  },
  {
   "cell_type": "code",
   "execution_count": 1358,
   "metadata": {},
   "outputs": [],
   "source": [
    "succ=contDF.loc[contDF[outcome_lab]==1]['bounce_ratio']\n",
    "fail=contDF.loc[contDF[outcome_lab]==0]['bounce_ratio']"
   ]
  },
  {
   "cell_type": "code",
   "execution_count": 1359,
   "metadata": {},
   "outputs": [
    {
     "data": {
      "text/plain": [
       "<matplotlib.text.Text at 0x12ce04e80>"
      ]
     },
     "execution_count": 1359,
     "metadata": {},
     "output_type": "execute_result"
    },
    {
     "data": {
      "image/png": "[encoded data removed]",
      "text/plain": [
       "<matplotlib.figure.Figure at 0x12c7cee80>"
      ]
     },
     "metadata": {},
     "output_type": "display_data"
    }
   ],
   "source": [
    "plt.hist([fail,succ], bins = 15, normed=True, label=['0','1'])\n",
    "\n",
    "plt.legend()\n",
    "plt.xlabel('Bounce ratio')\n",
    "plt.ylabel('Normalized Freq')\n",
    "plt.title('Hist for Bounce ratio on the outcome')"
   ]
  },
  {
   "cell_type": "code",
   "execution_count": 1360,
   "metadata": {},
   "outputs": [
    {
     "data": {
      "text/plain": [
       "<matplotlib.text.Text at 0x12cedc400>"
      ]
     },
     "execution_count": 1360,
     "metadata": {},
     "output_type": "execute_result"
    },
    {
     "data": {
      "image/png": "[encoded data removed]",
      "text/plain": [
       "<matplotlib.figure.Figure at 0x12cf4c160>"
      ]
     },
     "metadata": {},
     "output_type": "display_data"
    }
   ],
   "source": [
    "plt.xlim(0,20)\n",
    "plt.hist([fail,succ], bins = 15, normed=True, label=['0','1'])\n",
    "\n",
    "plt.legend()\n",
    "plt.xlabel('Bounce ratio')\n",
    "plt.ylabel('Normalized Freq')\n",
    "plt.title('Hist for Bounce ratio depending on the outcome')"
   ]
  },
  {
   "cell_type": "markdown",
   "metadata": {},
   "source": [
    "## Calculating points\n",
    "This section will calculate a total score for each trade that will be used to predict the outcome.<br>"
   ]
  },
  {
   "cell_type": "markdown",
   "metadata": {},
   "source": [
    "First, let's create a function to calculate the points"
   ]
  },
  {
   "cell_type": "code",
   "execution_count": 1361,
   "metadata": {},
   "outputs": [],
   "source": [
    "def calculate_points(row,attribs):\n",
    "    '''\n",
    "    Function to calculate the points for a particular trade\n",
    "    \n",
    "    Parameters\n",
    "    ----------\n",
    "    row : dataframe row\n",
    "    attribs : list of dicts\n",
    "              The dict has the following format:\n",
    "              {'attr' : 'RSI bounces',\n",
    "               'cutoff' : [(0,6), (7,10), (11,100000)],\n",
    "               'points' : [2,-2,-3]}\n",
    "               \n",
    "    Returns\n",
    "    -------\n",
    "    Returns a score for this trade\n",
    "    \n",
    "    '''\n",
    "    score=0\n",
    "    for a in attribs:\n",
    "        value=row[a['attr']]\n",
    "        cutoffs=a['cutoffs']\n",
    "        points=a['points']\n",
    "        if cutoffs =='bool':\n",
    "            if a['rel'] == 'is_true':\n",
    "                if value == True or value == 1:\n",
    "                    score+=points\n",
    "                if value == False  or value == 0:\n",
    "                    score+=-1*points\n",
    "        else:\n",
    "            if len(cutoffs)!= len(points):\n",
    "                raise Exception(\"Length of cutoffs is different to length of points\")\n",
    "            for i, j in zip(cutoffs, points):\n",
    "                if value>=i[0] and value<=i[1]:\n",
    "                    score+=j\n",
    "                \n",
    "    return score"
   ]
  },
  {
   "cell_type": "code",
   "execution_count": 1362,
   "metadata": {},
   "outputs": [],
   "source": [
    "# ALL\n",
    "attbs=[]\n",
    "\n",
    "attbs.append({\n",
    "        'attr' : 'diff',\n",
    "        'cutoffs' : [(0,700),(701,100000)],\n",
    "        'points' : [1,-1]\n",
    "        })\n",
    "attbs.append({\n",
    "        'attr' : 'RSI bounces',\n",
    "        'cutoffs' : [(0,2), (3,3), (4,100000)],\n",
    "        'points' : [2,-1,-2]\n",
    "        })\n",
    "attbs.append({\n",
    "        'attr' : 'entry on RSI',\n",
    "        'cutoffs' : 'bool',\n",
    "        'rel' : 'is_true',\n",
    "        'points' : 3\n",
    "        })\n",
    "attbs.append({\n",
    "        'attr' : 'length of trend (-1)',\n",
    "        'cutoffs' : [(0,10),(11,25),(26,35),(36,60),(61,10000)],\n",
    "        'points' : [-1,2,1,-1,-2]\n",
    "        })\n",
    "attbs.append( {\n",
    "        'attr' : 'inn_bounce',\n",
    "        'cutoffs' : [(0,7),(8,1000000)],\n",
    "        'points' : [2,-2]\n",
    "        })\n",
    "attbs.append( {\n",
    "        'attr' : 'pips_ratio_norm',\n",
    "        'cutoffs' : [(0,3),(4,30)],\n",
    "        'points' : [-2,2]\n",
    "        })\n",
    "attbs.append( {\n",
    "        'attr' : 'sum_bounces',\n",
    "        'cutoffs' : [(0,7),(8,100000)],\n",
    "        'points' : [2,-2]\n",
    "        })\n",
    "attbs.append( {\n",
    "        'attr' : 'norm_bounce_pips',\n",
    "        'cutoffs' : [(0,48),(49,1000)],\n",
    "        'points' : [2,-2]\n",
    "        })\n",
    "attbs.append( {\n",
    "        'attr' : 'entry_aligned',\n",
    "        'cutoffs' : 'bool',\n",
    "        'rel' : 'is_true',\n",
    "        'points' : 6\n",
    "        })\n",
    "attbs.append( {\n",
    "        'attr' : 'indecission',\n",
    "        'cutoffs' : [(0,3),(4,5),(6,100)],\n",
    "        'points' : [1,-1,-2]\n",
    "        })\n",
    "attbs.append( {\n",
    "        'attr' : 'bounce_ratio',\n",
    "        'cutoffs' : [(0,3),(4,10000)],\n",
    "        'points' : [-2,2]\n",
    "        })"
   ]
  },
  {
   "cell_type": "markdown",
   "metadata": {},
   "source": [
    "# D\n",
    "attbs=[]\n",
    "\n",
    "attbs.append({\n",
    "        'attr' : 'diff',\n",
    "        'cutoffs' : [(0,300),(301,100000)],\n",
    "        'points' : [2,-2]\n",
    "        })\n",
    "attbs.append({\n",
    "        'attr' : 'RSI bounces',\n",
    "        'cutoffs' : [(0,2), (3,3), (4,100000)],\n",
    "        'points' : [2,-1,-2]\n",
    "        })\n",
    "attbs.append({\n",
    "        'attr' : 'entry on RSI',\n",
    "        'cutoffs' : 'bool',\n",
    "        'rel' : 'is_true',\n",
    "        'points' : 3\n",
    "        })\n",
    "attbs.append( {\n",
    "        'attr' : 'length of trend (-1)',\n",
    "        'cutoffs' : [(0,10),(11,14),(15,23),(24,50),(51,10000)],\n",
    "        'points' : [-1,1,2,1,-2]\n",
    "        })\n",
    "attbs.append( {\n",
    "        'attr' : 'inn_bounce',\n",
    "        'cutoffs' : [(0,7),(8,1000000)],\n",
    "        'points' : [2,-2]\n",
    "        })\n",
    "attbs.append( {\n",
    "        'attr' : 'pips_ratio',\n",
    "        'cutoffs' : [(0,150),(151,220),(221,1000000000000)],\n",
    "        'points' : [-2,1,2]\n",
    "        })\n",
    "attbs.append( {\n",
    "        'attr' : 'sum_bounces',\n",
    "        'cutoffs' : [(0,6),(7,1000000)],\n",
    "        'points' : [2,-2]\n",
    "        })\n",
    "attbs.append( {\n",
    "        'attr' : 'bounce (pips)',\n",
    "        'cutoffs' : [(0,800),(801,1000000)],\n",
    "        'points' : [2,-2]\n",
    "        })\n",
    "attbs.append( {\n",
    "        'attr' : 'entry_aligned',\n",
    "        'cutoffs' : 'bool',\n",
    "        'rel' : 'is_true',\n",
    "        'points' : 6\n",
    "        })\n",
    "attbs.append( {\n",
    "        'attr' : 'indecission',\n",
    "        'cutoffs' : [(0,3),(4,20)],\n",
    "        'points' : [2,-2]\n",
    "        })\n",
    "attbs.append( {\n",
    "        'attr' : 'bounce_ratio',\n",
    "        'cutoffs' : [(0,4),(5,10000)],\n",
    "        'points' : [-2,2]\n",
    "        })"
   ]
  },
  {
   "cell_type": "markdown",
   "metadata": {},
   "source": [
    "# H12\n",
    "attbs=[]\n",
    "\n",
    "attbs.append({\n",
    "        'attr' : 'diff',\n",
    "        'cutoffs' : [(0,600),(601,100000)],\n",
    "        'points' : [2,-2]\n",
    "        })\n",
    "attbs.append({\n",
    "        'attr' : 'RSI bounces',\n",
    "        'cutoffs' : [(0,1),(2,2),(3,6),(7,100000)],\n",
    "        'points' : [2,1,-1,-2]\n",
    "        })\n",
    "attbs.append({\n",
    "        'attr' : 'entry on RSI',\n",
    "        'cutoffs' : 'bool',\n",
    "        'rel' : 'is_true',\n",
    "        'points' : 3\n",
    "        })\n",
    "attbs.append( {\n",
    "        'attr' : 'length of trend (-1)',\n",
    "        'cutoffs' : [(0,9), (10,99),(100,1000000)],\n",
    "        'points' : [-1,1,-1]\n",
    "        })\n",
    "attbs.append( {\n",
    "        'attr' : 'inn_bounce',\n",
    "        'cutoffs' : [(0,7),(8,1000000)],\n",
    "        'points' : [2,-2]\n",
    "        })\n",
    "attbs.append( {\n",
    "        'attr' : 'pips_ratio',\n",
    "        'cutoffs' : [(0,150),(151,1000000000000)],\n",
    "        'points' : [-2,2]\n",
    "        })\n",
    "attbs.append( {\n",
    "        'attr' : 'sum_bounces',\n",
    "        'cutoffs' : [(0,4),(5,100000)],\n",
    "        'points' : [2,-2]\n",
    "        })\n",
    "attbs.append( {\n",
    "        'attr' : 'bounce (pips)',\n",
    "        'cutoffs' : [(0,900),(901,1000000)],\n",
    "        'points' : [2,-2]\n",
    "        })\n",
    "attbs.append( {\n",
    "        'attr' : 'entry_aligned',\n",
    "        'cutoffs' : 'bool',\n",
    "        'rel' : 'is_true',\n",
    "        'points' : 6\n",
    "        })\n",
    "attbs.append( {\n",
    "        'attr' : 'indecission',\n",
    "        'cutoffs' : [(0,5),(6,20)],\n",
    "        'points' : [2,-2]\n",
    "        })\n",
    "attbs.append( {\n",
    "        'attr' : 'bounce_ratio',\n",
    "        'cutoffs' : [(0,6),(7,10000)],\n",
    "        'points' : [2,-2]\n",
    "        })"
   ]
  },
  {
   "cell_type": "markdown",
   "metadata": {},
   "source": [
    "#H6\n",
    "attbs=[]\n",
    "\n",
    "attbs.append({\n",
    "        'attr' : 'diff',\n",
    "        'cutoffs' : [(0,350),(351,1000000)],\n",
    "        'points' : [-2,2]\n",
    "        })\n",
    "attbs.append({\n",
    "        'attr' : 'RSI bounces',\n",
    "        'cutoffs' : [(0,0),(1,3),(4,1000)],\n",
    "        'points' : [-1,2,-1]\n",
    "        })\n",
    "attbs.append({\n",
    "        'attr' : 'entry on RSI',\n",
    "        'cutoffs' : 'bool',\n",
    "        'rel' : 'is_true',\n",
    "        'points' : 3\n",
    "        })\n",
    "attbs.append( {\n",
    "        'attr' : 'inn_bounce',\n",
    "        'cutoffs' : [(0,5),(6,1000)],\n",
    "        'points' : [2,-2]\n",
    "        })\n",
    "attbs.append( {\n",
    "        'attr' : 'pips_ratio',\n",
    "        'cutoffs' : [(0,100),(101,10000)],\n",
    "        'points' : [-1,1]\n",
    "        })\n",
    "attbs.append( {\n",
    "        'attr' : 'sum_bounces',\n",
    "        'cutoffs' : [(0,3),(4,100000)],\n",
    "        'points' : [2,-2]\n",
    "        })\n",
    "attbs.append( {\n",
    "        'attr' : 'bounce (pips)',\n",
    "        'cutoffs' : [(0,600),(601,1000000)],\n",
    "        'points' : [2,-2]\n",
    "        })\n",
    "attbs.append( {\n",
    "        'attr' : 'entry_aligned',\n",
    "        'cutoffs' : 'bool',\n",
    "        'rel' : 'is_true',\n",
    "        'points' : 6\n",
    "        })\n",
    "attbs.append( {\n",
    "        'attr' : 'indecission',\n",
    "        'cutoffs' : [(0,1),(2,10)],\n",
    "        'points' : [2,-2]\n",
    "        })\n",
    "attbs.append( {\n",
    "        'attr' : 'bounce_ratio',\n",
    "        'cutoffs' : [(0,5),(6,1000)],\n",
    "        'points' : [-2,2]\n",
    "        })"
   ]
  },
  {
   "cell_type": "markdown",
   "metadata": {},
   "source": [
    "Now, let's apply the calculate_points on each row of the dataframe"
   ]
  },
  {
   "cell_type": "code",
   "execution_count": 1363,
   "metadata": {},
   "outputs": [],
   "source": [
    "contDF['score']=contDF.apply(calculate_points, axis=1, attribs=attbs)"
   ]
  },
  {
   "cell_type": "markdown",
   "metadata": {},
   "source": [
    "Examining trades with score above the chosen cutoff but failing:"
   ]
  },
  {
   "cell_type": "code",
   "execution_count": 1364,
   "metadata": {},
   "outputs": [
    {
     "name": "stdout",
     "output_type": "stream",
     "text": [
      "ext_outcome\n"
     ]
    },
    {
     "data": {
      "text/html": [
       "<div>\n",
       "<style scoped>\n",
       "    .dataframe tbody tr th:only-of-type {\n",
       "        vertical-align: middle;\n",
       "    }\n",
       "\n",
       "    .dataframe tbody tr th {\n",
       "        vertical-align: top;\n",
       "    }\n",
       "\n",
       "    .dataframe thead th {\n",
       "        text-align: right;\n",
       "    }\n",
       "</style>\n",
       "<table border=\"1\" class=\"dataframe\">\n",
       "  <thead>\n",
       "    <tr style=\"text-align: right;\">\n",
       "      <th></th>\n",
       "      <th>id</th>\n",
       "      <th>start</th>\n",
       "      <th>type</th>\n",
       "      <th>timeframe</th>\n",
       "      <th>entry</th>\n",
       "      <th>outcome</th>\n",
       "      <th>RSI bounces</th>\n",
       "      <th>bounce length</th>\n",
       "      <th>bounce (pips)</th>\n",
       "      <th>inn_bounce</th>\n",
       "      <th>...</th>\n",
       "      <th>norm_length_pips</th>\n",
       "      <th>norm_bounce_pips</th>\n",
       "      <th>norm_retraced</th>\n",
       "      <th>ext_outcome</th>\n",
       "      <th>diff</th>\n",
       "      <th>pips_ratio</th>\n",
       "      <th>pips_ratio_norm</th>\n",
       "      <th>sum_bounces</th>\n",
       "      <th>bounce_ratio</th>\n",
       "      <th>score</th>\n",
       "    </tr>\n",
       "  </thead>\n",
       "  <tbody>\n",
       "    <tr>\n",
       "      <th>301</th>\n",
       "      <td>EUR_AUD 25JUL2010H6</td>\n",
       "      <td>2010-07-25 15:00:00</td>\n",
       "      <td>short</td>\n",
       "      <td>H6</td>\n",
       "      <td>1.43966</td>\n",
       "      <td>0</td>\n",
       "      <td>0</td>\n",
       "      <td>0</td>\n",
       "      <td>704</td>\n",
       "      <td>4</td>\n",
       "      <td>...</td>\n",
       "      <td>115.88</td>\n",
       "      <td>14.67</td>\n",
       "      <td>34.21</td>\n",
       "      <td>0</td>\n",
       "      <td>200</td>\n",
       "      <td>309.000000</td>\n",
       "      <td>6.388889</td>\n",
       "      <td>0</td>\n",
       "      <td>4.00</td>\n",
       "      <td>7</td>\n",
       "    </tr>\n",
       "    <tr>\n",
       "      <th>305</th>\n",
       "      <td>EUR_AUD 22NOV2011H6</td>\n",
       "      <td>2011-11-22 10:00:00</td>\n",
       "      <td>long</td>\n",
       "      <td>H6</td>\n",
       "      <td>1.37268</td>\n",
       "      <td>0</td>\n",
       "      <td>0</td>\n",
       "      <td>0</td>\n",
       "      <td>618</td>\n",
       "      <td>5</td>\n",
       "      <td>...</td>\n",
       "      <td>91.73</td>\n",
       "      <td>12.88</td>\n",
       "      <td>NaN</td>\n",
       "      <td>0</td>\n",
       "      <td>316</td>\n",
       "      <td>231.736842</td>\n",
       "      <td>4.789474</td>\n",
       "      <td>0</td>\n",
       "      <td>5.00</td>\n",
       "      <td>13</td>\n",
       "    </tr>\n",
       "    <tr>\n",
       "      <th>315</th>\n",
       "      <td>EUR_AUD 14SEP2016H6</td>\n",
       "      <td>2016-09-14 09:00:00</td>\n",
       "      <td>long</td>\n",
       "      <td>H6</td>\n",
       "      <td>1.50308</td>\n",
       "      <td>0</td>\n",
       "      <td>2</td>\n",
       "      <td>2,3</td>\n",
       "      <td>914</td>\n",
       "      <td>5</td>\n",
       "      <td>...</td>\n",
       "      <td>91.17</td>\n",
       "      <td>19.04</td>\n",
       "      <td>NaN</td>\n",
       "      <td>0</td>\n",
       "      <td>252</td>\n",
       "      <td>291.733333</td>\n",
       "      <td>6.066667</td>\n",
       "      <td>5</td>\n",
       "      <td>5.00</td>\n",
       "      <td>19</td>\n",
       "    </tr>\n",
       "    <tr>\n",
       "      <th>320</th>\n",
       "      <td>EUR_AUD 05AUG2015H6</td>\n",
       "      <td>2015-05-08 09:00:00</td>\n",
       "      <td>short</td>\n",
       "      <td>H6</td>\n",
       "      <td>1.47343</td>\n",
       "      <td>0</td>\n",
       "      <td>1</td>\n",
       "      <td>4</td>\n",
       "      <td>391</td>\n",
       "      <td>5</td>\n",
       "      <td>...</td>\n",
       "      <td>65.48</td>\n",
       "      <td>8.15</td>\n",
       "      <td>NaN</td>\n",
       "      <td>0</td>\n",
       "      <td>121</td>\n",
       "      <td>523.833333</td>\n",
       "      <td>10.833333</td>\n",
       "      <td>4</td>\n",
       "      <td>5.00</td>\n",
       "      <td>16</td>\n",
       "    </tr>\n",
       "    <tr>\n",
       "      <th>321</th>\n",
       "      <td>EUR_AUD 04NOV2016H6</td>\n",
       "      <td>2016-04-11 03:00:00</td>\n",
       "      <td>long</td>\n",
       "      <td>H6</td>\n",
       "      <td>1.44820</td>\n",
       "      <td>0</td>\n",
       "      <td>0</td>\n",
       "      <td>0</td>\n",
       "      <td>1051</td>\n",
       "      <td>11</td>\n",
       "      <td>...</td>\n",
       "      <td>65.21</td>\n",
       "      <td>21.90</td>\n",
       "      <td>NaN</td>\n",
       "      <td>0</td>\n",
       "      <td>92</td>\n",
       "      <td>115.925926</td>\n",
       "      <td>2.407407</td>\n",
       "      <td>0</td>\n",
       "      <td>5.50</td>\n",
       "      <td>10</td>\n",
       "    </tr>\n",
       "    <tr>\n",
       "      <th>360</th>\n",
       "      <td>AUD_USD 22AUG2008H6</td>\n",
       "      <td>2018-08-22 10:00:00</td>\n",
       "      <td>long</td>\n",
       "      <td>H6</td>\n",
       "      <td>0.73603</td>\n",
       "      <td>0</td>\n",
       "      <td>0</td>\n",
       "      <td>0</td>\n",
       "      <td>362</td>\n",
       "      <td>7</td>\n",
       "      <td>...</td>\n",
       "      <td>30.75</td>\n",
       "      <td>7.54</td>\n",
       "      <td>NaN</td>\n",
       "      <td>0</td>\n",
       "      <td>226</td>\n",
       "      <td>73.800000</td>\n",
       "      <td>1.500000</td>\n",
       "      <td>0</td>\n",
       "      <td>1.75</td>\n",
       "      <td>9</td>\n",
       "    </tr>\n",
       "  </tbody>\n",
       "</table>\n",
       "<p>6 rows × 37 columns</p>\n",
       "</div>"
      ],
      "text/plain": [
       "                      id               start   type timeframe    entry  \\\n",
       "301  EUR_AUD 25JUL2010H6 2010-07-25 15:00:00  short        H6  1.43966   \n",
       "305  EUR_AUD 22NOV2011H6 2011-11-22 10:00:00   long        H6  1.37268   \n",
       "315  EUR_AUD 14SEP2016H6 2016-09-14 09:00:00   long        H6  1.50308   \n",
       "320  EUR_AUD 05AUG2015H6 2015-05-08 09:00:00  short        H6  1.47343   \n",
       "321  EUR_AUD 04NOV2016H6 2016-04-11 03:00:00   long        H6  1.44820   \n",
       "360  AUD_USD 22AUG2008H6 2018-08-22 10:00:00   long        H6  0.73603   \n",
       "\n",
       "     outcome  RSI bounces bounce length  bounce (pips)  inn_bounce  ...    \\\n",
       "301        0            0             0            704           4  ...     \n",
       "305        0            0             0            618           5  ...     \n",
       "315        0            2           2,3            914           5  ...     \n",
       "320        0            1             4            391           5  ...     \n",
       "321        0            0             0           1051          11  ...     \n",
       "360        0            0             0            362           7  ...     \n",
       "\n",
       "     norm_length_pips  norm_bounce_pips  norm_retraced  ext_outcome diff  \\\n",
       "301            115.88             14.67          34.21            0  200   \n",
       "305             91.73             12.88            NaN            0  316   \n",
       "315             91.17             19.04            NaN            0  252   \n",
       "320             65.48              8.15            NaN            0  121   \n",
       "321             65.21             21.90            NaN            0   92   \n",
       "360             30.75              7.54            NaN            0  226   \n",
       "\n",
       "     pips_ratio  pips_ratio_norm sum_bounces  bounce_ratio  score  \n",
       "301  309.000000         6.388889           0          4.00      7  \n",
       "305  231.736842         4.789474           0          5.00     13  \n",
       "315  291.733333         6.066667           5          5.00     19  \n",
       "320  523.833333        10.833333           4          5.00     16  \n",
       "321  115.925926         2.407407           0          5.50     10  \n",
       "360   73.800000         1.500000           0          1.75      9  \n",
       "\n",
       "[6 rows x 37 columns]"
      ]
     },
     "execution_count": 1364,
     "metadata": {},
     "output_type": "execute_result"
    }
   ],
   "source": [
    "print(outcome_lab)\n",
    "contDF.loc[(contDF[outcome_lab]==0) & (contDF['score']>3)]"
   ]
  },
  {
   "cell_type": "markdown",
   "metadata": {},
   "source": [
    "### Calculating cutoff score\n",
    "* Mean"
   ]
  },
  {
   "cell_type": "code",
   "execution_count": 1365,
   "metadata": {},
   "outputs": [
    {
     "data": {
      "text/html": [
       "<div>\n",
       "<style scoped>\n",
       "    .dataframe tbody tr th:only-of-type {\n",
       "        vertical-align: middle;\n",
       "    }\n",
       "\n",
       "    .dataframe tbody tr th {\n",
       "        vertical-align: top;\n",
       "    }\n",
       "\n",
       "    .dataframe thead th {\n",
       "        text-align: right;\n",
       "    }\n",
       "</style>\n",
       "<table border=\"1\" class=\"dataframe\">\n",
       "  <thead>\n",
       "    <tr style=\"text-align: right;\">\n",
       "      <th></th>\n",
       "      <th>score</th>\n",
       "    </tr>\n",
       "    <tr>\n",
       "      <th>ext_outcome</th>\n",
       "      <th></th>\n",
       "    </tr>\n",
       "  </thead>\n",
       "  <tbody>\n",
       "    <tr>\n",
       "      <th>0</th>\n",
       "      <td>3.285714</td>\n",
       "    </tr>\n",
       "    <tr>\n",
       "      <th>1</th>\n",
       "      <td>9.159091</td>\n",
       "    </tr>\n",
       "  </tbody>\n",
       "</table>\n",
       "</div>"
      ],
      "text/plain": [
       "                score\n",
       "ext_outcome          \n",
       "0            3.285714\n",
       "1            9.159091"
      ]
     },
     "execution_count": 1365,
     "metadata": {},
     "output_type": "execute_result"
    }
   ],
   "source": [
    "contDF.groupby(outcome_lab).agg({'score': 'mean'})"
   ]
  },
  {
   "cell_type": "markdown",
   "metadata": {},
   "source": [
    "* Median"
   ]
  },
  {
   "cell_type": "code",
   "execution_count": 1366,
   "metadata": {},
   "outputs": [
    {
     "data": {
      "text/html": [
       "<div>\n",
       "<style scoped>\n",
       "    .dataframe tbody tr th:only-of-type {\n",
       "        vertical-align: middle;\n",
       "    }\n",
       "\n",
       "    .dataframe tbody tr th {\n",
       "        vertical-align: top;\n",
       "    }\n",
       "\n",
       "    .dataframe thead th {\n",
       "        text-align: right;\n",
       "    }\n",
       "</style>\n",
       "<table border=\"1\" class=\"dataframe\">\n",
       "  <thead>\n",
       "    <tr style=\"text-align: right;\">\n",
       "      <th></th>\n",
       "      <th>score</th>\n",
       "    </tr>\n",
       "    <tr>\n",
       "      <th>ext_outcome</th>\n",
       "      <th></th>\n",
       "    </tr>\n",
       "  </thead>\n",
       "  <tbody>\n",
       "    <tr>\n",
       "      <th>0</th>\n",
       "      <td>1.5</td>\n",
       "    </tr>\n",
       "    <tr>\n",
       "      <th>1</th>\n",
       "      <td>10.5</td>\n",
       "    </tr>\n",
       "  </tbody>\n",
       "</table>\n",
       "</div>"
      ],
      "text/plain": [
       "             score\n",
       "ext_outcome       \n",
       "0              1.5\n",
       "1             10.5"
      ]
     },
     "execution_count": 1366,
     "metadata": {},
     "output_type": "execute_result"
    }
   ],
   "source": [
    "contDF.groupby(outcome_lab).agg({'score': 'median'})"
   ]
  },
  {
   "cell_type": "markdown",
   "metadata": {},
   "source": [
    "* Histogram"
   ]
  },
  {
   "cell_type": "code",
   "execution_count": 1367,
   "metadata": {},
   "outputs": [
    {
     "data": {
      "image/png": "[encoded data removed]",
      "text/plain": [
       "<matplotlib.figure.Figure at 0x12cff7b00>"
      ]
     },
     "metadata": {},
     "output_type": "display_data"
    }
   ],
   "source": [
    "axList=contDF['score'].hist(by=contDF[outcome_lab],figsize=(20,5),bins=8,normed=True)"
   ]
  },
  {
   "cell_type": "code",
   "execution_count": 1368,
   "metadata": {},
   "outputs": [],
   "source": [
    "succ=contDF.loc[contDF[outcome_lab]==1]['score']\n",
    "fail=contDF.loc[contDF[outcome_lab]==0]['score']"
   ]
  },
  {
   "cell_type": "code",
   "execution_count": 1369,
   "metadata": {},
   "outputs": [
    {
     "data": {
      "text/plain": [
       "<matplotlib.text.Text at 0x12d5f12b0>"
      ]
     },
     "execution_count": 1369,
     "metadata": {},
     "output_type": "execute_result"
    },
    {
     "data": {
      "image/png": "[encoded data removed]",
      "text/plain": [
       "<matplotlib.figure.Figure at 0x12d0597b8>"
      ]
     },
     "metadata": {},
     "output_type": "display_data"
    }
   ],
   "source": [
    "plt.hist([fail,succ], bins = 15, normed=True, label=['0','1'])\n",
    "\n",
    "plt.legend()\n",
    "plt.xlabel('Score')\n",
    "plt.ylabel('Normalized Freq')\n",
    "plt.title('Outcome of trade depending on score')"
   ]
  },
  {
   "cell_type": "markdown",
   "metadata": {},
   "source": [
    "### Making predictions and performance evaluation\n",
    "We will use different cutoffs and make predictions using these using the test set"
   ]
  },
  {
   "cell_type": "markdown",
   "metadata": {},
   "source": [
    "Let's create a new dataframe only with the columns we are interested in:"
   ]
  },
  {
   "cell_type": "code",
   "execution_count": 1370,
   "metadata": {},
   "outputs": [],
   "source": [
    "scoreDF=contDF.iloc[:,[outcome_ix,36]]"
   ]
  },
  {
   "cell_type": "code",
   "execution_count": 1371,
   "metadata": {},
   "outputs": [],
   "source": [
    "def predictOutcome(row, cutoff):\n",
    "    pred=None\n",
    "    if row['score'] >cutoff:\n",
    "        pred=1\n",
    "    else:\n",
    "        pred=0\n",
    "    return pred"
   ]
  },
  {
   "cell_type": "code",
   "execution_count": 1372,
   "metadata": {},
   "outputs": [
    {
     "name": "stderr",
     "output_type": "stream",
     "text": [
      "/Users/ernesto/bin/anaconda/envs/python3/lib/python3.5/site-packages/ipykernel_launcher.py:1: SettingWithCopyWarning: \n",
      "A value is trying to be set on a copy of a slice from a DataFrame.\n",
      "Try using .loc[row_indexer,col_indexer] = value instead\n",
      "\n",
      "See the caveats in the documentation: http://pandas.pydata.org/pandas-docs/stable/indexing.html#indexing-view-versus-copy\n",
      "  \"\"\"Entry point for launching an IPython kernel.\n"
     ]
    }
   ],
   "source": [
    "scoreDF['predict']=scoreDF.apply(predictOutcome,axis=1,cutoff=10)"
   ]
  },
  {
   "cell_type": "markdown",
   "metadata": {},
   "source": [
    "* Performance evaluation"
   ]
  },
  {
   "cell_type": "code",
   "execution_count": 1373,
   "metadata": {},
   "outputs": [
    {
     "name": "stdout",
     "output_type": "stream",
     "text": [
      "TP:22\n",
      "TN:11\n",
      "FN:22\n",
      "FP:3\n"
     ]
    }
   ],
   "source": [
    "(tn, fp, fn, tp)=confusion_matrix(scoreDF[outcome_lab], scoreDF['predict']).ravel()\n",
    "print(\"TP:\"+str(tp))\n",
    "print(\"TN:\"+str(tn))\n",
    "print(\"FN:\"+str(fn))\n",
    "print(\"FP:\"+str(fp))"
   ]
  },
  {
   "cell_type": "markdown",
   "metadata": {},
   "source": [
    "    * Precision"
   ]
  },
  {
   "cell_type": "code",
   "execution_count": 1374,
   "metadata": {},
   "outputs": [
    {
     "name": "stdout",
     "output_type": "stream",
     "text": [
      "0.88\n"
     ]
    }
   ],
   "source": [
    "print(tp/(tp+fp))"
   ]
  },
  {
   "cell_type": "markdown",
   "metadata": {},
   "source": [
    "* Recall"
   ]
  },
  {
   "cell_type": "code",
   "execution_count": 1376,
   "metadata": {},
   "outputs": [
    {
     "name": "stdout",
     "output_type": "stream",
     "text": [
      "0.5\n"
     ]
    }
   ],
   "source": [
    "print(tp/(tp+fn))"
   ]
  },
  {
   "cell_type": "markdown",
   "metadata": {},
   "source": [
    "### Cross-validation"
   ]
  },
  {
   "cell_type": "code",
   "execution_count": 1377,
   "metadata": {},
   "outputs": [],
   "source": [
    "def cross_validate(cutoff,iterations):\n",
    "    '''\n",
    "    Function that will asses the sensitivity and specificity for differnt cutoff scores\n",
    "    on different slices of the input dataframe\n",
    "    \n",
    "    Parameters\n",
    "    ----------\n",
    "    cutoff: int\n",
    "            Cut off value used for predicting a trade as S or F\n",
    "    iterations: int\n",
    "                 Number of crossvalidation iterations\n",
    "    '''\n",
    "    precision_list=[]\n",
    "    recall_list=[]\n",
    "    tp_list=[]\n",
    "    precission_list,recall_list,tn_list,fp_list,fn_list,tp_list = ([] for i in range(6))\n",
    "    \n",
    "    for i in range(0,iterations,1):\n",
    "        #print(\"[WARN]: Iteration {0}\".format(i))\n",
    "        train, test = train_test_split(contDF,\n",
    "                                       test_size=0.99)\n",
    "        test['score']=test.apply(calculate_points, axis=1, attribs=attbs)\n",
    "    \n",
    "        scoreDF=test.iloc[:,[outcome_ix,36]]\n",
    "        scoreDF['predict']=scoreDF.apply(predictOutcome,axis=1,cutoff=cutoff)\n",
    "        # assess performance\n",
    "        (tn, fp, fn, tp)=confusion_matrix(scoreDF[outcome_lab], scoreDF['predict']).ravel()\n",
    "        precision_list.append(tp/(tp+fp))\n",
    "        recall_list.append(tp/(tp+fn))\n",
    "        tn_list.append(tn)\n",
    "        fp_list.append(fp)\n",
    "        fn_list.append(fn)\n",
    "        tp_list.append(tp)\n",
    "    precission_array=np.array([precision_list])\n",
    "    recall_array=np.array([recall_list])\n",
    "    tn_array=np.array([tn_list])\n",
    "    fp_array=np.array([fp_list])\n",
    "    fn_array=np.array([fn_list])\n",
    "    tp_array=np.array([tp_list])\n",
    "    print(\"Precission: AGV: {0},STD:{1},CUTOFF:{2}\".format(np.average(precission_array),np.std(precission_array),cutoff))\n",
    "    print(\"Recall: AGV: {0},STD:{1},CUTOFF:{2}\".format(np.average(recall_array),np.std(recall_array),cutoff))\n",
    "    print(\"TN: AGV: {0},STD:{1},CUTOFF:{2}\".format(np.average(tn_array),np.std(tn_array),cutoff))\n",
    "    print(\"FP: AGV: {0},STD:{1},CUTOFF:{2}\".format(np.average(fp_array),np.std(fp_array),cutoff))\n",
    "    print(\"FN: AGV: {0},STD:{1},CUTOFF:{2}\".format(np.average(fn_array),np.std(fn_array),cutoff))\n",
    "    print(\"TP: AGV: {0},STD:{1},CUTOFF:{2}\".format(np.average(tp_array),np.std(tp_array),cutoff))"
   ]
  },
  {
   "cell_type": "markdown",
   "metadata": {},
   "source": [
    "Now, let's iterate a number of times (1000 in this case) on different cutoffs"
   ]
  },
  {
   "cell_type": "code",
   "execution_count": 1378,
   "metadata": {},
   "outputs": [
    {
     "name": "stderr",
     "output_type": "stream",
     "text": [
      "/Users/ernesto/bin/anaconda/envs/python3/lib/python3.5/site-packages/ipykernel_launcher.py:25: SettingWithCopyWarning: \n",
      "A value is trying to be set on a copy of a slice from a DataFrame.\n",
      "Try using .loc[row_indexer,col_indexer] = value instead\n",
      "\n",
      "See the caveats in the documentation: http://pandas.pydata.org/pandas-docs/stable/indexing.html#indexing-view-versus-copy\n"
     ]
    },
    {
     "name": "stdout",
     "output_type": "stream",
     "text": [
      "Precission: AGV: 0.7636363636363637,STD:0.0,CUTOFF:-10\n",
      "Recall: AGV: 0.9545454545454546,STD:0.0,CUTOFF:-10\n",
      "TN: AGV: 1.0,STD:0.0,CUTOFF:-10\n",
      "FP: AGV: 13.0,STD:0.0,CUTOFF:-10\n",
      "FN: AGV: 2.0,STD:0.0,CUTOFF:-10\n",
      "TP: AGV: 42.0,STD:0.0,CUTOFF:-10\n",
      "Precission: AGV: 0.7636363636363637,STD:0.0,CUTOFF:-9\n",
      "Recall: AGV: 0.9545454545454546,STD:0.0,CUTOFF:-9\n",
      "TN: AGV: 1.0,STD:0.0,CUTOFF:-9\n",
      "FP: AGV: 13.0,STD:0.0,CUTOFF:-9\n",
      "FN: AGV: 2.0,STD:0.0,CUTOFF:-9\n",
      "TP: AGV: 42.0,STD:0.0,CUTOFF:-9\n",
      "Precission: AGV: 0.7636363636363637,STD:0.0,CUTOFF:-8\n",
      "Recall: AGV: 0.9545454545454546,STD:0.0,CUTOFF:-8\n",
      "TN: AGV: 1.0,STD:0.0,CUTOFF:-8\n",
      "FP: AGV: 13.0,STD:0.0,CUTOFF:-8\n",
      "FN: AGV: 2.0,STD:0.0,CUTOFF:-8\n",
      "TP: AGV: 42.0,STD:0.0,CUTOFF:-8\n",
      "Precission: AGV: 0.7735849056603774,STD:0.0,CUTOFF:-7\n",
      "Recall: AGV: 0.9318181818181818,STD:0.0,CUTOFF:-7\n",
      "TN: AGV: 2.0,STD:0.0,CUTOFF:-7\n",
      "FP: AGV: 12.0,STD:0.0,CUTOFF:-7\n",
      "FN: AGV: 3.0,STD:0.0,CUTOFF:-7\n",
      "TP: AGV: 41.0,STD:0.0,CUTOFF:-7\n",
      "Precission: AGV: 0.7735849056603774,STD:0.0,CUTOFF:-6\n",
      "Recall: AGV: 0.9318181818181818,STD:0.0,CUTOFF:-6\n",
      "TN: AGV: 2.0,STD:0.0,CUTOFF:-6\n",
      "FP: AGV: 12.0,STD:0.0,CUTOFF:-6\n",
      "FN: AGV: 3.0,STD:0.0,CUTOFF:-6\n",
      "TP: AGV: 41.0,STD:0.0,CUTOFF:-6\n",
      "Precission: AGV: 0.7735849056603774,STD:0.0,CUTOFF:-5\n",
      "Recall: AGV: 0.9318181818181818,STD:0.0,CUTOFF:-5\n",
      "TN: AGV: 2.0,STD:0.0,CUTOFF:-5\n",
      "FP: AGV: 12.0,STD:0.0,CUTOFF:-5\n",
      "FN: AGV: 3.0,STD:0.0,CUTOFF:-5\n",
      "TP: AGV: 41.0,STD:0.0,CUTOFF:-5\n",
      "Precission: AGV: 0.7735849056603774,STD:0.0,CUTOFF:-4\n",
      "Recall: AGV: 0.9318181818181818,STD:0.0,CUTOFF:-4\n",
      "TN: AGV: 2.0,STD:0.0,CUTOFF:-4\n",
      "FP: AGV: 12.0,STD:0.0,CUTOFF:-4\n",
      "FN: AGV: 3.0,STD:0.0,CUTOFF:-4\n",
      "TP: AGV: 41.0,STD:0.0,CUTOFF:-4\n",
      "Precission: AGV: 0.7647058823529411,STD:0.0,CUTOFF:-3\n",
      "Recall: AGV: 0.8863636363636364,STD:0.0,CUTOFF:-3\n",
      "TN: AGV: 2.0,STD:0.0,CUTOFF:-3\n",
      "FP: AGV: 12.0,STD:0.0,CUTOFF:-3\n",
      "FN: AGV: 5.0,STD:0.0,CUTOFF:-3\n",
      "TP: AGV: 39.0,STD:0.0,CUTOFF:-3\n",
      "Precission: AGV: 0.78,STD:0.0,CUTOFF:-2\n",
      "Recall: AGV: 0.8863636363636364,STD:0.0,CUTOFF:-2\n",
      "TN: AGV: 3.0,STD:0.0,CUTOFF:-2\n",
      "FP: AGV: 11.0,STD:0.0,CUTOFF:-2\n",
      "FN: AGV: 5.0,STD:0.0,CUTOFF:-2\n",
      "TP: AGV: 39.0,STD:0.0,CUTOFF:-2\n",
      "Precission: AGV: 0.8125,STD:0.0,CUTOFF:-1\n",
      "Recall: AGV: 0.8863636363636364,STD:0.0,CUTOFF:-1\n",
      "TN: AGV: 5.0,STD:0.0,CUTOFF:-1\n",
      "FP: AGV: 9.0,STD:0.0,CUTOFF:-1\n",
      "FN: AGV: 5.0,STD:0.0,CUTOFF:-1\n",
      "TP: AGV: 39.0,STD:0.0,CUTOFF:-1\n",
      "Precission: AGV: 0.813953488372093,STD:0.0,CUTOFF:0\n",
      "Recall: AGV: 0.7954545454545454,STD:0.0,CUTOFF:0\n",
      "TN: AGV: 6.0,STD:0.0,CUTOFF:0\n",
      "FP: AGV: 8.0,STD:0.0,CUTOFF:0\n",
      "FN: AGV: 9.0,STD:0.0,CUTOFF:0\n",
      "TP: AGV: 35.0,STD:0.0,CUTOFF:0\n",
      "Precission: AGV: 0.8292682926829268,STD:0.0,CUTOFF:1\n",
      "Recall: AGV: 0.7727272727272727,STD:0.0,CUTOFF:1\n",
      "TN: AGV: 7.0,STD:0.0,CUTOFF:1\n",
      "FP: AGV: 7.0,STD:0.0,CUTOFF:1\n",
      "FN: AGV: 10.0,STD:0.0,CUTOFF:1\n",
      "TP: AGV: 34.0,STD:0.0,CUTOFF:1\n",
      "Precission: AGV: 0.8461538461538461,STD:0.0,CUTOFF:2\n",
      "Recall: AGV: 0.75,STD:0.0,CUTOFF:2\n",
      "TN: AGV: 8.0,STD:0.0,CUTOFF:2\n",
      "FP: AGV: 6.0,STD:0.0,CUTOFF:2\n",
      "FN: AGV: 11.0,STD:0.0,CUTOFF:2\n",
      "TP: AGV: 33.0,STD:0.0,CUTOFF:2\n",
      "Precission: AGV: 0.8421052631578947,STD:0.0,CUTOFF:3\n",
      "Recall: AGV: 0.7272727272727273,STD:0.0,CUTOFF:3\n",
      "TN: AGV: 8.0,STD:0.0,CUTOFF:3\n",
      "FP: AGV: 6.0,STD:0.0,CUTOFF:3\n",
      "FN: AGV: 12.0,STD:0.0,CUTOFF:3\n",
      "TP: AGV: 32.0,STD:0.0,CUTOFF:3\n",
      "Precission: AGV: 0.8333333333333334,STD:0.0,CUTOFF:4\n",
      "Recall: AGV: 0.6818181818181818,STD:0.0,CUTOFF:4\n",
      "TN: AGV: 8.0,STD:0.0,CUTOFF:4\n",
      "FP: AGV: 6.0,STD:0.0,CUTOFF:4\n",
      "FN: AGV: 14.0,STD:0.0,CUTOFF:4\n",
      "TP: AGV: 30.0,STD:0.0,CUTOFF:4\n",
      "Precission: AGV: 0.8235294117647058,STD:0.0,CUTOFF:5\n",
      "Recall: AGV: 0.6363636363636364,STD:0.0,CUTOFF:5\n",
      "TN: AGV: 8.0,STD:0.0,CUTOFF:5\n",
      "FP: AGV: 6.0,STD:0.0,CUTOFF:5\n",
      "FN: AGV: 16.0,STD:0.0,CUTOFF:5\n",
      "TP: AGV: 28.0,STD:0.0,CUTOFF:5\n",
      "Precission: AGV: 0.8235294117647058,STD:0.0,CUTOFF:6\n",
      "Recall: AGV: 0.6363636363636364,STD:0.0,CUTOFF:6\n",
      "TN: AGV: 8.0,STD:0.0,CUTOFF:6\n",
      "FP: AGV: 6.0,STD:0.0,CUTOFF:6\n",
      "FN: AGV: 16.0,STD:0.0,CUTOFF:6\n",
      "TP: AGV: 28.0,STD:0.0,CUTOFF:6\n",
      "Precission: AGV: 0.8484848484848485,STD:0.0,CUTOFF:7\n",
      "Recall: AGV: 0.6363636363636364,STD:0.0,CUTOFF:7\n",
      "TN: AGV: 9.0,STD:0.0,CUTOFF:7\n",
      "FP: AGV: 5.0,STD:0.0,CUTOFF:7\n",
      "FN: AGV: 16.0,STD:0.0,CUTOFF:7\n",
      "TP: AGV: 28.0,STD:0.0,CUTOFF:7\n",
      "Precission: AGV: 0.8333333333333334,STD:0.0,CUTOFF:8\n",
      "Recall: AGV: 0.5681818181818182,STD:0.0,CUTOFF:8\n",
      "TN: AGV: 9.0,STD:0.0,CUTOFF:8\n",
      "FP: AGV: 5.0,STD:0.0,CUTOFF:8\n",
      "FN: AGV: 19.0,STD:0.0,CUTOFF:8\n",
      "TP: AGV: 25.0,STD:0.0,CUTOFF:8\n",
      "Precission: AGV: 0.8620689655172413,STD:0.0,CUTOFF:9\n",
      "Recall: AGV: 0.5681818181818182,STD:0.0,CUTOFF:9\n",
      "TN: AGV: 10.0,STD:0.0,CUTOFF:9\n",
      "FP: AGV: 4.0,STD:0.0,CUTOFF:9\n",
      "FN: AGV: 19.0,STD:0.0,CUTOFF:9\n",
      "TP: AGV: 25.0,STD:0.0,CUTOFF:9\n",
      "Precission: AGV: 0.88,STD:0.0,CUTOFF:10\n",
      "Recall: AGV: 0.5,STD:0.0,CUTOFF:10\n",
      "TN: AGV: 11.0,STD:0.0,CUTOFF:10\n",
      "FP: AGV: 3.0,STD:0.0,CUTOFF:10\n",
      "FN: AGV: 22.0,STD:0.0,CUTOFF:10\n",
      "TP: AGV: 22.0,STD:0.0,CUTOFF:10\n",
      "Precission: AGV: 0.875,STD:0.0,CUTOFF:11\n",
      "Recall: AGV: 0.4772727272727273,STD:0.0,CUTOFF:11\n",
      "TN: AGV: 11.0,STD:0.0,CUTOFF:11\n",
      "FP: AGV: 3.0,STD:0.0,CUTOFF:11\n",
      "FN: AGV: 23.0,STD:0.0,CUTOFF:11\n",
      "TP: AGV: 21.0,STD:0.0,CUTOFF:11\n",
      "Precission: AGV: 0.8571428571428571,STD:0.0,CUTOFF:12\n",
      "Recall: AGV: 0.4090909090909091,STD:0.0,CUTOFF:12\n",
      "TN: AGV: 11.0,STD:0.0,CUTOFF:12\n",
      "FP: AGV: 3.0,STD:0.0,CUTOFF:12\n",
      "FN: AGV: 26.0,STD:0.0,CUTOFF:12\n",
      "TP: AGV: 18.0,STD:0.0,CUTOFF:12\n",
      "Precission: AGV: 0.8947368421052632,STD:0.0,CUTOFF:13\n",
      "Recall: AGV: 0.38636363636363635,STD:0.0,CUTOFF:13\n",
      "TN: AGV: 12.0,STD:0.0,CUTOFF:13\n",
      "FP: AGV: 2.0,STD:0.0,CUTOFF:13\n",
      "FN: AGV: 27.0,STD:0.0,CUTOFF:13\n",
      "TP: AGV: 17.0,STD:0.0,CUTOFF:13\n",
      "Precission: AGV: 0.8947368421052632,STD:0.0,CUTOFF:14\n",
      "Recall: AGV: 0.38636363636363635,STD:0.0,CUTOFF:14\n",
      "TN: AGV: 12.0,STD:0.0,CUTOFF:14\n",
      "FP: AGV: 2.0,STD:0.0,CUTOFF:14\n",
      "FN: AGV: 27.0,STD:0.0,CUTOFF:14\n",
      "TP: AGV: 17.0,STD:0.0,CUTOFF:14\n",
      "Precission: AGV: 0.8823529411764706,STD:0.0,CUTOFF:15\n",
      "Recall: AGV: 0.3409090909090909,STD:0.0,CUTOFF:15\n",
      "TN: AGV: 12.0,STD:0.0,CUTOFF:15\n",
      "FP: AGV: 2.0,STD:0.0,CUTOFF:15\n",
      "FN: AGV: 29.0,STD:0.0,CUTOFF:15\n",
      "TP: AGV: 15.0,STD:0.0,CUTOFF:15\n",
      "Precission: AGV: 0.9166666666666666,STD:0.0,CUTOFF:16\n",
      "Recall: AGV: 0.25,STD:0.0,CUTOFF:16\n",
      "TN: AGV: 13.0,STD:0.0,CUTOFF:16\n",
      "FP: AGV: 1.0,STD:0.0,CUTOFF:16\n",
      "FN: AGV: 33.0,STD:0.0,CUTOFF:16\n",
      "TP: AGV: 11.0,STD:0.0,CUTOFF:16\n",
      "Precission: AGV: 0.875,STD:0.0,CUTOFF:17\n",
      "Recall: AGV: 0.1590909090909091,STD:0.0,CUTOFF:17\n",
      "TN: AGV: 13.0,STD:0.0,CUTOFF:17\n",
      "FP: AGV: 1.0,STD:0.0,CUTOFF:17\n",
      "FN: AGV: 37.0,STD:0.0,CUTOFF:17\n",
      "TP: AGV: 7.0,STD:0.0,CUTOFF:17\n",
      "Precission: AGV: 0.8333333333333334,STD:0.0,CUTOFF:18\n",
      "Recall: AGV: 0.11363636363636363,STD:0.0,CUTOFF:18\n",
      "TN: AGV: 13.0,STD:0.0,CUTOFF:18\n",
      "FP: AGV: 1.0,STD:0.0,CUTOFF:18\n",
      "FN: AGV: 39.0,STD:0.0,CUTOFF:18\n",
      "TP: AGV: 5.0,STD:0.0,CUTOFF:18\n",
      "Precission: AGV: 1.0,STD:0.0,CUTOFF:19\n",
      "Recall: AGV: 0.09090909090909091,STD:0.0,CUTOFF:19\n",
      "TN: AGV: 14.0,STD:0.0,CUTOFF:19\n",
      "FP: AGV: 0.0,STD:0.0,CUTOFF:19\n",
      "FN: AGV: 40.0,STD:0.0,CUTOFF:19\n",
      "TP: AGV: 4.0,STD:0.0,CUTOFF:19\n"
     ]
    }
   ],
   "source": [
    "for i in range(-10,20,1):\n",
    "    cross_validate(i,1)"
   ]
  },
  {
   "cell_type": "markdown",
   "metadata": {},
   "source": [
    "### Using a Binary classifier\n",
    "First, let's prepare the data by separating the data into labels (dependent variable, which is the variable we try to predict) and features (the independent variables that are going to be used for the model)"
   ]
  },
  {
   "cell_type": "code",
   "execution_count": null,
   "metadata": {},
   "outputs": [],
   "source": [
    "labels=contDF['ext_outcome']\n",
    "features=contDF.drop([\"ext_outcome\",\"outcome\"],axis=1)"
   ]
  },
  {
   "cell_type": "markdown",
   "metadata": {},
   "source": [
    "We need also to remove some features that will be not accepted by the classifier or are not useful"
   ]
  },
  {
   "cell_type": "code",
   "execution_count": null,
   "metadata": {},
   "outputs": [],
   "source": [
    "features=features.drop([\"id\",\"start\",\"timeframe\",\"entry\",\"retraced\",\"last time\",\"target\",\"bounce length\",\"space interswings\"],axis=1)"
   ]
  },
  {
   "cell_type": "markdown",
   "metadata": {},
   "source": [
    "Now, let's split our data into training and test sets. In this case, the test_size=0.33"
   ]
  },
  {
   "cell_type": "code",
   "execution_count": null,
   "metadata": {},
   "outputs": [],
   "source": [
    "train, test, train_labels, test_labels = train_test_split(features,\n",
    "                                                          labels,\n",
    "                                                          test_size=0.33,\n",
    "                                                          random_state=42)"
   ]
  },
  {
   "cell_type": "markdown",
   "metadata": {},
   "source": [
    "As the counts for each outcome category are unbalanced, I will oversample using SMOTE:"
   ]
  },
  {
   "cell_type": "code",
   "execution_count": null,
   "metadata": {},
   "outputs": [],
   "source": [
    "from imblearn.over_sampling import SMOTE\n",
    "\n",
    "train_resampled, trainlabels_resampled = SMOTE().fit_sample(train,train_labels)"
   ]
  },
  {
   "cell_type": "markdown",
   "metadata": {},
   "source": [
    "Let's check the balanced counts:"
   ]
  },
  {
   "cell_type": "code",
   "execution_count": null,
   "metadata": {},
   "outputs": [],
   "source": [
    "from collections import Counter\n",
    "\n",
    "print(sorted(Counter(trainlabels_resampled).items()))"
   ]
  },
  {
   "cell_type": "markdown",
   "metadata": {},
   "source": [
    "#### naive_bayes"
   ]
  },
  {
   "cell_type": "markdown",
   "metadata": {},
   "source": [
    "Building and Evaluating the Model for the non oversampled train dataset"
   ]
  },
  {
   "cell_type": "code",
   "execution_count": null,
   "metadata": {},
   "outputs": [],
   "source": [
    "from sklearn.naive_bayes import GaussianNB\n",
    "\n",
    "# Initialize our classifier\n",
    "gnb = GaussianNB()\n",
    "\n",
    "# Train our classifier\n",
    "model = gnb.fit(train, train_labels)"
   ]
  },
  {
   "cell_type": "code",
   "execution_count": null,
   "metadata": {},
   "outputs": [],
   "source": [
    "# Make predictions\n",
    "preds = gnb.predict(test)"
   ]
  },
  {
   "cell_type": "code",
   "execution_count": null,
   "metadata": {},
   "outputs": [],
   "source": [
    "from sklearn.metrics import accuracy_score\n",
    "\n",
    "# Evaluate accuracy\n",
    "print(accuracy_score(test_labels, preds))"
   ]
  },
  {
   "cell_type": "markdown",
   "metadata": {},
   "source": [
    "Now, with the oversampled train dataset"
   ]
  },
  {
   "cell_type": "code",
   "execution_count": null,
   "metadata": {},
   "outputs": [],
   "source": [
    "# Train our classifier\n",
    "model = gnb.fit(train_resampled,  trainlabels_resampled)\n",
    "\n",
    "# Make predictions\n",
    "preds = gnb.predict(test)\n",
    "\n",
    "# Evaluate accuracy\n",
    "print(accuracy_score(test_labels, preds))"
   ]
  },
  {
   "cell_type": "markdown",
   "metadata": {},
   "source": [
    "**Conclusion** It is slightly better using oversampling"
   ]
  },
  {
   "cell_type": "markdown",
   "metadata": {},
   "source": [
    "#### Using SGDClassifier\n",
    "First, let's use the non oversampled train dataset"
   ]
  },
  {
   "cell_type": "code",
   "execution_count": null,
   "metadata": {},
   "outputs": [],
   "source": [
    "from sklearn.linear_model import SGDClassifier\n",
    "\n",
    "sgd_clf = SGDClassifier()\n",
    "sgd=sgd_clf.fit(train,train_labels)"
   ]
  },
  {
   "cell_type": "code",
   "execution_count": null,
   "metadata": {},
   "outputs": [],
   "source": [
    "preds=sgd_clf.predict(test)"
   ]
  },
  {
   "cell_type": "code",
   "execution_count": null,
   "metadata": {},
   "outputs": [],
   "source": [
    "print(accuracy_score(test_labels, preds))"
   ]
  },
  {
   "cell_type": "markdown",
   "metadata": {},
   "source": [
    "Now, with the oversampled train dataset"
   ]
  },
  {
   "cell_type": "code",
   "execution_count": null,
   "metadata": {},
   "outputs": [],
   "source": [
    "sgd_clf = SGDClassifier()\n",
    "sgd=sgd_clf.fit(train_resampled,trainlabels_resampled)\n",
    "preds=sgd_clf.predict(test)\n",
    "print(accuracy_score(test_labels, preds))"
   ]
  },
  {
   "cell_type": "markdown",
   "metadata": {},
   "source": [
    "#### Using Logistic Regression  \n",
    "First, let's use the non oversampled train dataset"
   ]
  },
  {
   "cell_type": "code",
   "execution_count": null,
   "metadata": {},
   "outputs": [],
   "source": [
    "from sklearn.linear_model import LogisticRegression\n",
    "logisticRegr = LogisticRegression(verbose=1)"
   ]
  },
  {
   "cell_type": "markdown",
   "metadata": {},
   "source": [
    "Now, we train the model with the training set:"
   ]
  },
  {
   "cell_type": "code",
   "execution_count": null,
   "metadata": {},
   "outputs": [],
   "source": [
    "m=logisticRegr.fit(train, train_labels)"
   ]
  },
  {
   "cell_type": "markdown",
   "metadata": {},
   "source": [
    "Now, let's measue model performance\n",
    "First, we are going to make predictions using our new model and the test data"
   ]
  },
  {
   "cell_type": "code",
   "execution_count": null,
   "metadata": {},
   "outputs": [],
   "source": [
    "predictions = logisticRegr.predict(test)"
   ]
  },
  {
   "cell_type": "markdown",
   "metadata": {},
   "source": [
    "We can use the score function in order to calculate the mean accuracy on the test data and labels"
   ]
  },
  {
   "cell_type": "code",
   "execution_count": null,
   "metadata": {},
   "outputs": [],
   "source": [
    "score = logisticRegr.score(test, test_labels)\n",
    "print(score)"
   ]
  },
  {
   "cell_type": "markdown",
   "metadata": {},
   "source": [
    "In order to visualize the correctness of our predictions, we can also create a confusion matrix:"
   ]
  },
  {
   "cell_type": "code",
   "execution_count": null,
   "metadata": {},
   "outputs": [],
   "source": [
    "import matplotlib.pyplot as plt\n",
    "import seaborn as sns\n",
    "from sklearn import metrics\n",
    "\n",
    "cm = metrics.confusion_matrix(test_labels, predictions)\n",
    "print(cm)"
   ]
  },
  {
   "cell_type": "markdown",
   "metadata": {},
   "source": [
    "The matrix above can be embellished by using seaborn:"
   ]
  },
  {
   "cell_type": "code",
   "execution_count": null,
   "metadata": {},
   "outputs": [],
   "source": [
    "plt.figure(figsize=(9,9))\n",
    "sns.heatmap(cm, annot=True, fmt=\".0f\", linewidths=.5, square = True, cmap = 'Blues_r');\n",
    "plt.ylabel('Actual label');\n",
    "plt.xlabel('Predicted label');\n",
    "all_sample_title = 'Accuracy Score: {0}'.format(score)\n",
    "plt.title(all_sample_title, size = 15);"
   ]
  },
  {
   "cell_type": "markdown",
   "metadata": {},
   "source": [
    "Now, let's try with the oversampled train dataset"
   ]
  },
  {
   "cell_type": "code",
   "execution_count": null,
   "metadata": {},
   "outputs": [],
   "source": [
    "from sklearn.linear_model import LogisticRegression\n",
    "logisticRegr = LogisticRegression(verbose=1)"
   ]
  },
  {
   "cell_type": "markdown",
   "metadata": {},
   "source": [
    "Now, we train the model with the training set:"
   ]
  },
  {
   "cell_type": "code",
   "execution_count": null,
   "metadata": {},
   "outputs": [],
   "source": [
    "m=logisticRegr.fit(train_resampled,trainlabels_resampled)"
   ]
  },
  {
   "cell_type": "markdown",
   "metadata": {},
   "source": [
    "Now, let's measue model performance\n",
    "First, we are going to make predictions using our new model and the test data"
   ]
  },
  {
   "cell_type": "code",
   "execution_count": 119,
   "metadata": {},
   "outputs": [
    {
     "ename": "NameError",
     "evalue": "name 'logisticRegr' is not defined",
     "output_type": "error",
     "traceback": [
      "\u001b[0;31m---------------------------------------------------------------------------\u001b[0m",
      "\u001b[0;31mNameError\u001b[0m                                 Traceback (most recent call last)",
      "\u001b[0;32m<ipython-input-119-a425d92e5fca>\u001b[0m in \u001b[0;36m<module>\u001b[0;34m()\u001b[0m\n\u001b[0;32m----> 1\u001b[0;31m \u001b[0mpredictions\u001b[0m \u001b[0;34m=\u001b[0m \u001b[0mlogisticRegr\u001b[0m\u001b[0;34m.\u001b[0m\u001b[0mpredict\u001b[0m\u001b[0;34m(\u001b[0m\u001b[0mtest\u001b[0m\u001b[0;34m)\u001b[0m\u001b[0;34m\u001b[0m\u001b[0m\n\u001b[0m",
      "\u001b[0;31mNameError\u001b[0m: name 'logisticRegr' is not defined"
     ]
    }
   ],
   "source": [
    "predictions = logisticRegr.predict(test)"
   ]
  },
  {
   "cell_type": "markdown",
   "metadata": {},
   "source": [
    "We can use the score function in order to calculate the mean accuracy on the test data and labels"
   ]
  },
  {
   "cell_type": "code",
   "execution_count": 120,
   "metadata": {},
   "outputs": [
    {
     "ename": "NameError",
     "evalue": "name 'logisticRegr' is not defined",
     "output_type": "error",
     "traceback": [
      "\u001b[0;31m---------------------------------------------------------------------------\u001b[0m",
      "\u001b[0;31mNameError\u001b[0m                                 Traceback (most recent call last)",
      "\u001b[0;32m<ipython-input-120-025780d75b50>\u001b[0m in \u001b[0;36m<module>\u001b[0;34m()\u001b[0m\n\u001b[0;32m----> 1\u001b[0;31m \u001b[0mscore\u001b[0m \u001b[0;34m=\u001b[0m \u001b[0mlogisticRegr\u001b[0m\u001b[0;34m.\u001b[0m\u001b[0mscore\u001b[0m\u001b[0;34m(\u001b[0m\u001b[0mtest\u001b[0m\u001b[0;34m,\u001b[0m \u001b[0mtest_labels\u001b[0m\u001b[0;34m)\u001b[0m\u001b[0;34m\u001b[0m\u001b[0m\n\u001b[0m\u001b[1;32m      2\u001b[0m \u001b[0mprint\u001b[0m\u001b[0;34m(\u001b[0m\u001b[0mscore\u001b[0m\u001b[0;34m)\u001b[0m\u001b[0;34m\u001b[0m\u001b[0m\n",
      "\u001b[0;31mNameError\u001b[0m: name 'logisticRegr' is not defined"
     ]
    }
   ],
   "source": [
    "score = logisticRegr.score(test, test_labels)\n",
    "print(score)"
   ]
  },
  {
   "cell_type": "markdown",
   "metadata": {},
   "source": [
    "**Conclusion:** It is worst to oversample in terms of score"
   ]
  },
  {
   "cell_type": "markdown",
   "metadata": {},
   "source": [
    "* Examining the influence of each predictor on the outcome"
   ]
  },
  {
   "cell_type": "code",
   "execution_count": 121,
   "metadata": {},
   "outputs": [
    {
     "ename": "NameError",
     "evalue": "name 'm' is not defined",
     "output_type": "error",
     "traceback": [
      "\u001b[0;31m---------------------------------------------------------------------------\u001b[0m",
      "\u001b[0;31mNameError\u001b[0m                                 Traceback (most recent call last)",
      "\u001b[0;32m<ipython-input-121-da326d2fe27b>\u001b[0m in \u001b[0;36m<module>\u001b[0;34m()\u001b[0m\n\u001b[1;32m      1\u001b[0m \u001b[0mstds\u001b[0m\u001b[0;34m=\u001b[0m\u001b[0mnp\u001b[0m\u001b[0;34m.\u001b[0m\u001b[0mstd\u001b[0m\u001b[0;34m(\u001b[0m\u001b[0mtrain\u001b[0m\u001b[0;34m,\u001b[0m \u001b[0;36m0\u001b[0m\u001b[0;34m)\u001b[0m\u001b[0;34m\u001b[0m\u001b[0m\n\u001b[1;32m      2\u001b[0m \u001b[0;34m\u001b[0m\u001b[0m\n\u001b[0;32m----> 3\u001b[0;31m \u001b[0mprint\u001b[0m\u001b[0;34m(\u001b[0m\u001b[0mstds\u001b[0m\u001b[0;34m.\u001b[0m\u001b[0mvalues\u001b[0m\u001b[0;34m*\u001b[0m\u001b[0mm\u001b[0m\u001b[0;34m.\u001b[0m\u001b[0mcoef_\u001b[0m\u001b[0;34m)\u001b[0m\u001b[0;34m\u001b[0m\u001b[0m\n\u001b[0m",
      "\u001b[0;31mNameError\u001b[0m: name 'm' is not defined"
     ]
    }
   ],
   "source": [
    "stds=np.std(train, 0)\n",
    "\n",
    "print(stds.values*m.coef_)"
   ]
  },
  {
   "cell_type": "code",
   "execution_count": null,
   "metadata": {},
   "outputs": [],
   "source": [
    "keys=list(train.columns)\n",
    "values_10=list(stds.values*m.coef_)[0]*10\n",
    "\n",
    "coefficients=dict(zip(keys,values_10))\n",
    "print(coefficients)"
   ]
  },
  {
   "cell_type": "markdown",
   "metadata": {
    "variables": {
     "train.columns[0]": "<p><strong>NameError</strong>: name &#39;train&#39; is not defined</p>\n",
     "train.columns[10]": "<p><strong>NameError</strong>: name &#39;train&#39; is not defined</p>\n",
     "train.columns[11]": "<p><strong>NameError</strong>: name &#39;train&#39; is not defined</p>\n",
     "train.columns[12]": "<p><strong>NameError</strong>: name &#39;train&#39; is not defined</p>\n",
     "train.columns[13]": "<p><strong>NameError</strong>: name &#39;train&#39; is not defined</p>\n",
     "train.columns[14]": "<p><strong>NameError</strong>: name &#39;train&#39; is not defined</p>\n",
     "train.columns[1]": "<p><strong>NameError</strong>: name &#39;train&#39; is not defined</p>\n",
     "train.columns[2]": "<p><strong>NameError</strong>: name &#39;train&#39; is not defined</p>\n",
     "train.columns[4]": "<p><strong>NameError</strong>: name &#39;train&#39; is not defined</p>\n",
     "train.columns[5]": "<p><strong>NameError</strong>: name &#39;train&#39; is not defined</p>\n",
     "train.columns[7]": "<p><strong>NameError</strong>: name &#39;train&#39; is not defined</p>\n",
     "train.columns[8]": "<p><strong>NameError</strong>: name &#39;train&#39; is not defined</p>\n",
     "train.columns[9]": "<p><strong>NameError</strong>: name &#39;train&#39; is not defined</p>\n"
    }
   },
   "source": [
    "**Conclusions:**  \n",
    "* Relevant  \n",
    "{{train.columns[0]}} (negative)  \n",
    "{{train.columns[1]}} (negative)  \n",
    "{{train.columns[2]}} (positive)  \n",
    "{{train.columns[4]}} (negative)  \n",
    "{{train.columns[5]}} (positive)  \n",
    "{{train.columns[7]}} (positive)  \n",
    "{{train.columns[8]}} (negative)  \n",
    "{{train.columns[9]}} (negative)  \n",
    "{{train.columns[10]}} (positive)  \n",
    "{{train.columns[11]}} (negative)  \n",
    "{{train.columns[12]}} (positive)  \n",
    "{{train.columns[13]}} (negative)  \n",
    "{{train.columns[14]}} (positive)  "
   ]
  },
  {
   "cell_type": "markdown",
   "metadata": {
    "variables": {
     "train.columns[15]": "<p><strong>NameError</strong>: name &#39;train&#39; is not defined</p>\n",
     "train.columns[3]": "<p><strong>NameError</strong>: name &#39;train&#39; is not defined</p>\n",
     "train.columns[6]": "<p><strong>NameError</strong>: name &#39;train&#39; is not defined</p>\n"
    }
   },
   "source": [
    "* Irrelevant  \n",
    "{{train.columns[3]}}  \n",
    "{{train.columns[6]}}  \n",
    "{{train.columns[15]}}"
   ]
  },
  {
   "cell_type": "code",
   "execution_count": null,
   "metadata": {},
   "outputs": [],
   "source": []
  }
 ],
 "metadata": {
  "kernelspec": {
   "display_name": "Python 3",
   "language": "python",
   "name": "python3"
  },
  "language_info": {
   "codemirror_mode": {
    "name": "ipython",
    "version": 3
   },
   "file_extension": ".py",
   "mimetype": "text/x-python",
   "name": "python",
   "nbconvert_exporter": "python",
   "pygments_lexer": "ipython3",
   "version": "3.5.3"
  },
  "toc": {
   "nav_menu": {},
   "number_sections": true,
   "sideBar": true,
   "skip_h1_title": false,
   "title_cell": "Table of Contents",
   "title_sidebar": "Contents",
   "toc_cell": false,
   "toc_position": {},
   "toc_section_display": true,
   "toc_window_display": false
  }
 },
 "nbformat": 4,
 "nbformat_minor": 2
}
