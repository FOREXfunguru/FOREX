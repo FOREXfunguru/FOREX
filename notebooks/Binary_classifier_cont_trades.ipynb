{
 "cells": [
  {
   "cell_type": "markdown",
   "metadata": {},
   "source": [
    "# Motivation\n",
    "This notebook analyses the spreadsheet containing information on the reversals. This spreadsheet collects different features on the trades in an attempt of creating a binary classifier, this classifier will learn from the data collected and will predict the value of the `outcome` variable, which can be success of failre\n",
    "\n",
    "# Data\n",
    "The data has been collected in an spreadsheet containing trades both simulated and real. And the different trades have been classified into three types: continuation, counter and ranging. The independent variables gathered for each trade type are:\n",
    "## Continuation trades\n",
    "* id\tid used in the screenshot folder to identify this record\n",
    "* start\tstart of this trade\n",
    "* timeframe\tin the format 2D,D,H12,H8\n",
    "* entry\tprice\n",
    "* outcome\tS=success;F=failure;B=breakeven\n",
    "* ext_outcome. S=success;F=failure;B=breakeven\n",
    "* RSI bounces. number of RSI bounces ocurring in the trend before entry\n",
    "* No of candles. How many candles before occurred the bounce, from the entry of trade to the first bounce (without counting the entry candle)\n",
    "* entry on RSI. Was the entry candle on RSI?\n",
    "* length of trend. lenght of the preceding trend in number of candles. The valley before the continuation is not included in the count\n",
    "* previous swings. Number of swings from the entry and counting the rebound before the entry (see screenshot below)\n",
    "* space interswings. Comma separated numbers representing the number of candles between swings from the most recent to the oldest\n",
    "* length in pips. From the beginning of the trade to the entry price in number of pips\n",
    "strong trend\tTRUE of the preceding trend was strong\n",
    "* trend angle. Measured with Oanda after hitting the auto scale button+lock scalde button and the end of the trend line is the IC+1 when it touches the entry price\n",
    "* bounce length. Length in number of candles for each of the bounces (in the order from the most recent to the oldest)\n",
    "* bounce pips. Length from the horizontal line defined by IC until the highest point of the bounce (considering wicks also)\n",
    "* inn_bounce. Number of candles of the inner bounce (see screenshots below)\n",
    "indecission\tNumber of candles the price stays in S/R, without considering the bounce and only considering the candles pre/post bounce\n",
    "* retraced.\tOnly relevant for outcome=F, how many pips from the S/L the trade reversed?. If n.a., then it means that the trade did not reversed last time that the price was below/above this level assuming that a possible counter could happen\n",
    "* entry_aligned. Is the entry aligned with previous bounces on the same trend. TRUE or 1 if it is, FALSE or 0 if it is not\n",
    "* trend_bounces. Discrete quantitative variable representing the number of bounces at the trend"
   ]
  },
  {
   "cell_type": "markdown",
   "metadata": {},
   "source": [
    "## Dependencies"
   ]
  },
  {
   "cell_type": "code",
   "execution_count": 526,
   "metadata": {},
   "outputs": [],
   "source": [
    "import pandas as pd\n",
    "import numpy as np\n",
    "import pdb\n",
    "import re\n",
    "import seaborn as sns\n",
    "from pandas.plotting import scatter_matrix\n",
    "from sklearn.metrics import confusion_matrix,precision_score\n",
    "from sklearn.model_selection import train_test_split\n",
    "\n",
    "%matplotlib inline"
   ]
  },
  {
   "cell_type": "markdown",
   "metadata": {},
   "source": [
    "# Continuation trades\n",
    "\n",
    "First, let's create a function to read-in a .csv file containing the data andstore it in a dataframe:"
   ]
  },
  {
   "cell_type": "code",
   "execution_count": 527,
   "metadata": {},
   "outputs": [
    {
     "data": {
      "text/plain": [
       "(443, 27)"
      ]
     },
     "execution_count": 527,
     "metadata": {},
     "output_type": "execute_result"
    }
   ],
   "source": [
    "def read_tradedata(tradefile,sep,na_values):\n",
    "    '''\n",
    "    Parameters\n",
    "    ----------\n",
    "    tradefile : str, required\n",
    "                Path to file containing the trade data\n",
    "    sep : str, optionsl\n",
    "          Field separator used in the file. i.e. ',' (comma separated values), '\\t' (tab-separated values)\n",
    "    na_values : list, optional\n",
    "                Additional list of strings to recognize as NA/NaN. i.e. ['n.a.']\n",
    "    \n",
    "    Returns\n",
    "    -------\n",
    "    A Pandas dataframe\n",
    "    '''\n",
    "    DF=pd.read_csv(tradefile,sep=sep,na_values=na_values)\n",
    "    \n",
    "    return DF\n",
    "\n",
    "contDF=read_tradedata('/Users/ernesto/Downloads/Screenshot analysis - continuations.tsv',sep=\"\\t\",na_values=[\"n.a.\",\"n.a\"])\n",
    "\n",
    "contDF.shape"
   ]
  },
  {
   "cell_type": "markdown",
   "metadata": {},
   "source": [
    "And some information about contDF:"
   ]
  },
  {
   "cell_type": "code",
   "execution_count": 528,
   "metadata": {},
   "outputs": [
    {
     "name": "stdout",
     "output_type": "stream",
     "text": [
      "<class 'pandas.core.frame.DataFrame'>\n",
      "RangeIndex: 443 entries, 0 to 442\n",
      "Data columns (total 27 columns):\n",
      "id                         443 non-null object\n",
      "start                      443 non-null object\n",
      "type                       443 non-null object\n",
      "timeframe                  443 non-null object\n",
      "entry                      443 non-null float64\n",
      "outcome                    443 non-null object\n",
      "RSI bounces                443 non-null int64\n",
      "bounce length              341 non-null object\n",
      "bounce (pips)              443 non-null int64\n",
      "inn_bounce                 443 non-null int64\n",
      "indecission                443 non-null int64\n",
      "entry on RSI               443 non-null bool\n",
      "length of trend (-1)       443 non-null int64\n",
      "length in pips (-1)        443 non-null int64\n",
      "last time                  443 non-null object\n",
      "entry_aligned              443 non-null int64\n",
      "retraced                   103 non-null float64\n",
      "Candle +1 against trade    443 non-null object\n",
      "trend_bounces              442 non-null float64\n",
      "is_sr_doubtful             104 non-null float64\n",
      "length of trend            256 non-null float64\n",
      "No of candles              119 non-null float64\n",
      "previous swings            150 non-null float64\n",
      "space interswings          150 non-null object\n",
      "trend angle                150 non-null float64\n",
      "stretches                  29 non-null object\n",
      "strong trend               294 non-null object\n",
      "dtypes: bool(1), float64(8), int64(7), object(11)\n",
      "memory usage: 90.5+ KB\n"
     ]
    }
   ],
   "source": [
    "contDF.info()"
   ]
  },
  {
   "cell_type": "markdown",
   "metadata": {},
   "source": [
    "* Conversion to right types<br>\n",
    "Let's convert now the `start` and `last time` variables to DateTime"
   ]
  },
  {
   "cell_type": "code",
   "execution_count": 529,
   "metadata": {},
   "outputs": [],
   "source": [
    "contDF['start']= pd.to_datetime(contDF['start'])\n",
    "contDF['last time']= pd.to_datetime(contDF['last time'])"
   ]
  },
  {
   "cell_type": "markdown",
   "metadata": {},
   "source": [
    "## Cleaning the n.a. values\n",
    "The following predictors have n.a. values and the strategy I will follow will depend on each case:"
   ]
  },
  {
   "cell_type": "markdown",
   "metadata": {},
   "source": [
    "* No of candles (will replace the n.a. by 0)"
   ]
  },
  {
   "cell_type": "code",
   "execution_count": 530,
   "metadata": {},
   "outputs": [],
   "source": [
    "if \"No of candles\" in contDF: contDF[\"No of candles\"].fillna(0, inplace=True)"
   ]
  },
  {
   "cell_type": "markdown",
   "metadata": {},
   "source": [
    "* Bounce length (will replace the n.a. by 0)"
   ]
  },
  {
   "cell_type": "code",
   "execution_count": 531,
   "metadata": {},
   "outputs": [],
   "source": [
    "contDF[\"bounce length\"].fillna(0, inplace=True)"
   ]
  },
  {
   "cell_type": "markdown",
   "metadata": {},
   "source": [
    "* Length of trend (-1) (will replace the n.a. by 0)"
   ]
  },
  {
   "cell_type": "code",
   "execution_count": 532,
   "metadata": {},
   "outputs": [],
   "source": [
    "contDF[\"length of trend (-1)\"].fillna(0, inplace=True)"
   ]
  },
  {
   "cell_type": "markdown",
   "metadata": {},
   "source": [
    "* Length in pips (-1) (will replace the n.a. by 0)"
   ]
  },
  {
   "cell_type": "code",
   "execution_count": 533,
   "metadata": {},
   "outputs": [],
   "source": [
    "contDF[\"length in pips (-1)\"].fillna(0, inplace=True)"
   ]
  },
  {
   "cell_type": "markdown",
   "metadata": {},
   "source": [
    "## Normalize\n",
    "Let's normalize all variables dealing with pips."
   ]
  },
  {
   "cell_type": "code",
   "execution_count": 534,
   "metadata": {},
   "outputs": [],
   "source": [
    "def normalize(x, variable_name):\n",
    "    '''\n",
    "    Function that will calculate the number of pips per hour\n",
    "    \n",
    "    Parameters\n",
    "    ----------\n",
    "    variable: str\n",
    "              Variable name that will be normalized\n",
    "    '''\n",
    "    \n",
    "    return round(x[variable_name]/48,2)\n",
    "    \n",
    "    if x['timeframe']=='2D':\n",
    "        return round(x[variable_name]/48,1)\n",
    "    elif x['timeframe']=='D':\n",
    "        return round(x[variable_name]/24,1)\n",
    "    elif x['timeframe']=='H12':\n",
    "        return round(x[variable_name]/12,1)\n",
    "    elif x['timeframe']=='H10':\n",
    "        return round(x[variable_name]/10,1)\n",
    "    elif x['timeframe']=='H8':\n",
    "        return round(x[variable_name]/8,1)\n",
    "    elif x['timeframe']=='H6':\n",
    "        return round(x[variable_name]/6,1)\n",
    "    else:\n",
    "        raise(\"Error\")\n",
    "    \n",
    "    "
   ]
  },
  {
   "cell_type": "code",
   "execution_count": 535,
   "metadata": {},
   "outputs": [],
   "source": [
    "contDF['norm_length_pips']=contDF.apply(normalize,axis=1, variable_name='length in pips (-1)')\n",
    "contDF['norm_bounce_pips']=contDF.apply(normalize,axis=1, variable_name='bounce (pips)')"
   ]
  },
  {
   "cell_type": "markdown",
   "metadata": {},
   "source": [
    "## Transforming"
   ]
  },
  {
   "cell_type": "code",
   "execution_count": 536,
   "metadata": {},
   "outputs": [],
   "source": [
    "transl_dict={ \n",
    "        'S':1,\n",
    "        'F':0, \n",
    "        True:1, \n",
    "        False:0\n",
    "    }\n",
    "def digit_binary(x,transl_dict,name):\n",
    "    '''\n",
    "    This function will replace the values in categorical\n",
    "    binary variables by 1 and 0\n",
    "    \n",
    "    Parameters\n",
    "    ----------\n",
    "    transl_dict: dict\n",
    "                 Keys will be the old categorical names and Values\n",
    "                 will be 1 and 0. For example:\n",
    "                 transl_dict={ \n",
    "                            'S':1,\n",
    "                            'F':0, \n",
    "                            True:1, \n",
    "                            False:0\n",
    "                            }\n",
    "    name: str\n",
    "          Name of the column to modify\n",
    "        \n",
    "    Returns\n",
    "    -------\n",
    "    The new label for the categorical variable\n",
    "    '''\n",
    "    \n",
    "    return transl_dict[x[name]]\n",
    "\n",
    "if \"ext_outcome\" in contDF: contDF['ext_outcome']=contDF.apply(digit_binary,axis=1,transl_dict=transl_dict, name='ext_outcome')\n",
    "contDF['outcome']=contDF.apply(digit_binary,axis=1,transl_dict=transl_dict, name='outcome')\n",
    "contDF['entry on RSI']=contDF.apply(digit_binary,axis=1,transl_dict=transl_dict, name='entry on RSI')\n",
    "if \"strong_trend\" in contDF: contDF['strong trend']=contDF.apply(digit_binary,axis=1,transl_dict=transl_dict, name='strong trend')"
   ]
  },
  {
   "cell_type": "markdown",
   "metadata": {},
   "source": [
    "## Selecting the desired timeframe"
   ]
  },
  {
   "cell_type": "code",
   "execution_count": 537,
   "metadata": {},
   "outputs": [],
   "source": [
    "contDF=contDF[contDF.timeframe == 'D']"
   ]
  },
  {
   "cell_type": "markdown",
   "metadata": {},
   "source": [
    "## Initial exploration of the data\n",
    "\n",
    "First things first, let's examine if we have a significant number of records per category of the dependent variable (outcome in this case), since it is really very important to have enough records to establish solid conclusions"
   ]
  },
  {
   "cell_type": "code",
   "execution_count": 538,
   "metadata": {},
   "outputs": [
    {
     "data": {
      "text/plain": [
       "1    78\n",
       "0    58\n",
       "Name: outcome, dtype: int64"
      ]
     },
     "execution_count": 538,
     "metadata": {},
     "output_type": "execute_result"
    }
   ],
   "source": [
    "outcome_ix=5\n",
    "outcome_lab=\"outcome\"\n",
    "contDF.iloc[:,outcome_ix].value_counts()"
   ]
  },
  {
   "cell_type": "markdown",
   "metadata": {},
   "source": [
    "### last time \n",
    "This datetime variable represents the last time the price was over/below the entry price level. The first to do is to create a new datetime variable representing the difference (in days) between the entry datetime (start column) and the last time datetime."
   ]
  },
  {
   "cell_type": "code",
   "execution_count": 539,
   "metadata": {},
   "outputs": [],
   "source": [
    "contDF['diff']=(contDF['start']-contDF['last time'])"
   ]
  },
  {
   "cell_type": "code",
   "execution_count": 540,
   "metadata": {},
   "outputs": [],
   "source": [
    "contDF['diff']=contDF['diff'].apply(lambda x: x.days)"
   ]
  },
  {
   "cell_type": "markdown",
   "metadata": {},
   "source": [
    "Now, let's examine the distribution of this newly created `diff` variable in the 2 `outcome` categories"
   ]
  },
  {
   "cell_type": "code",
   "execution_count": 541,
   "metadata": {},
   "outputs": [
    {
     "data": {
      "image/png": "[encoded data removed]",
      "text/plain": [
       "<matplotlib.figure.Figure at 0x11fa0d5f8>"
      ]
     },
     "metadata": {},
     "output_type": "display_data"
    }
   ],
   "source": [
    "ax = sns.boxplot(x=\"outcome\", y=\"diff\", data=contDF)"
   ]
  },
  {
   "cell_type": "markdown",
   "metadata": {},
   "source": [
    "* Mean for each category"
   ]
  },
  {
   "cell_type": "code",
   "execution_count": 542,
   "metadata": {},
   "outputs": [
    {
     "data": {
      "text/html": [
       "<div>\n",
       "<style scoped>\n",
       "    .dataframe tbody tr th:only-of-type {\n",
       "        vertical-align: middle;\n",
       "    }\n",
       "\n",
       "    .dataframe tbody tr th {\n",
       "        vertical-align: top;\n",
       "    }\n",
       "\n",
       "    .dataframe thead th {\n",
       "        text-align: right;\n",
       "    }\n",
       "</style>\n",
       "<table border=\"1\" class=\"dataframe\">\n",
       "  <thead>\n",
       "    <tr style=\"text-align: right;\">\n",
       "      <th></th>\n",
       "      <th>diff</th>\n",
       "    </tr>\n",
       "    <tr>\n",
       "      <th>outcome</th>\n",
       "      <th></th>\n",
       "    </tr>\n",
       "  </thead>\n",
       "  <tbody>\n",
       "    <tr>\n",
       "      <th>0</th>\n",
       "      <td>809.982759</td>\n",
       "    </tr>\n",
       "    <tr>\n",
       "      <th>1</th>\n",
       "      <td>752.282051</td>\n",
       "    </tr>\n",
       "  </tbody>\n",
       "</table>\n",
       "</div>"
      ],
      "text/plain": [
       "               diff\n",
       "outcome            \n",
       "0        809.982759\n",
       "1        752.282051"
      ]
     },
     "execution_count": 542,
     "metadata": {},
     "output_type": "execute_result"
    }
   ],
   "source": [
    "contDF.groupby(\"outcome\").agg({'diff': 'mean'})"
   ]
  },
  {
   "cell_type": "markdown",
   "metadata": {},
   "source": [
    "* Median for each category"
   ]
  },
  {
   "cell_type": "code",
   "execution_count": 543,
   "metadata": {},
   "outputs": [
    {
     "data": {
      "text/html": [
       "<div>\n",
       "<style scoped>\n",
       "    .dataframe tbody tr th:only-of-type {\n",
       "        vertical-align: middle;\n",
       "    }\n",
       "\n",
       "    .dataframe tbody tr th {\n",
       "        vertical-align: top;\n",
       "    }\n",
       "\n",
       "    .dataframe thead th {\n",
       "        text-align: right;\n",
       "    }\n",
       "</style>\n",
       "<table border=\"1\" class=\"dataframe\">\n",
       "  <thead>\n",
       "    <tr style=\"text-align: right;\">\n",
       "      <th></th>\n",
       "      <th>diff</th>\n",
       "    </tr>\n",
       "    <tr>\n",
       "      <th>outcome</th>\n",
       "      <th></th>\n",
       "    </tr>\n",
       "  </thead>\n",
       "  <tbody>\n",
       "    <tr>\n",
       "      <th>0</th>\n",
       "      <td>600</td>\n",
       "    </tr>\n",
       "    <tr>\n",
       "      <th>1</th>\n",
       "      <td>505</td>\n",
       "    </tr>\n",
       "  </tbody>\n",
       "</table>\n",
       "</div>"
      ],
      "text/plain": [
       "         diff\n",
       "outcome      \n",
       "0         600\n",
       "1         505"
      ]
     },
     "execution_count": 543,
     "metadata": {},
     "output_type": "execute_result"
    }
   ],
   "source": [
    "contDF.groupby(\"outcome\").agg({'diff': 'median'})"
   ]
  },
  {
   "cell_type": "markdown",
   "metadata": {},
   "source": [
    "* Histogram"
   ]
  },
  {
   "cell_type": "code",
   "execution_count": 544,
   "metadata": {},
   "outputs": [],
   "source": [
    "import matplotlib.pyplot as plt\n",
    "\n",
    "succ=contDF.loc[contDF[outcome_lab]==1]['diff']\n",
    "fail=contDF.loc[contDF[outcome_lab]==0]['diff']"
   ]
  },
  {
   "cell_type": "code",
   "execution_count": 545,
   "metadata": {},
   "outputs": [
    {
     "data": {
      "text/plain": [
       "<matplotlib.text.Text at 0x120614940>"
      ]
     },
     "execution_count": 545,
     "metadata": {},
     "output_type": "execute_result"
    },
    {
     "data": {
      "image/png": "[encoded data removed]",
      "text/plain": [
       "<matplotlib.figure.Figure at 0x1201c5518>"
      ]
     },
     "metadata": {},
     "output_type": "display_data"
    }
   ],
   "source": [
    "plt.hist([fail,succ], bins = 10, normed=True, label=['0','1'])\n",
    "\n",
    "plt.legend()\n",
    "plt.xlabel('Diff')\n",
    "plt.ylabel('Normalized Freq')\n",
    "plt.title('Hist for Last time on the outcome')"
   ]
  },
  {
   "cell_type": "code",
   "execution_count": 546,
   "metadata": {},
   "outputs": [
    {
     "data": {
      "text/plain": [
       "<matplotlib.text.Text at 0x122d48d68>"
      ]
     },
     "execution_count": 546,
     "metadata": {},
     "output_type": "execute_result"
    },
    {
     "data": {
      "image/png": "[encoded data removed]",
      "text/plain": [
       "<matplotlib.figure.Figure at 0x12303ac18>"
      ]
     },
     "metadata": {},
     "output_type": "display_data"
    }
   ],
   "source": [
    "plt.xlim(0,1000)\n",
    "\n",
    "plt.hist([fail,succ], bins = 15, normed=True, label=['0','1'])\n",
    "\n",
    "plt.legend()\n",
    "plt.xlabel('Diff')\n",
    "plt.ylabel('Normalized Freq')\n",
    "plt.title('Hist for Last time on the outcome')"
   ]
  },
  {
   "cell_type": "markdown",
   "metadata": {},
   "source": [
    "###  RSI bounces\n",
    "Let's examine if there is a correlation between the number of bounces and the outcome of the trade"
   ]
  },
  {
   "cell_type": "markdown",
   "metadata": {},
   "source": [
    "As an initial exploration I will create a boxplot displaying the data"
   ]
  },
  {
   "cell_type": "code",
   "execution_count": 547,
   "metadata": {},
   "outputs": [
    {
     "data": {
      "image/png": "[encoded data removed]",
      "text/plain": [
       "<matplotlib.figure.Figure at 0x11ddfef60>"
      ]
     },
     "metadata": {},
     "output_type": "display_data"
    }
   ],
   "source": [
    "ax = sns.boxplot(x=outcome_lab, y=\"RSI bounces\", data=contDF)"
   ]
  },
  {
   "cell_type": "markdown",
   "metadata": {},
   "source": [
    "* Mean for each category"
   ]
  },
  {
   "cell_type": "code",
   "execution_count": 548,
   "metadata": {},
   "outputs": [
    {
     "data": {
      "text/html": [
       "<div>\n",
       "<style scoped>\n",
       "    .dataframe tbody tr th:only-of-type {\n",
       "        vertical-align: middle;\n",
       "    }\n",
       "\n",
       "    .dataframe tbody tr th {\n",
       "        vertical-align: top;\n",
       "    }\n",
       "\n",
       "    .dataframe thead th {\n",
       "        text-align: right;\n",
       "    }\n",
       "</style>\n",
       "<table border=\"1\" class=\"dataframe\">\n",
       "  <thead>\n",
       "    <tr style=\"text-align: right;\">\n",
       "      <th></th>\n",
       "      <th>RSI bounces</th>\n",
       "    </tr>\n",
       "    <tr>\n",
       "      <th>outcome</th>\n",
       "      <th></th>\n",
       "    </tr>\n",
       "  </thead>\n",
       "  <tbody>\n",
       "    <tr>\n",
       "      <th>0</th>\n",
       "      <td>1.948276</td>\n",
       "    </tr>\n",
       "    <tr>\n",
       "      <th>1</th>\n",
       "      <td>1.653846</td>\n",
       "    </tr>\n",
       "  </tbody>\n",
       "</table>\n",
       "</div>"
      ],
      "text/plain": [
       "         RSI bounces\n",
       "outcome             \n",
       "0           1.948276\n",
       "1           1.653846"
      ]
     },
     "execution_count": 548,
     "metadata": {},
     "output_type": "execute_result"
    }
   ],
   "source": [
    "contDF.groupby(outcome_lab).agg({'RSI bounces': 'mean'})"
   ]
  },
  {
   "cell_type": "markdown",
   "metadata": {},
   "source": [
    "* Median for each category"
   ]
  },
  {
   "cell_type": "code",
   "execution_count": 549,
   "metadata": {},
   "outputs": [
    {
     "name": "stdout",
     "output_type": "stream",
     "text": [
      "         RSI bounces\n",
      "outcome             \n",
      "0                  1\n",
      "1                  1\n"
     ]
    }
   ],
   "source": [
    "medianBounce=contDF.groupby(outcome_lab).agg({'RSI bounces': 'median'})\n",
    "print(medianBounce)"
   ]
  },
  {
   "cell_type": "markdown",
   "metadata": {},
   "source": [
    "* Distribution of the number of bounces<br>\n",
    "For this particular task I will create a count plot in order to plot the RSI bounces for both the successful and the failed trades"
   ]
  },
  {
   "cell_type": "code",
   "execution_count": 550,
   "metadata": {},
   "outputs": [
    {
     "data": {
      "image/png": "[encoded data removed]",
      "text/plain": [
       "<matplotlib.figure.Figure at 0x122c512e8>"
      ]
     },
     "metadata": {},
     "output_type": "display_data"
    }
   ],
   "source": [
    "ax = sns.countplot(x=\"RSI bounces\",hue=outcome_lab, data=contDF)"
   ]
  },
  {
   "cell_type": "markdown",
   "metadata": {},
   "source": [
    "Now, let's calculate the normalized number of bounces, as the 2 categories of the outcome variables are imbalanced"
   ]
  },
  {
   "cell_type": "code",
   "execution_count": 551,
   "metadata": {},
   "outputs": [
    {
     "data": {
      "image/png": "[encoded data removed]",
      "text/plain": [
       "<matplotlib.figure.Figure at 0x123583400>"
      ]
     },
     "metadata": {},
     "output_type": "display_data"
    }
   ],
   "source": [
    "contDF_counts = (contDF.groupby([outcome_lab])['RSI bounces']\n",
    "                  .value_counts(normalize=True)\n",
    "                  .rename('percentage')\n",
    "                  .mul(100)\n",
    "                  .reset_index()\n",
    "                  .sort_values('RSI bounces'))\n",
    "\n",
    "p = sns.barplot(x=\"RSI bounces\", y=\"percentage\", hue=outcome_lab, data=contDF_counts)"
   ]
  },
  {
   "cell_type": "markdown",
   "metadata": {},
   "source": [
    "* Histogram"
   ]
  },
  {
   "cell_type": "code",
   "execution_count": 552,
   "metadata": {},
   "outputs": [],
   "source": [
    "import matplotlib.pyplot as plt\n",
    "\n",
    "succ=contDF.loc[contDF[outcome_lab]==1]['RSI bounces']\n",
    "fail=contDF.loc[contDF[outcome_lab]==0]['RSI bounces']"
   ]
  },
  {
   "cell_type": "code",
   "execution_count": 553,
   "metadata": {},
   "outputs": [
    {
     "data": {
      "text/plain": [
       "<matplotlib.text.Text at 0x1236c9160>"
      ]
     },
     "execution_count": 553,
     "metadata": {},
     "output_type": "execute_result"
    },
    {
     "data": {
      "image/png": "[encoded data removed]",
      "text/plain": [
       "<matplotlib.figure.Figure at 0x12379e940>"
      ]
     },
     "metadata": {},
     "output_type": "display_data"
    }
   ],
   "source": [
    "plt.hist([fail,succ], bins = 10, normed=True, label=['0','1'])\n",
    "\n",
    "plt.legend()\n",
    "plt.xlabel('RSI bounces')\n",
    "plt.ylabel('Normalized Freq')\n",
    "plt.title('Hist for RSI bounces on the outcome')"
   ]
  },
  {
   "cell_type": "markdown",
   "metadata": {},
   "source": [
    "* Conclusion<br>\n",
    "The ideal situation for having a S trade is to have either 1 or 2 bounces"
   ]
  },
  {
   "cell_type": "markdown",
   "metadata": {},
   "source": [
    "### No of candles\n",
    "This variable represents the number of candles since the beginning of the trade until the first RSI bounce. I am going compare the distribution of this variable depending on the `outcome` variable.<br>"
   ]
  },
  {
   "cell_type": "markdown",
   "metadata": {},
   "source": [
    "As an initial exploration I will create a boxplot displaying the data:"
   ]
  },
  {
   "cell_type": "code",
   "execution_count": 554,
   "metadata": {},
   "outputs": [
    {
     "data": {
      "image/png": "[encoded data removed]",
      "text/plain": [
       "<matplotlib.figure.Figure at 0x123382e80>"
      ]
     },
     "metadata": {},
     "output_type": "display_data"
    }
   ],
   "source": [
    "if \"No of candles\" in contDF: ax = sns.boxplot(x=outcome_lab, y=\"No of candles\", data=contDF)"
   ]
  },
  {
   "cell_type": "markdown",
   "metadata": {},
   "source": [
    "* Mean for each category"
   ]
  },
  {
   "cell_type": "code",
   "execution_count": 555,
   "metadata": {},
   "outputs": [],
   "source": [
    "if \"No of candles\" in contDF: contDF.groupby(outcome_lab).agg({'No of candles': 'mean'})"
   ]
  },
  {
   "cell_type": "markdown",
   "metadata": {},
   "source": [
    "* Median for each category"
   ]
  },
  {
   "cell_type": "code",
   "execution_count": 556,
   "metadata": {},
   "outputs": [],
   "source": [
    "if \"No of candles\" in contDF: contDF.groupby(outcome_lab).agg({'No of candles': 'median'})"
   ]
  },
  {
   "cell_type": "markdown",
   "metadata": {},
   "source": [
    "Let's analyze the distribution with a histogram"
   ]
  },
  {
   "cell_type": "code",
   "execution_count": 557,
   "metadata": {},
   "outputs": [],
   "source": [
    "if \"No of candles\" in contDF: succ=contDF.loc[contDF[outcome_lab]==1]['No of candles']\n",
    "if \"No of candles\" in contDF: fail=contDF.loc[contDF[outcome_lab]==0]['No of candles']"
   ]
  },
  {
   "cell_type": "code",
   "execution_count": 558,
   "metadata": {},
   "outputs": [
    {
     "data": {
      "image/png": "[encoded data removed]",
      "text/plain": [
       "<matplotlib.figure.Figure at 0x121ac7da0>"
      ]
     },
     "metadata": {},
     "output_type": "display_data"
    }
   ],
   "source": [
    "if \"No of candles\" in contDF: plt.hist([fail,succ], bins = 10, normed=True, label=['0','1'])\n",
    "\n",
    "if \"No of candles\" in contDF: plt.legend()\n",
    "if \"No of candles\" in contDF: plt.xlabel('No of candles')\n",
    "if \"No of candles\" in contDF: plt.ylabel('Normalized Freq')\n",
    "if \"No of candles\" in contDF: plt.title('Hist for No of candles on the outcome')"
   ]
  },
  {
   "cell_type": "markdown",
   "metadata": {},
   "source": [
    "This distribution is right skewed, let's cap the X axis values:"
   ]
  },
  {
   "cell_type": "code",
   "execution_count": 559,
   "metadata": {},
   "outputs": [
    {
     "data": {
      "image/png": "[encoded data removed]",
      "text/plain": [
       "<matplotlib.figure.Figure at 0x122d5b748>"
      ]
     },
     "metadata": {},
     "output_type": "display_data"
    }
   ],
   "source": [
    "if \"No of candles\" in contDF: plt.xlim(0,50)\n",
    "if \"No of candles\" in contDF: plt.hist([fail,succ], bins = 20, normed=True, label=['0','1'])\n",
    "\n",
    "if \"No of candles\" in contDF: plt.legend()\n",
    "if \"No of candles\" in contDF: plt.xlabel('No of candles (<=50)')\n",
    "if \"No of candles\" in contDF: plt.ylabel('Normalized Freq')\n",
    "if \"No of candles\" in contDF: plt.title('Hist for No of candles on the outcome')"
   ]
  },
  {
   "cell_type": "markdown",
   "metadata": {},
   "source": [
    "### entry on RSI\n",
    "This boolean variable will be True if the entry of the trade is in oversold/overbought RSI\n",
    "Firs, let's see the counts for each category of the variable"
   ]
  },
  {
   "cell_type": "code",
   "execution_count": 560,
   "metadata": {},
   "outputs": [
    {
     "data": {
      "text/plain": [
       "0    103\n",
       "1     33\n",
       "Name: entry on RSI, dtype: int64"
      ]
     },
     "execution_count": 560,
     "metadata": {},
     "output_type": "execute_result"
    }
   ],
   "source": [
    "contDF['entry on RSI'].value_counts()"
   ]
  },
  {
   "cell_type": "markdown",
   "metadata": {},
   "source": [
    "Let's compare the proportions for this variable between the 2 categories of the `outcome` variable"
   ]
  },
  {
   "cell_type": "code",
   "execution_count": 561,
   "metadata": {},
   "outputs": [
    {
     "name": "stdout",
     "output_type": "stream",
     "text": [
      "entry on RSI    0   1  All\n",
      "outcome                   \n",
      "0              46  12   58\n",
      "1              57  21   78\n",
      "All           103  33  136\n"
     ]
    }
   ],
   "source": [
    "div_class=pd.crosstab(contDF.iloc[:,outcome_ix], contDF['entry on RSI'],margins=True)\n",
    "print(div_class)"
   ]
  },
  {
   "cell_type": "markdown",
   "metadata": {},
   "source": [
    "It's is easier to visualize the relationship if we calculate the percentages:"
   ]
  },
  {
   "cell_type": "code",
   "execution_count": 562,
   "metadata": {},
   "outputs": [
    {
     "name": "stdout",
     "output_type": "stream",
     "text": [
      "entry on RSI           0           1         All\n",
      "outcome                                         \n",
      "0              44.660194   36.363636   42.647059\n",
      "1              55.339806   63.636364   57.352941\n",
      "All           100.000000  100.000000  100.000000\n"
     ]
    }
   ],
   "source": [
    "prop=(div_class/div_class.loc[\"All\"])*100\n",
    "print(prop)"
   ]
  },
  {
   "cell_type": "markdown",
   "metadata": {},
   "source": [
    "### length of trend (-1)\n",
    "This quantitative discrete variable measures the length of the trade measured in term of the number of candles. Let's start comparing the distribution of this variable for the different categories of the `outcome` variable"
   ]
  },
  {
   "cell_type": "code",
   "execution_count": 563,
   "metadata": {},
   "outputs": [
    {
     "data": {
      "image/png": "[encoded data removed]",
      "text/plain": [
       "<matplotlib.figure.Figure at 0x12379eb70>"
      ]
     },
     "metadata": {},
     "output_type": "display_data"
    }
   ],
   "source": [
    "ax = sns.boxplot(x=outcome_lab, y=\"length of trend (-1)\", data=contDF)"
   ]
  },
  {
   "cell_type": "markdown",
   "metadata": {},
   "source": [
    "Let's analyze the distribution with a histogram"
   ]
  },
  {
   "cell_type": "code",
   "execution_count": 564,
   "metadata": {},
   "outputs": [],
   "source": [
    "succ=contDF.loc[contDF[outcome_lab]==1]['length of trend (-1)']\n",
    "fail=contDF.loc[contDF[outcome_lab]==0]['length of trend (-1)']"
   ]
  },
  {
   "cell_type": "code",
   "execution_count": 565,
   "metadata": {},
   "outputs": [
    {
     "data": {
      "text/plain": [
       "<matplotlib.text.Text at 0x12474a1d0>"
      ]
     },
     "execution_count": 565,
     "metadata": {},
     "output_type": "execute_result"
    },
    {
     "data": {
      "image/png": "[encoded data removed]",
      "text/plain": [
       "<matplotlib.figure.Figure at 0x1245af4e0>"
      ]
     },
     "metadata": {},
     "output_type": "display_data"
    }
   ],
   "source": [
    "plt.hist([fail,succ], bins = 10, normed=True, label=['0','1'])\n",
    "\n",
    "plt.legend()\n",
    "plt.xlabel('length of trend')\n",
    "plt.ylabel('Normalized Freq')\n",
    "plt.title('Hist for Length of the trend depending on the outcome')"
   ]
  },
  {
   "cell_type": "markdown",
   "metadata": {},
   "source": [
    "This distribution is right skewed, let's cap the X axis values:"
   ]
  },
  {
   "cell_type": "code",
   "execution_count": 566,
   "metadata": {},
   "outputs": [
    {
     "data": {
      "text/plain": [
       "<matplotlib.text.Text at 0x124875cf8>"
      ]
     },
     "execution_count": 566,
     "metadata": {},
     "output_type": "execute_result"
    },
    {
     "data": {
      "image/png": "[encoded data removed]",
      "text/plain": [
       "<matplotlib.figure.Figure at 0x1247d4128>"
      ]
     },
     "metadata": {},
     "output_type": "display_data"
    }
   ],
   "source": [
    "plt.xlim(0,200)\n",
    "plt.hist([fail,succ], bins = 20, normed=True, label=['0','1'])\n",
    "\n",
    "plt.legend()\n",
    "plt.xlabel('length of trend (<=100)')\n",
    "plt.ylabel('Normalized Freq')\n",
    "plt.title('Hist for Length of the trend depending on the outcome')"
   ]
  },
  {
   "cell_type": "markdown",
   "metadata": {},
   "source": [
    "* Mean for each category"
   ]
  },
  {
   "cell_type": "code",
   "execution_count": 567,
   "metadata": {},
   "outputs": [
    {
     "data": {
      "text/html": [
       "<div>\n",
       "<style scoped>\n",
       "    .dataframe tbody tr th:only-of-type {\n",
       "        vertical-align: middle;\n",
       "    }\n",
       "\n",
       "    .dataframe tbody tr th {\n",
       "        vertical-align: top;\n",
       "    }\n",
       "\n",
       "    .dataframe thead th {\n",
       "        text-align: right;\n",
       "    }\n",
       "</style>\n",
       "<table border=\"1\" class=\"dataframe\">\n",
       "  <thead>\n",
       "    <tr style=\"text-align: right;\">\n",
       "      <th></th>\n",
       "      <th>length of trend (-1)</th>\n",
       "    </tr>\n",
       "    <tr>\n",
       "      <th>outcome</th>\n",
       "      <th></th>\n",
       "    </tr>\n",
       "  </thead>\n",
       "  <tbody>\n",
       "    <tr>\n",
       "      <th>0</th>\n",
       "      <td>49.551724</td>\n",
       "    </tr>\n",
       "    <tr>\n",
       "      <th>1</th>\n",
       "      <td>34.576923</td>\n",
       "    </tr>\n",
       "  </tbody>\n",
       "</table>\n",
       "</div>"
      ],
      "text/plain": [
       "         length of trend (-1)\n",
       "outcome                      \n",
       "0                   49.551724\n",
       "1                   34.576923"
      ]
     },
     "execution_count": 567,
     "metadata": {},
     "output_type": "execute_result"
    }
   ],
   "source": [
    "contDF.groupby(outcome_lab).agg({'length of trend (-1)': 'mean'})"
   ]
  },
  {
   "cell_type": "markdown",
   "metadata": {},
   "source": [
    "* Median for each category"
   ]
  },
  {
   "cell_type": "code",
   "execution_count": 568,
   "metadata": {},
   "outputs": [
    {
     "data": {
      "text/html": [
       "<div>\n",
       "<style scoped>\n",
       "    .dataframe tbody tr th:only-of-type {\n",
       "        vertical-align: middle;\n",
       "    }\n",
       "\n",
       "    .dataframe tbody tr th {\n",
       "        vertical-align: top;\n",
       "    }\n",
       "\n",
       "    .dataframe thead th {\n",
       "        text-align: right;\n",
       "    }\n",
       "</style>\n",
       "<table border=\"1\" class=\"dataframe\">\n",
       "  <thead>\n",
       "    <tr style=\"text-align: right;\">\n",
       "      <th></th>\n",
       "      <th>length of trend (-1)</th>\n",
       "    </tr>\n",
       "    <tr>\n",
       "      <th>outcome</th>\n",
       "      <th></th>\n",
       "    </tr>\n",
       "  </thead>\n",
       "  <tbody>\n",
       "    <tr>\n",
       "      <th>0</th>\n",
       "      <td>33.5</td>\n",
       "    </tr>\n",
       "    <tr>\n",
       "      <th>1</th>\n",
       "      <td>22.0</td>\n",
       "    </tr>\n",
       "  </tbody>\n",
       "</table>\n",
       "</div>"
      ],
      "text/plain": [
       "         length of trend (-1)\n",
       "outcome                      \n",
       "0                        33.5\n",
       "1                        22.0"
      ]
     },
     "execution_count": 568,
     "metadata": {},
     "output_type": "execute_result"
    }
   ],
   "source": [
    "contDF.groupby(outcome_lab).agg({'length of trend (-1)': 'median'})"
   ]
  },
  {
   "cell_type": "markdown",
   "metadata": {},
   "source": [
    "### Pips_ratio\n",
    "This variable contains the ratio between 'length of trend (-1)'/'length in pips'"
   ]
  },
  {
   "cell_type": "code",
   "execution_count": 569,
   "metadata": {},
   "outputs": [],
   "source": [
    "contDF['pips_ratio']=contDF['length in pips (-1)'].astype(int)/contDF['length of trend (-1)'].astype(int)"
   ]
  },
  {
   "cell_type": "code",
   "execution_count": 570,
   "metadata": {},
   "outputs": [
    {
     "data": {
      "image/png": "[encoded data removed]",
      "text/plain": [
       "<matplotlib.figure.Figure at 0x1233824e0>"
      ]
     },
     "metadata": {},
     "output_type": "display_data"
    }
   ],
   "source": [
    "ax = sns.boxplot(x=outcome_lab, y=\"pips_ratio\", data=contDF)"
   ]
  },
  {
   "cell_type": "markdown",
   "metadata": {},
   "source": [
    "* Mean for each category"
   ]
  },
  {
   "cell_type": "code",
   "execution_count": 571,
   "metadata": {},
   "outputs": [
    {
     "data": {
      "text/html": [
       "<div>\n",
       "<style scoped>\n",
       "    .dataframe tbody tr th:only-of-type {\n",
       "        vertical-align: middle;\n",
       "    }\n",
       "\n",
       "    .dataframe tbody tr th {\n",
       "        vertical-align: top;\n",
       "    }\n",
       "\n",
       "    .dataframe thead th {\n",
       "        text-align: right;\n",
       "    }\n",
       "</style>\n",
       "<table border=\"1\" class=\"dataframe\">\n",
       "  <thead>\n",
       "    <tr style=\"text-align: right;\">\n",
       "      <th></th>\n",
       "      <th>pips_ratio</th>\n",
       "    </tr>\n",
       "    <tr>\n",
       "      <th>outcome</th>\n",
       "      <th></th>\n",
       "    </tr>\n",
       "  </thead>\n",
       "  <tbody>\n",
       "    <tr>\n",
       "      <th>0</th>\n",
       "      <td>310.185903</td>\n",
       "    </tr>\n",
       "    <tr>\n",
       "      <th>1</th>\n",
       "      <td>303.042938</td>\n",
       "    </tr>\n",
       "  </tbody>\n",
       "</table>\n",
       "</div>"
      ],
      "text/plain": [
       "         pips_ratio\n",
       "outcome            \n",
       "0        310.185903\n",
       "1        303.042938"
      ]
     },
     "execution_count": 571,
     "metadata": {},
     "output_type": "execute_result"
    }
   ],
   "source": [
    "contDF.groupby(outcome_lab).agg({'pips_ratio': 'mean'})"
   ]
  },
  {
   "cell_type": "markdown",
   "metadata": {},
   "source": [
    "* Median for each category"
   ]
  },
  {
   "cell_type": "code",
   "execution_count": 572,
   "metadata": {},
   "outputs": [
    {
     "data": {
      "text/html": [
       "<div>\n",
       "<style scoped>\n",
       "    .dataframe tbody tr th:only-of-type {\n",
       "        vertical-align: middle;\n",
       "    }\n",
       "\n",
       "    .dataframe tbody tr th {\n",
       "        vertical-align: top;\n",
       "    }\n",
       "\n",
       "    .dataframe thead th {\n",
       "        text-align: right;\n",
       "    }\n",
       "</style>\n",
       "<table border=\"1\" class=\"dataframe\">\n",
       "  <thead>\n",
       "    <tr style=\"text-align: right;\">\n",
       "      <th></th>\n",
       "      <th>pips_ratio</th>\n",
       "    </tr>\n",
       "    <tr>\n",
       "      <th>outcome</th>\n",
       "      <th></th>\n",
       "    </tr>\n",
       "  </thead>\n",
       "  <tbody>\n",
       "    <tr>\n",
       "      <th>0</th>\n",
       "      <td>211.949367</td>\n",
       "    </tr>\n",
       "    <tr>\n",
       "      <th>1</th>\n",
       "      <td>244.800699</td>\n",
       "    </tr>\n",
       "  </tbody>\n",
       "</table>\n",
       "</div>"
      ],
      "text/plain": [
       "         pips_ratio\n",
       "outcome            \n",
       "0        211.949367\n",
       "1        244.800699"
      ]
     },
     "execution_count": 572,
     "metadata": {},
     "output_type": "execute_result"
    }
   ],
   "source": [
    "contDF.groupby(outcome_lab).agg({'pips_ratio': 'median'})"
   ]
  },
  {
   "cell_type": "markdown",
   "metadata": {},
   "source": [
    "Let's analyze the distribution with a histogram"
   ]
  },
  {
   "cell_type": "code",
   "execution_count": 573,
   "metadata": {},
   "outputs": [],
   "source": [
    "succ=contDF.loc[contDF[outcome_lab]==1]['pips_ratio']\n",
    "fail=contDF.loc[contDF[outcome_lab]==0]['pips_ratio']"
   ]
  },
  {
   "cell_type": "code",
   "execution_count": 574,
   "metadata": {},
   "outputs": [
    {
     "data": {
      "text/plain": [
       "<matplotlib.text.Text at 0x124a93828>"
      ]
     },
     "execution_count": 574,
     "metadata": {},
     "output_type": "execute_result"
    },
    {
     "data": {
      "image/png": "[encoded data removed]",
      "text/plain": [
       "<matplotlib.figure.Figure at 0x124a01588>"
      ]
     },
     "metadata": {},
     "output_type": "display_data"
    }
   ],
   "source": [
    "plt.hist([fail,succ], bins = 10, normed=True, label=['0','1'])\n",
    "\n",
    "plt.legend()\n",
    "plt.xlabel('Pips ratio')\n",
    "plt.ylabel('Normalized Freq')\n",
    "plt.title('Hist for Pips ratio on the outcome')"
   ]
  },
  {
   "cell_type": "code",
   "execution_count": 575,
   "metadata": {},
   "outputs": [
    {
     "data": {
      "text/plain": [
       "<matplotlib.text.Text at 0x124bc3908>"
      ]
     },
     "execution_count": 575,
     "metadata": {},
     "output_type": "execute_result"
    },
    {
     "data": {
      "image/png": "[encoded data removed]",
      "text/plain": [
       "<matplotlib.figure.Figure at 0x124b940f0>"
      ]
     },
     "metadata": {},
     "output_type": "display_data"
    }
   ],
   "source": [
    "plt.xlim(0,300)\n",
    "\n",
    "plt.hist([fail,succ], bins = 15, normed=True, label=['0','1'])\n",
    "\n",
    "plt.legend()\n",
    "plt.xlabel('Pips ratio')\n",
    "plt.ylabel('Normalized Freq')\n",
    "plt.title('Hist for Pips ratio on the outcome')"
   ]
  },
  {
   "cell_type": "markdown",
   "metadata": {},
   "source": [
    "### Pips_ratio normalized"
   ]
  },
  {
   "cell_type": "code",
   "execution_count": 576,
   "metadata": {},
   "outputs": [],
   "source": [
    "contDF['pips_ratio_norm']=contDF['norm_length_pips'].astype(int)/contDF['length of trend (-1)'].astype(int)"
   ]
  },
  {
   "cell_type": "code",
   "execution_count": 577,
   "metadata": {},
   "outputs": [
    {
     "data": {
      "image/png": "[encoded data removed]",
      "text/plain": [
       "<matplotlib.figure.Figure at 0x121ac7a90>"
      ]
     },
     "metadata": {},
     "output_type": "display_data"
    }
   ],
   "source": [
    "ax = sns.boxplot(x=outcome_lab, y=\"pips_ratio_norm\", data=contDF)"
   ]
  },
  {
   "cell_type": "markdown",
   "metadata": {},
   "source": [
    "* Mean for each category"
   ]
  },
  {
   "cell_type": "code",
   "execution_count": 578,
   "metadata": {},
   "outputs": [
    {
     "data": {
      "text/html": [
       "<div>\n",
       "<style scoped>\n",
       "    .dataframe tbody tr th:only-of-type {\n",
       "        vertical-align: middle;\n",
       "    }\n",
       "\n",
       "    .dataframe tbody tr th {\n",
       "        vertical-align: top;\n",
       "    }\n",
       "\n",
       "    .dataframe thead th {\n",
       "        text-align: right;\n",
       "    }\n",
       "</style>\n",
       "<table border=\"1\" class=\"dataframe\">\n",
       "  <thead>\n",
       "    <tr style=\"text-align: right;\">\n",
       "      <th></th>\n",
       "      <th>pips_ratio_norm</th>\n",
       "    </tr>\n",
       "    <tr>\n",
       "      <th>outcome</th>\n",
       "      <th></th>\n",
       "    </tr>\n",
       "  </thead>\n",
       "  <tbody>\n",
       "    <tr>\n",
       "      <th>0</th>\n",
       "      <td>6.444020</td>\n",
       "    </tr>\n",
       "    <tr>\n",
       "      <th>1</th>\n",
       "      <td>6.287303</td>\n",
       "    </tr>\n",
       "  </tbody>\n",
       "</table>\n",
       "</div>"
      ],
      "text/plain": [
       "         pips_ratio_norm\n",
       "outcome                 \n",
       "0               6.444020\n",
       "1               6.287303"
      ]
     },
     "execution_count": 578,
     "metadata": {},
     "output_type": "execute_result"
    }
   ],
   "source": [
    "contDF.groupby(outcome_lab).agg({'pips_ratio_norm': 'mean'})"
   ]
  },
  {
   "cell_type": "markdown",
   "metadata": {},
   "source": [
    "* Median for each category"
   ]
  },
  {
   "cell_type": "code",
   "execution_count": 579,
   "metadata": {},
   "outputs": [
    {
     "data": {
      "text/html": [
       "<div>\n",
       "<style scoped>\n",
       "    .dataframe tbody tr th:only-of-type {\n",
       "        vertical-align: middle;\n",
       "    }\n",
       "\n",
       "    .dataframe tbody tr th {\n",
       "        vertical-align: top;\n",
       "    }\n",
       "\n",
       "    .dataframe thead th {\n",
       "        text-align: right;\n",
       "    }\n",
       "</style>\n",
       "<table border=\"1\" class=\"dataframe\">\n",
       "  <thead>\n",
       "    <tr style=\"text-align: right;\">\n",
       "      <th></th>\n",
       "      <th>pips_ratio_norm</th>\n",
       "    </tr>\n",
       "    <tr>\n",
       "      <th>outcome</th>\n",
       "      <th></th>\n",
       "    </tr>\n",
       "  </thead>\n",
       "  <tbody>\n",
       "    <tr>\n",
       "      <th>0</th>\n",
       "      <td>4.413502</td>\n",
       "    </tr>\n",
       "    <tr>\n",
       "      <th>1</th>\n",
       "      <td>5.083916</td>\n",
       "    </tr>\n",
       "  </tbody>\n",
       "</table>\n",
       "</div>"
      ],
      "text/plain": [
       "         pips_ratio_norm\n",
       "outcome                 \n",
       "0               4.413502\n",
       "1               5.083916"
      ]
     },
     "execution_count": 579,
     "metadata": {},
     "output_type": "execute_result"
    }
   ],
   "source": [
    "contDF.groupby(outcome_lab).agg({'pips_ratio_norm': 'median'})"
   ]
  },
  {
   "cell_type": "markdown",
   "metadata": {},
   "source": [
    "Let's analyze the distribution with a histogram"
   ]
  },
  {
   "cell_type": "code",
   "execution_count": 580,
   "metadata": {},
   "outputs": [],
   "source": [
    "succ=contDF.loc[contDF[outcome_lab]==1]['pips_ratio_norm']\n",
    "fail=contDF.loc[contDF[outcome_lab]==0]['pips_ratio_norm']"
   ]
  },
  {
   "cell_type": "code",
   "execution_count": 581,
   "metadata": {},
   "outputs": [
    {
     "data": {
      "text/plain": [
       "<matplotlib.text.Text at 0x124e1c518>"
      ]
     },
     "execution_count": 581,
     "metadata": {},
     "output_type": "execute_result"
    },
    {
     "data": {
      "image/png": "[encoded data removed]",
      "text/plain": [
       "<matplotlib.figure.Figure at 0x1249f2048>"
      ]
     },
     "metadata": {},
     "output_type": "display_data"
    }
   ],
   "source": [
    "plt.hist([fail,succ], bins = 20, normed=True, label=['0','1'])\n",
    "\n",
    "plt.legend()\n",
    "plt.xlabel('Pips ratio normalized')\n",
    "plt.ylabel('Normalized Freq')\n",
    "plt.title('Hist for Pips ratio on the outcome')"
   ]
  },
  {
   "cell_type": "code",
   "execution_count": 582,
   "metadata": {},
   "outputs": [
    {
     "data": {
      "text/plain": [
       "<matplotlib.text.Text at 0x1250056a0>"
      ]
     },
     "execution_count": 582,
     "metadata": {},
     "output_type": "execute_result"
    },
    {
     "data": {
      "image/png": "[encoded data removed]",
      "text/plain": [
       "<matplotlib.figure.Figure at 0x124f5a160>"
      ]
     },
     "metadata": {},
     "output_type": "display_data"
    }
   ],
   "source": [
    "plt.xlim(0,10)\n",
    "\n",
    "plt.hist([fail,succ], bins = 25, normed=True, label=['0','1'])\n",
    "\n",
    "plt.legend()\n",
    "plt.xlabel('Pips ratio')\n",
    "plt.ylabel('Normalized Freq')\n",
    "plt.title('Hist for Pips ratio on the outcome')"
   ]
  },
  {
   "cell_type": "markdown",
   "metadata": {},
   "source": [
    "### inn_bounce\n",
    "Integer variable representing the number of candles of the inner bounce. Let's start comparing the distribution of this variable for the different categories of the `outcome` variable"
   ]
  },
  {
   "cell_type": "code",
   "execution_count": 583,
   "metadata": {},
   "outputs": [
    {
     "data": {
      "image/png": "[encoded data removed]",
      "text/plain": [
       "<matplotlib.figure.Figure at 0x124f5e668>"
      ]
     },
     "metadata": {},
     "output_type": "display_data"
    }
   ],
   "source": [
    "ax = sns.boxplot(x=outcome_lab, y=\"inn_bounce\", data=contDF)"
   ]
  },
  {
   "cell_type": "markdown",
   "metadata": {},
   "source": [
    "* Mean for each category"
   ]
  },
  {
   "cell_type": "code",
   "execution_count": 584,
   "metadata": {},
   "outputs": [
    {
     "data": {
      "text/html": [
       "<div>\n",
       "<style scoped>\n",
       "    .dataframe tbody tr th:only-of-type {\n",
       "        vertical-align: middle;\n",
       "    }\n",
       "\n",
       "    .dataframe tbody tr th {\n",
       "        vertical-align: top;\n",
       "    }\n",
       "\n",
       "    .dataframe thead th {\n",
       "        text-align: right;\n",
       "    }\n",
       "</style>\n",
       "<table border=\"1\" class=\"dataframe\">\n",
       "  <thead>\n",
       "    <tr style=\"text-align: right;\">\n",
       "      <th></th>\n",
       "      <th>inn_bounce</th>\n",
       "    </tr>\n",
       "    <tr>\n",
       "      <th>outcome</th>\n",
       "      <th></th>\n",
       "    </tr>\n",
       "  </thead>\n",
       "  <tbody>\n",
       "    <tr>\n",
       "      <th>0</th>\n",
       "      <td>8.827586</td>\n",
       "    </tr>\n",
       "    <tr>\n",
       "      <th>1</th>\n",
       "      <td>8.217949</td>\n",
       "    </tr>\n",
       "  </tbody>\n",
       "</table>\n",
       "</div>"
      ],
      "text/plain": [
       "         inn_bounce\n",
       "outcome            \n",
       "0          8.827586\n",
       "1          8.217949"
      ]
     },
     "execution_count": 584,
     "metadata": {},
     "output_type": "execute_result"
    }
   ],
   "source": [
    "contDF.groupby(outcome_lab).agg({'inn_bounce': 'mean'})"
   ]
  },
  {
   "cell_type": "markdown",
   "metadata": {},
   "source": [
    "* Median for each category"
   ]
  },
  {
   "cell_type": "code",
   "execution_count": 585,
   "metadata": {},
   "outputs": [
    {
     "data": {
      "text/html": [
       "<div>\n",
       "<style scoped>\n",
       "    .dataframe tbody tr th:only-of-type {\n",
       "        vertical-align: middle;\n",
       "    }\n",
       "\n",
       "    .dataframe tbody tr th {\n",
       "        vertical-align: top;\n",
       "    }\n",
       "\n",
       "    .dataframe thead th {\n",
       "        text-align: right;\n",
       "    }\n",
       "</style>\n",
       "<table border=\"1\" class=\"dataframe\">\n",
       "  <thead>\n",
       "    <tr style=\"text-align: right;\">\n",
       "      <th></th>\n",
       "      <th>inn_bounce</th>\n",
       "    </tr>\n",
       "    <tr>\n",
       "      <th>outcome</th>\n",
       "      <th></th>\n",
       "    </tr>\n",
       "  </thead>\n",
       "  <tbody>\n",
       "    <tr>\n",
       "      <th>0</th>\n",
       "      <td>7</td>\n",
       "    </tr>\n",
       "    <tr>\n",
       "      <th>1</th>\n",
       "      <td>6</td>\n",
       "    </tr>\n",
       "  </tbody>\n",
       "</table>\n",
       "</div>"
      ],
      "text/plain": [
       "         inn_bounce\n",
       "outcome            \n",
       "0                 7\n",
       "1                 6"
      ]
     },
     "execution_count": 585,
     "metadata": {},
     "output_type": "execute_result"
    }
   ],
   "source": [
    "contDF.groupby(outcome_lab).agg({'inn_bounce': 'median'})"
   ]
  },
  {
   "cell_type": "markdown",
   "metadata": {},
   "source": [
    "* Barplot"
   ]
  },
  {
   "cell_type": "code",
   "execution_count": 586,
   "metadata": {},
   "outputs": [
    {
     "data": {
      "image/png": "[encoded data removed]",
      "text/plain": [
       "<matplotlib.figure.Figure at 0x125112160>"
      ]
     },
     "metadata": {},
     "output_type": "display_data"
    }
   ],
   "source": [
    "contDF_counts = (contDF.groupby([outcome_lab])['inn_bounce']\n",
    "                  .value_counts(normalize=True)\n",
    "                  .rename('percentage')\n",
    "                  .mul(100)\n",
    "                  .reset_index()\n",
    "                  .sort_values('inn_bounce'))\n",
    "\n",
    "p = sns.barplot(x=\"inn_bounce\", y=\"percentage\", hue=outcome_lab, data=contDF_counts)"
   ]
  },
  {
   "cell_type": "markdown",
   "metadata": {},
   "source": [
    "* Histogram"
   ]
  },
  {
   "cell_type": "code",
   "execution_count": 587,
   "metadata": {},
   "outputs": [],
   "source": [
    "succ=contDF.loc[contDF[outcome_lab]==1]['inn_bounce']\n",
    "fail=contDF.loc[contDF[outcome_lab]==0]['inn_bounce']"
   ]
  },
  {
   "cell_type": "code",
   "execution_count": 588,
   "metadata": {},
   "outputs": [
    {
     "data": {
      "text/plain": [
       "<matplotlib.text.Text at 0x125470160>"
      ]
     },
     "execution_count": 588,
     "metadata": {},
     "output_type": "execute_result"
    },
    {
     "data": {
      "image/png": "[encoded data removed]",
      "text/plain": [
       "<matplotlib.figure.Figure at 0x12363fe48>"
      ]
     },
     "metadata": {},
     "output_type": "display_data"
    }
   ],
   "source": [
    "plt.hist([fail,succ], bins = 20, normed=True, label=['0','1'])\n",
    "\n",
    "plt.legend()\n",
    "plt.xlabel('inn_bounce')\n",
    "plt.ylabel('Normalized Freq')\n",
    "plt.title('Hist for Length of the trend depending on the outcome')"
   ]
  },
  {
   "cell_type": "code",
   "execution_count": 589,
   "metadata": {},
   "outputs": [
    {
     "data": {
      "text/plain": [
       "<matplotlib.text.Text at 0x1255de080>"
      ]
     },
     "execution_count": 589,
     "metadata": {},
     "output_type": "execute_result"
    },
    {
     "data": {
      "image/png": "[encoded data removed]",
      "text/plain": [
       "<matplotlib.figure.Figure at 0x1255a0668>"
      ]
     },
     "metadata": {},
     "output_type": "display_data"
    }
   ],
   "source": [
    "plt.xlim(0,30)\n",
    "plt.hist([fail,succ], bins = 10, normed=True, label=['0','1'])\n",
    "\n",
    "plt.legend()\n",
    "plt.xlabel('inn_bounce (<=30)')\n",
    "plt.ylabel('Normalized Freq')\n",
    "plt.title('Hist for inn_bounce depending on the outcome')"
   ]
  },
  {
   "cell_type": "markdown",
   "metadata": {},
   "source": [
    "### bounce length\n",
    "This variable is a comma separated list of integers representing how wide (in number of candles) each of the RSI bounces is. This variable requires a little bit of preprocessing, and I will write a function that calculates the total length (in number of candles) by adding the length of each of the bounces"
   ]
  },
  {
   "cell_type": "code",
   "execution_count": 590,
   "metadata": {},
   "outputs": [],
   "source": [
    "def sum_lengths(x):\n",
    "    '''\n",
    "    Function to calculate the sum (in number of candles)\n",
    "    of all the RSI bounces\n",
    "    \n",
    "    Parameters\n",
    "    ----------\n",
    "    x = string with a comma separated list of numbers\n",
    "        i.e. 1,4,2,3\n",
    "        \n",
    "    Returns\n",
    "    -------\n",
    "    An integer representing the total bounce length\n",
    "    '''\n",
    "    \n",
    "    return sum([int(i) for i in x.split(\",\")])\n",
    "    "
   ]
  },
  {
   "cell_type": "markdown",
   "metadata": {},
   "source": [
    "And I will apply the `sum_lengths` function and put the results in a new column named `sum_bounces`"
   ]
  },
  {
   "cell_type": "code",
   "execution_count": 591,
   "metadata": {},
   "outputs": [],
   "source": [
    "contDF['sum_bounces']=contDF['bounce length'].astype(str).apply(sum_lengths)"
   ]
  },
  {
   "cell_type": "markdown",
   "metadata": {},
   "source": [
    "Now, I will plot the distribution of this new variable on each `outcome`category:"
   ]
  },
  {
   "cell_type": "code",
   "execution_count": 592,
   "metadata": {},
   "outputs": [
    {
     "data": {
      "image/png": "[encoded data removed]",
      "text/plain": [
       "<matplotlib.figure.Figure at 0x125448fd0>"
      ]
     },
     "metadata": {},
     "output_type": "display_data"
    }
   ],
   "source": [
    "ax = sns.boxplot(x=outcome_lab, y=\"sum_bounces\", data=contDF)"
   ]
  },
  {
   "cell_type": "markdown",
   "metadata": {},
   "source": [
    "* Mean for each category"
   ]
  },
  {
   "cell_type": "code",
   "execution_count": 593,
   "metadata": {},
   "outputs": [
    {
     "data": {
      "text/html": [
       "<div>\n",
       "<style scoped>\n",
       "    .dataframe tbody tr th:only-of-type {\n",
       "        vertical-align: middle;\n",
       "    }\n",
       "\n",
       "    .dataframe tbody tr th {\n",
       "        vertical-align: top;\n",
       "    }\n",
       "\n",
       "    .dataframe thead th {\n",
       "        text-align: right;\n",
       "    }\n",
       "</style>\n",
       "<table border=\"1\" class=\"dataframe\">\n",
       "  <thead>\n",
       "    <tr style=\"text-align: right;\">\n",
       "      <th></th>\n",
       "      <th>sum_bounces</th>\n",
       "    </tr>\n",
       "    <tr>\n",
       "      <th>outcome</th>\n",
       "      <th></th>\n",
       "    </tr>\n",
       "  </thead>\n",
       "  <tbody>\n",
       "    <tr>\n",
       "      <th>0</th>\n",
       "      <td>5.896552</td>\n",
       "    </tr>\n",
       "    <tr>\n",
       "      <th>1</th>\n",
       "      <td>5.525641</td>\n",
       "    </tr>\n",
       "  </tbody>\n",
       "</table>\n",
       "</div>"
      ],
      "text/plain": [
       "         sum_bounces\n",
       "outcome             \n",
       "0           5.896552\n",
       "1           5.525641"
      ]
     },
     "execution_count": 593,
     "metadata": {},
     "output_type": "execute_result"
    }
   ],
   "source": [
    "contDF.groupby(outcome_lab).agg({'sum_bounces': 'mean'})"
   ]
  },
  {
   "cell_type": "markdown",
   "metadata": {},
   "source": [
    "* Median for each category"
   ]
  },
  {
   "cell_type": "code",
   "execution_count": 594,
   "metadata": {},
   "outputs": [
    {
     "data": {
      "text/html": [
       "<div>\n",
       "<style scoped>\n",
       "    .dataframe tbody tr th:only-of-type {\n",
       "        vertical-align: middle;\n",
       "    }\n",
       "\n",
       "    .dataframe tbody tr th {\n",
       "        vertical-align: top;\n",
       "    }\n",
       "\n",
       "    .dataframe thead th {\n",
       "        text-align: right;\n",
       "    }\n",
       "</style>\n",
       "<table border=\"1\" class=\"dataframe\">\n",
       "  <thead>\n",
       "    <tr style=\"text-align: right;\">\n",
       "      <th></th>\n",
       "      <th>sum_bounces</th>\n",
       "    </tr>\n",
       "    <tr>\n",
       "      <th>outcome</th>\n",
       "      <th></th>\n",
       "    </tr>\n",
       "  </thead>\n",
       "  <tbody>\n",
       "    <tr>\n",
       "      <th>0</th>\n",
       "      <td>3</td>\n",
       "    </tr>\n",
       "    <tr>\n",
       "      <th>1</th>\n",
       "      <td>3</td>\n",
       "    </tr>\n",
       "  </tbody>\n",
       "</table>\n",
       "</div>"
      ],
      "text/plain": [
       "         sum_bounces\n",
       "outcome             \n",
       "0                  3\n",
       "1                  3"
      ]
     },
     "execution_count": 594,
     "metadata": {},
     "output_type": "execute_result"
    }
   ],
   "source": [
    "contDF.groupby(outcome_lab).agg({'sum_bounces': 'median'})"
   ]
  },
  {
   "cell_type": "markdown",
   "metadata": {},
   "source": [
    "* Histogram"
   ]
  },
  {
   "cell_type": "code",
   "execution_count": 595,
   "metadata": {},
   "outputs": [],
   "source": [
    "succ=contDF.loc[contDF[outcome_lab]==1]['sum_bounces']\n",
    "fail=contDF.loc[contDF[outcome_lab]==0]['sum_bounces']"
   ]
  },
  {
   "cell_type": "code",
   "execution_count": 596,
   "metadata": {},
   "outputs": [
    {
     "data": {
      "text/plain": [
       "<matplotlib.text.Text at 0x1249342e8>"
      ]
     },
     "execution_count": 596,
     "metadata": {},
     "output_type": "execute_result"
    },
    {
     "data": {
      "image/png": "[encoded data removed]",
      "text/plain": [
       "<matplotlib.figure.Figure at 0x1256b62b0>"
      ]
     },
     "metadata": {},
     "output_type": "display_data"
    }
   ],
   "source": [
    "plt.hist([fail,succ], bins = 15, normed=True, label=['0','1'])\n",
    "\n",
    "plt.legend()\n",
    "plt.xlabel('sum_bounces')\n",
    "plt.ylabel('Normalized Freq')\n",
    "plt.title('Hist for sum_bounces depending on the outcome')"
   ]
  },
  {
   "cell_type": "code",
   "execution_count": 597,
   "metadata": {},
   "outputs": [
    {
     "data": {
      "text/plain": [
       "<matplotlib.text.Text at 0x121503940>"
      ]
     },
     "execution_count": 597,
     "metadata": {},
     "output_type": "execute_result"
    },
    {
     "data": {
      "image/png": "[encoded data removed]",
      "text/plain": [
       "<matplotlib.figure.Figure at 0x12451dc50>"
      ]
     },
     "metadata": {},
     "output_type": "display_data"
    }
   ],
   "source": [
    "plt.xlim(0,30)\n",
    "plt.hist([fail,succ], bins = 15, normed=True, label=['0','1'])\n",
    "\n",
    "plt.legend()\n",
    "plt.xlabel('sum_bounces (<=30)')\n",
    "plt.ylabel('Normalized Freq')\n",
    "plt.title('Hist for inn_bounce depending on the outcome')"
   ]
  },
  {
   "cell_type": "markdown",
   "metadata": {},
   "source": [
    "### bounce (pips)\n",
    "This quantitative variable represents the length from the horizontal line defined by IC until the highest point of the bounce (considering wicks also).  Let's start comparing the distribution of this variable for the different categories of the `outcome` variable"
   ]
  },
  {
   "cell_type": "code",
   "execution_count": 598,
   "metadata": {},
   "outputs": [
    {
     "data": {
      "image/png": "[encoded data removed]",
      "text/plain": [
       "<matplotlib.figure.Figure at 0x1249eb0b8>"
      ]
     },
     "metadata": {},
     "output_type": "display_data"
    }
   ],
   "source": [
    "ax = sns.boxplot(x=outcome_lab, y=\"bounce (pips)\", data=contDF)"
   ]
  },
  {
   "cell_type": "markdown",
   "metadata": {},
   "source": [
    "* Mean for each category"
   ]
  },
  {
   "cell_type": "code",
   "execution_count": 599,
   "metadata": {},
   "outputs": [
    {
     "data": {
      "text/html": [
       "<div>\n",
       "<style scoped>\n",
       "    .dataframe tbody tr th:only-of-type {\n",
       "        vertical-align: middle;\n",
       "    }\n",
       "\n",
       "    .dataframe tbody tr th {\n",
       "        vertical-align: top;\n",
       "    }\n",
       "\n",
       "    .dataframe thead th {\n",
       "        text-align: right;\n",
       "    }\n",
       "</style>\n",
       "<table border=\"1\" class=\"dataframe\">\n",
       "  <thead>\n",
       "    <tr style=\"text-align: right;\">\n",
       "      <th></th>\n",
       "      <th>bounce (pips)</th>\n",
       "    </tr>\n",
       "    <tr>\n",
       "      <th>outcome</th>\n",
       "      <th></th>\n",
       "    </tr>\n",
       "  </thead>\n",
       "  <tbody>\n",
       "    <tr>\n",
       "      <th>0</th>\n",
       "      <td>1881.327586</td>\n",
       "    </tr>\n",
       "    <tr>\n",
       "      <th>1</th>\n",
       "      <td>1750.923077</td>\n",
       "    </tr>\n",
       "  </tbody>\n",
       "</table>\n",
       "</div>"
      ],
      "text/plain": [
       "         bounce (pips)\n",
       "outcome               \n",
       "0          1881.327586\n",
       "1          1750.923077"
      ]
     },
     "execution_count": 599,
     "metadata": {},
     "output_type": "execute_result"
    }
   ],
   "source": [
    "contDF.groupby(outcome_lab).agg({'bounce (pips)': 'mean'})"
   ]
  },
  {
   "cell_type": "markdown",
   "metadata": {},
   "source": [
    "* Median for each category"
   ]
  },
  {
   "cell_type": "code",
   "execution_count": 600,
   "metadata": {},
   "outputs": [
    {
     "data": {
      "text/html": [
       "<div>\n",
       "<style scoped>\n",
       "    .dataframe tbody tr th:only-of-type {\n",
       "        vertical-align: middle;\n",
       "    }\n",
       "\n",
       "    .dataframe tbody tr th {\n",
       "        vertical-align: top;\n",
       "    }\n",
       "\n",
       "    .dataframe thead th {\n",
       "        text-align: right;\n",
       "    }\n",
       "</style>\n",
       "<table border=\"1\" class=\"dataframe\">\n",
       "  <thead>\n",
       "    <tr style=\"text-align: right;\">\n",
       "      <th></th>\n",
       "      <th>bounce (pips)</th>\n",
       "    </tr>\n",
       "    <tr>\n",
       "      <th>outcome</th>\n",
       "      <th></th>\n",
       "    </tr>\n",
       "  </thead>\n",
       "  <tbody>\n",
       "    <tr>\n",
       "      <th>0</th>\n",
       "      <td>1396.5</td>\n",
       "    </tr>\n",
       "    <tr>\n",
       "      <th>1</th>\n",
       "      <td>1148.0</td>\n",
       "    </tr>\n",
       "  </tbody>\n",
       "</table>\n",
       "</div>"
      ],
      "text/plain": [
       "         bounce (pips)\n",
       "outcome               \n",
       "0               1396.5\n",
       "1               1148.0"
      ]
     },
     "execution_count": 600,
     "metadata": {},
     "output_type": "execute_result"
    }
   ],
   "source": [
    "contDF.groupby(outcome_lab).agg({'bounce (pips)': 'median'})"
   ]
  },
  {
   "cell_type": "markdown",
   "metadata": {},
   "source": [
    "* Histogram"
   ]
  },
  {
   "cell_type": "code",
   "execution_count": 601,
   "metadata": {},
   "outputs": [],
   "source": [
    "succ=contDF.loc[contDF[outcome_lab]==1]['bounce (pips)']\n",
    "fail=contDF.loc[contDF[outcome_lab]==0]['bounce (pips)']"
   ]
  },
  {
   "cell_type": "code",
   "execution_count": 602,
   "metadata": {},
   "outputs": [
    {
     "data": {
      "text/plain": [
       "<matplotlib.text.Text at 0x12370a160>"
      ]
     },
     "execution_count": 602,
     "metadata": {},
     "output_type": "execute_result"
    },
    {
     "data": {
      "image/png": "[encoded data removed]",
      "text/plain": [
       "<matplotlib.figure.Figure at 0x1236d3d68>"
      ]
     },
     "metadata": {},
     "output_type": "display_data"
    }
   ],
   "source": [
    "plt.hist([fail,succ], bins = 15, normed=True, label=['0','1'])\n",
    "\n",
    "plt.legend()\n",
    "plt.xlabel('bounce (pips)')\n",
    "plt.ylabel('Normalized Freq')\n",
    "plt.title('Hist for bounce (pips) depending on the outcome')"
   ]
  },
  {
   "cell_type": "code",
   "execution_count": 603,
   "metadata": {},
   "outputs": [
    {
     "data": {
      "text/plain": [
       "<matplotlib.text.Text at 0x123962160>"
      ]
     },
     "execution_count": 603,
     "metadata": {},
     "output_type": "execute_result"
    },
    {
     "data": {
      "image/png": "[encoded data removed]",
      "text/plain": [
       "<matplotlib.figure.Figure at 0x120b36b00>"
      ]
     },
     "metadata": {},
     "output_type": "display_data"
    }
   ],
   "source": [
    "plt.xlim(0,4000)\n",
    "plt.hist([fail,succ], bins = 15, normed=True, label=['0','1'])\n",
    "\n",
    "plt.legend()\n",
    "plt.xlabel('bounce (pips) (<=4000)')\n",
    "plt.ylabel('Normalized Freq')\n",
    "plt.title('Hist for bounce (pips) depending on the outcome')"
   ]
  },
  {
   "cell_type": "markdown",
   "metadata": {},
   "source": [
    "### norm_bounce_pips"
   ]
  },
  {
   "cell_type": "code",
   "execution_count": 604,
   "metadata": {},
   "outputs": [
    {
     "data": {
      "image/png": "[encoded data removed]",
      "text/plain": [
       "<matplotlib.figure.Figure at 0x122105940>"
      ]
     },
     "metadata": {},
     "output_type": "display_data"
    }
   ],
   "source": [
    "ax = sns.boxplot(x=outcome_lab, y=\"norm_bounce_pips\", data=contDF)"
   ]
  },
  {
   "cell_type": "markdown",
   "metadata": {},
   "source": [
    "* Mean for each category"
   ]
  },
  {
   "cell_type": "code",
   "execution_count": 605,
   "metadata": {},
   "outputs": [
    {
     "data": {
      "text/html": [
       "<div>\n",
       "<style scoped>\n",
       "    .dataframe tbody tr th:only-of-type {\n",
       "        vertical-align: middle;\n",
       "    }\n",
       "\n",
       "    .dataframe tbody tr th {\n",
       "        vertical-align: top;\n",
       "    }\n",
       "\n",
       "    .dataframe thead th {\n",
       "        text-align: right;\n",
       "    }\n",
       "</style>\n",
       "<table border=\"1\" class=\"dataframe\">\n",
       "  <thead>\n",
       "    <tr style=\"text-align: right;\">\n",
       "      <th></th>\n",
       "      <th>norm_bounce_pips</th>\n",
       "    </tr>\n",
       "    <tr>\n",
       "      <th>outcome</th>\n",
       "      <th></th>\n",
       "    </tr>\n",
       "  </thead>\n",
       "  <tbody>\n",
       "    <tr>\n",
       "      <th>0</th>\n",
       "      <td>39.193966</td>\n",
       "    </tr>\n",
       "    <tr>\n",
       "      <th>1</th>\n",
       "      <td>36.477821</td>\n",
       "    </tr>\n",
       "  </tbody>\n",
       "</table>\n",
       "</div>"
      ],
      "text/plain": [
       "         norm_bounce_pips\n",
       "outcome                  \n",
       "0               39.193966\n",
       "1               36.477821"
      ]
     },
     "execution_count": 605,
     "metadata": {},
     "output_type": "execute_result"
    }
   ],
   "source": [
    "contDF.groupby(outcome_lab).agg({'norm_bounce_pips': 'mean'})"
   ]
  },
  {
   "cell_type": "markdown",
   "metadata": {},
   "source": [
    "* Median for each category"
   ]
  },
  {
   "cell_type": "code",
   "execution_count": 606,
   "metadata": {},
   "outputs": [
    {
     "data": {
      "text/html": [
       "<div>\n",
       "<style scoped>\n",
       "    .dataframe tbody tr th:only-of-type {\n",
       "        vertical-align: middle;\n",
       "    }\n",
       "\n",
       "    .dataframe tbody tr th {\n",
       "        vertical-align: top;\n",
       "    }\n",
       "\n",
       "    .dataframe thead th {\n",
       "        text-align: right;\n",
       "    }\n",
       "</style>\n",
       "<table border=\"1\" class=\"dataframe\">\n",
       "  <thead>\n",
       "    <tr style=\"text-align: right;\">\n",
       "      <th></th>\n",
       "      <th>norm_bounce_pips</th>\n",
       "    </tr>\n",
       "    <tr>\n",
       "      <th>outcome</th>\n",
       "      <th></th>\n",
       "    </tr>\n",
       "  </thead>\n",
       "  <tbody>\n",
       "    <tr>\n",
       "      <th>0</th>\n",
       "      <td>29.095</td>\n",
       "    </tr>\n",
       "    <tr>\n",
       "      <th>1</th>\n",
       "      <td>23.915</td>\n",
       "    </tr>\n",
       "  </tbody>\n",
       "</table>\n",
       "</div>"
      ],
      "text/plain": [
       "         norm_bounce_pips\n",
       "outcome                  \n",
       "0                  29.095\n",
       "1                  23.915"
      ]
     },
     "execution_count": 606,
     "metadata": {},
     "output_type": "execute_result"
    }
   ],
   "source": [
    "contDF.groupby(outcome_lab).agg({'norm_bounce_pips': 'median'})"
   ]
  },
  {
   "cell_type": "markdown",
   "metadata": {},
   "source": [
    "* Histogram"
   ]
  },
  {
   "cell_type": "code",
   "execution_count": 607,
   "metadata": {},
   "outputs": [],
   "source": [
    "succ=contDF.loc[contDF[outcome_lab]==1]['norm_bounce_pips']\n",
    "fail=contDF.loc[contDF[outcome_lab]==0]['norm_bounce_pips']"
   ]
  },
  {
   "cell_type": "code",
   "execution_count": 608,
   "metadata": {},
   "outputs": [
    {
     "data": {
      "text/plain": [
       "<matplotlib.text.Text at 0x123dc7128>"
      ]
     },
     "execution_count": 608,
     "metadata": {},
     "output_type": "execute_result"
    },
    {
     "data": {
      "image/png": "[encoded data removed]",
      "text/plain": [
       "<matplotlib.figure.Figure at 0x123ef5588>"
      ]
     },
     "metadata": {},
     "output_type": "display_data"
    }
   ],
   "source": [
    "plt.hist([fail,succ], bins = 15, normed=True, label=['0','1'])\n",
    "\n",
    "plt.legend()\n",
    "plt.xlabel('bounce (pips) normalized')\n",
    "plt.ylabel('Normalized Freq')\n",
    "plt.title('Hist for normalized bounce (pips)  depending on the outcome')"
   ]
  },
  {
   "cell_type": "code",
   "execution_count": 609,
   "metadata": {},
   "outputs": [
    {
     "data": {
      "text/plain": [
       "<matplotlib.text.Text at 0x123b25518>"
      ]
     },
     "execution_count": 609,
     "metadata": {},
     "output_type": "execute_result"
    },
    {
     "data": {
      "image/png": "[encoded data removed]",
      "text/plain": [
       "<matplotlib.figure.Figure at 0x1238ef2e8>"
      ]
     },
     "metadata": {},
     "output_type": "display_data"
    }
   ],
   "source": [
    "plt.xlim(0,100)\n",
    "plt.hist([fail,succ], bins = 15, normed=True, label=['0','1'])\n",
    "\n",
    "plt.legend()\n",
    "plt.xlabel('bounce (pips) (<=4000)')\n",
    "plt.ylabel('Normalized Freq')\n",
    "plt.title('Hist for normalized bounce (pips) depending on the outcome')"
   ]
  },
  {
   "cell_type": "markdown",
   "metadata": {},
   "source": [
    "### entry_aligned\n",
    "Is the entry aligned with previous bounces on the same trend. TRUE or 1 if it is, FALSE or 0 if it is not"
   ]
  },
  {
   "cell_type": "markdown",
   "metadata": {},
   "source": [
    "Let's compare the proportions for this variable between the 2 categories of the `outcome` variable"
   ]
  },
  {
   "cell_type": "code",
   "execution_count": 610,
   "metadata": {},
   "outputs": [
    {
     "name": "stdout",
     "output_type": "stream",
     "text": [
      "entry_aligned   0   1  All\n",
      "outcome                   \n",
      "0              34  24   58\n",
      "1              19  59   78\n",
      "All            53  83  136\n"
     ]
    }
   ],
   "source": [
    "div_class=pd.crosstab(contDF.iloc[:,outcome_ix], contDF['entry_aligned'],margins=True)\n",
    "print(div_class)"
   ]
  },
  {
   "cell_type": "markdown",
   "metadata": {},
   "source": [
    "It's is easier to visualize the relationship if we calculate the percentages:"
   ]
  },
  {
   "cell_type": "code",
   "execution_count": 611,
   "metadata": {},
   "outputs": [
    {
     "name": "stdout",
     "output_type": "stream",
     "text": [
      "entry_aligned           0           1         All\n",
      "outcome                                          \n",
      "0               64.150943   28.915663   42.647059\n",
      "1               35.849057   71.084337   57.352941\n",
      "All            100.000000  100.000000  100.000000\n"
     ]
    }
   ],
   "source": [
    "propStrength=(div_class/div_class.loc[\"All\"])*100\n",
    "print(propStrength)"
   ]
  },
  {
   "cell_type": "markdown",
   "metadata": {},
   "source": [
    "* Conclusion <br>\n",
    "There is a clear relationship between succesful trades and `entry_aligned=1`"
   ]
  },
  {
   "cell_type": "markdown",
   "metadata": {},
   "source": [
    "### Trend bounces\n",
    "Discrete variable representing the number of bounces at the trend. This variable only makes sense when entry_aligned=1"
   ]
  },
  {
   "cell_type": "code",
   "execution_count": 612,
   "metadata": {},
   "outputs": [],
   "source": [
    "contDF_entryaligned=contDF[contDF.entry_aligned == 1]"
   ]
  },
  {
   "cell_type": "code",
   "execution_count": 613,
   "metadata": {},
   "outputs": [
    {
     "data": {
      "image/png": "[encoded data removed]",
      "text/plain": [
       "<matplotlib.figure.Figure at 0x12389f2b0>"
      ]
     },
     "metadata": {},
     "output_type": "display_data"
    }
   ],
   "source": [
    "ax = sns.boxplot(x=outcome_lab, y=\"trend_bounces\", data=contDF_entryaligned)"
   ]
  },
  {
   "cell_type": "markdown",
   "metadata": {},
   "source": [
    "* Mean for each category"
   ]
  },
  {
   "cell_type": "code",
   "execution_count": 614,
   "metadata": {},
   "outputs": [
    {
     "data": {
      "text/html": [
       "<div>\n",
       "<style scoped>\n",
       "    .dataframe tbody tr th:only-of-type {\n",
       "        vertical-align: middle;\n",
       "    }\n",
       "\n",
       "    .dataframe tbody tr th {\n",
       "        vertical-align: top;\n",
       "    }\n",
       "\n",
       "    .dataframe thead th {\n",
       "        text-align: right;\n",
       "    }\n",
       "</style>\n",
       "<table border=\"1\" class=\"dataframe\">\n",
       "  <thead>\n",
       "    <tr style=\"text-align: right;\">\n",
       "      <th></th>\n",
       "      <th>trend_bounces</th>\n",
       "    </tr>\n",
       "    <tr>\n",
       "      <th>outcome</th>\n",
       "      <th></th>\n",
       "    </tr>\n",
       "  </thead>\n",
       "  <tbody>\n",
       "    <tr>\n",
       "      <th>0</th>\n",
       "      <td>1.166667</td>\n",
       "    </tr>\n",
       "    <tr>\n",
       "      <th>1</th>\n",
       "      <td>1.135593</td>\n",
       "    </tr>\n",
       "  </tbody>\n",
       "</table>\n",
       "</div>"
      ],
      "text/plain": [
       "         trend_bounces\n",
       "outcome               \n",
       "0             1.166667\n",
       "1             1.135593"
      ]
     },
     "execution_count": 614,
     "metadata": {},
     "output_type": "execute_result"
    }
   ],
   "source": [
    "contDF_entryaligned.groupby(outcome_lab).agg({'trend_bounces': 'mean'})"
   ]
  },
  {
   "cell_type": "markdown",
   "metadata": {},
   "source": [
    "* Median for each category"
   ]
  },
  {
   "cell_type": "code",
   "execution_count": 615,
   "metadata": {},
   "outputs": [
    {
     "name": "stdout",
     "output_type": "stream",
     "text": [
      "         trend_bounces\n",
      "outcome               \n",
      "0                  1.0\n",
      "1                  1.0\n"
     ]
    }
   ],
   "source": [
    "medianBounce=contDF_entryaligned.groupby(outcome_lab).agg({'trend_bounces': 'median'})\n",
    "print(medianBounce)"
   ]
  },
  {
   "cell_type": "markdown",
   "metadata": {},
   "source": [
    "* Distribution of the number of bounces<br>\n",
    "For this particular task I will create a count plot in order to plot the RSI bounces for both the successful and the failed trades"
   ]
  },
  {
   "cell_type": "code",
   "execution_count": 616,
   "metadata": {},
   "outputs": [
    {
     "data": {
      "image/png": "[encoded data removed]",
      "text/plain": [
       "<matplotlib.figure.Figure at 0x123fa06d8>"
      ]
     },
     "metadata": {},
     "output_type": "display_data"
    }
   ],
   "source": [
    "ax = sns.countplot(x=\"trend_bounces\",hue=outcome_lab, data=contDF_entryaligned)"
   ]
  },
  {
   "cell_type": "markdown",
   "metadata": {},
   "source": [
    "Now, let's calculate the normalized number of bounces, as the 2 categories of the outcome variables are imbalanced"
   ]
  },
  {
   "cell_type": "code",
   "execution_count": 617,
   "metadata": {},
   "outputs": [
    {
     "data": {
      "image/png": "[encoded data removed]",
      "text/plain": [
       "<matplotlib.figure.Figure at 0x1214e9c88>"
      ]
     },
     "metadata": {},
     "output_type": "display_data"
    }
   ],
   "source": [
    "contDF_counts = (contDF_entryaligned.groupby([outcome_lab])['trend_bounces']\n",
    "                  .value_counts(normalize=True)\n",
    "                  .rename('percentage')\n",
    "                  .mul(100)\n",
    "                  .reset_index()\n",
    "                  .sort_values('trend_bounces'))\n",
    "\n",
    "p = sns.barplot(x=\"trend_bounces\", y=\"percentage\", hue=outcome_lab, data=contDF_counts)"
   ]
  },
  {
   "cell_type": "markdown",
   "metadata": {},
   "source": [
    "* Histogram"
   ]
  },
  {
   "cell_type": "code",
   "execution_count": 618,
   "metadata": {},
   "outputs": [],
   "source": [
    "import matplotlib.pyplot as plt\n",
    "\n",
    "succ=contDF_entryaligned.loc[contDF_entryaligned[outcome_lab]==1]['trend_bounces']\n",
    "fail=contDF_entryaligned.loc[contDF_entryaligned[outcome_lab]==0]['trend_bounces']"
   ]
  },
  {
   "cell_type": "code",
   "execution_count": 619,
   "metadata": {},
   "outputs": [
    {
     "data": {
      "text/plain": [
       "<matplotlib.text.Text at 0x124708e10>"
      ]
     },
     "execution_count": 619,
     "metadata": {},
     "output_type": "execute_result"
    },
    {
     "data": {
      "image/png": "[encoded data removed]",
      "text/plain": [
       "<matplotlib.figure.Figure at 0x123e0fb70>"
      ]
     },
     "metadata": {},
     "output_type": "display_data"
    }
   ],
   "source": [
    "plt.hist([fail,succ], bins = 10, normed=True, label=['0','1'])\n",
    "\n",
    "plt.legend()\n",
    "plt.xlabel('trend_bounces')\n",
    "plt.ylabel('Normalized Freq')\n",
    "plt.title('Hist for Trend bounces on the outcome')"
   ]
  },
  {
   "cell_type": "markdown",
   "metadata": {},
   "source": [
    "### Indecission\n",
    "Number of candles the price stays in S/R"
   ]
  },
  {
   "cell_type": "code",
   "execution_count": 620,
   "metadata": {},
   "outputs": [
    {
     "data": {
      "image/png": "[encoded data removed]",
      "text/plain": [
       "<matplotlib.figure.Figure at 0x124a3ac50>"
      ]
     },
     "metadata": {},
     "output_type": "display_data"
    }
   ],
   "source": [
    "ax = sns.boxplot(x=outcome_lab, y=\"indecission\", data=contDF)"
   ]
  },
  {
   "cell_type": "markdown",
   "metadata": {},
   "source": [
    "* Mean for each category"
   ]
  },
  {
   "cell_type": "code",
   "execution_count": 621,
   "metadata": {},
   "outputs": [
    {
     "data": {
      "text/html": [
       "<div>\n",
       "<style scoped>\n",
       "    .dataframe tbody tr th:only-of-type {\n",
       "        vertical-align: middle;\n",
       "    }\n",
       "\n",
       "    .dataframe tbody tr th {\n",
       "        vertical-align: top;\n",
       "    }\n",
       "\n",
       "    .dataframe thead th {\n",
       "        text-align: right;\n",
       "    }\n",
       "</style>\n",
       "<table border=\"1\" class=\"dataframe\">\n",
       "  <thead>\n",
       "    <tr style=\"text-align: right;\">\n",
       "      <th></th>\n",
       "      <th>indecission</th>\n",
       "    </tr>\n",
       "    <tr>\n",
       "      <th>outcome</th>\n",
       "      <th></th>\n",
       "    </tr>\n",
       "  </thead>\n",
       "  <tbody>\n",
       "    <tr>\n",
       "      <th>0</th>\n",
       "      <td>2.620690</td>\n",
       "    </tr>\n",
       "    <tr>\n",
       "      <th>1</th>\n",
       "      <td>1.769231</td>\n",
       "    </tr>\n",
       "  </tbody>\n",
       "</table>\n",
       "</div>"
      ],
      "text/plain": [
       "         indecission\n",
       "outcome             \n",
       "0           2.620690\n",
       "1           1.769231"
      ]
     },
     "execution_count": 621,
     "metadata": {},
     "output_type": "execute_result"
    }
   ],
   "source": [
    "contDF.groupby(outcome_lab).agg({'indecission': 'mean'})"
   ]
  },
  {
   "cell_type": "markdown",
   "metadata": {},
   "source": [
    "* Median for each category"
   ]
  },
  {
   "cell_type": "code",
   "execution_count": 622,
   "metadata": {},
   "outputs": [
    {
     "name": "stdout",
     "output_type": "stream",
     "text": [
      "         indecission\n",
      "outcome             \n",
      "0                  2\n",
      "1                  1\n"
     ]
    }
   ],
   "source": [
    "medianBounce=contDF.groupby(outcome_lab).agg({'indecission': 'median'})\n",
    "print(medianBounce)"
   ]
  },
  {
   "cell_type": "markdown",
   "metadata": {},
   "source": [
    "* Distribution of the number of bounces<br>\n",
    "For this particular task I will create a count plot in order to plot the RSI bounces for both the successful and the failed trades"
   ]
  },
  {
   "cell_type": "code",
   "execution_count": 623,
   "metadata": {},
   "outputs": [
    {
     "data": {
      "image/png": "[encoded data removed]",
      "text/plain": [
       "<matplotlib.figure.Figure at 0x121ea6390>"
      ]
     },
     "metadata": {},
     "output_type": "display_data"
    }
   ],
   "source": [
    "ax = sns.countplot(x=\"indecission\",hue=outcome_lab, data=contDF)"
   ]
  },
  {
   "cell_type": "markdown",
   "metadata": {},
   "source": [
    "Now, let's calculate the normalized number of bounces, as the 2 categories of the outcome variables are imbalanced"
   ]
  },
  {
   "cell_type": "code",
   "execution_count": 624,
   "metadata": {},
   "outputs": [
    {
     "data": {
      "image/png": "[encoded data removed]",
      "text/plain": [
       "<matplotlib.figure.Figure at 0x121eba4e0>"
      ]
     },
     "metadata": {},
     "output_type": "display_data"
    }
   ],
   "source": [
    "contDF_counts = (contDF.groupby([outcome_lab])['indecission']\n",
    "                  .value_counts(normalize=True)\n",
    "                  .rename('percentage')\n",
    "                  .mul(100)\n",
    "                  .reset_index()\n",
    "                  .sort_values('indecission'))\n",
    "\n",
    "p = sns.barplot(x=\"indecission\", y=\"percentage\", hue=outcome_lab, data=contDF_counts)"
   ]
  },
  {
   "cell_type": "markdown",
   "metadata": {},
   "source": [
    "* Histogram"
   ]
  },
  {
   "cell_type": "code",
   "execution_count": 625,
   "metadata": {},
   "outputs": [],
   "source": [
    "import matplotlib.pyplot as plt\n",
    "\n",
    "succ=contDF.loc[contDF[outcome_lab]==1]['indecission']\n",
    "fail=contDF.loc[contDF[outcome_lab]==0]['indecission']"
   ]
  },
  {
   "cell_type": "code",
   "execution_count": 626,
   "metadata": {},
   "outputs": [
    {
     "data": {
      "text/plain": [
       "<matplotlib.text.Text at 0x125d2eba8>"
      ]
     },
     "execution_count": 626,
     "metadata": {},
     "output_type": "execute_result"
    },
    {
     "data": {
      "image/png": "[encoded data removed]",
      "text/plain": [
       "<matplotlib.figure.Figure at 0x125cf4ef0>"
      ]
     },
     "metadata": {},
     "output_type": "display_data"
    }
   ],
   "source": [
    "plt.hist([fail,succ], bins = 10, normed=True, label=['0','1'])\n",
    "\n",
    "plt.legend()\n",
    "plt.xlabel('indecission')\n",
    "plt.ylabel('Normalized Freq')\n",
    "plt.title('Hist for Indecission candles on the outcome')"
   ]
  },
  {
   "cell_type": "markdown",
   "metadata": {},
   "source": [
    "### Inn_bounce/Indecisison ratio\n",
    "Float variable representing the ratio between the internal bounce divided by the indecission ratio"
   ]
  },
  {
   "cell_type": "code",
   "execution_count": 627,
   "metadata": {},
   "outputs": [],
   "source": [
    "contDF['bounce_ratio']=contDF['inn_bounce']/contDF['indecission']"
   ]
  },
  {
   "cell_type": "code",
   "execution_count": 628,
   "metadata": {},
   "outputs": [
    {
     "data": {
      "image/png": "[encoded data removed]",
      "text/plain": [
       "<matplotlib.figure.Figure at 0x123dbba58>"
      ]
     },
     "metadata": {},
     "output_type": "display_data"
    }
   ],
   "source": [
    "ax = sns.boxplot(x=outcome_lab, y=\"bounce_ratio\", data=contDF)"
   ]
  },
  {
   "cell_type": "markdown",
   "metadata": {},
   "source": [
    "* Mean for each category"
   ]
  },
  {
   "cell_type": "code",
   "execution_count": 629,
   "metadata": {},
   "outputs": [
    {
     "data": {
      "text/html": [
       "<div>\n",
       "<style scoped>\n",
       "    .dataframe tbody tr th:only-of-type {\n",
       "        vertical-align: middle;\n",
       "    }\n",
       "\n",
       "    .dataframe tbody tr th {\n",
       "        vertical-align: top;\n",
       "    }\n",
       "\n",
       "    .dataframe thead th {\n",
       "        text-align: right;\n",
       "    }\n",
       "</style>\n",
       "<table border=\"1\" class=\"dataframe\">\n",
       "  <thead>\n",
       "    <tr style=\"text-align: right;\">\n",
       "      <th></th>\n",
       "      <th>bounce_ratio</th>\n",
       "    </tr>\n",
       "    <tr>\n",
       "      <th>outcome</th>\n",
       "      <th></th>\n",
       "    </tr>\n",
       "  </thead>\n",
       "  <tbody>\n",
       "    <tr>\n",
       "      <th>0</th>\n",
       "      <td>4.518664</td>\n",
       "    </tr>\n",
       "    <tr>\n",
       "      <th>1</th>\n",
       "      <td>5.550214</td>\n",
       "    </tr>\n",
       "  </tbody>\n",
       "</table>\n",
       "</div>"
      ],
      "text/plain": [
       "         bounce_ratio\n",
       "outcome              \n",
       "0            4.518664\n",
       "1            5.550214"
      ]
     },
     "execution_count": 629,
     "metadata": {},
     "output_type": "execute_result"
    }
   ],
   "source": [
    "contDF.groupby(outcome_lab).agg({'bounce_ratio': 'mean'})"
   ]
  },
  {
   "cell_type": "markdown",
   "metadata": {},
   "source": [
    "* Median for each category"
   ]
  },
  {
   "cell_type": "code",
   "execution_count": 630,
   "metadata": {},
   "outputs": [
    {
     "data": {
      "text/html": [
       "<div>\n",
       "<style scoped>\n",
       "    .dataframe tbody tr th:only-of-type {\n",
       "        vertical-align: middle;\n",
       "    }\n",
       "\n",
       "    .dataframe tbody tr th {\n",
       "        vertical-align: top;\n",
       "    }\n",
       "\n",
       "    .dataframe thead th {\n",
       "        text-align: right;\n",
       "    }\n",
       "</style>\n",
       "<table border=\"1\" class=\"dataframe\">\n",
       "  <thead>\n",
       "    <tr style=\"text-align: right;\">\n",
       "      <th></th>\n",
       "      <th>bounce_ratio</th>\n",
       "    </tr>\n",
       "    <tr>\n",
       "      <th>outcome</th>\n",
       "      <th></th>\n",
       "    </tr>\n",
       "  </thead>\n",
       "  <tbody>\n",
       "    <tr>\n",
       "      <th>0</th>\n",
       "      <td>4.0</td>\n",
       "    </tr>\n",
       "    <tr>\n",
       "      <th>1</th>\n",
       "      <td>5.0</td>\n",
       "    </tr>\n",
       "  </tbody>\n",
       "</table>\n",
       "</div>"
      ],
      "text/plain": [
       "         bounce_ratio\n",
       "outcome              \n",
       "0                 4.0\n",
       "1                 5.0"
      ]
     },
     "execution_count": 630,
     "metadata": {},
     "output_type": "execute_result"
    }
   ],
   "source": [
    "contDF.groupby(outcome_lab).agg({'bounce_ratio': 'median'})"
   ]
  },
  {
   "cell_type": "markdown",
   "metadata": {},
   "source": [
    "Let's analyze the distribution with a histogram"
   ]
  },
  {
   "cell_type": "code",
   "execution_count": 631,
   "metadata": {},
   "outputs": [],
   "source": [
    "succ=contDF.loc[contDF[outcome_lab]==1]['bounce_ratio']\n",
    "fail=contDF.loc[contDF[outcome_lab]==0]['bounce_ratio']"
   ]
  },
  {
   "cell_type": "code",
   "execution_count": 632,
   "metadata": {},
   "outputs": [
    {
     "data": {
      "text/plain": [
       "<matplotlib.text.Text at 0x125fb72e8>"
      ]
     },
     "execution_count": 632,
     "metadata": {},
     "output_type": "execute_result"
    },
    {
     "data": {
      "image/png": "[encoded data removed]",
      "text/plain": [
       "<matplotlib.figure.Figure at 0x125f20160>"
      ]
     },
     "metadata": {},
     "output_type": "display_data"
    }
   ],
   "source": [
    "plt.hist([fail,succ], bins = 15, normed=True, label=['0','1'])\n",
    "\n",
    "plt.legend()\n",
    "plt.xlabel('Bounce ratio')\n",
    "plt.ylabel('Normalized Freq')\n",
    "plt.title('Hist for Bounce ratio on the outcome')"
   ]
  },
  {
   "cell_type": "code",
   "execution_count": 633,
   "metadata": {},
   "outputs": [
    {
     "data": {
      "text/plain": [
       "<matplotlib.text.Text at 0x1260a2400>"
      ]
     },
     "execution_count": 633,
     "metadata": {},
     "output_type": "execute_result"
    },
    {
     "data": {
      "image/png": "[encoded data removed]",
      "text/plain": [
       "<matplotlib.figure.Figure at 0x126053978>"
      ]
     },
     "metadata": {},
     "output_type": "display_data"
    }
   ],
   "source": [
    "plt.xlim(0,20)\n",
    "plt.hist([fail,succ], bins = 15, normed=True, label=['0','1'])\n",
    "\n",
    "plt.legend()\n",
    "plt.xlabel('Bounce ratio')\n",
    "plt.ylabel('Normalized Freq')\n",
    "plt.title('Hist for Bounce ratio depending on the outcome')"
   ]
  },
  {
   "cell_type": "markdown",
   "metadata": {},
   "source": [
    "## Calculating points\n",
    "This section will calculate a total score for each trade that will be used to predict the outcome.<br>"
   ]
  },
  {
   "cell_type": "markdown",
   "metadata": {},
   "source": [
    "### Splitting the data into training and test sets"
   ]
  },
  {
   "cell_type": "markdown",
   "metadata": {},
   "source": [
    "First, let's create a function to calculate the points"
   ]
  },
  {
   "cell_type": "code",
   "execution_count": 634,
   "metadata": {},
   "outputs": [],
   "source": [
    "def calculate_points(row,attribs):\n",
    "    '''\n",
    "    Function to calculate the points for a particular trade\n",
    "    \n",
    "    Parameters\n",
    "    ----------\n",
    "    row : dataframe row\n",
    "    attribs : list of dicts\n",
    "              The dict has the following format:\n",
    "              {'attr' : 'RSI bounces',\n",
    "               'cutoff' : [(0,6), (7,10), (11,100000)],\n",
    "               'points' : [2,-2,-3]}\n",
    "               \n",
    "    Returns\n",
    "    -------\n",
    "    Returns a score for this trade\n",
    "    \n",
    "    '''\n",
    "    score=0\n",
    "    for a in attribs:\n",
    "        value=row[a['attr']]\n",
    "        cutoffs=a['cutoffs']\n",
    "        points=a['points']\n",
    "        if cutoffs =='bool':\n",
    "            if a['rel'] == 'is_true':\n",
    "                if value == True or value == 1:\n",
    "                    score+=points\n",
    "                if value == False  or value == 0:\n",
    "                    score+=-1*points\n",
    "        else:\n",
    "            if len(cutoffs)!= len(points):\n",
    "                raise Exception(\"Length of cutoffs is different to length of points\")\n",
    "            for i, j in zip(cutoffs, points):\n",
    "                if value>=i[0] and value<=i[1]:\n",
    "                    score+=j\n",
    "                \n",
    "    return score"
   ]
  },
  {
   "cell_type": "markdown",
   "metadata": {},
   "source": [
    "# ALL\n",
    "attbs=[]\n",
    "\n",
    "attbs.append({\n",
    "        'attr' : 'diff',\n",
    "        'cutoffs' : [(0,700),(701,100000)],\n",
    "        'points' : [1,-1]\n",
    "        })\n",
    "attbs.append({\n",
    "        'attr' : 'RSI bounces',\n",
    "        'cutoffs' : [(0,2),(3,3),(4,100000)],\n",
    "        'points' : [2,-1,-2]\n",
    "        })\n",
    "attbs.append({\n",
    "        'attr' : 'entry on RSI',\n",
    "        'cutoffs' : 'bool',\n",
    "        'rel' : 'is_true',\n",
    "        'points' : 3\n",
    "        })\n",
    "attbs.append({\n",
    "        'attr' : 'length of trend (-1)',\n",
    "        'cutoffs' : [(0,25),(26,35),(36,60),(61,10000)],\n",
    "        'points' : [2,1,-1,-2]\n",
    "        })\n",
    "attbs.append( {\n",
    "        'attr' : 'inn_bounce',\n",
    "        'cutoffs' : [(0,7),(8,1000000)],\n",
    "        'points' : [2,-2]\n",
    "        })\n",
    "attbs.append( {\n",
    "        'attr' : 'pips_ratio_norm',\n",
    "        'cutoffs' : [(0,3),(4,30)],\n",
    "        'points' : [-2,2]\n",
    "        })\n",
    "attbs.append( {\n",
    "        'attr' : 'sum_bounces',\n",
    "        'cutoffs' : [(0,7),(8,100000)],\n",
    "        'points' : [2,-2]\n",
    "        })\n",
    "attbs.append( {\n",
    "        'attr' : 'norm_bounce_pips',\n",
    "        'cutoffs' : [(0,45),(46,1000)],\n",
    "        'points' : [2,-2]\n",
    "        })\n",
    "attbs.append( {\n",
    "        'attr' : 'entry_aligned',\n",
    "        'cutoffs' : 'bool',\n",
    "        'rel' : 'is_true',\n",
    "        'points' : 3\n",
    "        })\n",
    "attbs.append( {\n",
    "        'attr' : 'indecission',\n",
    "        'cutoffs' : [(0,3),(4,5),(6,100)],\n",
    "        'points' : [1,-1,-2]\n",
    "        })\n",
    "attbs.append( {\n",
    "        'attr' : 'bounce_ratio',\n",
    "        'cutoffs' : [(0,3),(4,10000)],\n",
    "        'points' : [-2,2]\n",
    "        })"
   ]
  },
  {
   "cell_type": "code",
   "execution_count": null,
   "metadata": {},
   "outputs": [],
   "source": [
    "# D\n",
    "attbs=[]\n",
    "\n",
    "attbs.append({\n",
    "        'attr' : 'diff',\n",
    "        'cutoffs' : [(0,500),(501,100000)],\n",
    "        'points' : [2,-2]\n",
    "        })\n",
    "attbs.append({\n",
    "        'attr' : 'RSI bounces',\n",
    "        'cutoffs' : [(0,2), (3,3), (4,100000)],\n",
    "        'points' : [2,-1,-2]\n",
    "        })\n",
    "attbs.append({\n",
    "        'attr' : 'entry on RSI',\n",
    "        'cutoffs' : 'bool',\n",
    "        'rel' : 'is_true',\n",
    "        'points' : 3\n",
    "        })\n",
    "attbs.append( {\n",
    "        'attr' : 'length of trend (-1)',\n",
    "        'cutoffs' : [(0,14),(15,23),(24,50),(51,10000)],\n",
    "        'points' : [1,2,1,-2]\n",
    "        })\n",
    "attbs.append( {\n",
    "        'attr' : 'inn_bounce',\n",
    "        'cutoffs' : [(0,7),(8,1000000)],\n",
    "        'points' : [2,-2]\n",
    "        })\n",
    "attbs.append( {\n",
    "        'attr' : 'pips_ratio',\n",
    "        'cutoffs' : [(0,150),(151,220),(221,1000000000000)],\n",
    "        'points' : [-2,1,2]\n",
    "        })\n",
    "attbs.append( {\n",
    "        'attr' : 'sum_bounces',\n",
    "        'cutoffs' : [(0,6),(7,1000000)],\n",
    "        'points' : [2,-2]\n",
    "        })\n",
    "attbs.append( {\n",
    "        'attr' : 'bounce (pips)',\n",
    "        'cutoffs' : [(0,1000),(1001,1000000)],\n",
    "        'points' : [2,-2]\n",
    "        })\n",
    "attbs.append( {\n",
    "        'attr' : 'entry_aligned',\n",
    "        'cutoffs' : 'bool',\n",
    "        'rel' : 'is_true',\n",
    "        'points' : 3\n",
    "        })\n",
    "attbs.append( {\n",
    "        'attr' : 'indecission',\n",
    "        'cutoffs' : [(0,4),(5,20)],\n",
    "        'points' : [2,-2]\n",
    "        })\n",
    "attbs.append( {\n",
    "        'attr' : 'bounce_ratio',\n",
    "        'cutoffs' : [(0,5),(6,10000)],\n",
    "        'points' : [-2,2]\n",
    "        })"
   ]
  },
  {
   "cell_type": "markdown",
   "metadata": {},
   "source": [
    "# H12\n",
    "attbs=[]\n",
    "\n",
    "attbs.append({\n",
    "        'attr' : 'diff',\n",
    "        'cutoffs' : [(0,500),(501,100000)],\n",
    "        'points' : [2,-2]\n",
    "        })\n",
    "attbs.append({\n",
    "        'attr' : 'RSI bounces',\n",
    "        'cutoffs' : [(0,1),(2,2),(3,6),(7,100000)],\n",
    "        'points' : [2,1,-1,-2]\n",
    "        })\n",
    "attbs.append({\n",
    "        'attr' : 'entry on RSI',\n",
    "        'cutoffs' : 'bool',\n",
    "        'rel' : 'is_true',\n",
    "        'points' : 3\n",
    "        })\n",
    "attbs.append( {\n",
    "        'attr' : 'length of trend (-1)',\n",
    "        'cutoffs' : [(0,9),(10,99),(100,1000000)],\n",
    "        'points' : [-1,1,-1]\n",
    "        })\n",
    "attbs.append( {\n",
    "        'attr' : 'inn_bounce',\n",
    "        'cutoffs' : [(0,7),(8,1000000)],\n",
    "        'points' : [2,-2]\n",
    "        })\n",
    "attbs.append( {\n",
    "        'attr' : 'pips_ratio',\n",
    "        'cutoffs' : [(0,70),(71,1000000000000)],\n",
    "        'points' : [-2,2]\n",
    "        })\n",
    "attbs.append( {\n",
    "        'attr' : 'sum_bounces',\n",
    "        'cutoffs' : [(0,7),(8,100000)],\n",
    "        'points' : [2,-2]\n",
    "        })\n",
    "attbs.append( {\n",
    "        'attr' : 'bounce (pips)',\n",
    "        'cutoffs' : [(0,900),(901,1000000)],\n",
    "        'points' : [2,-2]\n",
    "        })\n",
    "attbs.append( {\n",
    "        'attr' : 'entry_aligned',\n",
    "        'cutoffs' : 'bool',\n",
    "        'rel' : 'is_true',\n",
    "        'points' : 3\n",
    "        })\n",
    "attbs.append( {\n",
    "        'attr' : 'indecission',\n",
    "        'cutoffs' : [(0,2),(3,7),(8,20)],\n",
    "        'points' : [2,-1,-2]\n",
    "        })\n",
    "attbs.append( {\n",
    "        'attr' : 'bounce_ratio',\n",
    "        'cutoffs' : [(0,3),(4,6),(7,10000)],\n",
    "        'points' : [-2,1,2]\n",
    "        })"
   ]
  },
  {
   "cell_type": "code",
   "execution_count": 635,
   "metadata": {},
   "outputs": [],
   "source": [
    "#H6\n",
    "attbs=[]\n",
    "\n",
    "attbs.append({\n",
    "        'attr' : 'diff',\n",
    "        'cutoffs' : [(0,400),(401,1000000)],\n",
    "        'points' : [-2,2]\n",
    "        })\n",
    "attbs.append({\n",
    "        'attr' : 'RSI bounces',\n",
    "        'cutoffs' : [(0,0),(1,3),(4,1000)],\n",
    "        'points' : [-1,2,-1]\n",
    "        })\n",
    "attbs.append({\n",
    "        'attr' : 'entry on RSI',\n",
    "        'cutoffs' : 'bool',\n",
    "        'rel' : 'is_true',\n",
    "        'points' : 3\n",
    "        })\n",
    "attbs.append( {\n",
    "        'attr' : 'inn_bounce',\n",
    "        'cutoffs' : [(0,5),(6,1000)],\n",
    "        'points' : [2,-2]\n",
    "        })\n",
    "attbs.append( {\n",
    "        'attr' : 'pips_ratio',\n",
    "        'cutoffs' : [(0,150),(151,10000)],\n",
    "        'points' : [-1,1]\n",
    "        })\n",
    "attbs.append( {\n",
    "        'attr' : 'sum_bounces',\n",
    "        'cutoffs' : [(0,3),(4,100000)],\n",
    "        'points' : [2,-2]\n",
    "        })\n",
    "attbs.append( {\n",
    "        'attr' : 'bounce (pips)',\n",
    "        'cutoffs' : [(0,600),(601,1000000)],\n",
    "        'points' : [2,-2]\n",
    "        })\n",
    "attbs.append( {\n",
    "        'attr' : 'entry_aligned',\n",
    "        'cutoffs' : 'bool',\n",
    "        'rel' : 'is_true',\n",
    "        'points' : 3\n",
    "        })\n",
    "attbs.append( {\n",
    "        'attr' : 'indecission',\n",
    "        'cutoffs' : [(0,1),(2,10)],\n",
    "        'points' : [2,-2]\n",
    "        })\n",
    "attbs.append( {\n",
    "        'attr' : 'bounce_ratio',\n",
    "        'cutoffs' : [(0,5),(6,1000)],\n",
    "        'points' : [-2,2]\n",
    "        })"
   ]
  },
  {
   "cell_type": "markdown",
   "metadata": {},
   "source": [
    "Now, let's apply the calculate_points on each row of the dataframe"
   ]
  },
  {
   "cell_type": "code",
   "execution_count": 637,
   "metadata": {},
   "outputs": [],
   "source": [
    "contDF['score']=contDF.apply(calculate_points, axis=1, attribs=attbs)"
   ]
  },
  {
   "cell_type": "markdown",
   "metadata": {},
   "source": [
    "Examining trades with score above the chosen cutoff but failing:"
   ]
  },
  {
   "cell_type": "code",
   "execution_count": 645,
   "metadata": {},
   "outputs": [
    {
     "name": "stdout",
     "output_type": "stream",
     "text": [
      "outcome\n"
     ]
    },
    {
     "data": {
      "text/html": [
       "<div>\n",
       "<style scoped>\n",
       "    .dataframe tbody tr th:only-of-type {\n",
       "        vertical-align: middle;\n",
       "    }\n",
       "\n",
       "    .dataframe tbody tr th {\n",
       "        vertical-align: top;\n",
       "    }\n",
       "\n",
       "    .dataframe thead th {\n",
       "        text-align: right;\n",
       "    }\n",
       "</style>\n",
       "<table border=\"1\" class=\"dataframe\">\n",
       "  <thead>\n",
       "    <tr style=\"text-align: right;\">\n",
       "      <th></th>\n",
       "      <th>id</th>\n",
       "      <th>start</th>\n",
       "      <th>type</th>\n",
       "      <th>timeframe</th>\n",
       "      <th>entry</th>\n",
       "      <th>outcome</th>\n",
       "      <th>RSI bounces</th>\n",
       "      <th>bounce length</th>\n",
       "      <th>bounce (pips)</th>\n",
       "      <th>inn_bounce</th>\n",
       "      <th>...</th>\n",
       "      <th>stretches</th>\n",
       "      <th>strong trend</th>\n",
       "      <th>norm_length_pips</th>\n",
       "      <th>norm_bounce_pips</th>\n",
       "      <th>diff</th>\n",
       "      <th>pips_ratio</th>\n",
       "      <th>pips_ratio_norm</th>\n",
       "      <th>sum_bounces</th>\n",
       "      <th>bounce_ratio</th>\n",
       "      <th>score</th>\n",
       "    </tr>\n",
       "  </thead>\n",
       "  <tbody>\n",
       "    <tr>\n",
       "      <th>29</th>\n",
       "      <td>USD_JPY 04MAR2009D</td>\n",
       "      <td>2009-04-03 23:00:00</td>\n",
       "      <td>long</td>\n",
       "      <td>D</td>\n",
       "      <td>98.63100</td>\n",
       "      <td>0</td>\n",
       "      <td>1</td>\n",
       "      <td>2</td>\n",
       "      <td>1470</td>\n",
       "      <td>6</td>\n",
       "      <td>...</td>\n",
       "      <td>NaN</td>\n",
       "      <td>False</td>\n",
       "      <td>203.15</td>\n",
       "      <td>30.62</td>\n",
       "      <td>449</td>\n",
       "      <td>487.550000</td>\n",
       "      <td>10.150000</td>\n",
       "      <td>2</td>\n",
       "      <td>6.0</td>\n",
       "      <td>13</td>\n",
       "    </tr>\n",
       "    <tr>\n",
       "      <th>34</th>\n",
       "      <td>USD_JPY 01MAY2018D</td>\n",
       "      <td>2018-01-05 23:00:00</td>\n",
       "      <td>long</td>\n",
       "      <td>D</td>\n",
       "      <td>109.45900</td>\n",
       "      <td>0</td>\n",
       "      <td>1</td>\n",
       "      <td>1</td>\n",
       "      <td>390</td>\n",
       "      <td>6</td>\n",
       "      <td>...</td>\n",
       "      <td>NaN</td>\n",
       "      <td>False</td>\n",
       "      <td>99.79</td>\n",
       "      <td>8.12</td>\n",
       "      <td>4</td>\n",
       "      <td>177.407407</td>\n",
       "      <td>3.666667</td>\n",
       "      <td>1</td>\n",
       "      <td>6.0</td>\n",
       "      <td>7</td>\n",
       "    </tr>\n",
       "    <tr>\n",
       "      <th>42</th>\n",
       "      <td>USD_CHF 24MAY2016D</td>\n",
       "      <td>2016-05-24 23:00:00</td>\n",
       "      <td>long</td>\n",
       "      <td>D</td>\n",
       "      <td>0.99243</td>\n",
       "      <td>0</td>\n",
       "      <td>0</td>\n",
       "      <td>0</td>\n",
       "      <td>485</td>\n",
       "      <td>4</td>\n",
       "      <td>...</td>\n",
       "      <td>NaN</td>\n",
       "      <td>True</td>\n",
       "      <td>80.92</td>\n",
       "      <td>10.10</td>\n",
       "      <td>143</td>\n",
       "      <td>277.428571</td>\n",
       "      <td>5.714286</td>\n",
       "      <td>0</td>\n",
       "      <td>4.0</td>\n",
       "      <td>4</td>\n",
       "    </tr>\n",
       "    <tr>\n",
       "      <th>81</th>\n",
       "      <td>USD_CAD 28FEB2013D</td>\n",
       "      <td>2013-02-27 23:00:00</td>\n",
       "      <td>long</td>\n",
       "      <td>D</td>\n",
       "      <td>1.02752</td>\n",
       "      <td>0</td>\n",
       "      <td>1</td>\n",
       "      <td>2</td>\n",
       "      <td>563</td>\n",
       "      <td>4</td>\n",
       "      <td>...</td>\n",
       "      <td>NaN</td>\n",
       "      <td>NaN</td>\n",
       "      <td>92.19</td>\n",
       "      <td>11.73</td>\n",
       "      <td>418</td>\n",
       "      <td>134.090909</td>\n",
       "      <td>2.787879</td>\n",
       "      <td>2</td>\n",
       "      <td>4.0</td>\n",
       "      <td>9</td>\n",
       "    </tr>\n",
       "    <tr>\n",
       "      <th>82</th>\n",
       "      <td>USD_CAD 28DEC2018D</td>\n",
       "      <td>2018-12-27 23:00:00</td>\n",
       "      <td>long</td>\n",
       "      <td>D</td>\n",
       "      <td>1.36613</td>\n",
       "      <td>0</td>\n",
       "      <td>1</td>\n",
       "      <td>2</td>\n",
       "      <td>268</td>\n",
       "      <td>5</td>\n",
       "      <td>...</td>\n",
       "      <td>NaN</td>\n",
       "      <td>NaN</td>\n",
       "      <td>174.31</td>\n",
       "      <td>5.58</td>\n",
       "      <td>721</td>\n",
       "      <td>134.951613</td>\n",
       "      <td>2.806452</td>\n",
       "      <td>2</td>\n",
       "      <td>5.0</td>\n",
       "      <td>9</td>\n",
       "    </tr>\n",
       "    <tr>\n",
       "      <th>183</th>\n",
       "      <td>GBP_JPY 09SEP2008D</td>\n",
       "      <td>2008-09-09 23:00:00</td>\n",
       "      <td>short</td>\n",
       "      <td>D</td>\n",
       "      <td>188.64200</td>\n",
       "      <td>0</td>\n",
       "      <td>3</td>\n",
       "      <td>14,1,2</td>\n",
       "      <td>5000</td>\n",
       "      <td>4</td>\n",
       "      <td>...</td>\n",
       "      <td>52,20,63</td>\n",
       "      <td>False</td>\n",
       "      <td>524.08</td>\n",
       "      <td>104.17</td>\n",
       "      <td>2067</td>\n",
       "      <td>1143.454545</td>\n",
       "      <td>23.818182</td>\n",
       "      <td>17</td>\n",
       "      <td>4.0</td>\n",
       "      <td>9</td>\n",
       "    </tr>\n",
       "    <tr>\n",
       "      <th>186</th>\n",
       "      <td>GBP_JPY 08MAR2018D</td>\n",
       "      <td>2018-08-03 00:00:00</td>\n",
       "      <td>short</td>\n",
       "      <td>D</td>\n",
       "      <td>146.60600</td>\n",
       "      <td>0</td>\n",
       "      <td>1</td>\n",
       "      <td>3</td>\n",
       "      <td>2300</td>\n",
       "      <td>7</td>\n",
       "      <td>...</td>\n",
       "      <td>NaN</td>\n",
       "      <td>True</td>\n",
       "      <td>206.52</td>\n",
       "      <td>47.92</td>\n",
       "      <td>571</td>\n",
       "      <td>431.000000</td>\n",
       "      <td>8.956522</td>\n",
       "      <td>3</td>\n",
       "      <td>7.0</td>\n",
       "      <td>7</td>\n",
       "    </tr>\n",
       "    <tr>\n",
       "      <th>251</th>\n",
       "      <td>EUR_JPY 21SEP2017D</td>\n",
       "      <td>2017-09-20 23:00:00</td>\n",
       "      <td>long</td>\n",
       "      <td>D</td>\n",
       "      <td>134.09900</td>\n",
       "      <td>0</td>\n",
       "      <td>1</td>\n",
       "      <td>1</td>\n",
       "      <td>482</td>\n",
       "      <td>3</td>\n",
       "      <td>...</td>\n",
       "      <td>NaN</td>\n",
       "      <td>NaN</td>\n",
       "      <td>88.98</td>\n",
       "      <td>10.04</td>\n",
       "      <td>984</td>\n",
       "      <td>610.142857</td>\n",
       "      <td>12.571429</td>\n",
       "      <td>1</td>\n",
       "      <td>3.0</td>\n",
       "      <td>17</td>\n",
       "    </tr>\n",
       "    <tr>\n",
       "      <th>269</th>\n",
       "      <td>EUR_GBP 9MAR2010D</td>\n",
       "      <td>2010-09-03 23:00:00</td>\n",
       "      <td>long</td>\n",
       "      <td>D</td>\n",
       "      <td>0.90137</td>\n",
       "      <td>0</td>\n",
       "      <td>1</td>\n",
       "      <td>1</td>\n",
       "      <td>1118</td>\n",
       "      <td>7</td>\n",
       "      <td>...</td>\n",
       "      <td>NaN</td>\n",
       "      <td>True</td>\n",
       "      <td>78.88</td>\n",
       "      <td>23.29</td>\n",
       "      <td>601</td>\n",
       "      <td>344.181818</td>\n",
       "      <td>7.090909</td>\n",
       "      <td>1</td>\n",
       "      <td>7.0</td>\n",
       "      <td>7</td>\n",
       "    </tr>\n",
       "    <tr>\n",
       "      <th>318</th>\n",
       "      <td>AUD_USD 29MAY2013D</td>\n",
       "      <td>2013-05-28 23:00:00</td>\n",
       "      <td>short</td>\n",
       "      <td>D</td>\n",
       "      <td>0.96097</td>\n",
       "      <td>0</td>\n",
       "      <td>0</td>\n",
       "      <td>0</td>\n",
       "      <td>1053</td>\n",
       "      <td>4</td>\n",
       "      <td>...</td>\n",
       "      <td>NaN</td>\n",
       "      <td>True</td>\n",
       "      <td>148.48</td>\n",
       "      <td>21.94</td>\n",
       "      <td>1235</td>\n",
       "      <td>445.437500</td>\n",
       "      <td>9.250000</td>\n",
       "      <td>0</td>\n",
       "      <td>4.0</td>\n",
       "      <td>4</td>\n",
       "    </tr>\n",
       "    <tr>\n",
       "      <th>417</th>\n",
       "      <td>AUD_NZD 07SEP2007D</td>\n",
       "      <td>2007-06-09 23:00:00</td>\n",
       "      <td>long</td>\n",
       "      <td>D</td>\n",
       "      <td>1.20011</td>\n",
       "      <td>0</td>\n",
       "      <td>3</td>\n",
       "      <td>2,1,5</td>\n",
       "      <td>250</td>\n",
       "      <td>3</td>\n",
       "      <td>...</td>\n",
       "      <td>NaN</td>\n",
       "      <td>NaN</td>\n",
       "      <td>224.44</td>\n",
       "      <td>5.21</td>\n",
       "      <td>516</td>\n",
       "      <td>347.516129</td>\n",
       "      <td>7.225806</td>\n",
       "      <td>8</td>\n",
       "      <td>3.0</td>\n",
       "      <td>7</td>\n",
       "    </tr>\n",
       "    <tr>\n",
       "      <th>442</th>\n",
       "      <td>NZD_USD 26APR2011D</td>\n",
       "      <td>2011-04-25 23:00:00</td>\n",
       "      <td>long</td>\n",
       "      <td>D</td>\n",
       "      <td>0.80398</td>\n",
       "      <td>0</td>\n",
       "      <td>3</td>\n",
       "      <td>3,5,3</td>\n",
       "      <td>373</td>\n",
       "      <td>4</td>\n",
       "      <td>...</td>\n",
       "      <td>NaN</td>\n",
       "      <td>NaN</td>\n",
       "      <td>176.25</td>\n",
       "      <td>7.77</td>\n",
       "      <td>3036</td>\n",
       "      <td>313.333333</td>\n",
       "      <td>6.518519</td>\n",
       "      <td>11</td>\n",
       "      <td>4.0</td>\n",
       "      <td>13</td>\n",
       "    </tr>\n",
       "  </tbody>\n",
       "</table>\n",
       "<p>12 rows × 35 columns</p>\n",
       "</div>"
      ],
      "text/plain": [
       "                     id               start   type timeframe      entry  \\\n",
       "29   USD_JPY 04MAR2009D 2009-04-03 23:00:00   long         D   98.63100   \n",
       "34   USD_JPY 01MAY2018D 2018-01-05 23:00:00   long         D  109.45900   \n",
       "42   USD_CHF 24MAY2016D 2016-05-24 23:00:00   long         D    0.99243   \n",
       "81   USD_CAD 28FEB2013D 2013-02-27 23:00:00   long         D    1.02752   \n",
       "82   USD_CAD 28DEC2018D 2018-12-27 23:00:00   long         D    1.36613   \n",
       "183  GBP_JPY 09SEP2008D 2008-09-09 23:00:00  short         D  188.64200   \n",
       "186  GBP_JPY 08MAR2018D 2018-08-03 00:00:00  short         D  146.60600   \n",
       "251  EUR_JPY 21SEP2017D 2017-09-20 23:00:00   long         D  134.09900   \n",
       "269   EUR_GBP 9MAR2010D 2010-09-03 23:00:00   long         D    0.90137   \n",
       "318  AUD_USD 29MAY2013D 2013-05-28 23:00:00  short         D    0.96097   \n",
       "417  AUD_NZD 07SEP2007D 2007-06-09 23:00:00   long         D    1.20011   \n",
       "442  NZD_USD 26APR2011D 2011-04-25 23:00:00   long         D    0.80398   \n",
       "\n",
       "     outcome  RSI bounces bounce length  bounce (pips)  inn_bounce  ...    \\\n",
       "29         0            1             2           1470           6  ...     \n",
       "34         0            1             1            390           6  ...     \n",
       "42         0            0             0            485           4  ...     \n",
       "81         0            1             2            563           4  ...     \n",
       "82         0            1             2            268           5  ...     \n",
       "183        0            3        14,1,2           5000           4  ...     \n",
       "186        0            1             3           2300           7  ...     \n",
       "251        0            1             1            482           3  ...     \n",
       "269        0            1             1           1118           7  ...     \n",
       "318        0            0             0           1053           4  ...     \n",
       "417        0            3         2,1,5            250           3  ...     \n",
       "442        0            3         3,5,3            373           4  ...     \n",
       "\n",
       "     stretches  strong trend  norm_length_pips  norm_bounce_pips  diff  \\\n",
       "29         NaN         False            203.15             30.62   449   \n",
       "34         NaN         False             99.79              8.12     4   \n",
       "42         NaN          True             80.92             10.10   143   \n",
       "81         NaN           NaN             92.19             11.73   418   \n",
       "82         NaN           NaN            174.31              5.58   721   \n",
       "183   52,20,63         False            524.08            104.17  2067   \n",
       "186        NaN          True            206.52             47.92   571   \n",
       "251        NaN           NaN             88.98             10.04   984   \n",
       "269        NaN          True             78.88             23.29   601   \n",
       "318        NaN          True            148.48             21.94  1235   \n",
       "417        NaN           NaN            224.44              5.21   516   \n",
       "442        NaN           NaN            176.25              7.77  3036   \n",
       "\n",
       "      pips_ratio  pips_ratio_norm sum_bounces  bounce_ratio  score  \n",
       "29    487.550000        10.150000           2           6.0     13  \n",
       "34    177.407407         3.666667           1           6.0      7  \n",
       "42    277.428571         5.714286           0           4.0      4  \n",
       "81    134.090909         2.787879           2           4.0      9  \n",
       "82    134.951613         2.806452           2           5.0      9  \n",
       "183  1143.454545        23.818182          17           4.0      9  \n",
       "186   431.000000         8.956522           3           7.0      7  \n",
       "251   610.142857        12.571429           1           3.0     17  \n",
       "269   344.181818         7.090909           1           7.0      7  \n",
       "318   445.437500         9.250000           0           4.0      4  \n",
       "417   347.516129         7.225806           8           3.0      7  \n",
       "442   313.333333         6.518519          11           4.0     13  \n",
       "\n",
       "[12 rows x 35 columns]"
      ]
     },
     "execution_count": 645,
     "metadata": {},
     "output_type": "execute_result"
    }
   ],
   "source": [
    "print(outcome_lab)\n",
    "contDF.loc[(contDF[outcome_lab]==0) & (contDF['score']>3)]"
   ]
  },
  {
   "cell_type": "markdown",
   "metadata": {},
   "source": [
    "### Calculating cutoff score\n",
    "* Mean"
   ]
  },
  {
   "cell_type": "code",
   "execution_count": 513,
   "metadata": {},
   "outputs": [
    {
     "data": {
      "text/html": [
       "<div>\n",
       "<style scoped>\n",
       "    .dataframe tbody tr th:only-of-type {\n",
       "        vertical-align: middle;\n",
       "    }\n",
       "\n",
       "    .dataframe tbody tr th {\n",
       "        vertical-align: top;\n",
       "    }\n",
       "\n",
       "    .dataframe thead th {\n",
       "        text-align: right;\n",
       "    }\n",
       "</style>\n",
       "<table border=\"1\" class=\"dataframe\">\n",
       "  <thead>\n",
       "    <tr style=\"text-align: right;\">\n",
       "      <th></th>\n",
       "      <th>score</th>\n",
       "    </tr>\n",
       "    <tr>\n",
       "      <th>outcome</th>\n",
       "      <th></th>\n",
       "    </tr>\n",
       "  </thead>\n",
       "  <tbody>\n",
       "    <tr>\n",
       "      <th>0</th>\n",
       "      <td>-6.380952</td>\n",
       "    </tr>\n",
       "    <tr>\n",
       "      <th>1</th>\n",
       "      <td>1.921053</td>\n",
       "    </tr>\n",
       "  </tbody>\n",
       "</table>\n",
       "</div>"
      ],
      "text/plain": [
       "            score\n",
       "outcome          \n",
       "0       -6.380952\n",
       "1        1.921053"
      ]
     },
     "execution_count": 513,
     "metadata": {},
     "output_type": "execute_result"
    }
   ],
   "source": [
    "contDF.groupby(outcome_lab).agg({'score': 'mean'})"
   ]
  },
  {
   "cell_type": "markdown",
   "metadata": {},
   "source": [
    "* Median"
   ]
  },
  {
   "cell_type": "code",
   "execution_count": 514,
   "metadata": {},
   "outputs": [
    {
     "data": {
      "text/html": [
       "<div>\n",
       "<style scoped>\n",
       "    .dataframe tbody tr th:only-of-type {\n",
       "        vertical-align: middle;\n",
       "    }\n",
       "\n",
       "    .dataframe tbody tr th {\n",
       "        vertical-align: top;\n",
       "    }\n",
       "\n",
       "    .dataframe thead th {\n",
       "        text-align: right;\n",
       "    }\n",
       "</style>\n",
       "<table border=\"1\" class=\"dataframe\">\n",
       "  <thead>\n",
       "    <tr style=\"text-align: right;\">\n",
       "      <th></th>\n",
       "      <th>score</th>\n",
       "    </tr>\n",
       "    <tr>\n",
       "      <th>outcome</th>\n",
       "      <th></th>\n",
       "    </tr>\n",
       "  </thead>\n",
       "  <tbody>\n",
       "    <tr>\n",
       "      <th>0</th>\n",
       "      <td>-6.0</td>\n",
       "    </tr>\n",
       "    <tr>\n",
       "      <th>1</th>\n",
       "      <td>3.5</td>\n",
       "    </tr>\n",
       "  </tbody>\n",
       "</table>\n",
       "</div>"
      ],
      "text/plain": [
       "         score\n",
       "outcome       \n",
       "0         -6.0\n",
       "1          3.5"
      ]
     },
     "execution_count": 514,
     "metadata": {},
     "output_type": "execute_result"
    }
   ],
   "source": [
    "contDF.groupby(outcome_lab).agg({'score': 'median'})"
   ]
  },
  {
   "cell_type": "markdown",
   "metadata": {},
   "source": [
    "* Histogram"
   ]
  },
  {
   "cell_type": "code",
   "execution_count": 515,
   "metadata": {},
   "outputs": [
    {
     "data": {
      "image/png": "[encoded data removed]",
      "text/plain": [
       "<matplotlib.figure.Figure at 0x12011d278>"
      ]
     },
     "metadata": {},
     "output_type": "display_data"
    }
   ],
   "source": [
    "axList=contDF['score'].hist(by=contDF[outcome_lab],figsize=(20,5),bins=8,normed=True)"
   ]
  },
  {
   "cell_type": "code",
   "execution_count": 516,
   "metadata": {},
   "outputs": [],
   "source": [
    "succ=contDF.loc[contDF[outcome_lab]==1]['score']\n",
    "fail=contDF.loc[contDF[outcome_lab]==0]['score']"
   ]
  },
  {
   "cell_type": "code",
   "execution_count": 517,
   "metadata": {},
   "outputs": [
    {
     "data": {
      "text/plain": [
       "<matplotlib.text.Text at 0x1201c6630>"
      ]
     },
     "execution_count": 517,
     "metadata": {},
     "output_type": "execute_result"
    },
    {
     "data": {
      "image/png": "[encoded data removed]",
      "text/plain": [
       "<matplotlib.figure.Figure at 0x1218c0438>"
      ]
     },
     "metadata": {},
     "output_type": "display_data"
    }
   ],
   "source": [
    "plt.hist([fail,succ], bins = 15, normed=True, label=['0','1'])\n",
    "\n",
    "plt.legend()\n",
    "plt.xlabel('Score')\n",
    "plt.ylabel('Normalized Freq')\n",
    "plt.title('Outcome of trade depending on score')"
   ]
  },
  {
   "cell_type": "markdown",
   "metadata": {},
   "source": [
    "### Making predictions and performance evaluation\n",
    "We will use different cutoffs and make predictions using these using the test set"
   ]
  },
  {
   "cell_type": "markdown",
   "metadata": {},
   "source": [
    "Let's create a new dataframe only with the columns we are interested in:"
   ]
  },
  {
   "cell_type": "code",
   "execution_count": 518,
   "metadata": {},
   "outputs": [],
   "source": [
    "scoreDF=contDF.iloc[:,[outcome_ix,34]]"
   ]
  },
  {
   "cell_type": "code",
   "execution_count": 519,
   "metadata": {},
   "outputs": [],
   "source": [
    "def predictOutcome(row, cutoff):\n",
    "    pred=None\n",
    "    if row['score'] >cutoff:\n",
    "        pred=1\n",
    "    else:\n",
    "        pred=0\n",
    "    return pred"
   ]
  },
  {
   "cell_type": "code",
   "execution_count": 520,
   "metadata": {},
   "outputs": [
    {
     "name": "stderr",
     "output_type": "stream",
     "text": [
      "/Users/ernesto/bin/anaconda/envs/python3/lib/python3.5/site-packages/ipykernel_launcher.py:1: SettingWithCopyWarning: \n",
      "A value is trying to be set on a copy of a slice from a DataFrame.\n",
      "Try using .loc[row_indexer,col_indexer] = value instead\n",
      "\n",
      "See the caveats in the documentation: http://pandas.pydata.org/pandas-docs/stable/indexing.html#indexing-view-versus-copy\n",
      "  \"\"\"Entry point for launching an IPython kernel.\n"
     ]
    }
   ],
   "source": [
    "scoreDF['predict']=scoreDF.apply(predictOutcome,axis=1,cutoff=10)"
   ]
  },
  {
   "cell_type": "markdown",
   "metadata": {},
   "source": [
    "* Performance evaluation"
   ]
  },
  {
   "cell_type": "code",
   "execution_count": 521,
   "metadata": {},
   "outputs": [
    {
     "name": "stdout",
     "output_type": "stream",
     "text": [
      "TP:3\n",
      "TN:21\n",
      "FN:35\n",
      "FP:0\n"
     ]
    }
   ],
   "source": [
    "(tn, fp, fn, tp)=confusion_matrix(scoreDF['outcome'], scoreDF['predict']).ravel()\n",
    "print(\"TP:\"+str(tp))\n",
    "print(\"TN:\"+str(tn))\n",
    "print(\"FN:\"+str(fn))\n",
    "print(\"FP:\"+str(fp))"
   ]
  },
  {
   "cell_type": "markdown",
   "metadata": {},
   "source": [
    "    * Precision"
   ]
  },
  {
   "cell_type": "code",
   "execution_count": 522,
   "metadata": {},
   "outputs": [
    {
     "name": "stdout",
     "output_type": "stream",
     "text": [
      "1.0\n"
     ]
    }
   ],
   "source": [
    "print(tp/(tp+fp))"
   ]
  },
  {
   "cell_type": "markdown",
   "metadata": {},
   "source": [
    "* Recall"
   ]
  },
  {
   "cell_type": "code",
   "execution_count": 523,
   "metadata": {},
   "outputs": [
    {
     "name": "stdout",
     "output_type": "stream",
     "text": [
      "0.0789473684211\n"
     ]
    }
   ],
   "source": [
    "print(tp/(tp+fn))"
   ]
  },
  {
   "cell_type": "markdown",
   "metadata": {},
   "source": [
    "### Cross-validation"
   ]
  },
  {
   "cell_type": "code",
   "execution_count": 510,
   "metadata": {},
   "outputs": [],
   "source": [
    "def cross_validate(cutoff,iterations):\n",
    "    '''\n",
    "    Function that will asses the sensitivity and specificity for differnt cutoff scores\n",
    "    on different slices of the input dataframe\n",
    "    \n",
    "    Parameters\n",
    "    ----------\n",
    "    cutoff: int\n",
    "            Cut off value used for predicting a trade as S or F\n",
    "    iterations: int\n",
    "                 Number of crossvalidation iterations\n",
    "    '''\n",
    "    precision_list=[]\n",
    "    recall_list=[]\n",
    "    tp_list=[]\n",
    "    precission_list,recall_list,tn_list,fp_list,fn_list,tp_list = ([] for i in range(6))\n",
    "    \n",
    "    for i in range(0,iterations,1):\n",
    "        #print(\"[WARN]: Iteration {0}\".format(i))\n",
    "        train, test = train_test_split(contDF,\n",
    "                                       test_size=0.99)\n",
    "        test['score']=test.apply(calculate_points, axis=1, attribs=attbs)\n",
    "    \n",
    "        scoreDF=test.iloc[:,[outcome_ix,34]]\n",
    "        scoreDF['predict']=scoreDF.apply(predictOutcome,axis=1,cutoff=cutoff)\n",
    "        # assess performance\n",
    "        (tn, fp, fn, tp)=confusion_matrix(scoreDF['outcome'], scoreDF['predict']).ravel()\n",
    "        precision_list.append(tp/(tp+fp))\n",
    "        recall_list.append(tp/(tp+fn))\n",
    "        tn_list.append(tn)\n",
    "        fp_list.append(fp)\n",
    "        fn_list.append(fn)\n",
    "        tp_list.append(tp)\n",
    "    precission_array=np.array([precision_list])\n",
    "    recall_array=np.array([recall_list])\n",
    "    tn_array=np.array([tn_list])\n",
    "    fp_array=np.array([fp_list])\n",
    "    fn_array=np.array([fn_list])\n",
    "    tp_array=np.array([tp_list])\n",
    "    print(\"Precission: AGV: {0},STD:{1},CUTOFF:{2}\".format(np.average(precission_array),np.std(precission_array),cutoff))\n",
    "    print(\"Recall: AGV: {0},STD:{1},CUTOFF:{2}\".format(np.average(recall_array),np.std(recall_array),cutoff))\n",
    "    print(\"TN: AGV: {0},STD:{1},CUTOFF:{2}\".format(np.average(tn_array),np.std(tn_array),cutoff))\n",
    "    print(\"FP: AGV: {0},STD:{1},CUTOFF:{2}\".format(np.average(fp_array),np.std(fp_array),cutoff))\n",
    "    print(\"FN: AGV: {0},STD:{1},CUTOFF:{2}\".format(np.average(fn_array),np.std(fn_array),cutoff))\n",
    "    print(\"TP: AGV: {0},STD:{1},CUTOFF:{2}\".format(np.average(tp_array),np.std(tp_array),cutoff))"
   ]
  },
  {
   "cell_type": "markdown",
   "metadata": {},
   "source": [
    "Now, let's iterate a number of times (1000 in this case) on different cutoffs"
   ]
  },
  {
   "cell_type": "code",
   "execution_count": 511,
   "metadata": {},
   "outputs": [
    {
     "name": "stderr",
     "output_type": "stream",
     "text": [
      "/Users/ernesto/bin/anaconda/envs/python3/lib/python3.5/site-packages/ipykernel_launcher.py:22: SettingWithCopyWarning: \n",
      "A value is trying to be set on a copy of a slice from a DataFrame.\n",
      "Try using .loc[row_indexer,col_indexer] = value instead\n",
      "\n",
      "See the caveats in the documentation: http://pandas.pydata.org/pandas-docs/stable/indexing.html#indexing-view-versus-copy\n",
      "/Users/ernesto/bin/anaconda/envs/python3/lib/python3.5/site-packages/ipykernel_launcher.py:25: SettingWithCopyWarning: \n",
      "A value is trying to be set on a copy of a slice from a DataFrame.\n",
      "Try using .loc[row_indexer,col_indexer] = value instead\n",
      "\n",
      "See the caveats in the documentation: http://pandas.pydata.org/pandas-docs/stable/indexing.html#indexing-view-versus-copy\n"
     ]
    },
    {
     "name": "stdout",
     "output_type": "stream",
     "text": [
      "Precission: AGV: 0.6923076923076923,STD:0.0,CUTOFF:-10\n",
      "Recall: AGV: 0.9473684210526315,STD:0.0,CUTOFF:-10\n",
      "TN: AGV: 5.0,STD:0.0,CUTOFF:-10\n",
      "FP: AGV: 16.0,STD:0.0,CUTOFF:-10\n",
      "FN: AGV: 2.0,STD:0.0,CUTOFF:-10\n",
      "TP: AGV: 36.0,STD:0.0,CUTOFF:-10\n",
      "Precission: AGV: 0.7058823529411765,STD:0.0,CUTOFF:-9\n",
      "Recall: AGV: 0.9473684210526315,STD:0.0,CUTOFF:-9\n",
      "TN: AGV: 6.0,STD:0.0,CUTOFF:-9\n",
      "FP: AGV: 15.0,STD:0.0,CUTOFF:-9\n",
      "FN: AGV: 2.0,STD:0.0,CUTOFF:-9\n",
      "TP: AGV: 36.0,STD:0.0,CUTOFF:-9\n",
      "Precission: AGV: 0.7142857142857143,STD:0.0,CUTOFF:-8\n",
      "Recall: AGV: 0.9210526315789473,STD:0.0,CUTOFF:-8\n",
      "TN: AGV: 7.0,STD:0.0,CUTOFF:-8\n",
      "FP: AGV: 14.0,STD:0.0,CUTOFF:-8\n",
      "FN: AGV: 3.0,STD:0.0,CUTOFF:-8\n",
      "TP: AGV: 35.0,STD:0.0,CUTOFF:-8\n",
      "Precission: AGV: 0.7142857142857143,STD:0.0,CUTOFF:-7\n",
      "Recall: AGV: 0.7894736842105263,STD:0.0,CUTOFF:-7\n",
      "TN: AGV: 9.0,STD:0.0,CUTOFF:-7\n",
      "FP: AGV: 12.0,STD:0.0,CUTOFF:-7\n",
      "FN: AGV: 8.0,STD:0.0,CUTOFF:-7\n",
      "TP: AGV: 30.0,STD:0.0,CUTOFF:-7\n",
      "Precission: AGV: 0.8055555555555556,STD:0.0,CUTOFF:-6\n",
      "Recall: AGV: 0.7631578947368421,STD:0.0,CUTOFF:-6\n",
      "TN: AGV: 14.0,STD:0.0,CUTOFF:-6\n",
      "FP: AGV: 7.0,STD:0.0,CUTOFF:-6\n",
      "FN: AGV: 9.0,STD:0.0,CUTOFF:-6\n",
      "TP: AGV: 29.0,STD:0.0,CUTOFF:-6\n",
      "Precission: AGV: 0.8285714285714286,STD:0.0,CUTOFF:-5\n",
      "Recall: AGV: 0.7631578947368421,STD:0.0,CUTOFF:-5\n",
      "TN: AGV: 15.0,STD:0.0,CUTOFF:-5\n",
      "FP: AGV: 6.0,STD:0.0,CUTOFF:-5\n",
      "FN: AGV: 9.0,STD:0.0,CUTOFF:-5\n",
      "TP: AGV: 29.0,STD:0.0,CUTOFF:-5\n",
      "Precission: AGV: 0.8285714285714286,STD:0.0,CUTOFF:-4\n",
      "Recall: AGV: 0.7631578947368421,STD:0.0,CUTOFF:-4\n",
      "TN: AGV: 15.0,STD:0.0,CUTOFF:-4\n",
      "FP: AGV: 6.0,STD:0.0,CUTOFF:-4\n",
      "FN: AGV: 9.0,STD:0.0,CUTOFF:-4\n",
      "TP: AGV: 29.0,STD:0.0,CUTOFF:-4\n",
      "Precission: AGV: 0.8235294117647058,STD:0.0,CUTOFF:-3\n",
      "Recall: AGV: 0.7368421052631579,STD:0.0,CUTOFF:-3\n",
      "TN: AGV: 15.0,STD:0.0,CUTOFF:-3\n",
      "FP: AGV: 6.0,STD:0.0,CUTOFF:-3\n",
      "FN: AGV: 10.0,STD:0.0,CUTOFF:-3\n",
      "TP: AGV: 28.0,STD:0.0,CUTOFF:-3\n",
      "Precission: AGV: 0.8125,STD:0.0,CUTOFF:-2\n",
      "Recall: AGV: 0.6842105263157895,STD:0.0,CUTOFF:-2\n",
      "TN: AGV: 15.0,STD:0.0,CUTOFF:-2\n",
      "FP: AGV: 6.0,STD:0.0,CUTOFF:-2\n",
      "FN: AGV: 12.0,STD:0.0,CUTOFF:-2\n",
      "TP: AGV: 26.0,STD:0.0,CUTOFF:-2\n",
      "Precission: AGV: 0.896551724137931,STD:0.0,CUTOFF:-1\n",
      "Recall: AGV: 0.6842105263157895,STD:0.0,CUTOFF:-1\n",
      "TN: AGV: 18.0,STD:0.0,CUTOFF:-1\n",
      "FP: AGV: 3.0,STD:0.0,CUTOFF:-1\n",
      "FN: AGV: 12.0,STD:0.0,CUTOFF:-1\n",
      "TP: AGV: 26.0,STD:0.0,CUTOFF:-1\n",
      "Precission: AGV: 0.9259259259259259,STD:0.0,CUTOFF:0\n",
      "Recall: AGV: 0.6578947368421053,STD:0.0,CUTOFF:0\n",
      "TN: AGV: 19.0,STD:0.0,CUTOFF:0\n",
      "FP: AGV: 2.0,STD:0.0,CUTOFF:0\n",
      "FN: AGV: 13.0,STD:0.0,CUTOFF:0\n",
      "TP: AGV: 25.0,STD:0.0,CUTOFF:0\n",
      "Precission: AGV: 0.9565217391304348,STD:0.0,CUTOFF:1\n",
      "Recall: AGV: 0.5789473684210527,STD:0.0,CUTOFF:1\n",
      "TN: AGV: 20.0,STD:0.0,CUTOFF:1\n",
      "FP: AGV: 1.0,STD:0.0,CUTOFF:1\n",
      "FN: AGV: 16.0,STD:0.0,CUTOFF:1\n",
      "TP: AGV: 22.0,STD:0.0,CUTOFF:1\n",
      "Precission: AGV: 0.9565217391304348,STD:0.0,CUTOFF:2\n",
      "Recall: AGV: 0.5789473684210527,STD:0.0,CUTOFF:2\n",
      "TN: AGV: 20.0,STD:0.0,CUTOFF:2\n",
      "FP: AGV: 1.0,STD:0.0,CUTOFF:2\n",
      "FN: AGV: 16.0,STD:0.0,CUTOFF:2\n",
      "TP: AGV: 22.0,STD:0.0,CUTOFF:2\n",
      "Precission: AGV: 1.0,STD:0.0,CUTOFF:3\n",
      "Recall: AGV: 0.5,STD:0.0,CUTOFF:3\n",
      "TN: AGV: 21.0,STD:0.0,CUTOFF:3\n",
      "FP: AGV: 0.0,STD:0.0,CUTOFF:3\n",
      "FN: AGV: 19.0,STD:0.0,CUTOFF:3\n",
      "TP: AGV: 19.0,STD:0.0,CUTOFF:3\n",
      "Precission: AGV: 1.0,STD:0.0,CUTOFF:4\n",
      "Recall: AGV: 0.39473684210526316,STD:0.0,CUTOFF:4\n",
      "TN: AGV: 21.0,STD:0.0,CUTOFF:4\n",
      "FP: AGV: 0.0,STD:0.0,CUTOFF:4\n",
      "FN: AGV: 23.0,STD:0.0,CUTOFF:4\n",
      "TP: AGV: 15.0,STD:0.0,CUTOFF:4\n",
      "Precission: AGV: 1.0,STD:0.0,CUTOFF:5\n",
      "Recall: AGV: 0.2894736842105263,STD:0.0,CUTOFF:5\n",
      "TN: AGV: 21.0,STD:0.0,CUTOFF:5\n",
      "FP: AGV: 0.0,STD:0.0,CUTOFF:5\n",
      "FN: AGV: 27.0,STD:0.0,CUTOFF:5\n",
      "TP: AGV: 11.0,STD:0.0,CUTOFF:5\n",
      "Precission: AGV: 1.0,STD:0.0,CUTOFF:6\n",
      "Recall: AGV: 0.2894736842105263,STD:0.0,CUTOFF:6\n",
      "TN: AGV: 21.0,STD:0.0,CUTOFF:6\n",
      "FP: AGV: 0.0,STD:0.0,CUTOFF:6\n",
      "FN: AGV: 27.0,STD:0.0,CUTOFF:6\n",
      "TP: AGV: 11.0,STD:0.0,CUTOFF:6\n",
      "Precission: AGV: 1.0,STD:0.0,CUTOFF:7\n",
      "Recall: AGV: 0.15789473684210525,STD:0.0,CUTOFF:7\n",
      "TN: AGV: 21.0,STD:0.0,CUTOFF:7\n",
      "FP: AGV: 0.0,STD:0.0,CUTOFF:7\n",
      "FN: AGV: 32.0,STD:0.0,CUTOFF:7\n",
      "TP: AGV: 6.0,STD:0.0,CUTOFF:7\n",
      "Precission: AGV: 1.0,STD:0.0,CUTOFF:8\n",
      "Recall: AGV: 0.15789473684210525,STD:0.0,CUTOFF:8\n",
      "TN: AGV: 21.0,STD:0.0,CUTOFF:8\n",
      "FP: AGV: 0.0,STD:0.0,CUTOFF:8\n",
      "FN: AGV: 32.0,STD:0.0,CUTOFF:8\n",
      "TP: AGV: 6.0,STD:0.0,CUTOFF:8\n",
      "Precission: AGV: 1.0,STD:0.0,CUTOFF:9\n",
      "Recall: AGV: 0.07894736842105263,STD:0.0,CUTOFF:9\n",
      "TN: AGV: 21.0,STD:0.0,CUTOFF:9\n",
      "FP: AGV: 0.0,STD:0.0,CUTOFF:9\n",
      "FN: AGV: 35.0,STD:0.0,CUTOFF:9\n",
      "TP: AGV: 3.0,STD:0.0,CUTOFF:9\n",
      "Precission: AGV: 1.0,STD:0.0,CUTOFF:10\n",
      "Recall: AGV: 0.07894736842105263,STD:0.0,CUTOFF:10\n",
      "TN: AGV: 21.0,STD:0.0,CUTOFF:10\n",
      "FP: AGV: 0.0,STD:0.0,CUTOFF:10\n",
      "FN: AGV: 35.0,STD:0.0,CUTOFF:10\n",
      "TP: AGV: 3.0,STD:0.0,CUTOFF:10\n",
      "Precission: AGV: 1.0,STD:0.0,CUTOFF:11\n",
      "Recall: AGV: 0.05263157894736842,STD:0.0,CUTOFF:11\n",
      "TN: AGV: 21.0,STD:0.0,CUTOFF:11\n",
      "FP: AGV: 0.0,STD:0.0,CUTOFF:11\n",
      "FN: AGV: 36.0,STD:0.0,CUTOFF:11\n",
      "TP: AGV: 2.0,STD:0.0,CUTOFF:11\n",
      "Precission: AGV: 1.0,STD:0.0,CUTOFF:12\n",
      "Recall: AGV: 0.05263157894736842,STD:0.0,CUTOFF:12\n",
      "TN: AGV: 21.0,STD:0.0,CUTOFF:12\n",
      "FP: AGV: 0.0,STD:0.0,CUTOFF:12\n",
      "FN: AGV: 36.0,STD:0.0,CUTOFF:12\n",
      "TP: AGV: 2.0,STD:0.0,CUTOFF:12\n",
      "Precission: AGV: 1.0,STD:0.0,CUTOFF:13\n",
      "Recall: AGV: 0.05263157894736842,STD:0.0,CUTOFF:13\n"
     ]
    },
    {
     "name": "stderr",
     "output_type": "stream",
     "text": [
      "/Users/ernesto/bin/anaconda/envs/python3/lib/python3.5/site-packages/ipykernel_launcher.py:28: RuntimeWarning: invalid value encountered in long_scalars\n"
     ]
    },
    {
     "name": "stdout",
     "output_type": "stream",
     "text": [
      "TN: AGV: 21.0,STD:0.0,CUTOFF:13\n",
      "FP: AGV: 0.0,STD:0.0,CUTOFF:13\n",
      "FN: AGV: 36.0,STD:0.0,CUTOFF:13\n",
      "TP: AGV: 2.0,STD:0.0,CUTOFF:13\n",
      "Precission: AGV: 1.0,STD:0.0,CUTOFF:14\n",
      "Recall: AGV: 0.02631578947368421,STD:0.0,CUTOFF:14\n",
      "TN: AGV: 21.0,STD:0.0,CUTOFF:14\n",
      "FP: AGV: 0.0,STD:0.0,CUTOFF:14\n",
      "FN: AGV: 37.0,STD:0.0,CUTOFF:14\n",
      "TP: AGV: 1.0,STD:0.0,CUTOFF:14\n",
      "Precission: AGV: nan,STD:nan,CUTOFF:15\n",
      "Recall: AGV: 0.0,STD:0.0,CUTOFF:15\n",
      "TN: AGV: 21.0,STD:0.0,CUTOFF:15\n",
      "FP: AGV: 0.0,STD:0.0,CUTOFF:15\n",
      "FN: AGV: 38.0,STD:0.0,CUTOFF:15\n",
      "TP: AGV: 0.0,STD:0.0,CUTOFF:15\n",
      "Precission: AGV: nan,STD:nan,CUTOFF:16\n",
      "Recall: AGV: 0.0,STD:0.0,CUTOFF:16\n",
      "TN: AGV: 21.0,STD:0.0,CUTOFF:16\n",
      "FP: AGV: 0.0,STD:0.0,CUTOFF:16\n",
      "FN: AGV: 38.0,STD:0.0,CUTOFF:16\n",
      "TP: AGV: 0.0,STD:0.0,CUTOFF:16\n",
      "Precission: AGV: nan,STD:nan,CUTOFF:17\n",
      "Recall: AGV: 0.0,STD:0.0,CUTOFF:17\n",
      "TN: AGV: 21.0,STD:0.0,CUTOFF:17\n",
      "FP: AGV: 0.0,STD:0.0,CUTOFF:17\n",
      "FN: AGV: 38.0,STD:0.0,CUTOFF:17\n",
      "TP: AGV: 0.0,STD:0.0,CUTOFF:17\n",
      "Precission: AGV: nan,STD:nan,CUTOFF:18\n",
      "Recall: AGV: 0.0,STD:0.0,CUTOFF:18\n",
      "TN: AGV: 21.0,STD:0.0,CUTOFF:18\n",
      "FP: AGV: 0.0,STD:0.0,CUTOFF:18\n",
      "FN: AGV: 38.0,STD:0.0,CUTOFF:18\n",
      "TP: AGV: 0.0,STD:0.0,CUTOFF:18\n",
      "Precission: AGV: nan,STD:nan,CUTOFF:19\n",
      "Recall: AGV: 0.0,STD:0.0,CUTOFF:19\n",
      "TN: AGV: 21.0,STD:0.0,CUTOFF:19\n",
      "FP: AGV: 0.0,STD:0.0,CUTOFF:19\n",
      "FN: AGV: 38.0,STD:0.0,CUTOFF:19\n",
      "TP: AGV: 0.0,STD:0.0,CUTOFF:19\n"
     ]
    }
   ],
   "source": [
    "for i in range(-10,20,1):\n",
    "    cross_validate(i,1)"
   ]
  },
  {
   "cell_type": "markdown",
   "metadata": {},
   "source": [
    "### Using a Binary classifier\n",
    "First, let's prepare the data by separating the data into labels (dependent variable, which is the variable we try to predict) and features (the independent variables that are going to be used for the model)"
   ]
  },
  {
   "cell_type": "code",
   "execution_count": null,
   "metadata": {},
   "outputs": [],
   "source": [
    "labels=contDF['ext_outcome']\n",
    "features=contDF.drop([\"ext_outcome\",\"outcome\"],axis=1)"
   ]
  },
  {
   "cell_type": "markdown",
   "metadata": {},
   "source": [
    "We need also to remove some features that will be not accepted by the classifier or are not useful"
   ]
  },
  {
   "cell_type": "code",
   "execution_count": null,
   "metadata": {},
   "outputs": [],
   "source": [
    "features=features.drop([\"id\",\"start\",\"timeframe\",\"entry\",\"retraced\",\"last time\",\"target\",\"bounce length\",\"space interswings\"],axis=1)"
   ]
  },
  {
   "cell_type": "markdown",
   "metadata": {},
   "source": [
    "Now, let's split our data into training and test sets. In this case, the test_size=0.33"
   ]
  },
  {
   "cell_type": "code",
   "execution_count": null,
   "metadata": {},
   "outputs": [],
   "source": [
    "train, test, train_labels, test_labels = train_test_split(features,\n",
    "                                                          labels,\n",
    "                                                          test_size=0.33,\n",
    "                                                          random_state=42)"
   ]
  },
  {
   "cell_type": "markdown",
   "metadata": {},
   "source": [
    "As the counts for each outcome category are unbalanced, I will oversample using SMOTE:"
   ]
  },
  {
   "cell_type": "code",
   "execution_count": null,
   "metadata": {},
   "outputs": [],
   "source": [
    "from imblearn.over_sampling import SMOTE\n",
    "\n",
    "train_resampled, trainlabels_resampled = SMOTE().fit_sample(train,train_labels)"
   ]
  },
  {
   "cell_type": "markdown",
   "metadata": {},
   "source": [
    "Let's check the balanced counts:"
   ]
  },
  {
   "cell_type": "code",
   "execution_count": null,
   "metadata": {},
   "outputs": [],
   "source": [
    "from collections import Counter\n",
    "\n",
    "print(sorted(Counter(trainlabels_resampled).items()))"
   ]
  },
  {
   "cell_type": "markdown",
   "metadata": {},
   "source": [
    "#### naive_bayes"
   ]
  },
  {
   "cell_type": "markdown",
   "metadata": {},
   "source": [
    "Building and Evaluating the Model for the non oversampled train dataset"
   ]
  },
  {
   "cell_type": "code",
   "execution_count": null,
   "metadata": {},
   "outputs": [],
   "source": [
    "from sklearn.naive_bayes import GaussianNB\n",
    "\n",
    "# Initialize our classifier\n",
    "gnb = GaussianNB()\n",
    "\n",
    "# Train our classifier\n",
    "model = gnb.fit(train, train_labels)"
   ]
  },
  {
   "cell_type": "code",
   "execution_count": null,
   "metadata": {},
   "outputs": [],
   "source": [
    "# Make predictions\n",
    "preds = gnb.predict(test)"
   ]
  },
  {
   "cell_type": "code",
   "execution_count": null,
   "metadata": {},
   "outputs": [],
   "source": [
    "from sklearn.metrics import accuracy_score\n",
    "\n",
    "# Evaluate accuracy\n",
    "print(accuracy_score(test_labels, preds))"
   ]
  },
  {
   "cell_type": "markdown",
   "metadata": {},
   "source": [
    "Now, with the oversampled train dataset"
   ]
  },
  {
   "cell_type": "code",
   "execution_count": null,
   "metadata": {},
   "outputs": [],
   "source": [
    "# Train our classifier\n",
    "model = gnb.fit(train_resampled,  trainlabels_resampled)\n",
    "\n",
    "# Make predictions\n",
    "preds = gnb.predict(test)\n",
    "\n",
    "# Evaluate accuracy\n",
    "print(accuracy_score(test_labels, preds))"
   ]
  },
  {
   "cell_type": "markdown",
   "metadata": {},
   "source": [
    "**Conclusion** It is slightly better using oversampling"
   ]
  },
  {
   "cell_type": "markdown",
   "metadata": {},
   "source": [
    "#### Using SGDClassifier\n",
    "First, let's use the non oversampled train dataset"
   ]
  },
  {
   "cell_type": "code",
   "execution_count": null,
   "metadata": {},
   "outputs": [],
   "source": [
    "from sklearn.linear_model import SGDClassifier\n",
    "\n",
    "sgd_clf = SGDClassifier()\n",
    "sgd=sgd_clf.fit(train,train_labels)"
   ]
  },
  {
   "cell_type": "code",
   "execution_count": null,
   "metadata": {},
   "outputs": [],
   "source": [
    "preds=sgd_clf.predict(test)"
   ]
  },
  {
   "cell_type": "code",
   "execution_count": null,
   "metadata": {},
   "outputs": [],
   "source": [
    "print(accuracy_score(test_labels, preds))"
   ]
  },
  {
   "cell_type": "markdown",
   "metadata": {},
   "source": [
    "Now, with the oversampled train dataset"
   ]
  },
  {
   "cell_type": "code",
   "execution_count": null,
   "metadata": {},
   "outputs": [],
   "source": [
    "sgd_clf = SGDClassifier()\n",
    "sgd=sgd_clf.fit(train_resampled,trainlabels_resampled)\n",
    "preds=sgd_clf.predict(test)\n",
    "print(accuracy_score(test_labels, preds))"
   ]
  },
  {
   "cell_type": "markdown",
   "metadata": {},
   "source": [
    "#### Using Logistic Regression  \n",
    "First, let's use the non oversampled train dataset"
   ]
  },
  {
   "cell_type": "code",
   "execution_count": null,
   "metadata": {},
   "outputs": [],
   "source": [
    "from sklearn.linear_model import LogisticRegression\n",
    "logisticRegr = LogisticRegression(verbose=1)"
   ]
  },
  {
   "cell_type": "markdown",
   "metadata": {},
   "source": [
    "Now, we train the model with the training set:"
   ]
  },
  {
   "cell_type": "code",
   "execution_count": null,
   "metadata": {},
   "outputs": [],
   "source": [
    "m=logisticRegr.fit(train, train_labels)"
   ]
  },
  {
   "cell_type": "markdown",
   "metadata": {},
   "source": [
    "Now, let's measue model performance\n",
    "First, we are going to make predictions using our new model and the test data"
   ]
  },
  {
   "cell_type": "code",
   "execution_count": null,
   "metadata": {},
   "outputs": [],
   "source": [
    "predictions = logisticRegr.predict(test)"
   ]
  },
  {
   "cell_type": "markdown",
   "metadata": {},
   "source": [
    "We can use the score function in order to calculate the mean accuracy on the test data and labels"
   ]
  },
  {
   "cell_type": "code",
   "execution_count": null,
   "metadata": {},
   "outputs": [],
   "source": [
    "score = logisticRegr.score(test, test_labels)\n",
    "print(score)"
   ]
  },
  {
   "cell_type": "markdown",
   "metadata": {},
   "source": [
    "In order to visualize the correctness of our predictions, we can also create a confusion matrix:"
   ]
  },
  {
   "cell_type": "code",
   "execution_count": null,
   "metadata": {},
   "outputs": [],
   "source": [
    "import matplotlib.pyplot as plt\n",
    "import seaborn as sns\n",
    "from sklearn import metrics\n",
    "\n",
    "cm = metrics.confusion_matrix(test_labels, predictions)\n",
    "print(cm)"
   ]
  },
  {
   "cell_type": "markdown",
   "metadata": {},
   "source": [
    "The matrix above can be embellished by using seaborn:"
   ]
  },
  {
   "cell_type": "code",
   "execution_count": null,
   "metadata": {},
   "outputs": [],
   "source": [
    "plt.figure(figsize=(9,9))\n",
    "sns.heatmap(cm, annot=True, fmt=\".0f\", linewidths=.5, square = True, cmap = 'Blues_r');\n",
    "plt.ylabel('Actual label');\n",
    "plt.xlabel('Predicted label');\n",
    "all_sample_title = 'Accuracy Score: {0}'.format(score)\n",
    "plt.title(all_sample_title, size = 15);"
   ]
  },
  {
   "cell_type": "markdown",
   "metadata": {},
   "source": [
    "Now, let's try with the oversampled train dataset"
   ]
  },
  {
   "cell_type": "code",
   "execution_count": null,
   "metadata": {},
   "outputs": [],
   "source": [
    "from sklearn.linear_model import LogisticRegression\n",
    "logisticRegr = LogisticRegression(verbose=1)"
   ]
  },
  {
   "cell_type": "markdown",
   "metadata": {},
   "source": [
    "Now, we train the model with the training set:"
   ]
  },
  {
   "cell_type": "code",
   "execution_count": null,
   "metadata": {},
   "outputs": [],
   "source": [
    "m=logisticRegr.fit(train_resampled,trainlabels_resampled)"
   ]
  },
  {
   "cell_type": "markdown",
   "metadata": {},
   "source": [
    "Now, let's measue model performance\n",
    "First, we are going to make predictions using our new model and the test data"
   ]
  },
  {
   "cell_type": "code",
   "execution_count": 119,
   "metadata": {},
   "outputs": [
    {
     "ename": "NameError",
     "evalue": "name 'logisticRegr' is not defined",
     "output_type": "error",
     "traceback": [
      "\u001b[0;31m---------------------------------------------------------------------------\u001b[0m",
      "\u001b[0;31mNameError\u001b[0m                                 Traceback (most recent call last)",
      "\u001b[0;32m<ipython-input-119-a425d92e5fca>\u001b[0m in \u001b[0;36m<module>\u001b[0;34m()\u001b[0m\n\u001b[0;32m----> 1\u001b[0;31m \u001b[0mpredictions\u001b[0m \u001b[0;34m=\u001b[0m \u001b[0mlogisticRegr\u001b[0m\u001b[0;34m.\u001b[0m\u001b[0mpredict\u001b[0m\u001b[0;34m(\u001b[0m\u001b[0mtest\u001b[0m\u001b[0;34m)\u001b[0m\u001b[0;34m\u001b[0m\u001b[0m\n\u001b[0m",
      "\u001b[0;31mNameError\u001b[0m: name 'logisticRegr' is not defined"
     ]
    }
   ],
   "source": [
    "predictions = logisticRegr.predict(test)"
   ]
  },
  {
   "cell_type": "markdown",
   "metadata": {},
   "source": [
    "We can use the score function in order to calculate the mean accuracy on the test data and labels"
   ]
  },
  {
   "cell_type": "code",
   "execution_count": 120,
   "metadata": {},
   "outputs": [
    {
     "ename": "NameError",
     "evalue": "name 'logisticRegr' is not defined",
     "output_type": "error",
     "traceback": [
      "\u001b[0;31m---------------------------------------------------------------------------\u001b[0m",
      "\u001b[0;31mNameError\u001b[0m                                 Traceback (most recent call last)",
      "\u001b[0;32m<ipython-input-120-025780d75b50>\u001b[0m in \u001b[0;36m<module>\u001b[0;34m()\u001b[0m\n\u001b[0;32m----> 1\u001b[0;31m \u001b[0mscore\u001b[0m \u001b[0;34m=\u001b[0m \u001b[0mlogisticRegr\u001b[0m\u001b[0;34m.\u001b[0m\u001b[0mscore\u001b[0m\u001b[0;34m(\u001b[0m\u001b[0mtest\u001b[0m\u001b[0;34m,\u001b[0m \u001b[0mtest_labels\u001b[0m\u001b[0;34m)\u001b[0m\u001b[0;34m\u001b[0m\u001b[0m\n\u001b[0m\u001b[1;32m      2\u001b[0m \u001b[0mprint\u001b[0m\u001b[0;34m(\u001b[0m\u001b[0mscore\u001b[0m\u001b[0;34m)\u001b[0m\u001b[0;34m\u001b[0m\u001b[0m\n",
      "\u001b[0;31mNameError\u001b[0m: name 'logisticRegr' is not defined"
     ]
    }
   ],
   "source": [
    "score = logisticRegr.score(test, test_labels)\n",
    "print(score)"
   ]
  },
  {
   "cell_type": "markdown",
   "metadata": {},
   "source": [
    "**Conclusion:** It is worst to oversample in terms of score"
   ]
  },
  {
   "cell_type": "markdown",
   "metadata": {},
   "source": [
    "* Examining the influence of each predictor on the outcome"
   ]
  },
  {
   "cell_type": "code",
   "execution_count": 121,
   "metadata": {},
   "outputs": [
    {
     "ename": "NameError",
     "evalue": "name 'm' is not defined",
     "output_type": "error",
     "traceback": [
      "\u001b[0;31m---------------------------------------------------------------------------\u001b[0m",
      "\u001b[0;31mNameError\u001b[0m                                 Traceback (most recent call last)",
      "\u001b[0;32m<ipython-input-121-da326d2fe27b>\u001b[0m in \u001b[0;36m<module>\u001b[0;34m()\u001b[0m\n\u001b[1;32m      1\u001b[0m \u001b[0mstds\u001b[0m\u001b[0;34m=\u001b[0m\u001b[0mnp\u001b[0m\u001b[0;34m.\u001b[0m\u001b[0mstd\u001b[0m\u001b[0;34m(\u001b[0m\u001b[0mtrain\u001b[0m\u001b[0;34m,\u001b[0m \u001b[0;36m0\u001b[0m\u001b[0;34m)\u001b[0m\u001b[0;34m\u001b[0m\u001b[0m\n\u001b[1;32m      2\u001b[0m \u001b[0;34m\u001b[0m\u001b[0m\n\u001b[0;32m----> 3\u001b[0;31m \u001b[0mprint\u001b[0m\u001b[0;34m(\u001b[0m\u001b[0mstds\u001b[0m\u001b[0;34m.\u001b[0m\u001b[0mvalues\u001b[0m\u001b[0;34m*\u001b[0m\u001b[0mm\u001b[0m\u001b[0;34m.\u001b[0m\u001b[0mcoef_\u001b[0m\u001b[0;34m)\u001b[0m\u001b[0;34m\u001b[0m\u001b[0m\n\u001b[0m",
      "\u001b[0;31mNameError\u001b[0m: name 'm' is not defined"
     ]
    }
   ],
   "source": [
    "stds=np.std(train, 0)\n",
    "\n",
    "print(stds.values*m.coef_)"
   ]
  },
  {
   "cell_type": "code",
   "execution_count": null,
   "metadata": {},
   "outputs": [],
   "source": [
    "keys=list(train.columns)\n",
    "values_10=list(stds.values*m.coef_)[0]*10\n",
    "\n",
    "coefficients=dict(zip(keys,values_10))\n",
    "print(coefficients)"
   ]
  },
  {
   "cell_type": "markdown",
   "metadata": {
    "variables": {
     "train.columns[0]": {},
     "train.columns[10]": {},
     "train.columns[11]": {},
     "train.columns[12]": {},
     "train.columns[13]": {},
     "train.columns[14]": {},
     "train.columns[1]": {},
     "train.columns[2]": {},
     "train.columns[4]": {},
     "train.columns[5]": {},
     "train.columns[7]": {},
     "train.columns[8]": {},
     "train.columns[9]": {}
    }
   },
   "source": [
    "**Conclusions:**  \n",
    "* Relevant  \n",
    "{{train.columns[0]}} (negative)  \n",
    "{{train.columns[1]}} (negative)  \n",
    "{{train.columns[2]}} (positive)  \n",
    "{{train.columns[4]}} (negative)  \n",
    "{{train.columns[5]}} (positive)  \n",
    "{{train.columns[7]}} (positive)  \n",
    "{{train.columns[8]}} (negative)  \n",
    "{{train.columns[9]}} (negative)  \n",
    "{{train.columns[10]}} (positive)  \n",
    "{{train.columns[11]}} (negative)  \n",
    "{{train.columns[12]}} (positive)  \n",
    "{{train.columns[13]}} (negative)  \n",
    "{{train.columns[14]}} (positive)  "
   ]
  },
  {
   "cell_type": "markdown",
   "metadata": {
    "variables": {
     "train.columns[15]": {},
     "train.columns[3]": {},
     "train.columns[6]": {}
    }
   },
   "source": [
    "* Irrelevant  \n",
    "{{train.columns[3]}}  \n",
    "{{train.columns[6]}}  \n",
    "{{train.columns[15]}}"
   ]
  },
  {
   "cell_type": "code",
   "execution_count": null,
   "metadata": {},
   "outputs": [],
   "source": []
  }
 ],
 "metadata": {
  "kernelspec": {
   "display_name": "Python 3",
   "language": "python",
   "name": "python3"
  },
  "language_info": {
   "codemirror_mode": {
    "name": "ipython",
    "version": 3
   },
   "file_extension": ".py",
   "mimetype": "text/x-python",
   "name": "python",
   "nbconvert_exporter": "python",
   "pygments_lexer": "ipython3",
   "version": "3.5.3"
  },
  "toc": {
   "nav_menu": {},
   "number_sections": true,
   "sideBar": true,
   "skip_h1_title": false,
   "title_cell": "Table of Contents",
   "title_sidebar": "Contents",
   "toc_cell": false,
   "toc_position": {},
   "toc_section_display": true,
   "toc_window_display": false
  }
 },
 "nbformat": 4,
 "nbformat_minor": 2
}
